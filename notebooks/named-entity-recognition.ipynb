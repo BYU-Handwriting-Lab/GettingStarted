{
  "nbformat": 4,
  "nbformat_minor": 0,
  "metadata": {
    "colab": {
      "name": "notebook.ipynb",
      "provenance": [],
      "include_colab_link": true
    },
    "kernelspec": {
      "name": "python3",
      "display_name": "Python 3"
    },
    "accelerator": "GPU"
  },
  "cells": [
    {
      "cell_type": "markdown",
      "metadata": {
        "id": "view-in-github",
        "colab_type": "text"
      },
      "source": [
        "<a href=\"https://colab.research.google.com/github/BYU-Handwriting-Lab/GettingStarted/blob/egb/notebooks/named-entity-recognition.ipynb\" target=\"_parent\"><img src=\"https://colab.research.google.com/assets/colab-badge.svg\" alt=\"Open In Colab\"/></a>"
      ]
    },
    {
      "cell_type": "markdown",
      "metadata": {
        "id": "VPrUn5n6CwCJ",
        "colab_type": "text"
      },
      "source": [
        "# Named-Entity-Recognition in TensorFlow 2\n",
        "\n",
        "This notebook contains code to do Named Entity Reconition in TensorFlow 2."
      ]
    },
    {
      "cell_type": "markdown",
      "metadata": {
        "id": "Q1sGqnTaFtjd",
        "colab_type": "text"
      },
      "source": [
        "## Imports and Dependencies\n",
        "\n",
        "TensorFlow Addons apparently has an implementation of CRF that is compatible with TF2 and tf.keras."
      ]
    },
    {
      "cell_type": "code",
      "metadata": {
        "id": "_sKdrBf7C3zT",
        "colab_type": "code",
        "colab": {}
      },
      "source": [
        "# Used in Colab to say we're using Version 2\n",
        "try:\n",
        "  %tensorflow_version 2.x\n",
        "except Exception:\n",
        "  pass"
      ],
      "execution_count": 1,
      "outputs": []
    },
    {
      "cell_type": "code",
      "metadata": {
        "id": "YVmo3BuBCJ6n",
        "colab_type": "code",
        "colab": {}
      },
      "source": [
        "!pip install tf2crf"
      ],
      "execution_count": 4,
      "outputs": []
    },
    {
      "cell_type": "code",
      "metadata": {
        "id": "Uqb_PlgXtacm",
        "colab_type": "code",
        "colab": {}
      },
      "source": [
        "!pip install bert-for-tf2"
      ],
      "execution_count": null,
      "outputs": []
    },
    {
      "cell_type": "code",
      "metadata": {
        "id": "vq00R5VjDx_0",
        "colab_type": "code",
        "colab": {
          "base_uri": "https://localhost:8080/",
          "height": 367
        },
        "outputId": "5ecfece9-e089-4611-dd5b-b40375d8598a"
      },
      "source": [
        "# TensorFlow\n",
        "import tensorflow as tf\n",
        "import tensorflow_hub as hub\n",
        "import tensorflow_addons as tfa\n",
        "import tensorflow.keras as K\n",
        "import tensorflow.keras.layers as L\n",
        "from tensorflow.keras.regularizers import l2\n",
        "import bert\n",
        "\n",
        "# Python\n",
        "import os\n",
        "import string\n",
        "\n",
        "# Data Structures\n",
        "import numpy as np\n",
        "import pandas as pd\n",
        "import json\n",
        "\n",
        "# Image/Plotting\n",
        "from matplotlib import pyplot as plt\n",
        "from sklearn import metrics\n",
        "import seaborn as sns\n",
        "\n",
        "# Debugging\n",
        "from tqdm import tqdm\n",
        "from IPython.core.ultratb import AutoFormattedTB\n",
        "__ITB__ = AutoFormattedTB(mode='Plain', color_scheme='LightBg', tb_offset=1) # Change to 'Verbose' mode for additional debugging"
      ],
      "execution_count": 2,
      "outputs": [
        {
          "output_type": "error",
          "ename": "ModuleNotFoundError",
          "evalue": "ignored",
          "traceback": [
            "\u001b[0;31m---------------------------------------------------------------------------\u001b[0m",
            "\u001b[0;31mModuleNotFoundError\u001b[0m                       Traceback (most recent call last)",
            "\u001b[0;32m<ipython-input-2-0e7f2ec20bbb>\u001b[0m in \u001b[0;36m<module>\u001b[0;34m()\u001b[0m\n\u001b[1;32m      6\u001b[0m \u001b[0;32mimport\u001b[0m \u001b[0mtensorflow\u001b[0m\u001b[0;34m.\u001b[0m\u001b[0mkeras\u001b[0m\u001b[0;34m.\u001b[0m\u001b[0mlayers\u001b[0m \u001b[0;32mas\u001b[0m \u001b[0mL\u001b[0m\u001b[0;34m\u001b[0m\u001b[0;34m\u001b[0m\u001b[0m\n\u001b[1;32m      7\u001b[0m \u001b[0;32mfrom\u001b[0m \u001b[0mtensorflow\u001b[0m\u001b[0;34m.\u001b[0m\u001b[0mkeras\u001b[0m\u001b[0;34m.\u001b[0m\u001b[0mregularizers\u001b[0m \u001b[0;32mimport\u001b[0m \u001b[0ml2\u001b[0m\u001b[0;34m\u001b[0m\u001b[0;34m\u001b[0m\u001b[0m\n\u001b[0;32m----> 8\u001b[0;31m \u001b[0;32mimport\u001b[0m \u001b[0mbert\u001b[0m\u001b[0;34m\u001b[0m\u001b[0;34m\u001b[0m\u001b[0m\n\u001b[0m\u001b[1;32m      9\u001b[0m \u001b[0;34m\u001b[0m\u001b[0m\n\u001b[1;32m     10\u001b[0m \u001b[0;31m# Python\u001b[0m\u001b[0;34m\u001b[0m\u001b[0;34m\u001b[0m\u001b[0;34m\u001b[0m\u001b[0m\n",
            "\u001b[0;31mModuleNotFoundError\u001b[0m: No module named 'bert'",
            "",
            "\u001b[0;31m---------------------------------------------------------------------------\u001b[0;32m\nNOTE: If your import is failing due to a missing package, you can\nmanually install dependencies using either !pip or !apt.\n\nTo view examples of installing some common dependencies, click the\n\"Open Examples\" button below.\n\u001b[0;31m---------------------------------------------------------------------------\u001b[0m\n"
          ]
        }
      ]
    },
    {
      "cell_type": "code",
      "metadata": {
        "id": "aowidUPYPhto",
        "colab_type": "code",
        "colab": {}
      },
      "source": [
        "# Insert file path to Esposalles Dataset in your Google Drive\n",
        "# Note that '!' indicates a shell command rather than python code...\n",
        "\n",
        "!wget -q https://raw.githubusercontent.com/ericburdett/named-entity-recognition/master/char_set.json\n",
        "!wget -q https://raw.githubusercontent.com/ericburdett/named-entity-recognition/master/esposalles-labels.csv"
      ],
      "execution_count": null,
      "outputs": []
    },
    {
      "cell_type": "code",
      "metadata": {
        "id": "7GCrX5fb3mG-",
        "colab_type": "code",
        "colab": {}
      },
      "source": [
        "# ID: 1T2QLKZJ9E392vsbaHuXcdTvAhpbXLWtm\n",
        "!wget -q --load-cookies /tmp/cookies.txt \"https://docs.google.com/uc?export=download&confirm=$(wget --quiet --save-cookies /tmp/cookies.txt --keep-session-cookies --no-check-certificate 'https://docs.google.com/uc?export=download&id=1T2QLKZJ9E392vsbaHuXcdTvAhpbXLWtm' -O- | sed -rn 's/.*confirm=([0-9A-Za-z_]+).*/\\1\\n/p')&id=1T2QLKZJ9E392vsbaHuXcdTvAhpbXLWtm\" -O french_ner_dataset.csv && rm -rf /tmp/cookies.txt"
      ],
      "execution_count": null,
      "outputs": []
    },
    {
      "cell_type": "code",
      "metadata": {
        "id": "oZsQbvep399R",
        "colab_type": "code",
        "colab": {
          "base_uri": "https://localhost:8080/",
          "height": 102
        },
        "outputId": "88a81802-19cb-4ca4-ef4f-247dbf3f147b"
      },
      "source": [
        "!ls -l"
      ],
      "execution_count": 8,
      "outputs": [
        {
          "output_type": "stream",
          "text": [
            "total 2180\n",
            "-rw-r--r-- 1 root root    5212 Jul 21 19:25 char_set.json\n",
            "-rw-r--r-- 1 root root 1773710 Jul 21 19:25 esposalles-labels.csv\n",
            "-rw-r--r-- 1 root root  442182 Jul 21 19:25 french_ner_dataset.csv\n",
            "drwxr-xr-x 1 root root    4096 Jul 10 16:29 sample_data\n"
          ],
          "name": "stdout"
        }
      ]
    },
    {
      "cell_type": "markdown",
      "metadata": {
        "id": "B7IRJQe-G7Mw",
        "colab_type": "text"
      },
      "source": [
        "## Encoding Class\n",
        "\n",
        "The encoding class helps us map between strings and indexes."
      ]
    },
    {
      "cell_type": "code",
      "metadata": {
        "id": "zNpDzP01Dgij",
        "colab_type": "code",
        "colab": {}
      },
      "source": [
        "class Encoder():\n",
        "  def __init__(self, entity_list, sequence_size=20):\n",
        "    self.entity_dict = {e: i for i, e in enumerate(entity_list)}\n",
        "    self.idx_entity_dict = {v: k for k, v in self.entity_dict.items()}\n",
        "    self.sequence_size = sequence_size\n",
        "\n",
        "    with open('char_set.json') as file:\n",
        "      self.char_dict = json.load(file)\n",
        "    \n",
        "  def char_to_idx(self, char):\n",
        "    if char in self.char_dict['char_to_idx']:\n",
        "      return int(self.char_dict['char_to_idx'][char])\n",
        "    else:\n",
        "      return 0\n",
        "  \n",
        "  def idx_to_char(self, idx):\n",
        "    if str(int(idx)) in self.char_dict['idx_to_char']:\n",
        "      return self.char_dict['idx_to_char'][str(int(idx))]\n",
        "    else:\n",
        "      return ''\n",
        "  \n",
        "  def str_to_idxs(self, string):\n",
        "    assert type(string) == str\n",
        "\n",
        "    zeros = np.zeros(self.sequence_size)\n",
        "    idxs = []\n",
        "    for char in string:\n",
        "      idxs.append(self.char_to_idx(char))\n",
        "    \n",
        "    idxs = np.concatenate((idxs, zeros))[:self.sequence_size]\n",
        "\n",
        "    return idxs\n",
        "\n",
        "  def str_to_idxs_batch(self, batch):\n",
        "    idxs = []\n",
        "    for string in batch:\n",
        "      print('type:', type(string))\n",
        "      print('value:', string)\n",
        "      idxs.append(self.str_to_idxs(string))\n",
        "    return idxs\n",
        "  \n",
        "  def idxs_to_str(self, idxs):\n",
        "    chars = ''\n",
        "\n",
        "    for idx in idxs:\n",
        "      chars += self.idx_to_char(idx)\n",
        "    \n",
        "    return chars\n",
        "  \n",
        "  def entity_to_idx(self, entity):\n",
        "    return self.entity_dict[entity]\n",
        "  \n",
        "  def entity_to_idxs(self, entities):\n",
        "    idxs = []\n",
        "    for entity in entities:\n",
        "      idxs.append(self.entity_to_idx(entity))\n",
        "    return idxs\n",
        "  \n",
        "  def idx_to_entity(self, idx):\n",
        "    return self.idx_entity_dict[idx]\n",
        "\n",
        "  def num_classes(self):\n",
        "    return len(self.entity_dict)"
      ],
      "execution_count": 3,
      "outputs": []
    },
    {
      "cell_type": "markdown",
      "metadata": {
        "id": "QgdOgvr_F8-N",
        "colab_type": "text"
      },
      "source": [
        "## Generator Creation\n",
        "\n",
        "TensorFlow can use a Python Generator to access the dataset during training"
      ]
    },
    {
      "cell_type": "code",
      "metadata": {
        "id": "Fe-GEolpE2QM",
        "colab_type": "code",
        "colab": {}
      },
      "source": [
        "# TensorFlow uses Generators to access the dataset during training\n",
        "def esposalles_df(path='/content/esposalles-labels.csv'):\n",
        "  if not os.path.exists(path):\n",
        "    raise Exception('Esposalles dataset does not exist in ' + path)\n",
        "  \n",
        "  df = pd.read_csv(path, header=None, sep='\\t', names=['img', 'entity', 'rel-entity', 'word', 'id'])\n",
        "  df = df.drop(columns=['img'])\n",
        "\n",
        "  return df\n",
        "\n",
        "def dataset_df(path='/content/french_ner_dataset.csv'):\n",
        "  if not os.path.exists(path):\n",
        "    raise Exception('French dataset does not exist in ' + path)\n",
        "  \n",
        "  df = pd.read_csv(path, header=None, sep='\\t', names=['word', 'entity', 'id'])\n",
        "\n",
        "  df.loc[df['entity'] != 'Start', 'entity'] = 'none'\n",
        "\n",
        "  return df\n",
        "\n",
        "def encode_word_label(data, entity_type, encoder):\n",
        "  word = data['word']\n",
        "  encoded_word = encoder.str_to_idxs(str(word))\n",
        "  label = data[entity_type]\n",
        "  encoded_label = encoder.entity_to_idx(label)\n",
        "\n",
        "  return (encoded_word, encoded_label)\n",
        "\n",
        "def entity_list_from_df(df, value='entity'):\n",
        "  return list(set(df[value].values))\n",
        "\n",
        "def dataset_generator(word_tokenizer, dataset='french', entity_type='entity'): # options include 'entity' and 'rel-entity'\n",
        "  if dataset == 'french':\n",
        "    data = dataset_df()\n",
        "    df_size = data['id'].max()\n",
        "    range_var = range(1, df_size + 1)\n",
        "  else:\n",
        "    data = esposalles_df()\n",
        "    df_size = data['id'].max() + 1\n",
        "    range_var = range(df_size)\n",
        "\n",
        "  entity_list = entity_list_from_df(data, entity_type)\n",
        "  encoder = Encoder(entity_list)\n",
        "\n",
        "  for i in range_var:\n",
        "    ith_sentence_words = data.loc[data['id'] == i]\n",
        "\n",
        "    sentence_char_level = []\n",
        "    sentence_labels = []\n",
        "\n",
        "    unencoded_sentence = ''\n",
        "    for index, row in ith_sentence_words.iterrows():\n",
        "      if index != 0:\n",
        "        unencoded_sentence += ' '\n",
        "      unencoded_sentence += str(row['word'])\n",
        "\n",
        "      char_level_encoding = encoder.str_to_idxs(str(row['word']))\n",
        "      encoded_label = encoder.entity_to_idx(row['entity'])\n",
        "\n",
        "      sentence_char_level.append(char_level_encoding)\n",
        "      sentence_labels.append(encoded_label)\n",
        "    \n",
        "    word_level_encoding = word_tokenizer.convert_tokens_to_ids(word_tokenizer.tokenize(unencoded_sentence))\n",
        "    \n",
        "    yield tf.constant(np.array(sentence_char_level), dtype=tf.int64), tf.constant(np.array(word_level_encoding), dtype=tf.int64), tf.constant(np.array(sentence_labels), dtype=tf.int32)"
      ],
      "execution_count": 5,
      "outputs": []
    },
    {
      "cell_type": "code",
      "metadata": {
        "id": "ugXYDCmmRPoh",
        "colab_type": "code",
        "colab": {
          "base_uri": "https://localhost:8080/",
          "height": 231
        },
        "outputId": "08f5c9c9-7496-4600-8e34-a11d6bf4e71b"
      },
      "source": [
        "gen = dataset_generator_raw()\n",
        "for sentence, labels, in gen:\n",
        "  print(sentence)\n",
        "  print(labels)\n",
        "  break"
      ],
      "execution_count": 6,
      "outputs": [
        {
          "output_type": "error",
          "ename": "NameError",
          "evalue": "ignored",
          "traceback": [
            "\u001b[0;31m---------------------------------------------------------------------------\u001b[0m",
            "\u001b[0;31mNameError\u001b[0m                                 Traceback (most recent call last)",
            "\u001b[0;32m<ipython-input-6-9c197959a5eb>\u001b[0m in \u001b[0;36m<module>\u001b[0;34m()\u001b[0m\n\u001b[0;32m----> 1\u001b[0;31m \u001b[0mgen\u001b[0m \u001b[0;34m=\u001b[0m \u001b[0mdataset_generator_raw\u001b[0m\u001b[0;34m(\u001b[0m\u001b[0;34m)\u001b[0m\u001b[0;34m\u001b[0m\u001b[0;34m\u001b[0m\u001b[0m\n\u001b[0m\u001b[1;32m      2\u001b[0m \u001b[0;32mfor\u001b[0m \u001b[0msentence\u001b[0m\u001b[0;34m,\u001b[0m \u001b[0mlabels\u001b[0m\u001b[0;34m,\u001b[0m \u001b[0;32min\u001b[0m \u001b[0mgen\u001b[0m\u001b[0;34m:\u001b[0m\u001b[0;34m\u001b[0m\u001b[0;34m\u001b[0m\u001b[0m\n\u001b[1;32m      3\u001b[0m   \u001b[0mprint\u001b[0m\u001b[0;34m(\u001b[0m\u001b[0msentence\u001b[0m\u001b[0;34m)\u001b[0m\u001b[0;34m\u001b[0m\u001b[0;34m\u001b[0m\u001b[0m\n\u001b[1;32m      4\u001b[0m   \u001b[0mprint\u001b[0m\u001b[0;34m(\u001b[0m\u001b[0mlabels\u001b[0m\u001b[0;34m)\u001b[0m\u001b[0;34m\u001b[0m\u001b[0;34m\u001b[0m\u001b[0m\n\u001b[1;32m      5\u001b[0m   \u001b[0;32mbreak\u001b[0m\u001b[0;34m\u001b[0m\u001b[0;34m\u001b[0m\u001b[0m\n",
            "\u001b[0;31mNameError\u001b[0m: name 'dataset_generator_raw' is not defined"
          ]
        }
      ]
    },
    {
      "cell_type": "markdown",
      "metadata": {
        "id": "_5mgsr2oGPFh",
        "colab_type": "text"
      },
      "source": [
        "## Model Architecture\n",
        "\n",
        "This is where we can build our model using the tf.keras high-level API\n",
        "\n",
        "We subclass from tf.keras.Model and implement the *call* method. This is the *forward pass* of the neural network."
      ]
    },
    {
      "cell_type": "code",
      "metadata": {
        "id": "TilTpZN_aUw6",
        "colab_type": "code",
        "colab": {}
      },
      "source": [
        "class ResidualBlock(K.Model):\n",
        "  def __init__(self, filters, activation=L.ReLU, dropout_rate=0.2):\n",
        "    super(ResidualBlock, self).__init__()\n",
        "\n",
        "    self.filters = filters\n",
        "    self.act_final = activation()\n",
        "\n",
        "    self.shortcut = L.Conv2D(filters, kernel_size=(1, 1), use_bias=False)\n",
        "\n",
        "    self.conv = tf.keras.Sequential()\n",
        "    self.conv.add(L.Conv2D(filters, kernel_size=(3, 3), padding='same'))\n",
        "    self.conv.add(L.BatchNormalization(renorm=True))\n",
        "    self.conv.add(activation())\n",
        "    if dropout_rate is not None and dropout_rate != 0.0:\n",
        "      self.conv.add(L.Dropout(dropout_rate))\n",
        "\n",
        "    self.conv.add(L.Conv2D(filters, kernel_size=(3, 3), padding='same'))\n",
        "    self.conv.add(L.BatchNormalization(renorm=True))\n",
        "    self.conv.add(activation())\n",
        "    if dropout_rate is not None and dropout_rate != 0.0:\n",
        "      self.conv.add(L.Dropout(dropout_rate))\n",
        "\n",
        "    self.conv.add(L.Conv2D(filters, kernel_size=(3, 3), padding='same'))\n",
        "    self.conv.add(L.BatchNormalization(renorm=True))\n",
        "    self.conv.add(activation())\n",
        "    if dropout_rate is not None and dropout_rate != 0.0:\n",
        "      self.conv.add(L.Dropout(dropout_rate))\n",
        "\n",
        "    self.conv4 = L.Conv2D(filters, kernel_size=(3, 3), padding='same')\n",
        "\n",
        "  def call(self, x, **kwargs):\n",
        "    # Add shortcut if necessary\n",
        "    if x.shape[-1] != self.filters: # Channel Dimension\n",
        "      x = self.shortcut(x)\n",
        "\n",
        "    # Send through the conv block \n",
        "    out = self.conv(x, **kwargs)\n",
        "\n",
        "    # Element-Wise Addition\n",
        "    out = tf.math.add(out, x)\n",
        "\n",
        "    # Final Activation\n",
        "    out = self.act_final(out)\n",
        "\n",
        "    return out"
      ],
      "execution_count": 11,
      "outputs": []
    },
    {
      "cell_type": "code",
      "metadata": {
        "id": "WnWNq7sGDY11",
        "colab_type": "code",
        "colab": {}
      },
      "source": [
        "class ConditionalRandomField(K.Model):\n",
        "  def __init__(self, **kwargs):\n",
        "    super(ConditionalRandomField, self).__init__(**kwargs)\n",
        "\n",
        "  def build(self, input_shape):\n",
        "    output_dim = input_shape[-1]\n",
        "    self.output_dim = output_dim\n",
        "    assert(len(input_shape)) == 3\n",
        "    self.transitions = self.add_weight(\n",
        "        name=\"transitions\",\n",
        "        shape=[output_dim, output_dim],\n",
        "        initializer=\"glorot_uniform\",\n",
        "        trainable=True\n",
        "    )\n",
        "\n",
        "  def call(self, x, training=False, **kwargs):\n",
        "    self.sequence_lengths = tf.reduce_sum(tf.ones_like(x[:,:,0], dtype='int64'), axis=-1)\n",
        "\n",
        "    if training == False:\n",
        "      return self.decode(x)\n",
        "    else:\n",
        "      return x\n",
        "\n",
        "  def decode(self, x):\n",
        "    out, _ = tfa.text.crf_decode(x, self.transitions, self.sequence_lengths)\n",
        "    out = tf.one_hot(out, x.shape[-1])\n",
        "\n",
        "    return out\n",
        "\n",
        "  def loss(self, y_true, y_pred):\n",
        "    if len(y_true.shape) == 1:\n",
        "      y_true = tf.expand_dims(y_true, 0)\n",
        "    \n",
        "    if len(y_pred.shape) == 2:\n",
        "      y_pred = tf.expand_dims(y_pred, 0)\n",
        "\n",
        "    log_likelihood, self.transitions = tfa.text.crf_log_likelihood(\n",
        "        y_pred,\n",
        "        y_true,\n",
        "        self.sequence_lengths,\n",
        "        transition_params=self.transitions\n",
        "    )\n",
        "    return tf.reduce_mean(-log_likelihood)\n",
        "\n",
        "  def compute_output_shape(self, input_shape):\n",
        "    return input_shape[:2] + (self.out_dim,)\n",
        "\n",
        "  def accuracy(self, y_true, y_pred):\n",
        "    y_pred, _ = tfa.text.crf_decode(\n",
        "        y_pred, self.transitions, self.sequence_lengths\n",
        "    )\n",
        "    y_true = tf.cast(y_true, dtype=y_pred.dtype)\n",
        "    is_equal = tf.cast(tf.equal(y_true, y_pred), dtype=tf.float32)\n",
        "    \n",
        "    return tf.reduce_mean(is_equal)"
      ],
      "execution_count": 75,
      "outputs": []
    },
    {
      "cell_type": "code",
      "metadata": {
        "id": "uR8lwS8mIWlS",
        "colab_type": "code",
        "colab": {
          "base_uri": "https://localhost:8080/",
          "height": 119
        },
        "outputId": "2aec85d2-8f20-4ec4-e03e-6eb4be48c16d"
      },
      "source": [
        "crf = ConditionalRandomField()\n",
        "\n",
        "x = tf.constant(np.random.randn(1, 100, 6), dtype=tf.float32)\n",
        "\n",
        "out = crf(x, training=False)\n",
        "inference = tf.argmax(tf.squeeze(out), axis=1)\n",
        "print(inference)\n",
        "\n",
        "out = crf(x, training=True)\n",
        "acc = crf.accuracy(inference, out)\n",
        "print(acc)\n",
        "\n",
        "loss = crf.loss(inference, out)\n",
        "print(loss)"
      ],
      "execution_count": 13,
      "outputs": [
        {
          "output_type": "stream",
          "text": [
            "tf.Tensor(\n",
            "[5 0 3 2 2 5 5 5 3 1 0 5 0 5 0 5 4 2 5 1 0 5 1 5 5 5 1 2 3 2 3 2 3 4 0 0 5\n",
            " 5 5 1 2 5 0 5 5 1 2 0 0 3 2 2 4 0 5 4 0 4 1 5 0 0 3 1 4 2 2 3 4 1 0 5 4 1\n",
            " 1 2 5 1 2 1 5 4 1 2 3 1 4 2 2 2 5 1 2 3 2 3 2 1 2 3], shape=(100,), dtype=int64)\n",
            "tf.Tensor(1.0, shape=(), dtype=float32)\n",
            "tf.Tensor(80.677795, shape=(), dtype=float32)\n"
          ],
          "name": "stdout"
        }
      ]
    },
    {
      "cell_type": "code",
      "metadata": {
        "id": "u4SHBatO-hyk",
        "colab_type": "code",
        "colab": {}
      },
      "source": [
        ""
      ],
      "execution_count": null,
      "outputs": []
    },
    {
      "cell_type": "code",
      "metadata": {
        "id": "ZLnfFW8B-R9v",
        "colab_type": "code",
        "colab": {}
      },
      "source": [
        "import bert"
      ],
      "execution_count": 9,
      "outputs": []
    },
    {
      "cell_type": "code",
      "metadata": {
        "id": "XQIfEA6o5Pjk",
        "colab_type": "code",
        "colab": {}
      },
      "source": [
        "bert_layer = hub.KerasLayer('https://tfhub.dev/tensorflow/bert_multi_cased_L-12_H-768_A-12/2', trainable=True)\n",
        "vocab_file = bert_layer.resolved_object.vocab_file.asset_path.numpy()\n",
        "do_lower_case = bert_layer.resolved_object.do_lower_case.numpy()\n",
        "bert_tokenizer = bert.bert_tokenization.FullTokenizer(vocab_file, do_lower_case)"
      ],
      "execution_count": 56,
      "outputs": []
    },
    {
      "cell_type": "code",
      "metadata": {
        "id": "YZK_rgMWAcVj",
        "colab_type": "code",
        "colab": {
          "base_uri": "https://localhost:8080/",
          "height": 34
        },
        "outputId": "a76d5ba3-4d39-4f03-9f81-fa955d2656f7"
      },
      "source": [
        "bert_tokenizer.convert_tokens_to_ids(bert_tokenizer.tokenize(\"hello world\"))"
      ],
      "execution_count": 49,
      "outputs": [
        {
          "output_type": "execute_result",
          "data": {
            "text/plain": [
              "[61694, 10133, 11356]"
            ]
          },
          "metadata": {
            "tags": []
          },
          "execution_count": 49
        }
      ]
    },
    {
      "cell_type": "code",
      "metadata": {
        "id": "yCzKBdhl_BFC",
        "colab_type": "code",
        "colab": {
          "base_uri": "https://localhost:8080/",
          "height": 34
        },
        "outputId": "a26bd9c5-b268-40e3-db33-864736b1a1ae"
      },
      "source": [
        "bert_tokenizer.convert_tokens_to_ids('helloworld')"
      ],
      "execution_count": 47,
      "outputs": [
        {
          "output_type": "execute_result",
          "data": {
            "text/plain": [
              "[176, 173, 180, 180, 183, 191, 183, 186, 180, 172]"
            ]
          },
          "metadata": {
            "tags": []
          },
          "execution_count": 47
        }
      ]
    },
    {
      "cell_type": "code",
      "metadata": {
        "id": "tCtGmXkTBc-w",
        "colab_type": "code",
        "colab": {
          "base_uri": "https://localhost:8080/",
          "height": 68
        },
        "outputId": "5fd49d94-9ca8-4b0b-c3f6-e7c650e35acc"
      },
      "source": [
        "max_seq_length = 128\n",
        "input_word_ids = tf.keras.layers.Input(shape=(max_seq_length,), dtype=tf.int32, name=\"input_word_ids\")\n",
        "input_mask = tf.keras.layers.Input(shape=(max_seq_length,), dtype=tf.int32, name=\"input_mask\")\n",
        "segment_ids = tf.keras.layers.Input(shape=(max_seq_length,), dtype=tf.int32, name=\"segment_ids\")\n",
        "bert_layer = hub.KerasLayer(\"https://tfhub.dev/tensorflow/bert_multi_cased_L-12_H-768_A-12/2\", trainable=True)\n",
        "pooled_output, sequence_output = bert_layer([input_word_ids, input_mask, segment_ids])\n",
        "print(input_word_ids.shape)\n",
        "print(input_mask.shape)\n",
        "print(segment_ids.shape)"
      ],
      "execution_count": 69,
      "outputs": [
        {
          "output_type": "stream",
          "text": [
            "(None, 128)\n",
            "(None, 128)\n",
            "(None, 128)\n"
          ],
          "name": "stdout"
        }
      ]
    },
    {
      "cell_type": "code",
      "metadata": {
        "id": "odQnI78jA4Xr",
        "colab_type": "code",
        "colab": {
          "base_uri": "https://localhost:8080/",
          "height": 34
        },
        "outputId": "a19cb94c-002d-4d52-f87b-f3b8a9f9be22"
      },
      "source": [
        "ids = bert_tokenizer.convert_tokens_to_ids(bert_tokenizer.tokenize('hello world'))\n",
        "_, output = bert_layer([tf.expand_dims(tf.constant(ids, dtype=tf.int32), 0), tf.expand_dims(tf.ones(3, dtype=tf.int32), 0), tf.expand_dims(tf.zeros(3, dtype=tf.int32), 0)])\n",
        "output\n",
        "print(ids)\n",
        "#bert_tokenizer.convert_tokens_to_ids"
      ],
      "execution_count": 190,
      "outputs": [
        {
          "output_type": "stream",
          "text": [
            "[61694, 10133, 11356]\n"
          ],
          "name": "stdout"
        }
      ]
    },
    {
      "cell_type": "code",
      "metadata": {
        "id": "prUzBWP0NxSv",
        "colab_type": "code",
        "colab": {}
      },
      "source": [
        "a = np.random.randn(41, 780)\n",
        "b = np.random.randn(41, 768)\n",
        "tf.concat((a,b), axis=1)"
      ],
      "execution_count": null,
      "outputs": []
    },
    {
      "cell_type": "code",
      "metadata": {
        "id": "PKXklX-gGYD_",
        "colab_type": "code",
        "colab": {}
      },
      "source": [
        "class NERModel(K.Model):\n",
        "  def __init__(self, input_dim=197, num_classes=6, input_length=20, max_sequence_length=250):\n",
        "    super(NERModel, self).__init__()\n",
        "\n",
        "    self.max_sequence_length = max_sequence_length\n",
        "\n",
        "    self.char_embedding = L.Embedding(input_dim=input_dim, output_dim=128, input_length=input_length)\n",
        "\n",
        "    self.conv1 = L.Conv2D(32, 3, padding='same', activation='relu')\n",
        "    self.conv2 = L.Conv2D(38, 3, padding='same', activation='relu')\n",
        "\n",
        "    self.word_embedding = hub.KerasLayer(\"https://tfhub.dev/tensorflow/bert_multi_cased_L-12_H-768_A-12/2\", trainable=True)\n",
        "\n",
        "    self.lstm = L.Bidirectional(L.LSTM(512, dropout=0.2, return_sequences=True, return_state=True))\n",
        "\n",
        "    self.fc1 = L.Dense(512, activation='relu')\n",
        "    self.drop = L.Dropout(0.5)\n",
        "    self.fc2 = L.Dense(num_classes)\n",
        "\n",
        "    # self.crf = ConditionalRandomField()\n",
        "    self.softmax = L.Softmax()\n",
        "  \n",
        "  def get_tokenizer(self):\n",
        "    vocab_file = self.word_embedding.resolved_object.vocab_file.asset_path.numpy()\n",
        "    do_lower_case = self.word_embedding.resolved_object.do_lower_case.numpy()\n",
        "    return bert.bert_tokenization.FullTokenizer(vocab_file, do_lower_case)\n",
        "\n",
        "  # def loss(self, y_true, y_pred):\n",
        "    # return self.crf.loss(y_true, y_pred)\n",
        "  \n",
        "  # def accuracy(self, y_true, y_pred):\n",
        "    # return self.crf.accuracy(y_true, y_pred)\n",
        "  \n",
        "  # def decode(self, y_pred):\n",
        "    # return self.crf.decode(y_pred)\n",
        "  \n",
        "  def pad_sequence(self, sequence):\n",
        "    padded_sequence = tf.keras.preprocessing.sequence.pad_sequences(sequence, maxlen=self.max_sequence_length, padding='post')\n",
        "    mask = tf.keras.preprocessing.sequence.pad_sequences(tf.ones((1, sequence.shape[1])), maxlen=self.max_sequence_length, padding='post')\n",
        "    return padded_sequence, mask\n",
        "\n",
        "  def __call__(self, x1, x2, initial_state=None, training=False, **kwargs):\n",
        "    x1, _ = self.pad_sequence(tf.expand_dims(x1, 0))\n",
        "    x2, mask = self.pad_sequence(tf.expand_dims(x2, 0))\n",
        "    # mask = tf.expand_dims(tf.ones(x2.shape[0]), 0)\n",
        "\n",
        "    out = self.char_embedding(x1)  # x1: ids by character\n",
        "\n",
        "    out = self.conv1(out)\n",
        "    out = self.conv2(out)\n",
        "    out = tf.reshape(out, [out.shape[0], out.shape[1], out.shape[2] * out.shape[3]])\n",
        "\n",
        "    _, word_out = self.word_embedding([x2, mask, mask])\n",
        "\n",
        "    out = tf.concat((out, word_out), axis=2)\n",
        "\n",
        "    out = self.lstm(out, initial_state=initial_state)\n",
        "    state = out[1:]\n",
        "    out = out[0]\n",
        "\n",
        "    out = self.fc1(out)\n",
        "    out = self.drop(out)\n",
        "    out = self.fc2(out)\n",
        "\n",
        "    out = self.softmax(out)\n",
        "\n",
        "    # out = self.crf(out, training=training)\n",
        "\n",
        "    return out, state"
      ],
      "execution_count": 9,
      "outputs": []
    },
    {
      "cell_type": "markdown",
      "metadata": {
        "id": "GzvxSgFXNZJK",
        "colab_type": "text"
      },
      "source": [
        "### Test to make sure the model is doing what we think it is...\n",
        "\n",
        "The output shape should be (NUM_WORDS_IN_SENTENCE, NUM_CLASSES). Example: (41, 6)\n",
        "\n",
        "The values along Axis=0 represents a word\n",
        "\n",
        "The values along Axis=1 represents the probability distribution"
      ]
    },
    {
      "cell_type": "code",
      "metadata": {
        "id": "uzBsYVZjNdNv",
        "colab_type": "code",
        "colab": {
          "base_uri": "https://localhost:8080/",
          "height": 170
        },
        "outputId": "ff641035-65cb-4ad9-fc36-4b702f112e5f"
      },
      "source": [
        "model = NERModel(num_classes=21)\n",
        "\n",
        "generator = dataset_generator(model.get_tokenizer(), dataset='french')\n",
        "char_sentence, word_sentence, labels = next(generator)\n",
        "\n",
        "print(char_sentence.shape)\n",
        "print(word_sentence.shape)\n",
        "print(labels.shape)\n",
        "\n",
        "results, _ = model(char_sentence, word_sentence, training=False)\n",
        "results = tf.squeeze(results)[:labels.shape[0], :]\n",
        "print('Shape of output from NER Model: ', results.shape)\n",
        "print('Predicted classes for the sequence: ', tf.argmax(results, axis=1).numpy())\n",
        "# print('Loss: ', model.loss(labels, results))\n",
        "# print('Accuracy: ', model.accuracy(labels, results))"
      ],
      "execution_count": 27,
      "outputs": [
        {
          "output_type": "stream",
          "text": [
            "(109, 20)\n",
            "(197,)\n",
            "(109,)\n",
            "Shape of output from NER Model:  (109, 21)\n",
            "Predicted classes for the sequence:  [13 13 13 13 13 13 13 13 13 13 13 13 13  4  4  4  4  4  4  4  6  4  4 11\n",
            "  4  6  6  6  6  6  6 12 12 12 12  6 13 13 13  6  6 19  6  6  6 12  6 12\n",
            " 12 12 12 12 12 12  6  6  6  6 12  6  6  6  6 12 13 12 13 13 12 12 12  4\n",
            "  4  4  4 12  4 13 13 13 13 13 13 13 13 13 13 13 13  4 11 13  0  0 11 11\n",
            " 11  6 12  6 13 13 12 12 11 11 11  4 11]\n"
          ],
          "name": "stdout"
        }
      ]
    },
    {
      "cell_type": "markdown",
      "metadata": {
        "id": "9isM9-2-qzQA",
        "colab_type": "text"
      },
      "source": [
        "## Evaluation Metrics\n",
        "\n",
        "For named-entity-recognition, we will use Precision, Recall, and F1 for our\n",
        "metrics. An easy way to do this is using sklearn metrics. We need to define\n",
        "custom functions so that we can pass the *average* parameter when it's wrapped\n",
        "in a *tf.py_function*."
      ]
    },
    {
      "cell_type": "code",
      "metadata": {
        "id": "B7MASql6evPg",
        "colab_type": "code",
        "colab": {}
      },
      "source": [
        "def precision_score(y_true, y_pred):\n",
        "  return metrics.precision_score(y_true, y_pred, average='macro')\n",
        "\n",
        "def recall_score(y_true, y_pred):\n",
        "  return metrics.recall_score(y_true, y_pred, average='macro')\n",
        "\n",
        "def f1_score(y_true, y_pred):\n",
        "  return metrics.f1_score(y_true, y_pred, average='macro')"
      ],
      "execution_count": 6,
      "outputs": []
    },
    {
      "cell_type": "markdown",
      "metadata": {
        "id": "eo6dYjU7HGxv",
        "colab_type": "text"
      },
      "source": [
        "## Training Loop\n",
        "\n",
        "Build our training loop and creating custom train_step and val_step functions.\n",
        "\n",
        "GradientTape allows us to keep track of the losses and gradients for each pass through the network. Structuring our code this way makes it much easier for debugging purposes and for us to iterate through our design.\n",
        "\n",
        "Notice the decorator *@tf.function*. This tells TensorFlow to create the computation graph from the python code and allows our model to run much faster. The *experimental_relax_shapes* parameter allows us to pass tensors with various sentence lengths without TensorFlow getting upset at us.\n",
        "\n",
        "TensorFlow 2 also does some weird things with scope when it constructs the computation graph through a @tf.function annotation. Thus, if we use a more object oriented approach, we can avoid some of the nasty scope issues. See the following articles for more details:\n",
        "* https://pgaleone.eu/tensorflow/tf.function/2019/03/21/dissecting-tf-function-part-1/\n",
        "* https://pgaleone.eu/tensorflow/tf.function/2019/04/03/dissecting-tf-function-part-2/\n"
      ]
    },
    {
      "cell_type": "code",
      "metadata": {
        "id": "yJKYEv0JVPoG",
        "colab_type": "code",
        "colab": {}
      },
      "source": [
        "class Train:\n",
        "  def __init__(self, epochs=15):\n",
        "    # How many times through the training set should we go?\n",
        "    self.epochs = epochs\n",
        "    self.batch_size = 128\n",
        "\n",
        "    # Create our model\n",
        "    self.model = NERModel(num_classes=21)\n",
        "    self.state = None\n",
        "\n",
        "    df = dataset_df()\n",
        "\n",
        "    # Determine sizes for training and validation sets\n",
        "    dataset_size = df['id'].max()\n",
        "    self.train_dataset_size = int(.8 * dataset_size)\n",
        "    self.val_dataset_size = dataset_size - self.train_dataset_size\n",
        "\n",
        "    # Break up dataset into training/validation\n",
        "    dataset = tf.data.Dataset.from_generator(\n",
        "        lambda: dataset_generator(self.model.get_tokenizer(), dataset='french'),\n",
        "        (tf.int64, tf.int64, tf.int32),\n",
        "        (tf.TensorShape([None, 20]), tf.TensorShape([None]), tf.TensorShape([None])))\n",
        "    self.train_dataset = dataset.take(self.train_dataset_size)\\\n",
        "                                .shuffle(self.train_dataset_size, reshuffle_each_iteration=True)\\\n",
        "                                # .flat_map(lambda x1, x2, entities: tf.data.Dataset.from_tensor_slices((x1, x2, entities)))\\\n",
        "                                # .batch(self.batch_size, drop_remainder=True)\n",
        "    self.val_dataset = dataset.skip(self.train_dataset_size)\\\n",
        "                              .shuffle(self.val_dataset_size, reshuffle_each_iteration=True)\\\n",
        "                              # .flat_map(lambda x1, x2, entities: tf.data.Dataset.from_tensor_slices((x1, x2, entities)))\\\n",
        "                              # .batch(self.batch_size, drop_remainder=True)\n",
        "\n",
        "    # self.train_dataset_size = df.loc[df['id'] == self.train_dataset_size].index.max()\n",
        "    # self.val_dataset_size = len(df) - self.train_dataset_size\n",
        "\n",
        "    # self.train_dataset_size //= self.batch_size\n",
        "    # self.val_dataset_size //= self.batch_size\n",
        "\n",
        "    # Use CrossEntropy for our loss function and Adam for our optimizer\n",
        "    # self.loss_fn = K.losses.SparseCategoricalCrossentropy(from_logits=False)\n",
        "    self.loss_fn = K.losses.CategoricalCrossentropy(from_logits=False, label_smoothing=0.1)\n",
        "    self.optimizer = K.optimizers.Adam(learning_rate=1e-3)\n",
        "\n",
        "    # Metrics to track our performance\n",
        "    # Consider adding metrics like Precision/Recall here...\n",
        "    self.train_loss = tf.keras.metrics.Mean(name='train_loss')\n",
        "    self.train_precision = tf.keras.metrics.Mean(name='train_precision')\n",
        "    self.train_recall = tf.keras.metrics.Mean(name='train_recall')\n",
        "    self.train_f1 = tf.keras.metrics.Mean(name='train_f1')\n",
        "    self.val_loss = tf.keras.metrics.Mean(name='val_loss')\n",
        "    self.val_precision = tf.keras.metrics.Mean(name='val_precision')\n",
        "    self.val_recall = tf.keras.metrics.Mean(name='val_recall')\n",
        "    self.val_f1 = tf.keras.metrics.Mean(name='val_f1')\n",
        "\n",
        "  # @tf.function(experimental_relax_shapes=True)\n",
        "  def train_step(self, char_rep, word_rep, labels, ones):\n",
        "    with tf.GradientTape() as tape:\n",
        "      # Make a prediction, calculate the loss\n",
        "      predictions, _ = self.model(char_rep, word_rep, training=True, initial_state=self.state)\n",
        "      predictions = tf.squeeze(predictions, 0)[:labels.shape[0], :]\n",
        "      if labels.shape[0] != predictions.shape[0]:\n",
        "        labels = labels[:predictions.shape[0]]\n",
        "      # loss = self.model.loss(labels, predictions)\n",
        "      loss = self.loss_fn(tf.one_hot(tf.cast(labels, tf.int32), 21), predictions)\n",
        "\n",
        "    # Obtain gradients from GradientTape\n",
        "    gradients = tape.gradient(loss, self.model.trainable_variables)\n",
        "\n",
        "    # Propagate loss back through the network and take a step with the optimizer  \n",
        "    self.optimizer.apply_gradients(zip(gradients, self.model.trainable_variables))\n",
        "\n",
        "    # Update our metrics\n",
        "    # results = self.model.decode(predictions)\n",
        "    results = tf.argmax(predictions, axis=1)\n",
        "    precision = tf.py_function(precision_score, [labels, results], Tout=[tf.float32])\n",
        "    recall = tf.py_function(recall_score, [labels, results], Tout=[tf.float32])\n",
        "    f1 = tf.py_function(f1_score, [labels, results], Tout=[tf.float32])\n",
        "\n",
        "    self.train_loss(loss)\n",
        "    self.train_precision(precision)\n",
        "    self.train_recall(recall)\n",
        "    self.train_f1(f1)\n",
        "\n",
        "  # @tf.function(experimental_relax_shapes=True)\n",
        "  def validation_step(self, char_rep, word_rep, labels, ones):\n",
        "    # Make a prediction and calculate the loss\n",
        "    predictions, _ = self.model(char_rep, word_rep, training=False, initial_state=self.state)\n",
        "    predictions = tf.squeeze(predictions, 0)[:labels.shape[0], :]\n",
        "    if labels.shape[0] != predictions.shape[0]:\n",
        "      labels = labels[:predictions.shape[0]]\n",
        "    # loss = self.model.loss(labels, predictions)\n",
        "    loss = self.loss_fn(tf.one_hot(tf.cast(labels, tf.int32), 21), predictions)\n",
        "\n",
        "    # Update our metrics\n",
        "    results = tf.argmax(predictions, axis=1)\n",
        "    precision = tf.py_function(precision_score, [labels, results], Tout=[tf.float32])\n",
        "    recall = tf.py_function(recall_score, [labels, results], Tout=[tf.float32])\n",
        "    f1 = tf.py_function(f1_score, [labels, results], Tout=[tf.float32])\n",
        "\n",
        "    self.val_loss(loss)\n",
        "    self.val_precision(precision)\n",
        "    self.val_recall(recall)\n",
        "    self.val_f1(f1)\n",
        "\n",
        "  def __call__(self):\n",
        "    # Variables to keep track of our progress through the entire training process\n",
        "    # Used below when we create our graphs\n",
        "    try:\n",
        "      train_losses, val_losses = [], []\n",
        "      train_precisions, val_precisions = [], []\n",
        "      train_recalls, val_recalls = [], []\n",
        "      train_f1s, val_f1s = [], []\n",
        "\n",
        "      for epoch in range(self.epochs):\n",
        "        # Reset Metrics for another epoch\n",
        "        self.train_loss.reset_states()\n",
        "        self.train_precision.reset_states()\n",
        "        self.train_recall.reset_states()\n",
        "        self.train_f1.reset_states()\n",
        "        self.val_loss.reset_states()\n",
        "        self.val_precision.reset_states()\n",
        "        self.val_recall.reset_states()\n",
        "        self.val_f1.reset_states()\n",
        "\n",
        "        # Training Loop\n",
        "        train_loop = tqdm(total=self.train_dataset_size, position=0, leave=True)\n",
        "        self.state = None\n",
        "        for char_rep, word_rep, labels in self.train_dataset:\n",
        "          # One training iteration\n",
        "          self.train_step(char_rep, word_rep, labels, tf.ones(labels.shape[0], dtype=tf.int32))\n",
        "          train_loop.set_description('Train - Epoch: {}, Loss: {:.4f}, Precision: {:.4f}, Recall: {:.4f}, F1: {:.4f}'.format(\n",
        "              epoch, self.train_loss.result(), self.train_precision.result(), self.train_recall.result(), self.train_f1.result()))\n",
        "          train_loop.update(1)\n",
        "\n",
        "        train_loop.close()\n",
        "\n",
        "        # Validation Loop\n",
        "        val_loop = tqdm(total=self.val_dataset_size, position=0, leave=True)\n",
        "        self.state = None\n",
        "        for char_rep, word_rep, labels in self.val_dataset:\n",
        "          # One validation iteration\n",
        "          self.validation_step(char_rep, word_rep, labels, tf.ones(labels.shape[0], dtype=tf.int32))\n",
        "          val_loop.set_description('Val  - Epoch: {}, Loss: {:.4f}, Precision: {:.4f}, Recall: {:.4f}, F1: {:.4f}'.format(\n",
        "              epoch, self.val_loss.result(), self.val_precision.result(), self.val_recall.result(), self.val_f1.result()))\n",
        "          val_loop.update(1)\n",
        " \n",
        "        val_loop.close()\n",
        "\n",
        "        train_losses.append(self.train_loss.result())\n",
        "        val_losses.append(self.val_loss.result())\n",
        "\n",
        "        train_precisions.append(self.train_precision.result())\n",
        "        val_precisions.append(self.val_precision.result())\n",
        "\n",
        "        train_recalls.append(self.train_recall.result())\n",
        "        val_recalls.append(self.val_recall.result())\n",
        "\n",
        "        train_f1s.append(self.train_f1.result())\n",
        "        val_f1s.append(self.val_f1.result())\n",
        "    except:\n",
        "      __ITB__()\n",
        "    finally:\n",
        "      return self.model, (train_losses, val_losses), (train_precisions, val_precisions), (train_recalls, val_recalls), (train_f1s, val_f1s)"
      ],
      "execution_count": 10,
      "outputs": []
    },
    {
      "cell_type": "code",
      "metadata": {
        "id": "sSrAZsyHX3VL",
        "colab_type": "code",
        "colab": {
          "base_uri": "https://localhost:8080/",
          "height": 904
        },
        "outputId": "0bfbb194-98c6-4669-ffd9-b0e8450cbfd1"
      },
      "source": [
        "try:\n",
        "  train = Train(epochs=100)\n",
        "  model, losses, precisions, recalls, f1s = train()\n",
        "except:\n",
        "  __ITB__()"
      ],
      "execution_count": 11,
      "outputs": [
        {
          "output_type": "stream",
          "text": [
            "  0%|          | 0/174 [00:00<?, ?it/s]/usr/local/lib/python3.6/dist-packages/sklearn/metrics/_classification.py:1272: UndefinedMetricWarning: Precision is ill-defined and being set to 0.0 in labels with no predicted samples. Use `zero_division` parameter to control this behavior.\n",
            "  _warn_prf(average, modifier, msg_start, len(result))\n",
            "/usr/local/lib/python3.6/dist-packages/sklearn/metrics/_classification.py:1272: UndefinedMetricWarning: Recall is ill-defined and being set to 0.0 in labels with no true samples. Use `zero_division` parameter to control this behavior.\n",
            "  _warn_prf(average, modifier, msg_start, len(result))\n",
            "Train - Epoch: 0, Loss: 1.3258, Precision: 0.1916, Recall: 0.2154, F1: 0.1974: 100%|██████████| 174/174 [00:49<00:00,  3.49it/s]\n",
            "Val  - Epoch: 0, Loss: 0.9900, Precision: 0.2144, Recall: 0.2220, F1: 0.2176: 100%|██████████| 44/44 [00:07<00:00,  5.80it/s]\n",
            "Train - Epoch: 1, Loss: 0.9472, Precision: 0.4204, Recall: 0.4322, F1: 0.4160: 100%|██████████| 174/174 [00:40<00:00,  4.33it/s]\n",
            "Val  - Epoch: 1, Loss: 1.0163, Precision: 0.2439, Recall: 0.2422, F1: 0.2399: 100%|██████████| 44/44 [00:07<00:00,  6.14it/s]\n",
            "Train - Epoch: 2, Loss: 0.8264, Precision: 0.6081, Recall: 0.6016, F1: 0.5946: 100%|██████████| 174/174 [00:39<00:00,  4.38it/s]\n",
            "Val  - Epoch: 2, Loss: 0.9726, Precision: 0.2701, Recall: 0.3114, F1: 0.2802: 100%|██████████| 44/44 [00:07<00:00,  6.08it/s]\n",
            "Train - Epoch: 3, Loss: 0.7719, Precision: 0.6864, Recall: 0.6773, F1: 0.6719: 100%|██████████| 174/174 [00:39<00:00,  4.36it/s]\n",
            "Val  - Epoch: 3, Loss: 0.9099, Precision: 0.3448, Recall: 0.3544, F1: 0.3344: 100%|██████████| 44/44 [00:07<00:00,  6.14it/s]\n",
            "Train - Epoch: 4, Loss: 0.7467, Precision: 0.7525, Recall: 0.7385, F1: 0.7341: 100%|██████████| 174/174 [00:40<00:00,  4.33it/s]\n",
            "Val  - Epoch: 4, Loss: 0.9334, Precision: 0.4198, Recall: 0.3966, F1: 0.3954: 100%|██████████| 44/44 [00:07<00:00,  6.18it/s]\n",
            "Train - Epoch: 5, Loss: 0.7205, Precision: 0.7844, Recall: 0.7732, F1: 0.7690: 100%|██████████| 174/174 [00:39<00:00,  4.36it/s]\n",
            "Val  - Epoch: 5, Loss: 0.8877, Precision: 0.4644, Recall: 0.4759, F1: 0.4549: 100%|██████████| 44/44 [00:07<00:00,  6.21it/s]\n",
            "Train - Epoch: 6, Loss: 0.6970, Precision: 0.8298, Recall: 0.8184, F1: 0.8149: 100%|██████████| 174/174 [00:39<00:00,  4.35it/s]\n",
            "Val  - Epoch: 6, Loss: 0.9207, Precision: 0.4556, Recall: 0.4988, F1: 0.4563: 100%|██████████| 44/44 [00:07<00:00,  6.08it/s]\n",
            "Train - Epoch: 7, Loss: 0.6832, Precision: 0.8682, Recall: 0.8523, F1: 0.8517: 100%|██████████| 174/174 [00:40<00:00,  4.34it/s]\n",
            "Val  - Epoch: 7, Loss: 0.8984, Precision: 0.4634, Recall: 0.4395, F1: 0.4401: 100%|██████████| 44/44 [00:07<00:00,  6.07it/s]\n",
            "Train - Epoch: 8, Loss: 0.6648, Precision: 0.9018, Recall: 0.8850, F1: 0.8863:  68%|██████▊   | 118/174 [00:28<00:11,  4.74it/s]"
          ],
          "name": "stderr"
        },
        {
          "output_type": "stream",
          "text": [
            "Traceback \u001b[0;36m(most recent call last)\u001b[0m:\n",
            "  File \u001b[1;32m\"<ipython-input-10-1cb41358eeaa>\"\u001b[0m, line \u001b[1;32m54\u001b[0m, in \u001b[1;35mtrain_step\u001b[0m\n",
            "    predictions, _ = self.model(char_rep, word_rep, training=True, initial_state=self.state)\n",
            "  File \u001b[1;32m\"<ipython-input-9-cd367dae8b31>\"\u001b[0m, line \u001b[1;32m53\u001b[0m, in \u001b[1;35m__call__\u001b[0m\n",
            "    _, word_out = self.word_embedding([x2, mask, mask])\n",
            "  File \u001b[1;32m\"/usr/local/lib/python3.6/dist-packages/tensorflow/python/keras/engine/base_layer.py\"\u001b[0m, line \u001b[1;32m968\u001b[0m, in \u001b[1;35m__call__\u001b[0m\n",
            "    outputs = self.call(cast_inputs, *args, **kwargs)\n",
            "  File \u001b[1;32m\"/usr/local/lib/python3.6/dist-packages/tensorflow_hub/keras_layer.py\"\u001b[0m, line \u001b[1;32m231\u001b[0m, in \u001b[1;35mcall\u001b[0m\n",
            "    lambda: f(training=False))\n",
            "  File \u001b[1;32m\"/usr/local/lib/python3.6/dist-packages/tensorflow/python/framework/smart_cond.py\"\u001b[0m, line \u001b[1;32m56\u001b[0m, in \u001b[1;35msmart_cond\u001b[0m\n",
            "    return false_fn()\n",
            "  File \u001b[1;32m\"/usr/local/lib/python3.6/dist-packages/tensorflow_hub/keras_layer.py\"\u001b[0m, line \u001b[1;32m231\u001b[0m, in \u001b[1;35m<lambda>\u001b[0m\n",
            "    lambda: f(training=False))\n",
            "  File \u001b[1;32m\"/usr/local/lib/python3.6/dist-packages/tensorflow/python/saved_model/load.py\"\u001b[0m, line \u001b[1;32m486\u001b[0m, in \u001b[1;35m_call_attribute\u001b[0m\n",
            "    return instance.__call__(*args, **kwargs)\n",
            "  File \u001b[1;32m\"/usr/local/lib/python3.6/dist-packages/tensorflow/python/eager/def_function.py\"\u001b[0m, line \u001b[1;32m580\u001b[0m, in \u001b[1;35m__call__\u001b[0m\n",
            "    result = self._call(*args, **kwds)\n",
            "  File \u001b[1;32m\"/usr/local/lib/python3.6/dist-packages/tensorflow/python/eager/def_function.py\"\u001b[0m, line \u001b[1;32m618\u001b[0m, in \u001b[1;35m_call\u001b[0m\n",
            "    results = self._stateful_fn(*args, **kwds)\n",
            "  File \u001b[1;32m\"/usr/local/lib/python3.6/dist-packages/tensorflow/python/eager/function.py\"\u001b[0m, line \u001b[1;32m2420\u001b[0m, in \u001b[1;35m__call__\u001b[0m\n",
            "    return graph_function._filtered_call(args, kwargs)  # pylint: disable=protected-access\n",
            "  File \u001b[1;32m\"/usr/local/lib/python3.6/dist-packages/tensorflow/python/eager/function.py\"\u001b[0m, line \u001b[1;32m1665\u001b[0m, in \u001b[1;35m_filtered_call\u001b[0m\n",
            "    self.captured_inputs)\n",
            "  File \u001b[1;32m\"/usr/local/lib/python3.6/dist-packages/tensorflow/python/eager/function.py\"\u001b[0m, line \u001b[1;32m1755\u001b[0m, in \u001b[1;35m_call_flat\u001b[0m\n",
            "    cancellation_manager=cancellation_manager)\n",
            "  File \u001b[1;32m\"/usr/local/lib/python3.6/dist-packages/tensorflow/python/eager/function.py\"\u001b[0m, line \u001b[1;32m598\u001b[0m, in \u001b[1;35mcall\u001b[0m\n",
            "    ctx=ctx)\n",
            "\u001b[0;36m  File \u001b[0;32m\"/usr/local/lib/python3.6/dist-packages/tensorflow/python/eager/execute.py\"\u001b[0;36m, line \u001b[0;32m60\u001b[0;36m, in \u001b[0;35mquick_execute\u001b[0;36m\u001b[0m\n",
            "\u001b[0;31m    inputs, attrs, num_outputs)\u001b[0m\n",
            "\u001b[0;31mKeyboardInterrupt\u001b[0m\n",
            "\n"
          ],
          "name": "stdout"
        }
      ]
    },
    {
      "cell_type": "markdown",
      "metadata": {
        "id": "IYyd1jWocc8S",
        "colab_type": "text"
      },
      "source": [
        "## Dataset Stats"
      ]
    },
    {
      "cell_type": "code",
      "metadata": {
        "id": "a62J3D8CFwlt",
        "colab_type": "code",
        "colab": {
          "base_uri": "https://localhost:8080/",
          "height": 266
        },
        "outputId": "17aeb98d-7f99-4430-95df-2e8c6170e138"
      },
      "source": [
        "esposalles_df().groupby('entity').count()"
      ],
      "execution_count": 9,
      "outputs": [
        {
          "output_type": "execute_result",
          "data": {
            "text/html": [
              "<div>\n",
              "<style scoped>\n",
              "    .dataframe tbody tr th:only-of-type {\n",
              "        vertical-align: middle;\n",
              "    }\n",
              "\n",
              "    .dataframe tbody tr th {\n",
              "        vertical-align: top;\n",
              "    }\n",
              "\n",
              "    .dataframe thead th {\n",
              "        text-align: right;\n",
              "    }\n",
              "</style>\n",
              "<table border=\"1\" class=\"dataframe\">\n",
              "  <thead>\n",
              "    <tr style=\"text-align: right;\">\n",
              "      <th></th>\n",
              "      <th>rel-entity</th>\n",
              "      <th>word</th>\n",
              "      <th>id</th>\n",
              "    </tr>\n",
              "    <tr>\n",
              "      <th>entity</th>\n",
              "      <th></th>\n",
              "      <th></th>\n",
              "      <th></th>\n",
              "    </tr>\n",
              "  </thead>\n",
              "  <tbody>\n",
              "    <tr>\n",
              "      <th>location</th>\n",
              "      <td>4509</td>\n",
              "      <td>4509</td>\n",
              "      <td>4509</td>\n",
              "    </tr>\n",
              "    <tr>\n",
              "      <th>name</th>\n",
              "      <td>4997</td>\n",
              "      <td>4997</td>\n",
              "      <td>4997</td>\n",
              "    </tr>\n",
              "    <tr>\n",
              "      <th>occupation</th>\n",
              "      <td>3010</td>\n",
              "      <td>3010</td>\n",
              "      <td>3010</td>\n",
              "    </tr>\n",
              "    <tr>\n",
              "      <th>other</th>\n",
              "      <td>15176</td>\n",
              "      <td>15176</td>\n",
              "      <td>15176</td>\n",
              "    </tr>\n",
              "    <tr>\n",
              "      <th>state</th>\n",
              "      <td>1142</td>\n",
              "      <td>1142</td>\n",
              "      <td>1142</td>\n",
              "    </tr>\n",
              "    <tr>\n",
              "      <th>surname</th>\n",
              "      <td>2667</td>\n",
              "      <td>2667</td>\n",
              "      <td>2667</td>\n",
              "    </tr>\n",
              "  </tbody>\n",
              "</table>\n",
              "</div>"
            ],
            "text/plain": [
              "            rel-entity   word     id\n",
              "entity                              \n",
              "location          4509   4509   4509\n",
              "name              4997   4997   4997\n",
              "occupation        3010   3010   3010\n",
              "other            15176  15176  15176\n",
              "state             1142   1142   1142\n",
              "surname           2667   2667   2667"
            ]
          },
          "metadata": {
            "tags": []
          },
          "execution_count": 9
        }
      ]
    },
    {
      "cell_type": "code",
      "metadata": {
        "id": "g_V2dDzkFixi",
        "colab_type": "code",
        "colab": {
          "base_uri": "https://localhost:8080/",
          "height": 731
        },
        "outputId": "4e48f7d9-5d6e-4f0a-de30-8579793b23e7"
      },
      "source": [
        "dataset_df().groupby('entity').count()"
      ],
      "execution_count": 166,
      "outputs": [
        {
          "output_type": "execute_result",
          "data": {
            "text/html": [
              "<div>\n",
              "<style scoped>\n",
              "    .dataframe tbody tr th:only-of-type {\n",
              "        vertical-align: middle;\n",
              "    }\n",
              "\n",
              "    .dataframe tbody tr th {\n",
              "        vertical-align: top;\n",
              "    }\n",
              "\n",
              "    .dataframe thead th {\n",
              "        text-align: right;\n",
              "    }\n",
              "</style>\n",
              "<table border=\"1\" class=\"dataframe\">\n",
              "  <thead>\n",
              "    <tr style=\"text-align: right;\">\n",
              "      <th></th>\n",
              "      <th>word</th>\n",
              "      <th>id</th>\n",
              "    </tr>\n",
              "    <tr>\n",
              "      <th>entity</th>\n",
              "      <th></th>\n",
              "      <th></th>\n",
              "    </tr>\n",
              "  </thead>\n",
              "  <tbody>\n",
              "    <tr>\n",
              "      <th>BirthCity</th>\n",
              "      <td>7</td>\n",
              "      <td>7</td>\n",
              "    </tr>\n",
              "    <tr>\n",
              "      <th>BirthCounty</th>\n",
              "      <td>1</td>\n",
              "      <td>1</td>\n",
              "    </tr>\n",
              "    <tr>\n",
              "      <th>BirthState</th>\n",
              "      <td>1</td>\n",
              "      <td>1</td>\n",
              "    </tr>\n",
              "    <tr>\n",
              "      <th>DeathAge</th>\n",
              "      <td>423</td>\n",
              "      <td>423</td>\n",
              "    </tr>\n",
              "    <tr>\n",
              "      <th>DeathCity</th>\n",
              "      <td>401</td>\n",
              "      <td>401</td>\n",
              "    </tr>\n",
              "    <tr>\n",
              "      <th>DeathCountry</th>\n",
              "      <td>30</td>\n",
              "      <td>30</td>\n",
              "    </tr>\n",
              "    <tr>\n",
              "      <th>DeathCounty</th>\n",
              "      <td>23</td>\n",
              "      <td>23</td>\n",
              "    </tr>\n",
              "    <tr>\n",
              "      <th>DeathDay</th>\n",
              "      <td>195</td>\n",
              "      <td>195</td>\n",
              "    </tr>\n",
              "    <tr>\n",
              "      <th>DeathMonth</th>\n",
              "      <td>150</td>\n",
              "      <td>150</td>\n",
              "    </tr>\n",
              "    <tr>\n",
              "      <th>DeathState</th>\n",
              "      <td>111</td>\n",
              "      <td>111</td>\n",
              "    </tr>\n",
              "    <tr>\n",
              "      <th>DeathYear</th>\n",
              "      <td>603</td>\n",
              "      <td>603</td>\n",
              "    </tr>\n",
              "    <tr>\n",
              "      <th>FatherGivenName</th>\n",
              "      <td>219</td>\n",
              "      <td>219</td>\n",
              "    </tr>\n",
              "    <tr>\n",
              "      <th>FatherSurname</th>\n",
              "      <td>186</td>\n",
              "      <td>186</td>\n",
              "    </tr>\n",
              "    <tr>\n",
              "      <th>GivenName</th>\n",
              "      <td>434</td>\n",
              "      <td>434</td>\n",
              "    </tr>\n",
              "    <tr>\n",
              "      <th>MotherGivenName</th>\n",
              "      <td>140</td>\n",
              "      <td>140</td>\n",
              "    </tr>\n",
              "    <tr>\n",
              "      <th>MotherSurname</th>\n",
              "      <td>125</td>\n",
              "      <td>125</td>\n",
              "    </tr>\n",
              "    <tr>\n",
              "      <th>SpouseGivenName</th>\n",
              "      <td>67</td>\n",
              "      <td>67</td>\n",
              "    </tr>\n",
              "    <tr>\n",
              "      <th>SpouseSurname</th>\n",
              "      <td>60</td>\n",
              "      <td>60</td>\n",
              "    </tr>\n",
              "    <tr>\n",
              "      <th>Start</th>\n",
              "      <td>218</td>\n",
              "      <td>218</td>\n",
              "    </tr>\n",
              "    <tr>\n",
              "      <th>Surname</th>\n",
              "      <td>370</td>\n",
              "      <td>370</td>\n",
              "    </tr>\n",
              "    <tr>\n",
              "      <th>none</th>\n",
              "      <td>22463</td>\n",
              "      <td>22463</td>\n",
              "    </tr>\n",
              "  </tbody>\n",
              "</table>\n",
              "</div>"
            ],
            "text/plain": [
              "                  word     id\n",
              "entity                       \n",
              "BirthCity            7      7\n",
              "BirthCounty          1      1\n",
              "BirthState           1      1\n",
              "DeathAge           423    423\n",
              "DeathCity          401    401\n",
              "DeathCountry        30     30\n",
              "DeathCounty         23     23\n",
              "DeathDay           195    195\n",
              "DeathMonth         150    150\n",
              "DeathState         111    111\n",
              "DeathYear          603    603\n",
              "FatherGivenName    219    219\n",
              "FatherSurname      186    186\n",
              "GivenName          434    434\n",
              "MotherGivenName    140    140\n",
              "MotherSurname      125    125\n",
              "SpouseGivenName     67     67\n",
              "SpouseSurname       60     60\n",
              "Start              218    218\n",
              "Surname            370    370\n",
              "none             22463  22463"
            ]
          },
          "metadata": {
            "tags": []
          },
          "execution_count": 166
        }
      ]
    },
    {
      "cell_type": "code",
      "metadata": {
        "id": "uRe-gmLQK56q",
        "colab_type": "code",
        "colab": {
          "base_uri": "https://localhost:8080/",
          "height": 85
        },
        "outputId": "966dec7e-5ef6-4036-ceb2-789dc84d3161"
      },
      "source": [
        "dataset_df().count()"
      ],
      "execution_count": 11,
      "outputs": [
        {
          "output_type": "execute_result",
          "data": {
            "text/plain": [
              "word      26227\n",
              "entity    26227\n",
              "id        26227\n",
              "dtype: int64"
            ]
          },
          "metadata": {
            "tags": []
          },
          "execution_count": 11
        }
      ]
    },
    {
      "cell_type": "code",
      "metadata": {
        "id": "tFH15TSaK-tx",
        "colab_type": "code",
        "colab": {}
      },
      "source": [
        "22463 / 26227"
      ],
      "execution_count": null,
      "outputs": []
    },
    {
      "cell_type": "code",
      "metadata": {
        "id": "lfEc1mpTLEdo",
        "colab_type": "code",
        "colab": {}
      },
      "source": [
        "370 / 26227"
      ],
      "execution_count": null,
      "outputs": []
    },
    {
      "cell_type": "markdown",
      "metadata": {
        "id": "lTYJyTZLcIoJ",
        "colab_type": "text"
      },
      "source": [
        "## Results\n",
        "\n",
        "Show how our model did throughout the training process."
      ]
    },
    {
      "cell_type": "code",
      "metadata": {
        "id": "ET2FHHVW957n",
        "colab_type": "code",
        "colab": {
          "base_uri": "https://localhost:8080/",
          "height": 516
        },
        "outputId": "6e5d84ca-55bb-435a-83b1-1037ebeff084"
      },
      "source": [
        "plt.title('Loss')\n",
        "plt.xlabel('Epochs')\n",
        "plt.ylabel('Loss')\n",
        "plt.plot(losses[0], label='train')\n",
        "plt.plot(losses[1], label='val')\n",
        "plt.legend()\n",
        "plt.show()\n",
        "print('Final Validation Loss: {:.4f}'.format(losses[1][-1]))"
      ],
      "execution_count": 169,
      "outputs": [
        {
          "output_type": "stream",
          "text": [
            "ERROR:tensorflow:==================================\n",
            "Object was never used (type <class 'tensorflow.python.ops.tensor_array_ops.TensorArray'>):\n",
            "<tensorflow.python.ops.tensor_array_ops.TensorArray object at 0x7f92e76bc390>\n",
            "If you want to mark it as used call its \"mark_used()\" method.\n",
            "It was originally created here:\n",
            "  File \"/usr/local/lib/python3.6/dist-packages/tensorflow/python/ops/control_flow_ops.py\", line 2770, in while_loop\n",
            "    return result  File \"/usr/local/lib/python3.6/dist-packages/tensorflow/python/ops/control_flow_ops.py\", line 2718, in <lambda>\n",
            "    body = lambda i, lv: (i + 1, orig_body(*lv))  File \"/usr/local/lib/python3.6/dist-packages/tensorflow/python/ops/functional_ops.py\", line 648, in compute\n",
            "    return (next_i, flat_a_out, tas)  File \"/usr/local/lib/python3.6/dist-packages/tensorflow/python/ops/functional_ops.py\", line 643, in <listcomp>\n",
            "    tas = [ta.write(i, value) for (ta, value) in zip(tas, flat_a_out)]  File \"/usr/local/lib/python3.6/dist-packages/tensorflow/python/util/tf_should_use.py\", line 237, in wrapped\n",
            "    error_in_function=error_in_function)\n",
            "==================================\n"
          ],
          "name": "stdout"
        },
        {
          "output_type": "display_data",
          "data": {
            "image/png": "[encoded data removed]",
            "text/plain": [
              "<Figure size 432x288 with 1 Axes>"
            ]
          },
          "metadata": {
            "tags": [],
            "needs_background": "light"
          }
        },
        {
          "output_type": "stream",
          "text": [
            "Final Validation Loss: 300.6761\n"
          ],
          "name": "stdout"
        }
      ]
    },
    {
      "cell_type": "code",
      "metadata": {
        "id": "8OHunu4792FZ",
        "colab_type": "code",
        "colab": {
          "base_uri": "https://localhost:8080/",
          "height": 312
        },
        "outputId": "db93bdbe-aaf9-441d-a0b8-10f89e811097"
      },
      "source": [
        "plt.title('Precision')\n",
        "plt.xlabel('Epochs')\n",
        "plt.ylabel('Precision')\n",
        "plt.plot(precisions[0], label='train')\n",
        "plt.plot(precisions[1], label='val')\n",
        "plt.legend()\n",
        "plt.show()\n",
        "print('Final Validation Precision: {:.2f}%'.format(precisions[1][-1] * 100))"
      ],
      "execution_count": 170,
      "outputs": [
        {
          "output_type": "display_data",
          "data": {
            "image/png": "[encoded data removed]",
            "text/plain": [
              "<Figure size 432x288 with 1 Axes>"
            ]
          },
          "metadata": {
            "tags": [],
            "needs_background": "light"
          }
        },
        {
          "output_type": "stream",
          "text": [
            "Final Validation Precision: 41.02%\n"
          ],
          "name": "stdout"
        }
      ]
    },
    {
      "cell_type": "code",
      "metadata": {
        "id": "WjJ4eGjhraiR",
        "colab_type": "code",
        "colab": {
          "base_uri": "https://localhost:8080/",
          "height": 312
        },
        "outputId": "52253ab1-3fa6-46bf-d7a7-f1f128dc47e8"
      },
      "source": [
        "plt.title('Recall')\n",
        "plt.xlabel('Epochs')\n",
        "plt.ylabel('Precision')\n",
        "plt.plot(recalls[0], label='train')\n",
        "plt.plot(recalls[1], label='val')\n",
        "plt.legend()\n",
        "plt.show()\n",
        "print('Final Validation Recall: {:.2f}%'.format(recalls[1][-1] * 100))"
      ],
      "execution_count": 171,
      "outputs": [
        {
          "output_type": "display_data",
          "data": {
            "image/png": "[encoded data removed]",
            "text/plain": [
              "<Figure size 432x288 with 1 Axes>"
            ]
          },
          "metadata": {
            "tags": [],
            "needs_background": "light"
          }
        },
        {
          "output_type": "stream",
          "text": [
            "Final Validation Recall: 40.95%\n"
          ],
          "name": "stdout"
        }
      ]
    },
    {
      "cell_type": "code",
      "metadata": {
        "id": "Rj5q2Hnmram9",
        "colab_type": "code",
        "colab": {
          "base_uri": "https://localhost:8080/",
          "height": 312
        },
        "outputId": "1c213ccc-1073-43ca-f49e-6b3a6619fb60"
      },
      "source": [
        "plt.title('F1')\n",
        "plt.xlabel('Epochs')\n",
        "plt.ylabel('F1')\n",
        "plt.plot(f1s[0], label='train')\n",
        "plt.plot(f1s[1], label='val')\n",
        "plt.legend()\n",
        "plt.show()\n",
        "print('Final Validation F1: {:.2f}%'.format(f1s[1][-1] * 100))"
      ],
      "execution_count": 172,
      "outputs": [
        {
          "output_type": "display_data",
          "data": {
            "image/png": "[encoded data removed]",
            "text/plain": [
              "<Figure size 432x288 with 1 Axes>"
            ]
          },
          "metadata": {
            "tags": [],
            "needs_background": "light"
          }
        },
        {
          "output_type": "stream",
          "text": [
            "Final Validation F1: 39.29%\n"
          ],
          "name": "stdout"
        }
      ]
    },
    {
      "cell_type": "markdown",
      "metadata": {
        "id": "j90cuaIRtkhD",
        "colab_type": "text"
      },
      "source": [
        "## Examples and Confusion Matrix\n",
        "\n",
        "* Show the final confusion matrix on the validation set.\n",
        "* Show a couple examples of the model classifying text."
      ]
    },
    {
      "cell_type": "code",
      "metadata": {
        "id": "AFRCgKNotpu5",
        "colab_type": "code",
        "colab": {
          "base_uri": "https://localhost:8080/",
          "height": 1000
        },
        "outputId": "5d4b461f-2625-4230-9790-2a14bdccc033"
      },
      "source": [
        "# The number of examples to show how the model did\n",
        "num_examples = 3\n",
        "\n",
        "df = dataset_df()\n",
        "entity_list = list(set(df['entity'].values))\n",
        "encoder = Encoder(entity_list)\n",
        "\n",
        "# Determine sizes for training and validation sets\n",
        "dataset_size = df['id'].max()\n",
        "train_dataset_size = int(.8 * dataset_size)\n",
        "val_dataset_size = dataset_size - train_dataset_size\n",
        "\n",
        "# flat_train_dataset_size = df.loc[df['id'] == train_dataset_size].index.max()\n",
        "# flat_val_dataset_size = len(df) - flat_train_dataset_size\n",
        "\n",
        "# Break up dataset into training/validation\n",
        "dataset = tf.data.Dataset.from_generator(\n",
        "    dataset_generator,\n",
        "    (tf.int64, tf.int32),\n",
        "    (tf.TensorShape([None, 20]), tf.TensorShape([None])))\n",
        "val_dataset = dataset.skip(train_dataset_size)#.flat_map(lambda x, y: tf.data.Dataset.from_tensor_slices((x, y))).batch(128, drop_remainder=True)\n",
        "\n",
        "y_true, y_pred = np.array([]), np.array([])\n",
        "\n",
        "print('Making Predictions for Validation Set...')\n",
        "state = None\n",
        "for index, (words, labels) in enumerate(val_dataset):   \n",
        "  predictions, _ = model(words, initial_state=state,)\n",
        "  y_true = np.concatenate((y_true, labels.numpy()))\n",
        "  y_pred = np.concatenate((y_pred, tf.argmax(tf.squeeze(predictions), axis=1).numpy()))\n",
        "\n",
        "  if index < num_examples:\n",
        "    print('***Entity Prediction Sample***')\n",
        "    for word, actual, pred in zip(words, labels.numpy(), tf.argmax(tf.squeeze(predictions), axis=1).numpy()):\n",
        "      print('Word: {}, Predicted: {}, Actual: {}, Accuracy: {}'.format(encoder.idxs_to_str(word), encoder.idx_to_entity(pred), encoder.idx_to_entity(actual), '100%' if pred == actual else '0%'))\n",
        "\n",
        "print('Finished.')"
      ],
      "execution_count": 173,
      "outputs": [
        {
          "output_type": "stream",
          "text": [
            "Making Predictions for Validation Set...\n",
            "***Entity Prediction Sample***\n",
            "Word: 4er, Predicted: Start, Actual: Start, Accuracy: 100%\n",
            "Word: Michon, Predicted: none, Actual: Surname, Accuracy: 0%\n",
            "Word: (antoine), Predicted: none, Actual: GivenName, Accuracy: 0%\n",
            "Word: L'an, Predicted: none, Actual: none, Accuracy: 100%\n",
            "Word: mil, Predicted: DeathYear, Actual: DeathYear, Accuracy: 100%\n",
            "Word: huit, Predicted: DeathYear, Actual: DeathYear, Accuracy: 100%\n",
            "Word: cent, Predicted: DeathYear, Actual: DeathYear, Accuracy: 100%\n",
            "Word: vingt-sept,, Predicted: DeathYear, Actual: DeathYear, Accuracy: 100%\n",
            "Word: le, Predicted: none, Actual: none, Accuracy: 100%\n",
            "Word: huit, Predicted: DeathDay, Actual: DeathDay, Accuracy: 100%\n",
            "Word: du, Predicted: none, Actual: none, Accuracy: 100%\n",
            "Word: mois, Predicted: none, Actual: none, Accuracy: 100%\n",
            "Word: d'avril,, Predicted: none, Actual: DeathMonth, Accuracy: 0%\n",
            "Word: par, Predicted: none, Actual: none, Accuracy: 100%\n",
            "Word: devant, Predicted: none, Actual: none, Accuracy: 100%\n",
            "Word: nous, Predicted: none, Actual: none, Accuracy: 100%\n",
            "Word: maire,, Predicted: none, Actual: none, Accuracy: 100%\n",
            "Word: officier, Predicted: none, Actual: none, Accuracy: 100%\n",
            "Word: de, Predicted: none, Actual: none, Accuracy: 100%\n",
            "Word: l'etat, Predicted: none, Actual: none, Accuracy: 100%\n",
            "Word: civil, Predicted: none, Actual: none, Accuracy: 100%\n",
            "Word: de, Predicted: none, Actual: none, Accuracy: 100%\n",
            "Word: la, Predicted: none, Actual: none, Accuracy: 100%\n",
            "Word: commune, Predicted: none, Actual: none, Accuracy: 100%\n",
            "Word: de, Predicted: none, Actual: none, Accuracy: 100%\n",
            "Word: Lantigni;Dpartem, Predicted: none, Actual: none, Accuracy: 100%\n",
            "Word: du, Predicted: none, Actual: none, Accuracy: 100%\n",
            "Word: Rh´ne,, Predicted: DeathState, Actual: DeathState, Accuracy: 100%\n",
            "Word: canton, Predicted: none, Actual: none, Accuracy: 100%\n",
            "Word: De, Predicted: none, Actual: none, Accuracy: 100%\n",
            "Word: Beaujeu, Predicted: none, Actual: none, Accuracy: 100%\n",
            "Word: ,, Predicted: none, Actual: none, Accuracy: 100%\n",
            "Word: sont, Predicted: none, Actual: none, Accuracy: 100%\n",
            "Word: comparus, Predicted: none, Actual: none, Accuracy: 100%\n",
            "Word: jean-pierre, Predicted: none, Actual: none, Accuracy: 100%\n",
            "Word: Perme, Predicted: none, Actual: none, Accuracy: 100%\n",
            "Word: g, Predicted: none, Actual: none, Accuracy: 100%\n",
            "Word: d'nviron, Predicted: none, Actual: none, Accuracy: 100%\n",
            "Word: vingt-huit, Predicted: none, Actual: none, Accuracy: 100%\n",
            "Word: ans,et, Predicted: none, Actual: none, Accuracy: 100%\n",
            "Word: Antoine, Predicted: none, Actual: none, Accuracy: 100%\n",
            "Word: Labruyere, Predicted: none, Actual: none, Accuracy: 100%\n",
            "Word: g, Predicted: none, Actual: none, Accuracy: 100%\n",
            "Word: d'nviron, Predicted: none, Actual: none, Accuracy: 100%\n",
            "Word: cinquante-deux, Predicted: none, Actual: none, Accuracy: 100%\n",
            "Word: ans,, Predicted: none, Actual: none, Accuracy: 100%\n",
            "Word: tous, Predicted: none, Actual: none, Accuracy: 100%\n",
            "Word: les, Predicted: none, Actual: none, Accuracy: 100%\n",
            "Word: deux, Predicted: none, Actual: none, Accuracy: 100%\n",
            "Word: cultivateur, Predicted: none, Actual: none, Accuracy: 100%\n",
            "Word: demeurant, Predicted: none, Actual: none, Accuracy: 100%\n",
            "Word: , Predicted: none, Actual: none, Accuracy: 100%\n",
            "Word: Lantigni,, Predicted: none, Actual: none, Accuracy: 100%\n",
            "Word: les, Predicted: none, Actual: none, Accuracy: 100%\n",
            "Word: quels, Predicted: none, Actual: none, Accuracy: 100%\n",
            "Word: nous, Predicted: none, Actual: none, Accuracy: 100%\n",
            "Word: ont, Predicted: none, Actual: none, Accuracy: 100%\n",
            "Word: dclar, Predicted: none, Actual: none, Accuracy: 100%\n",
            "Word: aujourd'hui, Predicted: none, Actual: none, Accuracy: 100%\n",
            "Word: , Predicted: none, Actual: none, Accuracy: 100%\n",
            "Word: dix, Predicted: none, Actual: none, Accuracy: 100%\n",
            "Word: heures, Predicted: none, Actual: none, Accuracy: 100%\n",
            "Word: du, Predicted: none, Actual: none, Accuracy: 100%\n",
            "Word: matin., Predicted: none, Actual: none, Accuracy: 100%\n",
            "Word: qui, Predicted: none, Actual: none, Accuracy: 100%\n",
            "Word: Antoine, Predicted: GivenName, Actual: GivenName, Accuracy: 100%\n",
            "Word: Michon, Predicted: Surname, Actual: Surname, Accuracy: 100%\n",
            "Word: g, Predicted: none, Actual: none, Accuracy: 100%\n",
            "Word: d'nviron, Predicted: none, Actual: none, Accuracy: 100%\n",
            "Word: dix-sept, Predicted: DeathAge, Actual: DeathAge, Accuracy: 100%\n",
            "Word: ans, Predicted: DeathAge, Actual: DeathAge, Accuracy: 100%\n",
            "Word: n, Predicted: none, Actual: none, Accuracy: 100%\n",
            "Word: , Predicted: none, Actual: none, Accuracy: 100%\n",
            "Word: Lantigni,, Predicted: none, Actual: none, Accuracy: 100%\n",
            "Word: X, Predicted: none, Actual: none, Accuracy: 100%\n",
            "Word: fils, Predicted: none, Actual: none, Accuracy: 100%\n",
            "Word: de, Predicted: none, Actual: none, Accuracy: 100%\n",
            "Word: claude, Predicted: FatherGivenName, Actual: FatherGivenName, Accuracy: 100%\n",
            "Word: Michon, Predicted: FatherSurname, Actual: FatherSurname, Accuracy: 100%\n",
            "Word: et, Predicted: none, Actual: none, Accuracy: 100%\n",
            "Word: de, Predicted: none, Actual: none, Accuracy: 100%\n",
            "Word: jeanne, Predicted: none, Actual: MotherGivenName, Accuracy: 0%\n",
            "Word: foubert, Predicted: none, Actual: MotherSurname, Accuracy: 0%\n",
            "Word: tous, Predicted: none, Actual: none, Accuracy: 100%\n",
            "Word: les, Predicted: none, Actual: none, Accuracy: 100%\n",
            "Word: deux, Predicted: none, Actual: none, Accuracy: 100%\n",
            "Word: cultivateurs, Predicted: none, Actual: none, Accuracy: 100%\n",
            "Word: demeurant, Predicted: none, Actual: none, Accuracy: 100%\n",
            "Word: , Predicted: none, Actual: none, Accuracy: 100%\n",
            "Word: Lantigni,, Predicted: none, Actual: none, Accuracy: 100%\n",
            "Word: est, Predicted: none, Actual: none, Accuracy: 100%\n",
            "Word: dcd, Predicted: none, Actual: none, Accuracy: 100%\n",
            "Word: hier, Predicted: none, Actual: none, Accuracy: 100%\n",
            "Word: , Predicted: none, Actual: none, Accuracy: 100%\n",
            "Word: sept, Predicted: none, Actual: none, Accuracy: 100%\n",
            "Word: heures, Predicted: none, Actual: none, Accuracy: 100%\n",
            "Word: du, Predicted: none, Actual: none, Accuracy: 100%\n",
            "Word: hier;, Predicted: none, Actual: none, Accuracy: 100%\n",
            "Word: les, Predicted: none, Actual: none, Accuracy: 100%\n",
            "Word: dclarons, Predicted: none, Actual: none, Accuracy: 100%\n",
            "Word: n'ont, Predicted: none, Actual: none, Accuracy: 100%\n",
            "Word: sign, Predicted: none, Actual: none, Accuracy: 100%\n",
            "Word: avec, Predicted: none, Actual: none, Accuracy: 100%\n",
            "Word: le, Predicted: none, Actual: none, Accuracy: 100%\n",
            "Word: prsent, Predicted: none, Actual: none, Accuracy: 100%\n",
            "Word: acte, Predicted: none, Actual: none, Accuracy: 100%\n",
            "Word: aprs, Predicted: none, Actual: none, Accuracy: 100%\n",
            "Word: que, Predicted: none, Actual: none, Accuracy: 100%\n",
            "Word: lecture., Predicted: none, Actual: none, Accuracy: 100%\n",
            "Word: leur, Predicted: none, Actual: none, Accuracy: 100%\n",
            "Word: en, Predicted: none, Actual: none, Accuracy: 100%\n",
            "Word: , Predicted: none, Actual: none, Accuracy: 100%\n",
            "Word: t, Predicted: none, Actual: none, Accuracy: 100%\n",
            "Word: faite,, Predicted: none, Actual: none, Accuracy: 100%\n",
            "Word: pour, Predicted: none, Actual: none, Accuracy: 100%\n",
            "Word: ne, Predicted: none, Actual: none, Accuracy: 100%\n",
            "Word: savoir, Predicted: none, Actual: none, Accuracy: 100%\n",
            "Word: crire., Predicted: none, Actual: none, Accuracy: 100%\n",
            "Word: X, Predicted: none, Actual: none, Accuracy: 100%\n",
            "Word: demeurant, Predicted: none, Actual: none, Accuracy: 100%\n",
            "Word: au, Predicted: none, Actual: none, Accuracy: 100%\n",
            "Word: meme, Predicted: none, Actual: none, Accuracy: 100%\n",
            "Word: leur, Predicted: none, Actual: none, Accuracy: 100%\n",
            "Word: le, Predicted: none, Actual: none, Accuracy: 100%\n",
            "Word: renvoi, Predicted: none, Actual: none, Accuracy: 100%\n",
            "Word: de, Predicted: none, Actual: none, Accuracy: 100%\n",
            "Word: quatre, Predicted: none, Actual: none, Accuracy: 100%\n",
            "Word: mots,, Predicted: none, Actual: none, Accuracy: 100%\n",
            "Word: bon., Predicted: none, Actual: none, Accuracy: 100%\n",
            "Word: Debille, Predicted: none, Actual: none, Accuracy: 100%\n",
            "Word: De, Predicted: none, Actual: none, Accuracy: 100%\n",
            "Word: Miare, Predicted: none, Actual: none, Accuracy: 100%\n",
            "Word: 2, Predicted: none, Actual: none, Accuracy: 100%\n",
            "Word: Fei, Predicted: none, Actual: none, Accuracy: 100%\n",
            "Word: 3, Predicted: none, Actual: none, Accuracy: 100%\n",
            "***Entity Prediction Sample***\n",
            "Word: 5er, Predicted: Start, Actual: Start, Accuracy: 100%\n",
            "Word: Polosse, Predicted: none, Actual: Surname, Accuracy: 0%\n",
            "Word: (claudine), Predicted: none, Actual: GivenName, Accuracy: 0%\n",
            "Word: L'an, Predicted: none, Actual: none, Accuracy: 100%\n",
            "Word: mil, Predicted: DeathYear, Actual: DeathYear, Accuracy: 100%\n",
            "Word: huit, Predicted: DeathYear, Actual: DeathYear, Accuracy: 100%\n",
            "Word: cent, Predicted: DeathYear, Actual: DeathYear, Accuracy: 100%\n",
            "Word: vingt-sept,, Predicted: DeathYear, Actual: DeathYear, Accuracy: 100%\n",
            "Word: le, Predicted: none, Actual: none, Accuracy: 100%\n",
            "Word: onze, Predicted: DeathDay, Actual: DeathDay, Accuracy: 100%\n",
            "Word: du, Predicted: none, Actual: none, Accuracy: 100%\n",
            "Word: mois, Predicted: none, Actual: none, Accuracy: 100%\n",
            "Word: d'avril,, Predicted: none, Actual: DeathMonth, Accuracy: 0%\n",
            "Word: par, Predicted: none, Actual: none, Accuracy: 100%\n",
            "Word: devant, Predicted: none, Actual: none, Accuracy: 100%\n",
            "Word: nous, Predicted: none, Actual: none, Accuracy: 100%\n",
            "Word: maire,, Predicted: none, Actual: none, Accuracy: 100%\n",
            "Word: officier, Predicted: none, Actual: none, Accuracy: 100%\n",
            "Word: de, Predicted: none, Actual: none, Accuracy: 100%\n",
            "Word: l'etat, Predicted: none, Actual: none, Accuracy: 100%\n",
            "Word: civil, Predicted: none, Actual: none, Accuracy: 100%\n",
            "Word: de, Predicted: none, Actual: none, Accuracy: 100%\n",
            "Word: la, Predicted: none, Actual: none, Accuracy: 100%\n",
            "Word: commune, Predicted: none, Actual: none, Accuracy: 100%\n",
            "Word: de, Predicted: none, Actual: none, Accuracy: 100%\n",
            "Word: Lantigni;Dpartem, Predicted: none, Actual: none, Accuracy: 100%\n",
            "Word: du, Predicted: none, Actual: none, Accuracy: 100%\n",
            "Word: Rh´ne,, Predicted: DeathState, Actual: DeathState, Accuracy: 100%\n",
            "Word: canton, Predicted: none, Actual: none, Accuracy: 100%\n",
            "Word: de, Predicted: none, Actual: none, Accuracy: 100%\n",
            "Word: Beaujeu,, Predicted: DeathCity, Actual: none, Accuracy: 0%\n",
            "Word: sont, Predicted: none, Actual: none, Accuracy: 100%\n",
            "Word: comparus, Predicted: none, Actual: none, Accuracy: 100%\n",
            "Word: jean-pierre, Predicted: none, Actual: none, Accuracy: 100%\n",
            "Word: Perme, Predicted: none, Actual: none, Accuracy: 100%\n",
            "Word: g, Predicted: none, Actual: none, Accuracy: 100%\n",
            "Word: d'nviron, Predicted: none, Actual: none, Accuracy: 100%\n",
            "Word: vingt-huit, Predicted: none, Actual: none, Accuracy: 100%\n",
            "Word: ans,et, Predicted: none, Actual: none, Accuracy: 100%\n",
            "Word: Antoine, Predicted: none, Actual: none, Accuracy: 100%\n",
            "Word: Labruyere, Predicted: none, Actual: none, Accuracy: 100%\n",
            "Word: g, Predicted: none, Actual: none, Accuracy: 100%\n",
            "Word: d'nviron, Predicted: none, Actual: none, Accuracy: 100%\n",
            "Word: cinquante-deux, Predicted: none, Actual: none, Accuracy: 100%\n",
            "Word: ans,, Predicted: none, Actual: none, Accuracy: 100%\n",
            "Word: tous, Predicted: none, Actual: none, Accuracy: 100%\n",
            "Word: les, Predicted: none, Actual: none, Accuracy: 100%\n",
            "Word: deux, Predicted: none, Actual: none, Accuracy: 100%\n",
            "Word: cultivateur, Predicted: none, Actual: none, Accuracy: 100%\n",
            "Word: demeurant, Predicted: none, Actual: none, Accuracy: 100%\n",
            "Word: , Predicted: none, Actual: none, Accuracy: 100%\n",
            "Word: Lantigni,, Predicted: none, Actual: none, Accuracy: 100%\n",
            "Word: les, Predicted: none, Actual: none, Accuracy: 100%\n",
            "Word: quels, Predicted: none, Actual: none, Accuracy: 100%\n",
            "Word: nous, Predicted: none, Actual: none, Accuracy: 100%\n",
            "Word: ont, Predicted: none, Actual: none, Accuracy: 100%\n",
            "Word: dclar, Predicted: none, Actual: none, Accuracy: 100%\n",
            "Word: les, Predicted: none, Actual: none, Accuracy: 100%\n",
            "Word: deux, Predicted: none, Actual: none, Accuracy: 100%\n",
            "Word: jours, Predicted: DeathAge, Actual: none, Accuracy: 0%\n",
            "Word: mois, Predicted: DeathAge, Actual: none, Accuracy: 0%\n",
            "Word: et, Predicted: none, Actual: none, Accuracy: 100%\n",
            "Word: un, Predicted: none, Actual: none, Accuracy: 100%\n",
            "Word: , Predicted: none, Actual: none, Accuracy: 100%\n",
            "Word: six, Predicted: none, Actual: none, Accuracy: 100%\n",
            "Word: heures, Predicted: none, Actual: none, Accuracy: 100%\n",
            "Word: du, Predicted: none, Actual: none, Accuracy: 100%\n",
            "Word: matin, Predicted: none, Actual: none, Accuracy: 100%\n",
            "Word: que, Predicted: none, Actual: none, Accuracy: 100%\n",
            "Word: Claudine, Predicted: GivenName, Actual: GivenName, Accuracy: 100%\n",
            "Word: Polosse, Predicted: Surname, Actual: Surname, Accuracy: 100%\n",
            "Word: g, Predicted: none, Actual: none, Accuracy: 100%\n",
            "Word: d'nviron, Predicted: none, Actual: none, Accuracy: 100%\n",
            "Word: cinquante, Predicted: DeathAge, Actual: DeathAge, Accuracy: 100%\n",
            "Word: ans,, Predicted: DeathAge, Actual: DeathAge, Accuracy: 100%\n",
            "Word: ne, Predicted: none, Actual: none, Accuracy: 100%\n",
            "Word: , Predicted: none, Actual: none, Accuracy: 100%\n",
            "Word: quimeire,, Predicted: none, Actual: none, Accuracy: 100%\n",
            "Word: epouse, Predicted: none, Actual: none, Accuracy: 100%\n",
            "Word: de, Predicted: none, Actual: none, Accuracy: 100%\n",
            "Word: claude, Predicted: SpouseGivenName, Actual: SpouseGivenName, Accuracy: 100%\n",
            "Word: jaudard, Predicted: none, Actual: SpouseSurname, Accuracy: 0%\n",
            "Word: demeurant, Predicted: none, Actual: none, Accuracy: 100%\n",
            "Word: , Predicted: none, Actual: none, Accuracy: 100%\n",
            "Word: Lantigni,, Predicted: none, Actual: none, Accuracy: 100%\n",
            "Word: est, Predicted: none, Actual: none, Accuracy: 100%\n",
            "Word: dcde, Predicted: none, Actual: none, Accuracy: 100%\n",
            "Word: hier, Predicted: none, Actual: none, Accuracy: 100%\n",
            "Word: , Predicted: none, Actual: none, Accuracy: 100%\n",
            "Word: sept, Predicted: none, Actual: none, Accuracy: 100%\n",
            "Word: heures, Predicted: none, Actual: none, Accuracy: 100%\n",
            "Word: du, Predicted: none, Actual: none, Accuracy: 100%\n",
            "Word: matin;et, Predicted: none, Actual: none, Accuracy: 100%\n",
            "Word: les, Predicted: none, Actual: none, Accuracy: 100%\n",
            "Word: d'clarons, Predicted: none, Actual: none, Accuracy: 100%\n",
            "Word: n'ont, Predicted: none, Actual: none, Accuracy: 100%\n",
            "Word: sign, Predicted: none, Actual: none, Accuracy: 100%\n",
            "Word: avec, Predicted: none, Actual: none, Accuracy: 100%\n",
            "Word: le, Predicted: none, Actual: none, Accuracy: 100%\n",
            "Word: prsent, Predicted: none, Actual: none, Accuracy: 100%\n",
            "Word: acte;, Predicted: none, Actual: none, Accuracy: 100%\n",
            "Word: aprs, Predicted: none, Actual: none, Accuracy: 100%\n",
            "Word: que, Predicted: none, Actual: none, Accuracy: 100%\n",
            "Word: lecture., Predicted: none, Actual: none, Accuracy: 100%\n",
            "Word: leur, Predicted: none, Actual: none, Accuracy: 100%\n",
            "Word: en, Predicted: none, Actual: none, Accuracy: 100%\n",
            "Word: , Predicted: none, Actual: none, Accuracy: 100%\n",
            "Word: t, Predicted: none, Actual: none, Accuracy: 100%\n",
            "Word: faite,, Predicted: none, Actual: none, Accuracy: 100%\n",
            "Word: pour, Predicted: none, Actual: none, Accuracy: 100%\n",
            "Word: ne, Predicted: none, Actual: none, Accuracy: 100%\n",
            "Word: savoir, Predicted: none, Actual: none, Accuracy: 100%\n",
            "Word: crire, Predicted: none, Actual: none, Accuracy: 100%\n",
            "Word: de, Predicted: none, Actual: none, Accuracy: 100%\n",
            "Word: ce, Predicted: none, Actual: none, Accuracy: 100%\n",
            "Word: enquis, Predicted: none, Actual: none, Accuracy: 100%\n",
            "Word: .j., Predicted: none, Actual: none, Accuracy: 100%\n",
            "Word: Debilles, Predicted: none, Actual: none, Accuracy: 100%\n",
            "Word: Maire, Predicted: none, Actual: none, Accuracy: 100%\n",
            "***Entity Prediction Sample***\n",
            "Word: 6, Predicted: Start, Actual: Start, Accuracy: 100%\n",
            "Word: Jambon, Predicted: none, Actual: Surname, Accuracy: 0%\n",
            "Word: (philibert), Predicted: GivenName, Actual: GivenName, Accuracy: 100%\n",
            "Word: L'an, Predicted: none, Actual: none, Accuracy: 100%\n",
            "Word: mil, Predicted: DeathYear, Actual: DeathYear, Accuracy: 100%\n",
            "Word: huit, Predicted: DeathYear, Actual: DeathYear, Accuracy: 100%\n",
            "Word: cent, Predicted: DeathYear, Actual: DeathYear, Accuracy: 100%\n",
            "Word: vingt-sept,, Predicted: DeathYear, Actual: DeathYear, Accuracy: 100%\n",
            "Word: le, Predicted: none, Actual: none, Accuracy: 100%\n",
            "Word: quatre, Predicted: DeathDay, Actual: DeathDay, Accuracy: 100%\n",
            "Word: du, Predicted: none, Actual: none, Accuracy: 100%\n",
            "Word: mois, Predicted: none, Actual: none, Accuracy: 100%\n",
            "Word: du, Predicted: none, Actual: none, Accuracy: 100%\n",
            "Word: mai,, Predicted: none, Actual: DeathMonth, Accuracy: 0%\n",
            "Word: par, Predicted: none, Actual: none, Accuracy: 100%\n",
            "Word: devant, Predicted: none, Actual: none, Accuracy: 100%\n",
            "Word: nous, Predicted: none, Actual: none, Accuracy: 100%\n",
            "Word: maire,, Predicted: none, Actual: none, Accuracy: 100%\n",
            "Word: officier, Predicted: none, Actual: none, Accuracy: 100%\n",
            "Word: de, Predicted: none, Actual: none, Accuracy: 100%\n",
            "Word: l'etat, Predicted: none, Actual: none, Accuracy: 100%\n",
            "Word: civil, Predicted: none, Actual: none, Accuracy: 100%\n",
            "Word: de, Predicted: none, Actual: none, Accuracy: 100%\n",
            "Word: la, Predicted: none, Actual: none, Accuracy: 100%\n",
            "Word: commune, Predicted: none, Actual: none, Accuracy: 100%\n",
            "Word: de, Predicted: none, Actual: none, Accuracy: 100%\n",
            "Word: Lantigni;, Predicted: none, Actual: none, Accuracy: 100%\n",
            "Word: Dpartement, Predicted: none, Actual: none, Accuracy: 100%\n",
            "Word: du, Predicted: none, Actual: none, Accuracy: 100%\n",
            "Word: Rh´ne,, Predicted: DeathState, Actual: DeathState, Accuracy: 100%\n",
            "Word: canton, Predicted: none, Actual: none, Accuracy: 100%\n",
            "Word: de, Predicted: none, Actual: none, Accuracy: 100%\n",
            "Word: Beaujeu,, Predicted: DeathCity, Actual: none, Accuracy: 0%\n",
            "Word: sont, Predicted: none, Actual: none, Accuracy: 100%\n",
            "Word: comparus, Predicted: none, Actual: none, Accuracy: 100%\n",
            "Word: jean-, Predicted: none, Actual: none, Accuracy: 100%\n",
            "Word: pierre, Predicted: none, Actual: none, Accuracy: 100%\n",
            "Word: Perme, Predicted: none, Actual: none, Accuracy: 100%\n",
            "Word: g, Predicted: none, Actual: none, Accuracy: 100%\n",
            "Word: d'nviron, Predicted: none, Actual: none, Accuracy: 100%\n",
            "Word: vingt-huit, Predicted: none, Actual: none, Accuracy: 100%\n",
            "Word: ans,et, Predicted: none, Actual: none, Accuracy: 100%\n",
            "Word: Antoine, Predicted: none, Actual: none, Accuracy: 100%\n",
            "Word: Labruyer¨, Predicted: none, Actual: none, Accuracy: 100%\n",
            "Word: g, Predicted: none, Actual: none, Accuracy: 100%\n",
            "Word: d'nviron, Predicted: none, Actual: none, Accuracy: 100%\n",
            "Word: cinquante-deux, Predicted: none, Actual: none, Accuracy: 100%\n",
            "Word: ans,, Predicted: none, Actual: none, Accuracy: 100%\n",
            "Word: tous, Predicted: none, Actual: none, Accuracy: 100%\n",
            "Word: les, Predicted: none, Actual: none, Accuracy: 100%\n",
            "Word: deux, Predicted: none, Actual: none, Accuracy: 100%\n",
            "Word: cultivateur, Predicted: none, Actual: none, Accuracy: 100%\n",
            "Word: demeurant, Predicted: none, Actual: none, Accuracy: 100%\n",
            "Word: , Predicted: none, Actual: none, Accuracy: 100%\n",
            "Word: Lantigni,, Predicted: none, Actual: none, Accuracy: 100%\n",
            "Word: les, Predicted: none, Actual: none, Accuracy: 100%\n",
            "Word: quels, Predicted: none, Actual: none, Accuracy: 100%\n",
            "Word: nous, Predicted: none, Actual: none, Accuracy: 100%\n",
            "Word: ont, Predicted: none, Actual: none, Accuracy: 100%\n",
            "Word: dclar, Predicted: none, Actual: none, Accuracy: 100%\n",
            "Word: les, Predicted: none, Actual: none, Accuracy: 100%\n",
            "Word: dites, Predicted: DeathAge, Actual: none, Accuracy: 0%\n",
            "Word: jours, Predicted: DeathAge, Actual: none, Accuracy: 0%\n",
            "Word: mois, Predicted: DeathAge, Actual: none, Accuracy: 0%\n",
            "Word: en, Predicted: none, Actual: none, Accuracy: 100%\n",
            "Word: , Predicted: none, Actual: none, Accuracy: 100%\n",
            "Word: sept, Predicted: none, Actual: none, Accuracy: 100%\n",
            "Word: heures, Predicted: none, Actual: none, Accuracy: 100%\n",
            "Word: du, Predicted: none, Actual: none, Accuracy: 100%\n",
            "Word: matin, Predicted: none, Actual: none, Accuracy: 100%\n",
            "Word: que, Predicted: none, Actual: none, Accuracy: 100%\n",
            "Word: philibert, Predicted: MotherGivenName, Actual: GivenName, Accuracy: 0%\n",
            "Word: jambon, Predicted: Surname, Actual: Surname, Accuracy: 100%\n",
            "Word: g, Predicted: none, Actual: none, Accuracy: 100%\n",
            "Word: d'nviron, Predicted: none, Actual: none, Accuracy: 100%\n",
            "Word: quatre-vingt-sept, Predicted: DeathAge, Actual: DeathAge, Accuracy: 100%\n",
            "Word: ans,, Predicted: DeathAge, Actual: DeathAge, Accuracy: 100%\n",
            "Word: n, Predicted: none, Actual: none, Accuracy: 100%\n",
            "Word: , Predicted: none, Actual: none, Accuracy: 100%\n",
            "Word: Ville;, Predicted: none, Actual: none, Accuracy: 100%\n",
            "Word: neuf, Predicted: none, Actual: none, Accuracy: 100%\n",
            "Word: de, Predicted: none, Actual: none, Accuracy: 100%\n",
            "Word: Michellette, Predicted: none, Actual: SpouseGivenName, Accuracy: 0%\n",
            "Word: Pardon,, Predicted: none, Actual: SpouseSurname, Accuracy: 0%\n",
            "Word: cultivateur, Predicted: none, Actual: none, Accuracy: 100%\n",
            "Word: demeurant, Predicted: none, Actual: none, Accuracy: 100%\n",
            "Word: , Predicted: none, Actual: none, Accuracy: 100%\n",
            "Word: Lantigni,, Predicted: none, Actual: none, Accuracy: 100%\n",
            "Word: est, Predicted: none, Actual: none, Accuracy: 100%\n",
            "Word: dcd, Predicted: none, Actual: none, Accuracy: 100%\n",
            "Word: hier, Predicted: none, Actual: none, Accuracy: 100%\n",
            "Word: , Predicted: none, Actual: none, Accuracy: 100%\n",
            "Word: trois, Predicted: none, Actual: none, Accuracy: 100%\n",
            "Word: heures, Predicted: none, Actual: none, Accuracy: 100%\n",
            "Word: de, Predicted: none, Actual: none, Accuracy: 100%\n",
            "Word: l'aprs, Predicted: none, Actual: none, Accuracy: 100%\n",
            "Word: midi;, Predicted: none, Actual: none, Accuracy: 100%\n",
            "Word: et, Predicted: none, Actual: none, Accuracy: 100%\n",
            "Word: les, Predicted: none, Actual: none, Accuracy: 100%\n",
            "Word: d'clarons, Predicted: none, Actual: none, Accuracy: 100%\n",
            "Word: n'ont, Predicted: none, Actual: none, Accuracy: 100%\n",
            "Word: sign, Predicted: none, Actual: none, Accuracy: 100%\n",
            "Word: avec, Predicted: none, Actual: none, Accuracy: 100%\n",
            "Word: le, Predicted: none, Actual: none, Accuracy: 100%\n",
            "Word: prsent, Predicted: none, Actual: none, Accuracy: 100%\n",
            "Word: acte;, Predicted: none, Actual: none, Accuracy: 100%\n",
            "Word: aprs, Predicted: none, Actual: none, Accuracy: 100%\n",
            "Word: que, Predicted: none, Actual: none, Accuracy: 100%\n",
            "Word: lecture., Predicted: none, Actual: none, Accuracy: 100%\n",
            "Word: leur, Predicted: none, Actual: none, Accuracy: 100%\n",
            "Word: en, Predicted: none, Actual: none, Accuracy: 100%\n",
            "Word: , Predicted: none, Actual: none, Accuracy: 100%\n",
            "Word: t, Predicted: none, Actual: none, Accuracy: 100%\n",
            "Word: faite,, Predicted: none, Actual: none, Accuracy: 100%\n",
            "Word: pour, Predicted: none, Actual: none, Accuracy: 100%\n",
            "Word: ne, Predicted: none, Actual: none, Accuracy: 100%\n",
            "Word: savoir, Predicted: none, Actual: none, Accuracy: 100%\n",
            "Word: crire, Predicted: none, Actual: none, Accuracy: 100%\n",
            "Word: de, Predicted: none, Actual: none, Accuracy: 100%\n",
            "Word: ce, Predicted: none, Actual: none, Accuracy: 100%\n",
            "Word: enquis, Predicted: none, Actual: none, Accuracy: 100%\n",
            "Word: .j., Predicted: none, Actual: none, Accuracy: 100%\n",
            "Word: Jambon, Predicted: none, Actual: none, Accuracy: 100%\n",
            "Word: Debille, Predicted: none, Actual: none, Accuracy: 100%\n",
            "Word: Maire, Predicted: none, Actual: none, Accuracy: 100%\n",
            "Finished.\n"
          ],
          "name": "stdout"
        }
      ]
    },
    {
      "cell_type": "markdown",
      "metadata": {
        "id": "EtZWK_3QG5hm",
        "colab_type": "text"
      },
      "source": [
        "Use sklearn to create the confusion matrix from the actual/predicted values"
      ]
    },
    {
      "cell_type": "code",
      "metadata": {
        "id": "QTb_Mb9_vI4X",
        "colab_type": "code",
        "colab": {}
      },
      "source": [
        "matrix = metrics.confusion_matrix(y_true, y_pred)\n",
        "matrix"
      ],
      "execution_count": null,
      "outputs": []
    },
    {
      "cell_type": "markdown",
      "metadata": {
        "id": "m9sa_nX5G9t-",
        "colab_type": "text"
      },
      "source": [
        "Print the Heatmap and convert the index class labels back to their original\n",
        "text representation."
      ]
    },
    {
      "cell_type": "code",
      "metadata": {
        "id": "jHMCc3VAxvE0",
        "colab_type": "code",
        "colab": {
          "base_uri": "https://localhost:8080/",
          "height": 745
        },
        "outputId": "f46bc599-7e41-4d14-80b4-21faa05fe414"
      },
      "source": [
        "encoder.idx_to_entity(1)\n",
        "class_labels = [encoder.idx_to_entity(i) for i in range(encoder.num_classes())]\n",
        "\n",
        "plt.figure(figsize = (16, 10))\n",
        "sns.heatmap(matrix, annot=True, fmt='d', xticklabels=class_labels, yticklabels=class_labels)\n",
        "\n",
        "plt.title('Confusion Matrix', fontdict={'fontsize': 30})\n",
        "plt.xlabel('Predicted', fontdict={'fontsize': 20})\n",
        "plt.ylabel('Actual', fontdict={'fontsize': 20})"
      ],
      "execution_count": 178,
      "outputs": [
        {
          "output_type": "execute_result",
          "data": {
            "text/plain": [
              "Text(123.0, 0.5, 'Actual')"
            ]
          },
          "metadata": {
            "tags": []
          },
          "execution_count": 178
        },
        {
          "output_type": "display_data",
          "data": {
            "image/png": "[encoded data removed]",
            "text/plain": [
              "<Figure size 1152x720 with 2 Axes>"
            ]
          },
          "metadata": {
            "tags": [],
            "needs_background": "light"
          }
        }
      ]
    },
    {
      "cell_type": "code",
      "metadata": {
        "id": "whatny6vD0zN",
        "colab_type": "code",
        "colab": {
          "base_uri": "https://localhost:8080/",
          "height": 70
        },
        "outputId": "f3dbee95-957c-4e38-df3f-2b5bfa57fb3b"
      },
      "source": [
        "print('Accuracies Based on Category:')\n",
        "\n",
        "sums = np.sum(matrix, axis=0)\n",
        "\n",
        "for i in range(len(matrix[0])):\n",
        "  print('- ', encoder.idx_to_entity(i) + ' ({}): '.format(i), matrix[i][i] / sums[i])"
      ],
      "execution_count": null,
      "outputs": [
        {
          "output_type": "stream",
          "text": [
            "Accuracies Based on Category:\n",
            "-  Start (0):  0.5208333333333334\n",
            "-  none (1):  0.9967465753424658\n"
          ],
          "name": "stdout"
        }
      ]
    }
  ]
}