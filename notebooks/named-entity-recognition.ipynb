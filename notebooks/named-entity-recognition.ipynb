{
  "nbformat": 4,
  "nbformat_minor": 0,
  "metadata": {
    "colab": {
      "name": "notebook.ipynb",
      "provenance": [],
      "include_colab_link": true
    },
    "kernelspec": {
      "name": "python3",
      "display_name": "Python 3"
    },
    "accelerator": "GPU"
  },
  "cells": [
    {
      "cell_type": "markdown",
      "metadata": {
        "id": "view-in-github",
        "colab_type": "text"
      },
      "source": [
        "<a href=\"https://colab.research.google.com/github/BYU-Handwriting-Lab/GettingStarted/blob/solution/notebooks/named-entity-recognition.ipynb\" target=\"_parent\"><img src=\"https://colab.research.google.com/assets/colab-badge.svg\" alt=\"Open In Colab\"/></a>"
      ]
    },
    {
      "cell_type": "markdown",
      "metadata": {
        "id": "VPrUn5n6CwCJ"
      },
      "source": [
        "# Named-Entity-Recognition in TensorFlow 2\n",
        "\n",
        "This notebook contains code to do Named Entity Reconition in TensorFlow 2."
      ]
    },
    {
      "cell_type": "markdown",
      "metadata": {
        "id": "Q1sGqnTaFtjd"
      },
      "source": [
        "## Imports and Dependencies\n",
        "\n",
        "TensorFlow Addons apparently has an implementation of CRF that is compatible with TF2 and tf.keras."
      ]
    },
    {
      "cell_type": "code",
      "metadata": {
        "id": "_sKdrBf7C3zT"
      },
      "source": [
        "# Used in Colab to say we're using Version 2\n",
        "try:\n",
        "  %tensorflow_version 2.x\n",
        "except Exception:\n",
        "  pass"
      ],
      "execution_count": 1,
      "outputs": []
    },
    {
      "cell_type": "code",
      "metadata": {
        "id": "vq00R5VjDx_0"
      },
      "source": [
        "# TensorFlow\n",
        "import tensorflow as tf\n",
        "import tensorflow_hub as hub\n",
        "import tensorflow_addons as tfa\n",
        "import tensorflow.keras as K\n",
        "import tensorflow.keras.layers as L\n",
        "\n",
        "# Python\n",
        "import os\n",
        "import string\n",
        "import re\n",
        "\n",
        "# Data Structures\n",
        "import numpy as np\n",
        "import pandas as pd\n",
        "import json\n",
        "\n",
        "# Image/Plotting\n",
        "from matplotlib import pyplot as plt\n",
        "from sklearn import metrics\n",
        "import seaborn as sns\n",
        "\n",
        "# Debugging\n",
        "from tqdm import tqdm\n",
        "from IPython.core.ultratb import AutoFormattedTB\n",
        "__ITB__ = AutoFormattedTB(mode='Plain', color_scheme='LightBg', tb_offset=1) # Change to 'Verbose' mode for additional debugging"
      ],
      "execution_count": 2,
      "outputs": []
    },
    {
      "cell_type": "code",
      "metadata": {
        "id": "aowidUPYPhto"
      },
      "source": [
        "# Insert file path to Esposalles Dataset in your Google Drive\n",
        "# Note that '!' indicates a shell command rather than python code...\n",
        "\n",
        "# French NER\n",
        "# ID: 1ZsJ8cZSDU98GpcK-kl_Cq3eTt-R2YvSJ\n",
        "!wget -q --load-cookies /tmp/cookies.txt \"https://docs.google.com/uc?export=download&confirm=$(wget --quiet --save-cookies /tmp/cookies.txt --keep-session-cookies --no-check-certificate 'https://docs.google.com/uc?export=download&id=1ZsJ8cZSDU98GpcK-kl_Cq3eTt-R2YvSJ' -O- | sed -rn 's/.*confirm=([0-9A-Za-z_]+).*/\\1\\n/p')&id=1ZsJ8cZSDU98GpcK-kl_Cq3eTt-R2YvSJ\" -O french_ner.txt && rm -rf /tmp/cookies.txt\n",
        "\n",
        "# French Text\n",
        "# ID: 1M26Gpca8Ug4YvRLxoUDDCjMBeJtojITY\n",
        "!wget -q --load-cookies /tmp/cookies.txt \"https://docs.google.com/uc?export=download&confirm=$(wget --quiet --save-cookies /tmp/cookies.txt --keep-session-cookies --no-check-certificate 'https://docs.google.com/uc?export=download&id=1wDMLz9hTmfvPhkhCHTylbeAU6Utpkqb1' -O- | sed -rn 's/.*confirm=([0-9A-Za-z_]+).*/\\1\\n/p')&id=1wDMLz9hTmfvPhkhCHTylbeAU6Utpkqb1\" -O french_text.txt && rm -rf /tmp/cookies.t\n",
        "\n",
        "# Word Embedding Weights\n",
        "# ID: 1fF4wo-nTHLWENpCSQ6Q4NTsGr60SPmOM\n",
        "!wget -q --load-cookies /tmp/cookies.txt \"https://docs.google.com/uc?export=download&confirm=$(wget --quiet --save-cookies /tmp/cookies.txt --keep-session-cookies --no-check-certificate 'https://docs.google.com/uc?export=download&id=1fF4wo-nTHLWENpCSQ6Q4NTsGr60SPmOM' -O- | sed -rn 's/.*confirm=([0-9A-Za-z_]+).*/\\1\\n/p')&id=1fF4wo-nTHLWENpCSQ6Q4NTsGr60SPmOM\" -O french_embedding_weights.npy && rm -rf /tmp/cookies.t"
      ],
      "execution_count": 3,
      "outputs": []
    },
    {
      "cell_type": "markdown",
      "metadata": {
        "id": "B7IRJQe-G7Mw"
      },
      "source": [
        "## Encoding Class\n",
        "\n",
        "The encoding class helps us map between strings and indexes."
      ]
    },
    {
      "cell_type": "code",
      "metadata": {
        "id": "FGt4v-Oo_q16"
      },
      "source": [
        "DEFAULT_CHARS = ' !\"#$%&\\'()*+,-./0123456789:;=?ABCDEFGHIJKLMNOPQRSTUVWXYZ[]_`abcdefghijklmnopqrstuvwxyz|~£§¨«¬\\xad' \\\n",
        "                '°²´·º»¼½¾ÀÂÄÇÈÉÊÔÖÜßàáâäæçèéêëìîïñòóôöøùúûüÿłŒœΓΖΤάήαδεηικλμνξοπρτυχψωόώІ‒–—†‡‰‹›₂₤℔⅓⅔⅕⅖⅗⅘⅙⅚⅛∆∇∫≠□♀♂✓ｆ'\n",
        "# The default list of non-punctuation characters needed for the word beam search decoding algorithm\n",
        "DEFAULT_NON_PUNCTUATION = 'ABCDEFGHIJKLMNOPQRSTUVWXYZabcdefghijklmnopqrstuvwxyzÀÂÄÇÈÉÊÔÖÜßàáâäæçèéêëìîïñòóôöøùúûüÿ' \\\n",
        "                          'łŒœΓΖΤάήαδεηικλμνξοπρτυχψωόώІ'\n",
        "\n",
        "DEFAULT_PUNCTUATION = string.punctuation + '0123456789'"
      ],
      "execution_count": 7,
      "outputs": []
    },
    {
      "cell_type": "code",
      "metadata": {
        "id": "6mojiXfQ_nTz"
      },
      "source": [
        "lines = open('french_text.txt', 'r', encoding='utf8').readlines()\n",
        "\n",
        "french_words = []\n",
        "for line in lines:\n",
        "    french_words.extend(line.split())\n",
        "french_words = ' '.join(french_words)"
      ],
      "execution_count": 8,
      "outputs": []
    },
    {
      "cell_type": "code",
      "metadata": {
        "id": "zNpDzP01Dgij"
      },
      "source": [
        "class Tokenizer:\n",
        "    def __init__(self, corpus, word_chars, punctuation, lower=False):\n",
        "        self.word_chars = word_chars\n",
        "        self.punctuation = punctuation\n",
        "        self.regex = r\"[\" + self.word_chars + r\"]+|[^\\s]\" \n",
        "\n",
        "        words = self.split(corpus)\n",
        "        all_words_list = words + list(punctuation)\n",
        "        all_words_list_unique = list(set(all_words_list))\n",
        "        all_words = [' '.join(all_words_list_unique)]\n",
        "\n",
        "        self.total_tokens = len(all_words_list_unique) + 2 # +2 to account for 0 (reserved) and 1 (OOV)\n",
        "        self.tokenizer = tf.keras.preprocessing.text.Tokenizer(num_words=self.total_tokens, filters='', lower=lower, oov_token='<OOV>')\n",
        "        self.tokenizer.fit_on_texts(all_words)\n",
        "\n",
        "    def split(self, text):\n",
        "        return re.findall(self.regex, text)\n",
        "\n",
        "    def texts_to_sequences(self, text):\n",
        "        words = self.split(text)\n",
        "        return self.tokenizer.texts_to_sequences([' '.join(words)])"
      ],
      "execution_count": 9,
      "outputs": []
    },
    {
      "cell_type": "code",
      "metadata": {
        "id": "ge-5IqB4rhn3",
        "outputId": "a01c9589-2a3f-4d93-fdbb-fd586420da27",
        "colab": {
          "base_uri": "https://localhost:8080/"
        }
      },
      "source": [
        "df = pd.read_csv('french_ner.txt', sep='\\t', names=['word', 'entity', 'id'], header=None)\n",
        "df.loc[df['entity'] == 'DeathCity', 'entity'] = 'DeathPlace'\n",
        "df.loc[df['entity'] == 'DeathCounty', 'entity'] = 'DeathPlace'\n",
        "df.loc[df['entity'] == 'DeathCountry', 'entity'] = 'DeathPlace'\n",
        "df.loc[df['entity'] == 'DeathState', 'entity'] = 'DeathPlace'\n",
        "\n",
        "df.loc[df['entity'] == 'DeathDay', 'entity'] = 'DeathDate'\n",
        "df.loc[df['entity'] == 'DeathMonth', 'entity'] = 'DeathDate'\n",
        "df.loc[df['entity'] == 'DeathYear', 'entity'] = 'DeathDate'\n",
        "\n",
        "df.loc[df['entity'] == 'BirthDay', 'entity'] = 'BirthDate'\n",
        "df.loc[df['entity'] == 'BirthMonth', 'entity'] = 'BirthDate'\n",
        "df.loc[df['entity'] == 'BirthYear', 'entity'] = 'BirthDate'\n",
        "\n",
        "df.loc[df['entity'] == 'BirthCity', 'entity'] = 'none'\n",
        "df.loc[df['entity'] == 'BirthState', 'entity'] = 'none'\n",
        "df.loc[df['entity'] == 'BirthCounty', 'entity'] = 'none'\n",
        "\n",
        "df.loc[df['entity'] == 'GivenName', 'entity'] = 'Name'\n",
        "df.loc[df['entity'] == 'GIvenName', 'entity'] = 'Name'\n",
        "df.loc[df['entity'] == 'Surname', 'entity'] = 'Name'\n",
        "\n",
        "df.loc[df['entity'] == 'MotherGivenName', 'entity'] = 'OtherName'\n",
        "df.loc[df['entity'] == 'MothGivenName', 'entity'] = 'OtherName'\n",
        "df.loc[df['entity'] == 'MotherSurname', 'entity'] = 'OtherName'\n",
        "df.loc[df['entity'] == 'FatherGivenName', 'entity'] = 'OtherName'\n",
        "df.loc[df['entity'] == 'FatherSurname', 'entity'] = 'OtherName'\n",
        "df.loc[df['entity'] == 'SpouseGivenName', 'entity'] = 'OtherName'\n",
        "df.loc[df['entity'] == 'SpouseSurname', 'entity'] = 'OtherName'\n",
        "df.loc[df['entity'] == 'OtherGivenName', 'entity'] = 'OtherName'\n",
        "df.loc[df['entity'] == 'OtherSurname', 'entity'] = 'OtherName'\n",
        "\n",
        "entities = list(set(list(df['entity']))) + ['Start']\n",
        "print('Possible Entities:', entities)\n",
        "\n",
        "entity2idx = {}\n",
        "idx2entity = {}\n",
        "\n",
        "for index, entity in enumerate(entities):\n",
        "    entity2idx[entity] = index\n",
        "    idx2entity[index] = entity"
      ],
      "execution_count": 10,
      "outputs": [
        {
          "output_type": "stream",
          "text": [
            "Possible Entities: ['DeathDate', 'Name', 'BirthDate', 'none', 'DeathPlace', 'DeathAge', 'OtherName', 'Start']\n"
          ],
          "name": "stdout"
        }
      ]
    },
    {
      "cell_type": "code",
      "metadata": {
        "id": "NRvSdI9ADF0R",
        "outputId": "2c5c9ab9-7984-48cb-9d31-53d684ee5e7f",
        "colab": {
          "base_uri": "https://localhost:8080/",
          "height": 35
        }
      },
      "source": [
        "idx2entity[7]"
      ],
      "execution_count": 11,
      "outputs": [
        {
          "output_type": "execute_result",
          "data": {
            "application/vnd.google.colaboratory.intrinsic+json": {
              "type": "string"
            },
            "text/plain": [
              "'Start'"
            ]
          },
          "metadata": {
            "tags": []
          },
          "execution_count": 11
        }
      ]
    },
    {
      "cell_type": "code",
      "metadata": {
        "id": "uOOIqRaftRQh"
      },
      "source": [
        "tokenizer = Tokenizer(french_words, DEFAULT_NON_PUNCTUATION, DEFAULT_PUNCTUATION)\n",
        "\n",
        "data = df.values\n",
        "\n",
        "words = []\n",
        "labels = []\n",
        "current_id = 0\n",
        "for word, entity, id in data:\n",
        "    if current_id != id:\n",
        "        current_id = id\n",
        "        entity = 'Start'\n",
        "\n",
        "    tokens = tokenizer.texts_to_sequences(word)[0]\n",
        "    idx = entity2idx[entity]\n",
        "    for token in tokens:\n",
        "        words.append(token)\n",
        "        labels.append(idx)"
      ],
      "execution_count": 12,
      "outputs": []
    },
    {
      "cell_type": "code",
      "metadata": {
        "id": "U8KBSYnzwpan",
        "outputId": "28e31354-b836-4cfd-b2fb-35ddc9ea56b7",
        "colab": {
          "base_uri": "https://localhost:8080/"
        }
      },
      "source": [
        "dataset = tf.data.Dataset.from_tensor_slices((words, labels))\n",
        "for word, entity in dataset.take(1):\n",
        "    print(word)\n",
        "    print(entity)"
      ],
      "execution_count": 13,
      "outputs": [
        {
          "output_type": "stream",
          "text": [
            "tf.Tensor(13705, shape=(), dtype=int32)\n",
            "tf.Tensor(3, shape=(), dtype=int32)\n"
          ],
          "name": "stdout"
        }
      ]
    },
    {
      "cell_type": "markdown",
      "metadata": {
        "id": "_5mgsr2oGPFh"
      },
      "source": [
        "## Model Architecture\n",
        "\n",
        "This is where we can build our model using the tf.keras high-level API\n",
        "\n",
        "We subclass from tf.keras.Model and implement the *call* method. This is the *forward pass* of the neural network."
      ]
    },
    {
      "cell_type": "code",
      "metadata": {
        "id": "9Eh7VDEtd1k4",
        "outputId": "6e07eb4f-4471-4071-81ae-660a356033dd",
        "colab": {
          "base_uri": "https://localhost:8080/"
        }
      },
      "source": [
        "tf.keras.layers.Embedding(100, 128, weights=None)"
      ],
      "execution_count": 15,
      "outputs": [
        {
          "output_type": "execute_result",
          "data": {
            "text/plain": [
              "<tensorflow.python.keras.layers.embeddings.Embedding at 0x7f1ef00a6080>"
            ]
          },
          "metadata": {
            "tags": []
          },
          "execution_count": 15
        }
      ]
    },
    {
      "cell_type": "code",
      "metadata": {
        "id": "PKXklX-gGYD_"
      },
      "source": [
        "class NERModel(K.Model):\n",
        "  def __init__(self, input_dim=25_000, num_classes=9, embedding_weights=None, trainable=True):\n",
        "    super(NERModel, self).__init__()\n",
        "\n",
        "    self.embedding = L.Embedding(input_dim=input_dim, output_dim=128, mask_zero=True, trainable=trainable, weights=embedding_weights)\n",
        "\n",
        "    self.lstm = L.Bidirectional(L.LSTM(256, return_sequences=True))\n",
        "    self.conv1 = L.Conv1D(64, 5, padding='same', activation='relu')\n",
        "    self.conv2 = L.Conv1D(128, 5, padding='same', activation='relu')\n",
        "    self.conv3 = L.Conv1D(256, 5, padding='same', activation='relu')\n",
        "    self.dense1 = L.Dense(128, activation='relu')\n",
        "    self.drop = L.Dropout(0.5)\n",
        "    self.dense2 = L.Dense(num_classes)\n",
        "\n",
        "  def __call__(self, x, **kwargs):\n",
        "    out = self.embedding(x)\n",
        "    out = tf.expand_dims(out, 0)\n",
        "    out = self.lstm(out)\n",
        "    out = self.conv1(out)\n",
        "    out = self.conv2(out)\n",
        "    out = self.conv3(out)\n",
        "    out = self.dense1(out)\n",
        "    out = self.drop(out)\n",
        "    out = tf.squeeze(out, 0)\n",
        "    out = self.dense2(out)\n",
        "\n",
        "    return out"
      ],
      "execution_count": 20,
      "outputs": []
    },
    {
      "cell_type": "markdown",
      "metadata": {
        "id": "GzvxSgFXNZJK"
      },
      "source": [
        "### Test to make sure the model is doing what we think it is...\n",
        "\n",
        "The output shape should be (NUM_WORDS_IN_SENTENCE, NUM_CLASSES). Example: (41, 6)\n",
        "\n",
        "The values along Axis=0 represents a word\n",
        "\n",
        "The values along Axis=1 represents the probability distribution"
      ]
    },
    {
      "cell_type": "code",
      "metadata": {
        "id": "LWNHjmyx_cvy",
        "outputId": "a8027cf7-6c0e-4a31-9f0c-4818d0484171",
        "colab": {
          "base_uri": "https://localhost:8080/"
        }
      },
      "source": [
        "pretrained_embedding_weights = np.load('french_embedding_weights.npy')\n",
        "\n",
        "model = NERModel(input_dim=tokenizer.total_tokens, num_classes=8, embedding_weights=[pretrained_embedding_weights], trainable=False)\n",
        "\n",
        "for word, entity in dataset.batch(5).take(1):\n",
        "    results = model(word)\n",
        "    print('Shape of output from NER Model: ', results.shape)\n",
        "    print('Probability Distribution for one word in the sentence: ', results[0])\n",
        "    print('Predicted class for the word: ', tf.argmax(results[0]).numpy())"
      ],
      "execution_count": 21,
      "outputs": [
        {
          "output_type": "stream",
          "text": [
            "Shape of output from NER Model:  (5, 8)\n",
            "Probability Distribution for one word in the sentence:  tf.Tensor(\n",
            "[ 0.00500282 -0.00387727  0.00123534 -0.0107022   0.00577882  0.02685611\n",
            " -0.00582559  0.00305961], shape=(8,), dtype=float32)\n",
            "Predicted class for the word:  5\n"
          ],
          "name": "stdout"
        }
      ]
    },
    {
      "cell_type": "markdown",
      "metadata": {
        "id": "9isM9-2-qzQA"
      },
      "source": [
        "## Evaluation Metrics\n",
        "\n",
        "For named-entity-recognition, we will use Precision, Recall, and F1 for our\n",
        "metrics. An easy way to do this is using sklearn metrics. We need to define\n",
        "custom functions so that we can pass the *average* parameter when it's wrapped\n",
        "in a *tf.py_function*."
      ]
    },
    {
      "cell_type": "code",
      "metadata": {
        "id": "B7MASql6evPg"
      },
      "source": [
        "def precision_score(y_true, y_pred):\n",
        "  return metrics.precision_score(y_true, y_pred, average='macro')\n",
        "\n",
        "def recall_score(y_true, y_pred):\n",
        "  return metrics.recall_score(y_true, y_pred, average='macro')\n",
        "\n",
        "def f1_score(y_true, y_pred):\n",
        "  return metrics.f1_score(y_true, y_pred, average='macro')"
      ],
      "execution_count": 23,
      "outputs": []
    },
    {
      "cell_type": "markdown",
      "metadata": {
        "id": "eo6dYjU7HGxv"
      },
      "source": [
        "## Training Loop\n",
        "\n",
        "Build our training loop and creating custom train_step and val_step functions.\n",
        "\n",
        "GradientTape allows us to keep track of the losses and gradients for each pass through the network. Structuring our code this way makes it much easier for debugging purposes and for us to iterate through our design.\n",
        "\n",
        "Notice the decorator *@tf.function*. This tells TensorFlow to create the computation graph from the python code and allows our model to run much faster. The *experimental_relax_shapes* parameter allows us to pass tensors with various sentence lengths without TensorFlow getting upset at us.\n",
        "\n",
        "TensorFlow 2 also does some weird things with scope when it constructs the computation graph through a @tf.function annotation. Thus, if we use a more object oriented approach, we can avoid some of the nasty scope issues. See the following articles for more details:\n",
        "* https://pgaleone.eu/tensorflow/tf.function/2019/03/21/dissecting-tf-function-part-1/\n",
        "* https://pgaleone.eu/tensorflow/tf.function/2019/04/03/dissecting-tf-function-part-2/\n"
      ]
    },
    {
      "cell_type": "code",
      "metadata": {
        "id": "yJKYEv0JVPoG"
      },
      "source": [
        "class Train:\n",
        "  def __init__(self):\n",
        "    # How many times through the training set should we go?\n",
        "    self.epochs = 50\n",
        "    self.batch_size = 1\n",
        "    self.num_classes = 8\n",
        "\n",
        "    # Break up dataset into training/validation\n",
        "    dataset = tf.data.Dataset.from_tensor_slices((words, labels))\n",
        "\n",
        "    dataset_size = dataset.cardinality().numpy()\n",
        "    self.train_dataset_size = int(dataset_size * 0.8)\n",
        "    self.val_dataset_size = dataset_size - self.train_dataset_size\n",
        "\n",
        "    self.train_dataset = dataset.take(self.train_dataset_size).batch(self.batch_size)\n",
        "    self.val_dataset = dataset.skip(self.train_dataset_size).batch(self.batch_size)\n",
        "\n",
        "    embedding_weights = [np.load('french_embedding_weights.npy')]\n",
        "\n",
        "    # Create our model\n",
        "    self.model = NERModel(input_dim=tokenizer.total_tokens,\n",
        "                          num_classes=self.num_classes,\n",
        "                          embedding_weights=embedding_weights,\n",
        "                          trainable=False)\n",
        "\n",
        "    # Use CrossEntropy for our loss function and Adam for our optimizer\n",
        "    self.loss_fn = K.losses.SparseCategoricalCrossentropy(from_logits=True)\n",
        "    self.optimizer = K.optimizers.Adam(learning_rate=1e-4)\n",
        "\n",
        "    # Metrics to track our performance\n",
        "    # Consider adding metrics like Precision/Recall here...\n",
        "    self.train_loss = tf.keras.metrics.Mean(name='train_loss')\n",
        "    self.train_precision = tf.keras.metrics.Mean(name='train_precision')\n",
        "    self.train_recall = tf.keras.metrics.Mean(name='train_recall')\n",
        "    self.train_f1 = tf.keras.metrics.Mean(name='train_f1')\n",
        "    self.val_loss = tf.keras.metrics.Mean(name='val_loss')\n",
        "    self.val_precision = tf.keras.metrics.Mean(name='val_precision')\n",
        "    self.val_recall = tf.keras.metrics.Mean(name='val_recall')\n",
        "    self.val_f1 = tf.keras.metrics.Mean(name='val_f1')\n",
        "\n",
        "  @tf.function(experimental_relax_shapes=True)\n",
        "  def train_step(self, words, labels, ones):\n",
        "    with tf.GradientTape() as tape:\n",
        "      # Make a prediction, calculate the loss\n",
        "      predictions = self.model(words, training=True)\n",
        "      loss = self.loss_fn(labels, predictions)\n",
        "\n",
        "    # Obtain gradients from GradientTape\n",
        "    gradients = tape.gradient(loss, self.model.trainable_variables)\n",
        "\n",
        "    # Propagate loss back through the network and take a step with the optimizer  \n",
        "    self.optimizer.apply_gradients(zip(gradients, self.model.trainable_variables))\n",
        "    \n",
        "    # Update our metrics\n",
        "    results = tf.argmax(predictions, axis=1)\n",
        "    precision = tf.py_function(precision_score, [labels, results], Tout=[tf.float32])\n",
        "    recall = tf.py_function(recall_score, [labels, results], Tout=[tf.float32])\n",
        "    f1 = tf.py_function(f1_score, [labels, results], Tout=[tf.float32])\n",
        "\n",
        "    self.train_loss(loss)\n",
        "    self.train_precision(precision)\n",
        "    self.train_recall(recall)\n",
        "    self.train_f1(f1)\n",
        "\n",
        "  @tf.function(experimental_relax_shapes=True)\n",
        "  def validation_step(self, words, labels, ones):\n",
        "    # Make a prediction and calculate the loss\n",
        "    predictions = self.model(words, training=False)\n",
        "    loss = self.loss_fn(labels, predictions)\n",
        "\n",
        "    # Update our metrics\n",
        "    results = tf.argmax(predictions, axis=1)\n",
        "    precision = tf.py_function(precision_score, [labels, results], Tout=[tf.float32])\n",
        "    recall = tf.py_function(recall_score, [labels, results], Tout=[tf.float32])\n",
        "    f1 = tf.py_function(f1_score, [labels, results], Tout=[tf.float32])\n",
        "\n",
        "    self.val_loss(loss)\n",
        "    self.val_precision(precision)\n",
        "    self.val_recall(recall)\n",
        "    self.val_f1(f1)\n",
        "\n",
        "  def __call__(self):\n",
        "    # Variables to keep track of our progress through the entire training process\n",
        "    # Used below when we create our graphs\n",
        "    try:\n",
        "      train_losses, val_losses = [], []\n",
        "      train_precisions, val_precisions = [], []\n",
        "      train_recalls, val_recalls = [], []\n",
        "      train_f1s, val_f1s = [], []\n",
        "\n",
        "      for epoch in range(self.epochs):\n",
        "        # Reset Metrics for another epoch\n",
        "        self.train_loss.reset_states()\n",
        "        self.train_precision.reset_states()\n",
        "        self.train_recall.reset_states()\n",
        "        self.train_f1.reset_states()\n",
        "        self.val_loss.reset_states()\n",
        "        self.val_precision.reset_states()\n",
        "        self.val_recall.reset_states()\n",
        "        self.val_f1.reset_states()\n",
        "\n",
        "        # self.model.lstm.reset_states()\n",
        "\n",
        "        # Training Loop\n",
        "        train_loop = tqdm(total=int(np.round(self.train_dataset_size/self.batch_size)), position=0, leave=True)\n",
        "        for words, labels in self.train_dataset:\n",
        "          # One training iteration\n",
        "          self.train_step(words, labels, tf.ones(labels.shape[0], dtype=tf.int32))\n",
        "          train_loop.set_description('Train - Epoch: {}, Loss: {:.4f}, Precision: {:.4f}, Recall: {:.4f}, F1: {:.4f}'.format(\n",
        "              epoch, self.train_loss.result(), self.train_precision.result(), self.train_recall.result(), self.train_f1.result()))\n",
        "          train_loop.update(1)\n",
        "\n",
        "        train_loop.close()\n",
        "\n",
        "        # self.model.lstm.reset_states()\n",
        "\n",
        "        # Validation Loop\n",
        "        val_loop = tqdm(total=int(np.round(self.val_dataset_size/self.batch_size)), position=0, leave=True)\n",
        "        for words, labels in self.val_dataset:\n",
        "          # One validation iteration\n",
        "          self.validation_step(words, labels, tf.ones(labels.shape[0], dtype=tf.int32))\n",
        "          val_loop.set_description('Val  - Epoch: {}, Loss: {:.4f}, Precision: {:.4f}, Recall: {:.4f}, F1: {:.4f}'.format(\n",
        "              epoch, self.val_loss.result(), self.val_precision.result(), self.val_recall.result(), self.val_f1.result()))\n",
        "          val_loop.update(1)\n",
        "          \n",
        "        val_loop.close()\n",
        "\n",
        "        train_losses.append(self.train_loss.result())\n",
        "        val_losses.append(self.val_loss.result())\n",
        "\n",
        "        train_precisions.append(self.train_precision.result())\n",
        "        val_precisions.append(self.val_precision.result())\n",
        "\n",
        "        train_recalls.append(self.train_recall.result())\n",
        "        val_recalls.append(self.val_recall.result())\n",
        "\n",
        "        train_f1s.append(self.train_f1.result())\n",
        "        val_f1s.append(self.val_f1.result())\n",
        "    except:\n",
        "      __ITB__()\n",
        "    finally:\n",
        "      return self.model, (train_losses, val_losses), (train_precisions, val_precisions), (train_recalls, val_recalls), (train_f1s, val_f1s)"
      ],
      "execution_count": 37,
      "outputs": []
    },
    {
      "cell_type": "code",
      "metadata": {
        "id": "wBpXGf__kxJi",
        "outputId": "5f42f8be-2219-4377-fed9-65010fea9efb",
        "colab": {
          "base_uri": "https://localhost:8080/"
        }
      },
      "source": [
        "for word, label in dataset.take(30).batch(1):\n",
        "    output = train.model(word)\n",
        "    prediction = tf.argmax(output, 1)\n",
        "    print('prediction:', prediction.numpy())\n",
        "    print('label:', label.numpy())"
      ],
      "execution_count": 45,
      "outputs": [
        {
          "output_type": "stream",
          "text": [
            "prediction: [3]\n",
            "label: [3]\n",
            "prediction: [3]\n",
            "label: [3]\n",
            "prediction: [3]\n",
            "label: [3]\n",
            "prediction: [3]\n",
            "label: [0]\n",
            "prediction: [3]\n",
            "label: [0]\n",
            "prediction: [3]\n",
            "label: [0]\n",
            "prediction: [3]\n",
            "label: [0]\n",
            "prediction: [3]\n",
            "label: [0]\n",
            "prediction: [3]\n",
            "label: [0]\n",
            "prediction: [3]\n",
            "label: [0]\n",
            "prediction: [3]\n",
            "label: [0]\n",
            "prediction: [3]\n",
            "label: [0]\n",
            "prediction: [3]\n",
            "label: [3]\n",
            "prediction: [4]\n",
            "label: [3]\n",
            "prediction: [3]\n",
            "label: [0]\n",
            "prediction: [3]\n",
            "label: [0]\n",
            "prediction: [3]\n",
            "label: [0]\n",
            "prediction: [3]\n",
            "label: [0]\n",
            "prediction: [3]\n",
            "label: [0]\n",
            "prediction: [3]\n",
            "label: [0]\n",
            "prediction: [3]\n",
            "label: [3]\n",
            "prediction: [3]\n",
            "label: [3]\n",
            "prediction: [3]\n",
            "label: [3]\n",
            "prediction: [3]\n",
            "label: [3]\n",
            "prediction: [3]\n",
            "label: [3]\n",
            "prediction: [3]\n",
            "label: [3]\n",
            "prediction: [3]\n",
            "label: [3]\n",
            "prediction: [3]\n",
            "label: [3]\n",
            "prediction: [3]\n",
            "label: [3]\n",
            "prediction: [3]\n",
            "label: [3]\n"
          ],
          "name": "stdout"
        }
      ]
    },
    {
      "cell_type": "code",
      "metadata": {
        "id": "sSrAZsyHX3VL",
        "outputId": "ee7a85a5-220a-4207-f174-9cfff2cb2e31",
        "colab": {
          "base_uri": "https://localhost:8080/"
        }
      },
      "source": [
        "try:\n",
        "  train = Train()\n",
        "  model, losses, precisions, recalls, f1s = train()\n",
        "except:\n",
        "  __ITB__()"
      ],
      "execution_count": 38,
      "outputs": [
        {
          "output_type": "stream",
          "text": [
            "  0%|          | 0/6283 [00:00<?, ?it/s]/usr/local/lib/python3.6/dist-packages/sklearn/metrics/_classification.py:1272: UndefinedMetricWarning: Precision is ill-defined and being set to 0.0 in labels with no predicted samples. Use `zero_division` parameter to control this behavior.\n",
            "  _warn_prf(average, modifier, msg_start, len(result))\n",
            "/usr/local/lib/python3.6/dist-packages/sklearn/metrics/_classification.py:1272: UndefinedMetricWarning: Recall is ill-defined and being set to 0.0 in labels with no true samples. Use `zero_division` parameter to control this behavior.\n",
            "  _warn_prf(average, modifier, msg_start, len(result))\n",
            "Train - Epoch: 0, Loss: 0.7878, Precision: 0.7799, Recall: 0.7799, F1: 0.7799: 100%|██████████| 6283/6283 [05:42<00:00, 18.32it/s]\n",
            "Val  - Epoch: 0, Loss: 0.7546, Precision: 0.7899, Recall: 0.7899, F1: 0.7899: 100%|██████████| 1571/1571 [00:17<00:00, 91.14it/s]\n",
            "Train - Epoch: 1, Loss: 0.7064, Precision: 0.7627, Recall: 0.7627, F1: 0.7627:  29%|██▉       | 1846/6283 [01:42<04:00, 18.41it/s]"
          ],
          "name": "stderr"
        },
        {
          "output_type": "stream",
          "text": [
            "Traceback \u001b[0;36m(most recent call last)\u001b[0m:\n",
            "  File \u001b[1;32m\"/usr/local/lib/python3.6/dist-packages/tensorflow/python/eager/def_function.py\"\u001b[0m, line \u001b[1;32m780\u001b[0m, in \u001b[1;35m__call__\u001b[0m\n",
            "    result = self._call(*args, **kwds)\n",
            "  File \u001b[1;32m\"/usr/local/lib/python3.6/dist-packages/tensorflow/python/eager/def_function.py\"\u001b[0m, line \u001b[1;32m807\u001b[0m, in \u001b[1;35m_call\u001b[0m\n",
            "    return self._stateless_fn(*args, **kwds)  # pylint: disable=not-callable\n",
            "  File \u001b[1;32m\"/usr/local/lib/python3.6/dist-packages/tensorflow/python/eager/function.py\"\u001b[0m, line \u001b[1;32m2829\u001b[0m, in \u001b[1;35m__call__\u001b[0m\n",
            "    return graph_function._filtered_call(args, kwargs)  # pylint: disable=protected-access\n",
            "  File \u001b[1;32m\"/usr/local/lib/python3.6/dist-packages/tensorflow/python/eager/function.py\"\u001b[0m, line \u001b[1;32m1848\u001b[0m, in \u001b[1;35m_filtered_call\u001b[0m\n",
            "    cancellation_manager=cancellation_manager)\n",
            "  File \u001b[1;32m\"/usr/local/lib/python3.6/dist-packages/tensorflow/python/eager/function.py\"\u001b[0m, line \u001b[1;32m1924\u001b[0m, in \u001b[1;35m_call_flat\u001b[0m\n",
            "    ctx, args, cancellation_manager=cancellation_manager))\n",
            "  File \u001b[1;32m\"/usr/local/lib/python3.6/dist-packages/tensorflow/python/eager/function.py\"\u001b[0m, line \u001b[1;32m550\u001b[0m, in \u001b[1;35mcall\u001b[0m\n",
            "    ctx=ctx)\n",
            "\u001b[0;36m  File \u001b[0;32m\"/usr/local/lib/python3.6/dist-packages/tensorflow/python/eager/execute.py\"\u001b[0;36m, line \u001b[0;32m60\u001b[0;36m, in \u001b[0;35mquick_execute\u001b[0;36m\u001b[0m\n",
            "\u001b[0;31m    inputs, attrs, num_outputs)\u001b[0m\n",
            "\u001b[0;31mKeyboardInterrupt\u001b[0m\n",
            "\n"
          ],
          "name": "stdout"
        }
      ]
    },
    {
      "cell_type": "markdown",
      "metadata": {
        "id": "lTYJyTZLcIoJ"
      },
      "source": [
        "## Results\n",
        "\n",
        "Show how our model did throughout the training process."
      ]
    },
    {
      "cell_type": "code",
      "metadata": {
        "id": "ET2FHHVW957n",
        "outputId": "96cf5122-8ebd-4db3-f12f-51fd9eaf5094",
        "colab": {
          "base_uri": "https://localhost:8080/",
          "height": 312
        }
      },
      "source": [
        "plt.title('Loss')\n",
        "plt.xlabel('Epochs')\n",
        "plt.ylabel('Loss')\n",
        "plt.plot(losses[0], label='train')\n",
        "plt.plot(losses[1], label='val')\n",
        "plt.legend()\n",
        "plt.show()\n",
        "print('Final Validation Loss: {:.4f}'.format(losses[1][-1]))"
      ],
      "execution_count": 32,
      "outputs": [
        {
          "output_type": "display_data",
          "data": {
            "image/png": "[encoded data removed]",
            "text/plain": [
              "<Figure size 432x288 with 1 Axes>"
            ]
          },
          "metadata": {
            "tags": [],
            "needs_background": "light"
          }
        },
        {
          "output_type": "stream",
          "text": [
            "Final Validation Loss: 2.2672\n"
          ],
          "name": "stdout"
        }
      ]
    },
    {
      "cell_type": "code",
      "metadata": {
        "id": "8OHunu4792FZ",
        "outputId": "cd20f3de-c27f-49f6-c12b-c40fe05f9a34",
        "colab": {
          "base_uri": "https://localhost:8080/",
          "height": 312
        }
      },
      "source": [
        "plt.title('Precision')\n",
        "plt.xlabel('Epochs')\n",
        "plt.ylabel('Precision')\n",
        "plt.plot(precisions[0], label='train')\n",
        "plt.plot(precisions[1], label='val')\n",
        "plt.legend()\n",
        "plt.show()\n",
        "print('Final Validation Precision: {:.2f}%'.format(precisions[1][-1] * 100))"
      ],
      "execution_count": 33,
      "outputs": [
        {
          "output_type": "display_data",
          "data": {
            "image/png": "[encoded data removed]",
            "text/plain": [
              "<Figure size 432x288 with 1 Axes>"
            ]
          },
          "metadata": {
            "tags": [],
            "needs_background": "light"
          }
        },
        {
          "output_type": "stream",
          "text": [
            "Final Validation Precision: 77.71%\n"
          ],
          "name": "stdout"
        }
      ]
    },
    {
      "cell_type": "code",
      "metadata": {
        "id": "WjJ4eGjhraiR",
        "outputId": "4ecc857f-ec34-4571-b9bf-a5854010bb42",
        "colab": {
          "base_uri": "https://localhost:8080/",
          "height": 312
        }
      },
      "source": [
        "plt.title('Recall')\n",
        "plt.xlabel('Epochs')\n",
        "plt.ylabel('Precision')\n",
        "plt.plot(recalls[0], label='train')\n",
        "plt.plot(recalls[1], label='val')\n",
        "plt.legend()\n",
        "plt.show()\n",
        "print('Final Validation Recall: {:.2f}%'.format(recalls[1][-1] * 100))"
      ],
      "execution_count": 34,
      "outputs": [
        {
          "output_type": "display_data",
          "data": {
            "image/png": "[encoded data removed]",
            "text/plain": [
              "<Figure size 432x288 with 1 Axes>"
            ]
          },
          "metadata": {
            "tags": [],
            "needs_background": "light"
          }
        },
        {
          "output_type": "stream",
          "text": [
            "Final Validation Recall: 78.77%\n"
          ],
          "name": "stdout"
        }
      ]
    },
    {
      "cell_type": "code",
      "metadata": {
        "id": "Rj5q2Hnmram9",
        "outputId": "eed5af46-3934-464f-c046-7d135bd2f99d",
        "colab": {
          "base_uri": "https://localhost:8080/",
          "height": 312
        }
      },
      "source": [
        "plt.title('F1')\n",
        "plt.xlabel('Epochs')\n",
        "plt.ylabel('F1')\n",
        "plt.plot(f1s[0], label='train')\n",
        "plt.plot(f1s[1], label='val')\n",
        "plt.legend()\n",
        "plt.show()\n",
        "print('Final Validation F1: {:.2f}%'.format(f1s[1][-1] * 100))"
      ],
      "execution_count": 35,
      "outputs": [
        {
          "output_type": "display_data",
          "data": {
            "image/png": "[encoded data removed]",
            "text/plain": [
              "<Figure size 432x288 with 1 Axes>"
            ]
          },
          "metadata": {
            "tags": [],
            "needs_background": "light"
          }
        },
        {
          "output_type": "stream",
          "text": [
            "Final Validation F1: 77.06%\n"
          ],
          "name": "stdout"
        }
      ]
    },
    {
      "cell_type": "markdown",
      "metadata": {
        "id": "j90cuaIRtkhD"
      },
      "source": [
        "## Examples and Confusion Matrix\n",
        "\n",
        "* Show the final confusion matrix on the validation set.\n",
        "* Show a couple examples of the model classifying text."
      ]
    },
    {
      "cell_type": "code",
      "metadata": {
        "id": "lxSKiTCEUco1"
      },
      "source": [
        "encoder.idx_to_entity(7)"
      ],
      "execution_count": null,
      "outputs": []
    },
    {
      "cell_type": "code",
      "metadata": {
        "id": "AFRCgKNotpu5",
        "outputId": "3ca0cb8f-221d-4e79-ecce-167725a5f445",
        "colab": {
          "base_uri": "https://localhost:8080/",
          "height": 1000
        }
      },
      "source": [
        "# The number of examples to show how the model did\n",
        "num_examples = 10\n",
        "\n",
        "data = conll_df()\n",
        "entity_list = list(set(data['entity'].values))\n",
        "encoder = Encoder(entity_list)\n",
        "\n",
        "# Determine sizes for training and validation sets\n",
        "dataset_size = 20000\n",
        "train_dataset_size = int(.8 * dataset_size)\n",
        "val_dataset_size = dataset_size - train_dataset_size\n",
        "\n",
        "# Break up dataset into training/validation\n",
        "dataset = tf.data.Dataset.from_generator(\n",
        "    conll_generator,\n",
        "    (tf.int64, tf.int32)).take(dataset_size)\n",
        "val_dataset = dataset.skip(train_dataset_size).batch(16)\n",
        "\n",
        "y_true, y_pred = np.array([]), np.array([])\n",
        "\n",
        "print('Making Predictions for Validation Set...')\n",
        "for index, (words, labels) in enumerate(val_dataset):   \n",
        "  predictions = model(words)\n",
        "  y_true = np.concatenate((y_true, labels.numpy()))\n",
        "  y_pred = np.concatenate((y_pred, tf.argmax(predictions, axis=1).numpy()))\n",
        "\n",
        "  if index < num_examples:\n",
        "    print('***Entity Prediction Sample***')\n",
        "    for word, actual, pred in zip(words, labels.numpy(), tf.argmax(predictions, axis=1).numpy()):\n",
        "      print('Word: {}, Predicted: {}, Actual: {}, Accuracy: {}'.format(word, actual, pred, '100%' if pred == actual else '0%'))\n",
        "\n",
        "print('Finished.')"
      ],
      "execution_count": null,
      "outputs": [
        {
          "output_type": "stream",
          "text": [
            "Making Predictions for Validation Set...\n",
            "***Entity Prediction Sample***\n",
            "Word: 15902, Predicted: 7, Actual: 7, Accuracy: 100%\n",
            "Word: 911, Predicted: 7, Actual: 7, Accuracy: 100%\n",
            "Word: 3399, Predicted: 7, Actual: 7, Accuracy: 100%\n",
            "Word: 4304, Predicted: 7, Actual: 7, Accuracy: 100%\n",
            "Word: 529, Predicted: 7, Actual: 7, Accuracy: 100%\n",
            "Word: 3, Predicted: 7, Actual: 7, Accuracy: 100%\n",
            "Word: 8, Predicted: 7, Actual: 7, Accuracy: 100%\n",
            "Word: 13474, Predicted: 7, Actual: 7, Accuracy: 100%\n",
            "Word: 692, Predicted: 3, Actual: 8, Accuracy: 0%\n",
            "Word: 700, Predicted: 7, Actual: 7, Accuracy: 100%\n",
            "Word: 2196, Predicted: 7, Actual: 7, Accuracy: 100%\n",
            "Word: 4025, Predicted: 7, Actual: 7, Accuracy: 100%\n",
            "Word: 6282, Predicted: 7, Actual: 0, Accuracy: 0%\n",
            "Word: 3206, Predicted: 7, Actual: 7, Accuracy: 100%\n",
            "Word: 830, Predicted: 3, Actual: 3, Accuracy: 100%\n",
            "Word: 3206, Predicted: 7, Actual: 7, Accuracy: 100%\n",
            "***Entity Prediction Sample***\n",
            "Word: 4508, Predicted: 7, Actual: 7, Accuracy: 100%\n",
            "Word: 1351, Predicted: 7, Actual: 7, Accuracy: 100%\n",
            "Word: 3626, Predicted: 7, Actual: 7, Accuracy: 100%\n",
            "Word: 2196, Predicted: 7, Actual: 7, Accuracy: 100%\n",
            "Word: 389, Predicted: 3, Actual: 3, Accuracy: 100%\n",
            "Word: 18470, Predicted: 7, Actual: 7, Accuracy: 100%\n",
            "Word: 8, Predicted: 7, Actual: 7, Accuracy: 100%\n",
            "Word: 122, Predicted: 7, Actual: 7, Accuracy: 100%\n",
            "Word: 6282, Predicted: 7, Actual: 7, Accuracy: 100%\n",
            "Word: 2371, Predicted: 7, Actual: 7, Accuracy: 100%\n",
            "Word: 14617, Predicted: 7, Actual: 0, Accuracy: 0%\n",
            "Word: 3315, Predicted: 7, Actual: 7, Accuracy: 100%\n",
            "Word: 465, Predicted: 7, Actual: 7, Accuracy: 100%\n",
            "Word: 1603, Predicted: 7, Actual: 7, Accuracy: 100%\n",
            "Word: 1133, Predicted: 7, Actual: 7, Accuracy: 100%\n",
            "Word: 10932, Predicted: 7, Actual: 6, Accuracy: 0%\n",
            "***Entity Prediction Sample***\n",
            "Word: 2254, Predicted: 7, Actual: 7, Accuracy: 100%\n",
            "Word: 1725, Predicted: 7, Actual: 7, Accuracy: 100%\n",
            "Word: 3686, Predicted: 7, Actual: 7, Accuracy: 100%\n",
            "Word: 13974, Predicted: 7, Actual: 7, Accuracy: 100%\n",
            "Word: 2254, Predicted: 7, Actual: 7, Accuracy: 100%\n",
            "Word: 512, Predicted: 7, Actual: 7, Accuracy: 100%\n",
            "Word: 3315, Predicted: 7, Actual: 7, Accuracy: 100%\n",
            "Word: 1339, Predicted: 7, Actual: 7, Accuracy: 100%\n",
            "Word: 10102, Predicted: 7, Actual: 7, Accuracy: 100%\n",
            "Word: 1603, Predicted: 7, Actual: 7, Accuracy: 100%\n",
            "Word: 16501, Predicted: 7, Actual: 0, Accuracy: 0%\n",
            "Word: 3315, Predicted: 7, Actual: 7, Accuracy: 100%\n",
            "Word: 465, Predicted: 7, Actual: 7, Accuracy: 100%\n",
            "Word: 1603, Predicted: 7, Actual: 7, Accuracy: 100%\n",
            "Word: 1339, Predicted: 7, Actual: 7, Accuracy: 100%\n",
            "Word: 15665, Predicted: 7, Actual: 7, Accuracy: 100%\n",
            "***Entity Prediction Sample***\n",
            "Word: 1725, Predicted: 7, Actual: 7, Accuracy: 100%\n",
            "Word: 2254, Predicted: 7, Actual: 7, Accuracy: 100%\n",
            "Word: 18743, Predicted: 7, Actual: 7, Accuracy: 100%\n",
            "Word: 2254, Predicted: 7, Actual: 7, Accuracy: 100%\n",
            "Word: 512, Predicted: 7, Actual: 7, Accuracy: 100%\n",
            "Word: 3315, Predicted: 7, Actual: 7, Accuracy: 100%\n",
            "Word: 99, Predicted: 7, Actual: 7, Accuracy: 100%\n",
            "Word: 11525, Predicted: 7, Actual: 7, Accuracy: 100%\n",
            "Word: 1603, Predicted: 7, Actual: 7, Accuracy: 100%\n",
            "Word: 552, Predicted: 7, Actual: 0, Accuracy: 0%\n",
            "Word: 1270, Predicted: 7, Actual: 7, Accuracy: 100%\n",
            "Word: 3315, Predicted: 7, Actual: 7, Accuracy: 100%\n",
            "Word: 465, Predicted: 7, Actual: 7, Accuracy: 100%\n",
            "Word: 1603, Predicted: 7, Actual: 7, Accuracy: 100%\n",
            "Word: 1339, Predicted: 7, Actual: 7, Accuracy: 100%\n",
            "Word: 3206, Predicted: 7, Actual: 7, Accuracy: 100%\n",
            "***Entity Prediction Sample***\n",
            "Word: 11271, Predicted: 7, Actual: 7, Accuracy: 100%\n",
            "Word: 1725, Predicted: 7, Actual: 7, Accuracy: 100%\n",
            "Word: 2254, Predicted: 7, Actual: 7, Accuracy: 100%\n",
            "Word: 14713, Predicted: 7, Actual: 7, Accuracy: 100%\n",
            "Word: 2254, Predicted: 7, Actual: 7, Accuracy: 100%\n",
            "Word: 512, Predicted: 7, Actual: 7, Accuracy: 100%\n",
            "Word: 3315, Predicted: 7, Actual: 7, Accuracy: 100%\n",
            "Word: 99, Predicted: 7, Actual: 7, Accuracy: 100%\n",
            "Word: 18907, Predicted: 7, Actual: 7, Accuracy: 100%\n",
            "Word: 1603, Predicted: 7, Actual: 7, Accuracy: 100%\n",
            "Word: 299, Predicted: 7, Actual: 7, Accuracy: 100%\n",
            "Word: 1034, Predicted: 7, Actual: 7, Accuracy: 100%\n",
            "Word: 16044, Predicted: 7, Actual: 7, Accuracy: 100%\n",
            "Word: 3206, Predicted: 7, Actual: 7, Accuracy: 100%\n",
            "Word: 2221, Predicted: 7, Actual: 7, Accuracy: 100%\n",
            "Word: 14353, Predicted: 7, Actual: 7, Accuracy: 100%\n",
            "***Entity Prediction Sample***\n",
            "Word: 542, Predicted: 7, Actual: 7, Accuracy: 100%\n",
            "Word: 3315, Predicted: 7, Actual: 7, Accuracy: 100%\n",
            "Word: 15788, Predicted: 7, Actual: 7, Accuracy: 100%\n",
            "Word: 3206, Predicted: 7, Actual: 7, Accuracy: 100%\n",
            "Word: 2221, Predicted: 7, Actual: 7, Accuracy: 100%\n",
            "Word: 13574, Predicted: 7, Actual: 7, Accuracy: 100%\n",
            "Word: 542, Predicted: 7, Actual: 7, Accuracy: 100%\n",
            "Word: 1603, Predicted: 7, Actual: 7, Accuracy: 100%\n",
            "Word: 18527, Predicted: 0, Actual: 7, Accuracy: 0%\n",
            "Word: 169, Predicted: 7, Actual: 7, Accuracy: 100%\n",
            "Word: 311, Predicted: 7, Actual: 7, Accuracy: 100%\n",
            "Word: 16044, Predicted: 7, Actual: 7, Accuracy: 100%\n",
            "Word: 3206, Predicted: 7, Actual: 7, Accuracy: 100%\n",
            "Word: 2221, Predicted: 7, Actual: 7, Accuracy: 100%\n",
            "Word: 14003, Predicted: 7, Actual: 7, Accuracy: 100%\n",
            "Word: 542, Predicted: 7, Actual: 7, Accuracy: 100%\n",
            "***Entity Prediction Sample***\n",
            "Word: 3315, Predicted: 7, Actual: 7, Accuracy: 100%\n",
            "Word: 15788, Predicted: 7, Actual: 7, Accuracy: 100%\n",
            "Word: 3206, Predicted: 7, Actual: 7, Accuracy: 100%\n",
            "Word: 2221, Predicted: 7, Actual: 7, Accuracy: 100%\n",
            "Word: 11579, Predicted: 7, Actual: 7, Accuracy: 100%\n",
            "Word: 542, Predicted: 7, Actual: 7, Accuracy: 100%\n",
            "Word: 1603, Predicted: 7, Actual: 7, Accuracy: 100%\n",
            "Word: 14224, Predicted: 0, Actual: 7, Accuracy: 0%\n",
            "Word: 169, Predicted: 7, Actual: 7, Accuracy: 100%\n",
            "Word: 311, Predicted: 7, Actual: 7, Accuracy: 100%\n",
            "Word: 13010, Predicted: 7, Actual: 7, Accuracy: 100%\n",
            "Word: 3206, Predicted: 7, Actual: 7, Accuracy: 100%\n",
            "Word: 2221, Predicted: 7, Actual: 7, Accuracy: 100%\n",
            "Word: 18553, Predicted: 7, Actual: 6, Accuracy: 0%\n",
            "Word: 7185, Predicted: 7, Actual: 4, Accuracy: 0%\n",
            "Word: 3315, Predicted: 7, Actual: 7, Accuracy: 100%\n",
            "***Entity Prediction Sample***\n",
            "Word: 16044, Predicted: 7, Actual: 7, Accuracy: 100%\n",
            "Word: 3206, Predicted: 7, Actual: 7, Accuracy: 100%\n",
            "Word: 2221, Predicted: 7, Actual: 7, Accuracy: 100%\n",
            "Word: 13110, Predicted: 7, Actual: 7, Accuracy: 100%\n",
            "Word: 7185, Predicted: 7, Actual: 7, Accuracy: 100%\n",
            "Word: 1603, Predicted: 7, Actual: 7, Accuracy: 100%\n",
            "Word: 531, Predicted: 7, Actual: 7, Accuracy: 100%\n",
            "Word: 162, Predicted: 7, Actual: 7, Accuracy: 100%\n",
            "Word: 1876, Predicted: 7, Actual: 7, Accuracy: 100%\n",
            "Word: 99, Predicted: 7, Actual: 7, Accuracy: 100%\n",
            "Word: 2221, Predicted: 7, Actual: 7, Accuracy: 100%\n",
            "Word: 10364, Predicted: 7, Actual: 7, Accuracy: 100%\n",
            "Word: 542, Predicted: 7, Actual: 7, Accuracy: 100%\n",
            "Word: 3315, Predicted: 7, Actual: 7, Accuracy: 100%\n",
            "Word: 1356, Predicted: 7, Actual: 7, Accuracy: 100%\n",
            "Word: 2221, Predicted: 7, Actual: 7, Accuracy: 100%\n",
            "***Entity Prediction Sample***\n",
            "Word: 10886, Predicted: 7, Actual: 7, Accuracy: 100%\n",
            "Word: 542, Predicted: 7, Actual: 7, Accuracy: 100%\n",
            "Word: 1603, Predicted: 7, Actual: 7, Accuracy: 100%\n",
            "Word: 73, Predicted: 7, Actual: 7, Accuracy: 100%\n",
            "Word: 162, Predicted: 7, Actual: 7, Accuracy: 100%\n",
            "Word: 1876, Predicted: 7, Actual: 7, Accuracy: 100%\n",
            "Word: 99, Predicted: 7, Actual: 7, Accuracy: 100%\n",
            "Word: 2221, Predicted: 7, Actual: 7, Accuracy: 100%\n",
            "Word: 13181, Predicted: 7, Actual: 7, Accuracy: 100%\n",
            "Word: 542, Predicted: 7, Actual: 7, Accuracy: 100%\n",
            "Word: 3315, Predicted: 7, Actual: 7, Accuracy: 100%\n",
            "Word: 1356, Predicted: 7, Actual: 7, Accuracy: 100%\n",
            "Word: 2221, Predicted: 7, Actual: 7, Accuracy: 100%\n",
            "Word: 17549, Predicted: 7, Actual: 7, Accuracy: 100%\n",
            "Word: 542, Predicted: 7, Actual: 7, Accuracy: 100%\n",
            "Word: 1603, Predicted: 7, Actual: 7, Accuracy: 100%\n",
            "***Entity Prediction Sample***\n",
            "Word: 2505, Predicted: 7, Actual: 8, Accuracy: 0%\n",
            "Word: 3315, Predicted: 7, Actual: 7, Accuracy: 100%\n",
            "Word: 465, Predicted: 7, Actual: 7, Accuracy: 100%\n",
            "Word: 1603, Predicted: 7, Actual: 7, Accuracy: 100%\n",
            "Word: 1133, Predicted: 7, Actual: 7, Accuracy: 100%\n",
            "Word: 17228, Predicted: 7, Actual: 0, Accuracy: 0%\n",
            "Word: 465, Predicted: 7, Actual: 7, Accuracy: 100%\n",
            "Word: 3315, Predicted: 7, Actual: 7, Accuracy: 100%\n",
            "Word: 1339, Predicted: 7, Actual: 7, Accuracy: 100%\n",
            "Word: 10269, Predicted: 7, Actual: 7, Accuracy: 100%\n",
            "Word: 465, Predicted: 7, Actual: 7, Accuracy: 100%\n",
            "Word: 1603, Predicted: 7, Actual: 7, Accuracy: 100%\n",
            "Word: 1027, Predicted: 7, Actual: 0, Accuracy: 0%\n",
            "Word: 2402, Predicted: 7, Actual: 7, Accuracy: 100%\n",
            "Word: 3315, Predicted: 7, Actual: 7, Accuracy: 100%\n",
            "Word: 19484, Predicted: 7, Actual: 0, Accuracy: 0%\n",
            "Finished.\n"
          ],
          "name": "stdout"
        }
      ]
    },
    {
      "cell_type": "markdown",
      "metadata": {
        "id": "EtZWK_3QG5hm"
      },
      "source": [
        "Use sklearn to create the confusion matrix from the actual/predicted values"
      ]
    },
    {
      "cell_type": "code",
      "metadata": {
        "id": "QTb_Mb9_vI4X",
        "outputId": "74025301-ff8b-413a-a338-1b68a36d9fde",
        "colab": {
          "base_uri": "https://localhost:8080/",
          "height": 175
        }
      },
      "source": [
        "matrix = metrics.confusion_matrix(y_true, y_pred)\n",
        "matrix"
      ],
      "execution_count": null,
      "outputs": [
        {
          "output_type": "execute_result",
          "data": {
            "text/plain": [
              "array([[  21,    5,    0,    4,    0,    1,    1,   24,    3],\n",
              "       [   7,   38,    1,    2,    0,    0,    0,   36,    1],\n",
              "       [   0,    0,    8,    1,    0,    0,    0,   11,    5],\n",
              "       [  10,    3,    0,   66,    0,    0,    0,   48,    9],\n",
              "       [   0,    0,    0,    0,   10,    1,    0,   28,    1],\n",
              "       [   0,    0,    0,    0,    1,    0,    0,    7,    0],\n",
              "       [   5,    1,    0,    1,    0,    1,   12,   59,    0],\n",
              "       [  57,   18,   10,   15,    8,    3,   12, 3356,   43],\n",
              "       [   3,    1,    3,    1,    1,    1,    0,   28,    8]])"
            ]
          },
          "metadata": {
            "tags": []
          },
          "execution_count": 41
        }
      ]
    },
    {
      "cell_type": "markdown",
      "metadata": {
        "id": "m9sa_nX5G9t-"
      },
      "source": [
        "Print the Heatmap and convert the index class labels back to their original\n",
        "text representation."
      ]
    },
    {
      "cell_type": "code",
      "metadata": {
        "id": "jHMCc3VAxvE0",
        "outputId": "c0f10f4d-3954-48a6-cb78-34d66b527750",
        "colab": {
          "base_uri": "https://localhost:8080/",
          "height": 661
        }
      },
      "source": [
        "encoder.idx_to_entity(1)\n",
        "class_labels = [encoder.idx_to_entity(i) for i in range(encoder.num_classes())]\n",
        "\n",
        "plt.figure(figsize = (16, 10))\n",
        "sns.heatmap(matrix, annot=True, fmt='d', xticklabels=class_labels, yticklabels=class_labels)\n",
        "\n",
        "plt.title('Confusion Matrix', fontdict={'fontsize': 30})\n",
        "plt.xlabel('Predicted', fontdict={'fontsize': 20})\n",
        "plt.ylabel('Actual', fontdict={'fontsize': 20})"
      ],
      "execution_count": null,
      "outputs": [
        {
          "output_type": "execute_result",
          "data": {
            "text/plain": [
              "Text(123.0, 0.5, 'Actual')"
            ]
          },
          "metadata": {
            "tags": []
          },
          "execution_count": 42
        },
        {
          "output_type": "display_data",
          "data": {
            "image/png": "[encoded data removed]",
            "text/plain": [
              "<Figure size 1152x720 with 2 Axes>"
            ]
          },
          "metadata": {
            "tags": [],
            "needs_background": "light"
          }
        }
      ]
    }
  ]
}