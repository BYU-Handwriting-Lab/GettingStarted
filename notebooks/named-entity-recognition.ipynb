{
  "nbformat": 4,
  "nbformat_minor": 0,
  "metadata": {
    "colab": {
      "name": "notebook.ipynb",
      "provenance": [],
      "include_colab_link": true
    },
    "kernelspec": {
      "name": "python3",
      "display_name": "Python 3"
    },
    "accelerator": "GPU"
  },
  "cells": [
    {
      "cell_type": "markdown",
      "metadata": {
        "id": "view-in-github",
        "colab_type": "text"
      },
      "source": [
        "<a href=\"https://colab.research.google.com/github/BYU-Handwriting-Lab/GettingStarted/blob/solution/notebooks/named-entity-recognition.ipynb\" target=\"_parent\"><img src=\"https://colab.research.google.com/assets/colab-badge.svg\" alt=\"Open In Colab\"/></a>"
      ]
    },
    {
      "cell_type": "markdown",
      "metadata": {
        "id": "VPrUn5n6CwCJ",
        "colab_type": "text"
      },
      "source": [
        "# Named-Entity-Recognition in TensorFlow 2\n",
        "\n",
        "This notebook contains code to do Named Entity Reconition in TensorFlow 2."
      ]
    },
    {
      "cell_type": "markdown",
      "metadata": {
        "id": "Q1sGqnTaFtjd",
        "colab_type": "text"
      },
      "source": [
        "## Imports and Dependencies\n",
        "\n",
        "TensorFlow Addons apparently has an implementation of CRF that is compatible with TF2 and tf.keras."
      ]
    },
    {
      "cell_type": "code",
      "metadata": {
        "id": "_sKdrBf7C3zT",
        "colab_type": "code",
        "colab": {}
      },
      "source": [
        "# Used in Colab to say we're using Version 2\n",
        "try:\n",
        "  %tensorflow_version 2.x\n",
        "except Exception:\n",
        "  pass"
      ],
      "execution_count": 1,
      "outputs": []
    },
    {
      "cell_type": "code",
      "metadata": {
        "id": "vq00R5VjDx_0",
        "colab_type": "code",
        "colab": {
          "base_uri": "https://localhost:8080/",
          "height": 72
        },
        "outputId": "c241cef6-08e1-4388-ba30-f4953d778377"
      },
      "source": [
        "# TensorFlow\n",
        "import tensorflow as tf\n",
        "import tensorflow_hub as hub\n",
        "import tensorflow_addons as tfa\n",
        "import tensorflow.keras as K\n",
        "import tensorflow.keras.layers as L\n",
        "\n",
        "# Python\n",
        "import os\n",
        "import string\n",
        "\n",
        "# Data Structures\n",
        "import numpy as np\n",
        "import pandas as pd\n",
        "import json\n",
        "\n",
        "# Image/Plotting\n",
        "from matplotlib import pyplot as plt\n",
        "from sklearn import metrics\n",
        "import seaborn as sns\n",
        "\n",
        "# Debugging\n",
        "from tqdm import tqdm\n",
        "from IPython.core.ultratb import AutoFormattedTB\n",
        "__ITB__ = AutoFormattedTB(mode='Plain', color_scheme='LightBg', tb_offset=1) # Change to 'Verbose' mode for additional debugging"
      ],
      "execution_count": 2,
      "outputs": [
        {
          "output_type": "stream",
          "text": [
            "/usr/local/lib/python3.6/dist-packages/statsmodels/tools/_testing.py:19: FutureWarning: pandas.util.testing is deprecated. Use the functions in the public API at pandas.testing instead.\n",
            "  import pandas.util.testing as tm\n"
          ],
          "name": "stderr"
        }
      ]
    },
    {
      "cell_type": "code",
      "metadata": {
        "id": "aowidUPYPhto",
        "colab_type": "code",
        "colab": {}
      },
      "source": [
        "# Insert file path to Esposalles Dataset in your Google Drive\n",
        "# Note that '!' indicates a shell command rather than python code...\n",
        "\n",
        "!wget -q https://raw.githubusercontent.com/ericburdett/named-entity-recognition/master/char_set.json\n",
        "!wget -q https://raw.githubusercontent.com/ericburdett/named-entity-recognition/master/esposalles-labels.csv"
      ],
      "execution_count": 3,
      "outputs": []
    },
    {
      "cell_type": "code",
      "metadata": {
        "id": "mZdS8QYweMBI",
        "colab_type": "code",
        "colab": {}
      },
      "source": [
        "!wget -q https://data.deepai.org/conll2003.zip\n",
        "!unzip -q conll2003.zip -d conll\n",
        "!rm conll2003.zip"
      ],
      "execution_count": null,
      "outputs": []
    },
    {
      "cell_type": "markdown",
      "metadata": {
        "id": "B7IRJQe-G7Mw",
        "colab_type": "text"
      },
      "source": [
        "## Encoding Class\n",
        "\n",
        "The encoding class helps us map between strings and indexes."
      ]
    },
    {
      "cell_type": "code",
      "metadata": {
        "id": "zNpDzP01Dgij",
        "colab_type": "code",
        "colab": {}
      },
      "source": [
        "class Encoder():\n",
        "  def __init__(self, entity_list, sequence_size=20):\n",
        "    self.entity_dict = {e: i for i, e in enumerate(entity_list)}\n",
        "    self.idx_entity_dict = {v: k for k, v in self.entity_dict.items()}\n",
        "    self.sequence_size = sequence_size\n",
        "\n",
        "    with open('char_set.json') as file:\n",
        "      self.char_dict = json.load(file)\n",
        "    \n",
        "  def char_to_idx(self, char):\n",
        "    if char in self.char_dict['char_to_idx']:\n",
        "      return int(self.char_dict['char_to_idx'][char])\n",
        "    else:\n",
        "      return 0\n",
        "  \n",
        "  def idx_to_char(self, idx):\n",
        "    if str(int(idx)) in self.char_dict['idx_to_char']:\n",
        "      return self.char_dict['idx_to_char'][str(int(idx))]\n",
        "    else:\n",
        "      return ''\n",
        "  \n",
        "  def str_to_idxs(self, string):\n",
        "    assert type(string) == str\n",
        "\n",
        "    zeros = np.zeros(self.sequence_size)\n",
        "    idxs = []\n",
        "    for char in string:\n",
        "      idxs.append(self.char_to_idx(char))\n",
        "    \n",
        "    idxs = np.concatenate((idxs, zeros))[:self.sequence_size]\n",
        "\n",
        "    return idxs\n",
        "  \n",
        "  def idxs_to_str(self, idxs):\n",
        "    chars = ''\n",
        "\n",
        "    for idx in idxs:\n",
        "      chars += self.idx_to_char(idx)\n",
        "    \n",
        "    return chars\n",
        "  \n",
        "  def entity_to_idx(self, entity):\n",
        "    return self.entity_dict[entity]\n",
        "  \n",
        "  def idx_to_entity(self, idx):\n",
        "    return self.idx_entity_dict[idx]\n",
        "\n",
        "  def num_classes(self):\n",
        "    return len(self.entity_dict)"
      ],
      "execution_count": 5,
      "outputs": []
    },
    {
      "cell_type": "markdown",
      "metadata": {
        "id": "QgdOgvr_F8-N",
        "colab_type": "text"
      },
      "source": [
        "## Generator Creation\n",
        "\n",
        "TensorFlow can use a Python Generator to access the dataset during training"
      ]
    },
    {
      "cell_type": "code",
      "metadata": {
        "id": "Fe-GEolpE2QM",
        "colab_type": "code",
        "colab": {}
      },
      "source": [
        "# TensorFlow uses Generators to access the dataset during training\n",
        "def dataset_df(path='/content/esposalles-labels.csv'):\n",
        "  if not os.path.exists(path):\n",
        "    raise Exception('Esposalles dataset does not exist in ' + path)\n",
        "  \n",
        "  df = pd.read_csv(path, header=None, sep='\\t', names=['img', 'entity', 'rel-entity', 'word', 'sentence'])\n",
        "  df = df.drop(columns=['img'])\n",
        "\n",
        "  return df\n",
        "\n",
        "def conll_df(path='/content/conll/train.txt'):\n",
        "  df = pd.read_csv(path, header=None, sep=' ', names=['word', 'pos', 'unknown', 'entity'])\n",
        "  df = df.dropna()\n",
        "  df = df.drop(columns=['pos', 'unknown'])\n",
        "  return df\n",
        "\n",
        "def encode_word_label(data, entity_type, encoder):\n",
        "  word = data['word']\n",
        "  encoded_word = encoder.str_to_idxs(str(word))\n",
        "  label = data[entity_type]\n",
        "  encoded_label = encoder.entity_to_idx(label)\n",
        "\n",
        "  return (encoded_word, encoded_label)\n",
        "\n",
        "def conll_tokenizer():\n",
        "  words = list(set(conll_df()['word'].values))\\\n",
        "  + list(set(conll_df(path='/content/conll/valid.txt')['word'].values))\\\n",
        "  + list(set(conll_df(path='/content/conll/test.txt')['word'].values))\\\n",
        "\n",
        "  tokenizer = tf.keras.preprocessing.text.Tokenizer(num_words=len(words), filters='')\n",
        "  tokenizer.fit_on_texts(words)\n",
        "\n",
        "  return tokenizer\n",
        "\n",
        "def conll_generator():\n",
        "  tokenizer = conll_tokenizer()\n",
        "\n",
        "  data = conll_df()\n",
        "  entity_list = list(set(data['entity'].values))\n",
        "  encoder = Encoder(entity_list)\n",
        "\n",
        "  for _, row in data.iterrows():\n",
        "    word = tokenizer.texts_to_sequences([row['word']])[0][0]\n",
        "    entity = encoder.entity_to_idx(row['entity'])\n",
        "    \n",
        "    yield tf.constant(word, dtype=tf.int64), tf.constant(entity, dtype=tf.int32)\n",
        "\n",
        "\n",
        "def conll_generator_old():\n",
        "  data = conll_df()\n",
        "  entity_list = list(set(data['entity'].values))\n",
        "  encoder = Encoder(entity_list)\n",
        "\n",
        "  for index, row in data.iterrows():\n",
        "    word = encoder.str_to_idxs(str(row['word']))\n",
        "    entity = encoder.entity_to_idx(row['entity'])\n",
        "\n",
        "    yield word, entity\n",
        "\n",
        "def esposalles_generator(entity_type='entity'): # options include 'entity' and 'rel-entity'\n",
        "  data = dataset_df()\n",
        "  entity_list = list(set(data[entity_type].values))\n",
        "  encoder = Encoder(entity_list)\n",
        "\n",
        "  df_size = data['sentence'].max() + 1\n",
        "\n",
        "  for i in range(df_size):\n",
        "    ith_sentence_words = data.loc[data['sentence'] == i]\n",
        "\n",
        "    sentence_words = []\n",
        "    sentence_labels = []\n",
        "\n",
        "    for index, row in ith_sentence_words.iterrows():\n",
        "      # encoded_label = encoder.entity_to_idx(row[entity_type])\n",
        "      # encoded_word = row['word']\n",
        "      encoded_word, encoded_label = encode_word_label(row, entity_type, encoder)\n",
        "      sentence_words.append(encoded_word)\n",
        "      sentence_labels.append(encoded_label)\n",
        "    \n",
        "    yield tf.constant(np.array(sentence_words), dtype=tf.int64), tf.constant(np.array(sentence_labels), dtype=tf.int32)"
      ],
      "execution_count": 6,
      "outputs": []
    },
    {
      "cell_type": "markdown",
      "metadata": {
        "id": "_5mgsr2oGPFh",
        "colab_type": "text"
      },
      "source": [
        "## Model Architecture\n",
        "\n",
        "This is where we can build our model using the tf.keras high-level API\n",
        "\n",
        "We subclass from tf.keras.Model and implement the *call* method. This is the *forward pass* of the neural network."
      ]
    },
    {
      "cell_type": "code",
      "metadata": {
        "id": "PKXklX-gGYD_",
        "colab_type": "code",
        "colab": {}
      },
      "source": [
        "class NERModel(K.Model):\n",
        "  def __init__(self, input_dim=25_000, num_classes=9):\n",
        "    super(NERModel, self).__init__()\n",
        "\n",
        "    self.embedding = L.Embedding(input_dim=input_dim, output_dim=256, mask_zero=True)\n",
        "    self.lstm = L.Bidirectional(L.LSTM(256, return_sequences=True))\n",
        "    self.dense = L.Dense(num_classes)\n",
        "\n",
        "  def __call__(self, x, **kwargs):\n",
        "    out = self.embedding(x)\n",
        "    out = tf.expand_dims(out, 0)\n",
        "    out = self.lstm(out)\n",
        "    out = tf.squeeze(out, 0)\n",
        "    out = self.dense(out)\n",
        "\n",
        "    return out"
      ],
      "execution_count": 22,
      "outputs": []
    },
    {
      "cell_type": "markdown",
      "metadata": {
        "id": "GzvxSgFXNZJK",
        "colab_type": "text"
      },
      "source": [
        "### Test to make sure the model is doing what we think it is...\n",
        "\n",
        "The output shape should be (NUM_WORDS_IN_SENTENCE, NUM_CLASSES). Example: (41, 6)\n",
        "\n",
        "The values along Axis=0 represents a word\n",
        "\n",
        "The values along Axis=1 represents the probability distribution"
      ]
    },
    {
      "cell_type": "code",
      "metadata": {
        "id": "A_RHXuYV_5Fu",
        "colab_type": "code",
        "colab": {
          "base_uri": "https://localhost:8080/",
          "height": 35
        },
        "outputId": "8f089113-17c5-440b-c7b7-db032584f18e"
      },
      "source": [
        "L.Embedding(25000, output_dim=256)(word).shape"
      ],
      "execution_count": 226,
      "outputs": [
        {
          "output_type": "execute_result",
          "data": {
            "text/plain": [
              "TensorShape([256])"
            ]
          },
          "metadata": {
            "tags": []
          },
          "execution_count": 226
        }
      ]
    },
    {
      "cell_type": "code",
      "metadata": {
        "id": "LWNHjmyx_cvy",
        "colab_type": "code",
        "colab": {
          "base_uri": "https://localhost:8080/",
          "height": 105
        },
        "outputId": "59513f21-e99b-481f-b396-67ae65e9b3f5"
      },
      "source": [
        "dataset = tf.data.Dataset.from_generator(\n",
        "    conll_generator,\n",
        "    (tf.int64, tf.int32),).batch(100)\n",
        "\n",
        "model = NERModel()\n",
        "\n",
        "for sentence, entities in dataset.take(1):\n",
        "  results = model(sentence)\n",
        "  print('Shape of output from NER Model: ', results.shape)\n",
        "  print('Probability Distribution for one word in the sentence: ', results[0])\n",
        "  print('Predicted class for the word: ', tf.argmax(results[0]).numpy())"
      ],
      "execution_count": 13,
      "outputs": [
        {
          "output_type": "stream",
          "text": [
            "Shape of output from NER Model:  (100, 9)\n",
            "Probability Distribution for one word in the sentence:  tf.Tensor(\n",
            "[0.11041987 0.11124609 0.11177813 0.11229198 0.11045115 0.11162011\n",
            " 0.11042324 0.1116532  0.11011624], shape=(9,), dtype=float32)\n",
            "Predicted class for the word:  3\n"
          ],
          "name": "stdout"
        }
      ]
    },
    {
      "cell_type": "code",
      "metadata": {
        "id": "uzBsYVZjNdNv",
        "colab_type": "code",
        "colab": {
          "base_uri": "https://localhost:8080/",
          "height": 90
        },
        "outputId": "769f1122-2e22-4a9f-9e66-619b05329b64"
      },
      "source": [
        "generator = esposalles_generator()\n",
        "sentence, labels = next(generator)\n",
        "\n",
        "model = NERModel()\n",
        "results = model(sentence)\n",
        "print('Shape of output from NER Model: ', results.shape)\n",
        "print('Probability Distribution for one word in the sentence: ', results[0])\n",
        "print('Predicted class for the word: ', tf.argmax(results[0]).numpy())"
      ],
      "execution_count": 16,
      "outputs": [
        {
          "output_type": "stream",
          "text": [
            "Shape of output from NER Model:  (1, 6)\n",
            "Probability Distribution for one word in the sentence:  tf.Tensor([0.16705506 0.16685061 0.16633292 0.1664598  0.16676483 0.16653681], shape=(6,), dtype=float32)\n",
            "Predicted class for the word:  0\n"
          ],
          "name": "stdout"
        }
      ]
    },
    {
      "cell_type": "markdown",
      "metadata": {
        "id": "9isM9-2-qzQA",
        "colab_type": "text"
      },
      "source": [
        "## Evaluation Metrics\n",
        "\n",
        "For named-entity-recognition, we will use Precision, Recall, and F1 for our\n",
        "metrics. An easy way to do this is using sklearn metrics. We need to define\n",
        "custom functions so that we can pass the *average* parameter when it's wrapped\n",
        "in a *tf.py_function*."
      ]
    },
    {
      "cell_type": "code",
      "metadata": {
        "id": "B7MASql6evPg",
        "colab_type": "code",
        "colab": {}
      },
      "source": [
        "def precision_score(y_true, y_pred):\n",
        "  return metrics.precision_score(y_true, y_pred, average='macro')\n",
        "\n",
        "def recall_score(y_true, y_pred):\n",
        "  return metrics.recall_score(y_true, y_pred, average='macro')\n",
        "\n",
        "def f1_score(y_true, y_pred):\n",
        "  return metrics.f1_score(y_true, y_pred, average='macro')"
      ],
      "execution_count": 9,
      "outputs": []
    },
    {
      "cell_type": "markdown",
      "metadata": {
        "id": "eo6dYjU7HGxv",
        "colab_type": "text"
      },
      "source": [
        "## Training Loop\n",
        "\n",
        "Build our training loop and creating custom train_step and val_step functions.\n",
        "\n",
        "GradientTape allows us to keep track of the losses and gradients for each pass through the network. Structuring our code this way makes it much easier for debugging purposes and for us to iterate through our design.\n",
        "\n",
        "Notice the decorator *@tf.function*. This tells TensorFlow to create the computation graph from the python code and allows our model to run much faster. The *experimental_relax_shapes* parameter allows us to pass tensors with various sentence lengths without TensorFlow getting upset at us.\n",
        "\n",
        "TensorFlow 2 also does some weird things with scope when it constructs the computation graph through a @tf.function annotation. Thus, if we use a more object oriented approach, we can avoid some of the nasty scope issues. See the following articles for more details:\n",
        "* https://pgaleone.eu/tensorflow/tf.function/2019/03/21/dissecting-tf-function-part-1/\n",
        "* https://pgaleone.eu/tensorflow/tf.function/2019/04/03/dissecting-tf-function-part-2/\n"
      ]
    },
    {
      "cell_type": "code",
      "metadata": {
        "id": "yJKYEv0JVPoG",
        "colab_type": "code",
        "colab": {}
      },
      "source": [
        "class Train:\n",
        "  def __init__(self):\n",
        "    # How many times through the training set should we go?\n",
        "    self.epochs = 50\n",
        "    self.batch_size = 16\n",
        "\n",
        "    # Determine sizes for training and validation sets\n",
        "    df = conll_df()\n",
        "    dataset_size = 20000 #dataset_df()['sentence'].max() + 1\n",
        "    self.train_dataset_size = int(.8 * dataset_size)\n",
        "    self.val_dataset_size = dataset_size - self.train_dataset_size\n",
        "    self.num_classes = len(set(df['entity'].values))\n",
        "\n",
        "    # Break up dataset into training/validation\n",
        "    dataset = tf.data.Dataset.from_generator(\n",
        "        conll_generator,\n",
        "        (tf.int64, tf.int32)).take(dataset_size)\n",
        "    self.train_dataset = dataset.take(self.train_dataset_size).batch(self.batch_size)\n",
        "    self.val_dataset = dataset.skip(self.train_dataset_size).batch(self.batch_size)\n",
        "\n",
        "    # Create our model\n",
        "    self.model = NERModel(num_classes=self.num_classes)\n",
        "\n",
        "    # Use CrossEntropy for our loss function and Adam for our optimizer\n",
        "    self.loss_fn = K.losses.SparseCategoricalCrossentropy(from_logits=True)\n",
        "    self.optimizer = K.optimizers.Adam(learning_rate=4e-4)\n",
        "\n",
        "    # Metrics to track our performance\n",
        "    # Consider adding metrics like Precision/Recall here...\n",
        "    self.train_loss = tf.keras.metrics.Mean(name='train_loss')\n",
        "    self.train_precision = tf.keras.metrics.Mean(name='train_precision')\n",
        "    self.train_recall = tf.keras.metrics.Mean(name='train_recall')\n",
        "    self.train_f1 = tf.keras.metrics.Mean(name='train_f1')\n",
        "    self.val_loss = tf.keras.metrics.Mean(name='val_loss')\n",
        "    self.val_precision = tf.keras.metrics.Mean(name='val_precision')\n",
        "    self.val_recall = tf.keras.metrics.Mean(name='val_recall')\n",
        "    self.val_f1 = tf.keras.metrics.Mean(name='val_f1')\n",
        "\n",
        "  @tf.function(experimental_relax_shapes=True)\n",
        "  def train_step(self, words, labels, ones):\n",
        "    with tf.GradientTape() as tape:\n",
        "      # Make a prediction, calculate the loss\n",
        "      predictions = self.model(words, training=True)\n",
        "      loss = self.loss_fn(labels, predictions)\n",
        "\n",
        "    # Obtain gradients from GradientTape\n",
        "    gradients = tape.gradient(loss, self.model.trainable_variables)\n",
        "\n",
        "    # Propagate loss back through the network and take a step with the optimizer  \n",
        "    self.optimizer.apply_gradients(zip(gradients, self.model.trainable_variables))\n",
        "    \n",
        "    # Update our metrics\n",
        "    results = tf.argmax(predictions, axis=1)\n",
        "    precision = tf.py_function(precision_score, [labels, results], Tout=[tf.float32])\n",
        "    recall = tf.py_function(recall_score, [labels, results], Tout=[tf.float32])\n",
        "    f1 = tf.py_function(f1_score, [labels, results], Tout=[tf.float32])\n",
        "\n",
        "    self.train_loss(loss)\n",
        "    self.train_precision(precision)\n",
        "    self.train_recall(recall)\n",
        "    self.train_f1(f1)\n",
        "\n",
        "  @tf.function(experimental_relax_shapes=True)\n",
        "  def validation_step(self, words, labels, ones):\n",
        "    # Make a prediction and calculate the loss\n",
        "    predictions = self.model(words, training=False)\n",
        "    loss = self.loss_fn(labels, predictions)\n",
        "\n",
        "    # Update our metrics\n",
        "    results = tf.argmax(predictions, axis=1)\n",
        "    precision = tf.py_function(precision_score, [labels, results], Tout=[tf.float32])\n",
        "    recall = tf.py_function(recall_score, [labels, results], Tout=[tf.float32])\n",
        "    f1 = tf.py_function(f1_score, [labels, results], Tout=[tf.float32])\n",
        "\n",
        "    self.val_loss(loss)\n",
        "    self.val_precision(precision)\n",
        "    self.val_recall(recall)\n",
        "    self.val_f1(f1)\n",
        "\n",
        "  def __call__(self):\n",
        "    # Variables to keep track of our progress through the entire training process\n",
        "    # Used below when we create our graphs\n",
        "    try:\n",
        "      train_losses, val_losses = [], []\n",
        "      train_precisions, val_precisions = [], []\n",
        "      train_recalls, val_recalls = [], []\n",
        "      train_f1s, val_f1s = [], []\n",
        "\n",
        "      for epoch in range(self.epochs):\n",
        "        # Reset Metrics for another epoch\n",
        "        self.train_loss.reset_states()\n",
        "        self.train_precision.reset_states()\n",
        "        self.train_recall.reset_states()\n",
        "        self.train_f1.reset_states()\n",
        "        self.val_loss.reset_states()\n",
        "        self.val_precision.reset_states()\n",
        "        self.val_recall.reset_states()\n",
        "        self.val_f1.reset_states()\n",
        "\n",
        "        # Training Loop\n",
        "        train_loop = tqdm(total=int(np.round(self.train_dataset_size/self.batch_size)), position=0, leave=True)\n",
        "        for words, labels in self.train_dataset:\n",
        "          # One training iteration\n",
        "          self.train_step(words, labels, tf.ones(labels.shape[0], dtype=tf.int32))\n",
        "          train_loop.set_description('Train - Epoch: {}, Loss: {:.4f}, Precision: {:.4f}, Recall: {:.4f}, F1: {:.4f}'.format(\n",
        "              epoch, self.train_loss.result(), self.train_precision.result(), self.train_recall.result(), self.train_f1.result()))\n",
        "          train_loop.update(1)\n",
        "\n",
        "        train_loop.close()\n",
        "\n",
        "        # Validation Loop\n",
        "        val_loop = tqdm(total=int(np.round(self.val_dataset_size/self.batch_size)), position=0, leave=True)\n",
        "        for words, labels in self.val_dataset:\n",
        "          # One validation iteration\n",
        "          self.validation_step(words, labels, tf.ones(labels.shape[0], dtype=tf.int32))\n",
        "          val_loop.set_description('Val  - Epoch: {}, Loss: {:.4f}, Precision: {:.4f}, Recall: {:.4f}, F1: {:.4f}'.format(\n",
        "              epoch, self.val_loss.result(), self.val_precision.result(), self.val_recall.result(), self.val_f1.result()))\n",
        "          val_loop.update(1)\n",
        "          \n",
        "        val_loop.close()\n",
        "\n",
        "        train_losses.append(self.train_loss.result())\n",
        "        val_losses.append(self.val_loss.result())\n",
        "\n",
        "        train_precisions.append(self.train_precision.result())\n",
        "        val_precisions.append(self.val_precision.result())\n",
        "\n",
        "        train_recalls.append(self.train_recall.result())\n",
        "        val_recalls.append(self.val_recall.result())\n",
        "\n",
        "        train_f1s.append(self.train_f1.result())\n",
        "        val_f1s.append(self.val_f1.result())\n",
        "    except:\n",
        "      __ITB__()\n",
        "    finally:\n",
        "      return self.model, (train_losses, val_losses), (train_precisions, val_precisions), (train_recalls, val_recalls), (train_f1s, val_f1s)"
      ],
      "execution_count": 27,
      "outputs": []
    },
    {
      "cell_type": "code",
      "metadata": {
        "id": "sSrAZsyHX3VL",
        "colab_type": "code",
        "colab": {}
      },
      "source": [
        "try:\n",
        "  train = Train()\n",
        "  model, losses, precisions, recalls, f1s = train()\n",
        "except:\n",
        "  __ITB__()"
      ],
      "execution_count": null,
      "outputs": []
    },
    {
      "cell_type": "markdown",
      "metadata": {
        "id": "lTYJyTZLcIoJ",
        "colab_type": "text"
      },
      "source": [
        "## Results\n",
        "\n",
        "Show how our model did throughout the training process."
      ]
    },
    {
      "cell_type": "code",
      "metadata": {
        "id": "ET2FHHVW957n",
        "colab_type": "code",
        "colab": {
          "base_uri": "https://localhost:8080/",
          "height": 313
        },
        "outputId": "550129b7-9b59-4afe-e94e-cf8dbe7f0ca6"
      },
      "source": [
        "plt.title('Loss')\n",
        "plt.xlabel('Epochs')\n",
        "plt.ylabel('Loss')\n",
        "plt.plot(losses[0], label='train')\n",
        "plt.plot(losses[1], label='val')\n",
        "plt.legend()\n",
        "plt.show()\n",
        "print('Final Validation Loss: {:.4f}'.format(losses[1][-1]))"
      ],
      "execution_count": 29,
      "outputs": [
        {
          "output_type": "display_data",
          "data": {
            "image/png": "[encoded data removed]",
            "text/plain": [
              "<Figure size 432x288 with 1 Axes>"
            ]
          },
          "metadata": {
            "tags": [],
            "needs_background": "light"
          }
        },
        {
          "output_type": "stream",
          "text": [
            "Final Validation Loss: 0.8678\n"
          ],
          "name": "stdout"
        }
      ]
    },
    {
      "cell_type": "code",
      "metadata": {
        "id": "8OHunu4792FZ",
        "colab_type": "code",
        "colab": {
          "base_uri": "https://localhost:8080/",
          "height": 313
        },
        "outputId": "d431674a-c9ee-4b39-ddf5-30631049a797"
      },
      "source": [
        "plt.title('Precision')\n",
        "plt.xlabel('Epochs')\n",
        "plt.ylabel('Precision')\n",
        "plt.plot(precisions[0], label='train')\n",
        "plt.plot(precisions[1], label='val')\n",
        "plt.legend()\n",
        "plt.show()\n",
        "print('Final Validation Precision: {:.2f}%'.format(precisions[1][-1] * 100))"
      ],
      "execution_count": 30,
      "outputs": [
        {
          "output_type": "display_data",
          "data": {
            "image/png": "[encoded data removed]",
            "text/plain": [
              "<Figure size 432x288 with 1 Axes>"
            ]
          },
          "metadata": {
            "tags": [],
            "needs_background": "light"
          }
        },
        {
          "output_type": "stream",
          "text": [
            "Final Validation Precision: 52.19%\n"
          ],
          "name": "stdout"
        }
      ]
    },
    {
      "cell_type": "code",
      "metadata": {
        "id": "WjJ4eGjhraiR",
        "colab_type": "code",
        "colab": {
          "base_uri": "https://localhost:8080/",
          "height": 313
        },
        "outputId": "9581898b-99fe-4300-de16-61bfdc150c18"
      },
      "source": [
        "plt.title('Recall')\n",
        "plt.xlabel('Epochs')\n",
        "plt.ylabel('Precision')\n",
        "plt.plot(recalls[0], label='train')\n",
        "plt.plot(recalls[1], label='val')\n",
        "plt.legend()\n",
        "plt.show()\n",
        "print('Final Validation Recall: {:.2f}%'.format(recalls[1][-1] * 100))"
      ],
      "execution_count": 31,
      "outputs": [
        {
          "output_type": "display_data",
          "data": {
            "image/png": "[encoded data removed]",
            "text/plain": [
              "<Figure size 432x288 with 1 Axes>"
            ]
          },
          "metadata": {
            "tags": [],
            "needs_background": "light"
          }
        },
        {
          "output_type": "stream",
          "text": [
            "Final Validation Recall: 51.07%\n"
          ],
          "name": "stdout"
        }
      ]
    },
    {
      "cell_type": "code",
      "metadata": {
        "id": "Rj5q2Hnmram9",
        "colab_type": "code",
        "colab": {
          "base_uri": "https://localhost:8080/",
          "height": 313
        },
        "outputId": "7b307bb1-92e0-4c7b-97f1-e1f4bb3b8a97"
      },
      "source": [
        "plt.title('F1')\n",
        "plt.xlabel('Epochs')\n",
        "plt.ylabel('F1')\n",
        "plt.plot(f1s[0], label='train')\n",
        "plt.plot(f1s[1], label='val')\n",
        "plt.legend()\n",
        "plt.show()\n",
        "print('Final Validation F1: {:.2f}%'.format(f1s[1][-1] * 100))"
      ],
      "execution_count": 32,
      "outputs": [
        {
          "output_type": "display_data",
          "data": {
            "image/png": "[encoded data removed]",
            "text/plain": [
              "<Figure size 432x288 with 1 Axes>"
            ]
          },
          "metadata": {
            "tags": [],
            "needs_background": "light"
          }
        },
        {
          "output_type": "stream",
          "text": [
            "Final Validation F1: 51.07%\n"
          ],
          "name": "stdout"
        }
      ]
    },
    {
      "cell_type": "markdown",
      "metadata": {
        "id": "j90cuaIRtkhD",
        "colab_type": "text"
      },
      "source": [
        "## Examples and Confusion Matrix\n",
        "\n",
        "* Show the final confusion matrix on the validation set.\n",
        "* Show a couple examples of the model classifying text."
      ]
    },
    {
      "cell_type": "code",
      "metadata": {
        "id": "lxSKiTCEUco1",
        "colab_type": "code",
        "colab": {
          "base_uri": "https://localhost:8080/",
          "height": 35
        },
        "outputId": "6daeba00-58e8-47ce-dc0a-f3c7680ece9c"
      },
      "source": [
        "encoder.idx_to_entity(7)"
      ],
      "execution_count": 39,
      "outputs": [
        {
          "output_type": "execute_result",
          "data": {
            "application/vnd.google.colaboratory.intrinsic+json": {
              "type": "string"
            },
            "text/plain": [
              "'O'"
            ]
          },
          "metadata": {
            "tags": []
          },
          "execution_count": 39
        }
      ]
    },
    {
      "cell_type": "code",
      "metadata": {
        "id": "AFRCgKNotpu5",
        "colab_type": "code",
        "colab": {
          "base_uri": "https://localhost:8080/",
          "height": 1000
        },
        "outputId": "3ca0cb8f-221d-4e79-ecce-167725a5f445"
      },
      "source": [
        "# The number of examples to show how the model did\n",
        "num_examples = 10\n",
        "\n",
        "data = conll_df()\n",
        "entity_list = list(set(data['entity'].values))\n",
        "encoder = Encoder(entity_list)\n",
        "\n",
        "# Determine sizes for training and validation sets\n",
        "dataset_size = 20000\n",
        "train_dataset_size = int(.8 * dataset_size)\n",
        "val_dataset_size = dataset_size - train_dataset_size\n",
        "\n",
        "# Break up dataset into training/validation\n",
        "dataset = tf.data.Dataset.from_generator(\n",
        "    conll_generator,\n",
        "    (tf.int64, tf.int32)).take(dataset_size)\n",
        "val_dataset = dataset.skip(train_dataset_size).batch(16)\n",
        "\n",
        "y_true, y_pred = np.array([]), np.array([])\n",
        "\n",
        "print('Making Predictions for Validation Set...')\n",
        "for index, (words, labels) in enumerate(val_dataset):   \n",
        "  predictions = model(words)\n",
        "  y_true = np.concatenate((y_true, labels.numpy()))\n",
        "  y_pred = np.concatenate((y_pred, tf.argmax(predictions, axis=1).numpy()))\n",
        "\n",
        "  if index < num_examples:\n",
        "    print('***Entity Prediction Sample***')\n",
        "    for word, actual, pred in zip(words, labels.numpy(), tf.argmax(predictions, axis=1).numpy()):\n",
        "      print('Word: {}, Predicted: {}, Actual: {}, Accuracy: {}'.format(word, actual, pred, '100%' if pred == actual else '0%'))\n",
        "\n",
        "print('Finished.')"
      ],
      "execution_count": 40,
      "outputs": [
        {
          "output_type": "stream",
          "text": [
            "Making Predictions for Validation Set...\n",
            "***Entity Prediction Sample***\n",
            "Word: 15902, Predicted: 7, Actual: 7, Accuracy: 100%\n",
            "Word: 911, Predicted: 7, Actual: 7, Accuracy: 100%\n",
            "Word: 3399, Predicted: 7, Actual: 7, Accuracy: 100%\n",
            "Word: 4304, Predicted: 7, Actual: 7, Accuracy: 100%\n",
            "Word: 529, Predicted: 7, Actual: 7, Accuracy: 100%\n",
            "Word: 3, Predicted: 7, Actual: 7, Accuracy: 100%\n",
            "Word: 8, Predicted: 7, Actual: 7, Accuracy: 100%\n",
            "Word: 13474, Predicted: 7, Actual: 7, Accuracy: 100%\n",
            "Word: 692, Predicted: 3, Actual: 8, Accuracy: 0%\n",
            "Word: 700, Predicted: 7, Actual: 7, Accuracy: 100%\n",
            "Word: 2196, Predicted: 7, Actual: 7, Accuracy: 100%\n",
            "Word: 4025, Predicted: 7, Actual: 7, Accuracy: 100%\n",
            "Word: 6282, Predicted: 7, Actual: 0, Accuracy: 0%\n",
            "Word: 3206, Predicted: 7, Actual: 7, Accuracy: 100%\n",
            "Word: 830, Predicted: 3, Actual: 3, Accuracy: 100%\n",
            "Word: 3206, Predicted: 7, Actual: 7, Accuracy: 100%\n",
            "***Entity Prediction Sample***\n",
            "Word: 4508, Predicted: 7, Actual: 7, Accuracy: 100%\n",
            "Word: 1351, Predicted: 7, Actual: 7, Accuracy: 100%\n",
            "Word: 3626, Predicted: 7, Actual: 7, Accuracy: 100%\n",
            "Word: 2196, Predicted: 7, Actual: 7, Accuracy: 100%\n",
            "Word: 389, Predicted: 3, Actual: 3, Accuracy: 100%\n",
            "Word: 18470, Predicted: 7, Actual: 7, Accuracy: 100%\n",
            "Word: 8, Predicted: 7, Actual: 7, Accuracy: 100%\n",
            "Word: 122, Predicted: 7, Actual: 7, Accuracy: 100%\n",
            "Word: 6282, Predicted: 7, Actual: 7, Accuracy: 100%\n",
            "Word: 2371, Predicted: 7, Actual: 7, Accuracy: 100%\n",
            "Word: 14617, Predicted: 7, Actual: 0, Accuracy: 0%\n",
            "Word: 3315, Predicted: 7, Actual: 7, Accuracy: 100%\n",
            "Word: 465, Predicted: 7, Actual: 7, Accuracy: 100%\n",
            "Word: 1603, Predicted: 7, Actual: 7, Accuracy: 100%\n",
            "Word: 1133, Predicted: 7, Actual: 7, Accuracy: 100%\n",
            "Word: 10932, Predicted: 7, Actual: 6, Accuracy: 0%\n",
            "***Entity Prediction Sample***\n",
            "Word: 2254, Predicted: 7, Actual: 7, Accuracy: 100%\n",
            "Word: 1725, Predicted: 7, Actual: 7, Accuracy: 100%\n",
            "Word: 3686, Predicted: 7, Actual: 7, Accuracy: 100%\n",
            "Word: 13974, Predicted: 7, Actual: 7, Accuracy: 100%\n",
            "Word: 2254, Predicted: 7, Actual: 7, Accuracy: 100%\n",
            "Word: 512, Predicted: 7, Actual: 7, Accuracy: 100%\n",
            "Word: 3315, Predicted: 7, Actual: 7, Accuracy: 100%\n",
            "Word: 1339, Predicted: 7, Actual: 7, Accuracy: 100%\n",
            "Word: 10102, Predicted: 7, Actual: 7, Accuracy: 100%\n",
            "Word: 1603, Predicted: 7, Actual: 7, Accuracy: 100%\n",
            "Word: 16501, Predicted: 7, Actual: 0, Accuracy: 0%\n",
            "Word: 3315, Predicted: 7, Actual: 7, Accuracy: 100%\n",
            "Word: 465, Predicted: 7, Actual: 7, Accuracy: 100%\n",
            "Word: 1603, Predicted: 7, Actual: 7, Accuracy: 100%\n",
            "Word: 1339, Predicted: 7, Actual: 7, Accuracy: 100%\n",
            "Word: 15665, Predicted: 7, Actual: 7, Accuracy: 100%\n",
            "***Entity Prediction Sample***\n",
            "Word: 1725, Predicted: 7, Actual: 7, Accuracy: 100%\n",
            "Word: 2254, Predicted: 7, Actual: 7, Accuracy: 100%\n",
            "Word: 18743, Predicted: 7, Actual: 7, Accuracy: 100%\n",
            "Word: 2254, Predicted: 7, Actual: 7, Accuracy: 100%\n",
            "Word: 512, Predicted: 7, Actual: 7, Accuracy: 100%\n",
            "Word: 3315, Predicted: 7, Actual: 7, Accuracy: 100%\n",
            "Word: 99, Predicted: 7, Actual: 7, Accuracy: 100%\n",
            "Word: 11525, Predicted: 7, Actual: 7, Accuracy: 100%\n",
            "Word: 1603, Predicted: 7, Actual: 7, Accuracy: 100%\n",
            "Word: 552, Predicted: 7, Actual: 0, Accuracy: 0%\n",
            "Word: 1270, Predicted: 7, Actual: 7, Accuracy: 100%\n",
            "Word: 3315, Predicted: 7, Actual: 7, Accuracy: 100%\n",
            "Word: 465, Predicted: 7, Actual: 7, Accuracy: 100%\n",
            "Word: 1603, Predicted: 7, Actual: 7, Accuracy: 100%\n",
            "Word: 1339, Predicted: 7, Actual: 7, Accuracy: 100%\n",
            "Word: 3206, Predicted: 7, Actual: 7, Accuracy: 100%\n",
            "***Entity Prediction Sample***\n",
            "Word: 11271, Predicted: 7, Actual: 7, Accuracy: 100%\n",
            "Word: 1725, Predicted: 7, Actual: 7, Accuracy: 100%\n",
            "Word: 2254, Predicted: 7, Actual: 7, Accuracy: 100%\n",
            "Word: 14713, Predicted: 7, Actual: 7, Accuracy: 100%\n",
            "Word: 2254, Predicted: 7, Actual: 7, Accuracy: 100%\n",
            "Word: 512, Predicted: 7, Actual: 7, Accuracy: 100%\n",
            "Word: 3315, Predicted: 7, Actual: 7, Accuracy: 100%\n",
            "Word: 99, Predicted: 7, Actual: 7, Accuracy: 100%\n",
            "Word: 18907, Predicted: 7, Actual: 7, Accuracy: 100%\n",
            "Word: 1603, Predicted: 7, Actual: 7, Accuracy: 100%\n",
            "Word: 299, Predicted: 7, Actual: 7, Accuracy: 100%\n",
            "Word: 1034, Predicted: 7, Actual: 7, Accuracy: 100%\n",
            "Word: 16044, Predicted: 7, Actual: 7, Accuracy: 100%\n",
            "Word: 3206, Predicted: 7, Actual: 7, Accuracy: 100%\n",
            "Word: 2221, Predicted: 7, Actual: 7, Accuracy: 100%\n",
            "Word: 14353, Predicted: 7, Actual: 7, Accuracy: 100%\n",
            "***Entity Prediction Sample***\n",
            "Word: 542, Predicted: 7, Actual: 7, Accuracy: 100%\n",
            "Word: 3315, Predicted: 7, Actual: 7, Accuracy: 100%\n",
            "Word: 15788, Predicted: 7, Actual: 7, Accuracy: 100%\n",
            "Word: 3206, Predicted: 7, Actual: 7, Accuracy: 100%\n",
            "Word: 2221, Predicted: 7, Actual: 7, Accuracy: 100%\n",
            "Word: 13574, Predicted: 7, Actual: 7, Accuracy: 100%\n",
            "Word: 542, Predicted: 7, Actual: 7, Accuracy: 100%\n",
            "Word: 1603, Predicted: 7, Actual: 7, Accuracy: 100%\n",
            "Word: 18527, Predicted: 0, Actual: 7, Accuracy: 0%\n",
            "Word: 169, Predicted: 7, Actual: 7, Accuracy: 100%\n",
            "Word: 311, Predicted: 7, Actual: 7, Accuracy: 100%\n",
            "Word: 16044, Predicted: 7, Actual: 7, Accuracy: 100%\n",
            "Word: 3206, Predicted: 7, Actual: 7, Accuracy: 100%\n",
            "Word: 2221, Predicted: 7, Actual: 7, Accuracy: 100%\n",
            "Word: 14003, Predicted: 7, Actual: 7, Accuracy: 100%\n",
            "Word: 542, Predicted: 7, Actual: 7, Accuracy: 100%\n",
            "***Entity Prediction Sample***\n",
            "Word: 3315, Predicted: 7, Actual: 7, Accuracy: 100%\n",
            "Word: 15788, Predicted: 7, Actual: 7, Accuracy: 100%\n",
            "Word: 3206, Predicted: 7, Actual: 7, Accuracy: 100%\n",
            "Word: 2221, Predicted: 7, Actual: 7, Accuracy: 100%\n",
            "Word: 11579, Predicted: 7, Actual: 7, Accuracy: 100%\n",
            "Word: 542, Predicted: 7, Actual: 7, Accuracy: 100%\n",
            "Word: 1603, Predicted: 7, Actual: 7, Accuracy: 100%\n",
            "Word: 14224, Predicted: 0, Actual: 7, Accuracy: 0%\n",
            "Word: 169, Predicted: 7, Actual: 7, Accuracy: 100%\n",
            "Word: 311, Predicted: 7, Actual: 7, Accuracy: 100%\n",
            "Word: 13010, Predicted: 7, Actual: 7, Accuracy: 100%\n",
            "Word: 3206, Predicted: 7, Actual: 7, Accuracy: 100%\n",
            "Word: 2221, Predicted: 7, Actual: 7, Accuracy: 100%\n",
            "Word: 18553, Predicted: 7, Actual: 6, Accuracy: 0%\n",
            "Word: 7185, Predicted: 7, Actual: 4, Accuracy: 0%\n",
            "Word: 3315, Predicted: 7, Actual: 7, Accuracy: 100%\n",
            "***Entity Prediction Sample***\n",
            "Word: 16044, Predicted: 7, Actual: 7, Accuracy: 100%\n",
            "Word: 3206, Predicted: 7, Actual: 7, Accuracy: 100%\n",
            "Word: 2221, Predicted: 7, Actual: 7, Accuracy: 100%\n",
            "Word: 13110, Predicted: 7, Actual: 7, Accuracy: 100%\n",
            "Word: 7185, Predicted: 7, Actual: 7, Accuracy: 100%\n",
            "Word: 1603, Predicted: 7, Actual: 7, Accuracy: 100%\n",
            "Word: 531, Predicted: 7, Actual: 7, Accuracy: 100%\n",
            "Word: 162, Predicted: 7, Actual: 7, Accuracy: 100%\n",
            "Word: 1876, Predicted: 7, Actual: 7, Accuracy: 100%\n",
            "Word: 99, Predicted: 7, Actual: 7, Accuracy: 100%\n",
            "Word: 2221, Predicted: 7, Actual: 7, Accuracy: 100%\n",
            "Word: 10364, Predicted: 7, Actual: 7, Accuracy: 100%\n",
            "Word: 542, Predicted: 7, Actual: 7, Accuracy: 100%\n",
            "Word: 3315, Predicted: 7, Actual: 7, Accuracy: 100%\n",
            "Word: 1356, Predicted: 7, Actual: 7, Accuracy: 100%\n",
            "Word: 2221, Predicted: 7, Actual: 7, Accuracy: 100%\n",
            "***Entity Prediction Sample***\n",
            "Word: 10886, Predicted: 7, Actual: 7, Accuracy: 100%\n",
            "Word: 542, Predicted: 7, Actual: 7, Accuracy: 100%\n",
            "Word: 1603, Predicted: 7, Actual: 7, Accuracy: 100%\n",
            "Word: 73, Predicted: 7, Actual: 7, Accuracy: 100%\n",
            "Word: 162, Predicted: 7, Actual: 7, Accuracy: 100%\n",
            "Word: 1876, Predicted: 7, Actual: 7, Accuracy: 100%\n",
            "Word: 99, Predicted: 7, Actual: 7, Accuracy: 100%\n",
            "Word: 2221, Predicted: 7, Actual: 7, Accuracy: 100%\n",
            "Word: 13181, Predicted: 7, Actual: 7, Accuracy: 100%\n",
            "Word: 542, Predicted: 7, Actual: 7, Accuracy: 100%\n",
            "Word: 3315, Predicted: 7, Actual: 7, Accuracy: 100%\n",
            "Word: 1356, Predicted: 7, Actual: 7, Accuracy: 100%\n",
            "Word: 2221, Predicted: 7, Actual: 7, Accuracy: 100%\n",
            "Word: 17549, Predicted: 7, Actual: 7, Accuracy: 100%\n",
            "Word: 542, Predicted: 7, Actual: 7, Accuracy: 100%\n",
            "Word: 1603, Predicted: 7, Actual: 7, Accuracy: 100%\n",
            "***Entity Prediction Sample***\n",
            "Word: 2505, Predicted: 7, Actual: 8, Accuracy: 0%\n",
            "Word: 3315, Predicted: 7, Actual: 7, Accuracy: 100%\n",
            "Word: 465, Predicted: 7, Actual: 7, Accuracy: 100%\n",
            "Word: 1603, Predicted: 7, Actual: 7, Accuracy: 100%\n",
            "Word: 1133, Predicted: 7, Actual: 7, Accuracy: 100%\n",
            "Word: 17228, Predicted: 7, Actual: 0, Accuracy: 0%\n",
            "Word: 465, Predicted: 7, Actual: 7, Accuracy: 100%\n",
            "Word: 3315, Predicted: 7, Actual: 7, Accuracy: 100%\n",
            "Word: 1339, Predicted: 7, Actual: 7, Accuracy: 100%\n",
            "Word: 10269, Predicted: 7, Actual: 7, Accuracy: 100%\n",
            "Word: 465, Predicted: 7, Actual: 7, Accuracy: 100%\n",
            "Word: 1603, Predicted: 7, Actual: 7, Accuracy: 100%\n",
            "Word: 1027, Predicted: 7, Actual: 0, Accuracy: 0%\n",
            "Word: 2402, Predicted: 7, Actual: 7, Accuracy: 100%\n",
            "Word: 3315, Predicted: 7, Actual: 7, Accuracy: 100%\n",
            "Word: 19484, Predicted: 7, Actual: 0, Accuracy: 0%\n",
            "Finished.\n"
          ],
          "name": "stdout"
        }
      ]
    },
    {
      "cell_type": "markdown",
      "metadata": {
        "id": "EtZWK_3QG5hm",
        "colab_type": "text"
      },
      "source": [
        "Use sklearn to create the confusion matrix from the actual/predicted values"
      ]
    },
    {
      "cell_type": "code",
      "metadata": {
        "id": "QTb_Mb9_vI4X",
        "colab_type": "code",
        "colab": {
          "base_uri": "https://localhost:8080/",
          "height": 175
        },
        "outputId": "74025301-ff8b-413a-a338-1b68a36d9fde"
      },
      "source": [
        "matrix = metrics.confusion_matrix(y_true, y_pred)\n",
        "matrix"
      ],
      "execution_count": 41,
      "outputs": [
        {
          "output_type": "execute_result",
          "data": {
            "text/plain": [
              "array([[  21,    5,    0,    4,    0,    1,    1,   24,    3],\n",
              "       [   7,   38,    1,    2,    0,    0,    0,   36,    1],\n",
              "       [   0,    0,    8,    1,    0,    0,    0,   11,    5],\n",
              "       [  10,    3,    0,   66,    0,    0,    0,   48,    9],\n",
              "       [   0,    0,    0,    0,   10,    1,    0,   28,    1],\n",
              "       [   0,    0,    0,    0,    1,    0,    0,    7,    0],\n",
              "       [   5,    1,    0,    1,    0,    1,   12,   59,    0],\n",
              "       [  57,   18,   10,   15,    8,    3,   12, 3356,   43],\n",
              "       [   3,    1,    3,    1,    1,    1,    0,   28,    8]])"
            ]
          },
          "metadata": {
            "tags": []
          },
          "execution_count": 41
        }
      ]
    },
    {
      "cell_type": "markdown",
      "metadata": {
        "id": "m9sa_nX5G9t-",
        "colab_type": "text"
      },
      "source": [
        "Print the Heatmap and convert the index class labels back to their original\n",
        "text representation."
      ]
    },
    {
      "cell_type": "code",
      "metadata": {
        "id": "jHMCc3VAxvE0",
        "colab_type": "code",
        "colab": {
          "base_uri": "https://localhost:8080/",
          "height": 661
        },
        "outputId": "c0f10f4d-3954-48a6-cb78-34d66b527750"
      },
      "source": [
        "encoder.idx_to_entity(1)\n",
        "class_labels = [encoder.idx_to_entity(i) for i in range(encoder.num_classes())]\n",
        "\n",
        "plt.figure(figsize = (16, 10))\n",
        "sns.heatmap(matrix, annot=True, fmt='d', xticklabels=class_labels, yticklabels=class_labels)\n",
        "\n",
        "plt.title('Confusion Matrix', fontdict={'fontsize': 30})\n",
        "plt.xlabel('Predicted', fontdict={'fontsize': 20})\n",
        "plt.ylabel('Actual', fontdict={'fontsize': 20})"
      ],
      "execution_count": 42,
      "outputs": [
        {
          "output_type": "execute_result",
          "data": {
            "text/plain": [
              "Text(123.0, 0.5, 'Actual')"
            ]
          },
          "metadata": {
            "tags": []
          },
          "execution_count": 42
        },
        {
          "output_type": "display_data",
          "data": {
            "image/png": "[encoded data removed]",
            "text/plain": [
              "<Figure size 1152x720 with 2 Axes>"
            ]
          },
          "metadata": {
            "tags": [],
            "needs_background": "light"
          }
        }
      ]
    }
  ]
}