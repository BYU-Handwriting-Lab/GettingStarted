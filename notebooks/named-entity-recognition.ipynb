{
  "nbformat": 4,
  "nbformat_minor": 0,
  "metadata": {
    "colab": {
      "name": "notebook.ipynb",
      "provenance": [],
      "include_colab_link": true
    },
    "kernelspec": {
      "name": "python3",
      "display_name": "Python 3"
    },
    "accelerator": "GPU"
  },
  "cells": [
    {
      "cell_type": "markdown",
      "metadata": {
        "id": "view-in-github",
        "colab_type": "text"
      },
      "source": [
        "<a href=\"https://colab.research.google.com/github/BYU-Handwriting-Lab/GettingStarted/blob/solution/notebooks/named-entity-recognition.ipynb\" target=\"_parent\"><img src=\"https://colab.research.google.com/assets/colab-badge.svg\" alt=\"Open In Colab\"/></a>"
      ]
    },
    {
      "cell_type": "markdown",
      "metadata": {
        "id": "VPrUn5n6CwCJ",
        "colab_type": "text"
      },
      "source": [
        "# Named-Entity-Recognition in TensorFlow 2\n",
        "\n",
        "This notebook contains code to do Named Entity Reconition in TensorFlow 2."
      ]
    },
    {
      "cell_type": "markdown",
      "metadata": {
        "id": "Q1sGqnTaFtjd",
        "colab_type": "text"
      },
      "source": [
        "## Imports and Dependencies\n",
        "\n",
        "TensorFlow Addons apparently has an implementation of CRF that is compatible with TF2 and tf.keras."
      ]
    },
    {
      "cell_type": "code",
      "metadata": {
        "id": "_sKdrBf7C3zT",
        "colab_type": "code",
        "colab": {}
      },
      "source": [
        "# Used in Colab to say we're using Version 2\n",
        "try:\n",
        "  %tensorflow_version 2.x\n",
        "except Exception:\n",
        "  pass"
      ],
      "execution_count": 1,
      "outputs": []
    },
    {
      "cell_type": "code",
      "metadata": {
        "id": "vq00R5VjDx_0",
        "colab_type": "code",
        "colab": {
          "base_uri": "https://localhost:8080/",
          "height": 51
        },
        "outputId": "14c4886e-35a8-4d33-8b6c-cf729261e405"
      },
      "source": [
        "# TensorFlow\n",
        "import tensorflow as tf\n",
        "import tensorflow_hub as hub\n",
        "import tensorflow_addons as tfa\n",
        "import tensorflow.keras as K\n",
        "import tensorflow.keras.layers as L\n",
        "\n",
        "# Python\n",
        "import os\n",
        "import string\n",
        "\n",
        "# Data Structures\n",
        "import numpy as np\n",
        "import pandas as pd\n",
        "import json\n",
        "\n",
        "# Image/Plotting\n",
        "from matplotlib import pyplot as plt\n",
        "from sklearn import metrics\n",
        "import seaborn as sns\n",
        "\n",
        "# Debugging\n",
        "from tqdm import tqdm\n",
        "from IPython.core.ultratb import AutoFormattedTB\n",
        "__ITB__ = AutoFormattedTB(mode='Plain', color_scheme='LightBg', tb_offset=1) # Change to 'Verbose' mode for additional debugging"
      ],
      "execution_count": 2,
      "outputs": [
        {
          "output_type": "stream",
          "text": [
            "/usr/local/lib/python3.6/dist-packages/statsmodels/tools/_testing.py:19: FutureWarning: pandas.util.testing is deprecated. Use the functions in the public API at pandas.testing instead.\n",
            "  import pandas.util.testing as tm\n"
          ],
          "name": "stderr"
        }
      ]
    },
    {
      "cell_type": "code",
      "metadata": {
        "id": "aowidUPYPhto",
        "colab_type": "code",
        "colab": {}
      },
      "source": [
        "# Insert file path to Esposalles Dataset in your Google Drive\n",
        "# Note that '!' indicates a shell command rather than python code...\n",
        "\n",
        "!wget -q https://raw.githubusercontent.com/ericburdett/named-entity-recognition/master/char_set.json\n",
        "!wget -q https://raw.githubusercontent.com/ericburdett/named-entity-recognition/master/esposalles-labels.csv\n",
        "!wget -q --load-cookies /tmp/cookies.txt \"https://docs.google.com/uc?export=download&confirm=$(wget --quiet --save-cookies /tmp/cookies.txt --keep-session-cookies --no-check-certificate 'https://docs.google.com/uc?export=download&id=1T2QLKZJ9E392vsbaHuXcdTvAhpbXLWtm' -O- | sed -rn 's/.*confirm=([0-9A-Za-z_]+).*/\\1\\n/p')&id=1T2QLKZJ9E392vsbaHuXcdTvAhpbXLWtm\" -O french_ner_dataset.csv && rm -rf /tmp/cookies.tx"
      ],
      "execution_count": 3,
      "outputs": []
    },
    {
      "cell_type": "markdown",
      "metadata": {
        "id": "B7IRJQe-G7Mw",
        "colab_type": "text"
      },
      "source": [
        "## Encoding Class\n",
        "\n",
        "The encoding class helps us map between strings and indexes."
      ]
    },
    {
      "cell_type": "code",
      "metadata": {
        "id": "zNpDzP01Dgij",
        "colab_type": "code",
        "colab": {}
      },
      "source": [
        "class Encoder():\n",
        "  def __init__(self, entity_list, sequence_size=20):\n",
        "    self.entity_dict = {e: i for i, e in enumerate(entity_list)}\n",
        "    self.idx_entity_dict = {v: k for k, v in self.entity_dict.items()}\n",
        "    self.sequence_size = sequence_size\n",
        "\n",
        "    with open('char_set.json') as file:\n",
        "      self.char_dict = json.load(file)\n",
        "    \n",
        "  def char_to_idx(self, char):\n",
        "    if char in self.char_dict['char_to_idx']:\n",
        "      return int(self.char_dict['char_to_idx'][char])\n",
        "    else:\n",
        "      return 0\n",
        "  \n",
        "  def idx_to_char(self, idx):\n",
        "    if str(int(idx)) in self.char_dict['idx_to_char']:\n",
        "      return self.char_dict['idx_to_char'][str(int(idx))]\n",
        "    else:\n",
        "      return ''\n",
        "  \n",
        "  def str_to_idxs(self, string):\n",
        "    assert type(string) == str\n",
        "\n",
        "    zeros = np.zeros(self.sequence_size)\n",
        "    idxs = []\n",
        "    for char in string:\n",
        "      idxs.append(self.char_to_idx(char))\n",
        "    \n",
        "    idxs = np.concatenate((idxs, zeros))[:self.sequence_size]\n",
        "\n",
        "    return idxs\n",
        "  \n",
        "  def idxs_to_str(self, idxs):\n",
        "    chars = ''\n",
        "\n",
        "    for idx in idxs:\n",
        "      chars += self.idx_to_char(idx)\n",
        "    \n",
        "    return chars\n",
        "  \n",
        "  def entity_to_idx(self, entity):\n",
        "    return self.entity_dict[entity]\n",
        "  \n",
        "  def idx_to_entity(self, idx):\n",
        "    return self.idx_entity_dict[idx]\n",
        "\n",
        "  def num_classes(self):\n",
        "    return len(self.entity_dict)"
      ],
      "execution_count": 4,
      "outputs": []
    },
    {
      "cell_type": "markdown",
      "metadata": {
        "id": "QgdOgvr_F8-N",
        "colab_type": "text"
      },
      "source": [
        "## Generator Creation\n",
        "\n",
        "TensorFlow can use a Python Generator to access the dataset during training"
      ]
    },
    {
      "cell_type": "code",
      "metadata": {
        "id": "Fe-GEolpE2QM",
        "colab_type": "code",
        "colab": {}
      },
      "source": [
        "# TensorFlow uses Generators to access the dataset during training\n",
        "def dataset_df(path='/content/esposalles-labels.csv'):\n",
        "  if not os.path.exists(path):\n",
        "    raise Exception('Esposalles dataset does not exist in ' + path)\n",
        "  \n",
        "  df = pd.read_csv(path, header=None, sep='\\t', names=['img', 'entity', 'rel-entity', 'word', 'sentence'])\n",
        "  df = df.drop(columns=['img'])\n",
        "\n",
        "  return df\n",
        "\n",
        "def encode_word_label(data, entity_type, encoder):\n",
        "  word = data['word']\n",
        "  encoded_word = encoder.str_to_idxs(str(word))\n",
        "  label = data[entity_type]\n",
        "  encoded_label = encoder.entity_to_idx(label)\n",
        "\n",
        "  return (encoded_word, encoded_label)\n",
        "\n",
        "def french_df(path='/content/french_ner_dataset.csv'):\n",
        "  if not os.path.exists(path):\n",
        "    raise Exception('French dataset does not exist in ' + path)\n",
        "  \n",
        "  df = pd.read_csv(path, header=None, sep='\\t', names=['word', 'entity', 'id'])\n",
        "\n",
        "  df.loc[df['entity'] == 'DeathCity', 'entity'] = 'entity' #'Place'\n",
        "  df.loc[df['entity'] == 'DeathCounty', 'entity'] = 'entity' #'Place'\n",
        "  df.loc[df['entity'] == 'DeathCountry', 'entity'] = 'entity' #'Place'\n",
        "  df.loc[df['entity'] == 'DeathState', 'entity'] = 'entity' #'Place'\n",
        "\n",
        "  df.loc[df['entity'] == 'DeathDay', 'entity'] = 'entity' #'Date'\n",
        "  df.loc[df['entity'] == 'DeathMonth', 'entity'] = 'entity' #'Date'\n",
        "  df.loc[df['entity'] == 'DeathYear', 'entity'] = 'entity' #'Date'\n",
        "  df.loc[df['entity'] == 'DeathAge', 'entity'] = 'entity' #'Date'\n",
        "\n",
        "  df.loc[df['entity'] == 'BirthCity', 'entity'] = 'entity' #'none'\n",
        "  df.loc[df['entity'] == 'BirthState', 'entity'] = 'entity' #'none'\n",
        "  df.loc[df['entity'] == 'BirthCounty', 'entity'] = 'entity' #'none'\n",
        "\n",
        "  df.loc[df['entity'] == 'GivenName', 'entity'] = 'entity' #'Name'\n",
        "  df.loc[df['entity'] == 'Surname', 'entity'] = 'entity' #'Name'\n",
        "\n",
        "  df.loc[df['entity'] == 'MotherGivenName', 'entity'] = 'entity' #'Name'\n",
        "  df.loc[df['entity'] == 'MotherSurname', 'entity'] = 'entity' #'Name'\n",
        "  df.loc[df['entity'] == 'FatherGivenName', 'entity'] = 'entity' #'Name'\n",
        "  df.loc[df['entity'] == 'FatherSurname', 'entity'] = 'entity' #'Name'\n",
        "  df.loc[df['entity'] == 'SpouseGivenName', 'entity'] = 'entity' #'Name'\n",
        "  df.loc[df['entity'] == 'SpouseSurname', 'entity'] = 'entity' #'Name'\n",
        "\n",
        "  df.loc[df['entity'] == 'Start', 'entity'] = 'none'\n",
        "\n",
        "  return df\n",
        "\n",
        "def french_generator():\n",
        "  data = french_df()\n",
        "  entity_list = list(set(data['entity'].values))\n",
        "  encoder = Encoder(entity_list)\n",
        "\n",
        "  df_size = data['id'].max()\n",
        "\n",
        "  for i in range(1, df_size + 1):\n",
        "    ith_sentence_words = data.loc[data['id'] == i]\n",
        "\n",
        "    sentence_words = []\n",
        "    sentence_labels = []\n",
        "\n",
        "    for index, row in ith_sentence_words.iterrows():\n",
        "      encoded_word = encoder.str_to_idxs(str(row['word']))\n",
        "      encoded_label = encoder.entity_to_idx(row['entity'])\n",
        "\n",
        "      sentence_words.append(encoded_word)\n",
        "      sentence_labels.append(encoded_label)\n",
        "    \n",
        "    yield tf.constant(np.array(sentence_words), dtype=tf.int64), tf.constant(np.array(sentence_labels), dtype=tf.int32)\n",
        "\n",
        "def esposalles_generator(entity_type='entity'): # options include 'entity' and 'rel-entity'\n",
        "  data = dataset_df()\n",
        "  entity_list = list(set(data[entity_type].values))\n",
        "  encoder = Encoder(entity_list)\n",
        "\n",
        "  df_size = data['sentence'].max() + 1\n",
        "\n",
        "  for i in range(df_size):\n",
        "    ith_sentence_words = data.loc[data['sentence'] == i]\n",
        "\n",
        "    sentence_words = []\n",
        "    sentence_labels = []\n",
        "\n",
        "    for index, row in ith_sentence_words.iterrows():\n",
        "      # encoded_label = encoder.entity_to_idx(row[entity_type])\n",
        "      # encoded_word = row['word']\n",
        "      encoded_word, encoded_label = encode_word_label(row, entity_type, encoder)\n",
        "      sentence_words.append(encoded_word)\n",
        "      sentence_labels.append(encoded_label)\n",
        "    \n",
        "    yield tf.constant(np.array(sentence_words), dtype=tf.int64), tf.constant(np.array(sentence_labels), dtype=tf.int32)"
      ],
      "execution_count": 5,
      "outputs": []
    },
    {
      "cell_type": "code",
      "metadata": {
        "id": "tBv3rpr7nyiw",
        "colab_type": "code",
        "colab": {
          "base_uri": "https://localhost:8080/",
          "height": 272
        },
        "outputId": "a10c660c-0b7c-4ab4-e6d1-6e7ba56e5cd2"
      },
      "source": [
        "gen = french_generator()\n",
        "next(gen)"
      ],
      "execution_count": 6,
      "outputs": [
        {
          "output_type": "execute_result",
          "data": {
            "text/plain": [
              "(<tf.Tensor: shape=(109, 20), dtype=int64, numpy=\n",
              " array([[34, 81,  0, ...,  0,  0,  0],\n",
              "        [64, 65, 81, ...,  0,  0,  0],\n",
              "        [40, 61, 74, ...,  0,  0,  0],\n",
              "        ...,\n",
              "        [34, 75, 74, ...,  0,  0,  0],\n",
              "        [33, 68, 61, ...,  0,  0,  0],\n",
              "        [37, 65, 78, ...,  0,  0,  0]])>,\n",
              " <tf.Tensor: shape=(109,), dtype=int32, numpy=\n",
              " array([0, 1, 1, 1, 1, 1, 1, 0, 0, 0, 0, 0, 0, 0, 0, 0, 0, 0, 0, 0, 0, 0,\n",
              "        0, 1, 0, 0, 0, 0, 1, 1, 0, 1, 1, 0, 0, 0, 0, 0, 0, 0, 0, 0, 0, 0,\n",
              "        0, 1, 0, 0, 1, 0, 0, 0, 0, 0, 0, 0, 1, 1, 0, 0, 0, 1, 1, 0, 0, 0,\n",
              "        0, 0, 0, 0, 0, 0, 0, 0, 0, 0, 1, 0, 0, 0, 0, 0, 0, 0, 0, 0, 0, 0,\n",
              "        0, 0, 0, 0, 0, 0, 0, 1, 0, 0, 0, 0, 0, 0, 0, 0, 0, 1, 1, 0, 0],\n",
              "       dtype=int32)>)"
            ]
          },
          "metadata": {
            "tags": []
          },
          "execution_count": 6
        }
      ]
    },
    {
      "cell_type": "code",
      "metadata": {
        "id": "MgL_Qbbxm2Ej",
        "colab_type": "code",
        "colab": {
          "base_uri": "https://localhost:8080/",
          "height": 173
        },
        "outputId": "5f1e8311-9d43-4316-9c8e-e10de8f6014e"
      },
      "source": [
        "french_df().drop(columns=['id']).drop_duplicates().groupby(['entity']).agg(['count'])"
      ],
      "execution_count": null,
      "outputs": [
        {
          "output_type": "execute_result",
          "data": {
            "text/html": [
              "<div>\n",
              "<style scoped>\n",
              "    .dataframe tbody tr th:only-of-type {\n",
              "        vertical-align: middle;\n",
              "    }\n",
              "\n",
              "    .dataframe tbody tr th {\n",
              "        vertical-align: top;\n",
              "    }\n",
              "\n",
              "    .dataframe thead tr th {\n",
              "        text-align: left;\n",
              "    }\n",
              "\n",
              "    .dataframe thead tr:last-of-type th {\n",
              "        text-align: right;\n",
              "    }\n",
              "</style>\n",
              "<table border=\"1\" class=\"dataframe\">\n",
              "  <thead>\n",
              "    <tr>\n",
              "      <th></th>\n",
              "      <th>word</th>\n",
              "    </tr>\n",
              "    <tr>\n",
              "      <th></th>\n",
              "      <th>count</th>\n",
              "    </tr>\n",
              "    <tr>\n",
              "      <th>entity</th>\n",
              "      <th></th>\n",
              "    </tr>\n",
              "  </thead>\n",
              "  <tbody>\n",
              "    <tr>\n",
              "      <th>entity</th>\n",
              "      <td>920</td>\n",
              "    </tr>\n",
              "    <tr>\n",
              "      <th>none</th>\n",
              "      <td>2536</td>\n",
              "    </tr>\n",
              "  </tbody>\n",
              "</table>\n",
              "</div>"
            ],
            "text/plain": [
              "        word\n",
              "       count\n",
              "entity      \n",
              "entity   920\n",
              "none    2536"
            ]
          },
          "metadata": {
            "tags": []
          },
          "execution_count": 39
        }
      ]
    },
    {
      "cell_type": "markdown",
      "metadata": {
        "id": "_5mgsr2oGPFh",
        "colab_type": "text"
      },
      "source": [
        "## Model Architecture\n",
        "\n",
        "This is where we can build our model using the tf.keras high-level API\n",
        "\n",
        "We subclass from tf.keras.Model and implement the *call* method. This is the *forward pass* of the neural network."
      ]
    },
    {
      "cell_type": "code",
      "metadata": {
        "id": "PKXklX-gGYD_",
        "colab_type": "code",
        "colab": {}
      },
      "source": [
        "class NERModel(K.Model):\n",
        "  def __init__(self, input_dim=197, num_classes=6, input_length=20):\n",
        "    super(NERModel, self).__init__()\n",
        "\n",
        "    self.embedding = L.Embedding(input_dim=input_dim, output_dim=128, input_length=input_length)\n",
        "\n",
        "    self.conv1 = L.Conv2D(128, 3, padding='same', activation='relu')\n",
        "    self.conv2 = L.Conv2D(256, 3, padding='same', activation='relu')\n",
        "\n",
        "    self.lstm = L.Bidirectional(L.LSTM(512, return_sequences=True))\n",
        "\n",
        "    self.fc1 = L.Dense(512, activation='relu')\n",
        "    self.drop = L.Dropout(0.5)\n",
        "    self.fc2 = L.Dense(num_classes)\n",
        "\n",
        "    self.softmax = L.Softmax(axis=2)\n",
        "\n",
        "  def __call__(self, x, **kwargs):\n",
        "    out = self.embedding(x)\n",
        "\n",
        "    out = self.conv1(out)\n",
        "    out = self.conv2(out)\n",
        "\n",
        "    out = tf.reshape(out, [out.shape[0], out.shape[1], out.shape[2] * out.shape[3]])\n",
        "    out = self.lstm(out)\n",
        "\n",
        "    out = self.fc1(out)\n",
        "    out = self.drop(out)\n",
        "    out = self.fc2(out)\n",
        "\n",
        "    out = self.softmax(out)\n",
        "\n",
        "    return out"
      ],
      "execution_count": 56,
      "outputs": []
    },
    {
      "cell_type": "markdown",
      "metadata": {
        "id": "GzvxSgFXNZJK",
        "colab_type": "text"
      },
      "source": [
        "### Test to make sure the model is doing what we think it is...\n",
        "\n",
        "The output shape should be (NUM_WORDS_IN_SENTENCE, NUM_CLASSES). Example: (41, 6)\n",
        "\n",
        "The values along Axis=0 represents a word\n",
        "\n",
        "The values along Axis=1 represents the probability distribution"
      ]
    },
    {
      "cell_type": "code",
      "metadata": {
        "id": "y9stdiHw7mXK",
        "colab_type": "code",
        "colab": {
          "base_uri": "https://localhost:8080/",
          "height": 34
        },
        "outputId": "33f7c8a7-2e36-4985-d8a3-f6a00f1b3113"
      },
      "source": [
        "L.Embedding(197, 128, input_length=20)(tf.expand_dims(sentence, 0)).shape"
      ],
      "execution_count": 17,
      "outputs": [
        {
          "output_type": "execute_result",
          "data": {
            "text/plain": [
              "TensorShape([1, 109, 20, 128])"
            ]
          },
          "metadata": {
            "tags": []
          },
          "execution_count": 17
        }
      ]
    },
    {
      "cell_type": "code",
      "metadata": {
        "id": "guI2ckOf2KjI",
        "colab_type": "code",
        "colab": {}
      },
      "source": [
        "pad_sequences(tf.expand_dims(sentence, 0), tf.expand_dims(labels, 0))"
      ],
      "execution_count": null,
      "outputs": []
    },
    {
      "cell_type": "code",
      "metadata": {
        "id": "uzBsYVZjNdNv",
        "colab_type": "code",
        "colab": {
          "base_uri": "https://localhost:8080/",
          "height": 85
        },
        "outputId": "1d9ba452-786a-4671-8c2d-96e2b0cd0368"
      },
      "source": [
        "generator = french_generator()\n",
        "sentence, labels = next(generator)\n",
        "sentence = tf.expand_dims(sentence, 0)\n",
        "\n",
        "print('Input:', sentence.shape)\n",
        "model = NERModel(num_classes=2)\n",
        "results = model(sentence)\n",
        "print('Shape of output from NER Model: ', results.shape)\n",
        "print('Probability Distribution for one word in the sentence: ', results[0])\n",
        "print('Predicted class for the word: ', tf.argmax(results[0]).numpy())"
      ],
      "execution_count": 19,
      "outputs": [
        {
          "output_type": "stream",
          "text": [
            "Input: (1, 109, 20)\n",
            "Shape of output from NER Model:  (109, 2)\n",
            "Probability Distribution for one word in the sentence:  tf.Tensor([0.5026118  0.49738818], shape=(2,), dtype=float32)\n",
            "Predicted class for the word:  0\n"
          ],
          "name": "stdout"
        }
      ]
    },
    {
      "cell_type": "markdown",
      "metadata": {
        "id": "9isM9-2-qzQA",
        "colab_type": "text"
      },
      "source": [
        "## Evaluation Metrics\n",
        "\n",
        "For named-entity-recognition, we will use Precision, Recall, and F1 for our\n",
        "metrics. An easy way to do this is using sklearn metrics. We need to define\n",
        "custom functions so that we can pass the *average* parameter when it's wrapped\n",
        "in a *tf.py_function*."
      ]
    },
    {
      "cell_type": "code",
      "metadata": {
        "id": "B7MASql6evPg",
        "colab_type": "code",
        "colab": {}
      },
      "source": [
        "def precision_score(y_true, y_pred):\n",
        "  return metrics.precision_score(y_true, y_pred, average='macro')\n",
        "\n",
        "def recall_score(y_true, y_pred):\n",
        "  return metrics.recall_score(y_true, y_pred, average='macro')\n",
        "\n",
        "def f1_score(y_true, y_pred):\n",
        "  return metrics.f1_score(y_true, y_pred, average='macro')"
      ],
      "execution_count": 59,
      "outputs": []
    },
    {
      "cell_type": "markdown",
      "metadata": {
        "id": "eo6dYjU7HGxv",
        "colab_type": "text"
      },
      "source": [
        "## Training Loop\n",
        "\n",
        "Build our training loop and creating custom train_step and val_step functions.\n",
        "\n",
        "GradientTape allows us to keep track of the losses and gradients for each pass through the network. Structuring our code this way makes it much easier for debugging purposes and for us to iterate through our design.\n",
        "\n",
        "Notice the decorator *@tf.function*. This tells TensorFlow to create the computation graph from the python code and allows our model to run much faster. The *experimental_relax_shapes* parameter allows us to pass tensors with various sentence lengths without TensorFlow getting upset at us.\n",
        "\n",
        "TensorFlow 2 also does some weird things with scope when it constructs the computation graph through a @tf.function annotation. Thus, if we use a more object oriented approach, we can avoid some of the nasty scope issues. See the following articles for more details:\n",
        "* https://pgaleone.eu/tensorflow/tf.function/2019/03/21/dissecting-tf-function-part-1/\n",
        "* https://pgaleone.eu/tensorflow/tf.function/2019/04/03/dissecting-tf-function-part-2/\n"
      ]
    },
    {
      "cell_type": "code",
      "metadata": {
        "id": "TxEdq6Ub1ue_",
        "colab_type": "code",
        "colab": {}
      },
      "source": [
        "def pad_sequences(sentence, labels):\n",
        "  sentence = tf.keras.preprocessing.sequence.pad_sequences(tf.expand_dims(sentence, 0), maxlen=150, dtype='int64', padding='post', truncating='post')\n",
        "  labels = tf.keras.preprocessing.sequence.pad_sequences(tf.expand_dims(labels, 0), maxlen=150, dtype='int32', padding='post', truncating='post')\n",
        "\n",
        "\n",
        "  return tf.squeeze(sentence, 0), tf.squeeze(labels, 0)"
      ],
      "execution_count": 60,
      "outputs": []
    },
    {
      "cell_type": "code",
      "metadata": {
        "id": "aw_OkuQT9yNX",
        "colab_type": "code",
        "colab": {
          "base_uri": "https://localhost:8080/",
          "height": 357
        },
        "outputId": "e24d55e3-2dbf-4572-d22b-181adc03d52c"
      },
      "source": [
        "dataset = tf.data.Dataset.from_generator(\n",
        "    french_generator,\n",
        "    (tf.int64, tf.int32))\\\n",
        "       .take(100)\\\n",
        "       .shuffle(200, reshuffle_each_iteration=True)\\\n",
        "       .map(lambda sentence, labels: tf.py_function(pad_sequences, [sentence, labels], [tf.int64, tf.int32]))\\\n",
        "       .batch(10)\n",
        "\n",
        "sentence, labels = next(dataset.as_numpy_iterator())\n",
        "print(sentence.shape)\n",
        "print(labels.shape)"
      ],
      "execution_count": 46,
      "outputs": [
        {
          "output_type": "stream",
          "text": [
            "WARNING:tensorflow:AutoGraph could not transform <function <lambda> at 0x7f4f9b2ae268> and will run it as-is.\n",
            "Cause: could not parse the source code:\n",
            "\n",
            "       .map(lambda sentence, labels: tf.py_function(pad_sequences, [sentence, labels], [tf.int64, tf.int32]))\\\n",
            "       .batch(10)\n",
            "\n",
            "This error may be avoided by creating the lambda in a standalone statement.\n",
            "\n",
            "To silence this warning, decorate the function with @tf.autograph.experimental.do_not_convert\n",
            "WARNING: AutoGraph could not transform <function <lambda> at 0x7f4f9b2ae268> and will run it as-is.\n",
            "Cause: could not parse the source code:\n",
            "\n",
            "       .map(lambda sentence, labels: tf.py_function(pad_sequences, [sentence, labels], [tf.int64, tf.int32]))\\\n",
            "       .batch(10)\n",
            "\n",
            "This error may be avoided by creating the lambda in a standalone statement.\n",
            "\n",
            "To silence this warning, decorate the function with @tf.autograph.experimental.do_not_convert\n",
            "(10, 150, 20)\n",
            "(10, 150)\n"
          ],
          "name": "stdout"
        }
      ]
    },
    {
      "cell_type": "code",
      "metadata": {
        "id": "yJKYEv0JVPoG",
        "colab_type": "code",
        "colab": {}
      },
      "source": [
        "class Train:\n",
        "  def __init__(self):\n",
        "    # How many times through the training set should we go?\n",
        "    self.epochs = 15\n",
        "    self.batch_size = 2\n",
        "\n",
        "    # Determine sizes for training and validation sets\n",
        "    dataset_size = french_df()['id'].max()\n",
        "    self.train_dataset_size = int(.8 * dataset_size)\n",
        "    self.val_dataset_size = dataset_size - self.train_dataset_size\n",
        "\n",
        "    # Break up dataset into training/validation\n",
        "    dataset = tf.data.Dataset.from_generator(\n",
        "        french_generator,\n",
        "        (tf.int64, tf.int32),\n",
        "        (tf.TensorShape([None, 20]), tf.TensorShape([None])))\n",
        "    self.train_dataset = dataset.take(self.train_dataset_size)\\\n",
        "                                .shuffle(200, reshuffle_each_iteration=True)\\\n",
        "                                .map(lambda sentence, labels: tf.py_function(pad_sequences, [sentence, labels], [tf.int64, tf.int32]))\\\n",
        "                                .batch(self.batch_size, drop_remainder=True)\n",
        "    self.val_dataset = dataset.skip(self.train_dataset_size)\\\n",
        "                              .map(lambda sentence, labels: tf.py_function(pad_sequences, [sentence, labels], [tf.int64, tf.int32]))\\\n",
        "                              .batch(self.batch_size)\n",
        "\n",
        "    # Create our model\n",
        "    self.model = NERModel(num_classes=2)\n",
        "\n",
        "    # Use CrossEntropy for our loss function and Adam for our optimizer\n",
        "    self.loss_fn = K.losses.SparseCategoricalCrossentropy(from_logits=False)\n",
        "    self.optimizer = K.optimizers.Adam(learning_rate=4e-4)\n",
        "\n",
        "    # Metrics to track our performance\n",
        "    # Consider adding metrics like Precision/Recall here...\n",
        "    self.train_loss = tf.keras.metrics.Mean(name='train_loss')\n",
        "    self.train_precision = tf.keras.metrics.Mean(name='train_precision')\n",
        "    self.train_recall = tf.keras.metrics.Mean(name='train_recall')\n",
        "    self.train_f1 = tf.keras.metrics.Mean(name='train_f1')\n",
        "    self.val_loss = tf.keras.metrics.Mean(name='val_loss')\n",
        "    self.val_precision = tf.keras.metrics.Mean(name='val_precision')\n",
        "    self.val_recall = tf.keras.metrics.Mean(name='val_recall')\n",
        "    self.val_f1 = tf.keras.metrics.Mean(name='val_f1')\n",
        "\n",
        "  @tf.function(experimental_relax_shapes=True)\n",
        "  def train_step(self, words, labels, ones):\n",
        "    with tf.GradientTape() as tape:\n",
        "      # Make a prediction, calculate the loss\n",
        "      predictions = self.model(words, training=True)\n",
        "      loss = self.loss_fn(labels, predictions)\n",
        "\n",
        "    # Obtain gradients from GradientTape\n",
        "    gradients = tape.gradient(loss, self.model.trainable_variables)\n",
        "\n",
        "    # Propagate loss back through the network and take a step with the optimizer  \n",
        "    self.optimizer.apply_gradients(zip(gradients, self.model.trainable_variables))\n",
        "    \n",
        "    # Update our metrics\n",
        "    results = tf.argmax(predictions, axis=2)\n",
        "    precision = tf.py_function(precision_score, [labels, results], Tout=[tf.float32])\n",
        "    recall = tf.py_function(recall_score, [labels, results], Tout=[tf.float32])\n",
        "    f1 = tf.py_function(f1_score, [labels, results], Tout=[tf.float32])\n",
        "\n",
        "    self.train_loss(loss)\n",
        "    self.train_precision(precision)\n",
        "    self.train_recall(recall)\n",
        "    self.train_f1(f1)\n",
        "\n",
        "  @tf.function(experimental_relax_shapes=True)\n",
        "  def validation_step(self, words, labels, ones):\n",
        "    # Make a prediction and calculate the loss\n",
        "    predictions = self.model(words, training=False)\n",
        "    loss = self.loss_fn(labels, predictions)\n",
        "\n",
        "    # Update our metrics\n",
        "    results = tf.argmax(predictions, axis=2)\n",
        "    precision = tf.py_function(precision_score, [labels, results], Tout=[tf.float32])\n",
        "    recall = tf.py_function(recall_score, [labels, results], Tout=[tf.float32])\n",
        "    f1 = tf.py_function(f1_score, [labels, results], Tout=[tf.float32])\n",
        "\n",
        "    self.val_loss(loss)\n",
        "    self.val_precision(precision)\n",
        "    self.val_recall(recall)\n",
        "    self.val_f1(f1)\n",
        "\n",
        "  def __call__(self):\n",
        "    # Variables to keep track of our progress through the entire training process\n",
        "    # Used below when we create our graphs\n",
        "    try:\n",
        "      train_losses, val_losses = [], []\n",
        "      train_precisions, val_precisions = [], []\n",
        "      train_recalls, val_recalls = [], []\n",
        "      train_f1s, val_f1s = [], []\n",
        "\n",
        "      for epoch in range(self.epochs):\n",
        "        # Reset Metrics for another epoch\n",
        "        self.train_loss.reset_states()\n",
        "        self.train_precision.reset_states()\n",
        "        self.train_recall.reset_states()\n",
        "        self.train_f1.reset_states()\n",
        "        self.val_loss.reset_states()\n",
        "        self.val_precision.reset_states()\n",
        "        self.val_recall.reset_states()\n",
        "        self.val_f1.reset_states()\n",
        "\n",
        "        # Training Loop\n",
        "        train_loop = tqdm(total=self.train_dataset_size//self.batch_size, position=0, leave=True)\n",
        "        for words, labels in self.train_dataset:\n",
        "          # One training iteration\n",
        "          self.train_step(words, labels, tf.ones(labels.shape[0], dtype=tf.int32))\n",
        "          train_loop.set_description('Train - Epoch: {}, Loss: {:.4f}, Precision: {:.4f}, Recall: {:.4f}, F1: {:.4f}'.format(\n",
        "              epoch, self.train_loss.result(), self.train_precision.result(), self.train_recall.result(), self.train_f1.result()))\n",
        "          train_loop.update(1)\n",
        "\n",
        "        train_loop.close()\n",
        "\n",
        "        # Validation Loop\n",
        "        val_loop = tqdm(total=self.val_dataset_size//self.batch_size, position=0, leave=True)\n",
        "        for words, labels in self.val_dataset:\n",
        "          # One validation iteration\n",
        "          self.validation_step(words, labels, tf.ones(labels.shape[0], dtype=tf.int32))\n",
        "          val_loop.set_description('Val  - Epoch: {}, Loss: {:.4f}, Precision: {:.4f}, Recall: {:.4f}, F1: {:.4f}'.format(\n",
        "              epoch, self.val_loss.result(), self.val_precision.result(), self.val_recall.result(), self.val_f1.result()))\n",
        "          val_loop.update(1)\n",
        "          \n",
        "        val_loop.close()\n",
        "\n",
        "        train_losses.append(self.train_loss.result())\n",
        "        val_losses.append(self.val_loss.result())\n",
        "\n",
        "        train_precisions.append(self.train_precision.result())\n",
        "        val_precisions.append(self.val_precision.result())\n",
        "\n",
        "        train_recalls.append(self.train_recall.result())\n",
        "        val_recalls.append(self.val_recall.result())\n",
        "\n",
        "        train_f1s.append(self.train_f1.result())\n",
        "        val_f1s.append(self.val_f1.result())\n",
        "    except:\n",
        "      __ITB__()\n",
        "    finally:\n",
        "      return self.model, (train_losses, val_losses), (train_precisions, val_precisions), (train_recalls, val_recalls), (train_f1s, val_f1s)"
      ],
      "execution_count": 65,
      "outputs": []
    },
    {
      "cell_type": "code",
      "metadata": {
        "id": "sSrAZsyHX3VL",
        "colab_type": "code",
        "colab": {
          "base_uri": "https://localhost:8080/",
          "height": 768
        },
        "outputId": "54d0cd59-a135-4a63-90f0-0acd03b9de5e"
      },
      "source": [
        "try:\n",
        "  train = Train()\n",
        "  model, losses, precisions, recalls, f1s = train()\n",
        "except:\n",
        "  __ITB__()"
      ],
      "execution_count": 66,
      "outputs": [
        {
          "output_type": "stream",
          "text": [
            "  0%|          | 0/87 [00:00<?, ?it/s]/usr/local/lib/python3.6/dist-packages/sklearn/metrics/_classification.py:1272: UndefinedMetricWarning: Precision is ill-defined and being set to 0.0 in labels with no predicted samples. Use `zero_division` parameter to control this behavior.\n",
            "  _warn_prf(average, modifier, msg_start, len(result))\n",
            "/usr/local/lib/python3.6/dist-packages/sklearn/metrics/_classification.py:1272: UndefinedMetricWarning: Recall is ill-defined and being set to 0.0 in labels with no true samples. Use `zero_division` parameter to control this behavior.\n",
            "  _warn_prf(average, modifier, msg_start, len(result))\n",
            "/usr/local/lib/python3.6/dist-packages/sklearn/metrics/_classification.py:1515: UndefinedMetricWarning: F-score is ill-defined and being set to 0.0 in labels with no true nor predicted samples. Use `zero_division` parameter to control this behavior.\n",
            "  average, \"true nor predicted\", 'F-score is', len(true_sum)\n",
            "Train - Epoch: 0, Loss: 0.2972, Precision: 0.0197, Recall: 0.0207, F1: 0.0196: 100%|██████████| 87/87 [00:09<00:00,  9.05it/s]\n",
            "Val  - Epoch: 0, Loss: 0.2050, Precision: 0.0356, Recall: 0.0344, F1: 0.0343: 100%|██████████| 22/22 [00:04<00:00,  4.62it/s]\n",
            "Train - Epoch: 1, Loss: 0.1529, Precision: 0.1236, Recall: 0.1238, F1: 0.1227: 100%|██████████| 87/87 [00:07<00:00, 12.30it/s]\n",
            "Val  - Epoch: 1, Loss: 0.1875, Precision: 0.0762, Recall: 0.0748, F1: 0.0747: 100%|██████████| 22/22 [00:04<00:00,  5.25it/s]\n",
            "Train - Epoch: 2, Loss: 0.1051, Precision: 0.1554, Recall: 0.1562, F1: 0.1550: 100%|██████████| 87/87 [00:07<00:00, 12.29it/s]\n",
            "Val  - Epoch: 2, Loss: 0.1891, Precision: 0.0794, Recall: 0.0788, F1: 0.0784: 100%|██████████| 22/22 [00:04<00:00,  5.22it/s]\n",
            "Train - Epoch: 3, Loss: 0.0766, Precision: 0.1662, Recall: 0.1666, F1: 0.1657: 100%|██████████| 87/87 [00:07<00:00, 12.41it/s]\n",
            "Val  - Epoch: 3, Loss: 0.2575, Precision: 0.1009, Recall: 0.1030, F1: 0.1011: 100%|██████████| 22/22 [00:04<00:00,  5.29it/s]\n",
            "Train - Epoch: 4, Loss: 0.0624, Precision: 0.1742, Recall: 0.1743, F1: 0.1737: 100%|██████████| 87/87 [00:07<00:00, 12.32it/s]\n",
            "Val  - Epoch: 4, Loss: 0.2090, Precision: 0.0995, Recall: 0.0985, F1: 0.0982: 100%|██████████| 22/22 [00:04<00:00,  5.22it/s]\n",
            "Train - Epoch: 5, Loss: 0.0454, Precision: 0.1778, Recall: 0.1780, F1: 0.1775: 100%|██████████| 87/87 [00:07<00:00, 12.20it/s]\n",
            "Val  - Epoch: 5, Loss: 0.2438, Precision: 0.1058, Recall: 0.1071, F1: 0.1058: 100%|██████████| 22/22 [00:04<00:00,  5.30it/s]\n",
            "Train - Epoch: 6, Loss: 0.0373, Precision: 0.1816, Recall: 0.1823, F1: 0.1816: 100%|██████████| 87/87 [00:07<00:00, 12.29it/s]\n",
            "Val  - Epoch: 6, Loss: 0.3050, Precision: 0.1058, Recall: 0.1062, F1: 0.1053: 100%|██████████| 22/22 [00:04<00:00,  5.25it/s]\n",
            "Train - Epoch: 7, Loss: 0.0306, Precision: 0.1874, Recall: 0.1879, F1: 0.1874: 100%|██████████| 87/87 [00:07<00:00, 12.36it/s]\n",
            "Val  - Epoch: 7, Loss: 0.2960, Precision: 0.1005, Recall: 0.0988, F1: 0.0987: 100%|██████████| 22/22 [00:04<00:00,  5.43it/s]\n",
            "Train - Epoch: 8, Loss: 0.0211, Precision: 0.1904, Recall: 0.1903, F1: 0.1902: 100%|██████████| 87/87 [00:07<00:00, 12.27it/s]\n",
            "Val  - Epoch: 8, Loss: 0.3766, Precision: 0.1048, Recall: 0.1039, F1: 0.1037: 100%|██████████| 22/22 [00:04<00:00,  5.33it/s]\n",
            "Train - Epoch: 9, Loss: 0.0203, Precision: 0.1889, Recall: 0.1888, F1: 0.1886: 100%|██████████| 87/87 [00:07<00:00, 12.24it/s]\n",
            "Val  - Epoch: 9, Loss: 0.4008, Precision: 0.0936, Recall: 0.0924, F1: 0.0923: 100%|██████████| 22/22 [00:04<00:00,  5.35it/s]\n",
            "Train - Epoch: 10, Loss: 0.0165, Precision: 0.1898, Recall: 0.1899, F1: 0.1897: 100%|██████████| 87/87 [00:07<00:00, 12.25it/s]\n",
            "Val  - Epoch: 10, Loss: 0.3463, Precision: 0.1012, Recall: 0.1008, F1: 0.1002: 100%|██████████| 22/22 [00:04<00:00,  5.34it/s]\n",
            "Train - Epoch: 11, Loss: 0.0126, Precision: 0.1929, Recall: 0.1929, F1: 0.1928: 100%|██████████| 87/87 [00:07<00:00, 12.28it/s]\n",
            "Val  - Epoch: 11, Loss: 0.4200, Precision: 0.1088, Recall: 0.1080, F1: 0.1076: 100%|██████████| 22/22 [00:04<00:00,  5.37it/s]\n",
            "Train - Epoch: 12, Loss: 0.0158, Precision: 0.1898, Recall: 0.1899, F1: 0.1897: 100%|██████████| 87/87 [00:07<00:00, 12.26it/s]\n",
            "  0%|          | 0/22 [00:00<?, ?it/s]"
          ],
          "name": "stderr"
        },
        {
          "output_type": "stream",
          "text": [
            "Traceback \u001b[0;36m(most recent call last)\u001b[0m:\n",
            "  File \u001b[1;32m\"/usr/local/lib/python3.6/dist-packages/tensorflow/python/data/ops/iterator_ops.py\"\u001b[0m, line \u001b[1;32m736\u001b[0m, in \u001b[1;35m__next__\u001b[0m\n",
            "    return self.next()\n",
            "  File \u001b[1;32m\"/usr/local/lib/python3.6/dist-packages/tensorflow/python/data/ops/iterator_ops.py\"\u001b[0m, line \u001b[1;32m772\u001b[0m, in \u001b[1;35mnext\u001b[0m\n",
            "    return self._next_internal()\n",
            "  File \u001b[1;32m\"/usr/local/lib/python3.6/dist-packages/tensorflow/python/data/ops/iterator_ops.py\"\u001b[0m, line \u001b[1;32m758\u001b[0m, in \u001b[1;35m_next_internal\u001b[0m\n",
            "    output_shapes=self._flat_output_shapes)\n",
            "\u001b[0;36m  File \u001b[0;32m\"/usr/local/lib/python3.6/dist-packages/tensorflow/python/ops/gen_dataset_ops.py\"\u001b[0;36m, line \u001b[0;32m2607\u001b[0;36m, in \u001b[0;35miterator_get_next\u001b[0;36m\u001b[0m\n",
            "\u001b[0;31m    \"output_shapes\", output_shapes)\u001b[0m\n",
            "\u001b[0;31mKeyboardInterrupt\u001b[0m\n",
            "\n"
          ],
          "name": "stdout"
        },
        {
          "output_type": "stream",
          "text": [
            "\r  0%|          | 0/22 [00:02<?, ?it/s]\n"
          ],
          "name": "stderr"
        }
      ]
    },
    {
      "cell_type": "markdown",
      "metadata": {
        "id": "lTYJyTZLcIoJ",
        "colab_type": "text"
      },
      "source": [
        "## Results\n",
        "\n",
        "Show how our model did throughout the training process."
      ]
    },
    {
      "cell_type": "code",
      "metadata": {
        "id": "ET2FHHVW957n",
        "colab_type": "code",
        "colab": {
          "base_uri": "https://localhost:8080/",
          "height": 312
        },
        "outputId": "7c9adcf9-4698-461a-89f6-5656b5943ee8"
      },
      "source": [
        "plt.title('Loss')\n",
        "plt.xlabel('Epochs')\n",
        "plt.ylabel('Loss')\n",
        "plt.plot(losses[0], label='train')\n",
        "plt.plot(losses[1], label='val')\n",
        "plt.legend()\n",
        "plt.show()\n",
        "print('Final Validation Loss: {:.4f}'.format(losses[1][-1]))"
      ],
      "execution_count": null,
      "outputs": [
        {
          "output_type": "display_data",
          "data": {
            "image/png": "[encoded data removed]",
            "text/plain": [
              "<Figure size 432x288 with 1 Axes>"
            ]
          },
          "metadata": {
            "tags": [],
            "needs_background": "light"
          }
        },
        {
          "output_type": "stream",
          "text": [
            "Final Validation Loss: 0.3362\n"
          ],
          "name": "stdout"
        }
      ]
    },
    {
      "cell_type": "code",
      "metadata": {
        "id": "8OHunu4792FZ",
        "colab_type": "code",
        "colab": {
          "base_uri": "https://localhost:8080/",
          "height": 312
        },
        "outputId": "7541d4a0-ee1c-454d-94ce-3012f572a6cf"
      },
      "source": [
        "plt.title('Precision')\n",
        "plt.xlabel('Epochs')\n",
        "plt.ylabel('Precision')\n",
        "plt.plot(precisions[0], label='train')\n",
        "plt.plot(precisions[1], label='val')\n",
        "plt.legend()\n",
        "plt.show()\n",
        "print('Final Validation Precision: {:.2f}%'.format(precisions[1][-1] * 100))"
      ],
      "execution_count": null,
      "outputs": [
        {
          "output_type": "display_data",
          "data": {
            "image/png": "[encoded data removed]",
            "text/plain": [
              "<Figure size 432x288 with 1 Axes>"
            ]
          },
          "metadata": {
            "tags": [],
            "needs_background": "light"
          }
        },
        {
          "output_type": "stream",
          "text": [
            "Final Validation Precision: 75.55%\n"
          ],
          "name": "stdout"
        }
      ]
    },
    {
      "cell_type": "code",
      "metadata": {
        "id": "WjJ4eGjhraiR",
        "colab_type": "code",
        "colab": {
          "base_uri": "https://localhost:8080/",
          "height": 312
        },
        "outputId": "12785972-6fb6-4a93-8886-a3b795b01fbe"
      },
      "source": [
        "plt.title('Recall')\n",
        "plt.xlabel('Epochs')\n",
        "plt.ylabel('Precision')\n",
        "plt.plot(recalls[0], label='train')\n",
        "plt.plot(recalls[1], label='val')\n",
        "plt.legend()\n",
        "plt.show()\n",
        "print('Final Validation Recall: {:.2f}%'.format(recalls[1][-1] * 100))"
      ],
      "execution_count": null,
      "outputs": [
        {
          "output_type": "display_data",
          "data": {
            "image/png": "[encoded data removed]",
            "text/plain": [
              "<Figure size 432x288 with 1 Axes>"
            ]
          },
          "metadata": {
            "tags": [],
            "needs_background": "light"
          }
        },
        {
          "output_type": "stream",
          "text": [
            "Final Validation Recall: 83.47%\n"
          ],
          "name": "stdout"
        }
      ]
    },
    {
      "cell_type": "code",
      "metadata": {
        "id": "Rj5q2Hnmram9",
        "colab_type": "code",
        "colab": {
          "base_uri": "https://localhost:8080/",
          "height": 312
        },
        "outputId": "c683f3a7-c970-4be4-9052-80bdcb465660"
      },
      "source": [
        "plt.title('F1')\n",
        "plt.xlabel('Epochs')\n",
        "plt.ylabel('F1')\n",
        "plt.plot(f1s[0], label='train')\n",
        "plt.plot(f1s[1], label='val')\n",
        "plt.legend()\n",
        "plt.show()\n",
        "print('Final Validation F1: {:.2f}%'.format(f1s[1][-1] * 100))"
      ],
      "execution_count": null,
      "outputs": [
        {
          "output_type": "display_data",
          "data": {
            "image/png": "[encoded data removed]",
            "text/plain": [
              "<Figure size 432x288 with 1 Axes>"
            ]
          },
          "metadata": {
            "tags": [],
            "needs_background": "light"
          }
        },
        {
          "output_type": "stream",
          "text": [
            "Final Validation F1: 77.47%\n"
          ],
          "name": "stdout"
        }
      ]
    },
    {
      "cell_type": "markdown",
      "metadata": {
        "id": "j90cuaIRtkhD",
        "colab_type": "text"
      },
      "source": [
        "## Examples and Confusion Matrix\n",
        "\n",
        "* Show the final confusion matrix on the validation set.\n",
        "* Show a couple examples of the model classifying text."
      ]
    },
    {
      "cell_type": "code",
      "metadata": {
        "id": "AFRCgKNotpu5",
        "colab_type": "code",
        "colab": {
          "base_uri": "https://localhost:8080/",
          "height": 1000
        },
        "outputId": "5a722a40-7771-4b86-f9b3-66e50256415d"
      },
      "source": [
        "# The number of examples to show how the model did\n",
        "num_examples = 3\n",
        "\n",
        "data = french_df()\n",
        "entity_list = list(set(data['entity'].values))\n",
        "encoder = Encoder(entity_list)\n",
        "\n",
        "# Determine sizes for training and validation sets\n",
        "dataset_size = data['id'].max()\n",
        "train_dataset_size = int(.8 * dataset_size)\n",
        "val_dataset_size = dataset_size - train_dataset_size\n",
        "\n",
        "# Break up dataset into training/validation\n",
        "dataset = tf.data.Dataset.from_generator(\n",
        "    french_generator,\n",
        "    (tf.int64, tf.int32),\n",
        "    (tf.TensorShape([None, 20]), tf.TensorShape([None])))\n",
        "val_dataset = dataset.skip(train_dataset_size)\n",
        "\n",
        "y_true, y_pred = np.array([]), np.array([])\n",
        "\n",
        "print('Making Predictions for Validation Set...')\n",
        "for index, (words, labels) in enumerate(val_dataset):   \n",
        "  predictions = model(words)\n",
        "  y_true = np.concatenate((y_true, labels.numpy()))\n",
        "  y_pred = np.concatenate((y_pred, tf.argmax(predictions, axis=1).numpy()))\n",
        "\n",
        "  if index < num_examples:\n",
        "    print('***Entity Prediction Sample***')\n",
        "    for word, actual, pred in zip(words, labels.numpy(), tf.argmax(predictions, axis=1).numpy()):\n",
        "      print('Word: {}, Predicted: {}, Actual: {}, Accuracy: {}'.format(encoder.idxs_to_str(word), encoder.idx_to_entity(pred), encoder.idx_to_entity(actual), '100%' if pred == actual else '0%'))\n",
        "\n",
        "print('Finished.')"
      ],
      "execution_count": null,
      "outputs": [
        {
          "output_type": "stream",
          "text": [
            "Making Predictions for Validation Set...\n",
            "***Entity Prediction Sample***\n",
            "Word: 4er, Predicted: none, Actual: none, Accuracy: 100%\n",
            "Word: Michon, Predicted: entity, Actual: entity, Accuracy: 100%\n",
            "Word: (antoine), Predicted: entity, Actual: entity, Accuracy: 100%\n",
            "Word: L'an, Predicted: none, Actual: none, Accuracy: 100%\n",
            "Word: mil, Predicted: entity, Actual: entity, Accuracy: 100%\n",
            "Word: huit, Predicted: entity, Actual: entity, Accuracy: 100%\n",
            "Word: cent, Predicted: entity, Actual: entity, Accuracy: 100%\n",
            "Word: vingt-sept,, Predicted: entity, Actual: entity, Accuracy: 100%\n",
            "Word: le, Predicted: none, Actual: none, Accuracy: 100%\n",
            "Word: huit, Predicted: entity, Actual: entity, Accuracy: 100%\n",
            "Word: du, Predicted: none, Actual: none, Accuracy: 100%\n",
            "Word: mois, Predicted: none, Actual: none, Accuracy: 100%\n",
            "Word: d'avril,, Predicted: entity, Actual: entity, Accuracy: 100%\n",
            "Word: par, Predicted: none, Actual: none, Accuracy: 100%\n",
            "Word: devant, Predicted: none, Actual: none, Accuracy: 100%\n",
            "Word: nous, Predicted: none, Actual: none, Accuracy: 100%\n",
            "Word: maire,, Predicted: none, Actual: none, Accuracy: 100%\n",
            "Word: officier, Predicted: none, Actual: none, Accuracy: 100%\n",
            "Word: de, Predicted: none, Actual: none, Accuracy: 100%\n",
            "Word: l'etat, Predicted: none, Actual: none, Accuracy: 100%\n",
            "Word: civil, Predicted: none, Actual: none, Accuracy: 100%\n",
            "Word: de, Predicted: none, Actual: none, Accuracy: 100%\n",
            "Word: la, Predicted: none, Actual: none, Accuracy: 100%\n",
            "Word: commune, Predicted: none, Actual: none, Accuracy: 100%\n",
            "Word: de, Predicted: none, Actual: none, Accuracy: 100%\n",
            "Word: Lantigni;Dpartem, Predicted: none, Actual: none, Accuracy: 100%\n",
            "Word: du, Predicted: none, Actual: none, Accuracy: 100%\n",
            "Word: Rh´ne,, Predicted: entity, Actual: entity, Accuracy: 100%\n",
            "Word: canton, Predicted: entity, Actual: none, Accuracy: 0%\n",
            "Word: De, Predicted: none, Actual: none, Accuracy: 100%\n",
            "Word: Beaujeu, Predicted: none, Actual: none, Accuracy: 100%\n",
            "Word: ,, Predicted: none, Actual: none, Accuracy: 100%\n",
            "Word: sont, Predicted: none, Actual: none, Accuracy: 100%\n",
            "Word: comparus, Predicted: none, Actual: none, Accuracy: 100%\n",
            "Word: jean-pierre, Predicted: none, Actual: none, Accuracy: 100%\n",
            "Word: Perme, Predicted: entity, Actual: none, Accuracy: 0%\n",
            "Word: g, Predicted: none, Actual: none, Accuracy: 100%\n",
            "Word: d'nviron, Predicted: none, Actual: none, Accuracy: 100%\n",
            "Word: vingt-huit, Predicted: entity, Actual: none, Accuracy: 0%\n",
            "Word: ans,et, Predicted: entity, Actual: none, Accuracy: 0%\n",
            "Word: Antoine, Predicted: none, Actual: none, Accuracy: 100%\n",
            "Word: Labruyere, Predicted: none, Actual: none, Accuracy: 100%\n",
            "Word: g, Predicted: none, Actual: none, Accuracy: 100%\n",
            "Word: d'nviron, Predicted: none, Actual: none, Accuracy: 100%\n",
            "Word: cinquante-deux, Predicted: entity, Actual: none, Accuracy: 0%\n",
            "Word: ans,, Predicted: none, Actual: none, Accuracy: 100%\n",
            "Word: tous, Predicted: none, Actual: none, Accuracy: 100%\n",
            "Word: les, Predicted: none, Actual: none, Accuracy: 100%\n",
            "Word: deux, Predicted: none, Actual: none, Accuracy: 100%\n",
            "Word: cultivateur, Predicted: none, Actual: none, Accuracy: 100%\n",
            "Word: demeurant, Predicted: none, Actual: none, Accuracy: 100%\n",
            "Word: , Predicted: none, Actual: none, Accuracy: 100%\n",
            "Word: Lantigni,, Predicted: none, Actual: none, Accuracy: 100%\n",
            "Word: les, Predicted: none, Actual: none, Accuracy: 100%\n",
            "Word: quels, Predicted: none, Actual: none, Accuracy: 100%\n",
            "Word: nous, Predicted: none, Actual: none, Accuracy: 100%\n",
            "Word: ont, Predicted: none, Actual: none, Accuracy: 100%\n",
            "Word: dclar, Predicted: none, Actual: none, Accuracy: 100%\n",
            "Word: aujourd'hui, Predicted: none, Actual: none, Accuracy: 100%\n",
            "Word: , Predicted: none, Actual: none, Accuracy: 100%\n",
            "Word: dix, Predicted: none, Actual: none, Accuracy: 100%\n",
            "Word: heures, Predicted: none, Actual: none, Accuracy: 100%\n",
            "Word: du, Predicted: none, Actual: none, Accuracy: 100%\n",
            "Word: matin., Predicted: none, Actual: none, Accuracy: 100%\n",
            "Word: qui, Predicted: none, Actual: none, Accuracy: 100%\n",
            "Word: Antoine, Predicted: entity, Actual: entity, Accuracy: 100%\n",
            "Word: Michon, Predicted: entity, Actual: entity, Accuracy: 100%\n",
            "Word: g, Predicted: none, Actual: none, Accuracy: 100%\n",
            "Word: d'nviron, Predicted: none, Actual: none, Accuracy: 100%\n",
            "Word: dix-sept, Predicted: entity, Actual: entity, Accuracy: 100%\n",
            "Word: ans, Predicted: entity, Actual: entity, Accuracy: 100%\n",
            "Word: n, Predicted: none, Actual: none, Accuracy: 100%\n",
            "Word: , Predicted: none, Actual: none, Accuracy: 100%\n",
            "Word: Lantigni,, Predicted: none, Actual: none, Accuracy: 100%\n",
            "Word: X, Predicted: none, Actual: none, Accuracy: 100%\n",
            "Word: fils, Predicted: none, Actual: none, Accuracy: 100%\n",
            "Word: de, Predicted: none, Actual: none, Accuracy: 100%\n",
            "Word: claude, Predicted: entity, Actual: entity, Accuracy: 100%\n",
            "Word: Michon, Predicted: entity, Actual: entity, Accuracy: 100%\n",
            "Word: et, Predicted: none, Actual: none, Accuracy: 100%\n",
            "Word: de, Predicted: none, Actual: none, Accuracy: 100%\n",
            "Word: jeanne, Predicted: entity, Actual: entity, Accuracy: 100%\n",
            "Word: foubert, Predicted: none, Actual: entity, Accuracy: 0%\n",
            "Word: tous, Predicted: none, Actual: none, Accuracy: 100%\n",
            "Word: les, Predicted: none, Actual: none, Accuracy: 100%\n",
            "Word: deux, Predicted: entity, Actual: none, Accuracy: 0%\n",
            "Word: cultivateurs, Predicted: none, Actual: none, Accuracy: 100%\n",
            "Word: demeurant, Predicted: none, Actual: none, Accuracy: 100%\n",
            "Word: , Predicted: none, Actual: none, Accuracy: 100%\n",
            "Word: Lantigni,, Predicted: none, Actual: none, Accuracy: 100%\n",
            "Word: est, Predicted: none, Actual: none, Accuracy: 100%\n",
            "Word: dcd, Predicted: none, Actual: none, Accuracy: 100%\n",
            "Word: hier, Predicted: none, Actual: none, Accuracy: 100%\n",
            "Word: , Predicted: none, Actual: none, Accuracy: 100%\n",
            "Word: sept, Predicted: none, Actual: none, Accuracy: 100%\n",
            "Word: heures, Predicted: none, Actual: none, Accuracy: 100%\n",
            "Word: du, Predicted: none, Actual: none, Accuracy: 100%\n",
            "Word: hier;, Predicted: none, Actual: none, Accuracy: 100%\n",
            "Word: les, Predicted: none, Actual: none, Accuracy: 100%\n",
            "Word: dclarons, Predicted: none, Actual: none, Accuracy: 100%\n",
            "Word: n'ont, Predicted: none, Actual: none, Accuracy: 100%\n",
            "Word: sign, Predicted: entity, Actual: none, Accuracy: 0%\n",
            "Word: avec, Predicted: none, Actual: none, Accuracy: 100%\n",
            "Word: le, Predicted: none, Actual: none, Accuracy: 100%\n",
            "Word: prsent, Predicted: none, Actual: none, Accuracy: 100%\n",
            "Word: acte, Predicted: none, Actual: none, Accuracy: 100%\n",
            "Word: aprs, Predicted: none, Actual: none, Accuracy: 100%\n",
            "Word: que, Predicted: none, Actual: none, Accuracy: 100%\n",
            "Word: lecture., Predicted: none, Actual: none, Accuracy: 100%\n",
            "Word: leur, Predicted: none, Actual: none, Accuracy: 100%\n",
            "Word: en, Predicted: none, Actual: none, Accuracy: 100%\n",
            "Word: , Predicted: none, Actual: none, Accuracy: 100%\n",
            "Word: t, Predicted: none, Actual: none, Accuracy: 100%\n",
            "Word: faite,, Predicted: none, Actual: none, Accuracy: 100%\n",
            "Word: pour, Predicted: none, Actual: none, Accuracy: 100%\n",
            "Word: ne, Predicted: none, Actual: none, Accuracy: 100%\n",
            "Word: savoir, Predicted: none, Actual: none, Accuracy: 100%\n",
            "Word: crire., Predicted: none, Actual: none, Accuracy: 100%\n",
            "Word: X, Predicted: none, Actual: none, Accuracy: 100%\n",
            "Word: demeurant, Predicted: none, Actual: none, Accuracy: 100%\n",
            "Word: au, Predicted: none, Actual: none, Accuracy: 100%\n",
            "Word: meme, Predicted: none, Actual: none, Accuracy: 100%\n",
            "Word: leur, Predicted: none, Actual: none, Accuracy: 100%\n",
            "Word: le, Predicted: none, Actual: none, Accuracy: 100%\n",
            "Word: renvoi, Predicted: none, Actual: none, Accuracy: 100%\n",
            "Word: de, Predicted: none, Actual: none, Accuracy: 100%\n",
            "Word: quatre, Predicted: entity, Actual: none, Accuracy: 0%\n",
            "Word: mots,, Predicted: entity, Actual: none, Accuracy: 0%\n",
            "Word: bon., Predicted: none, Actual: none, Accuracy: 100%\n",
            "Word: Debille, Predicted: none, Actual: none, Accuracy: 100%\n",
            "Word: De, Predicted: none, Actual: none, Accuracy: 100%\n",
            "Word: Miare, Predicted: entity, Actual: none, Accuracy: 0%\n",
            "Word: 2, Predicted: none, Actual: none, Accuracy: 100%\n",
            "Word: Fei, Predicted: none, Actual: none, Accuracy: 100%\n",
            "Word: 3, Predicted: entity, Actual: none, Accuracy: 0%\n",
            "***Entity Prediction Sample***\n",
            "Word: 5er, Predicted: none, Actual: none, Accuracy: 100%\n",
            "Word: Polosse, Predicted: entity, Actual: entity, Accuracy: 100%\n",
            "Word: (claudine), Predicted: entity, Actual: entity, Accuracy: 100%\n",
            "Word: L'an, Predicted: none, Actual: none, Accuracy: 100%\n",
            "Word: mil, Predicted: entity, Actual: entity, Accuracy: 100%\n",
            "Word: huit, Predicted: entity, Actual: entity, Accuracy: 100%\n",
            "Word: cent, Predicted: entity, Actual: entity, Accuracy: 100%\n",
            "Word: vingt-sept,, Predicted: entity, Actual: entity, Accuracy: 100%\n",
            "Word: le, Predicted: none, Actual: none, Accuracy: 100%\n",
            "Word: onze, Predicted: entity, Actual: entity, Accuracy: 100%\n",
            "Word: du, Predicted: none, Actual: none, Accuracy: 100%\n",
            "Word: mois, Predicted: none, Actual: none, Accuracy: 100%\n",
            "Word: d'avril,, Predicted: entity, Actual: entity, Accuracy: 100%\n",
            "Word: par, Predicted: none, Actual: none, Accuracy: 100%\n",
            "Word: devant, Predicted: none, Actual: none, Accuracy: 100%\n",
            "Word: nous, Predicted: none, Actual: none, Accuracy: 100%\n",
            "Word: maire,, Predicted: none, Actual: none, Accuracy: 100%\n",
            "Word: officier, Predicted: none, Actual: none, Accuracy: 100%\n",
            "Word: de, Predicted: none, Actual: none, Accuracy: 100%\n",
            "Word: l'etat, Predicted: none, Actual: none, Accuracy: 100%\n",
            "Word: civil, Predicted: none, Actual: none, Accuracy: 100%\n",
            "Word: de, Predicted: none, Actual: none, Accuracy: 100%\n",
            "Word: la, Predicted: none, Actual: none, Accuracy: 100%\n",
            "Word: commune, Predicted: none, Actual: none, Accuracy: 100%\n",
            "Word: de, Predicted: none, Actual: none, Accuracy: 100%\n",
            "Word: Lantigni;Dpartem, Predicted: none, Actual: none, Accuracy: 100%\n",
            "Word: du, Predicted: none, Actual: none, Accuracy: 100%\n",
            "Word: Rh´ne,, Predicted: entity, Actual: entity, Accuracy: 100%\n",
            "Word: canton, Predicted: none, Actual: none, Accuracy: 100%\n",
            "Word: de, Predicted: none, Actual: none, Accuracy: 100%\n",
            "Word: Beaujeu,, Predicted: entity, Actual: none, Accuracy: 0%\n",
            "Word: sont, Predicted: none, Actual: none, Accuracy: 100%\n",
            "Word: comparus, Predicted: none, Actual: none, Accuracy: 100%\n",
            "Word: jean-pierre, Predicted: none, Actual: none, Accuracy: 100%\n",
            "Word: Perme, Predicted: entity, Actual: none, Accuracy: 0%\n",
            "Word: g, Predicted: none, Actual: none, Accuracy: 100%\n",
            "Word: d'nviron, Predicted: none, Actual: none, Accuracy: 100%\n",
            "Word: vingt-huit, Predicted: entity, Actual: none, Accuracy: 0%\n",
            "Word: ans,et, Predicted: entity, Actual: none, Accuracy: 0%\n",
            "Word: Antoine, Predicted: none, Actual: none, Accuracy: 100%\n",
            "Word: Labruyere, Predicted: none, Actual: none, Accuracy: 100%\n",
            "Word: g, Predicted: none, Actual: none, Accuracy: 100%\n",
            "Word: d'nviron, Predicted: none, Actual: none, Accuracy: 100%\n",
            "Word: cinquante-deux, Predicted: entity, Actual: none, Accuracy: 0%\n",
            "Word: ans,, Predicted: none, Actual: none, Accuracy: 100%\n",
            "Word: tous, Predicted: none, Actual: none, Accuracy: 100%\n",
            "Word: les, Predicted: none, Actual: none, Accuracy: 100%\n",
            "Word: deux, Predicted: none, Actual: none, Accuracy: 100%\n",
            "Word: cultivateur, Predicted: none, Actual: none, Accuracy: 100%\n",
            "Word: demeurant, Predicted: none, Actual: none, Accuracy: 100%\n",
            "Word: , Predicted: none, Actual: none, Accuracy: 100%\n",
            "Word: Lantigni,, Predicted: none, Actual: none, Accuracy: 100%\n",
            "Word: les, Predicted: none, Actual: none, Accuracy: 100%\n",
            "Word: quels, Predicted: none, Actual: none, Accuracy: 100%\n",
            "Word: nous, Predicted: none, Actual: none, Accuracy: 100%\n",
            "Word: ont, Predicted: none, Actual: none, Accuracy: 100%\n",
            "Word: dclar, Predicted: none, Actual: none, Accuracy: 100%\n",
            "Word: les, Predicted: none, Actual: none, Accuracy: 100%\n",
            "Word: deux, Predicted: entity, Actual: none, Accuracy: 0%\n",
            "Word: jours, Predicted: entity, Actual: none, Accuracy: 0%\n",
            "Word: mois, Predicted: entity, Actual: none, Accuracy: 0%\n",
            "Word: et, Predicted: none, Actual: none, Accuracy: 100%\n",
            "Word: un, Predicted: none, Actual: none, Accuracy: 100%\n",
            "Word: , Predicted: none, Actual: none, Accuracy: 100%\n",
            "Word: six, Predicted: none, Actual: none, Accuracy: 100%\n",
            "Word: heures, Predicted: none, Actual: none, Accuracy: 100%\n",
            "Word: du, Predicted: none, Actual: none, Accuracy: 100%\n",
            "Word: matin, Predicted: none, Actual: none, Accuracy: 100%\n",
            "Word: que, Predicted: none, Actual: none, Accuracy: 100%\n",
            "Word: Claudine, Predicted: entity, Actual: entity, Accuracy: 100%\n",
            "Word: Polosse, Predicted: entity, Actual: entity, Accuracy: 100%\n",
            "Word: g, Predicted: none, Actual: none, Accuracy: 100%\n",
            "Word: d'nviron, Predicted: none, Actual: none, Accuracy: 100%\n",
            "Word: cinquante, Predicted: entity, Actual: entity, Accuracy: 100%\n",
            "Word: ans,, Predicted: entity, Actual: entity, Accuracy: 100%\n",
            "Word: ne, Predicted: none, Actual: none, Accuracy: 100%\n",
            "Word: , Predicted: none, Actual: none, Accuracy: 100%\n",
            "Word: quimeire,, Predicted: none, Actual: none, Accuracy: 100%\n",
            "Word: epouse, Predicted: none, Actual: none, Accuracy: 100%\n",
            "Word: de, Predicted: none, Actual: none, Accuracy: 100%\n",
            "Word: claude, Predicted: entity, Actual: entity, Accuracy: 100%\n",
            "Word: jaudard, Predicted: entity, Actual: entity, Accuracy: 100%\n",
            "Word: demeurant, Predicted: none, Actual: none, Accuracy: 100%\n",
            "Word: , Predicted: none, Actual: none, Accuracy: 100%\n",
            "Word: Lantigni,, Predicted: none, Actual: none, Accuracy: 100%\n",
            "Word: est, Predicted: none, Actual: none, Accuracy: 100%\n",
            "Word: dcde, Predicted: none, Actual: none, Accuracy: 100%\n",
            "Word: hier, Predicted: none, Actual: none, Accuracy: 100%\n",
            "Word: , Predicted: none, Actual: none, Accuracy: 100%\n",
            "Word: sept, Predicted: none, Actual: none, Accuracy: 100%\n",
            "Word: heures, Predicted: none, Actual: none, Accuracy: 100%\n",
            "Word: du, Predicted: none, Actual: none, Accuracy: 100%\n",
            "Word: matin;et, Predicted: none, Actual: none, Accuracy: 100%\n",
            "Word: les, Predicted: none, Actual: none, Accuracy: 100%\n",
            "Word: d'clarons, Predicted: none, Actual: none, Accuracy: 100%\n",
            "Word: n'ont, Predicted: none, Actual: none, Accuracy: 100%\n",
            "Word: sign, Predicted: none, Actual: none, Accuracy: 100%\n",
            "Word: avec, Predicted: none, Actual: none, Accuracy: 100%\n",
            "Word: le, Predicted: none, Actual: none, Accuracy: 100%\n",
            "Word: prsent, Predicted: none, Actual: none, Accuracy: 100%\n",
            "Word: acte;, Predicted: none, Actual: none, Accuracy: 100%\n",
            "Word: aprs, Predicted: none, Actual: none, Accuracy: 100%\n",
            "Word: que, Predicted: none, Actual: none, Accuracy: 100%\n",
            "Word: lecture., Predicted: none, Actual: none, Accuracy: 100%\n",
            "Word: leur, Predicted: none, Actual: none, Accuracy: 100%\n",
            "Word: en, Predicted: none, Actual: none, Accuracy: 100%\n",
            "Word: , Predicted: none, Actual: none, Accuracy: 100%\n",
            "Word: t, Predicted: none, Actual: none, Accuracy: 100%\n",
            "Word: faite,, Predicted: none, Actual: none, Accuracy: 100%\n",
            "Word: pour, Predicted: none, Actual: none, Accuracy: 100%\n",
            "Word: ne, Predicted: none, Actual: none, Accuracy: 100%\n",
            "Word: savoir, Predicted: none, Actual: none, Accuracy: 100%\n",
            "Word: crire, Predicted: none, Actual: none, Accuracy: 100%\n",
            "Word: de, Predicted: none, Actual: none, Accuracy: 100%\n",
            "Word: ce, Predicted: none, Actual: none, Accuracy: 100%\n",
            "Word: enquis, Predicted: none, Actual: none, Accuracy: 100%\n",
            "Word: .j., Predicted: none, Actual: none, Accuracy: 100%\n",
            "Word: Debilles, Predicted: entity, Actual: none, Accuracy: 0%\n",
            "Word: Maire, Predicted: entity, Actual: none, Accuracy: 0%\n",
            "***Entity Prediction Sample***\n",
            "Word: 6, Predicted: none, Actual: none, Accuracy: 100%\n",
            "Word: Jambon, Predicted: entity, Actual: entity, Accuracy: 100%\n",
            "Word: (philibert), Predicted: entity, Actual: entity, Accuracy: 100%\n",
            "Word: L'an, Predicted: none, Actual: none, Accuracy: 100%\n",
            "Word: mil, Predicted: entity, Actual: entity, Accuracy: 100%\n",
            "Word: huit, Predicted: entity, Actual: entity, Accuracy: 100%\n",
            "Word: cent, Predicted: entity, Actual: entity, Accuracy: 100%\n",
            "Word: vingt-sept,, Predicted: entity, Actual: entity, Accuracy: 100%\n",
            "Word: le, Predicted: none, Actual: none, Accuracy: 100%\n",
            "Word: quatre, Predicted: entity, Actual: entity, Accuracy: 100%\n",
            "Word: du, Predicted: none, Actual: none, Accuracy: 100%\n",
            "Word: mois, Predicted: none, Actual: none, Accuracy: 100%\n",
            "Word: du, Predicted: none, Actual: none, Accuracy: 100%\n",
            "Word: mai,, Predicted: entity, Actual: entity, Accuracy: 100%\n",
            "Word: par, Predicted: none, Actual: none, Accuracy: 100%\n",
            "Word: devant, Predicted: none, Actual: none, Accuracy: 100%\n",
            "Word: nous, Predicted: none, Actual: none, Accuracy: 100%\n",
            "Word: maire,, Predicted: none, Actual: none, Accuracy: 100%\n",
            "Word: officier, Predicted: none, Actual: none, Accuracy: 100%\n",
            "Word: de, Predicted: none, Actual: none, Accuracy: 100%\n",
            "Word: l'etat, Predicted: none, Actual: none, Accuracy: 100%\n",
            "Word: civil, Predicted: none, Actual: none, Accuracy: 100%\n",
            "Word: de, Predicted: none, Actual: none, Accuracy: 100%\n",
            "Word: la, Predicted: none, Actual: none, Accuracy: 100%\n",
            "Word: commune, Predicted: none, Actual: none, Accuracy: 100%\n",
            "Word: de, Predicted: none, Actual: none, Accuracy: 100%\n",
            "Word: Lantigni;, Predicted: none, Actual: none, Accuracy: 100%\n",
            "Word: Dpartement, Predicted: none, Actual: none, Accuracy: 100%\n",
            "Word: du, Predicted: none, Actual: none, Accuracy: 100%\n",
            "Word: Rh´ne,, Predicted: entity, Actual: entity, Accuracy: 100%\n",
            "Word: canton, Predicted: none, Actual: none, Accuracy: 100%\n",
            "Word: de, Predicted: none, Actual: none, Accuracy: 100%\n",
            "Word: Beaujeu,, Predicted: entity, Actual: none, Accuracy: 0%\n",
            "Word: sont, Predicted: none, Actual: none, Accuracy: 100%\n",
            "Word: comparus, Predicted: none, Actual: none, Accuracy: 100%\n",
            "Word: jean-, Predicted: none, Actual: none, Accuracy: 100%\n",
            "Word: pierre, Predicted: none, Actual: none, Accuracy: 100%\n",
            "Word: Perme, Predicted: entity, Actual: none, Accuracy: 0%\n",
            "Word: g, Predicted: none, Actual: none, Accuracy: 100%\n",
            "Word: d'nviron, Predicted: none, Actual: none, Accuracy: 100%\n",
            "Word: vingt-huit, Predicted: entity, Actual: none, Accuracy: 0%\n",
            "Word: ans,et, Predicted: entity, Actual: none, Accuracy: 0%\n",
            "Word: Antoine, Predicted: none, Actual: none, Accuracy: 100%\n",
            "Word: Labruyer¨, Predicted: none, Actual: none, Accuracy: 100%\n",
            "Word: g, Predicted: none, Actual: none, Accuracy: 100%\n",
            "Word: d'nviron, Predicted: none, Actual: none, Accuracy: 100%\n",
            "Word: cinquante-deux, Predicted: entity, Actual: none, Accuracy: 0%\n",
            "Word: ans,, Predicted: none, Actual: none, Accuracy: 100%\n",
            "Word: tous, Predicted: none, Actual: none, Accuracy: 100%\n",
            "Word: les, Predicted: none, Actual: none, Accuracy: 100%\n",
            "Word: deux, Predicted: none, Actual: none, Accuracy: 100%\n",
            "Word: cultivateur, Predicted: none, Actual: none, Accuracy: 100%\n",
            "Word: demeurant, Predicted: none, Actual: none, Accuracy: 100%\n",
            "Word: , Predicted: none, Actual: none, Accuracy: 100%\n",
            "Word: Lantigni,, Predicted: none, Actual: none, Accuracy: 100%\n",
            "Word: les, Predicted: none, Actual: none, Accuracy: 100%\n",
            "Word: quels, Predicted: none, Actual: none, Accuracy: 100%\n",
            "Word: nous, Predicted: none, Actual: none, Accuracy: 100%\n",
            "Word: ont, Predicted: none, Actual: none, Accuracy: 100%\n",
            "Word: dclar, Predicted: none, Actual: none, Accuracy: 100%\n",
            "Word: les, Predicted: none, Actual: none, Accuracy: 100%\n",
            "Word: dites, Predicted: entity, Actual: none, Accuracy: 0%\n",
            "Word: jours, Predicted: entity, Actual: none, Accuracy: 0%\n",
            "Word: mois, Predicted: entity, Actual: none, Accuracy: 0%\n",
            "Word: en, Predicted: none, Actual: none, Accuracy: 100%\n",
            "Word: , Predicted: none, Actual: none, Accuracy: 100%\n",
            "Word: sept, Predicted: none, Actual: none, Accuracy: 100%\n",
            "Word: heures, Predicted: none, Actual: none, Accuracy: 100%\n",
            "Word: du, Predicted: none, Actual: none, Accuracy: 100%\n",
            "Word: matin, Predicted: entity, Actual: none, Accuracy: 0%\n",
            "Word: que, Predicted: none, Actual: none, Accuracy: 100%\n",
            "Word: philibert, Predicted: entity, Actual: entity, Accuracy: 100%\n",
            "Word: jambon, Predicted: entity, Actual: entity, Accuracy: 100%\n",
            "Word: g, Predicted: none, Actual: none, Accuracy: 100%\n",
            "Word: d'nviron, Predicted: none, Actual: none, Accuracy: 100%\n",
            "Word: quatre-vingt-sept, Predicted: entity, Actual: entity, Accuracy: 100%\n",
            "Word: ans,, Predicted: entity, Actual: entity, Accuracy: 100%\n",
            "Word: n, Predicted: none, Actual: none, Accuracy: 100%\n",
            "Word: , Predicted: none, Actual: none, Accuracy: 100%\n",
            "Word: Ville;, Predicted: entity, Actual: none, Accuracy: 0%\n",
            "Word: neuf, Predicted: none, Actual: none, Accuracy: 100%\n",
            "Word: de, Predicted: none, Actual: none, Accuracy: 100%\n",
            "Word: Michellette, Predicted: entity, Actual: entity, Accuracy: 100%\n",
            "Word: Pardon,, Predicted: entity, Actual: entity, Accuracy: 100%\n",
            "Word: cultivateur, Predicted: none, Actual: none, Accuracy: 100%\n",
            "Word: demeurant, Predicted: none, Actual: none, Accuracy: 100%\n",
            "Word: , Predicted: none, Actual: none, Accuracy: 100%\n",
            "Word: Lantigni,, Predicted: none, Actual: none, Accuracy: 100%\n",
            "Word: est, Predicted: none, Actual: none, Accuracy: 100%\n",
            "Word: dcd, Predicted: none, Actual: none, Accuracy: 100%\n",
            "Word: hier, Predicted: none, Actual: none, Accuracy: 100%\n",
            "Word: , Predicted: none, Actual: none, Accuracy: 100%\n",
            "Word: trois, Predicted: entity, Actual: none, Accuracy: 0%\n",
            "Word: heures, Predicted: none, Actual: none, Accuracy: 100%\n",
            "Word: de, Predicted: none, Actual: none, Accuracy: 100%\n",
            "Word: l'aprs, Predicted: entity, Actual: none, Accuracy: 0%\n",
            "Word: midi;, Predicted: entity, Actual: none, Accuracy: 0%\n",
            "Word: et, Predicted: none, Actual: none, Accuracy: 100%\n",
            "Word: les, Predicted: none, Actual: none, Accuracy: 100%\n",
            "Word: d'clarons, Predicted: none, Actual: none, Accuracy: 100%\n",
            "Word: n'ont, Predicted: none, Actual: none, Accuracy: 100%\n",
            "Word: sign, Predicted: none, Actual: none, Accuracy: 100%\n",
            "Word: avec, Predicted: none, Actual: none, Accuracy: 100%\n",
            "Word: le, Predicted: none, Actual: none, Accuracy: 100%\n",
            "Word: prsent, Predicted: none, Actual: none, Accuracy: 100%\n",
            "Word: acte;, Predicted: none, Actual: none, Accuracy: 100%\n",
            "Word: aprs, Predicted: none, Actual: none, Accuracy: 100%\n",
            "Word: que, Predicted: none, Actual: none, Accuracy: 100%\n",
            "Word: lecture., Predicted: none, Actual: none, Accuracy: 100%\n",
            "Word: leur, Predicted: none, Actual: none, Accuracy: 100%\n",
            "Word: en, Predicted: none, Actual: none, Accuracy: 100%\n",
            "Word: , Predicted: none, Actual: none, Accuracy: 100%\n",
            "Word: t, Predicted: none, Actual: none, Accuracy: 100%\n",
            "Word: faite,, Predicted: none, Actual: none, Accuracy: 100%\n",
            "Word: pour, Predicted: none, Actual: none, Accuracy: 100%\n",
            "Word: ne, Predicted: none, Actual: none, Accuracy: 100%\n",
            "Word: savoir, Predicted: none, Actual: none, Accuracy: 100%\n",
            "Word: crire, Predicted: none, Actual: none, Accuracy: 100%\n",
            "Word: de, Predicted: none, Actual: none, Accuracy: 100%\n",
            "Word: ce, Predicted: none, Actual: none, Accuracy: 100%\n",
            "Word: enquis, Predicted: none, Actual: none, Accuracy: 100%\n",
            "Word: .j., Predicted: none, Actual: none, Accuracy: 100%\n",
            "Word: Jambon, Predicted: entity, Actual: none, Accuracy: 0%\n",
            "Word: Debille, Predicted: entity, Actual: none, Accuracy: 0%\n",
            "Word: Maire, Predicted: entity, Actual: none, Accuracy: 0%\n",
            "Finished.\n"
          ],
          "name": "stdout"
        }
      ]
    },
    {
      "cell_type": "markdown",
      "metadata": {
        "id": "EtZWK_3QG5hm",
        "colab_type": "text"
      },
      "source": [
        "Use sklearn to create the confusion matrix from the actual/predicted values"
      ]
    },
    {
      "cell_type": "code",
      "metadata": {
        "id": "QTb_Mb9_vI4X",
        "colab_type": "code",
        "colab": {
          "base_uri": "https://localhost:8080/",
          "height": 119
        },
        "outputId": "63195fc3-e843-4410-8eb9-428015965164"
      },
      "source": [
        "matrix = metrics.confusion_matrix(y_true, y_pred)\n",
        "matrix"
      ],
      "execution_count": null,
      "outputs": [
        {
          "output_type": "execute_result",
          "data": {
            "text/plain": [
              "array([[3024,    8,    3,   12,    2,    8],\n",
              "       [  13,  495,    5,    8,    0,    3],\n",
              "       [   4,    4, 1005,    4,    0,    0],\n",
              "       [  10,    4,    1,  869,    0,    5],\n",
              "       [   1,    0,    0,    0,  219,    0],\n",
              "       [  11,    1,    1,   15,    1,  584]])"
            ]
          },
          "metadata": {
            "tags": []
          },
          "execution_count": 26
        }
      ]
    },
    {
      "cell_type": "markdown",
      "metadata": {
        "id": "m9sa_nX5G9t-",
        "colab_type": "text"
      },
      "source": [
        "Print the Heatmap and convert the index class labels back to their original\n",
        "text representation."
      ]
    },
    {
      "cell_type": "code",
      "metadata": {
        "id": "jHMCc3VAxvE0",
        "colab_type": "code",
        "colab": {
          "base_uri": "https://localhost:8080/",
          "height": 660
        },
        "outputId": "a3d6efe1-1b76-4813-dfc2-a7b98cfc8818"
      },
      "source": [
        "encoder.idx_to_entity(1)\n",
        "class_labels = [encoder.idx_to_entity(i) for i in range(encoder.num_classes())]\n",
        "\n",
        "plt.figure(figsize = (16, 10))\n",
        "sns.heatmap(matrix, annot=True, fmt='d', xticklabels=class_labels, yticklabels=class_labels)\n",
        "\n",
        "plt.title('Confusion Matrix', fontdict={'fontsize': 30})\n",
        "plt.xlabel('Predicted', fontdict={'fontsize': 20})\n",
        "plt.ylabel('Actual', fontdict={'fontsize': 20})"
      ],
      "execution_count": null,
      "outputs": [
        {
          "output_type": "execute_result",
          "data": {
            "text/plain": [
              "Text(123.0, 0.5, 'Actual')"
            ]
          },
          "metadata": {
            "tags": []
          },
          "execution_count": 27
        },
        {
          "output_type": "display_data",
          "data": {
            "image/png": "[encoded data removed]",
            "text/plain": [
              "<Figure size 1152x720 with 2 Axes>"
            ]
          },
          "metadata": {
            "tags": [],
            "needs_background": "light"
          }
        }
      ]
    }
  ]
}