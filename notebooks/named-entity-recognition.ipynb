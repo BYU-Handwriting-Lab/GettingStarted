{
  "nbformat": 4,
  "nbformat_minor": 0,
  "metadata": {
    "colab": {
      "name": "notebook.ipynb",
      "provenance": [],
      "include_colab_link": true
    },
    "kernelspec": {
      "name": "python3",
      "display_name": "Python 3"
    },
    "accelerator": "GPU"
  },
  "cells": [
    {
      "cell_type": "markdown",
      "metadata": {
        "id": "view-in-github",
        "colab_type": "text"
      },
      "source": [
        "<a href=\"https://colab.research.google.com/github/BYU-Handwriting-Lab/GettingStarted/blob/solution/notebooks/named-entity-recognition.ipynb\" target=\"_parent\"><img src=\"https://colab.research.google.com/assets/colab-badge.svg\" alt=\"Open In Colab\"/></a>"
      ]
    },
    {
      "cell_type": "markdown",
      "metadata": {
        "id": "VPrUn5n6CwCJ"
      },
      "source": [
        "# Named-Entity-Recognition in TensorFlow 2\n",
        "\n",
        "This notebook contains code to do Named Entity Reconition in TensorFlow 2."
      ]
    },
    {
      "cell_type": "markdown",
      "metadata": {
        "id": "Q1sGqnTaFtjd"
      },
      "source": [
        "## Imports and Dependencies\n",
        "\n",
        "TensorFlow Addons apparently has an implementation of CRF that is compatible with TF2 and tf.keras."
      ]
    },
    {
      "cell_type": "code",
      "metadata": {
        "id": "vq00R5VjDx_0"
      },
      "source": [
        "# TensorFlow\n",
        "import tensorflow as tf\n",
        "import tensorflow_hub as hub\n",
        "import tensorflow_addons as tfa\n",
        "import tensorflow.keras as K\n",
        "import tensorflow.keras.layers as L\n",
        "\n",
        "# Python\n",
        "import os\n",
        "import string\n",
        "import re\n",
        "import random\n",
        "import time\n",
        "\n",
        "# Data Structures\n",
        "import numpy as np\n",
        "import pandas as pd\n",
        "import json\n",
        "\n",
        "# Image/Plotting\n",
        "from matplotlib import pyplot as plt\n",
        "from sklearn import metrics\n",
        "import seaborn as sns\n",
        "\n",
        "# Debugging\n",
        "from tqdm import tqdm\n",
        "from IPython.core.ultratb import AutoFormattedTB\n",
        "__ITB__ = AutoFormattedTB(mode='Plain', color_scheme='LightBg', tb_offset=1) # Change to 'Verbose' mode for additional debugging"
      ],
      "execution_count": 145,
      "outputs": []
    },
    {
      "cell_type": "code",
      "metadata": {
        "id": "aowidUPYPhto"
      },
      "source": [
        "# Insert file path to Esposalles Dataset in your Google Drive\n",
        "# Note that '!' indicates a shell command rather than python code...\n",
        "\n",
        "# French NER\n",
        "# ID: 1Uc5_820EbfjN1-iFwr3JtpIyHzPdIl9g\n",
        "!wget -q --load-cookies /tmp/cookies.txt \"https://docs.google.com/uc?export=download&confirm=$(wget --quiet --save-cookies /tmp/cookies.txt --keep-session-cookies --no-check-certificate 'https://docs.google.com/uc?export=download&id=1Uc5_820EbfjN1-iFwr3JtpIyHzPdIl9g' -O- | sed -rn 's/.*confirm=([0-9A-Za-z_]+).*/\\1\\n/p')&id=1Uc5_820EbfjN1-iFwr3JtpIyHzPdIl9g\" -O french_ner_dataset.txt && rm -rf /tmp/cookies.txt\n",
        "\n",
        "# French Text\n",
        "# ID: 1M26Gpca8Ug4YvRLxoUDDCjMBeJtojITY\n",
        "!wget -q --load-cookies /tmp/cookies.txt \"https://docs.google.com/uc?export=download&confirm=$(wget --quiet --save-cookies /tmp/cookies.txt --keep-session-cookies --no-check-certificate 'https://docs.google.com/uc?export=download&id=1wDMLz9hTmfvPhkhCHTylbeAU6Utpkqb1' -O- | sed -rn 's/.*confirm=([0-9A-Za-z_]+).*/\\1\\n/p')&id=1wDMLz9hTmfvPhkhCHTylbeAU6Utpkqb1\" -O french_text.txt && rm -rf /tmp/cookies.t\n",
        "\n",
        "# Word Embedding Weights\n",
        "# ID: 1fF4wo-nTHLWENpCSQ6Q4NTsGr60SPmOM\n",
        "!wget -q --load-cookies /tmp/cookies.txt \"https://docs.google.com/uc?export=download&confirm=$(wget --quiet --save-cookies /tmp/cookies.txt --keep-session-cookies --no-check-certificate 'https://docs.google.com/uc?export=download&id=1fF4wo-nTHLWENpCSQ6Q4NTsGr60SPmOM' -O- | sed -rn 's/.*confirm=([0-9A-Za-z_]+).*/\\1\\n/p')&id=1fF4wo-nTHLWENpCSQ6Q4NTsGr60SPmOM\" -O french_embedding_weights.npy && rm -rf /tmp/cookies.t"
      ],
      "execution_count": 17,
      "outputs": []
    },
    {
      "cell_type": "markdown",
      "metadata": {
        "id": "B7IRJQe-G7Mw"
      },
      "source": [
        "## Encoding Class\n",
        "\n",
        "The encoding class helps us map between strings and indexes."
      ]
    },
    {
      "cell_type": "code",
      "metadata": {
        "id": "FGt4v-Oo_q16"
      },
      "source": [
        "DEFAULT_CHARS = ' !\"#$%&\\'()*+,-./0123456789:;=?ABCDEFGHIJKLMNOPQRSTUVWXYZ[]_`abcdefghijklmnopqrstuvwxyz|~£§¨«¬\\xad' \\\n",
        "                '°²´·º»¼½¾ÀÂÄÇÈÉÊÔÖÜßàáâäæçèéêëìîïñòóôöøùúûüÿłŒœΓΖΤάήαδεηικλμνξοπρτυχψωόώІ‒–—†‡‰‹›₂₤℔⅓⅔⅕⅖⅗⅘⅙⅚⅛∆∇∫≠□♀♂✓ｆ'\n",
        "# The default list of non-punctuation characters needed for the word beam search decoding algorithm\n",
        "DEFAULT_NON_PUNCTUATION = 'ABCDEFGHIJKLMNOPQRSTUVWXYZabcdefghijklmnopqrstuvwxyzÀÂÄÇÈÉÊÔÖÜßàáâäæçèéêëìîïñòóôöøùúûüÿ' \\\n",
        "                          'łŒœΓΖΤάήαδεηικλμνξοπρτυχψωόώІ'\n",
        "\n",
        "DEFAULT_PUNCTUATION = string.punctuation + '0123456789'"
      ],
      "execution_count": 18,
      "outputs": []
    },
    {
      "cell_type": "code",
      "metadata": {
        "id": "6mojiXfQ_nTz"
      },
      "source": [
        "lines = open('french_text.txt', 'r', encoding='utf8').readlines()\n",
        "\n",
        "french_words = []\n",
        "for line in lines:\n",
        "    french_words.extend(line.split())\n",
        "french_words = ' '.join(french_words)"
      ],
      "execution_count": 19,
      "outputs": []
    },
    {
      "cell_type": "code",
      "metadata": {
        "id": "zNpDzP01Dgij"
      },
      "source": [
        "class Tokenizer:\n",
        "    def __init__(self, corpus, word_chars, punctuation, lower=False):\n",
        "        self.word_chars = word_chars\n",
        "        self.punctuation = punctuation\n",
        "        self.regex = r\"[\" + self.word_chars + r\"]+|[^\\s]\" \n",
        "\n",
        "        words = self.split(corpus)\n",
        "        all_words_list = words + list(punctuation)\n",
        "        all_words_list_unique = list(set(all_words_list))\n",
        "        all_words = [' '.join(all_words_list_unique)]\n",
        "\n",
        "        self.total_tokens = len(all_words_list_unique) + 2 # +2 to account for 0 (reserved) and 1 (OOV)\n",
        "        self.tokenizer = tf.keras.preprocessing.text.Tokenizer(num_words=self.total_tokens, filters='', lower=lower, oov_token='<OOV>')\n",
        "        self.tokenizer.fit_on_texts(all_words)\n",
        "\n",
        "    def split(self, text):\n",
        "        return re.findall(self.regex, text)\n",
        "\n",
        "    def texts_to_sequences(self, text):\n",
        "        words = self.split(text)\n",
        "        return self.tokenizer.texts_to_sequences([' '.join(words)])\n",
        "    \n",
        "    def sequences_to_texts(self, sequences):\n",
        "        return self.tokenizer.sequences_to_texts(sequences)"
      ],
      "execution_count": 20,
      "outputs": []
    },
    {
      "cell_type": "code",
      "metadata": {
        "id": "ge-5IqB4rhn3",
        "outputId": "38bcf13e-5068-4de3-ec66-ffe161a0fa31",
        "colab": {
          "base_uri": "https://localhost:8080/"
        }
      },
      "source": [
        "df = pd.read_csv('french_ner_dataset.txt', sep='\\t', names=['word', 'entity', 'id'], header=None)\n",
        "df.loc[df['entity'] == 'Primaryname', 'entity'] = 'PrimaryName'\n",
        "\n",
        "entities = list(set(list(df['entity']))) + ['Start']\n",
        "print('Possible Entities:', entities)\n",
        "\n",
        "entity2idx = {}\n",
        "idx2entity = {}\n",
        "\n",
        "for index, entity in enumerate(entities):\n",
        "    entity2idx[entity] = index\n",
        "    idx2entity[index] = entity"
      ],
      "execution_count": 21,
      "outputs": [
        {
          "output_type": "stream",
          "text": [
            "Possible Entities: ['none', 'Date', 'Place', 'Name', 'Age', 'PrimaryName', 'Start']\n"
          ],
          "name": "stdout"
        }
      ]
    },
    {
      "cell_type": "code",
      "metadata": {
        "id": "lJSnjmQucJYg",
        "outputId": "cc859a20-abe8-49c2-9b5c-07f62f885c57",
        "colab": {
          "base_uri": "https://localhost:8080/",
          "height": 419
        }
      },
      "source": [
        "df"
      ],
      "execution_count": 22,
      "outputs": [
        {
          "output_type": "execute_result",
          "data": {
            "text/html": [
              "<div>\n",
              "<style scoped>\n",
              "    .dataframe tbody tr th:only-of-type {\n",
              "        vertical-align: middle;\n",
              "    }\n",
              "\n",
              "    .dataframe tbody tr th {\n",
              "        vertical-align: top;\n",
              "    }\n",
              "\n",
              "    .dataframe thead th {\n",
              "        text-align: right;\n",
              "    }\n",
              "</style>\n",
              "<table border=\"1\" class=\"dataframe\">\n",
              "  <thead>\n",
              "    <tr style=\"text-align: right;\">\n",
              "      <th></th>\n",
              "      <th>word</th>\n",
              "      <th>entity</th>\n",
              "      <th>id</th>\n",
              "    </tr>\n",
              "  </thead>\n",
              "  <tbody>\n",
              "    <tr>\n",
              "      <th>0</th>\n",
              "      <td>aujourdhui</td>\n",
              "      <td>none</td>\n",
              "      <td>0</td>\n",
              "    </tr>\n",
              "    <tr>\n",
              "      <th>1</th>\n",
              "      <td>quatorze</td>\n",
              "      <td>Date</td>\n",
              "      <td>0</td>\n",
              "    </tr>\n",
              "    <tr>\n",
              "      <th>2</th>\n",
              "      <td>Brumaire</td>\n",
              "      <td>Date</td>\n",
              "      <td>0</td>\n",
              "    </tr>\n",
              "    <tr>\n",
              "      <th>3</th>\n",
              "      <td>l'an</td>\n",
              "      <td>Date</td>\n",
              "      <td>0</td>\n",
              "    </tr>\n",
              "    <tr>\n",
              "      <th>4</th>\n",
              "      <td>six</td>\n",
              "      <td>Date</td>\n",
              "      <td>0</td>\n",
              "    </tr>\n",
              "    <tr>\n",
              "      <th>...</th>\n",
              "      <td>...</td>\n",
              "      <td>...</td>\n",
              "      <td>...</td>\n",
              "    </tr>\n",
              "    <tr>\n",
              "      <th>17136</th>\n",
              "      <td>demie</td>\n",
              "      <td>none</td>\n",
              "      <td>130</td>\n",
              "    </tr>\n",
              "    <tr>\n",
              "      <th>17137</th>\n",
              "      <td>fainlager</td>\n",
              "      <td>none</td>\n",
              "      <td>130</td>\n",
              "    </tr>\n",
              "    <tr>\n",
              "      <th>17138</th>\n",
              "      <td>Billet</td>\n",
              "      <td>none</td>\n",
              "      <td>130</td>\n",
              "    </tr>\n",
              "    <tr>\n",
              "      <th>17139</th>\n",
              "      <td>Duperray</td>\n",
              "      <td>none</td>\n",
              "      <td>130</td>\n",
              "    </tr>\n",
              "    <tr>\n",
              "      <th>17140</th>\n",
              "      <td>Tholin</td>\n",
              "      <td>none</td>\n",
              "      <td>130</td>\n",
              "    </tr>\n",
              "  </tbody>\n",
              "</table>\n",
              "<p>17141 rows × 3 columns</p>\n",
              "</div>"
            ],
            "text/plain": [
              "             word entity   id\n",
              "0      aujourdhui   none    0\n",
              "1        quatorze   Date    0\n",
              "2        Brumaire   Date    0\n",
              "3            l'an   Date    0\n",
              "4             six   Date    0\n",
              "...           ...    ...  ...\n",
              "17136       demie   none  130\n",
              "17137   fainlager   none  130\n",
              "17138      Billet   none  130\n",
              "17139    Duperray   none  130\n",
              "17140      Tholin   none  130\n",
              "\n",
              "[17141 rows x 3 columns]"
            ]
          },
          "metadata": {
            "tags": []
          },
          "execution_count": 22
        }
      ]
    },
    {
      "cell_type": "code",
      "metadata": {
        "id": "NRvSdI9ADF0R",
        "outputId": "4985eb5d-a626-420f-b571-fce85bc23b6f",
        "colab": {
          "base_uri": "https://localhost:8080/",
          "height": 35
        }
      },
      "source": [
        "idx2entity[6]"
      ],
      "execution_count": 23,
      "outputs": [
        {
          "output_type": "execute_result",
          "data": {
            "application/vnd.google.colaboratory.intrinsic+json": {
              "type": "string"
            },
            "text/plain": [
              "'Start'"
            ]
          },
          "metadata": {
            "tags": []
          },
          "execution_count": 23
        }
      ]
    },
    {
      "cell_type": "code",
      "metadata": {
        "id": "uOOIqRaftRQh"
      },
      "source": [
        "tokenizer = Tokenizer(french_words, DEFAULT_NON_PUNCTUATION, DEFAULT_PUNCTUATION)\n",
        "\n",
        "data = df.values\n",
        "\n",
        "sentences = []\n",
        "labels = []\n",
        "\n",
        "sentence = []\n",
        "label = []\n",
        "current_id = 0\n",
        "for word, entity, id in data:\n",
        "    if current_id != id and len(sentence) != 0:\n",
        "\n",
        "        sentences.append(sentence)\n",
        "        labels.append(label)\n",
        "\n",
        "        sentence = []\n",
        "        label = []\n",
        "\n",
        "        current_id = id\n",
        "        entity = 'Start'\n",
        "\n",
        "    tokens = tokenizer.texts_to_sequences(word)[0]\n",
        "    idx = entity2idx[entity]\n",
        "    for token in tokens:\n",
        "        sentence.append(token)\n",
        "        label.append(idx)\n",
        "\n",
        "if len(sentence) != 0:\n",
        "    sentences.append(sentence)\n",
        "    labels.append(label)\n",
        "\n",
        "# both = list(zip(sentences, labels))\n",
        "\n",
        "# random.shuffle(both)\n",
        "dataset_size = 0\n",
        "for sentence in sentences:\n",
        "    for word in sentence:\n",
        "        dataset_size += 1\n",
        "\n",
        "sentences = tf.ragged.constant(sentences)\n",
        "labels = tf.ragged.constant(labels)"
      ],
      "execution_count": 138,
      "outputs": []
    },
    {
      "cell_type": "code",
      "metadata": {
        "id": "U8KBSYnzwpan",
        "outputId": "68c0864f-2ae5-4736-bd1e-e08d4f6d0134",
        "colab": {
          "base_uri": "https://localhost:8080/"
        }
      },
      "source": [
        "dataset = tf.data.Dataset.from_tensor_slices((sentences, labels))\\\n",
        "    .shuffle(150, reshuffle_each_iteration=True)\\\n",
        "    .flat_map(lambda x, y: tf.data.Dataset.from_tensor_slices((x, y)))\n",
        "\n",
        "for word, entity in dataset.take(1):\n",
        "    print('Word:', word)\n",
        "    print('Label:', entity)\n",
        "\n",
        "print('Dataset Size:', dataset_size)"
      ],
      "execution_count": 141,
      "outputs": [
        {
          "output_type": "stream",
          "text": [
            "Word: tf.Tensor(19318, shape=(), dtype=int32)\n",
            "Label: tf.Tensor(6, shape=(), dtype=int32)\n",
            "Dataset Size: 18944\n"
          ],
          "name": "stdout"
        }
      ]
    },
    {
      "cell_type": "markdown",
      "metadata": {
        "id": "_5mgsr2oGPFh"
      },
      "source": [
        "## Model Architecture\n",
        "\n",
        "This is where we can build our model using the tf.keras high-level API\n",
        "\n",
        "We subclass from tf.keras.Model and implement the *call* method. This is the *forward pass* of the neural network."
      ]
    },
    {
      "cell_type": "code",
      "metadata": {
        "id": "PKXklX-gGYD_"
      },
      "source": [
        "reg = tf.keras.regularizers.L2(l2=0.00)\n",
        "\n",
        "class NERModel(K.Model):\n",
        "  def __init__(self, input_dim=25_000, output_dim=128, num_classes=8, embedding_weights=None, trainable=True):\n",
        "    super(NERModel, self).__init__()\n",
        "\n",
        "    self.embedding = L.Embedding(input_dim=input_dim, output_dim=output_dim, mask_zero=True, trainable=trainable, weights=embedding_weights)\n",
        "    # self.conv1 = tf.keras.Sequential(name='conv1')\n",
        "    # self.conv1.add(L.Conv1D(128, 5, padding='same', kernel_regularizer=reg))\n",
        "    # self.conv1.add(L.LayerNormalization())\n",
        "    # self.conv1.add(L.ReLU())\n",
        "    # self.conv1.add(L.Dropout(0.2))\n",
        "\n",
        "    # self.conv2 = tf.keras.Sequential(name='conv2')\n",
        "    # self.conv2.add(L.Conv1D(128, 5, padding='same', kernel_regularizer=reg))\n",
        "    # self.conv2.add(L.LayerNormalization())\n",
        "    # self.conv2.add(L.ReLU())\n",
        "    # self.conv2.add(L.Dropout(0.2))\n",
        "\n",
        "    # self.conv3 = tf.keras.Sequential(name='conv3')\n",
        "    # self.conv3.add(L.Conv1D(128, 5, padding='same', kernel_regularizer=reg))\n",
        "    # self.conv3.add(L.LayerNormalization())\n",
        "    # self.conv3.add(L.ReLU())\n",
        "    # self.conv3.add(L.Dropout(0.2))\n",
        "\n",
        "    # self.conv4 = tf.keras.Sequential(name='conv4')\n",
        "    # self.conv4.add(L.Conv1D(128, 5, padding='same', kernel_regularizer=reg))\n",
        "    # self.conv4.add(L.LayerNormalization())\n",
        "    # self.conv4.add(L.ReLU())\n",
        "    # self.conv4.add(L.Dropout(0.2))\n",
        "\n",
        "    self.gru = L.Bidirectional(L.GRU(64, return_sequences=True, stateful=True, kernel_regularizer=reg))\n",
        "\n",
        "    self.dense = L.Dense(num_classes, kernel_regularizer=reg)\n",
        "\n",
        "  def __call__(self, x, **kwargs):\n",
        "    out = self.embedding(x)\n",
        "    out = tf.expand_dims(out, 0)\n",
        "    # conv1_out = self.conv1(out)\n",
        "    # # out = conv1_out\n",
        "    # out = out + conv1_out\n",
        "    # conv2_out = self.conv2(out)\n",
        "    # out = out + conv2_out\n",
        "    # conv3_out = self.conv3(out)\n",
        "    # out = out + conv3_out\n",
        "    # conv4_out = self.conv4(out)\n",
        "    # out = out + conv4_out\n",
        "    gru_out = self.gru(out)\n",
        "    # out = out + gru_out\n",
        "    out = self.dense(gru_out)\n",
        "    out = tf.squeeze(out, 0)\n",
        "\n",
        "    return out"
      ],
      "execution_count": 207,
      "outputs": []
    },
    {
      "cell_type": "markdown",
      "metadata": {
        "id": "GzvxSgFXNZJK"
      },
      "source": [
        "### Test to make sure the model is doing what we think it is...\n",
        "\n",
        "The output shape should be (NUM_WORDS_IN_SENTENCE, NUM_CLASSES). Example: (41, 6)\n",
        "\n",
        "The values along Axis=0 represents a word\n",
        "\n",
        "The values along Axis=1 represents the probability distribution"
      ]
    },
    {
      "cell_type": "code",
      "metadata": {
        "id": "LWNHjmyx_cvy",
        "outputId": "a4f7fa2e-f22a-4be6-8080-82ae00a33501",
        "colab": {
          "base_uri": "https://localhost:8080/"
        }
      },
      "source": [
        "pretrained_embedding_weights = np.load('french_embedding_weights.npy')\n",
        "\n",
        "dataset = tf.data.Dataset.from_tensor_slices((sentences, labels))\\\n",
        "    .shuffle(150, reshuffle_each_iteration=True)\\\n",
        "    .flat_map(lambda x, y: tf.data.Dataset.from_tensor_slices((x, y)))\n",
        "\n",
        "model = NERModel(input_dim=tokenizer.total_tokens, num_classes=len(entity2idx), trainable=True)\n",
        "\n",
        "for word, entity in dataset.batch(5).take(1):\n",
        "    results = model(word)\n",
        "    print('Shape of output from NER Model: ', results.shape)\n",
        "    print('Probability Distribution for one word in the sentence: ', results[0])\n",
        "    print('Predicted class for the word: ', tf.argmax(results[0]).numpy())"
      ],
      "execution_count": 208,
      "outputs": [
        {
          "output_type": "stream",
          "text": [
            "Shape of output from NER Model:  (5, 7)\n",
            "Probability Distribution for one word in the sentence:  tf.Tensor(\n",
            "[ 0.01044393 -0.00677783  0.01184341  0.01723243 -0.00526703  0.00348191\n",
            "  0.00676181], shape=(7,), dtype=float32)\n",
            "Predicted class for the word:  3\n"
          ],
          "name": "stdout"
        }
      ]
    },
    {
      "cell_type": "markdown",
      "metadata": {
        "id": "9isM9-2-qzQA"
      },
      "source": [
        "## Evaluation Metrics\n",
        "\n",
        "For named-entity-recognition, we will use Precision, Recall, and F1 for our\n",
        "metrics. An easy way to do this is using sklearn metrics. We need to define\n",
        "custom functions so that we can pass the *average* parameter when it's wrapped\n",
        "in a *tf.py_function*."
      ]
    },
    {
      "cell_type": "code",
      "metadata": {
        "id": "B7MASql6evPg"
      },
      "source": [
        "def precision_score(y_true, y_pred):\n",
        "  return metrics.precision_score(y_true, y_pred, average='macro')\n",
        "\n",
        "def recall_score(y_true, y_pred):\n",
        "  return metrics.recall_score(y_true, y_pred, average='macro')\n",
        "\n",
        "def f1_score(y_true, y_pred):\n",
        "  return metrics.f1_score(y_true, y_pred, average='macro')"
      ],
      "execution_count": 144,
      "outputs": []
    },
    {
      "cell_type": "markdown",
      "metadata": {
        "id": "eo6dYjU7HGxv"
      },
      "source": [
        "## Training Loop\n",
        "\n",
        "Build our training loop and creating custom train_step and val_step functions.\n",
        "\n",
        "GradientTape allows us to keep track of the losses and gradients for each pass through the network. Structuring our code this way makes it much easier for debugging purposes and for us to iterate through our design.\n",
        "\n",
        "Notice the decorator *@tf.function*. This tells TensorFlow to create the computation graph from the python code and allows our model to run much faster. The *experimental_relax_shapes* parameter allows us to pass tensors with various sentence lengths without TensorFlow getting upset at us.\n",
        "\n",
        "TensorFlow 2 also does some weird things with scope when it constructs the computation graph through a @tf.function annotation. Thus, if we use a more object oriented approach, we can avoid some of the nasty scope issues. See the following articles for more details:\n",
        "* https://pgaleone.eu/tensorflow/tf.function/2019/03/21/dissecting-tf-function-part-1/\n",
        "* https://pgaleone.eu/tensorflow/tf.function/2019/04/03/dissecting-tf-function-part-2/\n"
      ]
    },
    {
      "cell_type": "code",
      "metadata": {
        "id": "yJKYEv0JVPoG"
      },
      "source": [
        "class Train:\n",
        "  def __init__(self):\n",
        "    # How many times through the training set should we go?\n",
        "    self.epochs = 100\n",
        "    self.batch_size = 128\n",
        "    self.num_classes = len(idx2entity)\n",
        "\n",
        "    # Break up dataset into training/validation\n",
        "    dataset = tf.data.Dataset.from_tensor_slices((sentences, labels))\n",
        "    dataset_size = dataset.cardinality().numpy()\n",
        "    self.train_dataset_size = int(dataset_size * 0.8)\n",
        "    self.val_dataset_size = dataset_size - self.train_dataset_size\n",
        "\n",
        "    self.train_dataset = dataset.take(self.train_dataset_size)\\\n",
        "        .shuffle(self.train_dataset_size)\\\n",
        "        .flat_map(lambda x, y: tf.data.Dataset.from_tensor_slices((x, y)))\\\n",
        "        .batch(self.batch_size)\n",
        "    self.val_dataset = dataset.skip(self.train_dataset_size)\\\n",
        "        .flat_map(lambda x, y: tf.data.Dataset.from_tensor_slices((x, y)))\\\n",
        "        .batch(self.batch_size)\n",
        "\n",
        "    self.train_dataset_size = 0\n",
        "    for _, _ in self.train_dataset:\n",
        "        self.train_dataset_size += 1\n",
        "    \n",
        "    self.val_dataset_size = 0\n",
        "    for _, _ in self.val_dataset:\n",
        "        self.val_dataset_size += 1\n",
        "\n",
        "    embedding_weights = [np.load('french_embedding_weights.npy')]\n",
        "\n",
        "    # Create our model\n",
        "    self.model = NERModel(input_dim=tokenizer.total_tokens,\n",
        "                          num_classes=self.num_classes,\n",
        "                          embedding_weights=embedding_weights,\n",
        "                          trainable=False)\n",
        "\n",
        "    # Use CrossEntropy for our loss function and Adam for our optimizer\n",
        "    self.loss_fn = K.losses.SparseCategoricalCrossentropy(from_logits=True)\n",
        "    self.optimizer = K.optimizers.Adam(learning_rate=1e-3)\n",
        "\n",
        "    # Metrics to track our performance\n",
        "    # Consider adding metrics like Precision/Recall here...\n",
        "    self.train_pred_loss = tf.keras.metrics.Mean(name='train_pred_loss')\n",
        "    self.train_reg_loss = tf.keras.metrics.Mean(name='train_reg_loss')\n",
        "    self.train_precision = tf.keras.metrics.Mean(name='train_precision')\n",
        "    self.train_recall = tf.keras.metrics.Mean(name='train_recall')\n",
        "    self.train_f1 = tf.keras.metrics.Mean(name='train_f1')\n",
        "    self.val_pred_loss = tf.keras.metrics.Mean(name='val_pred_loss')\n",
        "    self.val_reg_loss = tf.keras.metrics.Mean(name='val_reg_loss')\n",
        "    self.val_precision = tf.keras.metrics.Mean(name='val_precision')\n",
        "    self.val_recall = tf.keras.metrics.Mean(name='val_recall')\n",
        "    self.val_f1 = tf.keras.metrics.Mean(name='val_f1')\n",
        "\n",
        "  @tf.function(experimental_relax_shapes=True)\n",
        "  def train_step(self, words, labels, ones):\n",
        "    with tf.GradientTape() as tape:\n",
        "      # Make a prediction, calculate the loss\n",
        "      predictions = self.model(words, training=True)\n",
        "      pred_loss = self.loss_fn(labels, predictions)\n",
        "      reg_loss = tf.reduce_sum(self.model.losses)\n",
        "      loss = pred_loss + reg_loss\n",
        "\n",
        "    # Obtain gradients from GradientTape\n",
        "    gradients = tape.gradient(loss, self.model.trainable_variables)\n",
        "\n",
        "    # Propagate loss back through the network and take a step with the optimizer  \n",
        "    self.optimizer.apply_gradients(zip(gradients, self.model.trainable_variables))\n",
        "    \n",
        "    # Update our metrics\n",
        "    results = tf.argmax(predictions, axis=1)\n",
        "    precision = tf.py_function(precision_score, [labels, results], Tout=[tf.float32])\n",
        "    recall = tf.py_function(recall_score, [labels, results], Tout=[tf.float32])\n",
        "    f1 = tf.py_function(f1_score, [labels, results], Tout=[tf.float32])\n",
        "\n",
        "    self.train_pred_loss(pred_loss)\n",
        "    self.train_reg_loss(reg_loss)\n",
        "    self.train_precision(precision)\n",
        "    self.train_recall(recall)\n",
        "    self.train_f1(f1)\n",
        "\n",
        "  @tf.function(experimental_relax_shapes=True)\n",
        "  def validation_step(self, words, labels, ones):\n",
        "    # Make a prediction and calculate the loss\n",
        "    predictions = self.model(words, training=False)\n",
        "    pred_loss = self.loss_fn(labels, predictions)\n",
        "    reg_loss = tf.reduce_sum(self.model.losses)\n",
        "    loss = pred_loss + reg_loss\n",
        "\n",
        "    # Update our metrics\n",
        "    results = tf.argmax(predictions, axis=1)\n",
        "    precision = tf.py_function(precision_score, [labels, results], Tout=[tf.float32])\n",
        "    recall = tf.py_function(recall_score, [labels, results], Tout=[tf.float32])\n",
        "    f1 = tf.py_function(f1_score, [labels, results], Tout=[tf.float32])\n",
        "\n",
        "    self.val_pred_loss(pred_loss)\n",
        "    self.val_reg_loss(reg_loss)\n",
        "    self.val_precision(precision)\n",
        "    self.val_recall(recall)\n",
        "    self.val_f1(f1)\n",
        "\n",
        "  def __call__(self):\n",
        "    # Variables to keep track of our progress through the entire training process\n",
        "    # Used below when we create our graphs\n",
        "    try:\n",
        "      train_losses, val_losses = [], []\n",
        "      train_precisions, val_precisions = [], []\n",
        "      train_recalls, val_recalls = [], []\n",
        "      train_f1s, val_f1s = [], []\n",
        "\n",
        "      for epoch in range(self.epochs):\n",
        "        # Reset Metrics for another epoch\n",
        "        self.train_pred_loss.reset_states()\n",
        "        self.train_reg_loss.reset_states()\n",
        "        self.train_precision.reset_states()\n",
        "        self.train_recall.reset_states()\n",
        "        self.train_f1.reset_states()\n",
        "        self.val_pred_loss.reset_states()\n",
        "        self.val_reg_loss.reset_states()\n",
        "        self.val_precision.reset_states()\n",
        "        self.val_recall.reset_states()\n",
        "        self.val_f1.reset_states()\n",
        "\n",
        "        # self.model.lstm.reset_states()\n",
        "\n",
        "        # Training Loop\n",
        "        train_loop = tqdm(total=int(np.round(self.train_dataset_size)), position=0, leave=True)\n",
        "        for words, labels in self.train_dataset:\n",
        "          # One training iteration\n",
        "          self.train_step(words, labels, tf.ones(labels.shape[0], dtype=tf.int32))\n",
        "          train_loop.set_description('Train - Epoch: {}, PredLoss: {:.4f}, RegLoss: {:.4f}, Precision: {:.4f}, Recall: {:.4f}, F1: {:.4f}'.format(\n",
        "              epoch, self.train_pred_loss.result(), self.train_reg_loss.result(), self.train_precision.result(), self.train_recall.result(), self.train_f1.result()))\n",
        "          train_loop.update(1)\n",
        "        train_loop.close()\n",
        "\n",
        "        # self.model.lstm.reset_states()\n",
        "\n",
        "        # Validation Loop\n",
        "        y_pred = []\n",
        "        y_true = []\n",
        "        val_loop = tqdm(total=int(np.round(self.val_dataset_size)), position=0, leave=True)\n",
        "        for words, labels in self.val_dataset:\n",
        "            output = self.model(words)\n",
        "            predictions = tf.argmax(output, 1)\n",
        "            y_true.extend(labels.numpy())\n",
        "            y_pred.extend(predictions.numpy())\n",
        "            val_loop.update(1)\n",
        "        val_loop.close()\n",
        "        \n",
        "        precision, recall, f1, _ = metrics.precision_recall_fscore_support(y_true, y_pred)\n",
        "        precision = np.mean(precision)\n",
        "        recall = np.mean(recall)\n",
        "        f1 = np.mean(f1)\n",
        "        print('Val   - Epoch: {}, Precision: {:.4f}, Recall: {:.4f}, F1: {:.4f}'.format(epoch, precision, recall, f1))\n",
        "        time.sleep(0.5)\n",
        "\n",
        "        # val_loop = tqdm(total=int(np.round(self.val_dataset_size/self.batch_size)), position=0, leave=True)\n",
        "        # for words, labels in self.val_dataset:\n",
        "        #   # One validation iteration\n",
        "        #   self.validation_step(words, labels, tf.ones(labels.shape[0], dtype=tf.int32))\n",
        "        #   val_loop.set_description('Val  - Epoch: {}, PredLoss: {:.4f}, RegLoss: {:.4f}, Precision: {:.4f}, Recall: {:.4f}, F1: {:.4f}'.format(\n",
        "        #       epoch, self.val_pred_loss.result(), self.val_reg_loss.result(), self.val_precision.result(), self.val_recall.result(), self.val_f1.result()))\n",
        "        #   val_loop.update(1)\n",
        "        # val_loop.close()\n",
        "\n",
        "        train_losses.append(self.train_pred_loss.result() + self.train_reg_loss.result())\n",
        "        # val_losses.append(self.val_pred_loss.result() + self.val_reg_loss.result())\n",
        "\n",
        "        train_precisions.append(self.train_precision.result())\n",
        "        # val_precisions.append(self.val_precision.result())\n",
        "\n",
        "        train_recalls.append(self.train_recall.result())\n",
        "        # val_recalls.append(self.val_recall.result())\n",
        "\n",
        "        train_f1s.append(self.train_f1.result())\n",
        "        # val_f1s.append(self.val_f1.result())\n",
        "    except:\n",
        "      __ITB__()\n",
        "    finally:\n",
        "      return self.model, (train_losses, val_losses), (train_precisions, val_precisions), (train_recalls, val_recalls), (train_f1s, val_f1s)"
      ],
      "execution_count": 209,
      "outputs": []
    },
    {
      "cell_type": "code",
      "metadata": {
        "id": "sSrAZsyHX3VL",
        "outputId": "2696e1c6-630a-4c60-abe1-2c41c7f9ee11",
        "colab": {
          "base_uri": "https://localhost:8080/"
        }
      },
      "source": [
        "try:\n",
        "  train = Train()\n",
        "  model, losses, precisions, recalls, f1s = train()\n",
        "except:\n",
        "  __ITB__()"
      ],
      "execution_count": 210,
      "outputs": [
        {
          "output_type": "stream",
          "text": [
            "Train - Epoch: 0, PredLoss: 1.9162, RegLoss: 0.0000, Precision: 0.1310, Recall: 0.2549, F1: 0.1158:   3%|▎         | 3/115 [00:01<01:33,  1.20it/s]/usr/local/lib/python3.6/dist-packages/sklearn/metrics/_classification.py:1272: UndefinedMetricWarning: Recall is ill-defined and being set to 0.0 in labels with no true samples. Use `zero_division` parameter to control this behavior.\n",
            "  _warn_prf(average, modifier, msg_start, len(result))\n",
            "Train - Epoch: 0, PredLoss: 1.8775, RegLoss: 0.0000, Precision: 0.1437, Recall: 0.2666, F1: 0.1314:   3%|▎         | 4/115 [00:02<01:11,  1.55it/s]/usr/local/lib/python3.6/dist-packages/sklearn/metrics/_classification.py:1272: UndefinedMetricWarning: Precision is ill-defined and being set to 0.0 in labels with no predicted samples. Use `zero_division` parameter to control this behavior.\n",
            "  _warn_prf(average, modifier, msg_start, len(result))\n",
            "Train - Epoch: 0, PredLoss: 0.7358, RegLoss: 0.0000, Precision: 0.5670, Recall: 0.4645, F1: 0.4774: 100%|██████████| 115/115 [00:21<00:00,  5.43it/s]\n",
            "100%|██████████| 34/34 [00:09<00:00,  3.67it/s]\n"
          ],
          "name": "stderr"
        },
        {
          "output_type": "stream",
          "text": [
            "Val   - Epoch: 0, Precision: 0.7725, Recall: 0.6499, F1: 0.6746\n"
          ],
          "name": "stdout"
        },
        {
          "output_type": "stream",
          "text": [
            "Train - Epoch: 1, PredLoss: 0.2846, RegLoss: 0.0000, Precision: 0.8410, Recall: 0.7738, F1: 0.7912: 100%|██████████| 115/115 [00:18<00:00,  6.10it/s]\n",
            "100%|██████████| 34/34 [00:09<00:00,  3.76it/s]\n"
          ],
          "name": "stderr"
        },
        {
          "output_type": "stream",
          "text": [
            "Val   - Epoch: 1, Precision: 0.8664, Recall: 0.7272, F1: 0.7659\n"
          ],
          "name": "stdout"
        },
        {
          "output_type": "stream",
          "text": [
            "Train - Epoch: 2, PredLoss: 0.1825, RegLoss: 0.0000, Precision: 0.9093, Recall: 0.8719, F1: 0.8814: 100%|██████████| 115/115 [00:20<00:00,  5.68it/s]\n",
            "100%|██████████| 34/34 [00:09<00:00,  3.53it/s]\n"
          ],
          "name": "stderr"
        },
        {
          "output_type": "stream",
          "text": [
            "Val   - Epoch: 2, Precision: 0.9151, Recall: 0.7438, F1: 0.8041\n"
          ],
          "name": "stdout"
        },
        {
          "output_type": "stream",
          "text": [
            "Train - Epoch: 3, PredLoss: 0.1319, RegLoss: 0.0000, Precision: 0.9290, Recall: 0.9092, F1: 0.9130: 100%|██████████| 115/115 [00:19<00:00,  5.94it/s]\n",
            "100%|██████████| 34/34 [00:09<00:00,  3.71it/s]\n"
          ],
          "name": "stderr"
        },
        {
          "output_type": "stream",
          "text": [
            "Val   - Epoch: 3, Precision: 0.9253, Recall: 0.6713, F1: 0.7433\n"
          ],
          "name": "stdout"
        },
        {
          "output_type": "stream",
          "text": [
            "Train - Epoch: 4, PredLoss: 0.1091, RegLoss: 0.0000, Precision: 0.9424, Recall: 0.9230, F1: 0.9284: 100%|██████████| 115/115 [00:19<00:00,  5.91it/s]\n",
            "100%|██████████| 34/34 [00:09<00:00,  3.71it/s]\n"
          ],
          "name": "stderr"
        },
        {
          "output_type": "stream",
          "text": [
            "Val   - Epoch: 4, Precision: 0.8789, Recall: 0.7799, F1: 0.8134\n"
          ],
          "name": "stdout"
        },
        {
          "output_type": "stream",
          "text": [
            "Train - Epoch: 5, PredLoss: 0.0821, RegLoss: 0.0000, Precision: 0.9642, Recall: 0.9472, F1: 0.9521: 100%|██████████| 115/115 [00:20<00:00,  5.74it/s]\n",
            "100%|██████████| 34/34 [00:09<00:00,  3.62it/s]\n"
          ],
          "name": "stderr"
        },
        {
          "output_type": "stream",
          "text": [
            "Val   - Epoch: 5, Precision: 0.8985, Recall: 0.7941, F1: 0.8280\n"
          ],
          "name": "stdout"
        },
        {
          "output_type": "stream",
          "text": [
            "Train - Epoch: 6, PredLoss: 0.0673, RegLoss: 0.0000, Precision: 0.9667, Recall: 0.9567, F1: 0.9591: 100%|██████████| 115/115 [00:18<00:00,  6.11it/s]\n",
            "100%|██████████| 34/34 [00:09<00:00,  3.69it/s]\n"
          ],
          "name": "stderr"
        },
        {
          "output_type": "stream",
          "text": [
            "Val   - Epoch: 6, Precision: 0.8913, Recall: 0.8127, F1: 0.8426\n"
          ],
          "name": "stdout"
        },
        {
          "output_type": "stream",
          "text": [
            "Train - Epoch: 7, PredLoss: 0.0544, RegLoss: 0.0000, Precision: 0.9717, Recall: 0.9620, F1: 0.9646: 100%|██████████| 115/115 [00:19<00:00,  5.96it/s]\n",
            "100%|██████████| 34/34 [00:09<00:00,  3.55it/s]\n"
          ],
          "name": "stderr"
        },
        {
          "output_type": "stream",
          "text": [
            "Val   - Epoch: 7, Precision: 0.9127, Recall: 0.8107, F1: 0.8488\n"
          ],
          "name": "stdout"
        },
        {
          "output_type": "stream",
          "text": [
            "Train - Epoch: 8, PredLoss: 0.0419, RegLoss: 0.0000, Precision: 0.9751, Recall: 0.9670, F1: 0.9697: 100%|██████████| 115/115 [00:19<00:00,  5.78it/s]\n",
            "100%|██████████| 34/34 [00:08<00:00,  3.81it/s]\n"
          ],
          "name": "stderr"
        },
        {
          "output_type": "stream",
          "text": [
            "Val   - Epoch: 8, Precision: 0.9026, Recall: 0.8045, F1: 0.8344\n"
          ],
          "name": "stdout"
        },
        {
          "output_type": "stream",
          "text": [
            "Train - Epoch: 9, PredLoss: 0.0374, RegLoss: 0.0000, Precision: 0.9764, Recall: 0.9688, F1: 0.9708: 100%|██████████| 115/115 [00:19<00:00,  5.94it/s]\n",
            "100%|██████████| 34/34 [00:08<00:00,  3.80it/s]\n"
          ],
          "name": "stderr"
        },
        {
          "output_type": "stream",
          "text": [
            "Val   - Epoch: 9, Precision: 0.9047, Recall: 0.8057, F1: 0.8398\n"
          ],
          "name": "stdout"
        },
        {
          "output_type": "stream",
          "text": [
            "Train - Epoch: 10, PredLoss: 0.0283, RegLoss: 0.0000, Precision: 0.9832, Recall: 0.9792, F1: 0.9807: 100%|██████████| 115/115 [00:20<00:00,  5.68it/s]\n",
            "100%|██████████| 34/34 [00:09<00:00,  3.71it/s]\n"
          ],
          "name": "stderr"
        },
        {
          "output_type": "stream",
          "text": [
            "Val   - Epoch: 10, Precision: 0.9023, Recall: 0.8207, F1: 0.8525\n"
          ],
          "name": "stdout"
        },
        {
          "output_type": "stream",
          "text": [
            "Train - Epoch: 11, PredLoss: 0.0252, RegLoss: 0.0000, Precision: 0.9829, Recall: 0.9802, F1: 0.9809: 100%|██████████| 115/115 [00:20<00:00,  5.75it/s]\n",
            "100%|██████████| 34/34 [00:09<00:00,  3.56it/s]\n"
          ],
          "name": "stderr"
        },
        {
          "output_type": "stream",
          "text": [
            "Val   - Epoch: 11, Precision: 0.8873, Recall: 0.8389, F1: 0.8563\n"
          ],
          "name": "stdout"
        },
        {
          "output_type": "stream",
          "text": [
            "Train - Epoch: 12, PredLoss: 0.0211, RegLoss: 0.0000, Precision: 0.9865, Recall: 0.9835, F1: 0.9844: 100%|██████████| 115/115 [00:19<00:00,  5.94it/s]\n",
            "100%|██████████| 34/34 [00:08<00:00,  3.79it/s]\n"
          ],
          "name": "stderr"
        },
        {
          "output_type": "stream",
          "text": [
            "Val   - Epoch: 12, Precision: 0.9149, Recall: 0.8413, F1: 0.8680\n"
          ],
          "name": "stdout"
        },
        {
          "output_type": "stream",
          "text": [
            "Train - Epoch: 13, PredLoss: 0.0184, RegLoss: 0.0000, Precision: 0.9892, Recall: 0.9839, F1: 0.9856: 100%|██████████| 115/115 [00:20<00:00,  5.74it/s]\n",
            "100%|██████████| 34/34 [00:09<00:00,  3.71it/s]\n"
          ],
          "name": "stderr"
        },
        {
          "output_type": "stream",
          "text": [
            "Val   - Epoch: 13, Precision: 0.9158, Recall: 0.8020, F1: 0.8396\n"
          ],
          "name": "stdout"
        },
        {
          "output_type": "stream",
          "text": [
            "Train - Epoch: 14, PredLoss: 0.0149, RegLoss: 0.0000, Precision: 0.9851, Recall: 0.9835, F1: 0.9839: 100%|██████████| 115/115 [00:19<00:00,  6.05it/s]\n",
            "100%|██████████| 34/34 [00:09<00:00,  3.68it/s]\n"
          ],
          "name": "stderr"
        },
        {
          "output_type": "stream",
          "text": [
            "Val   - Epoch: 14, Precision: 0.9224, Recall: 0.8349, F1: 0.8686\n"
          ],
          "name": "stdout"
        },
        {
          "output_type": "stream",
          "text": [
            "Train - Epoch: 15, PredLoss: 0.0136, RegLoss: 0.0000, Precision: 0.9936, Recall: 0.9924, F1: 0.9924: 100%|██████████| 115/115 [00:18<00:00,  6.09it/s]\n",
            "100%|██████████| 34/34 [00:09<00:00,  3.77it/s]\n"
          ],
          "name": "stderr"
        },
        {
          "output_type": "stream",
          "text": [
            "Val   - Epoch: 15, Precision: 0.9146, Recall: 0.8349, F1: 0.8616\n"
          ],
          "name": "stdout"
        },
        {
          "output_type": "stream",
          "text": [
            "Train - Epoch: 16, PredLoss: 0.0119, RegLoss: 0.0000, Precision: 0.9943, Recall: 0.9931, F1: 0.9935: 100%|██████████| 115/115 [00:19<00:00,  5.96it/s]\n",
            "100%|██████████| 34/34 [00:09<00:00,  3.68it/s]\n"
          ],
          "name": "stderr"
        },
        {
          "output_type": "stream",
          "text": [
            "Val   - Epoch: 16, Precision: 0.9130, Recall: 0.8183, F1: 0.8492\n"
          ],
          "name": "stdout"
        },
        {
          "output_type": "stream",
          "text": [
            "Train - Epoch: 17, PredLoss: 0.0126, RegLoss: 0.0000, Precision: 0.9908, Recall: 0.9903, F1: 0.9904: 100%|██████████| 115/115 [00:18<00:00,  6.06it/s]\n",
            "100%|██████████| 34/34 [00:08<00:00,  3.79it/s]\n"
          ],
          "name": "stderr"
        },
        {
          "output_type": "stream",
          "text": [
            "Val   - Epoch: 17, Precision: 0.9275, Recall: 0.8204, F1: 0.8632\n"
          ],
          "name": "stdout"
        },
        {
          "output_type": "stream",
          "text": [
            "Train - Epoch: 18, PredLoss: 0.0124, RegLoss: 0.0000, Precision: 0.9932, Recall: 0.9910, F1: 0.9914: 100%|██████████| 115/115 [00:18<00:00,  6.10it/s]\n",
            "100%|██████████| 34/34 [00:09<00:00,  3.71it/s]\n"
          ],
          "name": "stderr"
        },
        {
          "output_type": "stream",
          "text": [
            "Val   - Epoch: 18, Precision: 0.9172, Recall: 0.7897, F1: 0.8385\n"
          ],
          "name": "stdout"
        },
        {
          "output_type": "stream",
          "text": [
            "Train - Epoch: 19, PredLoss: 0.0099, RegLoss: 0.0000, Precision: 0.9927, Recall: 0.9933, F1: 0.9926: 100%|██████████| 115/115 [00:19<00:00,  5.93it/s]\n",
            "100%|██████████| 34/34 [00:09<00:00,  3.77it/s]\n"
          ],
          "name": "stderr"
        },
        {
          "output_type": "stream",
          "text": [
            "Val   - Epoch: 19, Precision: 0.9247, Recall: 0.8074, F1: 0.8561\n"
          ],
          "name": "stdout"
        },
        {
          "output_type": "stream",
          "text": [
            "Train - Epoch: 20, PredLoss: 0.0083, RegLoss: 0.0000, Precision: 0.9948, Recall: 0.9940, F1: 0.9942: 100%|██████████| 115/115 [00:19<00:00,  6.02it/s]\n",
            "100%|██████████| 34/34 [00:08<00:00,  3.81it/s]\n"
          ],
          "name": "stderr"
        },
        {
          "output_type": "stream",
          "text": [
            "Val   - Epoch: 20, Precision: 0.9105, Recall: 0.8040, F1: 0.8473\n"
          ],
          "name": "stdout"
        },
        {
          "output_type": "stream",
          "text": [
            "Train - Epoch: 21, PredLoss: 0.0071, RegLoss: 0.0000, Precision: 0.9946, Recall: 0.9933, F1: 0.9936: 100%|██████████| 115/115 [00:19<00:00,  5.86it/s]\n",
            "100%|██████████| 34/34 [00:09<00:00,  3.73it/s]\n"
          ],
          "name": "stderr"
        },
        {
          "output_type": "stream",
          "text": [
            "Val   - Epoch: 21, Precision: 0.9087, Recall: 0.8183, F1: 0.8565\n"
          ],
          "name": "stdout"
        },
        {
          "output_type": "stream",
          "text": [
            "Train - Epoch: 22, PredLoss: 0.0074, RegLoss: 0.0000, Precision: 0.9955, Recall: 0.9937, F1: 0.9945: 100%|██████████| 115/115 [00:19<00:00,  5.94it/s]\n",
            "100%|██████████| 34/34 [00:09<00:00,  3.71it/s]\n"
          ],
          "name": "stderr"
        },
        {
          "output_type": "stream",
          "text": [
            "Val   - Epoch: 22, Precision: 0.9200, Recall: 0.8275, F1: 0.8616\n"
          ],
          "name": "stdout"
        },
        {
          "output_type": "stream",
          "text": [
            "Train - Epoch: 23, PredLoss: 0.0080, RegLoss: 0.0000, Precision: 0.9948, Recall: 0.9934, F1: 0.9938: 100%|██████████| 115/115 [00:19<00:00,  5.98it/s]\n",
            "100%|██████████| 34/34 [00:09<00:00,  3.64it/s]\n"
          ],
          "name": "stderr"
        },
        {
          "output_type": "stream",
          "text": [
            "Val   - Epoch: 23, Precision: 0.9291, Recall: 0.8255, F1: 0.8659\n"
          ],
          "name": "stdout"
        },
        {
          "output_type": "stream",
          "text": [
            "Train - Epoch: 24, PredLoss: 0.0077, RegLoss: 0.0000, Precision: 0.9945, Recall: 0.9929, F1: 0.9932: 100%|██████████| 115/115 [00:20<00:00,  5.74it/s]\n",
            "100%|██████████| 34/34 [00:09<00:00,  3.58it/s]\n"
          ],
          "name": "stderr"
        },
        {
          "output_type": "stream",
          "text": [
            "Val   - Epoch: 24, Precision: 0.9134, Recall: 0.8315, F1: 0.8665\n"
          ],
          "name": "stdout"
        },
        {
          "output_type": "stream",
          "text": [
            "Train - Epoch: 25, PredLoss: 0.0052, RegLoss: 0.0000, Precision: 0.9937, Recall: 0.9930, F1: 0.9932: 100%|██████████| 115/115 [00:18<00:00,  6.19it/s]\n",
            "100%|██████████| 34/34 [00:09<00:00,  3.69it/s]\n"
          ],
          "name": "stderr"
        },
        {
          "output_type": "stream",
          "text": [
            "Val   - Epoch: 25, Precision: 0.9204, Recall: 0.8328, F1: 0.8685\n"
          ],
          "name": "stdout"
        },
        {
          "output_type": "stream",
          "text": [
            "Train - Epoch: 26, PredLoss: 0.0072, RegLoss: 0.0000, Precision: 0.9928, Recall: 0.9919, F1: 0.9920: 100%|██████████| 115/115 [00:19<00:00,  6.03it/s]\n",
            "100%|██████████| 34/34 [00:08<00:00,  3.82it/s]\n"
          ],
          "name": "stderr"
        },
        {
          "output_type": "stream",
          "text": [
            "Val   - Epoch: 26, Precision: 0.8996, Recall: 0.8549, F1: 0.8722\n"
          ],
          "name": "stdout"
        },
        {
          "output_type": "stream",
          "text": [
            "Train - Epoch: 27, PredLoss: 0.0050, RegLoss: 0.0000, Precision: 0.9975, Recall: 0.9969, F1: 0.9970: 100%|██████████| 115/115 [00:19<00:00,  5.88it/s]\n",
            "100%|██████████| 34/34 [00:09<00:00,  3.71it/s]\n"
          ],
          "name": "stderr"
        },
        {
          "output_type": "stream",
          "text": [
            "Val   - Epoch: 27, Precision: 0.9353, Recall: 0.8174, F1: 0.8629\n"
          ],
          "name": "stdout"
        },
        {
          "output_type": "stream",
          "text": [
            "Train - Epoch: 28, PredLoss: 0.0042, RegLoss: 0.0000, Precision: 0.9927, Recall: 0.9926, F1: 0.9926: 100%|██████████| 115/115 [00:18<00:00,  6.06it/s]\n",
            "100%|██████████| 34/34 [00:08<00:00,  3.81it/s]\n"
          ],
          "name": "stderr"
        },
        {
          "output_type": "stream",
          "text": [
            "Val   - Epoch: 28, Precision: 0.9347, Recall: 0.8215, F1: 0.8675\n"
          ],
          "name": "stdout"
        },
        {
          "output_type": "stream",
          "text": [
            "Train - Epoch: 29, PredLoss: 0.0050, RegLoss: 0.0000, Precision: 0.9959, Recall: 0.9930, F1: 0.9936: 100%|██████████| 115/115 [00:19<00:00,  5.79it/s]\n",
            "100%|██████████| 34/34 [00:09<00:00,  3.64it/s]\n"
          ],
          "name": "stderr"
        },
        {
          "output_type": "stream",
          "text": [
            "Val   - Epoch: 29, Precision: 0.8990, Recall: 0.8548, F1: 0.8734\n"
          ],
          "name": "stdout"
        },
        {
          "output_type": "stream",
          "text": [
            "Train - Epoch: 30, PredLoss: 0.0095, RegLoss: 0.0000, Precision: 0.9943, Recall: 0.9926, F1: 0.9931: 100%|██████████| 115/115 [00:19<00:00,  5.87it/s]\n",
            "100%|██████████| 34/34 [00:09<00:00,  3.78it/s]\n"
          ],
          "name": "stderr"
        },
        {
          "output_type": "stream",
          "text": [
            "Val   - Epoch: 30, Precision: 0.9174, Recall: 0.7821, F1: 0.8388\n"
          ],
          "name": "stdout"
        },
        {
          "output_type": "stream",
          "text": [
            "Train - Epoch: 31, PredLoss: 0.0089, RegLoss: 0.0000, Precision: 0.9917, Recall: 0.9909, F1: 0.9908: 100%|██████████| 115/115 [00:18<00:00,  6.24it/s]\n",
            "100%|██████████| 34/34 [00:09<00:00,  3.77it/s]\n"
          ],
          "name": "stderr"
        },
        {
          "output_type": "stream",
          "text": [
            "Val   - Epoch: 31, Precision: 0.9044, Recall: 0.7954, F1: 0.8393\n"
          ],
          "name": "stdout"
        },
        {
          "output_type": "stream",
          "text": [
            "Train - Epoch: 32, PredLoss: 0.0107, RegLoss: 0.0000, Precision: 0.9891, Recall: 0.9889, F1: 0.9887: 100%|██████████| 115/115 [00:19<00:00,  5.88it/s]\n",
            "100%|██████████| 34/34 [00:09<00:00,  3.78it/s]\n"
          ],
          "name": "stderr"
        },
        {
          "output_type": "stream",
          "text": [
            "Val   - Epoch: 32, Precision: 0.9128, Recall: 0.7865, F1: 0.8393\n"
          ],
          "name": "stdout"
        },
        {
          "output_type": "stream",
          "text": [
            "Train - Epoch: 33, PredLoss: 0.0047, RegLoss: 0.0000, Precision: 0.9977, Recall: 0.9965, F1: 0.9969: 100%|██████████| 115/115 [00:19<00:00,  5.79it/s]\n",
            "100%|██████████| 34/34 [00:08<00:00,  3.82it/s]\n"
          ],
          "name": "stderr"
        },
        {
          "output_type": "stream",
          "text": [
            "Val   - Epoch: 33, Precision: 0.9191, Recall: 0.8194, F1: 0.8606\n"
          ],
          "name": "stdout"
        },
        {
          "output_type": "stream",
          "text": [
            "Train - Epoch: 34, PredLoss: 0.0049, RegLoss: 0.0000, Precision: 0.9979, Recall: 0.9980, F1: 0.9978: 100%|██████████| 115/115 [00:18<00:00,  6.06it/s]\n",
            "100%|██████████| 34/34 [00:09<00:00,  3.65it/s]\n"
          ],
          "name": "stderr"
        },
        {
          "output_type": "stream",
          "text": [
            "Val   - Epoch: 34, Precision: 0.8975, Recall: 0.8309, F1: 0.8607\n"
          ],
          "name": "stdout"
        },
        {
          "output_type": "stream",
          "text": [
            "Train - Epoch: 35, PredLoss: 0.0037, RegLoss: 0.0000, Precision: 0.9938, Recall: 0.9939, F1: 0.9938: 100%|██████████| 115/115 [00:19<00:00,  5.97it/s]\n",
            "100%|██████████| 34/34 [00:08<00:00,  3.85it/s]\n"
          ],
          "name": "stderr"
        },
        {
          "output_type": "stream",
          "text": [
            "Val   - Epoch: 35, Precision: 0.8999, Recall: 0.8337, F1: 0.8632\n"
          ],
          "name": "stdout"
        },
        {
          "output_type": "stream",
          "text": [
            "Train - Epoch: 36, PredLoss: 0.0025, RegLoss: 0.0000, Precision: 0.9970, Recall: 0.9968, F1: 0.9969: 100%|██████████| 115/115 [00:19<00:00,  5.78it/s]\n",
            "100%|██████████| 34/34 [00:09<00:00,  3.60it/s]\n"
          ],
          "name": "stderr"
        },
        {
          "output_type": "stream",
          "text": [
            "Val   - Epoch: 36, Precision: 0.9116, Recall: 0.8053, F1: 0.8456\n"
          ],
          "name": "stdout"
        },
        {
          "output_type": "stream",
          "text": [
            "Train - Epoch: 37, PredLoss: 0.0036, RegLoss: 0.0000, Precision: 0.9966, Recall: 0.9968, F1: 0.9966: 100%|██████████| 115/115 [00:19<00:00,  5.95it/s]\n",
            "100%|██████████| 34/34 [00:09<00:00,  3.70it/s]\n"
          ],
          "name": "stderr"
        },
        {
          "output_type": "stream",
          "text": [
            "Val   - Epoch: 37, Precision: 0.9014, Recall: 0.8206, F1: 0.8563\n"
          ],
          "name": "stdout"
        },
        {
          "output_type": "stream",
          "text": [
            "Train - Epoch: 38, PredLoss: 0.0022, RegLoss: 0.0000, Precision: 0.9984, Recall: 0.9979, F1: 0.9981: 100%|██████████| 115/115 [00:19<00:00,  5.88it/s]\n",
            "100%|██████████| 34/34 [00:08<00:00,  3.80it/s]\n"
          ],
          "name": "stderr"
        },
        {
          "output_type": "stream",
          "text": [
            "Val   - Epoch: 38, Precision: 0.9097, Recall: 0.8131, F1: 0.8492\n"
          ],
          "name": "stdout"
        },
        {
          "output_type": "stream",
          "text": [
            "Train - Epoch: 39, PredLoss: 0.0029, RegLoss: 0.0000, Precision: 0.9968, Recall: 0.9966, F1: 0.9966: 100%|██████████| 115/115 [00:18<00:00,  6.15it/s]\n",
            "100%|██████████| 34/34 [00:09<00:00,  3.71it/s]\n"
          ],
          "name": "stderr"
        },
        {
          "output_type": "stream",
          "text": [
            "Val   - Epoch: 39, Precision: 0.9103, Recall: 0.8231, F1: 0.8559\n"
          ],
          "name": "stdout"
        },
        {
          "output_type": "stream",
          "text": [
            "Train - Epoch: 40, PredLoss: 0.0063, RegLoss: 0.0000, Precision: 0.9879, Recall: 0.9868, F1: 0.9872: 100%|██████████| 115/115 [00:19<00:00,  5.97it/s]\n",
            "100%|██████████| 34/34 [00:08<00:00,  3.85it/s]\n"
          ],
          "name": "stderr"
        },
        {
          "output_type": "stream",
          "text": [
            "Val   - Epoch: 40, Precision: 0.9078, Recall: 0.8295, F1: 0.8634\n"
          ],
          "name": "stdout"
        },
        {
          "output_type": "stream",
          "text": [
            "Train - Epoch: 41, PredLoss: 0.0033, RegLoss: 0.0000, Precision: 0.9951, Recall: 0.9952, F1: 0.9951: 100%|██████████| 115/115 [00:18<00:00,  6.18it/s]\n",
            "100%|██████████| 34/34 [00:09<00:00,  3.61it/s]\n"
          ],
          "name": "stderr"
        },
        {
          "output_type": "stream",
          "text": [
            "Val   - Epoch: 41, Precision: 0.9085, Recall: 0.8075, F1: 0.8457\n"
          ],
          "name": "stdout"
        },
        {
          "output_type": "stream",
          "text": [
            "Train - Epoch: 42, PredLoss: 0.0021, RegLoss: 0.0000, Precision: 0.9979, Recall: 0.9981, F1: 0.9979: 100%|██████████| 115/115 [00:18<00:00,  6.08it/s]\n",
            "100%|██████████| 34/34 [00:09<00:00,  3.73it/s]\n"
          ],
          "name": "stderr"
        },
        {
          "output_type": "stream",
          "text": [
            "Val   - Epoch: 42, Precision: 0.9070, Recall: 0.8371, F1: 0.8676\n"
          ],
          "name": "stdout"
        },
        {
          "output_type": "stream",
          "text": [
            "Train - Epoch: 43, PredLoss: 0.0027, RegLoss: 0.0000, Precision: 0.9964, Recall: 0.9961, F1: 0.9961: 100%|██████████| 115/115 [00:19<00:00,  5.99it/s]\n",
            "100%|██████████| 34/34 [00:09<00:00,  3.63it/s]\n"
          ],
          "name": "stderr"
        },
        {
          "output_type": "stream",
          "text": [
            "Val   - Epoch: 43, Precision: 0.9027, Recall: 0.8304, F1: 0.8607\n"
          ],
          "name": "stdout"
        },
        {
          "output_type": "stream",
          "text": [
            "Train - Epoch: 44, PredLoss: 0.0025, RegLoss: 0.0000, Precision: 0.9985, Recall: 0.9971, F1: 0.9977: 100%|██████████| 115/115 [00:19<00:00,  6.04it/s]\n",
            "100%|██████████| 34/34 [00:08<00:00,  3.82it/s]\n"
          ],
          "name": "stderr"
        },
        {
          "output_type": "stream",
          "text": [
            "Val   - Epoch: 44, Precision: 0.9072, Recall: 0.8194, F1: 0.8554\n"
          ],
          "name": "stdout"
        },
        {
          "output_type": "stream",
          "text": [
            "Train - Epoch: 45, PredLoss: 0.0035, RegLoss: 0.0000, Precision: 0.9981, Recall: 0.9969, F1: 0.9973: 100%|██████████| 115/115 [00:18<00:00,  6.08it/s]\n",
            "100%|██████████| 34/34 [00:09<00:00,  3.75it/s]\n"
          ],
          "name": "stderr"
        },
        {
          "output_type": "stream",
          "text": [
            "Val   - Epoch: 45, Precision: 0.8973, Recall: 0.8320, F1: 0.8614\n"
          ],
          "name": "stdout"
        },
        {
          "output_type": "stream",
          "text": [
            "Train - Epoch: 46, PredLoss: 0.0048, RegLoss: 0.0000, Precision: 0.9958, Recall: 0.9957, F1: 0.9956: 100%|██████████| 115/115 [00:19<00:00,  6.03it/s]\n",
            "100%|██████████| 34/34 [00:08<00:00,  3.81it/s]\n"
          ],
          "name": "stderr"
        },
        {
          "output_type": "stream",
          "text": [
            "Val   - Epoch: 46, Precision: 0.9125, Recall: 0.8183, F1: 0.8574\n"
          ],
          "name": "stdout"
        },
        {
          "output_type": "stream",
          "text": [
            "Train - Epoch: 47, PredLoss: 0.0045, RegLoss: 0.0000, Precision: 0.9960, Recall: 0.9949, F1: 0.9951: 100%|██████████| 115/115 [00:19<00:00,  5.84it/s]\n",
            "100%|██████████| 34/34 [00:08<00:00,  3.81it/s]\n"
          ],
          "name": "stderr"
        },
        {
          "output_type": "stream",
          "text": [
            "Val   - Epoch: 47, Precision: 0.9105, Recall: 0.8220, F1: 0.8603\n"
          ],
          "name": "stdout"
        },
        {
          "output_type": "stream",
          "text": [
            "Train - Epoch: 48, PredLoss: 0.0031, RegLoss: 0.0000, Precision: 0.9959, Recall: 0.9962, F1: 0.9957: 100%|██████████| 115/115 [00:20<00:00,  5.61it/s]\n",
            "100%|██████████| 34/34 [00:09<00:00,  3.72it/s]\n"
          ],
          "name": "stderr"
        },
        {
          "output_type": "stream",
          "text": [
            "Val   - Epoch: 48, Precision: 0.9239, Recall: 0.8176, F1: 0.8618\n"
          ],
          "name": "stdout"
        },
        {
          "output_type": "stream",
          "text": [
            "Train - Epoch: 49, PredLoss: 0.0026, RegLoss: 0.0000, Precision: 0.9959, Recall: 0.9965, F1: 0.9962: 100%|██████████| 115/115 [00:19<00:00,  6.04it/s]\n",
            "100%|██████████| 34/34 [00:08<00:00,  3.84it/s]\n"
          ],
          "name": "stderr"
        },
        {
          "output_type": "stream",
          "text": [
            "Val   - Epoch: 49, Precision: 0.9149, Recall: 0.8171, F1: 0.8601\n"
          ],
          "name": "stdout"
        },
        {
          "output_type": "stream",
          "text": [
            "Train - Epoch: 50, PredLoss: 0.0040, RegLoss: 0.0000, Precision: 0.9947, Recall: 0.9932, F1: 0.9939: 100%|██████████| 115/115 [00:20<00:00,  5.70it/s]\n",
            "100%|██████████| 34/34 [00:09<00:00,  3.72it/s]\n"
          ],
          "name": "stderr"
        },
        {
          "output_type": "stream",
          "text": [
            "Val   - Epoch: 50, Precision: 0.9038, Recall: 0.8259, F1: 0.8593\n"
          ],
          "name": "stdout"
        },
        {
          "output_type": "stream",
          "text": [
            "Train - Epoch: 51, PredLoss: 0.0033, RegLoss: 0.0000, Precision: 0.9960, Recall: 0.9963, F1: 0.9960: 100%|██████████| 115/115 [00:19<00:00,  5.85it/s]\n",
            "100%|██████████| 34/34 [00:08<00:00,  3.78it/s]\n"
          ],
          "name": "stderr"
        },
        {
          "output_type": "stream",
          "text": [
            "Val   - Epoch: 51, Precision: 0.9089, Recall: 0.8169, F1: 0.8572\n"
          ],
          "name": "stdout"
        },
        {
          "output_type": "stream",
          "text": [
            "Train - Epoch: 52, PredLoss: 0.0032, RegLoss: 0.0000, Precision: 0.9955, Recall: 0.9950, F1: 0.9952: 100%|██████████| 115/115 [00:20<00:00,  5.62it/s]\n",
            "100%|██████████| 34/34 [00:09<00:00,  3.58it/s]\n"
          ],
          "name": "stderr"
        },
        {
          "output_type": "stream",
          "text": [
            "Val   - Epoch: 52, Precision: 0.9193, Recall: 0.8267, F1: 0.8654\n"
          ],
          "name": "stdout"
        },
        {
          "output_type": "stream",
          "text": [
            "Train - Epoch: 53, PredLoss: 0.0023, RegLoss: 0.0000, Precision: 0.9979, Recall: 0.9976, F1: 0.9976: 100%|██████████| 115/115 [00:19<00:00,  6.02it/s]\n",
            "100%|██████████| 34/34 [00:09<00:00,  3.64it/s]\n"
          ],
          "name": "stderr"
        },
        {
          "output_type": "stream",
          "text": [
            "Val   - Epoch: 53, Precision: 0.9011, Recall: 0.8271, F1: 0.8595\n"
          ],
          "name": "stdout"
        },
        {
          "output_type": "stream",
          "text": [
            "Train - Epoch: 54, PredLoss: 0.0056, RegLoss: 0.0000, Precision: 0.9954, Recall: 0.9954, F1: 0.9952: 100%|██████████| 115/115 [00:19<00:00,  5.94it/s]\n",
            "100%|██████████| 34/34 [00:09<00:00,  3.64it/s]\n"
          ],
          "name": "stderr"
        },
        {
          "output_type": "stream",
          "text": [
            "Val   - Epoch: 54, Precision: 0.9134, Recall: 0.8420, F1: 0.8727\n"
          ],
          "name": "stdout"
        },
        {
          "output_type": "stream",
          "text": [
            "Train - Epoch: 55, PredLoss: 0.0022, RegLoss: 0.0000, Precision: 0.9963, Recall: 0.9962, F1: 0.9961: 100%|██████████| 115/115 [00:19<00:00,  5.90it/s]\n",
            "100%|██████████| 34/34 [00:09<00:00,  3.60it/s]\n"
          ],
          "name": "stderr"
        },
        {
          "output_type": "stream",
          "text": [
            "Val   - Epoch: 55, Precision: 0.9133, Recall: 0.8292, F1: 0.8658\n"
          ],
          "name": "stdout"
        },
        {
          "output_type": "stream",
          "text": [
            "Train - Epoch: 56, PredLoss: 0.0015, RegLoss: 0.0000, Precision: 0.9971, Recall: 0.9970, F1: 0.9970: 100%|██████████| 115/115 [00:19<00:00,  5.88it/s]\n",
            "100%|██████████| 34/34 [00:08<00:00,  3.82it/s]\n"
          ],
          "name": "stderr"
        },
        {
          "output_type": "stream",
          "text": [
            "Val   - Epoch: 56, Precision: 0.9128, Recall: 0.8320, F1: 0.8664\n"
          ],
          "name": "stdout"
        },
        {
          "output_type": "stream",
          "text": [
            "Train - Epoch: 57, PredLoss: 0.0024, RegLoss: 0.0000, Precision: 0.9996, Recall: 0.9989, F1: 0.9991: 100%|██████████| 115/115 [00:19<00:00,  5.85it/s]\n",
            "100%|██████████| 34/34 [00:09<00:00,  3.66it/s]\n"
          ],
          "name": "stderr"
        },
        {
          "output_type": "stream",
          "text": [
            "Val   - Epoch: 57, Precision: 0.9157, Recall: 0.8364, F1: 0.8692\n"
          ],
          "name": "stdout"
        },
        {
          "output_type": "stream",
          "text": [
            "Train - Epoch: 58, PredLoss: 0.0013, RegLoss: 0.0000, Precision: 0.9999, Recall: 0.9997, F1: 0.9998: 100%|██████████| 115/115 [00:18<00:00,  6.09it/s]\n",
            "100%|██████████| 34/34 [00:09<00:00,  3.66it/s]\n"
          ],
          "name": "stderr"
        },
        {
          "output_type": "stream",
          "text": [
            "Val   - Epoch: 58, Precision: 0.9024, Recall: 0.8369, F1: 0.8661\n"
          ],
          "name": "stdout"
        },
        {
          "output_type": "stream",
          "text": [
            "Train - Epoch: 59, PredLoss: 0.0019, RegLoss: 0.0000, Precision: 0.9943, Recall: 0.9946, F1: 0.9944: 100%|██████████| 115/115 [00:19<00:00,  5.89it/s]\n",
            "100%|██████████| 34/34 [00:09<00:00,  3.73it/s]\n"
          ],
          "name": "stderr"
        },
        {
          "output_type": "stream",
          "text": [
            "Val   - Epoch: 59, Precision: 0.8882, Recall: 0.8315, F1: 0.8573\n"
          ],
          "name": "stdout"
        },
        {
          "output_type": "stream",
          "text": [
            "Train - Epoch: 60, PredLoss: 0.0037, RegLoss: 0.0000, Precision: 0.9991, Recall: 0.9988, F1: 0.9989: 100%|██████████| 115/115 [00:18<00:00,  6.21it/s]\n",
            "100%|██████████| 34/34 [00:09<00:00,  3.57it/s]\n"
          ],
          "name": "stderr"
        },
        {
          "output_type": "stream",
          "text": [
            "Val   - Epoch: 60, Precision: 0.9019, Recall: 0.8316, F1: 0.8620\n"
          ],
          "name": "stdout"
        },
        {
          "output_type": "stream",
          "text": [
            "Train - Epoch: 61, PredLoss: 0.0025, RegLoss: 0.0000, Precision: 0.9985, Recall: 0.9978, F1: 0.9981: 100%|██████████| 115/115 [00:19<00:00,  6.02it/s]\n",
            "100%|██████████| 34/34 [00:08<00:00,  3.90it/s]\n"
          ],
          "name": "stderr"
        },
        {
          "output_type": "stream",
          "text": [
            "Val   - Epoch: 61, Precision: 0.9002, Recall: 0.8326, F1: 0.8619\n"
          ],
          "name": "stdout"
        },
        {
          "output_type": "stream",
          "text": [
            "Train - Epoch: 62, PredLoss: 0.0021, RegLoss: 0.0000, Precision: 0.9996, Recall: 0.9989, F1: 0.9991: 100%|██████████| 115/115 [00:19<00:00,  5.90it/s]\n",
            "100%|██████████| 34/34 [00:08<00:00,  3.79it/s]\n"
          ],
          "name": "stderr"
        },
        {
          "output_type": "stream",
          "text": [
            "Val   - Epoch: 62, Precision: 0.8866, Recall: 0.8325, F1: 0.8551\n"
          ],
          "name": "stdout"
        },
        {
          "output_type": "stream",
          "text": [
            "Train - Epoch: 63, PredLoss: 0.0022, RegLoss: 0.0000, Precision: 0.9996, Recall: 0.9993, F1: 0.9994: 100%|██████████| 115/115 [00:19<00:00,  5.99it/s]\n",
            "100%|██████████| 34/34 [00:09<00:00,  3.61it/s]\n"
          ],
          "name": "stderr"
        },
        {
          "output_type": "stream",
          "text": [
            "Val   - Epoch: 63, Precision: 0.8986, Recall: 0.8307, F1: 0.8601\n"
          ],
          "name": "stdout"
        },
        {
          "output_type": "stream",
          "text": [
            "Train - Epoch: 64, PredLoss: 0.0014, RegLoss: 0.0000, Precision: 0.9985, Recall: 0.9985, F1: 0.9985: 100%|██████████| 115/115 [00:18<00:00,  6.25it/s]\n",
            "100%|██████████| 34/34 [00:08<00:00,  3.79it/s]\n"
          ],
          "name": "stderr"
        },
        {
          "output_type": "stream",
          "text": [
            "Val   - Epoch: 64, Precision: 0.9090, Recall: 0.8314, F1: 0.8637\n"
          ],
          "name": "stdout"
        },
        {
          "output_type": "stream",
          "text": [
            "Train - Epoch: 65, PredLoss: 0.0011, RegLoss: 0.0000, Precision: 0.9997, Recall: 0.9996, F1: 0.9996: 100%|██████████| 115/115 [00:19<00:00,  6.00it/s]\n",
            "100%|██████████| 34/34 [00:08<00:00,  3.80it/s]\n"
          ],
          "name": "stderr"
        },
        {
          "output_type": "stream",
          "text": [
            "Val   - Epoch: 65, Precision: 0.9061, Recall: 0.8397, F1: 0.8678\n"
          ],
          "name": "stdout"
        },
        {
          "output_type": "stream",
          "text": [
            "Train - Epoch: 66, PredLoss: 0.0011, RegLoss: 0.0000, Precision: 0.9984, Recall: 0.9984, F1: 0.9984: 100%|██████████| 115/115 [00:19<00:00,  5.98it/s]\n",
            "100%|██████████| 34/34 [00:08<00:00,  3.80it/s]\n"
          ],
          "name": "stderr"
        },
        {
          "output_type": "stream",
          "text": [
            "Val   - Epoch: 66, Precision: 0.9105, Recall: 0.8249, F1: 0.8606\n"
          ],
          "name": "stdout"
        },
        {
          "output_type": "stream",
          "text": [
            "Train - Epoch: 67, PredLoss: 0.0017, RegLoss: 0.0000, Precision: 0.9982, Recall: 0.9983, F1: 0.9982: 100%|██████████| 115/115 [00:19<00:00,  5.75it/s]\n",
            "100%|██████████| 34/34 [00:09<00:00,  3.76it/s]\n"
          ],
          "name": "stderr"
        },
        {
          "output_type": "stream",
          "text": [
            "Val   - Epoch: 67, Precision: 0.9047, Recall: 0.8254, F1: 0.8593\n"
          ],
          "name": "stdout"
        },
        {
          "output_type": "stream",
          "text": [
            "Train - Epoch: 68, PredLoss: 0.0016, RegLoss: 0.0000, Precision: 0.9987, Recall: 0.9978, F1: 0.9982: 100%|██████████| 115/115 [00:18<00:00,  6.18it/s]\n",
            "100%|██████████| 34/34 [00:09<00:00,  3.73it/s]\n"
          ],
          "name": "stderr"
        },
        {
          "output_type": "stream",
          "text": [
            "Val   - Epoch: 68, Precision: 0.9180, Recall: 0.8389, F1: 0.8723\n"
          ],
          "name": "stdout"
        },
        {
          "output_type": "stream",
          "text": [
            "Train - Epoch: 69, PredLoss: 0.0005, RegLoss: 0.0000, Precision: 0.9999, Recall: 1.0000, F1: 0.9999: 100%|██████████| 115/115 [00:18<00:00,  6.08it/s]\n",
            "100%|██████████| 34/34 [00:08<00:00,  3.78it/s]\n"
          ],
          "name": "stderr"
        },
        {
          "output_type": "stream",
          "text": [
            "Val   - Epoch: 69, Precision: 0.9061, Recall: 0.8299, F1: 0.8631\n"
          ],
          "name": "stdout"
        },
        {
          "output_type": "stream",
          "text": [
            "Train - Epoch: 70, PredLoss: 0.0008, RegLoss: 0.0000, Precision: 0.9999, Recall: 0.9995, F1: 0.9997: 100%|██████████| 115/115 [00:19<00:00,  6.04it/s]\n",
            "100%|██████████| 34/34 [00:09<00:00,  3.65it/s]\n"
          ],
          "name": "stderr"
        },
        {
          "output_type": "stream",
          "text": [
            "Val   - Epoch: 70, Precision: 0.9056, Recall: 0.8461, F1: 0.8712\n"
          ],
          "name": "stdout"
        },
        {
          "output_type": "stream",
          "text": [
            "Train - Epoch: 71, PredLoss: 0.0011, RegLoss: 0.0000, Precision: 0.9998, Recall: 0.9990, F1: 0.9993: 100%|██████████| 115/115 [00:19<00:00,  5.87it/s]\n",
            "100%|██████████| 34/34 [00:09<00:00,  3.77it/s]\n"
          ],
          "name": "stderr"
        },
        {
          "output_type": "stream",
          "text": [
            "Val   - Epoch: 71, Precision: 0.9071, Recall: 0.8227, F1: 0.8587\n"
          ],
          "name": "stdout"
        },
        {
          "output_type": "stream",
          "text": [
            "Train - Epoch: 72, PredLoss: 0.0005, RegLoss: 0.0000, Precision: 1.0000, Recall: 0.9997, F1: 0.9998: 100%|██████████| 115/115 [00:19<00:00,  5.83it/s]\n",
            "100%|██████████| 34/34 [00:09<00:00,  3.69it/s]\n"
          ],
          "name": "stderr"
        },
        {
          "output_type": "stream",
          "text": [
            "Val   - Epoch: 72, Precision: 0.9097, Recall: 0.8356, F1: 0.8663\n"
          ],
          "name": "stdout"
        },
        {
          "output_type": "stream",
          "text": [
            "Train - Epoch: 73, PredLoss: 0.0004, RegLoss: 0.0000, Precision: 0.9998, Recall: 1.0000, F1: 0.9999: 100%|██████████| 115/115 [00:19<00:00,  5.81it/s]\n",
            "100%|██████████| 34/34 [00:09<00:00,  3.68it/s]\n"
          ],
          "name": "stderr"
        },
        {
          "output_type": "stream",
          "text": [
            "Val   - Epoch: 73, Precision: 0.9046, Recall: 0.8372, F1: 0.8646\n"
          ],
          "name": "stdout"
        },
        {
          "output_type": "stream",
          "text": [
            "Train - Epoch: 74, PredLoss: 0.0021, RegLoss: 0.0000, Precision: 0.9953, Recall: 0.9956, F1: 0.9954: 100%|██████████| 115/115 [00:19<00:00,  5.88it/s]\n",
            "100%|██████████| 34/34 [00:09<00:00,  3.73it/s]\n"
          ],
          "name": "stderr"
        },
        {
          "output_type": "stream",
          "text": [
            "Val   - Epoch: 74, Precision: 0.9188, Recall: 0.8224, F1: 0.8636\n"
          ],
          "name": "stdout"
        },
        {
          "output_type": "stream",
          "text": [
            "Train - Epoch: 75, PredLoss: 0.0040, RegLoss: 0.0000, Precision: 0.9902, Recall: 0.9898, F1: 0.9899: 100%|██████████| 115/115 [00:19<00:00,  6.04it/s]\n",
            "100%|██████████| 34/34 [00:09<00:00,  3.74it/s]\n"
          ],
          "name": "stderr"
        },
        {
          "output_type": "stream",
          "text": [
            "Val   - Epoch: 75, Precision: 0.8900, Recall: 0.8246, F1: 0.8513\n"
          ],
          "name": "stdout"
        },
        {
          "output_type": "stream",
          "text": [
            "Train - Epoch: 76, PredLoss: 0.0071, RegLoss: 0.0000, Precision: 0.9943, Recall: 0.9940, F1: 0.9938: 100%|██████████| 115/115 [00:18<00:00,  6.12it/s]\n",
            "100%|██████████| 34/34 [00:08<00:00,  3.82it/s]\n"
          ],
          "name": "stderr"
        },
        {
          "output_type": "stream",
          "text": [
            "Val   - Epoch: 76, Precision: 0.8856, Recall: 0.8522, F1: 0.8665\n"
          ],
          "name": "stdout"
        },
        {
          "output_type": "stream",
          "text": [
            "Train - Epoch: 77, PredLoss: 0.0039, RegLoss: 0.0000, Precision: 0.9947, Recall: 0.9951, F1: 0.9948: 100%|██████████| 115/115 [00:19<00:00,  5.94it/s]\n",
            "100%|██████████| 34/34 [00:09<00:00,  3.56it/s]\n"
          ],
          "name": "stderr"
        },
        {
          "output_type": "stream",
          "text": [
            "Val   - Epoch: 77, Precision: 0.9233, Recall: 0.8328, F1: 0.8665\n"
          ],
          "name": "stdout"
        },
        {
          "output_type": "stream",
          "text": [
            "Train - Epoch: 78, PredLoss: 0.0024, RegLoss: 0.0000, Precision: 0.9963, Recall: 0.9958, F1: 0.9959: 100%|██████████| 115/115 [00:19<00:00,  5.76it/s]\n",
            "100%|██████████| 34/34 [00:08<00:00,  3.80it/s]\n"
          ],
          "name": "stderr"
        },
        {
          "output_type": "stream",
          "text": [
            "Val   - Epoch: 78, Precision: 0.9118, Recall: 0.8479, F1: 0.8734\n"
          ],
          "name": "stdout"
        },
        {
          "output_type": "stream",
          "text": [
            "Train - Epoch: 79, PredLoss: 0.0011, RegLoss: 0.0000, Precision: 0.9983, Recall: 0.9977, F1: 0.9978: 100%|██████████| 115/115 [00:19<00:00,  6.03it/s]\n",
            "100%|██████████| 34/34 [00:08<00:00,  3.83it/s]\n"
          ],
          "name": "stderr"
        },
        {
          "output_type": "stream",
          "text": [
            "Val   - Epoch: 79, Precision: 0.9252, Recall: 0.8499, F1: 0.8794\n"
          ],
          "name": "stdout"
        },
        {
          "output_type": "stream",
          "text": [
            "Train - Epoch: 80, PredLoss: 0.0008, RegLoss: 0.0000, Precision: 0.9998, Recall: 0.9998, F1: 0.9998: 100%|██████████| 115/115 [00:19<00:00,  5.85it/s]\n",
            "100%|██████████| 34/34 [00:09<00:00,  3.57it/s]\n"
          ],
          "name": "stderr"
        },
        {
          "output_type": "stream",
          "text": [
            "Val   - Epoch: 80, Precision: 0.9206, Recall: 0.8368, F1: 0.8707\n"
          ],
          "name": "stdout"
        },
        {
          "output_type": "stream",
          "text": [
            "Train - Epoch: 81, PredLoss: 0.0005, RegLoss: 0.0000, Precision: 0.9998, Recall: 0.9998, F1: 0.9998: 100%|██████████| 115/115 [00:19<00:00,  5.89it/s]\n",
            "100%|██████████| 34/34 [00:09<00:00,  3.71it/s]\n"
          ],
          "name": "stderr"
        },
        {
          "output_type": "stream",
          "text": [
            "Val   - Epoch: 81, Precision: 0.9209, Recall: 0.8372, F1: 0.8710\n"
          ],
          "name": "stdout"
        },
        {
          "output_type": "stream",
          "text": [
            "Train - Epoch: 82, PredLoss: 0.0010, RegLoss: 0.0000, Precision: 0.9997, Recall: 0.9997, F1: 0.9997: 100%|██████████| 115/115 [00:20<00:00,  5.56it/s]\n",
            "100%|██████████| 34/34 [00:09<00:00,  3.65it/s]\n"
          ],
          "name": "stderr"
        },
        {
          "output_type": "stream",
          "text": [
            "Val   - Epoch: 82, Precision: 0.9164, Recall: 0.8264, F1: 0.8636\n"
          ],
          "name": "stdout"
        },
        {
          "output_type": "stream",
          "text": [
            "Train - Epoch: 83, PredLoss: 0.0007, RegLoss: 0.0000, Precision: 0.9998, Recall: 0.9997, F1: 0.9998: 100%|██████████| 115/115 [00:20<00:00,  5.73it/s]\n",
            "100%|██████████| 34/34 [00:09<00:00,  3.64it/s]\n"
          ],
          "name": "stderr"
        },
        {
          "output_type": "stream",
          "text": [
            "Val   - Epoch: 83, Precision: 0.9293, Recall: 0.8363, F1: 0.8744\n"
          ],
          "name": "stdout"
        },
        {
          "output_type": "stream",
          "text": [
            "Train - Epoch: 84, PredLoss: 0.0011, RegLoss: 0.0000, Precision: 0.9993, Recall: 0.9996, F1: 0.9995: 100%|██████████| 115/115 [00:19<00:00,  5.76it/s]\n",
            "100%|██████████| 34/34 [00:09<00:00,  3.66it/s]\n"
          ],
          "name": "stderr"
        },
        {
          "output_type": "stream",
          "text": [
            "Val   - Epoch: 84, Precision: 0.9282, Recall: 0.8361, F1: 0.8742\n"
          ],
          "name": "stdout"
        },
        {
          "output_type": "stream",
          "text": [
            "Train - Epoch: 85, PredLoss: 0.0007, RegLoss: 0.0000, Precision: 0.9997, Recall: 0.9998, F1: 0.9998: 100%|██████████| 115/115 [00:19<00:00,  5.76it/s]\n",
            "100%|██████████| 34/34 [00:09<00:00,  3.53it/s]\n"
          ],
          "name": "stderr"
        },
        {
          "output_type": "stream",
          "text": [
            "Val   - Epoch: 85, Precision: 0.9219, Recall: 0.8257, F1: 0.8660\n"
          ],
          "name": "stdout"
        },
        {
          "output_type": "stream",
          "text": [
            "Train - Epoch: 86, PredLoss: 0.0009, RegLoss: 0.0000, Precision: 0.9998, Recall: 0.9998, F1: 0.9998: 100%|██████████| 115/115 [00:20<00:00,  5.63it/s]\n",
            "100%|██████████| 34/34 [00:09<00:00,  3.65it/s]\n"
          ],
          "name": "stderr"
        },
        {
          "output_type": "stream",
          "text": [
            "Val   - Epoch: 86, Precision: 0.9118, Recall: 0.8396, F1: 0.8683\n"
          ],
          "name": "stdout"
        },
        {
          "output_type": "stream",
          "text": [
            "Train - Epoch: 87, PredLoss: 0.0011, RegLoss: 0.0000, Precision: 0.9996, Recall: 0.9996, F1: 0.9996: 100%|██████████| 115/115 [00:20<00:00,  5.74it/s]\n",
            "100%|██████████| 34/34 [00:09<00:00,  3.57it/s]\n"
          ],
          "name": "stderr"
        },
        {
          "output_type": "stream",
          "text": [
            "Val   - Epoch: 87, Precision: 0.9191, Recall: 0.8355, F1: 0.8695\n"
          ],
          "name": "stdout"
        },
        {
          "output_type": "stream",
          "text": [
            "Train - Epoch: 88, PredLoss: 0.0010, RegLoss: 0.0000, Precision: 0.9984, Recall: 0.9983, F1: 0.9983: 100%|██████████| 115/115 [00:21<00:00,  5.47it/s]\n",
            "100%|██████████| 34/34 [00:09<00:00,  3.48it/s]\n"
          ],
          "name": "stderr"
        },
        {
          "output_type": "stream",
          "text": [
            "Val   - Epoch: 88, Precision: 0.9017, Recall: 0.8382, F1: 0.8658\n"
          ],
          "name": "stdout"
        },
        {
          "output_type": "stream",
          "text": [
            "Train - Epoch: 89, PredLoss: 0.0021, RegLoss: 0.0000, Precision: 0.9952, Recall: 0.9959, F1: 0.9955: 100%|██████████| 115/115 [00:20<00:00,  5.63it/s]\n",
            "100%|██████████| 34/34 [00:09<00:00,  3.58it/s]\n"
          ],
          "name": "stderr"
        },
        {
          "output_type": "stream",
          "text": [
            "Val   - Epoch: 89, Precision: 0.9004, Recall: 0.8163, F1: 0.8521\n"
          ],
          "name": "stdout"
        },
        {
          "output_type": "stream",
          "text": [
            "Train - Epoch: 90, PredLoss: 0.0009, RegLoss: 0.0000, Precision: 0.9983, Recall: 0.9984, F1: 0.9983: 100%|██████████| 115/115 [00:19<00:00,  5.76it/s]\n",
            "100%|██████████| 34/34 [00:09<00:00,  3.50it/s]\n"
          ],
          "name": "stderr"
        },
        {
          "output_type": "stream",
          "text": [
            "Val   - Epoch: 90, Precision: 0.8981, Recall: 0.8470, F1: 0.8672\n"
          ],
          "name": "stdout"
        },
        {
          "output_type": "stream",
          "text": [
            "Train - Epoch: 91, PredLoss: 0.0009, RegLoss: 0.0000, Precision: 0.9997, Recall: 0.9996, F1: 0.9996: 100%|██████████| 115/115 [00:20<00:00,  5.59it/s]\n",
            "100%|██████████| 34/34 [00:09<00:00,  3.63it/s]\n"
          ],
          "name": "stderr"
        },
        {
          "output_type": "stream",
          "text": [
            "Val   - Epoch: 91, Precision: 0.9210, Recall: 0.8245, F1: 0.8644\n"
          ],
          "name": "stdout"
        },
        {
          "output_type": "stream",
          "text": [
            "Train - Epoch: 92, PredLoss: 0.0005, RegLoss: 0.0000, Precision: 1.0000, Recall: 0.9999, F1: 0.9999: 100%|██████████| 115/115 [00:20<00:00,  5.69it/s]\n",
            "100%|██████████| 34/34 [00:09<00:00,  3.64it/s]\n"
          ],
          "name": "stderr"
        },
        {
          "output_type": "stream",
          "text": [
            "Val   - Epoch: 92, Precision: 0.9161, Recall: 0.8254, F1: 0.8635\n"
          ],
          "name": "stdout"
        },
        {
          "output_type": "stream",
          "text": [
            "Train - Epoch: 93, PredLoss: 0.0005, RegLoss: 0.0000, Precision: 0.9998, Recall: 1.0000, F1: 0.9999: 100%|██████████| 115/115 [00:20<00:00,  5.63it/s]\n",
            "100%|██████████| 34/34 [00:09<00:00,  3.62it/s]\n"
          ],
          "name": "stderr"
        },
        {
          "output_type": "stream",
          "text": [
            "Val   - Epoch: 93, Precision: 0.9135, Recall: 0.8316, F1: 0.8648\n"
          ],
          "name": "stdout"
        },
        {
          "output_type": "stream",
          "text": [
            "Train - Epoch: 94, PredLoss: 0.0057, RegLoss: 0.0000, Precision: 0.9971, Recall: 0.9975, F1: 0.9971: 100%|██████████| 115/115 [00:20<00:00,  5.69it/s]\n",
            "100%|██████████| 34/34 [00:09<00:00,  3.48it/s]\n"
          ],
          "name": "stderr"
        },
        {
          "output_type": "stream",
          "text": [
            "Val   - Epoch: 94, Precision: 0.9203, Recall: 0.8121, F1: 0.8578\n"
          ],
          "name": "stdout"
        },
        {
          "output_type": "stream",
          "text": [
            "Train - Epoch: 95, PredLoss: 0.0068, RegLoss: 0.0000, Precision: 0.9960, Recall: 0.9955, F1: 0.9955: 100%|██████████| 115/115 [00:20<00:00,  5.54it/s]\n",
            "100%|██████████| 34/34 [00:09<00:00,  3.56it/s]\n"
          ],
          "name": "stderr"
        },
        {
          "output_type": "stream",
          "text": [
            "Val   - Epoch: 95, Precision: 0.9189, Recall: 0.8164, F1: 0.8568\n"
          ],
          "name": "stdout"
        },
        {
          "output_type": "stream",
          "text": [
            "Train - Epoch: 96, PredLoss: 0.0031, RegLoss: 0.0000, Precision: 0.9970, Recall: 0.9966, F1: 0.9968: 100%|██████████| 115/115 [00:20<00:00,  5.72it/s]\n",
            "100%|██████████| 34/34 [00:09<00:00,  3.42it/s]\n"
          ],
          "name": "stderr"
        },
        {
          "output_type": "stream",
          "text": [
            "Val   - Epoch: 96, Precision: 0.8974, Recall: 0.8074, F1: 0.8450\n"
          ],
          "name": "stdout"
        },
        {
          "output_type": "stream",
          "text": [
            "Train - Epoch: 97, PredLoss: 0.0031, RegLoss: 0.0000, Precision: 0.9991, Recall: 0.9991, F1: 0.9990: 100%|██████████| 115/115 [00:21<00:00,  5.39it/s]\n",
            "100%|██████████| 34/34 [00:09<00:00,  3.56it/s]\n"
          ],
          "name": "stderr"
        },
        {
          "output_type": "stream",
          "text": [
            "Val   - Epoch: 97, Precision: 0.9089, Recall: 0.8113, F1: 0.8508\n"
          ],
          "name": "stdout"
        },
        {
          "output_type": "stream",
          "text": [
            "Train - Epoch: 98, PredLoss: 0.0013, RegLoss: 0.0000, Precision: 0.9997, Recall: 0.9998, F1: 0.9997: 100%|██████████| 115/115 [00:21<00:00,  5.42it/s]\n",
            "100%|██████████| 34/34 [00:09<00:00,  3.62it/s]\n"
          ],
          "name": "stderr"
        },
        {
          "output_type": "stream",
          "text": [
            "Val   - Epoch: 98, Precision: 0.9042, Recall: 0.8114, F1: 0.8505\n"
          ],
          "name": "stdout"
        },
        {
          "output_type": "stream",
          "text": [
            "Train - Epoch: 99, PredLoss: 0.0006, RegLoss: 0.0000, Precision: 0.9995, Recall: 0.9998, F1: 0.9996: 100%|██████████| 115/115 [00:20<00:00,  5.66it/s]\n",
            "100%|██████████| 34/34 [00:09<00:00,  3.67it/s]\n"
          ],
          "name": "stderr"
        },
        {
          "output_type": "stream",
          "text": [
            "Val   - Epoch: 99, Precision: 0.9044, Recall: 0.8151, F1: 0.8520\n"
          ],
          "name": "stdout"
        }
      ]
    },
    {
      "cell_type": "markdown",
      "metadata": {
        "id": "lTYJyTZLcIoJ"
      },
      "source": [
        "## Results\n",
        "\n",
        "Show how our model did throughout the training process."
      ]
    },
    {
      "cell_type": "code",
      "metadata": {
        "id": "ET2FHHVW957n",
        "outputId": "dbf1a490-bd2a-4866-e05f-fd3462e08512",
        "colab": {
          "base_uri": "https://localhost:8080/",
          "height": 312
        }
      },
      "source": [
        "plt.title('Loss')\n",
        "plt.xlabel('Epochs')\n",
        "plt.ylabel('Loss')\n",
        "plt.plot(losses[0], label='train')\n",
        "plt.plot(losses[1], label='val')\n",
        "plt.legend()\n",
        "plt.show()\n",
        "print('Final Validation Loss: {:.4f}'.format(losses[1][-1]))"
      ],
      "execution_count": 64,
      "outputs": [
        {
          "output_type": "display_data",
          "data": {
            "image/png": "[encoded data removed]",
            "text/plain": [
              "<Figure size 432x288 with 1 Axes>"
            ]
          },
          "metadata": {
            "tags": [],
            "needs_background": "light"
          }
        },
        {
          "output_type": "stream",
          "text": [
            "Final Validation Loss: 0.1730\n"
          ],
          "name": "stdout"
        }
      ]
    },
    {
      "cell_type": "code",
      "metadata": {
        "id": "8OHunu4792FZ",
        "outputId": "5044ea2e-89d2-4658-a0e4-01af0a26182f",
        "colab": {
          "base_uri": "https://localhost:8080/",
          "height": 312
        }
      },
      "source": [
        "plt.title('Precision')\n",
        "plt.xlabel('Epochs')\n",
        "plt.ylabel('Precision')\n",
        "plt.plot(precisions[0], label='train')\n",
        "plt.plot(precisions[1], label='val')\n",
        "plt.legend()\n",
        "plt.show()\n",
        "print('Final Validation Precision: {:.2f}%'.format(precisions[1][-1] * 100))"
      ],
      "execution_count": 65,
      "outputs": [
        {
          "output_type": "display_data",
          "data": {
            "image/png": "[encoded data removed]",
            "text/plain": [
              "<Figure size 432x288 with 1 Axes>"
            ]
          },
          "metadata": {
            "tags": [],
            "needs_background": "light"
          }
        },
        {
          "output_type": "stream",
          "text": [
            "Final Validation Precision: 87.86%\n"
          ],
          "name": "stdout"
        }
      ]
    },
    {
      "cell_type": "code",
      "metadata": {
        "id": "WjJ4eGjhraiR",
        "outputId": "e5822586-0c5e-4741-838b-d42fb00aa5d5",
        "colab": {
          "base_uri": "https://localhost:8080/",
          "height": 312
        }
      },
      "source": [
        "plt.title('Recall')\n",
        "plt.xlabel('Epochs')\n",
        "plt.ylabel('Precision')\n",
        "plt.plot(recalls[0], label='train')\n",
        "plt.plot(recalls[1], label='val')\n",
        "plt.legend()\n",
        "plt.show()\n",
        "print('Final Validation Recall: {:.2f}%'.format(recalls[1][-1] * 100))"
      ],
      "execution_count": 66,
      "outputs": [
        {
          "output_type": "display_data",
          "data": {
            "image/png": "[encoded data removed]",
            "text/plain": [
              "<Figure size 432x288 with 1 Axes>"
            ]
          },
          "metadata": {
            "tags": [],
            "needs_background": "light"
          }
        },
        {
          "output_type": "stream",
          "text": [
            "Final Validation Recall: 87.27%\n"
          ],
          "name": "stdout"
        }
      ]
    },
    {
      "cell_type": "code",
      "metadata": {
        "id": "Rj5q2Hnmram9",
        "outputId": "bd226734-32ce-4d7e-9d7d-16fba5ca1851",
        "colab": {
          "base_uri": "https://localhost:8080/",
          "height": 312
        }
      },
      "source": [
        "plt.title('F1')\n",
        "plt.xlabel('Epochs')\n",
        "plt.ylabel('F1')\n",
        "plt.plot(f1s[0], label='train')\n",
        "plt.plot(f1s[1], label='val')\n",
        "plt.legend()\n",
        "plt.show()\n",
        "print('Final Validation F1: {:.2f}%'.format(f1s[1][-1] * 100))"
      ],
      "execution_count": 67,
      "outputs": [
        {
          "output_type": "display_data",
          "data": {
            "image/png": "[encoded data removed]",
            "text/plain": [
              "<Figure size 432x288 with 1 Axes>"
            ]
          },
          "metadata": {
            "tags": [],
            "needs_background": "light"
          }
        },
        {
          "output_type": "stream",
          "text": [
            "Final Validation F1: 86.76%\n"
          ],
          "name": "stdout"
        }
      ]
    },
    {
      "cell_type": "markdown",
      "metadata": {
        "id": "j90cuaIRtkhD"
      },
      "source": [
        "## Examples and Confusion Matrix\n",
        "\n",
        "* Show the final confusion matrix on the validation set.\n",
        "* Show a couple examples of the model classifying text."
      ]
    },
    {
      "cell_type": "code",
      "metadata": {
        "id": "vk7QRD7_zGdI",
        "outputId": "d0402229-1265-400c-b020-5baaa7d295e1",
        "colab": {
          "base_uri": "https://localhost:8080/"
        }
      },
      "source": [
        ""
      ],
      "execution_count": 172,
      "outputs": [
        {
          "output_type": "execute_result",
          "data": {
            "text/plain": [
              "<tf.Tensor: shape=(), dtype=int64, numpy=131>"
            ]
          },
          "metadata": {
            "tags": []
          },
          "execution_count": 172
        }
      ]
    },
    {
      "cell_type": "code",
      "metadata": {
        "id": "86kL_7Hi13Mt",
        "outputId": "d44924cf-acbc-4a29-f9b1-b5a05ad224c9",
        "colab": {
          "base_uri": "https://localhost:8080/"
        }
      },
      "source": [
        "tokenizer.sequences_to_texts([[6, 2, 3, 4]])"
      ],
      "execution_count": 185,
      "outputs": [
        {
          "output_type": "execute_result",
          "data": {
            "text/plain": [
              "['tré Fere apparous decese']"
            ]
          },
          "metadata": {
            "tags": []
          },
          "execution_count": 185
        }
      ]
    },
    {
      "cell_type": "code",
      "metadata": {
        "id": "ySwKkbDiN4XR",
        "outputId": "5697bc49-b32a-4bfb-9acc-97cec79e6c59",
        "colab": {
          "base_uri": "https://localhost:8080/"
        }
      },
      "source": [
        "sentence_size = 3\n",
        "\n",
        "batch_size = 200\n",
        "\n",
        "dataset = tf.data.Dataset.from_tensor_slices((sentences, labels))\n",
        "\n",
        "dataset_size = dataset.cardinality().numpy()\n",
        "train_dataset_size = int(dataset_size * 0.8)\n",
        "val_dataset_size = dataset_size - train_dataset_size\n",
        "\n",
        "val_dataset = dataset.skip(train_dataset_size)\\\n",
        "    .shuffle(150, reshuffle_each_iteration=True)\\\n",
        "    .take(sentence_size)\\\n",
        "    .flat_map(lambda x, y: tf.data.Dataset.from_tensor_slices((x, y)))\\\n",
        "    .batch(batch_size)\n",
        "\n",
        "y_true = []\n",
        "y_pred = []\n",
        "\n",
        "for index, (word, label) in enumerate(val_dataset):\n",
        "    output = model(word, training=False)\n",
        "    prediction = tf.squeeze(tf.argmax(output, 1)).numpy()\n",
        "    y_pred.extend(prediction)\n",
        "    label = tf.squeeze(label).numpy()\n",
        "    y_true.extend(label)\n",
        "\n",
        "    word = np.expand_dims(word.numpy(), 1)\n",
        "    str_words = tokenizer.sequences_to_texts(word)\n",
        "\n",
        "    for word, pred, actual in zip(str_words, prediction, label):\n",
        "        pred = idx2entity[pred]\n",
        "        actual = idx2entity[actual]\n",
        "        print('Word: {} - Prediction: {} - Actual: {}'.format(word, pred, actual))"
      ],
      "execution_count": 192,
      "outputs": [
        {
          "output_type": "stream",
          "text": [
            "Word: L - Prediction: Start - Actual: Start\n",
            "Word: ' - Prediction: Start - Actual: Start\n",
            "Word: an - Prediction: Start - Actual: Start\n",
            "Word: mil - Prediction: Date - Actual: Date\n",
            "Word: neuf - Prediction: Date - Actual: Date\n",
            "Word: cent - Prediction: Date - Actual: Date\n",
            "Word: treize - Prediction: Date - Actual: Date\n",
            "Word: le - Prediction: Date - Actual: Date\n",
            "Word: dix - Prediction: Date - Actual: Date\n",
            "Word: sept - Prediction: Date - Actual: Date\n",
            "Word: Janvier - Prediction: Date - Actual: Date\n",
            "Word: à - Prediction: none - Actual: none\n",
            "Word: quatre - Prediction: none - Actual: none\n",
            "Word: heures - Prediction: none - Actual: none\n",
            "Word: du - Prediction: none - Actual: none\n",
            "Word: soir - Prediction: none - Actual: none\n",
            "Word: devant - Prediction: none - Actual: none\n",
            "Word: nous - Prediction: none - Actual: none\n",
            "Word: Leymin - Prediction: none - Actual: Name\n",
            "Word: Francois - Prediction: Name - Actual: Name\n",
            "Word: , - Prediction: Name - Actual: Name\n",
            "Word: maire - Prediction: none - Actual: none\n",
            "Word: , - Prediction: none - Actual: none\n",
            "Word: officier - Prediction: none - Actual: none\n",
            "Word: de - Prediction: none - Actual: none\n",
            "Word: l - Prediction: none - Actual: none\n",
            "Word: ' - Prediction: none - Actual: none\n",
            "Word: etat - Prediction: none - Actual: none\n",
            "Word: civil - Prediction: none - Actual: none\n",
            "Word: de - Prediction: none - Actual: none\n",
            "Word: la - Prediction: none - Actual: none\n",
            "Word: commune - Prediction: Place - Actual: Place\n",
            "Word: de - Prediction: Place - Actual: Place\n",
            "Word: St - Prediction: Place - Actual: Place\n",
            "Word: Cyr - Prediction: Place - Actual: Place\n",
            "Word: sur - Prediction: Place - Actual: Place\n",
            "Word: Rhône - Prediction: Place - Actual: Place\n",
            "Word: canton - Prediction: Place - Actual: Place\n",
            "Word: de - Prediction: Place - Actual: Place\n",
            "Word: condrieu - Prediction: Place - Actual: Place\n",
            "Word: ( - Prediction: Place - Actual: Place\n",
            "Word: <OOV> - Prediction: Place - Actual: Place\n",
            "Word: ) - Prediction: Place - Actual: Place\n",
            "Word: ont - Prediction: none - Actual: none\n",
            "Word: comparu - Prediction: none - Actual: none\n",
            "Word: M - Prediction: none - Actual: none\n",
            "Word: M - Prediction: none - Actual: none\n",
            "Word: Pin - Prediction: Name - Actual: Name\n",
            "Word: Joseph - Prediction: Name - Actual: Name\n",
            "Word: cultivateur - Prediction: none - Actual: none\n",
            "Word: âgé - Prediction: none - Actual: none\n",
            "Word: de - Prediction: none - Actual: none\n",
            "Word: cinquante - Prediction: Age - Actual: Age\n",
            "Word: deux - Prediction: Age - Actual: Age\n",
            "Word: ans - Prediction: Age - Actual: Age\n",
            "Word: et - Prediction: none - Actual: none\n",
            "Word: <OOV> - Prediction: Name - Actual: Name\n",
            "Word: Paul - Prediction: Name - Actual: Name\n",
            "Word: instituteur - Prediction: Name - Actual: none\n",
            "Word: âgé - Prediction: none - Actual: none\n",
            "Word: de - Prediction: none - Actual: none\n",
            "Word: vngt - Prediction: Age - Actual: Age\n",
            "Word: sept - Prediction: Age - Actual: Age\n",
            "Word: ans - Prediction: Age - Actual: Age\n",
            "Word: tous - Prediction: none - Actual: none\n",
            "Word: deux - Prediction: none - Actual: none\n",
            "Word: domicilies - Prediction: none - Actual: none\n",
            "Word: à - Prediction: none - Actual: none\n",
            "Word: St - Prediction: Place - Actual: Place\n",
            "Word: Cyr - Prediction: Place - Actual: Place\n",
            "Word: lieu - Prediction: Place - Actual: Place\n",
            "Word: du - Prediction: Place - Actual: Place\n",
            "Word: Bourg - Prediction: Place - Actual: Place\n",
            "Word: voisin - Prediction: none - Actual: none\n",
            "Word: de - Prediction: none - Actual: none\n",
            "Word: la - Prediction: none - Actual: none\n",
            "Word: défunte - Prediction: none - Actual: none\n",
            "Word: lesquels - Prediction: none - Actual: none\n",
            "Word: nous - Prediction: none - Actual: none\n",
            "Word: ont - Prediction: none - Actual: none\n",
            "Word: déclaré - Prediction: none - Actual: none\n",
            "Word: que - Prediction: none - Actual: none\n",
            "Word: <OOV> - Prediction: PrimaryName - Actual: PrimaryName\n",
            "Word: Lardet - Prediction: none - Actual: PrimaryName\n",
            "Word: épouse - Prediction: none - Actual: none\n",
            "Word: Charles - Prediction: none - Actual: Name\n",
            "Word: Bonnefond - Prediction: Name - Actual: Name\n",
            "Word: , - Prediction: Name - Actual: Name\n",
            "Word: âgée - Prediction: none - Actual: none\n",
            "Word: de - Prediction: none - Actual: none\n",
            "Word: soixante - Prediction: Age - Actual: Age\n",
            "Word: trois - Prediction: Age - Actual: Age\n",
            "Word: ans - Prediction: Age - Actual: Age\n",
            "Word: , - Prediction: Age - Actual: Age\n",
            "Word: née - Prediction: none - Actual: none\n",
            "Word: à - Prediction: none - Actual: none\n",
            "Word: <OOV> - Prediction: Place - Actual: Place\n",
            "Word: fille - Prediction: none - Actual: none\n",
            "Word: des - Prediction: none - Actual: none\n",
            "Word: époux - Prediction: none - Actual: none\n",
            "Word: Louis - Prediction: none - Actual: Name\n",
            "Word: Lardet - Prediction: none - Actual: Name\n",
            "Word: et - Prediction: none - Actual: none\n",
            "Word: <OOV> - Prediction: none - Actual: Name\n",
            "Word: <OOV> - Prediction: Name - Actual: Name\n",
            "Word: est - Prediction: none - Actual: none\n",
            "Word: décédée - Prediction: none - Actual: none\n",
            "Word: ce - Prediction: none - Actual: none\n",
            "Word: matin - Prediction: none - Actual: none\n",
            "Word: à - Prediction: none - Actual: none\n",
            "Word: six - Prediction: none - Actual: none\n",
            "Word: heures - Prediction: none - Actual: none\n",
            "Word: dans - Prediction: none - Actual: none\n",
            "Word: son - Prediction: none - Actual: none\n",
            "Word: domicile - Prediction: none - Actual: none\n",
            "Word: lieu - Prediction: none - Actual: Place\n",
            "Word: de - Prediction: Place - Actual: Place\n",
            "Word: Curnelle - Prediction: Place - Actual: Place\n",
            "Word: Aprés - Prediction: none - Actual: none\n",
            "Word: nous - Prediction: none - Actual: none\n",
            "Word: etre - Prediction: none - Actual: none\n",
            "Word: assuré - Prediction: none - Actual: none\n",
            "Word: des - Prediction: none - Actual: none\n",
            "Word: décès - Prediction: none - Actual: none\n",
            "Word: les - Prediction: none - Actual: none\n",
            "Word: comparant - Prediction: none - Actual: none\n",
            "Word: ont - Prediction: none - Actual: none\n",
            "Word: signé - Prediction: none - Actual: none\n",
            "Word: avec - Prediction: none - Actual: none\n",
            "Word: nous - Prediction: none - Actual: none\n",
            "Word: le - Prediction: none - Actual: none\n",
            "Word: present - Prediction: none - Actual: none\n",
            "Word: acte - Prediction: none - Actual: none\n",
            "Word: apres - Prediction: none - Actual: none\n",
            "Word: lecture - Prediction: none - Actual: none\n",
            "Word: <OOV> - Prediction: none - Actual: none\n",
            "Word: ? - Prediction: none - Actual: none\n",
            "Word: Pin - Prediction: none - Actual: none\n",
            "Word: Le - Prediction: none - Actual: none\n",
            "Word: maire - Prediction: none - Actual: none\n",
            "Word: S - Prediction: none - Actual: none\n",
            "Word: Leymin - Prediction: none - Actual: none\n",
            "Word: Le - Prediction: none - Actual: Start\n",
            "Word: vingt - Prediction: Date - Actual: Date\n",
            "Word: cinq - Prediction: Date - Actual: Date\n",
            "Word: aout - Prediction: Date - Actual: Date\n",
            "Word: mil - Prediction: Date - Actual: Date\n",
            "Word: neuf - Prediction: Date - Actual: Date\n",
            "Word: cent - Prediction: Date - Actual: Date\n",
            "Word: treize - Prediction: none - Actual: Date\n",
            "Word: dix - Prediction: none - Actual: none\n",
            "Word: heures - Prediction: none - Actual: none\n",
            "Word: du - Prediction: none - Actual: none\n",
            "Word: matin - Prediction: none - Actual: none\n",
            "Word: <OOV> - Prediction: none - Actual: PrimaryName\n",
            "Word: Yvonne - Prediction: none - Actual: PrimaryName\n",
            "Word: Perrin - Prediction: none - Actual: PrimaryName\n",
            "Word: née - Prediction: none - Actual: none\n",
            "Word: en - Prediction: none - Actual: none\n",
            "Word: cette - Prediction: none - Actual: none\n",
            "Word: commune - Prediction: none - Actual: none\n",
            "Word: le - Prediction: none - Actual: none\n",
            "Word: huit - Prediction: Date - Actual: Date\n",
            "Word: avril - Prediction: Date - Actual: Date\n",
            "Word: mil - Prediction: Date - Actual: Date\n",
            "Word: neuf - Prediction: Date - Actual: Date\n",
            "Word: cent - Prediction: Date - Actual: Date\n",
            "Word: treize - Prediction: Date - Actual: Date\n",
            "Word: fille - Prediction: none - Actual: none\n",
            "Word: des - Prediction: none - Actual: none\n",
            "Word: époux - Prediction: none - Actual: none\n",
            "Word: <OOV> - Prediction: none - Actual: Name\n",
            "Word: Louis - Prediction: Name - Actual: Name\n",
            "Word: et - Prediction: none - Actual: none\n",
            "Word: Badin - Prediction: Name - Actual: Name\n",
            "Word: Claudia - Prediction: Name - Actual: Name\n",
            "Word: cultivateur - Prediction: none - Actual: none\n",
            "Word: St - Prediction: Place - Actual: Place\n",
            "Word: Cyr - Prediction: Place - Actual: Place\n",
            "Word: Rhone - Prediction: Place - Actual: Place\n",
            "Word: lieu - Prediction: Place - Actual: Place\n",
            "Word: de - Prediction: Place - Actual: Place\n",
            "Word: Remilly - Prediction: Place - Actual: Place\n",
            "Word: est - Prediction: none - Actual: none\n",
            "Word: décédée - Prediction: none - Actual: none\n",
            "Word: au - Prediction: none - Actual: none\n",
            "Word: domicile - Prediction: none - Actual: none\n",
            "Word: de - Prediction: none - Actual: none\n",
            "Word: ses - Prediction: none - Actual: none\n",
            "Word: parents - Prediction: none - Actual: none\n",
            "Word: Dressé - Prediction: none - Actual: none\n",
            "Word: le - Prediction: none - Actual: none\n",
            "Word: vingt - Prediction: Date - Actual: Date\n",
            "Word: cinq - Prediction: Date - Actual: Date\n",
            "Word: aout - Prediction: Date - Actual: Date\n",
            "Word: mil - Prediction: Date - Actual: Date\n",
            "Word: neuf - Prediction: Date - Actual: Date\n",
            "Word: cent - Prediction: Date - Actual: Date\n",
            "Word: treize - Prediction: Date - Actual: Date\n",
            "Word: quatre - Prediction: Date - Actual: none\n",
            "Word: heures - Prediction: none - Actual: none\n",
            "Word: du - Prediction: none - Actual: none\n",
            "Word: soir - Prediction: none - Actual: none\n",
            "Word: la - Prediction: none - Actual: none\n",
            "Word: déclaration - Prediction: none - Actual: none\n",
            "Word: de - Prediction: none - Actual: none\n",
            "Word: Pin - Prediction: none - Actual: Name\n",
            "Word: Joseph - Prediction: Name - Actual: Name\n",
            "Word: cultivateur - Prediction: none - Actual: none\n",
            "Word: cinquante - Prediction: Age - Actual: Age\n",
            "Word: deux - Prediction: Age - Actual: Age\n",
            "Word: ans - Prediction: Age - Actual: Age\n",
            "Word: <OOV> - Prediction: none - Actual: Name\n",
            "Word: Paul - Prediction: none - Actual: Name\n",
            "Word: instituteur - Prediction: none - Actual: none\n",
            "Word: vingt - Prediction: Age - Actual: Age\n",
            "Word: sept - Prediction: Age - Actual: Age\n",
            "Word: ans - Prediction: Age - Actual: Age\n",
            "Word: tous - Prediction: none - Actual: none\n",
            "Word: deux - Prediction: none - Actual: none\n",
            "Word: demeurant - Prediction: none - Actual: none\n",
            "Word: en - Prediction: none - Actual: none\n",
            "Word: cette - Prediction: none - Actual: none\n",
            "Word: commune - Prediction: none - Actual: none\n",
            "Word: et - Prediction: none - Actual: none\n",
            "Word: voisins - Prediction: none - Actual: none\n",
            "Word: de - Prediction: none - Actual: none\n",
            "Word: la - Prediction: none - Actual: none\n",
            "Word: défunte - Prediction: none - Actual: none\n",
            "Word: , - Prediction: none - Actual: none\n",
            "Word: les - Prediction: none - Actual: none\n",
            "Word: quels - Prediction: none - Actual: none\n",
            "Word: lecture - Prediction: none - Actual: none\n",
            "Word: faite - Prediction: none - Actual: none\n",
            "Word: ont - Prediction: none - Actual: none\n",
            "Word: signé - Prediction: none - Actual: none\n",
            "Word: avce - Prediction: none - Actual: none\n",
            "Word: nous - Prediction: none - Actual: none\n",
            "Word: francois - Prediction: none - Actual: none\n",
            "Word: Leymin - Prediction: none - Actual: none\n",
            "Word: maire - Prediction: none - Actual: none\n",
            "Word: de - Prediction: none - Actual: none\n",
            "Word: St - Prediction: Place - Actual: none\n",
            "Word: Cyr - Prediction: Place - Actual: none\n",
            "Word: sur - Prediction: Place - Actual: none\n",
            "Word: Rhône - Prediction: Place - Actual: none\n",
            "Word: <OOV> - Prediction: none - Actual: none\n",
            "Word: L - Prediction: none - Actual: none\n",
            "Word: <OOV> - Prediction: none - Actual: none\n",
            "Word: Pin - Prediction: none - Actual: none\n",
            "Word: Le - Prediction: Start - Actual: none\n",
            "Word: Maire - Prediction: none - Actual: none\n",
            "Word: S - Prediction: none - Actual: none\n",
            "Word: Leymin - Prediction: none - Actual: none\n",
            "Word: Le - Prediction: Start - Actual: Start\n",
            "Word: trente - Prediction: Date - Actual: Date\n",
            "Word: un - Prediction: Date - Actual: Date\n",
            "Word: decembre - Prediction: Date - Actual: Date\n",
            "Word: mil - Prediction: Date - Actual: Date\n",
            "Word: neuf - Prediction: Date - Actual: Date\n",
            "Word: cent - Prediction: Date - Actual: Date\n",
            "Word: huit - Prediction: none - Actual: Date\n",
            "Word: à - Prediction: none - Actual: none\n",
            "Word: minuit - Prediction: none - Actual: none\n",
            "Word: nous - Prediction: none - Actual: none\n",
            "Word: Bonnefond - Prediction: none - Actual: Name\n",
            "Word: Francisque - Prediction: Name - Actual: Name\n",
            "Word: maire - Prediction: none - Actual: none\n",
            "Word: et - Prediction: none - Actual: none\n",
            "Word: officier - Prediction: none - Actual: none\n",
            "Word: de - Prediction: none - Actual: none\n",
            "Word: l - Prediction: none - Actual: none\n",
            "Word: ' - Prediction: none - Actual: none\n",
            "Word: etat - Prediction: none - Actual: none\n",
            "Word: civil - Prediction: none - Actual: none\n",
            "Word: de - Prediction: none - Actual: none\n",
            "Word: la - Prediction: none - Actual: none\n",
            "Word: commune - Prediction: Place - Actual: Place\n",
            "Word: de - Prediction: Place - Actual: Place\n",
            "Word: St - Prediction: Place - Actual: Place\n",
            "Word: Cyr - Prediction: Place - Actual: Place\n",
            "Word: - - Prediction: Place - Actual: Place\n",
            "Word: sur - Prediction: Place - Actual: Place\n",
            "Word: - - Prediction: Place - Actual: Place\n",
            "Word: le - Prediction: Place - Actual: Place\n",
            "Word: Rhone - Prediction: Place - Actual: Place\n",
            "Word: canton - Prediction: Place - Actual: Place\n",
            "Word: de - Prediction: Place - Actual: Place\n",
            "Word: Condrieu - Prediction: Place - Actual: Place\n",
            "Word: arrondissemnet - Prediction: Place - Actual: Place\n",
            "Word: de - Prediction: Place - Actual: Place\n",
            "Word: Lyon - Prediction: Place - Actual: Place\n",
            "Word: ( - Prediction: Place - Actual: Place\n",
            "Word: Rhône - Prediction: Place - Actual: Place\n",
            "Word: ) - Prediction: Place - Actual: Place\n",
            "Word: avons - Prediction: none - Actual: none\n",
            "Word: clos - Prediction: none - Actual: none\n",
            "Word: et - Prediction: none - Actual: none\n",
            "Word: arreté - Prediction: none - Actual: none\n",
            "Word: le - Prediction: none - Actual: none\n",
            "Word: present - Prediction: none - Actual: none\n",
            "Word: registre - Prediction: none - Actual: none\n",
            "Word: contenant - Prediction: none - Actual: none\n",
            "Word: trois - Prediction: none - Actual: none\n",
            "Word: déclarations - Prediction: none - Actual: none\n",
            "Word: de - Prediction: none - Actual: none\n",
            "Word: deces - Prediction: none - Actual: none\n",
            "Word: A - Prediction: none - Actual: none\n",
            "Word: St - Prediction: none - Actual: Place\n",
            "Word: Cyr - Prediction: Place - Actual: Place\n",
            "Word: - - Prediction: Place - Actual: Place\n",
            "Word: sur - Prediction: Place - Actual: Place\n",
            "Word: - - Prediction: Place - Actual: Place\n",
            "Word: le - Prediction: Place - Actual: Place\n",
            "Word: - - Prediction: Place - Actual: Place\n",
            "Word: Rhone - Prediction: Place - Actual: Place\n",
            "Word: , - Prediction: Place - Actual: Place\n",
            "Word: le - Prediction: none - Actual: none\n",
            "Word: trente - Prediction: Date - Actual: Date\n",
            "Word: un - Prediction: Date - Actual: Date\n",
            "Word: decembre - Prediction: Date - Actual: Date\n",
            "Word: mil - Prediction: Date - Actual: Date\n",
            "Word: neuf - Prediction: Date - Actual: Date\n",
            "Word: cent - Prediction: Date - Actual: Date\n",
            "Word: huit - Prediction: Date - Actual: Date\n",
            "Word: Le - Prediction: Date - Actual: none\n",
            "Word: maire - Prediction: Date - Actual: none\n"
          ],
          "name": "stdout"
        }
      ]
    },
    {
      "cell_type": "code",
      "metadata": {
        "id": "ZrELJCogTGt8",
        "outputId": "41e2a775-8165-49b8-b8ea-bbf3f8dac979",
        "colab": {
          "base_uri": "https://localhost:8080/"
        }
      },
      "source": [
        "metrics.confusion_matrix(y_true, y_pred)"
      ],
      "execution_count": 69,
      "outputs": [
        {
          "output_type": "execute_result",
          "data": {
            "text/plain": [
              "array([[65,  0,  0,  2,  0,  0,  0],\n",
              "       [ 2,  4,  0,  0,  4,  0,  0],\n",
              "       [ 3,  0,  3,  1,  0,  0,  0],\n",
              "       [ 1,  0,  0,  2,  1,  0,  0],\n",
              "       [ 1,  1,  0,  0,  5,  0,  0],\n",
              "       [ 0,  0,  0,  1,  1,  0,  0],\n",
              "       [ 1,  0,  0,  1,  1,  0,  0]])"
            ]
          },
          "metadata": {
            "tags": []
          },
          "execution_count": 69
        }
      ]
    },
    {
      "cell_type": "code",
      "metadata": {
        "id": "AFRCgKNotpu5",
        "outputId": "05ed07d0-d50d-4c12-838b-61fe3d004f4c",
        "colab": {
          "base_uri": "https://localhost:8080/",
          "height": 232
        }
      },
      "source": [
        "# The number of examples to show how the model did\n",
        "num_examples = 10\n",
        "\n",
        "# Determine sizes for training and validation sets\n",
        "dataset_size = 20000\n",
        "train_dataset_size = int(.8 * dataset_size)\n",
        "val_dataset_size = dataset_size - train_dataset_size\n",
        "\n",
        "# Break up dataset into training/validation\n",
        "dataset = tf.data.Dataset.from_generator(\n",
        "    conll_generator,\n",
        "    (tf.int64, tf.int32)).take(dataset_size)\n",
        "val_dataset = dataset.skip(train_dataset_size).batch(16)\n",
        "\n",
        "y_true, y_pred = np.array([]), np.array([])\n",
        "\n",
        "print('Making Predictions for Validation Set...')\n",
        "for index, (words, labels) in enumerate(val_dataset):   \n",
        "  predictions = model(words)\n",
        "  y_true = np.concatenate((y_true, labels.numpy()))\n",
        "  y_pred = np.concatenate((y_pred, tf.argmax(predictions, axis=1).numpy()))\n",
        "\n",
        "  if index < num_examples:\n",
        "    print('***Entity Prediction Sample***')\n",
        "    for word, actual, pred in zip(words, labels.numpy(), tf.argmax(predictions, axis=1).numpy()):\n",
        "      print('Word: {}, Predicted: {}, Actual: {}, Accuracy: {}'.format(word, actual, pred, '100%' if pred == actual else '0%'))\n",
        "\n",
        "print('Finished.')"
      ],
      "execution_count": 71,
      "outputs": [
        {
          "output_type": "error",
          "ename": "NameError",
          "evalue": "ignored",
          "traceback": [
            "\u001b[0;31m---------------------------------------------------------------------------\u001b[0m",
            "\u001b[0;31mNameError\u001b[0m                                 Traceback (most recent call last)",
            "\u001b[0;32m<ipython-input-71-6501a607f8b6>\u001b[0m in \u001b[0;36m<module>\u001b[0;34m()\u001b[0m\n\u001b[1;32m      9\u001b[0m \u001b[0;31m# Break up dataset into training/validation\u001b[0m\u001b[0;34m\u001b[0m\u001b[0;34m\u001b[0m\u001b[0;34m\u001b[0m\u001b[0m\n\u001b[1;32m     10\u001b[0m dataset = tf.data.Dataset.from_generator(\n\u001b[0;32m---> 11\u001b[0;31m     \u001b[0mconll_generator\u001b[0m\u001b[0;34m,\u001b[0m\u001b[0;34m\u001b[0m\u001b[0;34m\u001b[0m\u001b[0m\n\u001b[0m\u001b[1;32m     12\u001b[0m     (tf.int64, tf.int32)).take(dataset_size)\n\u001b[1;32m     13\u001b[0m \u001b[0mval_dataset\u001b[0m \u001b[0;34m=\u001b[0m \u001b[0mdataset\u001b[0m\u001b[0;34m.\u001b[0m\u001b[0mskip\u001b[0m\u001b[0;34m(\u001b[0m\u001b[0mtrain_dataset_size\u001b[0m\u001b[0;34m)\u001b[0m\u001b[0;34m.\u001b[0m\u001b[0mbatch\u001b[0m\u001b[0;34m(\u001b[0m\u001b[0;36m16\u001b[0m\u001b[0;34m)\u001b[0m\u001b[0;34m\u001b[0m\u001b[0;34m\u001b[0m\u001b[0m\n",
            "\u001b[0;31mNameError\u001b[0m: name 'conll_generator' is not defined"
          ]
        }
      ]
    },
    {
      "cell_type": "markdown",
      "metadata": {
        "id": "EtZWK_3QG5hm"
      },
      "source": [
        "Use sklearn to create the confusion matrix from the actual/predicted values"
      ]
    },
    {
      "cell_type": "code",
      "metadata": {
        "id": "QTb_Mb9_vI4X",
        "outputId": "db9fa28d-fcb1-4183-c8ab-da042b2c2441",
        "colab": {
          "base_uri": "https://localhost:8080/"
        }
      },
      "source": [
        "matrix = metrics.confusion_matrix(y_true, y_pred)\n",
        "matrix"
      ],
      "execution_count": 72,
      "outputs": [
        {
          "output_type": "execute_result",
          "data": {
            "text/plain": [
              "array([[2156,   14,   20,   86,   70,    1,   12],\n",
              "       [  85,  146,    3,   12,   78,    0,    0],\n",
              "       [ 231,    3,  274,   27,    1,    0,    0],\n",
              "       [  70,    0,   14,  164,    6,    7,    0],\n",
              "       [  32,   15,    1,    1,  131,    0,    0],\n",
              "       [  21,    0,    8,   29,    4,    1,    0],\n",
              "       [  23,    0,    0,   16,   20,    0,    7]])"
            ]
          },
          "metadata": {
            "tags": []
          },
          "execution_count": 72
        }
      ]
    },
    {
      "cell_type": "code",
      "metadata": {
        "id": "cxXMcrBXmlFm",
        "outputId": "cf0c0938-46d8-45a3-d4c3-805bfbd63c89",
        "colab": {
          "base_uri": "https://localhost:8080/"
        }
      },
      "source": [
        "class_labels"
      ],
      "execution_count": 81,
      "outputs": [
        {
          "output_type": "execute_result",
          "data": {
            "text/plain": [
              "['none', 'Date', 'Place', 'Name', 'Age', 'PrimaryName', 'Start']"
            ]
          },
          "metadata": {
            "tags": []
          },
          "execution_count": 81
        }
      ]
    },
    {
      "cell_type": "code",
      "metadata": {
        "id": "_pT1haaDmcnp",
        "outputId": "f116d943-42bb-44f5-cfce-29ce42e47068",
        "colab": {
          "base_uri": "https://localhost:8080/"
        }
      },
      "source": [
        "metrics.precision_recall_fscore_support(y_true, y_pred)"
      ],
      "execution_count": 80,
      "outputs": [
        {
          "output_type": "execute_result",
          "data": {
            "text/plain": [
              "(array([0.82352941, 0.82022472, 0.85625   , 0.48955224, 0.42258065,\n",
              "        0.11111111, 0.36842105]),\n",
              " array([0.91394659, 0.45061728, 0.51119403, 0.62835249, 0.72777778,\n",
              "        0.01587302, 0.10606061]),\n",
              " array([0.86638537, 0.58167331, 0.64018692, 0.55033557, 0.53469388,\n",
              "        0.02777778, 0.16470588]),\n",
              " array([2359,  324,  536,  261,  180,   63,   66]))"
            ]
          },
          "metadata": {
            "tags": []
          },
          "execution_count": 80
        }
      ]
    },
    {
      "cell_type": "code",
      "metadata": {
        "id": "jZhRd6qnxkOY",
        "outputId": "9a0edf30-fc87-48b4-88cd-73727eb3f744",
        "colab": {
          "base_uri": "https://localhost:8080/"
        }
      },
      "source": [
        "metrics.classification_report(y_true, y_pred, output_dict=True, output)"
      ],
      "execution_count": 79,
      "outputs": [
        {
          "output_type": "execute_result",
          "data": {
            "text/plain": [
              "{'0': {'f1-score': 0.8663853727144866,\n",
              "  'precision': 0.8235294117647058,\n",
              "  'recall': 0.913946587537092,\n",
              "  'support': 2359},\n",
              " '1': {'f1-score': 0.5816733067729084,\n",
              "  'precision': 0.8202247191011236,\n",
              "  'recall': 0.4506172839506173,\n",
              "  'support': 324},\n",
              " '2': {'f1-score': 0.6401869158878505,\n",
              "  'precision': 0.85625,\n",
              "  'recall': 0.5111940298507462,\n",
              "  'support': 536},\n",
              " '3': {'f1-score': 0.5503355704697986,\n",
              "  'precision': 0.48955223880597015,\n",
              "  'recall': 0.6283524904214559,\n",
              "  'support': 261},\n",
              " '4': {'f1-score': 0.5346938775510205,\n",
              "  'precision': 0.42258064516129035,\n",
              "  'recall': 0.7277777777777777,\n",
              "  'support': 180},\n",
              " '5': {'f1-score': 0.027777777777777776,\n",
              "  'precision': 0.1111111111111111,\n",
              "  'recall': 0.015873015873015872,\n",
              "  'support': 63},\n",
              " '6': {'f1-score': 0.16470588235294117,\n",
              "  'precision': 0.3684210526315789,\n",
              "  'recall': 0.10606060606060606,\n",
              "  'support': 66},\n",
              " 'accuracy': 0.7598310899973608,\n",
              " 'macro avg': {'f1-score': 0.4808226719323976,\n",
              "  'precision': 0.5559527397965399,\n",
              "  'recall': 0.47911739878161586,\n",
              "  'support': 3789},\n",
              " 'weighted avg': {'f1-score': 0.7463469260044547,\n",
              "  'precision': 0.7660496519590339,\n",
              "  'recall': 0.7598310899973608,\n",
              "  'support': 3789}}"
            ]
          },
          "metadata": {
            "tags": []
          },
          "execution_count": 79
        }
      ]
    },
    {
      "cell_type": "markdown",
      "metadata": {
        "id": "m9sa_nX5G9t-"
      },
      "source": [
        "Print the Heatmap and convert the index class labels back to their original\n",
        "text representation."
      ]
    },
    {
      "cell_type": "code",
      "metadata": {
        "id": "jHMCc3VAxvE0",
        "outputId": "1d302c55-c022-4073-96de-05e7569db0d7",
        "colab": {
          "base_uri": "https://localhost:8080/",
          "height": 660
        }
      },
      "source": [
        "class_labels = [e for e in entity2idx]\n",
        "\n",
        "plt.figure(figsize = (16, 10))\n",
        "sns.heatmap(matrix, annot=True, fmt='d', xticklabels=class_labels, yticklabels=class_labels)\n",
        "\n",
        "plt.title('Confusion Matrix', fontdict={'fontsize': 30})\n",
        "plt.xlabel('Predicted', fontdict={'fontsize': 20})\n",
        "plt.ylabel('Actual', fontdict={'fontsize': 20})"
      ],
      "execution_count": 74,
      "outputs": [
        {
          "output_type": "execute_result",
          "data": {
            "text/plain": [
              "Text(123.0, 0.5, 'Actual')"
            ]
          },
          "metadata": {
            "tags": []
          },
          "execution_count": 74
        },
        {
          "output_type": "display_data",
          "data": {
            "image/png": "[encoded data removed]",
            "text/plain": [
              "<Figure size 1152x720 with 2 Axes>"
            ]
          },
          "metadata": {
            "tags": [],
            "needs_background": "light"
          }
        }
      ]
    }
  ]
}