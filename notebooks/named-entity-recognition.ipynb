{
  "nbformat": 4,
  "nbformat_minor": 0,
  "metadata": {
    "colab": {
      "name": "notebook.ipynb",
      "provenance": [],
      "include_colab_link": true
    },
    "kernelspec": {
      "name": "python3",
      "display_name": "Python 3"
    },
    "accelerator": "GPU"
  },
  "cells": [
    {
      "cell_type": "markdown",
      "metadata": {
        "id": "view-in-github",
        "colab_type": "text"
      },
      "source": [
        "<a href=\"https://colab.research.google.com/github/BYU-Handwriting-Lab/GettingStarted/blob/egb/notebooks/named-entity-recognition.ipynb\" target=\"_parent\"><img src=\"https://colab.research.google.com/assets/colab-badge.svg\" alt=\"Open In Colab\"/></a>"
      ]
    },
    {
      "cell_type": "markdown",
      "metadata": {
        "id": "VPrUn5n6CwCJ",
        "colab_type": "text"
      },
      "source": [
        "# Named-Entity-Recognition in TensorFlow 2\n",
        "\n",
        "This notebook contains code to do Named Entity Reconition in TensorFlow 2."
      ]
    },
    {
      "cell_type": "markdown",
      "metadata": {
        "id": "Q1sGqnTaFtjd",
        "colab_type": "text"
      },
      "source": [
        "## Imports and Dependencies\n",
        "\n",
        "TensorFlow Addons apparently has an implementation of CRF that is compatible with TF2 and tf.keras."
      ]
    },
    {
      "cell_type": "code",
      "metadata": {
        "id": "_sKdrBf7C3zT",
        "colab_type": "code",
        "colab": {}
      },
      "source": [
        "# Used in Colab to say we're using Version 2\n",
        "try:\n",
        "  %tensorflow_version 2.x\n",
        "except Exception:\n",
        "  pass"
      ],
      "execution_count": 1,
      "outputs": []
    },
    {
      "cell_type": "code",
      "metadata": {
        "id": "vq00R5VjDx_0",
        "colab_type": "code",
        "colab": {
          "base_uri": "https://localhost:8080/",
          "height": 51
        },
        "outputId": "060010f2-2fd6-4359-b8b8-4e41fca8616f"
      },
      "source": [
        "# TensorFlow\n",
        "import tensorflow as tf\n",
        "import tensorflow_hub as hub\n",
        "import tensorflow_addons as tfa\n",
        "import tensorflow.keras as K\n",
        "import tensorflow.keras.layers as L\n",
        "from tensorflow.keras.regularizers import l2\n",
        "\n",
        "# Python\n",
        "import os\n",
        "import string\n",
        "\n",
        "# Data Structures\n",
        "import numpy as np\n",
        "import pandas as pd\n",
        "import json\n",
        "\n",
        "# Image/Plotting\n",
        "from matplotlib import pyplot as plt\n",
        "from sklearn import metrics\n",
        "import seaborn as sns\n",
        "\n",
        "# Debugging\n",
        "from tqdm import tqdm\n",
        "from IPython.core.ultratb import AutoFormattedTB\n",
        "__ITB__ = AutoFormattedTB(mode='Plain', color_scheme='LightBg', tb_offset=1) # Change to 'Verbose' mode for additional debugging"
      ],
      "execution_count": 2,
      "outputs": [
        {
          "output_type": "stream",
          "text": [
            "/usr/local/lib/python3.6/dist-packages/statsmodels/tools/_testing.py:19: FutureWarning: pandas.util.testing is deprecated. Use the functions in the public API at pandas.testing instead.\n",
            "  import pandas.util.testing as tm\n"
          ],
          "name": "stderr"
        }
      ]
    },
    {
      "cell_type": "code",
      "metadata": {
        "id": "aowidUPYPhto",
        "colab_type": "code",
        "colab": {}
      },
      "source": [
        "# Insert file path to Esposalles Dataset in your Google Drive\n",
        "# Note that '!' indicates a shell command rather than python code...\n",
        "\n",
        "!wget -q https://raw.githubusercontent.com/ericburdett/named-entity-recognition/master/char_set.json\n",
        "!wget -q https://raw.githubusercontent.com/ericburdett/named-entity-recognition/master/esposalles-labels.csv"
      ],
      "execution_count": 3,
      "outputs": []
    },
    {
      "cell_type": "code",
      "metadata": {
        "id": "7GCrX5fb3mG-",
        "colab_type": "code",
        "colab": {}
      },
      "source": [
        "# ID: 1T2QLKZJ9E392vsbaHuXcdTvAhpbXLWtm\n",
        "!wget -q --load-cookies /tmp/cookies.txt \"https://docs.google.com/uc?export=download&confirm=$(wget --quiet --save-cookies /tmp/cookies.txt --keep-session-cookies --no-check-certificate 'https://docs.google.com/uc?export=download&id=1T2QLKZJ9E392vsbaHuXcdTvAhpbXLWtm' -O- | sed -rn 's/.*confirm=([0-9A-Za-z_]+).*/\\1\\n/p')&id=1T2QLKZJ9E392vsbaHuXcdTvAhpbXLWtm\" -O french_ner_dataset.csv && rm -rf /tmp/cookies.txt"
      ],
      "execution_count": 4,
      "outputs": []
    },
    {
      "cell_type": "code",
      "metadata": {
        "id": "oZsQbvep399R",
        "colab_type": "code",
        "colab": {
          "base_uri": "https://localhost:8080/",
          "height": 102
        },
        "outputId": "d11599e9-056d-4298-d4e4-d4e76c8e403e"
      },
      "source": [
        "!ls -l"
      ],
      "execution_count": 4,
      "outputs": [
        {
          "output_type": "stream",
          "text": [
            "total 2180\n",
            "-rw-r--r-- 1 root root    5212 Jul 15 20:04 char_set.json\n",
            "-rw-r--r-- 1 root root 1773710 Jul 15 20:04 esposalles-labels.csv\n",
            "-rw-r--r-- 1 root root  442182 Jul 15 20:05 french_ner_dataset.csv\n",
            "drwxr-xr-x 1 root root    4096 Jul 10 16:29 sample_data\n"
          ],
          "name": "stdout"
        }
      ]
    },
    {
      "cell_type": "markdown",
      "metadata": {
        "id": "B7IRJQe-G7Mw",
        "colab_type": "text"
      },
      "source": [
        "## Encoding Class\n",
        "\n",
        "The encoding class helps us map between strings and indexes."
      ]
    },
    {
      "cell_type": "code",
      "metadata": {
        "id": "zNpDzP01Dgij",
        "colab_type": "code",
        "colab": {}
      },
      "source": [
        "class Encoder():\n",
        "  def __init__(self, entity_list, sequence_size=20):\n",
        "    self.entity_dict = {e: i for i, e in enumerate(entity_list)}\n",
        "    self.idx_entity_dict = {v: k for k, v in self.entity_dict.items()}\n",
        "    self.sequence_size = sequence_size\n",
        "\n",
        "    with open('char_set.json') as file:\n",
        "      self.char_dict = json.load(file)\n",
        "    \n",
        "  def char_to_idx(self, char):\n",
        "    if char in self.char_dict['char_to_idx']:\n",
        "      return int(self.char_dict['char_to_idx'][char])\n",
        "    else:\n",
        "      return 0\n",
        "  \n",
        "  def idx_to_char(self, idx):\n",
        "    if str(int(idx)) in self.char_dict['idx_to_char']:\n",
        "      return self.char_dict['idx_to_char'][str(int(idx))]\n",
        "    else:\n",
        "      return ''\n",
        "  \n",
        "  def str_to_idxs(self, string):\n",
        "    assert type(string) == str\n",
        "\n",
        "    zeros = np.zeros(self.sequence_size)\n",
        "    idxs = []\n",
        "    for char in string:\n",
        "      idxs.append(self.char_to_idx(char))\n",
        "    \n",
        "    idxs = np.concatenate((idxs, zeros))[:self.sequence_size]\n",
        "\n",
        "    return idxs\n",
        "  \n",
        "  def idxs_to_str(self, idxs):\n",
        "    chars = ''\n",
        "\n",
        "    for idx in idxs:\n",
        "      chars += self.idx_to_char(idx)\n",
        "    \n",
        "    return chars\n",
        "  \n",
        "  def entity_to_idx(self, entity):\n",
        "    return self.entity_dict[entity]\n",
        "  \n",
        "  def idx_to_entity(self, idx):\n",
        "    return self.idx_entity_dict[idx]\n",
        "\n",
        "  def num_classes(self):\n",
        "    return len(self.entity_dict)"
      ],
      "execution_count": 5,
      "outputs": []
    },
    {
      "cell_type": "markdown",
      "metadata": {
        "id": "QgdOgvr_F8-N",
        "colab_type": "text"
      },
      "source": [
        "## Generator Creation\n",
        "\n",
        "TensorFlow can use a Python Generator to access the dataset during training"
      ]
    },
    {
      "cell_type": "code",
      "metadata": {
        "id": "Fe-GEolpE2QM",
        "colab_type": "code",
        "colab": {}
      },
      "source": [
        "# TensorFlow uses Generators to access the dataset during training\n",
        "def esposalles_df(path='/content/esposalles-labels.csv'):\n",
        "  if not os.path.exists(path):\n",
        "    raise Exception('Esposalles dataset does not exist in ' + path)\n",
        "  \n",
        "  df = pd.read_csv(path, header=None, sep='\\t', names=['img', 'entity', 'rel-entity', 'word', 'id'])\n",
        "  df = df.drop(columns=['img'])\n",
        "\n",
        "  return df\n",
        "\n",
        "def dataset_df(path='/content/french_ner_dataset.csv'):\n",
        "  if not os.path.exists(path):\n",
        "    raise Exception('French dataset does not exist in ' + path)\n",
        "  \n",
        "  df = pd.read_csv(path, header=None, sep='\\t', names=['word', 'entity', 'id'])\n",
        "\n",
        "  df.loc[df['entity'] != 'Start', 'entity'] = 'none'\n",
        "\n",
        "  return df\n",
        "\n",
        "def encode_word_label(data, entity_type, encoder):\n",
        "  word = data['word']\n",
        "  encoded_word = encoder.str_to_idxs(str(word))\n",
        "  label = data[entity_type]\n",
        "  encoded_label = encoder.entity_to_idx(label)\n",
        "\n",
        "  return (encoded_word, encoded_label)\n",
        "\n",
        "def dataset_generator(dataset='french', entity_type='entity'): # options include 'entity' and 'rel-entity'\n",
        "  if dataset == 'french':\n",
        "    data = dataset_df()\n",
        "    df_size = data['id'].max()\n",
        "    range_var = range(1, df_size + 1)\n",
        "  else:\n",
        "    data = esposalles_df()\n",
        "    df_size = data['id'].max() + 1\n",
        "    range_var = range(df_size)\n",
        "\n",
        "  entity_list = list(set(data[entity_type].values))\n",
        "  encoder = Encoder(entity_list)\n",
        "\n",
        "  for i in range_var:\n",
        "    ith_sentence_words = data.loc[data['id'] == i]\n",
        "\n",
        "    sentence_words = []\n",
        "    sentence_labels = []\n",
        "\n",
        "    for index, row in ith_sentence_words.iterrows():\n",
        "      encoded_word = encoder.str_to_idxs(str(row['word']))\n",
        "      encoded_label = encoder.entity_to_idx(row['entity'])\n",
        "\n",
        "      sentence_words.append(encoded_word)\n",
        "      sentence_labels.append(encoded_label)\n",
        "    \n",
        "    yield tf.constant(np.array(sentence_words), dtype=tf.int64), tf.constant(np.array(sentence_labels), dtype=tf.int32)"
      ],
      "execution_count": 6,
      "outputs": []
    },
    {
      "cell_type": "markdown",
      "metadata": {
        "id": "_5mgsr2oGPFh",
        "colab_type": "text"
      },
      "source": [
        "## Model Architecture\n",
        "\n",
        "This is where we can build our model using the tf.keras high-level API\n",
        "\n",
        "We subclass from tf.keras.Model and implement the *call* method. This is the *forward pass* of the neural network."
      ]
    },
    {
      "cell_type": "code",
      "metadata": {
        "id": "TilTpZN_aUw6",
        "colab_type": "code",
        "colab": {}
      },
      "source": [
        "class ResidualBlock(K.Model):\n",
        "  def __init__(self, filters, activation=L.ReLU, dropout_rate=0.2):\n",
        "    super(ResidualBlock, self).__init__()\n",
        "\n",
        "    self.filters = filters\n",
        "    self.act_final = activation()\n",
        "\n",
        "    self.shortcut = L.Conv2D(filters, kernel_size=(1, 1), use_bias=False)\n",
        "\n",
        "    self.conv = tf.keras.Sequential()\n",
        "    self.conv.add(L.Conv2D(filters, kernel_size=(3, 3), padding='same'))\n",
        "    self.conv.add(L.BatchNormalization(renorm=True))\n",
        "    self.conv.add(activation())\n",
        "    if dropout_rate is not None and dropout_rate != 0.0:\n",
        "      self.conv.add(L.Dropout(dropout_rate))\n",
        "\n",
        "    self.conv.add(L.Conv2D(filters, kernel_size=(3, 3), padding='same'))\n",
        "    self.conv.add(L.BatchNormalization(renorm=True))\n",
        "    self.conv.add(activation())\n",
        "    if dropout_rate is not None and dropout_rate != 0.0:\n",
        "      self.conv.add(L.Dropout(dropout_rate))\n",
        "\n",
        "    self.conv.add(L.Conv2D(filters, kernel_size=(3, 3), padding='same'))\n",
        "    self.conv.add(L.BatchNormalization(renorm=True))\n",
        "    self.conv.add(activation())\n",
        "    if dropout_rate is not None and dropout_rate != 0.0:\n",
        "      self.conv.add(L.Dropout(dropout_rate))\n",
        "\n",
        "    self.conv4 = L.Conv2D(filters, kernel_size=(3, 3), padding='same')\n",
        "\n",
        "  def call(self, x, **kwargs):\n",
        "    # Add shortcut if necessary\n",
        "    if x.shape[-1] != self.filters: # Channel Dimension\n",
        "      x = self.shortcut(x)\n",
        "\n",
        "    # Send through the conv block \n",
        "    out = self.conv(x, **kwargs)\n",
        "\n",
        "    # Element-Wise Addition\n",
        "    out = tf.math.add(out, x)\n",
        "\n",
        "    # Final Activation\n",
        "    out = self.act_final(out)\n",
        "\n",
        "    return out"
      ],
      "execution_count": 9,
      "outputs": []
    },
    {
      "cell_type": "code",
      "metadata": {
        "id": "PKXklX-gGYD_",
        "colab_type": "code",
        "colab": {}
      },
      "source": [
        "class NERModel(K.Model):\n",
        "  def __init__(self, input_dim=197, num_classes=6, input_length=20):\n",
        "    super(NERModel, self).__init__()\n",
        "\n",
        "    self.embedding = L.Embedding(input_dim=input_dim, output_dim=128, input_length=input_length)\n",
        "\n",
        "    # self.conv1 = ResidualBlock(128, dropout_rate=0.2)\n",
        "    # self.conv2 = ResidualBlock(256, dropout_rate=0.2)\n",
        "    self.conv1 = L.Conv2D(128, 3, padding='same', activation='relu')\n",
        "    self.conv2 = L.Conv2D(256, 3, padding='same', activation='relu')\n",
        "\n",
        "    self.lstm = L.Bidirectional(L.LSTM(512, dropout=0.2, return_sequences=True, return_state=True))\n",
        "\n",
        "    self.fc1 = L.Dense(512, activation='relu')\n",
        "    self.drop = L.Dropout(0.5)\n",
        "    self.fc2 = L.Dense(num_classes)\n",
        "\n",
        "    self.crf = CRF()\n",
        "\n",
        "  def crf_layer(self):\n",
        "    return self.crf\n",
        "\n",
        "  def __call__(self, x, initial_state=None, **kwargs):\n",
        "    out = self.embedding(x)\n",
        "\n",
        "    out = tf.expand_dims(out, 0)\n",
        "    out = self.conv1(out)\n",
        "    out = self.conv2(out)\n",
        "\n",
        "    out = tf.squeeze(out, axis=0)\n",
        "    out = self.lstm(out, initial_state=initial_state)\n",
        "    state = out[1:]\n",
        "    out = out[0]\n",
        "\n",
        "    out = tf.reshape(out, [-1, tf.shape(out)[1] * tf.shape(out)[2]])\n",
        "\n",
        "    out = self.fc1(out)\n",
        "    out = self.drop(out)\n",
        "    out = self.fc2(out)\n",
        "\n",
        "    out = tf.expand_dims(out, 0)\n",
        "\n",
        "    out = self.crf(out)\n",
        "\n",
        "    return out, state"
      ],
      "execution_count": 212,
      "outputs": []
    },
    {
      "cell_type": "markdown",
      "metadata": {
        "id": "GzvxSgFXNZJK",
        "colab_type": "text"
      },
      "source": [
        "### Test to make sure the model is doing what we think it is...\n",
        "\n",
        "The output shape should be (NUM_WORDS_IN_SENTENCE, NUM_CLASSES). Example: (41, 6)\n",
        "\n",
        "The values along Axis=0 represents a word\n",
        "\n",
        "The values along Axis=1 represents the probability distribution"
      ]
    },
    {
      "cell_type": "code",
      "metadata": {
        "id": "XYBE3Ep5lfJJ",
        "colab_type": "code",
        "colab": {}
      },
      "source": [
        "input = sentence\n",
        "out = L.Embedding(197, 128, trainable=True, mask_zero=True)(input)\n",
        "out = L.Bidirectional(L.GRU(64, return_sequences=True))(out)\n",
        "out = L.Dense(2)(out)\n",
        "crf = CRF()\n",
        "out = crf(out)\n",
        "print(out.shape)\n",
        "print(out)\n",
        "crf.loss(labels, out)"
      ],
      "execution_count": null,
      "outputs": []
    },
    {
      "cell_type": "code",
      "metadata": {
        "id": "Sm2ST3yOpJXo",
        "colab_type": "code",
        "colab": {
          "base_uri": "https://localhost:8080/",
          "height": 34
        },
        "outputId": "becea50f-3bbb-419d-e7a7-092ec12bd7b0"
      },
      "source": [
        "pred.dtype"
      ],
      "execution_count": 86,
      "outputs": [
        {
          "output_type": "execute_result",
          "data": {
            "text/plain": [
              "tf.int64"
            ]
          },
          "metadata": {
            "tags": []
          },
          "execution_count": 86
        }
      ]
    },
    {
      "cell_type": "code",
      "metadata": {
        "id": "cMz_GHn4vWTW",
        "colab_type": "code",
        "colab": {
          "base_uri": "https://localhost:8080/",
          "height": 34
        },
        "outputId": "78bbdb4e-3c01-465e-ac9c-4b1b13298faa"
      },
      "source": [
        "tf.reduce_mean(tf.constant([0, 3], dtype=tf.float32))"
      ],
      "execution_count": 130,
      "outputs": [
        {
          "output_type": "execute_result",
          "data": {
            "text/plain": [
              "<tf.Tensor: shape=(), dtype=float32, numpy=1.5>"
            ]
          },
          "metadata": {
            "tags": []
          },
          "execution_count": 130
        }
      ]
    },
    {
      "cell_type": "code",
      "metadata": {
        "id": "HapRemYs12s5",
        "colab_type": "code",
        "colab": {
          "base_uri": "https://localhost:8080/",
          "height": 34
        },
        "outputId": "01bbd716-3ab3-454f-d533-7ffc46ec07c9"
      },
      "source": [
        "tf.one_hot(labels, 2).shape"
      ],
      "execution_count": 168,
      "outputs": [
        {
          "output_type": "execute_result",
          "data": {
            "text/plain": [
              "TensorShape([109, 2])"
            ]
          },
          "metadata": {
            "tags": []
          },
          "execution_count": 168
        }
      ]
    },
    {
      "cell_type": "code",
      "metadata": {
        "id": "E7FGwqUL1ik6",
        "colab_type": "code",
        "colab": {}
      },
      "source": [
        "tfa.text.crf_decode()"
      ],
      "execution_count": null,
      "outputs": []
    },
    {
      "cell_type": "code",
      "metadata": {
        "id": "efF3MA8ctW2q",
        "colab_type": "code",
        "colab": {
          "base_uri": "https://localhost:8080/",
          "height": 136
        },
        "outputId": "162f3e0c-79bb-4d31-f34c-545080ee87c4"
      },
      "source": [
        "tf.squeeze(tfa.text.crf_decode(out, crf.transitions, crf.sequence_lengths)[0])"
      ],
      "execution_count": 174,
      "outputs": [
        {
          "output_type": "execute_result",
          "data": {
            "text/plain": [
              "<tf.Tensor: shape=(109,), dtype=int32, numpy=\n",
              "array([0, 0, 0, 0, 0, 0, 0, 0, 0, 0, 0, 0, 0, 0, 0, 0, 0, 0, 0, 0, 0, 0,\n",
              "       0, 0, 0, 0, 0, 0, 0, 0, 0, 0, 0, 0, 0, 0, 0, 0, 0, 0, 0, 0, 0, 0,\n",
              "       0, 0, 0, 0, 0, 0, 0, 0, 0, 0, 0, 0, 0, 0, 0, 0, 0, 0, 0, 0, 0, 0,\n",
              "       0, 0, 0, 0, 0, 0, 0, 0, 0, 0, 0, 0, 0, 0, 0, 0, 0, 0, 0, 0, 0, 0,\n",
              "       0, 0, 0, 0, 0, 0, 0, 0, 0, 0, 0, 0, 0, 0, 0, 0, 0, 0, 0, 0, 0],\n",
              "      dtype=int32)>"
            ]
          },
          "metadata": {
            "tags": []
          },
          "execution_count": 174
        }
      ]
    },
    {
      "cell_type": "code",
      "metadata": {
        "id": "kSRVZccXqe8w",
        "colab_type": "code",
        "colab": {}
      },
      "source": [
        "crf = CRF()\n",
        "\n",
        "out = crf(tf.constant(np.random.randint(0, high=1, size=[1, 109, 2]), dtype=tf.float32))\n",
        "crf.loss(tf.expand_dims(labels, 0), out)\n",
        "out"
      ],
      "execution_count": null,
      "outputs": []
    },
    {
      "cell_type": "code",
      "metadata": {
        "id": "9F-BKxbQp1Rm",
        "colab_type": "code",
        "colab": {
          "base_uri": "https://localhost:8080/",
          "height": 34
        },
        "outputId": "4ffe4d0e-05ab-4055-f906-ccc98e3d141f"
      },
      "source": [
        "crf.accuracy(tf.expand_dims(labels, 1), out)"
      ],
      "execution_count": 132,
      "outputs": [
        {
          "output_type": "execute_result",
          "data": {
            "text/plain": [
              "<tf.Tensor: shape=(), dtype=float32, numpy=0.54052687>"
            ]
          },
          "metadata": {
            "tags": []
          },
          "execution_count": 132
        }
      ]
    },
    {
      "cell_type": "code",
      "metadata": {
        "id": "P8Y-cf1Dm1x8",
        "colab_type": "code",
        "colab": {
          "base_uri": "https://localhost:8080/",
          "height": 51
        },
        "outputId": "3adcc1e9-e120-418f-dd8b-b28ffd2a79d4"
      },
      "source": [
        "pred = tf.constant(np.random.randint(0, high=1, size=[109, 20, 2]), dtype=tf.float32)\n",
        "print(pred.shape)\n",
        "crf.loss(tf.expand_dims(labels, 1), pred)"
      ],
      "execution_count": 181,
      "outputs": [
        {
          "output_type": "stream",
          "text": [
            "(109, 20, 2)\n"
          ],
          "name": "stdout"
        },
        {
          "output_type": "execute_result",
          "data": {
            "text/plain": [
              "<tf.Tensor: shape=(), dtype=float32, numpy=0.6931471>"
            ]
          },
          "metadata": {
            "tags": []
          },
          "execution_count": 181
        }
      ]
    },
    {
      "cell_type": "code",
      "metadata": {
        "id": "uzBsYVZjNdNv",
        "colab_type": "code",
        "colab": {}
      },
      "source": [
        "generator = dataset_generator()\n",
        "sentence, labels = next(generator)\n",
        "\n",
        "model = NERModel(num_classes=2)\n",
        "results, _ = model(sentence)\n",
        "print('Shape of output from NER Model: ', results.shape)\n",
        "print('Probability Distribution for one word in the sentence: ', results[0])\n",
        "print('Predicted class for the word: ', tf.argmax(results[0]).numpy())"
      ],
      "execution_count": null,
      "outputs": []
    },
    {
      "cell_type": "code",
      "metadata": {
        "id": "fNT1l-VNjS0a",
        "colab_type": "code",
        "colab": {}
      },
      "source": [
        "!pip install tf2crf"
      ],
      "execution_count": null,
      "outputs": []
    },
    {
      "cell_type": "code",
      "metadata": {
        "id": "FoHaww0KcpnB",
        "colab_type": "code",
        "colab": {}
      },
      "source": [
        "from tf2crf import CRF"
      ],
      "execution_count": 32,
      "outputs": []
    },
    {
      "cell_type": "code",
      "metadata": {
        "id": "bbSYDPyFjg2d",
        "colab_type": "code",
        "colab": {}
      },
      "source": [
        "crf = CRF()\n",
        "\n",
        "crf(tf.constant(np.random.randn(100, 256, 21)))"
      ],
      "execution_count": null,
      "outputs": []
    },
    {
      "cell_type": "markdown",
      "metadata": {
        "id": "9isM9-2-qzQA",
        "colab_type": "text"
      },
      "source": [
        "## Evaluation Metrics\n",
        "\n",
        "For named-entity-recognition, we will use Precision, Recall, and F1 for our\n",
        "metrics. An easy way to do this is using sklearn metrics. We need to define\n",
        "custom functions so that we can pass the *average* parameter when it's wrapped\n",
        "in a *tf.py_function*."
      ]
    },
    {
      "cell_type": "code",
      "metadata": {
        "id": "B7MASql6evPg",
        "colab_type": "code",
        "colab": {}
      },
      "source": [
        "def precision_score(y_true, y_pred):\n",
        "  return metrics.precision_score(y_true, y_pred, average='macro')\n",
        "\n",
        "def recall_score(y_true, y_pred):\n",
        "  return metrics.recall_score(y_true, y_pred, average='macro')\n",
        "\n",
        "def f1_score(y_true, y_pred):\n",
        "  return metrics.f1_score(y_true, y_pred, average='macro')"
      ],
      "execution_count": 12,
      "outputs": []
    },
    {
      "cell_type": "markdown",
      "metadata": {
        "id": "eo6dYjU7HGxv",
        "colab_type": "text"
      },
      "source": [
        "## Training Loop\n",
        "\n",
        "Build our training loop and creating custom train_step and val_step functions.\n",
        "\n",
        "GradientTape allows us to keep track of the losses and gradients for each pass through the network. Structuring our code this way makes it much easier for debugging purposes and for us to iterate through our design.\n",
        "\n",
        "Notice the decorator *@tf.function*. This tells TensorFlow to create the computation graph from the python code and allows our model to run much faster. The *experimental_relax_shapes* parameter allows us to pass tensors with various sentence lengths without TensorFlow getting upset at us.\n",
        "\n",
        "TensorFlow 2 also does some weird things with scope when it constructs the computation graph through a @tf.function annotation. Thus, if we use a more object oriented approach, we can avoid some of the nasty scope issues. See the following articles for more details:\n",
        "* https://pgaleone.eu/tensorflow/tf.function/2019/03/21/dissecting-tf-function-part-1/\n",
        "* https://pgaleone.eu/tensorflow/tf.function/2019/04/03/dissecting-tf-function-part-2/\n"
      ]
    },
    {
      "cell_type": "code",
      "metadata": {
        "id": "yJKYEv0JVPoG",
        "colab_type": "code",
        "colab": {}
      },
      "source": [
        "class Train:\n",
        "  def __init__(self, epochs=15):\n",
        "    # How many times through the training set should we go?\n",
        "    self.epochs = epochs\n",
        "    self.batch_size = 128\n",
        "\n",
        "    df = dataset_df()\n",
        "\n",
        "    # Determine sizes for training and validation sets\n",
        "    dataset_size = df['id'].max()\n",
        "    self.train_dataset_size = int(.8 * dataset_size)\n",
        "    self.val_dataset_size = dataset_size - self.train_dataset_size\n",
        "\n",
        "    self.flat_train_dataset_size = df.loc[df['id'] == self.train_dataset_size].index.max()\n",
        "    self.flat_val_dataset_size = len(df) - self.flat_train_dataset_size\n",
        "\n",
        "    # Break up dataset into training/validation\n",
        "    dataset = tf.data.Dataset.from_generator(\n",
        "        lambda: dataset_generator(dataset='french'),\n",
        "        (tf.int64, tf.int32),\n",
        "        (tf.TensorShape([None, 20]), tf.TensorShape([None])))\n",
        "    self.train_dataset = dataset.take(self.train_dataset_size)\\\n",
        "                                .shuffle(self.train_dataset_size, reshuffle_each_iteration=True)\\\n",
        "                                .flat_map(lambda sentence, entities: tf.data.Dataset.from_tensor_slices((sentence, entities)))\\\n",
        "                                .batch(self.batch_size, drop_remainder=True)\n",
        "    self.val_dataset = dataset.skip(self.train_dataset_size)\\\n",
        "                              .shuffle(self.val_dataset_size, reshuffle_each_iteration=True)\\\n",
        "                              .flat_map(lambda sentence, entities: tf.data.Dataset.from_tensor_slices((sentence, entities)))\\\n",
        "                              .batch(self.batch_size, drop_remainder=True)\n",
        "\n",
        "    # Create our model\n",
        "    self.model = NERModel(num_classes=2)\n",
        "    self.state = None\n",
        "\n",
        "    # Use CrossEntropy for our loss function and Adam for our optimizer\n",
        "    # self.loss_fn = K.losses.SparseCategoricalCrossentropy(from_logits=False)\n",
        "    # self.loss_fn = K.losses.CategoricalCrossentropy(from_logits=False, label_smoothing=0.1)\n",
        "    self.loss_fn = self.model.crf_layer().loss\n",
        "    self.optimizer = K.optimizers.Adam(learning_rate=1e-3)\n",
        "\n",
        "    # Metrics to track our performance\n",
        "    # Consider adding metrics like Precision/Recall here...\n",
        "    self.train_loss = tf.keras.metrics.Mean(name='train_loss')\n",
        "    self.train_precision = tf.keras.metrics.Mean(name='train_precision')\n",
        "    self.train_recall = tf.keras.metrics.Mean(name='train_recall')\n",
        "    self.train_f1 = tf.keras.metrics.Mean(name='train_f1')\n",
        "    self.val_loss = tf.keras.metrics.Mean(name='val_loss')\n",
        "    self.val_precision = tf.keras.metrics.Mean(name='val_precision')\n",
        "    self.val_recall = tf.keras.metrics.Mean(name='val_recall')\n",
        "    self.val_f1 = tf.keras.metrics.Mean(name='val_f1')\n",
        "\n",
        "  # @tf.function(experimental_relax_shapes=True)\n",
        "  def train_step(self, words, labels, ones):\n",
        "    with tf.GradientTape() as tape:\n",
        "      # Make a prediction, calculate the loss\n",
        "      predictions, self.state = self.model(words, training=True, initial_state=self.state)\n",
        "      loss = self.loss_fn(tf.expand_dims(labels, 0), predictions)\n",
        "      # loss = self.loss_fn(tf.one_hot(tf.cast(labels, tf.int32), 2), predictions)\n",
        "\n",
        "    # Obtain gradients from GradientTape\n",
        "    gradients = tape.gradient(loss, self.model.trainable_variables)\n",
        "\n",
        "    # Propagate loss back through the network and take a step with the optimizer  \n",
        "    self.optimizer.apply_gradients(zip(gradients, self.model.trainable_variables))\n",
        "\n",
        "    # Update our metrics\n",
        "    results = tf.squeeze(tfa.text.crf_decode(predictions, self.model.crf_layer().transitions, self.model.crf_layer().sequence_lengths)[0])\n",
        "    # results = tf.argmax(predictions, axis=1)\n",
        "    precision = tf.py_function(precision_score, [labels, results], Tout=[tf.float32])\n",
        "    recall = tf.py_function(recall_score, [labels, results], Tout=[tf.float32])\n",
        "    f1 = tf.py_function(f1_score, [labels, results], Tout=[tf.float32])\n",
        "\n",
        "    self.train_loss(loss)\n",
        "    self.train_precision(precision)\n",
        "    self.train_recall(recall)\n",
        "    self.train_f1(f1)\n",
        "\n",
        "  # @tf.function(experimental_relax_shapes=True)\n",
        "  def validation_step(self, words, labels, ones):\n",
        "    # Make a prediction and calculate the loss\n",
        "    predictions, self.state = self.model(words, training=False, initial_state=self.state)\n",
        "    loss = self.loss_fn(tf.expand_dims(labels, 0), predictions)\n",
        "    # loss = self.loss_fn(tf.one_hot(tf.cast(labels, tf.int32), 2), predictions)\n",
        "\n",
        "    # Update our metrics\n",
        "    results = tf.squeeze(tfa.text.crf_decode(predictions, self.model.crf_layer().transitions, self.model.crf_layer().sequence_lengths)[0])\n",
        "    # results = tf.argmax(predictions, axis=1)\n",
        "    precision = tf.py_function(precision_score, [labels, results], Tout=[tf.float32])\n",
        "    recall = tf.py_function(recall_score, [labels, results], Tout=[tf.float32])\n",
        "    f1 = tf.py_function(f1_score, [labels, results], Tout=[tf.float32])\n",
        "\n",
        "    self.val_loss(loss)\n",
        "    self.val_precision(precision)\n",
        "    self.val_recall(recall)\n",
        "    self.val_f1(f1)\n",
        "\n",
        "  def __call__(self):\n",
        "    # Variables to keep track of our progress through the entire training process\n",
        "    # Used below when we create our graphs\n",
        "    try:\n",
        "      train_losses, val_losses = [], []\n",
        "      train_precisions, val_precisions = [], []\n",
        "      train_recalls, val_recalls = [], []\n",
        "      train_f1s, val_f1s = [], []\n",
        "\n",
        "      for epoch in range(self.epochs):\n",
        "        # Reset Metrics for another epoch\n",
        "        self.train_loss.reset_states()\n",
        "        self.train_precision.reset_states()\n",
        "        self.train_recall.reset_states()\n",
        "        self.train_f1.reset_states()\n",
        "        self.val_loss.reset_states()\n",
        "        self.val_precision.reset_states()\n",
        "        self.val_recall.reset_states()\n",
        "        self.val_f1.reset_states()\n",
        "\n",
        "        # Training Loop\n",
        "        train_loop = tqdm(total=self.flat_train_dataset_size // self.batch_size, position=0, leave=True)\n",
        "        self.state = None\n",
        "        for words, labels in self.train_dataset:\n",
        "          # One training iteration\n",
        "          self.train_step(words, labels, tf.ones(labels.shape[0], dtype=tf.int32))\n",
        "          train_loop.set_description('Train - Epoch: {}, Loss: {:.4f}, Precision: {:.4f}, Recall: {:.4f}, F1: {:.4f}'.format(\n",
        "              epoch, self.train_loss.result(), self.train_precision.result(), self.train_recall.result(), self.train_f1.result()))\n",
        "          train_loop.update(1)\n",
        "\n",
        "        train_loop.close()\n",
        "\n",
        "        # Validation Loop\n",
        "        val_loop = tqdm(total=self.flat_val_dataset_size // self.batch_size, position=0, leave=True)\n",
        "        self.state = None\n",
        "        for words, labels in self.val_dataset:\n",
        "          # One validation iteration\n",
        "          self.validation_step(words, labels, tf.ones(labels.shape[0], dtype=tf.int32))\n",
        "          val_loop.set_description('Val  - Epoch: {}, Loss: {:.4f}, Precision: {:.4f}, Recall: {:.4f}, F1: {:.4f}'.format(\n",
        "              epoch, self.val_loss.result(), self.val_precision.result(), self.val_recall.result(), self.val_f1.result()))\n",
        "          val_loop.update(1)\n",
        "          \n",
        "        val_loop.close()\n",
        "\n",
        "        train_losses.append(self.train_loss.result())\n",
        "        val_losses.append(self.val_loss.result())\n",
        "\n",
        "        train_precisions.append(self.train_precision.result())\n",
        "        val_precisions.append(self.val_precision.result())\n",
        "\n",
        "        train_recalls.append(self.train_recall.result())\n",
        "        val_recalls.append(self.val_recall.result())\n",
        "\n",
        "        train_f1s.append(self.train_f1.result())\n",
        "        val_f1s.append(self.val_f1.result())\n",
        "    except:\n",
        "      __ITB__()\n",
        "    finally:\n",
        "      return self.model, (train_losses, val_losses), (train_precisions, val_precisions), (train_recalls, val_recalls), (train_f1s, val_f1s)"
      ],
      "execution_count": 213,
      "outputs": []
    },
    {
      "cell_type": "code",
      "metadata": {
        "id": "wCBrnyot64o4",
        "colab_type": "code",
        "colab": {}
      },
      "source": [
        "import tensorflow as tf\n",
        "tf.get_logger().setLevel('ERROR')"
      ],
      "execution_count": 205,
      "outputs": []
    },
    {
      "cell_type": "code",
      "metadata": {
        "id": "sSrAZsyHX3VL",
        "colab_type": "code",
        "colab": {}
      },
      "source": [
        "try:\n",
        "  train = Train(epochs=100)\n",
        "  model, losses, precisions, recalls, f1s = train()\n",
        "except:\n",
        "  __ITB__()"
      ],
      "execution_count": null,
      "outputs": []
    },
    {
      "cell_type": "markdown",
      "metadata": {
        "id": "IYyd1jWocc8S",
        "colab_type": "text"
      },
      "source": [
        "### Dataset Stats"
      ]
    },
    {
      "cell_type": "code",
      "metadata": {
        "id": "a62J3D8CFwlt",
        "colab_type": "code",
        "colab": {}
      },
      "source": [
        "esposalles_df().groupby('entity').count()"
      ],
      "execution_count": null,
      "outputs": []
    },
    {
      "cell_type": "code",
      "metadata": {
        "id": "g_V2dDzkFixi",
        "colab_type": "code",
        "colab": {}
      },
      "source": [
        "dataset_df().groupby('entity').count()"
      ],
      "execution_count": null,
      "outputs": []
    },
    {
      "cell_type": "code",
      "metadata": {
        "id": "uRe-gmLQK56q",
        "colab_type": "code",
        "colab": {}
      },
      "source": [
        "dataset_df().count()"
      ],
      "execution_count": null,
      "outputs": []
    },
    {
      "cell_type": "code",
      "metadata": {
        "id": "tFH15TSaK-tx",
        "colab_type": "code",
        "colab": {}
      },
      "source": [
        "22463 / 26227"
      ],
      "execution_count": null,
      "outputs": []
    },
    {
      "cell_type": "code",
      "metadata": {
        "id": "lfEc1mpTLEdo",
        "colab_type": "code",
        "colab": {}
      },
      "source": [
        "370 / 26227"
      ],
      "execution_count": null,
      "outputs": []
    },
    {
      "cell_type": "markdown",
      "metadata": {
        "id": "lTYJyTZLcIoJ",
        "colab_type": "text"
      },
      "source": [
        "## Results\n",
        "\n",
        "Show how our model did throughout the training process."
      ]
    },
    {
      "cell_type": "code",
      "metadata": {
        "id": "ET2FHHVW957n",
        "colab_type": "code",
        "colab": {
          "base_uri": "https://localhost:8080/",
          "height": 329
        },
        "outputId": "ca969cf0-754d-4441-fc99-31bc4630a3dc"
      },
      "source": [
        "plt.title('Loss')\n",
        "plt.xlabel('Epochs')\n",
        "plt.ylabel('Loss')\n",
        "plt.plot(losses[0], label='train')\n",
        "plt.plot(losses[1], label='val')\n",
        "plt.legend()\n",
        "plt.show()\n",
        "print('Final Validation Loss: {:.4f}'.format(losses[1][-1]))"
      ],
      "execution_count": 98,
      "outputs": [
        {
          "output_type": "stream",
          "text": [
            "\rTrain - Epoch: 31, Loss: 0.1990, Precision: 0.9839, Recall: 0.9879, F1: 0.9853:  80%|███████▉  | 125/157 [00:21<00:01, 22.46it/s]"
          ],
          "name": "stderr"
        },
        {
          "output_type": "display_data",
          "data": {
            "image/png": "[encoded data removed]",
            "text/plain": [
              "<Figure size 432x288 with 1 Axes>"
            ]
          },
          "metadata": {
            "tags": [],
            "needs_background": "light"
          }
        },
        {
          "output_type": "stream",
          "text": [
            "Final Validation Loss: 0.2136\n"
          ],
          "name": "stdout"
        }
      ]
    },
    {
      "cell_type": "code",
      "metadata": {
        "id": "8OHunu4792FZ",
        "colab_type": "code",
        "colab": {
          "base_uri": "https://localhost:8080/",
          "height": 312
        },
        "outputId": "ffc48e58-fd60-4916-ad6f-f625738368c9"
      },
      "source": [
        "plt.title('Precision')\n",
        "plt.xlabel('Epochs')\n",
        "plt.ylabel('Precision')\n",
        "plt.plot(precisions[0], label='train')\n",
        "plt.plot(precisions[1], label='val')\n",
        "plt.legend()\n",
        "plt.show()\n",
        "print('Final Validation Precision: {:.2f}%'.format(precisions[1][-1] * 100))"
      ],
      "execution_count": 99,
      "outputs": [
        {
          "output_type": "display_data",
          "data": {
            "image/png": "[encoded data removed]",
            "text/plain": [
              "<Figure size 432x288 with 1 Axes>"
            ]
          },
          "metadata": {
            "tags": [],
            "needs_background": "light"
          }
        },
        {
          "output_type": "stream",
          "text": [
            "Final Validation Precision: 73.59%\n"
          ],
          "name": "stdout"
        }
      ]
    },
    {
      "cell_type": "code",
      "metadata": {
        "id": "WjJ4eGjhraiR",
        "colab_type": "code",
        "colab": {
          "base_uri": "https://localhost:8080/",
          "height": 312
        },
        "outputId": "449c2f62-5eec-4f44-c1d3-a2c4c61e1699"
      },
      "source": [
        "plt.title('Recall')\n",
        "plt.xlabel('Epochs')\n",
        "plt.ylabel('Precision')\n",
        "plt.plot(recalls[0], label='train')\n",
        "plt.plot(recalls[1], label='val')\n",
        "plt.legend()\n",
        "plt.show()\n",
        "print('Final Validation Recall: {:.2f}%'.format(recalls[1][-1] * 100))"
      ],
      "execution_count": 100,
      "outputs": [
        {
          "output_type": "display_data",
          "data": {
            "image/png": "[encoded data removed]",
            "text/plain": [
              "<Figure size 432x288 with 1 Axes>"
            ]
          },
          "metadata": {
            "tags": [],
            "needs_background": "light"
          }
        },
        {
          "output_type": "stream",
          "text": [
            "Final Validation Recall: 81.85%\n"
          ],
          "name": "stdout"
        }
      ]
    },
    {
      "cell_type": "code",
      "metadata": {
        "id": "Rj5q2Hnmram9",
        "colab_type": "code",
        "colab": {
          "base_uri": "https://localhost:8080/",
          "height": 312
        },
        "outputId": "ce2ca39c-40b2-49ab-e0b7-26f8b92dcb90"
      },
      "source": [
        "plt.title('F1')\n",
        "plt.xlabel('Epochs')\n",
        "plt.ylabel('F1')\n",
        "plt.plot(f1s[0], label='train')\n",
        "plt.plot(f1s[1], label='val')\n",
        "plt.legend()\n",
        "plt.show()\n",
        "print('Final Validation F1: {:.2f}%'.format(f1s[1][-1] * 100))"
      ],
      "execution_count": 101,
      "outputs": [
        {
          "output_type": "display_data",
          "data": {
            "image/png": "[encoded data removed]",
            "text/plain": [
              "<Figure size 432x288 with 1 Axes>"
            ]
          },
          "metadata": {
            "tags": [],
            "needs_background": "light"
          }
        },
        {
          "output_type": "stream",
          "text": [
            "Final Validation F1: 76.12%\n"
          ],
          "name": "stdout"
        }
      ]
    },
    {
      "cell_type": "markdown",
      "metadata": {
        "id": "j90cuaIRtkhD",
        "colab_type": "text"
      },
      "source": [
        "## Examples and Confusion Matrix\n",
        "\n",
        "* Show the final confusion matrix on the validation set.\n",
        "* Show a couple examples of the model classifying text."
      ]
    },
    {
      "cell_type": "code",
      "metadata": {
        "id": "AFRCgKNotpu5",
        "colab_type": "code",
        "colab": {
          "base_uri": "https://localhost:8080/",
          "height": 1000
        },
        "outputId": "ccc2f2a3-1698-4d93-a92c-9e0ba3901f4e"
      },
      "source": [
        "# The number of examples to show how the model did\n",
        "num_examples = 3\n",
        "\n",
        "data = dataset_df()\n",
        "entity_list = list(set(data['entity'].values))\n",
        "encoder = Encoder(entity_list)\n",
        "\n",
        "# Determine sizes for training and validation sets\n",
        "dataset_size = dataset_df()['id'].max()\n",
        "train_dataset_size = int(.8 * dataset_size)\n",
        "val_dataset_size = dataset_size - train_dataset_size\n",
        "\n",
        "flat_train_dataset_size = df.loc[df['id'] == train_dataset_size].index.max()\n",
        "flat_val_dataset_size = len(df) - flat_train_dataset_size\n",
        "\n",
        "# Break up dataset into training/validation\n",
        "dataset = tf.data.Dataset.from_generator(\n",
        "    dataset_generator,\n",
        "    (tf.int64, tf.int32),\n",
        "    (tf.TensorShape([None, 20]), tf.TensorShape([None])))\n",
        "val_dataset = dataset.skip(train_dataset_size).flat_map(lambda x, y: tf.data.Dataset.from_tensor_slices((x, y))).batch(128, drop_remainder=True)\n",
        "\n",
        "y_true, y_pred = np.array([]), np.array([])\n",
        "\n",
        "print('Making Predictions for Validation Set...')\n",
        "state = None\n",
        "for index, (words, labels) in enumerate(val_dataset):   \n",
        "  predictions, state = model(words, initial_state=state)\n",
        "  y_true = np.concatenate((y_true, labels.numpy()))\n",
        "  y_pred = np.concatenate((y_pred, tf.argmax(predictions, axis=1).numpy()))\n",
        "\n",
        "  if index < num_examples:\n",
        "    print('***Entity Prediction Sample***')\n",
        "    for word, actual, pred in zip(words, labels.numpy(), tf.argmax(predictions, axis=1).numpy()):\n",
        "      print('Word: {}, Predicted: {}, Actual: {}, Accuracy: {}'.format(encoder.idxs_to_str(word), encoder.idx_to_entity(pred), encoder.idx_to_entity(actual), '100%' if pred == actual else '0%'))\n",
        "\n",
        "print('Finished.')"
      ],
      "execution_count": 102,
      "outputs": [
        {
          "output_type": "stream",
          "text": [
            "Making Predictions for Validation Set...\n",
            "***Entity Prediction Sample***\n",
            "Word: 4er, Predicted: none, Actual: Start, Accuracy: 0%\n",
            "Word: Michon, Predicted: none, Actual: none, Accuracy: 100%\n",
            "Word: (antoine), Predicted: none, Actual: none, Accuracy: 100%\n",
            "Word: L'an, Predicted: none, Actual: none, Accuracy: 100%\n",
            "Word: mil, Predicted: none, Actual: none, Accuracy: 100%\n",
            "Word: huit, Predicted: none, Actual: none, Accuracy: 100%\n",
            "Word: cent, Predicted: none, Actual: none, Accuracy: 100%\n",
            "Word: vingt-sept,, Predicted: none, Actual: none, Accuracy: 100%\n",
            "Word: le, Predicted: none, Actual: none, Accuracy: 100%\n",
            "Word: huit, Predicted: none, Actual: none, Accuracy: 100%\n",
            "Word: du, Predicted: none, Actual: none, Accuracy: 100%\n",
            "Word: mois, Predicted: none, Actual: none, Accuracy: 100%\n",
            "Word: d'avril,, Predicted: none, Actual: none, Accuracy: 100%\n",
            "Word: par, Predicted: none, Actual: none, Accuracy: 100%\n",
            "Word: devant, Predicted: none, Actual: none, Accuracy: 100%\n",
            "Word: nous, Predicted: none, Actual: none, Accuracy: 100%\n",
            "Word: maire,, Predicted: none, Actual: none, Accuracy: 100%\n",
            "Word: officier, Predicted: none, Actual: none, Accuracy: 100%\n",
            "Word: de, Predicted: none, Actual: none, Accuracy: 100%\n",
            "Word: l'etat, Predicted: none, Actual: none, Accuracy: 100%\n",
            "Word: civil, Predicted: none, Actual: none, Accuracy: 100%\n",
            "Word: de, Predicted: none, Actual: none, Accuracy: 100%\n",
            "Word: la, Predicted: none, Actual: none, Accuracy: 100%\n",
            "Word: commune, Predicted: none, Actual: none, Accuracy: 100%\n",
            "Word: de, Predicted: none, Actual: none, Accuracy: 100%\n",
            "Word: Lantigni;Dpartem, Predicted: none, Actual: none, Accuracy: 100%\n",
            "Word: du, Predicted: none, Actual: none, Accuracy: 100%\n",
            "Word: Rh´ne,, Predicted: none, Actual: none, Accuracy: 100%\n",
            "Word: canton, Predicted: none, Actual: none, Accuracy: 100%\n",
            "Word: De, Predicted: none, Actual: none, Accuracy: 100%\n",
            "Word: Beaujeu, Predicted: none, Actual: none, Accuracy: 100%\n",
            "Word: ,, Predicted: none, Actual: none, Accuracy: 100%\n",
            "Word: sont, Predicted: none, Actual: none, Accuracy: 100%\n",
            "Word: comparus, Predicted: none, Actual: none, Accuracy: 100%\n",
            "Word: jean-pierre, Predicted: none, Actual: none, Accuracy: 100%\n",
            "Word: Perme, Predicted: none, Actual: none, Accuracy: 100%\n",
            "Word: g, Predicted: none, Actual: none, Accuracy: 100%\n",
            "Word: d'nviron, Predicted: none, Actual: none, Accuracy: 100%\n",
            "Word: vingt-huit, Predicted: none, Actual: none, Accuracy: 100%\n",
            "Word: ans,et, Predicted: none, Actual: none, Accuracy: 100%\n",
            "Word: Antoine, Predicted: none, Actual: none, Accuracy: 100%\n",
            "Word: Labruyere, Predicted: none, Actual: none, Accuracy: 100%\n",
            "Word: g, Predicted: none, Actual: none, Accuracy: 100%\n",
            "Word: d'nviron, Predicted: none, Actual: none, Accuracy: 100%\n",
            "Word: cinquante-deux, Predicted: none, Actual: none, Accuracy: 100%\n",
            "Word: ans,, Predicted: none, Actual: none, Accuracy: 100%\n",
            "Word: tous, Predicted: none, Actual: none, Accuracy: 100%\n",
            "Word: les, Predicted: none, Actual: none, Accuracy: 100%\n",
            "Word: deux, Predicted: none, Actual: none, Accuracy: 100%\n",
            "Word: cultivateur, Predicted: none, Actual: none, Accuracy: 100%\n",
            "Word: demeurant, Predicted: none, Actual: none, Accuracy: 100%\n",
            "Word: , Predicted: none, Actual: none, Accuracy: 100%\n",
            "Word: Lantigni,, Predicted: none, Actual: none, Accuracy: 100%\n",
            "Word: les, Predicted: none, Actual: none, Accuracy: 100%\n",
            "Word: quels, Predicted: none, Actual: none, Accuracy: 100%\n",
            "Word: nous, Predicted: none, Actual: none, Accuracy: 100%\n",
            "Word: ont, Predicted: none, Actual: none, Accuracy: 100%\n",
            "Word: dclar, Predicted: none, Actual: none, Accuracy: 100%\n",
            "Word: aujourd'hui, Predicted: none, Actual: none, Accuracy: 100%\n",
            "Word: , Predicted: none, Actual: none, Accuracy: 100%\n",
            "Word: dix, Predicted: none, Actual: none, Accuracy: 100%\n",
            "Word: heures, Predicted: none, Actual: none, Accuracy: 100%\n",
            "Word: du, Predicted: none, Actual: none, Accuracy: 100%\n",
            "Word: matin., Predicted: none, Actual: none, Accuracy: 100%\n",
            "Word: qui, Predicted: none, Actual: none, Accuracy: 100%\n",
            "Word: Antoine, Predicted: none, Actual: none, Accuracy: 100%\n",
            "Word: Michon, Predicted: none, Actual: none, Accuracy: 100%\n",
            "Word: g, Predicted: none, Actual: none, Accuracy: 100%\n",
            "Word: d'nviron, Predicted: none, Actual: none, Accuracy: 100%\n",
            "Word: dix-sept, Predicted: none, Actual: none, Accuracy: 100%\n",
            "Word: ans, Predicted: none, Actual: none, Accuracy: 100%\n",
            "Word: n, Predicted: none, Actual: none, Accuracy: 100%\n",
            "Word: , Predicted: none, Actual: none, Accuracy: 100%\n",
            "Word: Lantigni,, Predicted: none, Actual: none, Accuracy: 100%\n",
            "Word: X, Predicted: none, Actual: none, Accuracy: 100%\n",
            "Word: fils, Predicted: none, Actual: none, Accuracy: 100%\n",
            "Word: de, Predicted: none, Actual: none, Accuracy: 100%\n",
            "Word: claude, Predicted: none, Actual: none, Accuracy: 100%\n",
            "Word: Michon, Predicted: none, Actual: none, Accuracy: 100%\n",
            "Word: et, Predicted: none, Actual: none, Accuracy: 100%\n",
            "Word: de, Predicted: none, Actual: none, Accuracy: 100%\n",
            "Word: jeanne, Predicted: none, Actual: none, Accuracy: 100%\n",
            "Word: foubert, Predicted: none, Actual: none, Accuracy: 100%\n",
            "Word: tous, Predicted: none, Actual: none, Accuracy: 100%\n",
            "Word: les, Predicted: none, Actual: none, Accuracy: 100%\n",
            "Word: deux, Predicted: none, Actual: none, Accuracy: 100%\n",
            "Word: cultivateurs, Predicted: none, Actual: none, Accuracy: 100%\n",
            "Word: demeurant, Predicted: none, Actual: none, Accuracy: 100%\n",
            "Word: , Predicted: none, Actual: none, Accuracy: 100%\n",
            "Word: Lantigni,, Predicted: none, Actual: none, Accuracy: 100%\n",
            "Word: est, Predicted: none, Actual: none, Accuracy: 100%\n",
            "Word: dcd, Predicted: none, Actual: none, Accuracy: 100%\n",
            "Word: hier, Predicted: none, Actual: none, Accuracy: 100%\n",
            "Word: , Predicted: none, Actual: none, Accuracy: 100%\n",
            "Word: sept, Predicted: none, Actual: none, Accuracy: 100%\n",
            "Word: heures, Predicted: none, Actual: none, Accuracy: 100%\n",
            "Word: du, Predicted: none, Actual: none, Accuracy: 100%\n",
            "Word: hier;, Predicted: none, Actual: none, Accuracy: 100%\n",
            "Word: les, Predicted: none, Actual: none, Accuracy: 100%\n",
            "Word: dclarons, Predicted: none, Actual: none, Accuracy: 100%\n",
            "Word: n'ont, Predicted: none, Actual: none, Accuracy: 100%\n",
            "Word: sign, Predicted: none, Actual: none, Accuracy: 100%\n",
            "Word: avec, Predicted: none, Actual: none, Accuracy: 100%\n",
            "Word: le, Predicted: none, Actual: none, Accuracy: 100%\n",
            "Word: prsent, Predicted: none, Actual: none, Accuracy: 100%\n",
            "Word: acte, Predicted: none, Actual: none, Accuracy: 100%\n",
            "Word: aprs, Predicted: none, Actual: none, Accuracy: 100%\n",
            "Word: que, Predicted: none, Actual: none, Accuracy: 100%\n",
            "Word: lecture., Predicted: none, Actual: none, Accuracy: 100%\n",
            "Word: leur, Predicted: none, Actual: none, Accuracy: 100%\n",
            "Word: en, Predicted: none, Actual: none, Accuracy: 100%\n",
            "Word: , Predicted: none, Actual: none, Accuracy: 100%\n",
            "Word: t, Predicted: none, Actual: none, Accuracy: 100%\n",
            "Word: faite,, Predicted: none, Actual: none, Accuracy: 100%\n",
            "Word: pour, Predicted: none, Actual: none, Accuracy: 100%\n",
            "Word: ne, Predicted: none, Actual: none, Accuracy: 100%\n",
            "Word: savoir, Predicted: none, Actual: none, Accuracy: 100%\n",
            "Word: crire., Predicted: none, Actual: none, Accuracy: 100%\n",
            "Word: X, Predicted: none, Actual: none, Accuracy: 100%\n",
            "Word: demeurant, Predicted: none, Actual: none, Accuracy: 100%\n",
            "Word: au, Predicted: none, Actual: none, Accuracy: 100%\n",
            "Word: meme, Predicted: none, Actual: none, Accuracy: 100%\n",
            "Word: leur, Predicted: none, Actual: none, Accuracy: 100%\n",
            "Word: le, Predicted: none, Actual: none, Accuracy: 100%\n",
            "Word: renvoi, Predicted: none, Actual: none, Accuracy: 100%\n",
            "Word: de, Predicted: none, Actual: none, Accuracy: 100%\n",
            "Word: quatre, Predicted: none, Actual: none, Accuracy: 100%\n",
            "Word: mots,, Predicted: none, Actual: none, Accuracy: 100%\n",
            "***Entity Prediction Sample***\n",
            "Word: bon., Predicted: none, Actual: none, Accuracy: 100%\n",
            "Word: Debille, Predicted: none, Actual: none, Accuracy: 100%\n",
            "Word: De, Predicted: none, Actual: none, Accuracy: 100%\n",
            "Word: Miare, Predicted: none, Actual: none, Accuracy: 100%\n",
            "Word: 2, Predicted: Start, Actual: none, Accuracy: 0%\n",
            "Word: Fei, Predicted: none, Actual: none, Accuracy: 100%\n",
            "Word: 3, Predicted: none, Actual: none, Accuracy: 100%\n",
            "Word: 5er, Predicted: none, Actual: Start, Accuracy: 0%\n",
            "Word: Polosse, Predicted: none, Actual: none, Accuracy: 100%\n",
            "Word: (claudine), Predicted: none, Actual: none, Accuracy: 100%\n",
            "Word: L'an, Predicted: none, Actual: none, Accuracy: 100%\n",
            "Word: mil, Predicted: none, Actual: none, Accuracy: 100%\n",
            "Word: huit, Predicted: none, Actual: none, Accuracy: 100%\n",
            "Word: cent, Predicted: none, Actual: none, Accuracy: 100%\n",
            "Word: vingt-sept,, Predicted: none, Actual: none, Accuracy: 100%\n",
            "Word: le, Predicted: none, Actual: none, Accuracy: 100%\n",
            "Word: onze, Predicted: none, Actual: none, Accuracy: 100%\n",
            "Word: du, Predicted: none, Actual: none, Accuracy: 100%\n",
            "Word: mois, Predicted: none, Actual: none, Accuracy: 100%\n",
            "Word: d'avril,, Predicted: none, Actual: none, Accuracy: 100%\n",
            "Word: par, Predicted: none, Actual: none, Accuracy: 100%\n",
            "Word: devant, Predicted: none, Actual: none, Accuracy: 100%\n",
            "Word: nous, Predicted: none, Actual: none, Accuracy: 100%\n",
            "Word: maire,, Predicted: none, Actual: none, Accuracy: 100%\n",
            "Word: officier, Predicted: none, Actual: none, Accuracy: 100%\n",
            "Word: de, Predicted: none, Actual: none, Accuracy: 100%\n",
            "Word: l'etat, Predicted: none, Actual: none, Accuracy: 100%\n",
            "Word: civil, Predicted: none, Actual: none, Accuracy: 100%\n",
            "Word: de, Predicted: none, Actual: none, Accuracy: 100%\n",
            "Word: la, Predicted: none, Actual: none, Accuracy: 100%\n",
            "Word: commune, Predicted: none, Actual: none, Accuracy: 100%\n",
            "Word: de, Predicted: none, Actual: none, Accuracy: 100%\n",
            "Word: Lantigni;Dpartem, Predicted: none, Actual: none, Accuracy: 100%\n",
            "Word: du, Predicted: none, Actual: none, Accuracy: 100%\n",
            "Word: Rh´ne,, Predicted: none, Actual: none, Accuracy: 100%\n",
            "Word: canton, Predicted: none, Actual: none, Accuracy: 100%\n",
            "Word: de, Predicted: none, Actual: none, Accuracy: 100%\n",
            "Word: Beaujeu,, Predicted: none, Actual: none, Accuracy: 100%\n",
            "Word: sont, Predicted: none, Actual: none, Accuracy: 100%\n",
            "Word: comparus, Predicted: none, Actual: none, Accuracy: 100%\n",
            "Word: jean-pierre, Predicted: none, Actual: none, Accuracy: 100%\n",
            "Word: Perme, Predicted: none, Actual: none, Accuracy: 100%\n",
            "Word: g, Predicted: none, Actual: none, Accuracy: 100%\n",
            "Word: d'nviron, Predicted: none, Actual: none, Accuracy: 100%\n",
            "Word: vingt-huit, Predicted: none, Actual: none, Accuracy: 100%\n",
            "Word: ans,et, Predicted: none, Actual: none, Accuracy: 100%\n",
            "Word: Antoine, Predicted: none, Actual: none, Accuracy: 100%\n",
            "Word: Labruyere, Predicted: none, Actual: none, Accuracy: 100%\n",
            "Word: g, Predicted: none, Actual: none, Accuracy: 100%\n",
            "Word: d'nviron, Predicted: none, Actual: none, Accuracy: 100%\n",
            "Word: cinquante-deux, Predicted: none, Actual: none, Accuracy: 100%\n",
            "Word: ans,, Predicted: none, Actual: none, Accuracy: 100%\n",
            "Word: tous, Predicted: none, Actual: none, Accuracy: 100%\n",
            "Word: les, Predicted: none, Actual: none, Accuracy: 100%\n",
            "Word: deux, Predicted: none, Actual: none, Accuracy: 100%\n",
            "Word: cultivateur, Predicted: none, Actual: none, Accuracy: 100%\n",
            "Word: demeurant, Predicted: none, Actual: none, Accuracy: 100%\n",
            "Word: , Predicted: none, Actual: none, Accuracy: 100%\n",
            "Word: Lantigni,, Predicted: none, Actual: none, Accuracy: 100%\n",
            "Word: les, Predicted: none, Actual: none, Accuracy: 100%\n",
            "Word: quels, Predicted: none, Actual: none, Accuracy: 100%\n",
            "Word: nous, Predicted: none, Actual: none, Accuracy: 100%\n",
            "Word: ont, Predicted: none, Actual: none, Accuracy: 100%\n",
            "Word: dclar, Predicted: none, Actual: none, Accuracy: 100%\n",
            "Word: les, Predicted: none, Actual: none, Accuracy: 100%\n",
            "Word: deux, Predicted: none, Actual: none, Accuracy: 100%\n",
            "Word: jours, Predicted: none, Actual: none, Accuracy: 100%\n",
            "Word: mois, Predicted: none, Actual: none, Accuracy: 100%\n",
            "Word: et, Predicted: none, Actual: none, Accuracy: 100%\n",
            "Word: un, Predicted: none, Actual: none, Accuracy: 100%\n",
            "Word: , Predicted: none, Actual: none, Accuracy: 100%\n",
            "Word: six, Predicted: none, Actual: none, Accuracy: 100%\n",
            "Word: heures, Predicted: none, Actual: none, Accuracy: 100%\n",
            "Word: du, Predicted: none, Actual: none, Accuracy: 100%\n",
            "Word: matin, Predicted: none, Actual: none, Accuracy: 100%\n",
            "Word: que, Predicted: none, Actual: none, Accuracy: 100%\n",
            "Word: Claudine, Predicted: none, Actual: none, Accuracy: 100%\n",
            "Word: Polosse, Predicted: none, Actual: none, Accuracy: 100%\n",
            "Word: g, Predicted: none, Actual: none, Accuracy: 100%\n",
            "Word: d'nviron, Predicted: none, Actual: none, Accuracy: 100%\n",
            "Word: cinquante, Predicted: none, Actual: none, Accuracy: 100%\n",
            "Word: ans,, Predicted: none, Actual: none, Accuracy: 100%\n",
            "Word: ne, Predicted: none, Actual: none, Accuracy: 100%\n",
            "Word: , Predicted: none, Actual: none, Accuracy: 100%\n",
            "Word: quimeire,, Predicted: none, Actual: none, Accuracy: 100%\n",
            "Word: epouse, Predicted: none, Actual: none, Accuracy: 100%\n",
            "Word: de, Predicted: none, Actual: none, Accuracy: 100%\n",
            "Word: claude, Predicted: none, Actual: none, Accuracy: 100%\n",
            "Word: jaudard, Predicted: none, Actual: none, Accuracy: 100%\n",
            "Word: demeurant, Predicted: none, Actual: none, Accuracy: 100%\n",
            "Word: , Predicted: none, Actual: none, Accuracy: 100%\n",
            "Word: Lantigni,, Predicted: none, Actual: none, Accuracy: 100%\n",
            "Word: est, Predicted: none, Actual: none, Accuracy: 100%\n",
            "Word: dcde, Predicted: none, Actual: none, Accuracy: 100%\n",
            "Word: hier, Predicted: none, Actual: none, Accuracy: 100%\n",
            "Word: , Predicted: none, Actual: none, Accuracy: 100%\n",
            "Word: sept, Predicted: none, Actual: none, Accuracy: 100%\n",
            "Word: heures, Predicted: none, Actual: none, Accuracy: 100%\n",
            "Word: du, Predicted: none, Actual: none, Accuracy: 100%\n",
            "Word: matin;et, Predicted: none, Actual: none, Accuracy: 100%\n",
            "Word: les, Predicted: none, Actual: none, Accuracy: 100%\n",
            "Word: d'clarons, Predicted: none, Actual: none, Accuracy: 100%\n",
            "Word: n'ont, Predicted: none, Actual: none, Accuracy: 100%\n",
            "Word: sign, Predicted: none, Actual: none, Accuracy: 100%\n",
            "Word: avec, Predicted: none, Actual: none, Accuracy: 100%\n",
            "Word: le, Predicted: none, Actual: none, Accuracy: 100%\n",
            "Word: prsent, Predicted: none, Actual: none, Accuracy: 100%\n",
            "Word: acte;, Predicted: none, Actual: none, Accuracy: 100%\n",
            "Word: aprs, Predicted: none, Actual: none, Accuracy: 100%\n",
            "Word: que, Predicted: none, Actual: none, Accuracy: 100%\n",
            "Word: lecture., Predicted: none, Actual: none, Accuracy: 100%\n",
            "Word: leur, Predicted: none, Actual: none, Accuracy: 100%\n",
            "Word: en, Predicted: none, Actual: none, Accuracy: 100%\n",
            "Word: , Predicted: none, Actual: none, Accuracy: 100%\n",
            "Word: t, Predicted: none, Actual: none, Accuracy: 100%\n",
            "Word: faite,, Predicted: none, Actual: none, Accuracy: 100%\n",
            "Word: pour, Predicted: none, Actual: none, Accuracy: 100%\n",
            "Word: ne, Predicted: none, Actual: none, Accuracy: 100%\n",
            "Word: savoir, Predicted: none, Actual: none, Accuracy: 100%\n",
            "Word: crire, Predicted: none, Actual: none, Accuracy: 100%\n",
            "Word: de, Predicted: none, Actual: none, Accuracy: 100%\n",
            "Word: ce, Predicted: none, Actual: none, Accuracy: 100%\n",
            "Word: enquis, Predicted: none, Actual: none, Accuracy: 100%\n",
            "Word: .j., Predicted: none, Actual: none, Accuracy: 100%\n",
            "Word: Debilles, Predicted: none, Actual: none, Accuracy: 100%\n",
            "Word: Maire, Predicted: none, Actual: none, Accuracy: 100%\n",
            "Word: 6, Predicted: none, Actual: Start, Accuracy: 0%\n",
            "Word: Jambon, Predicted: none, Actual: none, Accuracy: 100%\n",
            "***Entity Prediction Sample***\n",
            "Word: (philibert), Predicted: none, Actual: none, Accuracy: 100%\n",
            "Word: L'an, Predicted: none, Actual: none, Accuracy: 100%\n",
            "Word: mil, Predicted: none, Actual: none, Accuracy: 100%\n",
            "Word: huit, Predicted: none, Actual: none, Accuracy: 100%\n",
            "Word: cent, Predicted: none, Actual: none, Accuracy: 100%\n",
            "Word: vingt-sept,, Predicted: none, Actual: none, Accuracy: 100%\n",
            "Word: le, Predicted: none, Actual: none, Accuracy: 100%\n",
            "Word: quatre, Predicted: none, Actual: none, Accuracy: 100%\n",
            "Word: du, Predicted: none, Actual: none, Accuracy: 100%\n",
            "Word: mois, Predicted: none, Actual: none, Accuracy: 100%\n",
            "Word: du, Predicted: none, Actual: none, Accuracy: 100%\n",
            "Word: mai,, Predicted: none, Actual: none, Accuracy: 100%\n",
            "Word: par, Predicted: none, Actual: none, Accuracy: 100%\n",
            "Word: devant, Predicted: none, Actual: none, Accuracy: 100%\n",
            "Word: nous, Predicted: none, Actual: none, Accuracy: 100%\n",
            "Word: maire,, Predicted: none, Actual: none, Accuracy: 100%\n",
            "Word: officier, Predicted: none, Actual: none, Accuracy: 100%\n",
            "Word: de, Predicted: none, Actual: none, Accuracy: 100%\n",
            "Word: l'etat, Predicted: none, Actual: none, Accuracy: 100%\n",
            "Word: civil, Predicted: none, Actual: none, Accuracy: 100%\n",
            "Word: de, Predicted: none, Actual: none, Accuracy: 100%\n",
            "Word: la, Predicted: none, Actual: none, Accuracy: 100%\n",
            "Word: commune, Predicted: none, Actual: none, Accuracy: 100%\n",
            "Word: de, Predicted: none, Actual: none, Accuracy: 100%\n",
            "Word: Lantigni;, Predicted: none, Actual: none, Accuracy: 100%\n",
            "Word: Dpartement, Predicted: none, Actual: none, Accuracy: 100%\n",
            "Word: du, Predicted: none, Actual: none, Accuracy: 100%\n",
            "Word: Rh´ne,, Predicted: none, Actual: none, Accuracy: 100%\n",
            "Word: canton, Predicted: none, Actual: none, Accuracy: 100%\n",
            "Word: de, Predicted: none, Actual: none, Accuracy: 100%\n",
            "Word: Beaujeu,, Predicted: none, Actual: none, Accuracy: 100%\n",
            "Word: sont, Predicted: none, Actual: none, Accuracy: 100%\n",
            "Word: comparus, Predicted: none, Actual: none, Accuracy: 100%\n",
            "Word: jean-, Predicted: none, Actual: none, Accuracy: 100%\n",
            "Word: pierre, Predicted: none, Actual: none, Accuracy: 100%\n",
            "Word: Perme, Predicted: none, Actual: none, Accuracy: 100%\n",
            "Word: g, Predicted: none, Actual: none, Accuracy: 100%\n",
            "Word: d'nviron, Predicted: none, Actual: none, Accuracy: 100%\n",
            "Word: vingt-huit, Predicted: none, Actual: none, Accuracy: 100%\n",
            "Word: ans,et, Predicted: none, Actual: none, Accuracy: 100%\n",
            "Word: Antoine, Predicted: none, Actual: none, Accuracy: 100%\n",
            "Word: Labruyer¨, Predicted: none, Actual: none, Accuracy: 100%\n",
            "Word: g, Predicted: none, Actual: none, Accuracy: 100%\n",
            "Word: d'nviron, Predicted: none, Actual: none, Accuracy: 100%\n",
            "Word: cinquante-deux, Predicted: none, Actual: none, Accuracy: 100%\n",
            "Word: ans,, Predicted: none, Actual: none, Accuracy: 100%\n",
            "Word: tous, Predicted: none, Actual: none, Accuracy: 100%\n",
            "Word: les, Predicted: none, Actual: none, Accuracy: 100%\n",
            "Word: deux, Predicted: none, Actual: none, Accuracy: 100%\n",
            "Word: cultivateur, Predicted: none, Actual: none, Accuracy: 100%\n",
            "Word: demeurant, Predicted: none, Actual: none, Accuracy: 100%\n",
            "Word: , Predicted: none, Actual: none, Accuracy: 100%\n",
            "Word: Lantigni,, Predicted: none, Actual: none, Accuracy: 100%\n",
            "Word: les, Predicted: none, Actual: none, Accuracy: 100%\n",
            "Word: quels, Predicted: none, Actual: none, Accuracy: 100%\n",
            "Word: nous, Predicted: none, Actual: none, Accuracy: 100%\n",
            "Word: ont, Predicted: none, Actual: none, Accuracy: 100%\n",
            "Word: dclar, Predicted: none, Actual: none, Accuracy: 100%\n",
            "Word: les, Predicted: none, Actual: none, Accuracy: 100%\n",
            "Word: dites, Predicted: none, Actual: none, Accuracy: 100%\n",
            "Word: jours, Predicted: none, Actual: none, Accuracy: 100%\n",
            "Word: mois, Predicted: none, Actual: none, Accuracy: 100%\n",
            "Word: en, Predicted: none, Actual: none, Accuracy: 100%\n",
            "Word: , Predicted: none, Actual: none, Accuracy: 100%\n",
            "Word: sept, Predicted: none, Actual: none, Accuracy: 100%\n",
            "Word: heures, Predicted: none, Actual: none, Accuracy: 100%\n",
            "Word: du, Predicted: none, Actual: none, Accuracy: 100%\n",
            "Word: matin, Predicted: none, Actual: none, Accuracy: 100%\n",
            "Word: que, Predicted: none, Actual: none, Accuracy: 100%\n",
            "Word: philibert, Predicted: none, Actual: none, Accuracy: 100%\n",
            "Word: jambon, Predicted: none, Actual: none, Accuracy: 100%\n",
            "Word: g, Predicted: none, Actual: none, Accuracy: 100%\n",
            "Word: d'nviron, Predicted: none, Actual: none, Accuracy: 100%\n",
            "Word: quatre-vingt-sept, Predicted: none, Actual: none, Accuracy: 100%\n",
            "Word: ans,, Predicted: none, Actual: none, Accuracy: 100%\n",
            "Word: n, Predicted: none, Actual: none, Accuracy: 100%\n",
            "Word: , Predicted: none, Actual: none, Accuracy: 100%\n",
            "Word: Ville;, Predicted: none, Actual: none, Accuracy: 100%\n",
            "Word: neuf, Predicted: none, Actual: none, Accuracy: 100%\n",
            "Word: de, Predicted: none, Actual: none, Accuracy: 100%\n",
            "Word: Michellette, Predicted: none, Actual: none, Accuracy: 100%\n",
            "Word: Pardon,, Predicted: none, Actual: none, Accuracy: 100%\n",
            "Word: cultivateur, Predicted: none, Actual: none, Accuracy: 100%\n",
            "Word: demeurant, Predicted: none, Actual: none, Accuracy: 100%\n",
            "Word: , Predicted: none, Actual: none, Accuracy: 100%\n",
            "Word: Lantigni,, Predicted: none, Actual: none, Accuracy: 100%\n",
            "Word: est, Predicted: none, Actual: none, Accuracy: 100%\n",
            "Word: dcd, Predicted: none, Actual: none, Accuracy: 100%\n",
            "Word: hier, Predicted: none, Actual: none, Accuracy: 100%\n",
            "Word: , Predicted: none, Actual: none, Accuracy: 100%\n",
            "Word: trois, Predicted: none, Actual: none, Accuracy: 100%\n",
            "Word: heures, Predicted: none, Actual: none, Accuracy: 100%\n",
            "Word: de, Predicted: none, Actual: none, Accuracy: 100%\n",
            "Word: l'aprs, Predicted: none, Actual: none, Accuracy: 100%\n",
            "Word: midi;, Predicted: none, Actual: none, Accuracy: 100%\n",
            "Word: et, Predicted: none, Actual: none, Accuracy: 100%\n",
            "Word: les, Predicted: none, Actual: none, Accuracy: 100%\n",
            "Word: d'clarons, Predicted: none, Actual: none, Accuracy: 100%\n",
            "Word: n'ont, Predicted: none, Actual: none, Accuracy: 100%\n",
            "Word: sign, Predicted: none, Actual: none, Accuracy: 100%\n",
            "Word: avec, Predicted: none, Actual: none, Accuracy: 100%\n",
            "Word: le, Predicted: none, Actual: none, Accuracy: 100%\n",
            "Word: prsent, Predicted: none, Actual: none, Accuracy: 100%\n",
            "Word: acte;, Predicted: none, Actual: none, Accuracy: 100%\n",
            "Word: aprs, Predicted: none, Actual: none, Accuracy: 100%\n",
            "Word: que, Predicted: none, Actual: none, Accuracy: 100%\n",
            "Word: lecture., Predicted: none, Actual: none, Accuracy: 100%\n",
            "Word: leur, Predicted: none, Actual: none, Accuracy: 100%\n",
            "Word: en, Predicted: none, Actual: none, Accuracy: 100%\n",
            "Word: , Predicted: none, Actual: none, Accuracy: 100%\n",
            "Word: t, Predicted: none, Actual: none, Accuracy: 100%\n",
            "Word: faite,, Predicted: none, Actual: none, Accuracy: 100%\n",
            "Word: pour, Predicted: none, Actual: none, Accuracy: 100%\n",
            "Word: ne, Predicted: none, Actual: none, Accuracy: 100%\n",
            "Word: savoir, Predicted: none, Actual: none, Accuracy: 100%\n",
            "Word: crire, Predicted: none, Actual: none, Accuracy: 100%\n",
            "Word: de, Predicted: none, Actual: none, Accuracy: 100%\n",
            "Word: ce, Predicted: none, Actual: none, Accuracy: 100%\n",
            "Word: enquis, Predicted: none, Actual: none, Accuracy: 100%\n",
            "Word: .j., Predicted: none, Actual: none, Accuracy: 100%\n",
            "Word: Jambon, Predicted: none, Actual: none, Accuracy: 100%\n",
            "Word: Debille, Predicted: none, Actual: none, Accuracy: 100%\n",
            "Word: Maire, Predicted: none, Actual: none, Accuracy: 100%\n",
            "Word: 7e, Predicted: none, Actual: Start, Accuracy: 0%\n",
            "Word: Colonge, Predicted: none, Actual: none, Accuracy: 100%\n",
            "Word: (pierrette), Predicted: none, Actual: none, Accuracy: 100%\n",
            "Word: par, Predicted: none, Actual: none, Accuracy: 100%\n",
            "Word: devant, Predicted: none, Actual: none, Accuracy: 100%\n",
            "Finished.\n"
          ],
          "name": "stdout"
        }
      ]
    },
    {
      "cell_type": "markdown",
      "metadata": {
        "id": "EtZWK_3QG5hm",
        "colab_type": "text"
      },
      "source": [
        "Use sklearn to create the confusion matrix from the actual/predicted values"
      ]
    },
    {
      "cell_type": "code",
      "metadata": {
        "id": "QTb_Mb9_vI4X",
        "colab_type": "code",
        "colab": {
          "base_uri": "https://localhost:8080/",
          "height": 52
        },
        "outputId": "a5dea9b1-4d5d-4ec1-8d42-ea482a14c5ec"
      },
      "source": [
        "matrix = metrics.confusion_matrix(y_true, y_pred)\n",
        "matrix"
      ],
      "execution_count": 103,
      "outputs": [
        {
          "output_type": "execute_result",
          "data": {
            "text/plain": [
              "array([[  27,   17],\n",
              "       [  33, 5811]])"
            ]
          },
          "metadata": {
            "tags": []
          },
          "execution_count": 103
        }
      ]
    },
    {
      "cell_type": "markdown",
      "metadata": {
        "id": "m9sa_nX5G9t-",
        "colab_type": "text"
      },
      "source": [
        "Print the Heatmap and convert the index class labels back to their original\n",
        "text representation."
      ]
    },
    {
      "cell_type": "code",
      "metadata": {
        "id": "jHMCc3VAxvE0",
        "colab_type": "code",
        "colab": {
          "base_uri": "https://localhost:8080/",
          "height": 661
        },
        "outputId": "b6ce91ea-220f-4d94-e098-03bdf7171d7f"
      },
      "source": [
        "encoder.idx_to_entity(1)\n",
        "class_labels = [encoder.idx_to_entity(i) for i in range(encoder.num_classes())]\n",
        "\n",
        "plt.figure(figsize = (16, 10))\n",
        "sns.heatmap(matrix, annot=True, fmt='d', xticklabels=class_labels, yticklabels=class_labels)\n",
        "\n",
        "plt.title('Confusion Matrix', fontdict={'fontsize': 30})\n",
        "plt.xlabel('Predicted', fontdict={'fontsize': 20})\n",
        "plt.ylabel('Actual', fontdict={'fontsize': 20})"
      ],
      "execution_count": 104,
      "outputs": [
        {
          "output_type": "execute_result",
          "data": {
            "text/plain": [
              "Text(123.0, 0.5, 'Actual')"
            ]
          },
          "metadata": {
            "tags": []
          },
          "execution_count": 104
        },
        {
          "output_type": "display_data",
          "data": {
            "image/png": "[encoded data removed]",
            "text/plain": [
              "<Figure size 1152x720 with 2 Axes>"
            ]
          },
          "metadata": {
            "tags": [],
            "needs_background": "light"
          }
        }
      ]
    },
    {
      "cell_type": "code",
      "metadata": {
        "id": "whatny6vD0zN",
        "colab_type": "code",
        "colab": {
          "base_uri": "https://localhost:8080/",
          "height": 70
        },
        "outputId": "f3dbee95-957c-4e38-df3f-2b5bfa57fb3b"
      },
      "source": [
        "print('Accuracies Based on Category:')\n",
        "\n",
        "sums = np.sum(matrix, axis=0)\n",
        "\n",
        "for i in range(len(matrix[0])):\n",
        "  print('- ', encoder.idx_to_entity(i) + ' ({}): '.format(i), matrix[i][i] / sums[i])"
      ],
      "execution_count": 91,
      "outputs": [
        {
          "output_type": "stream",
          "text": [
            "Accuracies Based on Category:\n",
            "-  Start (0):  0.5208333333333334\n",
            "-  none (1):  0.9967465753424658\n"
          ],
          "name": "stdout"
        }
      ]
    }
  ]
}