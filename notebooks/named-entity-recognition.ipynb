{
  "nbformat": 4,
  "nbformat_minor": 0,
  "metadata": {
    "colab": {
      "name": "notebook.ipynb",
      "provenance": [],
      "include_colab_link": true
    },
    "kernelspec": {
      "name": "python3",
      "display_name": "Python 3"
    },
    "accelerator": "GPU"
  },
  "cells": [
    {
      "cell_type": "markdown",
      "metadata": {
        "id": "view-in-github",
        "colab_type": "text"
      },
      "source": [
        "<a href=\"https://colab.research.google.com/github/BYU-Handwriting-Lab/GettingStarted/blob/master/notebooks/named-entity-recognition.ipynb\" target=\"_parent\"><img src=\"https://colab.research.google.com/assets/colab-badge.svg\" alt=\"Open In Colab\"/></a>"
      ]
    },
    {
      "cell_type": "markdown",
      "metadata": {
        "id": "VPrUn5n6CwCJ",
        "colab_type": "text"
      },
      "source": [
        "# Named-Entity-Recognition in TensorFlow 2\n",
        "\n",
        "This notebook contains code to do Named Entity Reconition in TensorFlow 2."
      ]
    },
    {
      "cell_type": "markdown",
      "metadata": {
        "id": "Q1sGqnTaFtjd",
        "colab_type": "text"
      },
      "source": [
        "## Imports and Dependencies\n",
        "\n",
        "TensorFlow Addons apparently has an implementation of CRF that is compatible with TF2 and tf.keras."
      ]
    },
    {
      "cell_type": "code",
      "metadata": {
        "id": "_sKdrBf7C3zT",
        "colab_type": "code",
        "colab": {}
      },
      "source": [
        "# Used in Colab to say we're using Version 2\n",
        "try:\n",
        "  %tensorflow_version 2.x\n",
        "except Exception:\n",
        "  pass"
      ],
      "execution_count": 2,
      "outputs": []
    },
    {
      "cell_type": "code",
      "metadata": {
        "id": "vq00R5VjDx_0",
        "colab_type": "code",
        "colab": {
          "base_uri": "https://localhost:8080/",
          "height": 51
        },
        "outputId": "ded6d4b4-7770-4409-9668-fa7f4f5c4b95"
      },
      "source": [
        "# TensorFlow\n",
        "import tensorflow as tf\n",
        "import tensorflow_addons as tfa\n",
        "import tensorflow.keras as K\n",
        "import tensorflow.keras.layers as L\n",
        "\n",
        "# Python\n",
        "import os\n",
        "import string\n",
        "\n",
        "# Data Structures\n",
        "import numpy as np\n",
        "import pandas as pd\n",
        "import json\n",
        "\n",
        "# Image/Plotting\n",
        "from matplotlib import pyplot as plt\n",
        "from sklearn import metrics\n",
        "import seaborn as sns\n",
        "\n",
        "# Debugging\n",
        "from tqdm import tqdm\n",
        "from IPython.core.ultratb import AutoFormattedTB\n",
        "__ITB__ = AutoFormattedTB(mode='Plain', color_scheme='LightBg', tb_offset=1) # Change to 'Verbose' mode for additional debugging"
      ],
      "execution_count": 3,
      "outputs": [
        {
          "output_type": "stream",
          "text": [
            "/usr/local/lib/python3.6/dist-packages/statsmodels/tools/_testing.py:19: FutureWarning: pandas.util.testing is deprecated. Use the functions in the public API at pandas.testing instead.\n",
            "  import pandas.util.testing as tm\n"
          ],
          "name": "stderr"
        }
      ]
    },
    {
      "cell_type": "code",
      "metadata": {
        "id": "aowidUPYPhto",
        "colab_type": "code",
        "colab": {}
      },
      "source": [
        "# Insert file path to Esposalles Dataset in your Google Drive\n",
        "# Note that '!' indicates a shell command rather than python code...\n",
        "\n",
        "!wget -q https://raw.githubusercontent.com/ericburdett/named-entity-recognition/master/char_set.json\n",
        "!wget -q https://raw.githubusercontent.com/ericburdett/named-entity-recognition/master/esposalles-labels.csv"
      ],
      "execution_count": 5,
      "outputs": []
    },
    {
      "cell_type": "markdown",
      "metadata": {
        "id": "B7IRJQe-G7Mw",
        "colab_type": "text"
      },
      "source": [
        "## Encoding Class\n",
        "\n",
        "The encoding class helps us map between strings and indexes."
      ]
    },
    {
      "cell_type": "code",
      "metadata": {
        "id": "zNpDzP01Dgij",
        "colab_type": "code",
        "colab": {}
      },
      "source": [
        "class Encoder():\n",
        "  def __init__(self, entity_list, sequence_size=20):\n",
        "    self.entity_dict = {e: i for i, e in enumerate(entity_list)}\n",
        "    self.idx_entity_dict = {v: k for k, v in self.entity_dict.items()}\n",
        "    self.sequence_size = sequence_size\n",
        "\n",
        "    with open('char_set.json') as file:\n",
        "      self.char_dict = json.load(file)\n",
        "    \n",
        "  def char_to_idx(self, char):\n",
        "    if char in self.char_dict['char_to_idx']:\n",
        "      return int(self.char_dict['char_to_idx'][char])\n",
        "    else:\n",
        "      return 0\n",
        "  \n",
        "  def idx_to_char(self, idx):\n",
        "    if str(int(idx)) in self.char_dict['idx_to_char']:\n",
        "      return self.char_dict['idx_to_char'][str(int(idx))]\n",
        "    else:\n",
        "      return ''\n",
        "  \n",
        "  def str_to_idxs(self, string):\n",
        "    assert type(string) == str\n",
        "\n",
        "    zeros = np.zeros(self.sequence_size)\n",
        "    idxs = []\n",
        "    for char in string:\n",
        "      idxs.append(self.char_to_idx(char))\n",
        "    \n",
        "    idxs = np.concatenate((idxs, zeros))[:self.sequence_size]\n",
        "\n",
        "    return idxs\n",
        "  \n",
        "  def idxs_to_str(self, idxs):\n",
        "    chars = ''\n",
        "\n",
        "    for idx in idxs:\n",
        "      chars += self.idx_to_char(idx)\n",
        "    \n",
        "    return chars\n",
        "  \n",
        "  def entity_to_idx(self, entity):\n",
        "    return self.entity_dict[entity]\n",
        "  \n",
        "  def idx_to_entity(self, idx):\n",
        "    return self.idx_entity_dict[idx]\n",
        "\n",
        "  def num_classes(self):\n",
        "    return len(self.entity_dict)"
      ],
      "execution_count": 6,
      "outputs": []
    },
    {
      "cell_type": "markdown",
      "metadata": {
        "id": "QgdOgvr_F8-N",
        "colab_type": "text"
      },
      "source": [
        "## Generator Creation\n",
        "\n",
        "TensorFlow can use a Python Generator to access the dataset during training"
      ]
    },
    {
      "cell_type": "code",
      "metadata": {
        "id": "Fe-GEolpE2QM",
        "colab_type": "code",
        "colab": {}
      },
      "source": [
        "# TensorFlow uses Generators to access the dataset during training\n",
        "def dataset_df(path='/content/esposalles-labels.csv'):\n",
        "  if not os.path.exists(path):\n",
        "    raise Exception('Esposalles dataset does not exist in ' + path)\n",
        "  \n",
        "  df = pd.read_csv(path, header=None, sep='\\t', names=['img', 'entity', 'rel-entity', 'word', 'sentence'])\n",
        "  df = df.drop(columns=['img'])\n",
        "\n",
        "  return df\n",
        "\n",
        "def encode_word_label(data, entity_type, encoder):\n",
        "  word = data['word']\n",
        "  encoded_word = encoder.str_to_idxs(str(word))\n",
        "  label = data[entity_type]\n",
        "  encoded_label = encoder.entity_to_idx(label)\n",
        "\n",
        "  return (encoded_word, encoded_label)\n",
        "\n",
        "def esposalles_generator(entity_type='entity'): # options include 'entity' and 'rel-entity'\n",
        "  data = dataset_df()\n",
        "  entity_list = list(set(data[entity_type].values))\n",
        "  encoder = Encoder(entity_list)\n",
        "\n",
        "  df_size = data['sentence'].max() + 1\n",
        "\n",
        "  for i in range(df_size):\n",
        "    ith_sentence_words = data.loc[data['sentence'] == i]\n",
        "\n",
        "    sentence_words = []\n",
        "    sentence_labels = []\n",
        "\n",
        "    for index, row in ith_sentence_words.iterrows():\n",
        "      encoded_word, encoded_label = encode_word_label(row, entity_type, encoder)\n",
        "      sentence_words.append(encoded_word)\n",
        "      sentence_labels.append(encoded_label)\n",
        "    \n",
        "    yield tf.constant(np.array(sentence_words), dtype=tf.int64), tf.constant(np.array(sentence_labels), dtype=tf.int32)"
      ],
      "execution_count": 7,
      "outputs": []
    },
    {
      "cell_type": "markdown",
      "metadata": {
        "id": "_5mgsr2oGPFh",
        "colab_type": "text"
      },
      "source": [
        "## Model Architecture\n",
        "\n",
        "This is where we can build our model using the tf.keras high-level API\n",
        "\n",
        "We subclass from tf.keras.Model and implement the *call* method. This is the *forward pass* of the neural network."
      ]
    },
    {
      "cell_type": "code",
      "metadata": {
        "id": "PKXklX-gGYD_",
        "colab_type": "code",
        "colab": {}
      },
      "source": [
        "class NERModel(K.Model):\n",
        "  def __init__(self, input_dim=197, num_classes=6, input_length=20):\n",
        "    super(NERModel, self).__init__()\n",
        "\n",
        "    self.embedding = L.Embedding(input_dim=input_dim, output_dim=64, input_length=input_length)\n",
        "    self.lstm = L.Bidirectional(L.LSTM(64))\n",
        "    self.fc1 = L.Dense(64, activation='relu')\n",
        "    self.fc2 = L.Dense(num_classes)\n",
        "    self.softmax = L.Softmax(axis=1)\n",
        "\n",
        "  def __call__(self, x):\n",
        "    out = self.embedding(x)\n",
        "    out = self.lstm(out)\n",
        "    out = self.fc1(out)\n",
        "    out = self.fc2(out)\n",
        "    out = self.softmax(out)\n",
        "\n",
        "    return out"
      ],
      "execution_count": 8,
      "outputs": []
    },
    {
      "cell_type": "markdown",
      "metadata": {
        "id": "GzvxSgFXNZJK",
        "colab_type": "text"
      },
      "source": [
        "### Test to make sure the model is doing what we think it is...\n",
        "\n",
        "The output shape should be (NUM_WORDS_IN_SENTENCE, NUM_CLASSES). Example: (41, 6)\n",
        "\n",
        "The values along Axis=0 represents a word\n",
        "\n",
        "The values along Axis=1 represents the probability distribution"
      ]
    },
    {
      "cell_type": "code",
      "metadata": {
        "id": "uzBsYVZjNdNv",
        "colab_type": "code",
        "colab": {
          "base_uri": "https://localhost:8080/",
          "height": 68
        },
        "outputId": "2e147360-2c08-4c3d-d5c8-8fde29cbb34b"
      },
      "source": [
        "generator = esposalles_generator()\n",
        "sentence, labels = next(generator)\n",
        "\n",
        "model = NERModel()\n",
        "results = model(sentence)\n",
        "print('Shape of output from NER Model: ', results.shape)\n",
        "print('Probability Distribution for one word in the sentence: ', results[0])\n",
        "print('Predicted class for the word: ', tf.argmax(results[0]).numpy())"
      ],
      "execution_count": 9,
      "outputs": [
        {
          "output_type": "stream",
          "text": [
            "Shape of output from NER Model:  (41, 6)\n",
            "Probability Distribution for one word in the sentence:  tf.Tensor([0.16378188 0.16585782 0.16932009 0.16648592 0.16571024 0.16884406], shape=(6,), dtype=float32)\n",
            "Predicted class for the word:  2\n"
          ],
          "name": "stdout"
        }
      ]
    },
    {
      "cell_type": "markdown",
      "metadata": {
        "id": "9isM9-2-qzQA",
        "colab_type": "text"
      },
      "source": [
        "## Evaluation Metrics\n",
        "\n",
        "For named-entity-recognition, we will use Precision, Recall, and F1 for our\n",
        "metrics. An easy way to do this is using sklearn metrics. We need to define\n",
        "custom functions so that we can pass the *average* parameter when it's wrapped\n",
        "in a *tf.py_function*."
      ]
    },
    {
      "cell_type": "code",
      "metadata": {
        "id": "B7MASql6evPg",
        "colab_type": "code",
        "colab": {}
      },
      "source": [
        "def precision_score(y_true, y_pred):\n",
        "  return metrics.precision_score(y_true, y_pred, average='weighted')\n",
        "\n",
        "def recall_score(y_true, y_pred):\n",
        "  return metrics.recall_score(y_true, y_pred, average='weighted')\n",
        "\n",
        "def f1_score(y_true, y_pred):\n",
        "  return metrics.f1_score(y_true, y_pred, average='weighted')"
      ],
      "execution_count": 10,
      "outputs": []
    },
    {
      "cell_type": "markdown",
      "metadata": {
        "id": "eo6dYjU7HGxv",
        "colab_type": "text"
      },
      "source": [
        "## Training Loop\n",
        "\n",
        "Build our training loop and creating custom train_step and val_step functions.\n",
        "\n",
        "GradientTape allows us to keep track of the losses and gradients for each pass through the network. Structuring our code this way makes it much easier for debugging purposes and for us to iterate through our design.\n",
        "\n",
        "Notice the decorator *@tf.function*. This tells TensorFlow to create the computation graph from the python code and allows our model to run much faster. The *experimental_relax_shapes* parameter allows us to pass tensors with various sentence lengths without TensorFlow getting upset at us.\n",
        "\n",
        "TensorFlow 2 also does some weird things with scope when it constructs the computation graph through a @tf.function annotation. Thus, if we use a more object oriented approach, we can avoid some of the nasty scope issues. See the following articles for more details:\n",
        "* https://pgaleone.eu/tensorflow/tf.function/2019/03/21/dissecting-tf-function-part-1/\n",
        "* https://pgaleone.eu/tensorflow/tf.function/2019/04/03/dissecting-tf-function-part-2/\n"
      ]
    },
    {
      "cell_type": "code",
      "metadata": {
        "id": "yJKYEv0JVPoG",
        "colab_type": "code",
        "colab": {}
      },
      "source": [
        "class Train:\n",
        "  def __init__(self):\n",
        "    # How many times through the training set should we go?\n",
        "    self.epochs = 20\n",
        "\n",
        "    # Determine sizes for training and validation sets\n",
        "    dataset_size = dataset_df()['sentence'].max() + 1\n",
        "    self.train_dataset_size = int(.8 * dataset_size)\n",
        "    self.val_dataset_size = dataset_size - self.train_dataset_size\n",
        "\n",
        "    # Break up dataset into training/validation\n",
        "    dataset = tf.data.Dataset.from_generator(\n",
        "        esposalles_generator,\n",
        "        (tf.int64, tf.int32),\n",
        "        (tf.TensorShape([None, 20]), tf.TensorShape([None])))\n",
        "    self.train_dataset = dataset.take(self.train_dataset_size)\n",
        "    self.val_dataset = dataset.skip(self.train_dataset_size)\n",
        "\n",
        "    # Create our model\n",
        "    self.model = NERModel()\n",
        "\n",
        "    # Use CrossEntropy for our loss function and Adam for our optimizer\n",
        "    self.loss_fn = K.losses.SparseCategoricalCrossentropy(from_logits=False)\n",
        "    self.optimizer = K.optimizers.Adam(learning_rate=1e-3)\n",
        "\n",
        "    # Metrics to track our performance\n",
        "    # Consider adding metrics like Precision/Recall here...\n",
        "    self.train_loss = tf.keras.metrics.Mean(name='train_loss')\n",
        "    self.train_precision = tf.keras.metrics.Mean(name='train_precision')\n",
        "    self.train_recall = tf.keras.metrics.Mean(name='train_recall')\n",
        "    self.train_f1 = tf.keras.metrics.Mean(name='train_f1')\n",
        "    self.val_loss = tf.keras.metrics.Mean(name='val_loss')\n",
        "    self.val_precision = tf.keras.metrics.Mean(name='val_precision')\n",
        "    self.val_recall = tf.keras.metrics.Mean(name='val_recall')\n",
        "    self.val_f1 = tf.keras.metrics.Mean(name='val_f1')\n",
        "\n",
        "  @tf.function(experimental_relax_shapes=True)\n",
        "  def train_step(self, words, labels, ones):\n",
        "    with tf.GradientTape() as tape:\n",
        "      # Make a prediction, calculate the loss\n",
        "      predictions = self.model(words)\n",
        "      loss = self.loss_fn(labels, predictions)\n",
        "\n",
        "    # Obtain gradients from GradientTape\n",
        "    gradients = tape.gradient(loss, self.model.trainable_variables)\n",
        "\n",
        "    # Propagate loss back through the network and take a step with the optimizer  \n",
        "    self.optimizer.apply_gradients(zip(gradients, self.model.trainable_variables))\n",
        "    \n",
        "    # Update our metrics\n",
        "    results = tf.argmax(predictions, axis=1)\n",
        "    precision = tf.py_function(precision_score, [labels, results], Tout=[tf.float32])\n",
        "    recall = tf.py_function(recall_score, [labels, results], Tout=[tf.float32])\n",
        "    f1 = tf.py_function(f1_score, [labels, results], Tout=[tf.float32])\n",
        "\n",
        "    self.train_loss(loss)\n",
        "    self.train_precision(precision)\n",
        "    self.train_recall(recall)\n",
        "    self.train_f1(f1)\n",
        "\n",
        "  @tf.function(experimental_relax_shapes=True)\n",
        "  def validation_step(self, words, labels, ones):\n",
        "    # Make a prediction and calculate the loss\n",
        "    predictions = self.model(words)\n",
        "    loss = self.loss_fn(labels, predictions)\n",
        "\n",
        "    # Update our metrics\n",
        "    results = tf.argmax(predictions, axis=1)\n",
        "    precision = tf.py_function(precision_score, [labels, results], Tout=[tf.float32])\n",
        "    recall = tf.py_function(recall_score, [labels, results], Tout=[tf.float32])\n",
        "    f1 = tf.py_function(f1_score, [labels, results], Tout=[tf.float32])\n",
        "\n",
        "    self.val_loss(loss)\n",
        "    self.val_precision(precision)\n",
        "    self.val_recall(recall)\n",
        "    self.val_f1(f1)\n",
        "\n",
        "  def __call__(self):\n",
        "    # Variables to keep track of our progress through the entire training process\n",
        "    # Used below when we create our graphs\n",
        "    try:\n",
        "      train_losses, val_losses = [], []\n",
        "      train_precisions, val_precisions = [], []\n",
        "      train_recalls, val_recalls = [], []\n",
        "      train_f1s, val_f1s = [], []\n",
        "\n",
        "      for epoch in range(self.epochs):\n",
        "        # Reset Metrics for another epoch\n",
        "        self.train_loss.reset_states()\n",
        "        self.train_precision.reset_states()\n",
        "        self.train_recall.reset_states()\n",
        "        self.train_f1.reset_states()\n",
        "        self.val_loss.reset_states()\n",
        "        self.val_precision.reset_states()\n",
        "        self.val_recall.reset_states()\n",
        "        self.val_f1.reset_states()\n",
        "\n",
        "        # Training Loop\n",
        "        train_loop = tqdm(total=self.train_dataset_size, position=0, leave=True)\n",
        "        for words, labels in self.train_dataset:\n",
        "          # One training iteration\n",
        "          self.train_step(words, labels, tf.ones(labels.shape[0], dtype=tf.int32))\n",
        "          train_loop.set_description('Train - Epoch: {}, Loss: {:.4f}, Precision: {:.4f}, Recall: {:.4f}, F1: {:.4f}'.format(\n",
        "              epoch, self.train_loss.result(), self.train_precision.result(), self.train_recall.result(), self.train_f1.result()))\n",
        "          train_loop.update(1)\n",
        "\n",
        "        train_loop.close()\n",
        "\n",
        "        # Validation Loop\n",
        "        val_loop = tqdm(total=self.val_dataset_size, position=0, leave=True)\n",
        "        for words, labels in self.val_dataset:\n",
        "          # One validation iteration\n",
        "          self.validation_step(words, labels, tf.ones(labels.shape[0], dtype=tf.int32))\n",
        "          val_loop.set_description('Val  - Epoch: {}, Loss: {:.4f}, Precision: {:.4f}, Recall: {:.4f}, F1: {:.4f}'.format(\n",
        "              epoch, self.val_loss.result(), self.val_precision.result(), self.val_recall.result(), self.val_f1.result()))\n",
        "          val_loop.update(1)\n",
        "          \n",
        "        val_loop.close()\n",
        "\n",
        "        train_losses.append(self.train_loss.result())\n",
        "        val_losses.append(self.val_loss.result())\n",
        "\n",
        "        train_precisions.append(self.train_precision.result())\n",
        "        val_precisions.append(self.val_precision.result())\n",
        "\n",
        "        train_recalls.append(self.train_recall.result())\n",
        "        val_recalls.append(self.val_recall.result())\n",
        "\n",
        "        train_f1s.append(self.train_f1.result())\n",
        "        val_f1s.append(self.val_f1.result())\n",
        "    except:\n",
        "      __ITB__()\n",
        "    finally:\n",
        "      return self.model, (train_losses, val_losses), (train_precisions, val_precisions), (train_recalls, val_recalls), (train_f1s, val_f1s)"
      ],
      "execution_count": 392,
      "outputs": []
    },
    {
      "cell_type": "code",
      "metadata": {
        "id": "sSrAZsyHX3VL",
        "colab_type": "code",
        "colab": {
          "base_uri": "https://localhost:8080/",
          "height": 785
        },
        "outputId": "751a7bd9-9092-4095-d36f-45c76c32cc0a"
      },
      "source": [
        "try:\n",
        "  train = Train()\n",
        "  model, losses, precisions, recalls, f1s = train()\n",
        "except:\n",
        "  __ITB__()"
      ],
      "execution_count": 393,
      "outputs": [
        {
          "output_type": "stream",
          "text": [
            "  0%|          | 0/774 [00:00<?, ?it/s]/usr/local/lib/python3.6/dist-packages/sklearn/metrics/_classification.py:1272: UndefinedMetricWarning: Precision is ill-defined and being set to 0.0 in labels with no predicted samples. Use `zero_division` parameter to control this behavior.\n",
            "  _warn_prf(average, modifier, msg_start, len(result))\n",
            "Train - Epoch: 0, Loss: 1.0780, Precision: 0.4781, Recall: 0.6062, F1: 0.5133:  25%|██▌       | 195/774 [00:08<00:10, 55.53it/s]/usr/local/lib/python3.6/dist-packages/sklearn/metrics/_classification.py:1272: UndefinedMetricWarning: Recall is ill-defined and being set to 0.0 in labels with no true samples. Use `zero_division` parameter to control this behavior.\n",
            "  _warn_prf(average, modifier, msg_start, len(result))\n",
            "Train - Epoch: 0, Loss: 0.7147, Precision: 0.7141, Recall: 0.7458, F1: 0.7075: 100%|██████████| 774/774 [00:18<00:00, 42.26it/s]\n",
            "Val  - Epoch: 0, Loss: 0.5090, Precision: 0.8337, Recall: 0.8204, F1: 0.8089: 100%|██████████| 194/194 [00:08<00:00, 22.20it/s]\n",
            "Train - Epoch: 1, Loss: 0.4736, Precision: 0.8520, Recall: 0.8408, F1: 0.8284: 100%|██████████| 774/774 [00:13<00:00, 55.36it/s]\n",
            "Val  - Epoch: 1, Loss: 0.4382, Precision: 0.8687, Recall: 0.8507, F1: 0.8437: 100%|██████████| 194/194 [00:06<00:00, 29.25it/s]\n",
            "Train - Epoch: 2, Loss: 0.4057, Precision: 0.8776, Recall: 0.8650, F1: 0.8553: 100%|██████████| 774/774 [00:13<00:00, 56.80it/s]\n",
            "Val  - Epoch: 2, Loss: 0.3994, Precision: 0.8817, Recall: 0.8620, F1: 0.8558: 100%|██████████| 194/194 [00:06<00:00, 28.73it/s]\n",
            "Train - Epoch: 3, Loss: 0.3633, Precision: 0.8952, Recall: 0.8816, F1: 0.8729: 100%|██████████| 774/774 [00:13<00:00, 55.88it/s]\n",
            "Val  - Epoch: 3, Loss: 0.3699, Precision: 0.8988, Recall: 0.8791, F1: 0.8740: 100%|██████████| 194/194 [00:06<00:00, 28.35it/s]\n",
            "Train - Epoch: 4, Loss: 0.3332, Precision: 0.9086, Recall: 0.8952, F1: 0.8879: 100%|██████████| 774/774 [00:13<00:00, 56.61it/s]\n",
            "Val  - Epoch: 4, Loss: 0.3411, Precision: 0.9125, Recall: 0.8952, F1: 0.8898: 100%|██████████| 194/194 [00:06<00:00, 29.38it/s]\n",
            "Train - Epoch: 5, Loss: 0.3111, Precision: 0.9155, Recall: 0.9023, F1: 0.8957: 100%|██████████| 774/774 [00:13<00:00, 57.42it/s]\n",
            "Val  - Epoch: 5, Loss: 0.3318, Precision: 0.9156, Recall: 0.9010, F1: 0.8954: 100%|██████████| 194/194 [00:06<00:00, 29.13it/s]\n",
            "Train - Epoch: 6, Loss: 0.2924, Precision: 0.9225, Recall: 0.9097, F1: 0.9039: 100%|██████████| 774/774 [00:13<00:00, 57.00it/s]\n",
            "Val  - Epoch: 6, Loss: 0.3406, Precision: 0.9137, Recall: 0.8955, F1: 0.8919: 100%|██████████| 194/194 [00:06<00:00, 28.50it/s]\n",
            "Train - Epoch: 7, Loss: 0.2784, Precision: 0.9274, Recall: 0.9156, F1: 0.9103: 100%|██████████| 774/774 [00:13<00:00, 56.49it/s]\n",
            "Val  - Epoch: 7, Loss: 0.3133, Precision: 0.9202, Recall: 0.9090, F1: 0.9037: 100%|██████████| 194/194 [00:06<00:00, 29.63it/s]\n",
            "Train - Epoch: 8, Loss: 0.2650, Precision: 0.9324, Recall: 0.9206, F1: 0.9160: 100%|██████████| 774/774 [00:13<00:00, 57.18it/s]\n",
            "Val  - Epoch: 8, Loss: 0.3069, Precision: 0.9196, Recall: 0.9103, F1: 0.9044: 100%|██████████| 194/194 [00:06<00:00, 29.40it/s]\n",
            "Train - Epoch: 9, Loss: 0.2537, Precision: 0.9355, Recall: 0.9241, F1: 0.9199: 100%|██████████| 774/774 [00:13<00:00, 57.27it/s]\n",
            "Val  - Epoch: 9, Loss: 0.2979, Precision: 0.9217, Recall: 0.9133, F1: 0.9073: 100%|██████████| 194/194 [00:06<00:00, 29.64it/s]\n",
            "Train - Epoch: 10, Loss: 0.2447, Precision: 0.9381, Recall: 0.9272, F1: 0.9233: 100%|██████████| 774/774 [00:13<00:00, 57.51it/s]\n",
            "Val  - Epoch: 10, Loss: 0.2975, Precision: 0.9222, Recall: 0.9138, F1: 0.9079: 100%|██████████| 194/194 [00:06<00:00, 29.06it/s]\n",
            "Train - Epoch: 11, Loss: 0.2365, Precision: 0.9418, Recall: 0.9312, F1: 0.9276: 100%|██████████| 774/774 [00:13<00:00, 56.77it/s]\n",
            "Val  - Epoch: 11, Loss: 0.2940, Precision: 0.9224, Recall: 0.9156, F1: 0.9094: 100%|██████████| 194/194 [00:06<00:00, 29.92it/s]\n",
            "Train - Epoch: 12, Loss: 0.2294, Precision: 0.9442, Recall: 0.9335, F1: 0.9302: 100%|██████████| 774/774 [00:13<00:00, 57.87it/s]\n",
            "Val  - Epoch: 12, Loss: 0.2958, Precision: 0.9270, Recall: 0.9186, F1: 0.9132: 100%|██████████| 194/194 [00:06<00:00, 29.98it/s]\n",
            "Train - Epoch: 13, Loss: 0.2232, Precision: 0.9457, Recall: 0.9358, F1: 0.9325: 100%|██████████| 774/774 [00:13<00:00, 57.57it/s]\n",
            "Val  - Epoch: 13, Loss: 0.2941, Precision: 0.9276, Recall: 0.9206, F1: 0.9147: 100%|██████████| 194/194 [00:06<00:00, 29.39it/s]\n",
            "Train - Epoch: 14, Loss: 0.2180, Precision: 0.9471, Recall: 0.9374, F1: 0.9342: 100%|██████████| 774/774 [00:13<00:00, 57.95it/s]\n",
            "Val  - Epoch: 14, Loss: 0.2961, Precision: 0.9281, Recall: 0.9199, F1: 0.9142: 100%|██████████| 194/194 [00:06<00:00, 28.96it/s]\n",
            "Train - Epoch: 15, Loss: 0.2134, Precision: 0.9484, Recall: 0.9390, F1: 0.9360: 100%|██████████| 774/774 [00:13<00:00, 57.28it/s]\n",
            "Val  - Epoch: 15, Loss: 0.2982, Precision: 0.9273, Recall: 0.9195, F1: 0.9136: 100%|██████████| 194/194 [00:06<00:00, 29.72it/s]\n",
            "Train - Epoch: 16, Loss: 0.2095, Precision: 0.9497, Recall: 0.9400, F1: 0.9371: 100%|██████████| 774/774 [00:13<00:00, 58.05it/s]\n",
            "Val  - Epoch: 16, Loss: 0.2998, Precision: 0.9269, Recall: 0.9193, F1: 0.9132: 100%|██████████| 194/194 [00:06<00:00, 29.63it/s]\n",
            "Train - Epoch: 17, Loss: 0.2070, Precision: 0.9505, Recall: 0.9406, F1: 0.9379: 100%|██████████| 774/774 [00:13<00:00, 57.88it/s]\n",
            "Val  - Epoch: 17, Loss: 0.3056, Precision: 0.9264, Recall: 0.9193, F1: 0.9131: 100%|██████████| 194/194 [00:06<00:00, 29.53it/s]\n",
            "Train - Epoch: 18, Loss: 0.2029, Precision: 0.9519, Recall: 0.9422, F1: 0.9396: 100%|██████████| 774/774 [00:13<00:00, 57.53it/s]\n",
            "Val  - Epoch: 18, Loss: 0.3096, Precision: 0.9266, Recall: 0.9189, F1: 0.9129: 100%|██████████| 194/194 [00:06<00:00, 28.81it/s]\n",
            "Train - Epoch: 19, Loss: 0.2006, Precision: 0.9524, Recall: 0.9433, F1: 0.9407: 100%|██████████| 774/774 [00:13<00:00, 55.73it/s]\n",
            "Val  - Epoch: 19, Loss: 0.3081, Precision: 0.9277, Recall: 0.9194, F1: 0.9134: 100%|██████████| 194/194 [00:06<00:00, 29.86it/s]\n"
          ],
          "name": "stderr"
        }
      ]
    },
    {
      "cell_type": "markdown",
      "metadata": {
        "id": "lTYJyTZLcIoJ",
        "colab_type": "text"
      },
      "source": [
        "## Results\n",
        "\n",
        "Show how our model did throughout the training process."
      ]
    },
    {
      "cell_type": "code",
      "metadata": {
        "id": "ET2FHHVW957n",
        "colab_type": "code",
        "colab": {
          "base_uri": "https://localhost:8080/",
          "height": 312
        },
        "outputId": "39e32ff9-4e2d-4559-841f-7c2828a335de"
      },
      "source": [
        "plt.title('Loss')\n",
        "plt.xlabel('Epochs')\n",
        "plt.ylabel('Loss')\n",
        "plt.plot(losses[0], label='train')\n",
        "plt.plot(losses[1], label='val')\n",
        "plt.legend()\n",
        "plt.show()\n",
        "print('Final Validation Loss: {:.4f}'.format(losses[1][-1]))"
      ],
      "execution_count": 394,
      "outputs": [
        {
          "output_type": "display_data",
          "data": {
            "image/png": "[encoded data removed]",
            "text/plain": [
              "<Figure size 432x288 with 1 Axes>"
            ]
          },
          "metadata": {
            "tags": [],
            "needs_background": "light"
          }
        },
        {
          "output_type": "stream",
          "text": [
            "Final Validation Loss: 0.3081\n"
          ],
          "name": "stdout"
        }
      ]
    },
    {
      "cell_type": "code",
      "metadata": {
        "id": "8OHunu4792FZ",
        "colab_type": "code",
        "colab": {
          "base_uri": "https://localhost:8080/",
          "height": 312
        },
        "outputId": "4ea1f0fe-2866-464b-bf57-8d68cf797630"
      },
      "source": [
        "plt.title('Precision')\n",
        "plt.xlabel('Epochs')\n",
        "plt.ylabel('Precision')\n",
        "plt.plot(precisions[0], label='train')\n",
        "plt.plot(precisions[1], label='val')\n",
        "plt.legend()\n",
        "plt.show()\n",
        "print('Final Validation Precision: {:.2f}%'.format(precisions[1][-1] * 100))"
      ],
      "execution_count": 395,
      "outputs": [
        {
          "output_type": "display_data",
          "data": {
            "image/png": "[encoded data removed]",
            "text/plain": [
              "<Figure size 432x288 with 1 Axes>"
            ]
          },
          "metadata": {
            "tags": [],
            "needs_background": "light"
          }
        },
        {
          "output_type": "stream",
          "text": [
            "Final Validation Precision: 92.77%\n"
          ],
          "name": "stdout"
        }
      ]
    },
    {
      "cell_type": "code",
      "metadata": {
        "id": "WjJ4eGjhraiR",
        "colab_type": "code",
        "colab": {
          "base_uri": "https://localhost:8080/",
          "height": 312
        },
        "outputId": "14c30c95-f3e7-4a78-c809-8183e06886a8"
      },
      "source": [
        "plt.title('Recall')\n",
        "plt.xlabel('Epochs')\n",
        "plt.ylabel('Precision')\n",
        "plt.plot(recalls[0], label='train')\n",
        "plt.plot(recalls[1], label='val')\n",
        "plt.legend()\n",
        "plt.show()\n",
        "print('Final Validation Recall: {:.2f}%'.format(recalls[1][-1] * 100))"
      ],
      "execution_count": 396,
      "outputs": [
        {
          "output_type": "display_data",
          "data": {
            "image/png": "[encoded data removed]",
            "text/plain": [
              "<Figure size 432x288 with 1 Axes>"
            ]
          },
          "metadata": {
            "tags": [],
            "needs_background": "light"
          }
        },
        {
          "output_type": "stream",
          "text": [
            "Final Validation Recall: 91.94%\n"
          ],
          "name": "stdout"
        }
      ]
    },
    {
      "cell_type": "code",
      "metadata": {
        "id": "Rj5q2Hnmram9",
        "colab_type": "code",
        "colab": {
          "base_uri": "https://localhost:8080/",
          "height": 312
        },
        "outputId": "5c0d37c5-2153-43d9-b0b4-1653087bcf17"
      },
      "source": [
        "plt.title('F1')\n",
        "plt.xlabel('Epochs')\n",
        "plt.ylabel('F1')\n",
        "plt.plot(f1s[0], label='train')\n",
        "plt.plot(f1s[1], label='val')\n",
        "plt.legend()\n",
        "plt.show()\n",
        "print('Final Validation F1: {:.2f}%'.format(f1s[1][-1] * 100))"
      ],
      "execution_count": 398,
      "outputs": [
        {
          "output_type": "display_data",
          "data": {
            "image/png": "[encoded data removed]",
            "text/plain": [
              "<Figure size 432x288 with 1 Axes>"
            ]
          },
          "metadata": {
            "tags": [],
            "needs_background": "light"
          }
        },
        {
          "output_type": "stream",
          "text": [
            "Final Validation F1: 91.34%\n"
          ],
          "name": "stdout"
        }
      ]
    },
    {
      "cell_type": "markdown",
      "metadata": {
        "id": "j90cuaIRtkhD",
        "colab_type": "text"
      },
      "source": [
        "## Examples and Confusion Matrix\n",
        "\n",
        "* Show the final confusion matrix on the validation set.\n",
        "* Show a couple examples of the model classifying text."
      ]
    },
    {
      "cell_type": "code",
      "metadata": {
        "id": "AFRCgKNotpu5",
        "colab_type": "code",
        "colab": {
          "base_uri": "https://localhost:8080/",
          "height": 1000
        },
        "outputId": "d93edaf3-5ed2-419e-906d-344ef61a4593"
      },
      "source": [
        "# The number of examples to show how the model did\n",
        "num_examples = 3\n",
        "\n",
        "# Determine sizes for training and validation sets\n",
        "dataset_size = dataset_df()['sentence'].max() + 1\n",
        "train_dataset_size = int(.8 * dataset_size)\n",
        "val_dataset_size = dataset_size - train_dataset_size\n",
        "\n",
        "# Break up dataset into training/validation\n",
        "dataset = tf.data.Dataset.from_generator(\n",
        "    esposalles_generator,\n",
        "    (tf.int64, tf.int32),\n",
        "    (tf.TensorShape([None, 20]), tf.TensorShape([None])))\n",
        "val_dataset = dataset.skip(train_dataset_size)\n",
        "\n",
        "y_true, y_pred = np.array([]), np.array([])\n",
        "\n",
        "print('Making Predictions for Validation Set...')\n",
        "for index, (words, labels) in enumerate(val_dataset):   \n",
        "  predictions = model(words)\n",
        "  y_true = np.concatenate((y_true, labels.numpy()))\n",
        "  y_pred = np.concatenate((y_pred, tf.argmax(predictions, axis=1).numpy()))\n",
        "\n",
        "  if index < num_examples:\n",
        "    print('***Entity Prediction Sample***')\n",
        "    for word, actual, pred in zip(words, labels.numpy(), tf.argmax(predictions, axis=1).numpy()):\n",
        "      print('Word: {}, Predicted: {}, Actual: {}, Accuracy: {}'.format(encoder.idxs_to_str(word), encoder.idx_to_entity(pred), encoder.idx_to_entity(actual), '100%' if pred == actual else '0%'))\n",
        "\n",
        "print('Finished.')"
      ],
      "execution_count": 497,
      "outputs": [
        {
          "output_type": "stream",
          "text": [
            "Making Predictions for Validation Set...\n",
            "***Entity Prediction Sample***\n",
            "Word: Dimecres, Predicted: other, Actual: other, Accuracy: 100%\n",
            "Word: a, Predicted: other, Actual: other, Accuracy: 100%\n",
            "Word: 27, Predicted: other, Actual: other, Accuracy: 100%\n",
            "Word: rebere, Predicted: other, Actual: other, Accuracy: 100%\n",
            "Word: de, Predicted: other, Actual: other, Accuracy: 100%\n",
            "Word: Esteva, Predicted: name, Actual: name, Accuracy: 100%\n",
            "Word: Comes, Predicted: surname, Actual: surname, Accuracy: 100%\n",
            "Word: marser, Predicted: occupation, Actual: occupation, Accuracy: 100%\n",
            "Word: de, Predicted: other, Actual: other, Accuracy: 100%\n",
            "Word: Bara, Predicted: location, Actual: location, Accuracy: 100%\n",
            "Word: fill, Predicted: other, Actual: other, Accuracy: 100%\n",
            "Word: de, Predicted: other, Actual: other, Accuracy: 100%\n",
            "Word: Onofre, Predicted: name, Actual: name, Accuracy: 100%\n",
            "Word: Comes, Predicted: surname, Actual: surname, Accuracy: 100%\n",
            "Word: marser, Predicted: occupation, Actual: occupation, Accuracy: 100%\n",
            "Word: de, Predicted: other, Actual: other, Accuracy: 100%\n",
            "Word: Bara, Predicted: location, Actual: location, Accuracy: 100%\n",
            "Word: y, Predicted: other, Actual: other, Accuracy: 100%\n",
            "Word: de, Predicted: other, Actual: other, Accuracy: 100%\n",
            "Word: Juana, Predicted: name, Actual: name, Accuracy: 100%\n",
            "Word: ab, Predicted: other, Actual: other, Accuracy: 100%\n",
            "Word: Anna, Predicted: name, Actual: name, Accuracy: 100%\n",
            "Word: donsella, Predicted: state, Actual: state, Accuracy: 100%\n",
            "Word: filla, Predicted: other, Actual: other, Accuracy: 100%\n",
            "Word: de, Predicted: other, Actual: other, Accuracy: 100%\n",
            "Word: Jua, Predicted: name, Actual: name, Accuracy: 100%\n",
            "Word: Canyet, Predicted: surname, Actual: surname, Accuracy: 100%\n",
            "Word: sabater, Predicted: occupation, Actual: occupation, Accuracy: 100%\n",
            "Word: de, Predicted: other, Actual: other, Accuracy: 100%\n",
            "Word: Bara, Predicted: location, Actual: location, Accuracy: 100%\n",
            "Word: y, Predicted: other, Actual: other, Accuracy: 100%\n",
            "Word: de, Predicted: other, Actual: other, Accuracy: 100%\n",
            "Word: Hieronyma, Predicted: name, Actual: name, Accuracy: 100%\n",
            "Word: defuncta, Predicted: other, Actual: other, Accuracy: 100%\n",
            "***Entity Prediction Sample***\n",
            "Word: Dit, Predicted: other, Actual: other, Accuracy: 100%\n",
            "Word: dia, Predicted: other, Actual: other, Accuracy: 100%\n",
            "Word: rebere, Predicted: other, Actual: other, Accuracy: 100%\n",
            "Word: de, Predicted: other, Actual: other, Accuracy: 100%\n",
            "Word: Jua, Predicted: name, Actual: name, Accuracy: 100%\n",
            "Word: Benell, Predicted: surname, Actual: surname, Accuracy: 100%\n",
            "Word: calsater, Predicted: occupation, Actual: occupation, Accuracy: 100%\n",
            "Word: de, Predicted: other, Actual: occupation, Accuracy: 0%\n",
            "Word: agulla, Predicted: occupation, Actual: occupation, Accuracy: 100%\n",
            "Word: del, Predicted: other, Actual: other, Accuracy: 100%\n",
            "Word: regne, Predicted: location, Actual: location, Accuracy: 100%\n",
            "Word: de, Predicted: other, Actual: location, Accuracy: 0%\n",
            "Word: frança, Predicted: location, Actual: location, Accuracy: 100%\n",
            "Word: habitant, Predicted: other, Actual: other, Accuracy: 100%\n",
            "Word: en, Predicted: other, Actual: other, Accuracy: 100%\n",
            "Word: Bara, Predicted: location, Actual: location, Accuracy: 100%\n",
            "Word: ab, Predicted: other, Actual: other, Accuracy: 100%\n",
            "Word: Magdalena, Predicted: name, Actual: name, Accuracy: 100%\n",
            "Word: donsella, Predicted: state, Actual: state, Accuracy: 100%\n",
            "Word: filla, Predicted: other, Actual: other, Accuracy: 100%\n",
            "Word: de, Predicted: other, Actual: other, Accuracy: 100%\n",
            "Word: Pere, Predicted: name, Actual: name, Accuracy: 100%\n",
            "Word: Phelip, Predicted: name, Actual: surname, Accuracy: 0%\n",
            "Word: pa, Predicted: occupation, Actual: occupation, Accuracy: 100%\n",
            "Word: ges, Predicted: occupation, Actual: occupation, Accuracy: 100%\n",
            "Word: de, Predicted: other, Actual: other, Accuracy: 100%\n",
            "Word: Serdanya, Predicted: location, Actual: location, Accuracy: 100%\n",
            "Word: bisbat, Predicted: location, Actual: location, Accuracy: 100%\n",
            "Word: de, Predicted: other, Actual: location, Accuracy: 0%\n",
            "Word: Urgell, Predicted: location, Actual: location, Accuracy: 100%\n",
            "Word: y, Predicted: other, Actual: other, Accuracy: 100%\n",
            "Word: de, Predicted: other, Actual: other, Accuracy: 100%\n",
            "Word: Catherina, Predicted: name, Actual: name, Accuracy: 100%\n",
            "Word: defuncts, Predicted: other, Actual: other, Accuracy: 100%\n",
            "***Entity Prediction Sample***\n",
            "Word: Divendres, Predicted: other, Actual: other, Accuracy: 100%\n",
            "Word: a, Predicted: other, Actual: other, Accuracy: 100%\n",
            "Word: 29, Predicted: other, Actual: other, Accuracy: 100%\n",
            "Word: rebere, Predicted: other, Actual: other, Accuracy: 100%\n",
            "Word: de, Predicted: other, Actual: other, Accuracy: 100%\n",
            "Word: Pere, Predicted: name, Actual: name, Accuracy: 100%\n",
            "Word: Pau, Predicted: name, Actual: name, Accuracy: 100%\n",
            "Word: Sagarra, Predicted: location, Actual: surname, Accuracy: 0%\n",
            "Word: traginer, Predicted: occupation, Actual: occupation, Accuracy: 100%\n",
            "Word: de, Predicted: other, Actual: other, Accuracy: 100%\n",
            "Word: Martorell, Predicted: location, Actual: location, Accuracy: 100%\n",
            "Word: fill, Predicted: other, Actual: other, Accuracy: 100%\n",
            "Word: de, Predicted: other, Actual: other, Accuracy: 100%\n",
            "Word: Pere, Predicted: name, Actual: name, Accuracy: 100%\n",
            "Word: Sagarra, Predicted: location, Actual: surname, Accuracy: 0%\n",
            "Word: traginer, Predicted: occupation, Actual: occupation, Accuracy: 100%\n",
            "Word: y, Predicted: other, Actual: other, Accuracy: 100%\n",
            "Word: de, Predicted: other, Actual: other, Accuracy: 100%\n",
            "Word: francina, Predicted: name, Actual: name, Accuracy: 100%\n",
            "Word: ab, Predicted: other, Actual: other, Accuracy: 100%\n",
            "Word: Magdalena, Predicted: name, Actual: name, Accuracy: 100%\n",
            "Word: dosella, Predicted: state, Actual: state, Accuracy: 100%\n",
            "Word: filla, Predicted: other, Actual: other, Accuracy: 100%\n",
            "Word: de, Predicted: other, Actual: other, Accuracy: 100%\n",
            "Word: Jua, Predicted: name, Actual: name, Accuracy: 100%\n",
            "Word: Alfonso, Predicted: name, Actual: surname, Accuracy: 0%\n",
            "Word: pages, Predicted: occupation, Actual: occupation, Accuracy: 100%\n",
            "Word: defunct, Predicted: other, Actual: other, Accuracy: 100%\n",
            "Word: y, Predicted: other, Actual: other, Accuracy: 100%\n",
            "Word: de, Predicted: other, Actual: other, Accuracy: 100%\n",
            "Word: Magdalena, Predicted: name, Actual: name, Accuracy: 100%\n",
            "Word: tots, Predicted: other, Actual: other, Accuracy: 100%\n",
            "Word: de, Predicted: other, Actual: other, Accuracy: 100%\n",
            "Word: dita, Predicted: location, Actual: location, Accuracy: 100%\n",
            "Word: vila, Predicted: location, Actual: location, Accuracy: 100%\n",
            "Finished.\n"
          ],
          "name": "stdout"
        }
      ]
    },
    {
      "cell_type": "markdown",
      "metadata": {
        "id": "EtZWK_3QG5hm",
        "colab_type": "text"
      },
      "source": [
        "Use sklearn to create the confusion matrix from the actual/predicted values"
      ]
    },
    {
      "cell_type": "code",
      "metadata": {
        "id": "QTb_Mb9_vI4X",
        "colab_type": "code",
        "colab": {
          "base_uri": "https://localhost:8080/",
          "height": 119
        },
        "outputId": "f292fba2-ecf0-48a2-ec5b-fb0a646dc066"
      },
      "source": [
        "matrix = metrics.confusion_matrix(y_true, y_pred)\n",
        "matrix"
      ],
      "execution_count": 498,
      "outputs": [
        {
          "output_type": "execute_result",
          "data": {
            "text/plain": [
              "array([[3038,    5,    7,    0,    3,    4],\n",
              "       [ 153,  652,   50,    0,    9,   25],\n",
              "       [   9,   94,  372,    0,   11,   38],\n",
              "       [   0,    0,    0,  220,    0,    0],\n",
              "       [  59,    2,    7,    0,  545,    0],\n",
              "       [   6,   14,   24,    0,    1,  972]])"
            ]
          },
          "metadata": {
            "tags": []
          },
          "execution_count": 498
        }
      ]
    },
    {
      "cell_type": "markdown",
      "metadata": {
        "id": "m9sa_nX5G9t-",
        "colab_type": "text"
      },
      "source": [
        "Print the Heatmap and convert the index class labels back to their original\n",
        "text representation."
      ]
    },
    {
      "cell_type": "code",
      "metadata": {
        "id": "jHMCc3VAxvE0",
        "colab_type": "code",
        "colab": {
          "base_uri": "https://localhost:8080/",
          "height": 660
        },
        "outputId": "0e56d7bb-c9b3-437f-a91f-c61905cc40e8"
      },
      "source": [
        "data = dataset_df()\n",
        "entity_list = list(set(data['entity'].values))\n",
        "encoder = Encoder(entity_list)\n",
        "encoder.idx_to_entity(1)\n",
        "class_labels = [encoder.idx_to_entity(i) for i in range(encoder.num_classes())]\n",
        "\n",
        "plt.figure(figsize = (16, 10))\n",
        "sns.heatmap(matrix, annot=True, fmt='d', xticklabels=class_labels, yticklabels=class_labels)\n",
        "\n",
        "plt.title('Confusion Matrix', fontdict={'fontsize': 30})\n",
        "plt.xlabel('Predicted', fontdict={'fontsize': 20})\n",
        "plt.ylabel('Actual', fontdict={'fontsize': 20})"
      ],
      "execution_count": 499,
      "outputs": [
        {
          "output_type": "execute_result",
          "data": {
            "text/plain": [
              "Text(123.0, 0.5, 'Actual')"
            ]
          },
          "metadata": {
            "tags": []
          },
          "execution_count": 499
        },
        {
          "output_type": "display_data",
          "data": {
            "image/png": "[encoded data removed]",
            "text/plain": [
              "<Figure size 1152x720 with 2 Axes>"
            ]
          },
          "metadata": {
            "tags": [],
            "needs_background": "light"
          }
        }
      ]
    }
  ]
}