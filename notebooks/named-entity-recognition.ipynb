{
  "nbformat": 4,
  "nbformat_minor": 0,
  "metadata": {
    "colab": {
      "name": "notebook.ipynb",
      "provenance": [],
      "include_colab_link": true
    },
    "kernelspec": {
      "name": "python3",
      "display_name": "Python 3"
    },
    "accelerator": "GPU"
  },
  "cells": [
    {
      "cell_type": "markdown",
      "metadata": {
        "id": "view-in-github",
        "colab_type": "text"
      },
      "source": [
        "<a href=\"https://colab.research.google.com/github/BYU-Handwriting-Lab/GettingStarted/blob/egb/notebooks/named-entity-recognition.ipynb\" target=\"_parent\"><img src=\"https://colab.research.google.com/assets/colab-badge.svg\" alt=\"Open In Colab\"/></a>"
      ]
    },
    {
      "cell_type": "markdown",
      "metadata": {
        "id": "VPrUn5n6CwCJ",
        "colab_type": "text"
      },
      "source": [
        "# Named-Entity-Recognition in TensorFlow 2\n",
        "\n",
        "This notebook contains code to do Named Entity Reconition in TensorFlow 2."
      ]
    },
    {
      "cell_type": "markdown",
      "metadata": {
        "id": "Q1sGqnTaFtjd",
        "colab_type": "text"
      },
      "source": [
        "## Imports and Dependencies\n",
        "\n",
        "TensorFlow Addons apparently has an implementation of CRF that is compatible with TF2 and tf.keras."
      ]
    },
    {
      "cell_type": "code",
      "metadata": {
        "id": "_sKdrBf7C3zT",
        "colab_type": "code",
        "colab": {}
      },
      "source": [
        "# Used in Colab to say we're using Version 2\n",
        "try:\n",
        "  %tensorflow_version 2.x\n",
        "except Exception:\n",
        "  pass"
      ],
      "execution_count": 1,
      "outputs": []
    },
    {
      "cell_type": "code",
      "metadata": {
        "id": "vq00R5VjDx_0",
        "colab_type": "code",
        "colab": {}
      },
      "source": [
        "# TensorFlow\n",
        "import tensorflow as tf\n",
        "import tensorflow_hub as hub\n",
        "import tensorflow_addons as tfa\n",
        "import tensorflow.keras as K\n",
        "import tensorflow.keras.layers as L\n",
        "from tensorflow.keras.regularizers import l2\n",
        "\n",
        "# Python\n",
        "import os\n",
        "import string\n",
        "\n",
        "# Data Structures\n",
        "import numpy as np\n",
        "import pandas as pd\n",
        "import json\n",
        "\n",
        "# Image/Plotting\n",
        "from matplotlib import pyplot as plt\n",
        "from sklearn import metrics\n",
        "import seaborn as sns\n",
        "\n",
        "# Debugging\n",
        "from tqdm import tqdm\n",
        "from IPython.core.ultratb import AutoFormattedTB\n",
        "__ITB__ = AutoFormattedTB(mode='Plain', color_scheme='LightBg', tb_offset=1) # Change to 'Verbose' mode for additional debugging"
      ],
      "execution_count": 113,
      "outputs": []
    },
    {
      "cell_type": "code",
      "metadata": {
        "id": "aowidUPYPhto",
        "colab_type": "code",
        "colab": {}
      },
      "source": [
        "# Insert file path to Esposalles Dataset in your Google Drive\n",
        "# Note that '!' indicates a shell command rather than python code...\n",
        "\n",
        "!wget -q https://raw.githubusercontent.com/ericburdett/named-entity-recognition/master/char_set.json\n",
        "!wget -q https://raw.githubusercontent.com/ericburdett/named-entity-recognition/master/esposalles-labels.csv"
      ],
      "execution_count": 3,
      "outputs": []
    },
    {
      "cell_type": "code",
      "metadata": {
        "id": "7GCrX5fb3mG-",
        "colab_type": "code",
        "colab": {}
      },
      "source": [
        "# ID: 1T2QLKZJ9E392vsbaHuXcdTvAhpbXLWtm\n",
        "!wget -q --load-cookies /tmp/cookies.txt \"https://docs.google.com/uc?export=download&confirm=$(wget --quiet --save-cookies /tmp/cookies.txt --keep-session-cookies --no-check-certificate 'https://docs.google.com/uc?export=download&id=1T2QLKZJ9E392vsbaHuXcdTvAhpbXLWtm' -O- | sed -rn 's/.*confirm=([0-9A-Za-z_]+).*/\\1\\n/p')&id=1T2QLKZJ9E392vsbaHuXcdTvAhpbXLWtm\" -O french_ner_dataset.csv && rm -rf /tmp/cookies.txt"
      ],
      "execution_count": 31,
      "outputs": []
    },
    {
      "cell_type": "code",
      "metadata": {
        "id": "oZsQbvep399R",
        "colab_type": "code",
        "colab": {
          "base_uri": "https://localhost:8080/",
          "height": 105
        },
        "outputId": "122258a7-0f99-4a4a-d495-687178815f15"
      },
      "source": [
        "!ls -l"
      ],
      "execution_count": 32,
      "outputs": [
        {
          "output_type": "stream",
          "text": [
            "total 2180\n",
            "-rw-r--r-- 1 root root    5212 Jul 15 14:20 char_set.json\n",
            "-rw-r--r-- 1 root root 1773710 Jul 15 14:20 esposalles-labels.csv\n",
            "-rw-r--r-- 1 root root  442182 Jul 15 14:35 french_ner_dataset.csv\n",
            "drwxr-xr-x 1 root root    4096 Jul 10 16:29 sample_data\n"
          ],
          "name": "stdout"
        }
      ]
    },
    {
      "cell_type": "markdown",
      "metadata": {
        "id": "B7IRJQe-G7Mw",
        "colab_type": "text"
      },
      "source": [
        "## Encoding Class\n",
        "\n",
        "The encoding class helps us map between strings and indexes."
      ]
    },
    {
      "cell_type": "code",
      "metadata": {
        "id": "zNpDzP01Dgij",
        "colab_type": "code",
        "colab": {}
      },
      "source": [
        "class Encoder():\n",
        "  def __init__(self, entity_list, sequence_size=20):\n",
        "    self.entity_dict = {e: i for i, e in enumerate(entity_list)}\n",
        "    self.idx_entity_dict = {v: k for k, v in self.entity_dict.items()}\n",
        "    self.sequence_size = sequence_size\n",
        "\n",
        "    with open('char_set.json') as file:\n",
        "      self.char_dict = json.load(file)\n",
        "    \n",
        "  def char_to_idx(self, char):\n",
        "    if char in self.char_dict['char_to_idx']:\n",
        "      return int(self.char_dict['char_to_idx'][char])\n",
        "    else:\n",
        "      return 0\n",
        "  \n",
        "  def idx_to_char(self, idx):\n",
        "    if str(int(idx)) in self.char_dict['idx_to_char']:\n",
        "      return self.char_dict['idx_to_char'][str(int(idx))]\n",
        "    else:\n",
        "      return ''\n",
        "  \n",
        "  def str_to_idxs(self, string):\n",
        "    assert type(string) == str\n",
        "\n",
        "    zeros = np.zeros(self.sequence_size)\n",
        "    idxs = []\n",
        "    for char in string:\n",
        "      idxs.append(self.char_to_idx(char))\n",
        "    \n",
        "    idxs = np.concatenate((idxs, zeros))[:self.sequence_size]\n",
        "\n",
        "    return idxs\n",
        "  \n",
        "  def idxs_to_str(self, idxs):\n",
        "    chars = ''\n",
        "\n",
        "    for idx in idxs:\n",
        "      chars += self.idx_to_char(idx)\n",
        "    \n",
        "    return chars\n",
        "  \n",
        "  def entity_to_idx(self, entity):\n",
        "    return self.entity_dict[entity]\n",
        "  \n",
        "  def idx_to_entity(self, idx):\n",
        "    return self.idx_entity_dict[idx]\n",
        "\n",
        "  def num_classes(self):\n",
        "    return len(self.entity_dict)"
      ],
      "execution_count": 15,
      "outputs": []
    },
    {
      "cell_type": "markdown",
      "metadata": {
        "id": "QgdOgvr_F8-N",
        "colab_type": "text"
      },
      "source": [
        "## Generator Creation\n",
        "\n",
        "TensorFlow can use a Python Generator to access the dataset during training"
      ]
    },
    {
      "cell_type": "code",
      "metadata": {
        "id": "Fe-GEolpE2QM",
        "colab_type": "code",
        "colab": {}
      },
      "source": [
        "# TensorFlow uses Generators to access the dataset during training\n",
        "def esposalles_df(path='/content/esposalles-labels.csv'):\n",
        "  if not os.path.exists(path):\n",
        "    raise Exception('Esposalles dataset does not exist in ' + path)\n",
        "  \n",
        "  df = pd.read_csv(path, header=None, sep='\\t', names=['img', 'entity', 'rel-entity', 'word', 'id'])\n",
        "  df = df.drop(columns=['img'])\n",
        "\n",
        "  return df\n",
        "\n",
        "def dataset_df(path='/content/french_ner_dataset.csv'):\n",
        "  if not os.path.exists(path):\n",
        "    raise Exception('French dataset does not exist in ' + path)\n",
        "  \n",
        "  df = pd.read_csv(path, header=None, sep='\\t', names=['word', 'entity', 'id'])\n",
        "  return df\n",
        "\n",
        "def encode_word_label(data, entity_type, encoder):\n",
        "  word = data['word']\n",
        "  encoded_word = encoder.str_to_idxs(str(word))\n",
        "  label = data[entity_type]\n",
        "  encoded_label = encoder.entity_to_idx(label)\n",
        "\n",
        "  return (encoded_word, encoded_label)\n",
        "\n",
        "def dataset_generator(dataset='french', entity_type='entity'): # options include 'entity' and 'rel-entity'\n",
        "  if dataset == 'french':\n",
        "    data = dataset_df()\n",
        "    df_size = data['id'].max()\n",
        "    range_var = range(1, df_size + 1)\n",
        "  else:\n",
        "    data = esposalles_df()\n",
        "    df_size = data['id'].max() + 1\n",
        "    range_var = range(df_size)\n",
        "\n",
        "  entity_list = list(set(data[entity_type].values))\n",
        "  encoder = Encoder(entity_list)\n",
        "\n",
        "  for i in range_var:\n",
        "    ith_sentence_words = data.loc[data['id'] == i]\n",
        "\n",
        "    sentence_words = []\n",
        "    sentence_labels = []\n",
        "\n",
        "    for index, row in ith_sentence_words.iterrows():\n",
        "      encoded_word = encoder.str_to_idxs(str(row['word']))\n",
        "      encoded_label = encoder.entity_to_idx(row['entity'])\n",
        "\n",
        "      sentence_words.append(encoded_word)\n",
        "      sentence_labels.append(encoded_label)\n",
        "    \n",
        "    yield tf.constant(np.array(sentence_words), dtype=tf.int64), tf.constant(np.array(sentence_labels), dtype=tf.int32)"
      ],
      "execution_count": 62,
      "outputs": []
    },
    {
      "cell_type": "code",
      "metadata": {
        "id": "ZcaLTY9q6xE2",
        "colab_type": "code",
        "colab": {
          "base_uri": "https://localhost:8080/",
          "height": 49
        },
        "outputId": "0581814a-b0ef-43cd-d9c2-abf03e2e56a1"
      },
      "source": [
        "dataset_df().loc[dataset_df()['id'] == 0]"
      ],
      "execution_count": 56,
      "outputs": [
        {
          "output_type": "execute_result",
          "data": {
            "text/html": [
              "<div>\n",
              "<style scoped>\n",
              "    .dataframe tbody tr th:only-of-type {\n",
              "        vertical-align: middle;\n",
              "    }\n",
              "\n",
              "    .dataframe tbody tr th {\n",
              "        vertical-align: top;\n",
              "    }\n",
              "\n",
              "    .dataframe thead th {\n",
              "        text-align: right;\n",
              "    }\n",
              "</style>\n",
              "<table border=\"1\" class=\"dataframe\">\n",
              "  <thead>\n",
              "    <tr style=\"text-align: right;\">\n",
              "      <th></th>\n",
              "      <th>word</th>\n",
              "      <th>entity</th>\n",
              "      <th>id</th>\n",
              "    </tr>\n",
              "  </thead>\n",
              "  <tbody>\n",
              "  </tbody>\n",
              "</table>\n",
              "</div>"
            ],
            "text/plain": [
              "Empty DataFrame\n",
              "Columns: [word, entity, id]\n",
              "Index: []"
            ]
          },
          "metadata": {
            "tags": []
          },
          "execution_count": 56
        }
      ]
    },
    {
      "cell_type": "markdown",
      "metadata": {
        "id": "_5mgsr2oGPFh",
        "colab_type": "text"
      },
      "source": [
        "## Model Architecture\n",
        "\n",
        "This is where we can build our model using the tf.keras high-level API\n",
        "\n",
        "We subclass from tf.keras.Model and implement the *call* method. This is the *forward pass* of the neural network."
      ]
    },
    {
      "cell_type": "code",
      "metadata": {
        "id": "PKXklX-gGYD_",
        "colab_type": "code",
        "colab": {}
      },
      "source": [
        "class NERModel(K.Model):\n",
        "  def __init__(self, input_dim=197, num_classes=6, input_length=20):\n",
        "    super(NERModel, self).__init__()\n",
        "\n",
        "    self.embedding = L.Embedding(input_dim=input_dim, output_dim=128, input_length=input_length)\n",
        "\n",
        "    self.conv1 = L.Conv2D(128, 3, padding='same', activation='relu')\n",
        "    self.conv2 = L.Conv2D(256, 3, padding='same', activation='relu')\n",
        "\n",
        "    self.lstm = L.Bidirectional(L.LSTM(512, dropout=0.4))\n",
        "\n",
        "    self.fc1 = L.Dense(512, activation='relu')\n",
        "    self.drop = L.Dropout(0.5)\n",
        "    self.fc2 = L.Dense(num_classes)\n",
        "\n",
        "    self.softmax = L.Softmax(axis=1)\n",
        "\n",
        "  def __call__(self, x, **kwargs):\n",
        "    out = self.embedding(x)\n",
        "\n",
        "    out = tf.expand_dims(out, 0)\n",
        "    out = self.conv1(out)\n",
        "    out = self.conv2(out)\n",
        "\n",
        "    out = tf.squeeze(out, axis=0)\n",
        "    out = self.lstm(out)\n",
        "\n",
        "    out = self.fc1(out)\n",
        "    out = self.drop(out)\n",
        "    out = self.fc2(out)\n",
        "\n",
        "    out = self.softmax(out)\n",
        "\n",
        "    return out"
      ],
      "execution_count": 154,
      "outputs": []
    },
    {
      "cell_type": "markdown",
      "metadata": {
        "id": "GzvxSgFXNZJK",
        "colab_type": "text"
      },
      "source": [
        "### Test to make sure the model is doing what we think it is...\n",
        "\n",
        "The output shape should be (NUM_WORDS_IN_SENTENCE, NUM_CLASSES). Example: (41, 6)\n",
        "\n",
        "The values along Axis=0 represents a word\n",
        "\n",
        "The values along Axis=1 represents the probability distribution"
      ]
    },
    {
      "cell_type": "code",
      "metadata": {
        "id": "QFbSH5ZQ6iJ9",
        "colab_type": "code",
        "colab": {
          "base_uri": "https://localhost:8080/",
          "height": 140
        },
        "outputId": "ae15d3c5-1e46-49b9-c137-a846ea571f82"
      },
      "source": [
        "labels.numpy()"
      ],
      "execution_count": 117,
      "outputs": [
        {
          "output_type": "execute_result",
          "data": {
            "text/plain": [
              "array([ 9,  6,  1, 12, 12, 12, 12,  7,  7,  7,  7,  7,  7,  7,  7,  7,  7,\n",
              "        7,  7,  7,  7,  7,  7, 13,  7,  7,  7,  7, 14,  5,  7,  8, 16,  7,\n",
              "        7,  7,  7,  7,  7,  7,  7,  7,  7,  7,  7, 17,  7,  7,  0,  7,  7,\n",
              "        7,  7,  7,  7,  7, 14,  5,  7,  7,  7, 10,  2,  7,  7,  7,  7,  7,\n",
              "        7,  7,  7,  7,  7,  7,  7,  7, 17,  7,  7,  7,  7,  7,  7,  7,  7,\n",
              "        7,  7,  7,  7,  7,  7,  7,  7,  7,  7, 17,  7,  7,  7,  7,  7,  7,\n",
              "        7,  7,  7, 10,  2,  7,  7], dtype=int32)"
            ]
          },
          "metadata": {
            "tags": []
          },
          "execution_count": 117
        }
      ]
    },
    {
      "cell_type": "code",
      "metadata": {
        "id": "uzBsYVZjNdNv",
        "colab_type": "code",
        "colab": {
          "base_uri": "https://localhost:8080/",
          "height": 140
        },
        "outputId": "97e8d24d-d2d5-489e-e999-6aa5f1cc31c1"
      },
      "source": [
        "generator = dataset_generator()\n",
        "sentence, labels = next(generator)\n",
        "\n",
        "model = NERModel(num_classes=21)\n",
        "results = model(sentence)\n",
        "print('Shape of output from NER Model: ', results.shape)\n",
        "print('Probability Distribution for one word in the sentence: ', results[0])\n",
        "print('Predicted class for the word: ', tf.argmax(results[0]).numpy())"
      ],
      "execution_count": 155,
      "outputs": [
        {
          "output_type": "stream",
          "text": [
            "Shape of output from NER Model:  (109, 21)\n",
            "Probability Distribution for one word in the sentence:  tf.Tensor(\n",
            "[0.0478413  0.04748739 0.04777924 0.04763375 0.0472972  0.04771234\n",
            " 0.04775007 0.04786957 0.04746938 0.04738823 0.0474822  0.04820641\n",
            " 0.04729766 0.04763195 0.0478335  0.04751503 0.04761866 0.04748493\n",
            " 0.04760964 0.04768576 0.04740577], shape=(21,), dtype=float32)\n",
            "Predicted class for the word:  11\n"
          ],
          "name": "stdout"
        }
      ]
    },
    {
      "cell_type": "markdown",
      "metadata": {
        "id": "9isM9-2-qzQA",
        "colab_type": "text"
      },
      "source": [
        "## Evaluation Metrics\n",
        "\n",
        "For named-entity-recognition, we will use Precision, Recall, and F1 for our\n",
        "metrics. An easy way to do this is using sklearn metrics. We need to define\n",
        "custom functions so that we can pass the *average* parameter when it's wrapped\n",
        "in a *tf.py_function*."
      ]
    },
    {
      "cell_type": "code",
      "metadata": {
        "id": "B7MASql6evPg",
        "colab_type": "code",
        "colab": {}
      },
      "source": [
        "def precision_score(y_true, y_pred):\n",
        "  return metrics.precision_score(y_true, y_pred, average='macro')\n",
        "\n",
        "def recall_score(y_true, y_pred):\n",
        "  return metrics.recall_score(y_true, y_pred, average='macro')\n",
        "\n",
        "def f1_score(y_true, y_pred):\n",
        "  return metrics.f1_score(y_true, y_pred, average='macro')"
      ],
      "execution_count": 64,
      "outputs": []
    },
    {
      "cell_type": "markdown",
      "metadata": {
        "id": "eo6dYjU7HGxv",
        "colab_type": "text"
      },
      "source": [
        "## Training Loop\n",
        "\n",
        "Build our training loop and creating custom train_step and val_step functions.\n",
        "\n",
        "GradientTape allows us to keep track of the losses and gradients for each pass through the network. Structuring our code this way makes it much easier for debugging purposes and for us to iterate through our design.\n",
        "\n",
        "Notice the decorator *@tf.function*. This tells TensorFlow to create the computation graph from the python code and allows our model to run much faster. The *experimental_relax_shapes* parameter allows us to pass tensors with various sentence lengths without TensorFlow getting upset at us.\n",
        "\n",
        "TensorFlow 2 also does some weird things with scope when it constructs the computation graph through a @tf.function annotation. Thus, if we use a more object oriented approach, we can avoid some of the nasty scope issues. See the following articles for more details:\n",
        "* https://pgaleone.eu/tensorflow/tf.function/2019/03/21/dissecting-tf-function-part-1/\n",
        "* https://pgaleone.eu/tensorflow/tf.function/2019/04/03/dissecting-tf-function-part-2/\n"
      ]
    },
    {
      "cell_type": "code",
      "metadata": {
        "id": "yJKYEv0JVPoG",
        "colab_type": "code",
        "colab": {}
      },
      "source": [
        "class Train:\n",
        "  def __init__(self, epochs=15):\n",
        "    # How many times through the training set should we go?\n",
        "    self.epochs = epochs\n",
        "\n",
        "    # Determine sizes for training and validation sets\n",
        "    dataset_size = dataset_df()['id'].max()\n",
        "    self.train_dataset_size = int(.8 * dataset_size)\n",
        "    self.val_dataset_size = dataset_size - self.train_dataset_size\n",
        "\n",
        "    # Break up dataset into training/validation\n",
        "    dataset = tf.data.Dataset.from_generator(\n",
        "        lambda: dataset_generator(dataset='french'),\n",
        "        (tf.int64, tf.int32),\n",
        "        (tf.TensorShape([None, 20]), tf.TensorShape([None])))\n",
        "    self.train_dataset = dataset.take(self.train_dataset_size).shuffle(self.train_dataset_size, reshuffle_each_iteration=True)\n",
        "    self.val_dataset = dataset.skip(self.train_dataset_size)\n",
        "\n",
        "    # Create our model\n",
        "    self.model = NERModel(num_classes=21)\n",
        "\n",
        "    # Use CrossEntropy for our loss function and Adam for our optimizer\n",
        "    # self.loss_fn = K.losses.SparseCategoricalCrossentropy(from_logits=False)\n",
        "    self.loss_fn = K.losses.CategoricalCrossentropy(from_logits=False, label_smoothing=0.1)\n",
        "    self.optimizer = K.optimizers.Adam(learning_rate=1e-3)\n",
        "\n",
        "    # Metrics to track our performance\n",
        "    # Consider adding metrics like Precision/Recall here...\n",
        "    self.train_loss = tf.keras.metrics.Mean(name='train_loss')\n",
        "    self.train_precision = tf.keras.metrics.Mean(name='train_precision')\n",
        "    self.train_recall = tf.keras.metrics.Mean(name='train_recall')\n",
        "    self.train_f1 = tf.keras.metrics.Mean(name='train_f1')\n",
        "    self.val_loss = tf.keras.metrics.Mean(name='val_loss')\n",
        "    self.val_precision = tf.keras.metrics.Mean(name='val_precision')\n",
        "    self.val_recall = tf.keras.metrics.Mean(name='val_recall')\n",
        "    self.val_f1 = tf.keras.metrics.Mean(name='val_f1')\n",
        "\n",
        "  # @tf.function(experimental_relax_shapes=True)\n",
        "  def train_step(self, words, labels, ones):\n",
        "    with tf.GradientTape() as tape:\n",
        "      # Make a prediction, calculate the loss\n",
        "      predictions = self.model(words, training=True)\n",
        "      loss = self.loss_fn(tf.one_hot(tf.cast(labels, tf.int32), 21), predictions)\n",
        "\n",
        "    # Obtain gradients from GradientTape\n",
        "    gradients = tape.gradient(loss, self.model.trainable_variables)\n",
        "\n",
        "    # Propagate loss back through the network and take a step with the optimizer  \n",
        "    self.optimizer.apply_gradients(zip(gradients, self.model.trainable_variables))\n",
        "    \n",
        "    # Update our metrics\n",
        "    results = tf.argmax(predictions, axis=1)\n",
        "    precision = tf.py_function(precision_score, [labels, results], Tout=[tf.float32])\n",
        "    recall = tf.py_function(recall_score, [labels, results], Tout=[tf.float32])\n",
        "    f1 = tf.py_function(f1_score, [labels, results], Tout=[tf.float32])\n",
        "\n",
        "    self.train_loss(loss)\n",
        "    self.train_precision(precision)\n",
        "    self.train_recall(recall)\n",
        "    self.train_f1(f1)\n",
        "\n",
        "  # @tf.function(experimental_relax_shapes=True)\n",
        "  def validation_step(self, words, labels, ones):\n",
        "    # Make a prediction and calculate the loss\n",
        "    predictions = self.model(words, training=False)\n",
        "    loss = self.loss_fn(tf.one_hot(tf.cast(labels, tf.int32), 21), predictions)\n",
        "\n",
        "    # Update our metrics\n",
        "    results = tf.argmax(predictions, axis=1)\n",
        "    precision = tf.py_function(precision_score, [labels, results], Tout=[tf.float32])\n",
        "    recall = tf.py_function(recall_score, [labels, results], Tout=[tf.float32])\n",
        "    f1 = tf.py_function(f1_score, [labels, results], Tout=[tf.float32])\n",
        "\n",
        "    self.val_loss(loss)\n",
        "    self.val_precision(precision)\n",
        "    self.val_recall(recall)\n",
        "    self.val_f1(f1)\n",
        "\n",
        "  def __call__(self):\n",
        "    # Variables to keep track of our progress through the entire training process\n",
        "    # Used below when we create our graphs\n",
        "    try:\n",
        "      train_losses, val_losses = [], []\n",
        "      train_precisions, val_precisions = [], []\n",
        "      train_recalls, val_recalls = [], []\n",
        "      train_f1s, val_f1s = [], []\n",
        "\n",
        "      for epoch in range(self.epochs):\n",
        "        # Reset Metrics for another epoch\n",
        "        self.train_loss.reset_states()\n",
        "        self.train_precision.reset_states()\n",
        "        self.train_recall.reset_states()\n",
        "        self.train_f1.reset_states()\n",
        "        self.val_loss.reset_states()\n",
        "        self.val_precision.reset_states()\n",
        "        self.val_recall.reset_states()\n",
        "        self.val_f1.reset_states()\n",
        "\n",
        "        # Training Loop\n",
        "        train_loop = tqdm(total=self.train_dataset_size, position=0, leave=True)\n",
        "        for words, labels in self.train_dataset:\n",
        "          # One training iteration\n",
        "          self.train_step(words, labels, tf.ones(labels.shape[0], dtype=tf.int32))\n",
        "          train_loop.set_description('Train - Epoch: {}, Loss: {:.4f}, Precision: {:.4f}, Recall: {:.4f}, F1: {:.4f}'.format(\n",
        "              epoch, self.train_loss.result(), self.train_precision.result(), self.train_recall.result(), self.train_f1.result()))\n",
        "          train_loop.update(1)\n",
        "\n",
        "        train_loop.close()\n",
        "\n",
        "        # Validation Loop\n",
        "        val_loop = tqdm(total=self.val_dataset_size, position=0, leave=True)\n",
        "        for words, labels in self.val_dataset:\n",
        "          # One validation iteration\n",
        "          self.validation_step(words, labels, tf.ones(labels.shape[0], dtype=tf.int32))\n",
        "          val_loop.set_description('Val  - Epoch: {}, Loss: {:.4f}, Precision: {:.4f}, Recall: {:.4f}, F1: {:.4f}'.format(\n",
        "              epoch, self.val_loss.result(), self.val_precision.result(), self.val_recall.result(), self.val_f1.result()))\n",
        "          val_loop.update(1)\n",
        "          \n",
        "        val_loop.close()\n",
        "\n",
        "        train_losses.append(self.train_loss.result())\n",
        "        val_losses.append(self.val_loss.result())\n",
        "\n",
        "        train_precisions.append(self.train_precision.result())\n",
        "        val_precisions.append(self.val_precision.result())\n",
        "\n",
        "        train_recalls.append(self.train_recall.result())\n",
        "        val_recalls.append(self.val_recall.result())\n",
        "\n",
        "        train_f1s.append(self.train_f1.result())\n",
        "        val_f1s.append(self.val_f1.result())\n",
        "    except:\n",
        "      __ITB__()\n",
        "    finally:\n",
        "      return self.model, (train_losses, val_losses), (train_precisions, val_precisions), (train_recalls, val_recalls), (train_f1s, val_f1s)"
      ],
      "execution_count": 156,
      "outputs": []
    },
    {
      "cell_type": "code",
      "metadata": {
        "id": "sSrAZsyHX3VL",
        "colab_type": "code",
        "colab": {
          "base_uri": "https://localhost:8080/",
          "height": 1000
        },
        "outputId": "c9bdfa64-118e-4d02-dcab-4ffc7cea1a02"
      },
      "source": [
        "try:\n",
        "  train = Train(epochs=100)\n",
        "  model, losses, precisions, recalls, f1s = train()\n",
        "except:\n",
        "  __ITB__()"
      ],
      "execution_count": 157,
      "outputs": [
        {
          "output_type": "stream",
          "text": [
            "  0%|          | 0/174 [00:00<?, ?it/s]/usr/local/lib/python3.6/dist-packages/sklearn/metrics/_classification.py:1272: UndefinedMetricWarning: Precision is ill-defined and being set to 0.0 in labels with no predicted samples. Use `zero_division` parameter to control this behavior.\n",
            "  _warn_prf(average, modifier, msg_start, len(result))\n",
            "/usr/local/lib/python3.6/dist-packages/sklearn/metrics/_classification.py:1272: UndefinedMetricWarning: Recall is ill-defined and being set to 0.0 in labels with no true samples. Use `zero_division` parameter to control this behavior.\n",
            "  _warn_prf(average, modifier, msg_start, len(result))\n",
            "Train - Epoch: 0, Loss: 1.3186, Precision: 0.1445, Recall: 0.1756, F1: 0.1535: 100%|██████████| 174/174 [00:18<00:00,  9.17it/s]\n",
            "Val  - Epoch: 0, Loss: 1.0711, Precision: 0.2163, Recall: 0.2729, F1: 0.2210: 100%|██████████| 44/44 [00:07<00:00,  6.22it/s]\n",
            "Train - Epoch: 1, Loss: 0.9758, Precision: 0.3938, Recall: 0.4151, F1: 0.3925: 100%|██████████| 174/174 [00:18<00:00,  9.40it/s]\n",
            "Val  - Epoch: 1, Loss: 1.0477, Precision: 0.2164, Recall: 0.2631, F1: 0.2242: 100%|██████████| 44/44 [00:07<00:00,  6.12it/s]\n",
            "Train - Epoch: 2, Loss: 0.8446, Precision: 0.5530, Recall: 0.5647, F1: 0.5480: 100%|██████████| 174/174 [00:18<00:00,  9.30it/s]\n",
            "Val  - Epoch: 2, Loss: 0.9793, Precision: 0.2579, Recall: 0.2824, F1: 0.2620: 100%|██████████| 44/44 [00:07<00:00,  6.04it/s]\n",
            "Train - Epoch: 3, Loss: 0.7896, Precision: 0.6578, Recall: 0.6587, F1: 0.6476: 100%|██████████| 174/174 [00:18<00:00,  9.40it/s]\n",
            "Val  - Epoch: 3, Loss: 0.9473, Precision: 0.2694, Recall: 0.2626, F1: 0.2610: 100%|██████████| 44/44 [00:07<00:00,  6.20it/s]\n",
            "Train - Epoch: 4, Loss: 0.7458, Precision: 0.7262, Recall: 0.7239, F1: 0.7143: 100%|██████████| 174/174 [00:18<00:00,  9.49it/s]\n",
            "Val  - Epoch: 4, Loss: 0.9438, Precision: 0.3394, Recall: 0.3607, F1: 0.3328: 100%|██████████| 44/44 [00:07<00:00,  6.02it/s]\n",
            "Train - Epoch: 5, Loss: 0.7179, Precision: 0.7865, Recall: 0.7806, F1: 0.7725: 100%|██████████| 174/174 [00:19<00:00,  9.11it/s]\n",
            "Val  - Epoch: 5, Loss: 0.9346, Precision: 0.3605, Recall: 0.3997, F1: 0.3617: 100%|██████████| 44/44 [00:07<00:00,  6.12it/s]\n",
            "Train - Epoch: 6, Loss: 0.7005, Precision: 0.8257, Recall: 0.8195, F1: 0.8119: 100%|██████████| 174/174 [00:18<00:00,  9.54it/s]\n",
            "Val  - Epoch: 6, Loss: 0.9199, Precision: 0.4077, Recall: 0.4183, F1: 0.3999: 100%|██████████| 44/44 [00:07<00:00,  6.09it/s]\n",
            "Train - Epoch: 7, Loss: 0.6857, Precision: 0.8471, Recall: 0.8381, F1: 0.8326: 100%|██████████| 174/174 [00:18<00:00,  9.38it/s]\n",
            "Val  - Epoch: 7, Loss: 0.9123, Precision: 0.4169, Recall: 0.4187, F1: 0.4061: 100%|██████████| 44/44 [00:07<00:00,  6.12it/s]\n",
            "Train - Epoch: 8, Loss: 0.6727, Precision: 0.8830, Recall: 0.8772, F1: 0.8720: 100%|██████████| 174/174 [00:18<00:00,  9.55it/s]\n",
            "Val  - Epoch: 8, Loss: 0.8862, Precision: 0.4213, Recall: 0.4482, F1: 0.4215: 100%|██████████| 44/44 [00:07<00:00,  5.89it/s]\n",
            "Train - Epoch: 9, Loss: 0.6606, Precision: 0.9074, Recall: 0.9024, F1: 0.8976: 100%|██████████| 174/174 [00:19<00:00,  9.10it/s]\n",
            "Val  - Epoch: 9, Loss: 0.9285, Precision: 0.4258, Recall: 0.4305, F1: 0.4171: 100%|██████████| 44/44 [00:07<00:00,  6.07it/s]\n",
            "Train - Epoch: 10, Loss: 0.6478, Precision: 0.9315, Recall: 0.9238, F1: 0.9211: 100%|██████████| 174/174 [00:18<00:00,  9.53it/s]\n",
            "Val  - Epoch: 10, Loss: 0.9742, Precision: 0.4010, Recall: 0.4120, F1: 0.3949: 100%|██████████| 44/44 [00:07<00:00,  5.95it/s]\n",
            "Train - Epoch: 11, Loss: 0.6457, Precision: 0.9371, Recall: 0.9315, F1: 0.9284: 100%|██████████| 174/174 [00:19<00:00,  9.08it/s]\n",
            "Val  - Epoch: 11, Loss: 0.9831, Precision: 0.4043, Recall: 0.4207, F1: 0.3991: 100%|██████████| 44/44 [00:07<00:00,  6.03it/s]\n",
            "Train - Epoch: 12, Loss: 0.6404, Precision: 0.9526, Recall: 0.9486, F1: 0.9456: 100%|██████████| 174/174 [00:18<00:00,  9.38it/s]\n",
            "Val  - Epoch: 12, Loss: 0.9760, Precision: 0.4330, Recall: 0.4317, F1: 0.4203: 100%|██████████| 44/44 [00:07<00:00,  5.93it/s]\n",
            "Train - Epoch: 13, Loss: 0.6340, Precision: 0.9565, Recall: 0.9530, F1: 0.9506: 100%|██████████| 174/174 [00:18<00:00,  9.25it/s]\n",
            "Val  - Epoch: 13, Loss: 0.9521, Precision: 0.4268, Recall: 0.4237, F1: 0.4132: 100%|██████████| 44/44 [00:07<00:00,  6.15it/s]\n",
            "Train - Epoch: 14, Loss: 0.6296, Precision: 0.9684, Recall: 0.9638, F1: 0.9624: 100%|██████████| 174/174 [00:18<00:00,  9.26it/s]\n",
            "Val  - Epoch: 14, Loss: 0.9874, Precision: 0.4274, Recall: 0.4316, F1: 0.4186: 100%|██████████| 44/44 [00:07<00:00,  5.93it/s]\n",
            "Train - Epoch: 15, Loss: 0.6269, Precision: 0.9750, Recall: 0.9707, F1: 0.9696: 100%|██████████| 174/174 [00:19<00:00,  8.98it/s]\n",
            "Val  - Epoch: 15, Loss: 0.9805, Precision: 0.4177, Recall: 0.4172, F1: 0.4054: 100%|██████████| 44/44 [00:07<00:00,  6.09it/s]\n",
            "Train - Epoch: 16, Loss: 0.6251, Precision: 0.9738, Recall: 0.9723, F1: 0.9701: 100%|██████████| 174/174 [00:18<00:00,  9.40it/s]\n",
            "Val  - Epoch: 16, Loss: 0.9955, Precision: 0.4051, Recall: 0.3808, F1: 0.3793: 100%|██████████| 44/44 [00:07<00:00,  5.94it/s]\n",
            "Train - Epoch: 17, Loss: 0.6227, Precision: 0.9776, Recall: 0.9753, F1: 0.9738: 100%|██████████| 174/174 [00:18<00:00,  9.52it/s]\n",
            "Val  - Epoch: 17, Loss: 0.9655, Precision: 0.4138, Recall: 0.4088, F1: 0.3995: 100%|██████████| 44/44 [00:07<00:00,  6.09it/s]\n",
            "Train - Epoch: 18, Loss: 0.6233, Precision: 0.9739, Recall: 0.9711, F1: 0.9693: 100%|██████████| 174/174 [00:18<00:00,  9.43it/s]\n",
            "Val  - Epoch: 18, Loss: 0.9141, Precision: 0.4333, Recall: 0.4348, F1: 0.4211: 100%|██████████| 44/44 [00:07<00:00,  6.12it/s]\n",
            "Train - Epoch: 19, Loss: 0.6224, Precision: 0.9748, Recall: 0.9731, F1: 0.9711: 100%|██████████| 174/174 [00:18<00:00,  9.57it/s]\n",
            "Val  - Epoch: 19, Loss: 0.9702, Precision: 0.4027, Recall: 0.3968, F1: 0.3886: 100%|██████████| 44/44 [00:07<00:00,  6.17it/s]\n",
            "Train - Epoch: 20, Loss: 0.6197, Precision: 0.9763, Recall: 0.9758, F1: 0.9733: 100%|██████████| 174/174 [00:18<00:00,  9.33it/s]\n",
            "Val  - Epoch: 20, Loss: 0.9780, Precision: 0.3966, Recall: 0.3756, F1: 0.3743: 100%|██████████| 44/44 [00:07<00:00,  6.03it/s]\n",
            "Train - Epoch: 21, Loss: 0.6203, Precision: 0.9797, Recall: 0.9776, F1: 0.9759: 100%|██████████| 174/174 [00:18<00:00,  9.58it/s]\n",
            "Val  - Epoch: 21, Loss: 1.0062, Precision: 0.4011, Recall: 0.3997, F1: 0.3880: 100%|██████████| 44/44 [00:07<00:00,  6.12it/s]\n",
            "Train - Epoch: 22, Loss: 0.6249, Precision: 0.9650, Recall: 0.9630, F1: 0.9604: 100%|██████████| 174/174 [00:18<00:00,  9.49it/s]\n",
            "Val  - Epoch: 22, Loss: 1.0622, Precision: 0.3643, Recall: 0.3873, F1: 0.3633: 100%|██████████| 44/44 [00:07<00:00,  6.10it/s]\n",
            "Train - Epoch: 23, Loss: 0.6311, Precision: 0.9487, Recall: 0.9471, F1: 0.9433: 100%|██████████| 174/174 [00:18<00:00,  9.27it/s]\n",
            "Val  - Epoch: 23, Loss: 0.9588, Precision: 0.4337, Recall: 0.4296, F1: 0.4205: 100%|██████████| 44/44 [00:07<00:00,  6.18it/s]\n",
            "Train - Epoch: 24, Loss: 0.6614, Precision: 0.9014, Recall: 0.9016, F1: 0.8936: 100%|██████████| 174/174 [00:18<00:00,  9.44it/s]\n",
            "Val  - Epoch: 24, Loss: 1.0189, Precision: 0.3807, Recall: 0.4024, F1: 0.3799: 100%|██████████| 44/44 [00:07<00:00,  5.91it/s]\n",
            "Train - Epoch: 25, Loss: 0.6306, Precision: 0.9576, Recall: 0.9548, F1: 0.9515: 100%|██████████| 174/174 [00:18<00:00,  9.22it/s]\n",
            "Val  - Epoch: 25, Loss: 0.9992, Precision: 0.4068, Recall: 0.4219, F1: 0.3992: 100%|██████████| 44/44 [00:07<00:00,  6.17it/s]\n",
            "Train - Epoch: 26, Loss: 0.6220, Precision: 0.9754, Recall: 0.9751, F1: 0.9724: 100%|██████████| 174/174 [00:18<00:00,  9.41it/s]\n",
            "Val  - Epoch: 26, Loss: 0.9907, Precision: 0.4076, Recall: 0.4025, F1: 0.3902: 100%|██████████| 44/44 [00:07<00:00,  5.85it/s]\n",
            "Train - Epoch: 27, Loss: 0.6153, Precision: 0.9817, Recall: 0.9793, F1: 0.9786: 100%|██████████| 174/174 [00:18<00:00,  9.33it/s]\n",
            "Val  - Epoch: 27, Loss: 1.0108, Precision: 0.4094, Recall: 0.4142, F1: 0.3981: 100%|██████████| 44/44 [00:07<00:00,  6.22it/s]\n",
            "Train - Epoch: 28, Loss: 0.6129, Precision: 0.9853, Recall: 0.9851, F1: 0.9834: 100%|██████████| 174/174 [00:18<00:00,  9.62it/s]\n",
            "Val  - Epoch: 28, Loss: 1.0087, Precision: 0.4262, Recall: 0.4235, F1: 0.4114: 100%|██████████| 44/44 [00:07<00:00,  5.85it/s]\n",
            "Train - Epoch: 29, Loss: 0.6130, Precision: 0.9857, Recall: 0.9841, F1: 0.9831: 100%|██████████| 174/174 [00:18<00:00,  9.31it/s]\n",
            "Val  - Epoch: 29, Loss: 0.9953, Precision: 0.4149, Recall: 0.4160, F1: 0.4007: 100%|██████████| 44/44 [00:07<00:00,  6.22it/s]\n",
            "Train - Epoch: 30, Loss: 0.6118, Precision: 0.9844, Recall: 0.9837, F1: 0.9822: 100%|██████████| 174/174 [00:18<00:00,  9.51it/s]\n",
            "Val  - Epoch: 30, Loss: 0.9771, Precision: 0.4123, Recall: 0.4023, F1: 0.3955: 100%|██████████| 44/44 [00:07<00:00,  6.00it/s]\n",
            "Train - Epoch: 31, Loss: 0.6205, Precision: 0.9786, Recall: 0.9779, F1: 0.9757: 100%|██████████| 174/174 [00:18<00:00,  9.30it/s]\n",
            "Val  - Epoch: 31, Loss: 1.0058, Precision: 0.4034, Recall: 0.3913, F1: 0.3875: 100%|██████████| 44/44 [00:07<00:00,  6.14it/s]\n",
            "Train - Epoch: 32, Loss: 0.6166, Precision: 0.9808, Recall: 0.9778, F1: 0.9766: 100%|██████████| 174/174 [00:18<00:00,  9.54it/s]\n",
            "Val  - Epoch: 32, Loss: 1.0040, Precision: 0.4058, Recall: 0.4025, F1: 0.3909: 100%|██████████| 44/44 [00:07<00:00,  6.02it/s]\n",
            "Train - Epoch: 33, Loss: 0.6126, Precision: 0.9850, Recall: 0.9829, F1: 0.9818: 100%|██████████| 174/174 [00:18<00:00,  9.17it/s]\n",
            "Val  - Epoch: 33, Loss: 1.0028, Precision: 0.4228, Recall: 0.4063, F1: 0.4024: 100%|██████████| 44/44 [00:07<00:00,  6.02it/s]\n",
            "Train - Epoch: 34, Loss: 0.6122, Precision: 0.9868, Recall: 0.9847, F1: 0.9839: 100%|██████████| 174/174 [00:18<00:00,  9.51it/s]\n",
            "Val  - Epoch: 34, Loss: 1.0236, Precision: 0.3895, Recall: 0.3872, F1: 0.3775: 100%|██████████| 44/44 [00:07<00:00,  5.92it/s]\n",
            "Train - Epoch: 35, Loss: 0.6110, Precision: 0.9851, Recall: 0.9855, F1: 0.9837: 100%|██████████| 174/174 [00:18<00:00,  9.29it/s]\n",
            "Val  - Epoch: 35, Loss: 1.0195, Precision: 0.3888, Recall: 0.3852, F1: 0.3766: 100%|██████████| 44/44 [00:07<00:00,  5.95it/s]\n",
            "Train - Epoch: 36, Loss: 0.6109, Precision: 0.9844, Recall: 0.9841, F1: 0.9823: 100%|██████████| 174/174 [00:18<00:00,  9.49it/s]\n",
            "Val  - Epoch: 36, Loss: 1.0178, Precision: 0.4054, Recall: 0.4034, F1: 0.3917: 100%|██████████| 44/44 [00:07<00:00,  5.88it/s]\n",
            "Train - Epoch: 37, Loss: 0.6093, Precision: 0.9871, Recall: 0.9861, F1: 0.9851: 100%|██████████| 174/174 [00:19<00:00,  9.14it/s]\n",
            "Val  - Epoch: 37, Loss: 0.9889, Precision: 0.3991, Recall: 0.3949, F1: 0.3865: 100%|██████████| 44/44 [00:07<00:00,  6.06it/s]\n",
            "Train - Epoch: 38, Loss: 0.6088, Precision: 0.9876, Recall: 0.9874, F1: 0.9860: 100%|██████████| 174/174 [00:18<00:00,  9.19it/s]\n",
            "Val  - Epoch: 38, Loss: 0.9839, Precision: 0.4074, Recall: 0.3925, F1: 0.3897: 100%|██████████| 44/44 [00:07<00:00,  5.80it/s]\n",
            "Train - Epoch: 39, Loss: 0.6088, Precision: 0.9868, Recall: 0.9871, F1: 0.9854: 100%|██████████| 174/174 [00:18<00:00,  9.22it/s]\n",
            "Val  - Epoch: 39, Loss: 0.9917, Precision: 0.4162, Recall: 0.3957, F1: 0.3940: 100%|██████████| 44/44 [00:07<00:00,  6.04it/s]\n",
            "Train - Epoch: 40, Loss: 0.6095, Precision: 0.9864, Recall: 0.9856, F1: 0.9844: 100%|██████████| 174/174 [00:18<00:00,  9.31it/s]\n",
            "Val  - Epoch: 40, Loss: 0.9829, Precision: 0.4051, Recall: 0.3883, F1: 0.3865: 100%|██████████| 44/44 [00:07<00:00,  5.91it/s]\n",
            "Train - Epoch: 41, Loss: 0.6093, Precision: 0.9868, Recall: 0.9853, F1: 0.9843: 100%|██████████| 174/174 [00:18<00:00,  9.19it/s]\n",
            "Val  - Epoch: 41, Loss: 0.9896, Precision: 0.4093, Recall: 0.3997, F1: 0.3896: 100%|██████████| 44/44 [00:07<00:00,  6.11it/s]\n",
            "Train - Epoch: 42, Loss: 0.6091, Precision: 0.9872, Recall: 0.9854, F1: 0.9848: 100%|██████████| 174/174 [00:18<00:00,  9.43it/s]\n",
            "Val  - Epoch: 42, Loss: 1.0058, Precision: 0.4056, Recall: 0.3982, F1: 0.3900: 100%|██████████| 44/44 [00:07<00:00,  5.75it/s]\n",
            "Train - Epoch: 43, Loss: 0.6118, Precision: 0.9867, Recall: 0.9859, F1: 0.9845: 100%|██████████| 174/174 [00:19<00:00,  9.05it/s]\n",
            "Val  - Epoch: 43, Loss: 0.9747, Precision: 0.4237, Recall: 0.4119, F1: 0.4065: 100%|██████████| 44/44 [00:07<00:00,  6.17it/s]\n",
            "Train - Epoch: 44, Loss: 0.6407, Precision: 0.9338, Recall: 0.9375, F1: 0.9299: 100%|██████████| 174/174 [00:18<00:00,  9.30it/s]\n",
            "Val  - Epoch: 44, Loss: 1.0033, Precision: 0.3429, Recall: 0.3202, F1: 0.3223: 100%|██████████| 44/44 [00:07<00:00,  6.14it/s]\n",
            "Train - Epoch: 45, Loss: 0.6384, Precision: 0.9342, Recall: 0.9283, F1: 0.9249: 100%|██████████| 174/174 [00:18<00:00,  9.37it/s]\n",
            "Val  - Epoch: 45, Loss: 1.0183, Precision: 0.3987, Recall: 0.4011, F1: 0.3910: 100%|██████████| 44/44 [00:07<00:00,  6.08it/s]\n",
            "Train - Epoch: 46, Loss: 0.6172, Precision: 0.9688, Recall: 0.9688, F1: 0.9666: 100%|██████████| 174/174 [00:18<00:00,  9.52it/s]\n",
            "Val  - Epoch: 46, Loss: 0.9867, Precision: 0.4211, Recall: 0.4310, F1: 0.4127: 100%|██████████| 44/44 [00:07<00:00,  6.09it/s]\n",
            "Train - Epoch: 47, Loss: 0.6110, Precision: 0.9851, Recall: 0.9839, F1: 0.9825: 100%|██████████| 174/174 [00:18<00:00,  9.54it/s]\n",
            "Val  - Epoch: 47, Loss: 1.0003, Precision: 0.4195, Recall: 0.4311, F1: 0.4142: 100%|██████████| 44/44 [00:07<00:00,  6.11it/s]\n",
            "Train - Epoch: 48, Loss: 0.6108, Precision: 0.9859, Recall: 0.9835, F1: 0.9830: 100%|██████████| 174/174 [00:18<00:00,  9.46it/s]\n",
            "Val  - Epoch: 48, Loss: 0.9790, Precision: 0.4242, Recall: 0.4252, F1: 0.4142: 100%|██████████| 44/44 [00:07<00:00,  6.17it/s]\n",
            "Train - Epoch: 49, Loss: 0.6096, Precision: 0.9868, Recall: 0.9862, F1: 0.9849: 100%|██████████| 174/174 [00:18<00:00,  9.45it/s]\n",
            "Val  - Epoch: 49, Loss: 0.9537, Precision: 0.4395, Recall: 0.4265, F1: 0.4219: 100%|██████████| 44/44 [00:07<00:00,  5.76it/s]\n",
            "Train - Epoch: 50, Loss: 0.6095, Precision: 0.9853, Recall: 0.9839, F1: 0.9829: 100%|██████████| 174/174 [00:19<00:00,  9.06it/s]\n",
            "Val  - Epoch: 50, Loss: 1.0005, Precision: 0.4384, Recall: 0.4261, F1: 0.4198: 100%|██████████| 44/44 [00:07<00:00,  6.11it/s]\n",
            "Train - Epoch: 51, Loss: 0.6086, Precision: 0.9888, Recall: 0.9875, F1: 0.9867: 100%|██████████| 174/174 [00:18<00:00,  9.55it/s]\n",
            "Val  - Epoch: 51, Loss: 0.9911, Precision: 0.4255, Recall: 0.4351, F1: 0.4187: 100%|██████████| 44/44 [00:07<00:00,  5.90it/s]\n",
            "Train - Epoch: 52, Loss: 0.6095, Precision: 0.9866, Recall: 0.9852, F1: 0.9843: 100%|██████████| 174/174 [00:19<00:00,  9.08it/s]\n",
            "Val  - Epoch: 52, Loss: 0.9780, Precision: 0.4289, Recall: 0.4244, F1: 0.4141: 100%|██████████| 44/44 [00:07<00:00,  6.11it/s]\n",
            "Train - Epoch: 53, Loss: 0.6083, Precision: 0.9860, Recall: 0.9884, F1: 0.9854: 100%|██████████| 174/174 [00:18<00:00,  9.46it/s]\n",
            "Val  - Epoch: 53, Loss: 0.9617, Precision: 0.4317, Recall: 0.4241, F1: 0.4158: 100%|██████████| 44/44 [00:07<00:00,  5.90it/s]\n",
            "Train - Epoch: 54, Loss: 0.6090, Precision: 0.9883, Recall: 0.9871, F1: 0.9863: 100%|██████████| 174/174 [00:18<00:00,  9.27it/s]\n",
            "Val  - Epoch: 54, Loss: 0.9740, Precision: 0.4309, Recall: 0.4234, F1: 0.4169: 100%|██████████| 44/44 [00:07<00:00,  6.10it/s]\n",
            "Train - Epoch: 55, Loss: 0.6081, Precision: 0.9873, Recall: 0.9857, F1: 0.9850: 100%|██████████| 174/174 [00:18<00:00,  9.49it/s]\n",
            "Val  - Epoch: 55, Loss: 0.9813, Precision: 0.4493, Recall: 0.4316, F1: 0.4294: 100%|██████████| 44/44 [00:07<00:00,  5.85it/s]\n",
            "Train - Epoch: 56, Loss: 0.6077, Precision: 0.9880, Recall: 0.9860, F1: 0.9854: 100%|██████████| 174/174 [00:18<00:00,  9.24it/s]\n",
            "Val  - Epoch: 56, Loss: 0.9762, Precision: 0.4366, Recall: 0.4263, F1: 0.4204: 100%|██████████| 44/44 [00:07<00:00,  6.09it/s]\n",
            "Train - Epoch: 57, Loss: 0.6075, Precision: 0.9886, Recall: 0.9885, F1: 0.9872: 100%|██████████| 174/174 [00:18<00:00,  9.54it/s]\n",
            "Val  - Epoch: 57, Loss: 0.9551, Precision: 0.4409, Recall: 0.4232, F1: 0.4200: 100%|██████████| 44/44 [00:07<00:00,  5.92it/s]\n",
            "Train - Epoch: 58, Loss: 0.6080, Precision: 0.9884, Recall: 0.9869, F1: 0.9860: 100%|██████████| 174/174 [00:18<00:00,  9.23it/s]\n",
            "Val  - Epoch: 58, Loss: 0.9743, Precision: 0.4336, Recall: 0.4250, F1: 0.4173: 100%|██████████| 44/44 [00:07<00:00,  6.09it/s]\n",
            "Train - Epoch: 59, Loss: 0.6095, Precision: 0.9880, Recall: 0.9872, F1: 0.9860: 100%|██████████| 174/174 [00:18<00:00,  9.51it/s]\n",
            "Val  - Epoch: 59, Loss: 0.9638, Precision: 0.4363, Recall: 0.4329, F1: 0.4227: 100%|██████████| 44/44 [00:07<00:00,  5.88it/s]\n",
            "Train - Epoch: 60, Loss: 0.6083, Precision: 0.9882, Recall: 0.9869, F1: 0.9860: 100%|██████████| 174/174 [00:19<00:00,  9.01it/s]\n",
            "Val  - Epoch: 60, Loss: 0.9891, Precision: 0.4367, Recall: 0.4359, F1: 0.4248: 100%|██████████| 44/44 [00:07<00:00,  6.06it/s]\n",
            "Train - Epoch: 61, Loss: 0.6104, Precision: 0.9842, Recall: 0.9838, F1: 0.9822: 100%|██████████| 174/174 [00:18<00:00,  9.44it/s]\n",
            "Val  - Epoch: 61, Loss: 0.9718, Precision: 0.4227, Recall: 0.4088, F1: 0.4050: 100%|██████████| 44/44 [00:07<00:00,  5.90it/s]\n",
            "Train - Epoch: 62, Loss: 0.6317, Precision: 0.9543, Recall: 0.9530, F1: 0.9494: 100%|██████████| 174/174 [00:19<00:00,  9.02it/s]\n",
            "Val  - Epoch: 62, Loss: 0.9914, Precision: 0.3909, Recall: 0.3921, F1: 0.3804: 100%|██████████| 44/44 [00:07<00:00,  6.09it/s]\n",
            "Train - Epoch: 63, Loss: 0.6249, Precision: 0.9585, Recall: 0.9575, F1: 0.9541: 100%|██████████| 174/174 [00:18<00:00,  9.52it/s]\n",
            "Val  - Epoch: 63, Loss: 0.9604, Precision: 0.4079, Recall: 0.4003, F1: 0.3950: 100%|██████████| 44/44 [00:07<00:00,  5.81it/s]\n",
            "Train - Epoch: 64, Loss: 0.6177, Precision: 0.9724, Recall: 0.9695, F1: 0.9682: 100%|██████████| 174/174 [00:19<00:00,  8.94it/s]\n",
            "Val  - Epoch: 64, Loss: 0.9560, Precision: 0.3914, Recall: 0.3970, F1: 0.3876: 100%|██████████| 44/44 [00:07<00:00,  6.11it/s]\n",
            "Train - Epoch: 65, Loss: 0.6110, Precision: 0.9848, Recall: 0.9849, F1: 0.9831: 100%|██████████| 174/174 [00:18<00:00,  9.35it/s]\n",
            "Val  - Epoch: 65, Loss: 0.9746, Precision: 0.4082, Recall: 0.4089, F1: 0.3986: 100%|██████████| 44/44 [00:07<00:00,  5.85it/s]\n",
            "Train - Epoch: 66, Loss: 0.6088, Precision: 0.9868, Recall: 0.9846, F1: 0.9842: 100%|██████████| 174/174 [00:19<00:00,  8.85it/s]\n",
            "Val  - Epoch: 66, Loss: 0.9746, Precision: 0.4098, Recall: 0.4051, F1: 0.3974: 100%|██████████| 44/44 [00:07<00:00,  6.06it/s]\n",
            "Train - Epoch: 67, Loss: 0.6077, Precision: 0.9883, Recall: 0.9883, F1: 0.9868: 100%|██████████| 174/174 [00:19<00:00,  9.07it/s]\n",
            "Val  - Epoch: 67, Loss: 0.9925, Precision: 0.4107, Recall: 0.4105, F1: 0.4016: 100%|██████████| 44/44 [00:07<00:00,  5.83it/s]\n",
            "Train - Epoch: 68, Loss: 0.6073, Precision: 0.9880, Recall: 0.9872, F1: 0.9861: 100%|██████████| 174/174 [00:19<00:00,  9.06it/s]\n",
            "Val  - Epoch: 68, Loss: 0.9980, Precision: 0.4099, Recall: 0.4106, F1: 0.4008: 100%|██████████| 44/44 [00:07<00:00,  6.06it/s]\n",
            "Train - Epoch: 69, Loss: 0.6074, Precision: 0.9872, Recall: 0.9868, F1: 0.9856: 100%|██████████| 174/174 [00:18<00:00,  9.39it/s]\n",
            "Val  - Epoch: 69, Loss: 0.9908, Precision: 0.4056, Recall: 0.4025, F1: 0.3947: 100%|██████████| 44/44 [00:07<00:00,  5.88it/s]\n",
            "Train - Epoch: 70, Loss: 0.6073, Precision: 0.9877, Recall: 0.9872, F1: 0.9859: 100%|██████████| 174/174 [00:18<00:00,  9.29it/s]\n",
            "Val  - Epoch: 70, Loss: 0.9929, Precision: 0.4040, Recall: 0.4000, F1: 0.3921: 100%|██████████| 44/44 [00:07<00:00,  6.04it/s]\n",
            "Train - Epoch: 71, Loss: 0.6073, Precision: 0.9883, Recall: 0.9877, F1: 0.9866: 100%|██████████| 174/174 [00:18<00:00,  9.47it/s]\n",
            "Val  - Epoch: 71, Loss: 0.9911, Precision: 0.4036, Recall: 0.4012, F1: 0.3932: 100%|██████████| 44/44 [00:07<00:00,  6.03it/s]\n",
            "Train - Epoch: 72, Loss: 0.6072, Precision: 0.9889, Recall: 0.9886, F1: 0.9874: 100%|██████████| 174/174 [00:18<00:00,  9.48it/s]\n",
            "Val  - Epoch: 72, Loss: 1.0006, Precision: 0.3981, Recall: 0.3887, F1: 0.3845: 100%|██████████| 44/44 [00:07<00:00,  6.03it/s]\n",
            "Train - Epoch: 73, Loss: 0.6083, Precision: 0.9889, Recall: 0.9865, F1: 0.9862: 100%|██████████| 174/174 [00:18<00:00,  9.43it/s]\n",
            "Val  - Epoch: 73, Loss: 0.9939, Precision: 0.4039, Recall: 0.3963, F1: 0.3913: 100%|██████████| 44/44 [00:07<00:00,  6.08it/s]\n",
            "Train - Epoch: 74, Loss: 0.6079, Precision: 0.9876, Recall: 0.9875, F1: 0.9860: 100%|██████████| 174/174 [00:18<00:00,  9.22it/s]\n",
            "Val  - Epoch: 74, Loss: 0.9710, Precision: 0.3972, Recall: 0.3939, F1: 0.3867: 100%|██████████| 44/44 [00:07<00:00,  6.08it/s]\n",
            "Train - Epoch: 75, Loss: 0.6168, Precision: 0.9811, Recall: 0.9801, F1: 0.9778: 100%|██████████| 174/174 [00:19<00:00,  9.11it/s]\n",
            "Val  - Epoch: 75, Loss: 1.0474, Precision: 0.4010, Recall: 0.4188, F1: 0.3847: 100%|██████████| 44/44 [00:07<00:00,  5.97it/s]\n",
            "Train - Epoch: 76, Loss: 0.6237, Precision: 0.9593, Recall: 0.9562, F1: 0.9541: 100%|██████████| 174/174 [00:18<00:00,  9.45it/s]\n",
            "Val  - Epoch: 76, Loss: 1.0681, Precision: 0.3899, Recall: 0.4083, F1: 0.3836: 100%|██████████| 44/44 [00:07<00:00,  5.89it/s]\n",
            "Train - Epoch: 77, Loss: 0.6171, Precision: 0.9780, Recall: 0.9755, F1: 0.9740: 100%|██████████| 174/174 [00:19<00:00,  9.10it/s]\n",
            "Val  - Epoch: 77, Loss: 0.9821, Precision: 0.4243, Recall: 0.4077, F1: 0.4078: 100%|██████████| 44/44 [00:07<00:00,  6.07it/s]\n",
            "Train - Epoch: 78, Loss: 0.6118, Precision: 0.9845, Recall: 0.9806, F1: 0.9806: 100%|██████████| 174/174 [00:18<00:00,  9.44it/s]\n",
            "Val  - Epoch: 78, Loss: 0.9706, Precision: 0.4236, Recall: 0.4173, F1: 0.4117: 100%|██████████| 44/44 [00:07<00:00,  5.87it/s]\n",
            "Train - Epoch: 79, Loss: 0.6087, Precision: 0.9874, Recall: 0.9859, F1: 0.9849: 100%|██████████| 174/174 [00:19<00:00,  8.96it/s]\n",
            "Val  - Epoch: 79, Loss: 1.0009, Precision: 0.4324, Recall: 0.4212, F1: 0.4175: 100%|██████████| 44/44 [00:07<00:00,  6.00it/s]\n",
            "Train - Epoch: 80, Loss: 0.6078, Precision: 0.9887, Recall: 0.9870, F1: 0.9864: 100%|██████████| 174/174 [00:18<00:00,  9.40it/s]\n",
            "Val  - Epoch: 80, Loss: 1.0021, Precision: 0.4263, Recall: 0.4251, F1: 0.4164: 100%|██████████| 44/44 [00:07<00:00,  5.77it/s]\n",
            "Train - Epoch: 81, Loss: 0.6076, Precision: 0.9885, Recall: 0.9879, F1: 0.9867: 100%|██████████| 174/174 [00:19<00:00,  8.96it/s]\n",
            "Val  - Epoch: 81, Loss: 0.9869, Precision: 0.4346, Recall: 0.4238, F1: 0.4203: 100%|██████████| 44/44 [00:07<00:00,  6.13it/s]\n",
            "Train - Epoch: 82, Loss: 0.6071, Precision: 0.9892, Recall: 0.9884, F1: 0.9873: 100%|██████████| 174/174 [00:18<00:00,  9.50it/s]\n",
            "Val  - Epoch: 82, Loss: 0.9806, Precision: 0.4356, Recall: 0.4206, F1: 0.4190: 100%|██████████| 44/44 [00:07<00:00,  6.02it/s]\n",
            "Train - Epoch: 83, Loss: 0.6074, Precision: 0.9886, Recall: 0.9884, F1: 0.9870: 100%|██████████| 174/174 [00:18<00:00,  9.25it/s]\n",
            "Val  - Epoch: 83, Loss: 1.0052, Precision: 0.4262, Recall: 0.4200, F1: 0.4146: 100%|██████████| 44/44 [00:07<00:00,  6.01it/s]\n",
            "Train - Epoch: 84, Loss: 0.6073, Precision: 0.9889, Recall: 0.9892, F1: 0.9877: 100%|██████████| 174/174 [00:18<00:00,  9.37it/s]\n",
            "Val  - Epoch: 84, Loss: 0.9764, Precision: 0.4379, Recall: 0.4200, F1: 0.4203: 100%|██████████| 44/44 [00:07<00:00,  5.98it/s]\n",
            "Train - Epoch: 85, Loss: 0.6074, Precision: 0.9883, Recall: 0.9865, F1: 0.9857: 100%|██████████| 174/174 [00:18<00:00,  9.21it/s]\n",
            "Val  - Epoch: 85, Loss: 0.9982, Precision: 0.4341, Recall: 0.4173, F1: 0.4167: 100%|██████████| 44/44 [00:07<00:00,  6.22it/s]\n",
            "Train - Epoch: 86, Loss: 0.6070, Precision: 0.9892, Recall: 0.9882, F1: 0.9872: 100%|██████████| 174/174 [00:18<00:00,  9.37it/s]\n",
            "Val  - Epoch: 86, Loss: 0.9851, Precision: 0.4342, Recall: 0.4161, F1: 0.4164: 100%|██████████| 44/44 [00:07<00:00,  6.13it/s]\n",
            "Train - Epoch: 87, Loss: 0.6073, Precision: 0.9878, Recall: 0.9875, F1: 0.9862: 100%|██████████| 174/174 [00:18<00:00,  9.22it/s]\n",
            "Val  - Epoch: 87, Loss: 0.9816, Precision: 0.4375, Recall: 0.4187, F1: 0.4194: 100%|██████████| 44/44 [00:07<00:00,  6.07it/s]\n",
            "Train - Epoch: 88, Loss: 0.6069, Precision: 0.9892, Recall: 0.9876, F1: 0.9870: 100%|██████████| 174/174 [00:18<00:00,  9.22it/s]\n",
            "Val  - Epoch: 88, Loss: 0.9842, Precision: 0.4301, Recall: 0.4127, F1: 0.4128: 100%|██████████| 44/44 [00:07<00:00,  6.15it/s]\n",
            "Train - Epoch: 89, Loss: 0.6070, Precision: 0.9886, Recall: 0.9884, F1: 0.9871: 100%|██████████| 174/174 [00:18<00:00,  9.46it/s]\n",
            "Val  - Epoch: 89, Loss: 0.9822, Precision: 0.4334, Recall: 0.4121, F1: 0.4136: 100%|██████████| 44/44 [00:07<00:00,  6.11it/s]\n",
            "Train - Epoch: 90, Loss: 0.6075, Precision: 0.9880, Recall: 0.9868, F1: 0.9861: 100%|██████████| 174/174 [00:18<00:00,  9.41it/s]\n",
            "Val  - Epoch: 90, Loss: 0.9948, Precision: 0.4393, Recall: 0.4290, F1: 0.4259: 100%|██████████| 44/44 [00:07<00:00,  5.85it/s]\n",
            "Train - Epoch: 91, Loss: 0.6076, Precision: 0.9888, Recall: 0.9883, F1: 0.9871: 100%|██████████| 174/174 [00:18<00:00,  9.32it/s]\n",
            "Val  - Epoch: 91, Loss: 0.9934, Precision: 0.4309, Recall: 0.4115, F1: 0.4118: 100%|██████████| 44/44 [00:07<00:00,  6.07it/s]\n",
            "Train - Epoch: 92, Loss: 0.6075, Precision: 0.9879, Recall: 0.9867, F1: 0.9859: 100%|██████████| 174/174 [00:18<00:00,  9.53it/s]\n",
            "Val  - Epoch: 92, Loss: 0.9784, Precision: 0.4271, Recall: 0.4108, F1: 0.4094: 100%|██████████| 44/44 [00:07<00:00,  5.89it/s]\n",
            "Train - Epoch: 93, Loss: 0.6071, Precision: 0.9887, Recall: 0.9877, F1: 0.9869: 100%|██████████| 174/174 [00:19<00:00,  9.15it/s]\n",
            "Val  - Epoch: 93, Loss: 0.9896, Precision: 0.4349, Recall: 0.4213, F1: 0.4196: 100%|██████████| 44/44 [00:07<00:00,  6.06it/s]\n",
            "Train - Epoch: 94, Loss: 0.6081, Precision: 0.9880, Recall: 0.9856, F1: 0.9853: 100%|██████████| 174/174 [00:18<00:00,  9.41it/s]\n",
            "Val  - Epoch: 94, Loss: 0.9992, Precision: 0.4482, Recall: 0.4443, F1: 0.4359: 100%|██████████| 44/44 [00:07<00:00,  5.81it/s]\n",
            "Train - Epoch: 95, Loss: 0.6289, Precision: 0.9585, Recall: 0.9537, F1: 0.9516: 100%|██████████| 174/174 [00:19<00:00,  9.06it/s]\n",
            "Val  - Epoch: 95, Loss: 0.9617, Precision: 0.4077, Recall: 0.3896, F1: 0.3848: 100%|██████████| 44/44 [00:07<00:00,  6.07it/s]\n",
            "Train - Epoch: 96, Loss: 0.6225, Precision: 0.9658, Recall: 0.9615, F1: 0.9601: 100%|██████████| 174/174 [00:18<00:00,  9.45it/s]\n",
            "Val  - Epoch: 96, Loss: 1.0063, Precision: 0.4121, Recall: 0.4407, F1: 0.4135: 100%|██████████| 44/44 [00:07<00:00,  5.82it/s]\n",
            "Train - Epoch: 97, Loss: 0.6114, Precision: 0.9839, Recall: 0.9838, F1: 0.9820: 100%|██████████| 174/174 [00:19<00:00,  9.02it/s]\n",
            "Val  - Epoch: 97, Loss: 0.9832, Precision: 0.4227, Recall: 0.4068, F1: 0.4026: 100%|██████████| 44/44 [00:07<00:00,  6.02it/s]\n",
            "Train - Epoch: 98, Loss: 0.6085, Precision: 0.9880, Recall: 0.9876, F1: 0.9862: 100%|██████████| 174/174 [00:18<00:00,  9.20it/s]\n",
            "Val  - Epoch: 98, Loss: 0.9790, Precision: 0.4155, Recall: 0.4063, F1: 0.4001: 100%|██████████| 44/44 [00:07<00:00,  6.11it/s]\n",
            "Train - Epoch: 99, Loss: 0.6080, Precision: 0.9883, Recall: 0.9883, F1: 0.9868: 100%|██████████| 174/174 [00:18<00:00,  9.41it/s]\n",
            "Val  - Epoch: 99, Loss: 0.9796, Precision: 0.4207, Recall: 0.4138, F1: 0.4071: 100%|██████████| 44/44 [00:07<00:00,  6.10it/s]\n"
          ],
          "name": "stderr"
        }
      ]
    },
    {
      "cell_type": "code",
      "metadata": {
        "id": "a62J3D8CFwlt",
        "colab_type": "code",
        "colab": {
          "base_uri": "https://localhost:8080/",
          "height": 264
        },
        "outputId": "137151d7-2e6a-4cd9-cb26-a7eddde597a3"
      },
      "source": [
        "esposalles_df().groupby('entity').count()"
      ],
      "execution_count": 122,
      "outputs": [
        {
          "output_type": "execute_result",
          "data": {
            "text/html": [
              "<div>\n",
              "<style scoped>\n",
              "    .dataframe tbody tr th:only-of-type {\n",
              "        vertical-align: middle;\n",
              "    }\n",
              "\n",
              "    .dataframe tbody tr th {\n",
              "        vertical-align: top;\n",
              "    }\n",
              "\n",
              "    .dataframe thead th {\n",
              "        text-align: right;\n",
              "    }\n",
              "</style>\n",
              "<table border=\"1\" class=\"dataframe\">\n",
              "  <thead>\n",
              "    <tr style=\"text-align: right;\">\n",
              "      <th></th>\n",
              "      <th>rel-entity</th>\n",
              "      <th>word</th>\n",
              "      <th>id</th>\n",
              "    </tr>\n",
              "    <tr>\n",
              "      <th>entity</th>\n",
              "      <th></th>\n",
              "      <th></th>\n",
              "      <th></th>\n",
              "    </tr>\n",
              "  </thead>\n",
              "  <tbody>\n",
              "    <tr>\n",
              "      <th>location</th>\n",
              "      <td>4509</td>\n",
              "      <td>4509</td>\n",
              "      <td>4509</td>\n",
              "    </tr>\n",
              "    <tr>\n",
              "      <th>name</th>\n",
              "      <td>4997</td>\n",
              "      <td>4997</td>\n",
              "      <td>4997</td>\n",
              "    </tr>\n",
              "    <tr>\n",
              "      <th>occupation</th>\n",
              "      <td>3010</td>\n",
              "      <td>3010</td>\n",
              "      <td>3010</td>\n",
              "    </tr>\n",
              "    <tr>\n",
              "      <th>other</th>\n",
              "      <td>15176</td>\n",
              "      <td>15176</td>\n",
              "      <td>15176</td>\n",
              "    </tr>\n",
              "    <tr>\n",
              "      <th>state</th>\n",
              "      <td>1142</td>\n",
              "      <td>1142</td>\n",
              "      <td>1142</td>\n",
              "    </tr>\n",
              "    <tr>\n",
              "      <th>surname</th>\n",
              "      <td>2667</td>\n",
              "      <td>2667</td>\n",
              "      <td>2667</td>\n",
              "    </tr>\n",
              "  </tbody>\n",
              "</table>\n",
              "</div>"
            ],
            "text/plain": [
              "            rel-entity   word     id\n",
              "entity                              \n",
              "location          4509   4509   4509\n",
              "name              4997   4997   4997\n",
              "occupation        3010   3010   3010\n",
              "other            15176  15176  15176\n",
              "state             1142   1142   1142\n",
              "surname           2667   2667   2667"
            ]
          },
          "metadata": {
            "tags": []
          },
          "execution_count": 122
        }
      ]
    },
    {
      "cell_type": "code",
      "metadata": {
        "id": "g_V2dDzkFixi",
        "colab_type": "code",
        "colab": {
          "base_uri": "https://localhost:8080/",
          "height": 731
        },
        "outputId": "9d25c9b6-b730-4062-9787-4e5e2db9b431"
      },
      "source": [
        "dataset_df().groupby('entity').count()"
      ],
      "execution_count": 132,
      "outputs": [
        {
          "output_type": "execute_result",
          "data": {
            "text/html": [
              "<div>\n",
              "<style scoped>\n",
              "    .dataframe tbody tr th:only-of-type {\n",
              "        vertical-align: middle;\n",
              "    }\n",
              "\n",
              "    .dataframe tbody tr th {\n",
              "        vertical-align: top;\n",
              "    }\n",
              "\n",
              "    .dataframe thead th {\n",
              "        text-align: right;\n",
              "    }\n",
              "</style>\n",
              "<table border=\"1\" class=\"dataframe\">\n",
              "  <thead>\n",
              "    <tr style=\"text-align: right;\">\n",
              "      <th></th>\n",
              "      <th>word</th>\n",
              "      <th>id</th>\n",
              "    </tr>\n",
              "    <tr>\n",
              "      <th>entity</th>\n",
              "      <th></th>\n",
              "      <th></th>\n",
              "    </tr>\n",
              "  </thead>\n",
              "  <tbody>\n",
              "    <tr>\n",
              "      <th>BirthCity</th>\n",
              "      <td>7</td>\n",
              "      <td>7</td>\n",
              "    </tr>\n",
              "    <tr>\n",
              "      <th>BirthCounty</th>\n",
              "      <td>1</td>\n",
              "      <td>1</td>\n",
              "    </tr>\n",
              "    <tr>\n",
              "      <th>BirthState</th>\n",
              "      <td>1</td>\n",
              "      <td>1</td>\n",
              "    </tr>\n",
              "    <tr>\n",
              "      <th>DeathAge</th>\n",
              "      <td>423</td>\n",
              "      <td>423</td>\n",
              "    </tr>\n",
              "    <tr>\n",
              "      <th>DeathCity</th>\n",
              "      <td>401</td>\n",
              "      <td>401</td>\n",
              "    </tr>\n",
              "    <tr>\n",
              "      <th>DeathCountry</th>\n",
              "      <td>30</td>\n",
              "      <td>30</td>\n",
              "    </tr>\n",
              "    <tr>\n",
              "      <th>DeathCounty</th>\n",
              "      <td>23</td>\n",
              "      <td>23</td>\n",
              "    </tr>\n",
              "    <tr>\n",
              "      <th>DeathDay</th>\n",
              "      <td>195</td>\n",
              "      <td>195</td>\n",
              "    </tr>\n",
              "    <tr>\n",
              "      <th>DeathMonth</th>\n",
              "      <td>150</td>\n",
              "      <td>150</td>\n",
              "    </tr>\n",
              "    <tr>\n",
              "      <th>DeathState</th>\n",
              "      <td>111</td>\n",
              "      <td>111</td>\n",
              "    </tr>\n",
              "    <tr>\n",
              "      <th>DeathYear</th>\n",
              "      <td>603</td>\n",
              "      <td>603</td>\n",
              "    </tr>\n",
              "    <tr>\n",
              "      <th>FatherGivenName</th>\n",
              "      <td>219</td>\n",
              "      <td>219</td>\n",
              "    </tr>\n",
              "    <tr>\n",
              "      <th>FatherSurname</th>\n",
              "      <td>186</td>\n",
              "      <td>186</td>\n",
              "    </tr>\n",
              "    <tr>\n",
              "      <th>GivenName</th>\n",
              "      <td>434</td>\n",
              "      <td>434</td>\n",
              "    </tr>\n",
              "    <tr>\n",
              "      <th>MotherGivenName</th>\n",
              "      <td>140</td>\n",
              "      <td>140</td>\n",
              "    </tr>\n",
              "    <tr>\n",
              "      <th>MotherSurname</th>\n",
              "      <td>125</td>\n",
              "      <td>125</td>\n",
              "    </tr>\n",
              "    <tr>\n",
              "      <th>SpouseGivenName</th>\n",
              "      <td>67</td>\n",
              "      <td>67</td>\n",
              "    </tr>\n",
              "    <tr>\n",
              "      <th>SpouseSurname</th>\n",
              "      <td>60</td>\n",
              "      <td>60</td>\n",
              "    </tr>\n",
              "    <tr>\n",
              "      <th>Start</th>\n",
              "      <td>218</td>\n",
              "      <td>218</td>\n",
              "    </tr>\n",
              "    <tr>\n",
              "      <th>Surname</th>\n",
              "      <td>370</td>\n",
              "      <td>370</td>\n",
              "    </tr>\n",
              "    <tr>\n",
              "      <th>none</th>\n",
              "      <td>22463</td>\n",
              "      <td>22463</td>\n",
              "    </tr>\n",
              "  </tbody>\n",
              "</table>\n",
              "</div>"
            ],
            "text/plain": [
              "                  word     id\n",
              "entity                       \n",
              "BirthCity            7      7\n",
              "BirthCounty          1      1\n",
              "BirthState           1      1\n",
              "DeathAge           423    423\n",
              "DeathCity          401    401\n",
              "DeathCountry        30     30\n",
              "DeathCounty         23     23\n",
              "DeathDay           195    195\n",
              "DeathMonth         150    150\n",
              "DeathState         111    111\n",
              "DeathYear          603    603\n",
              "FatherGivenName    219    219\n",
              "FatherSurname      186    186\n",
              "GivenName          434    434\n",
              "MotherGivenName    140    140\n",
              "MotherSurname      125    125\n",
              "SpouseGivenName     67     67\n",
              "SpouseSurname       60     60\n",
              "Start              218    218\n",
              "Surname            370    370\n",
              "none             22463  22463"
            ]
          },
          "metadata": {
            "tags": []
          },
          "execution_count": 132
        }
      ]
    },
    {
      "cell_type": "code",
      "metadata": {
        "id": "uRe-gmLQK56q",
        "colab_type": "code",
        "colab": {
          "base_uri": "https://localhost:8080/",
          "height": 85
        },
        "outputId": "52aeec0d-47a7-412a-bc98-f54ee2108c7e"
      },
      "source": [
        "dataset_df().count()"
      ],
      "execution_count": 133,
      "outputs": [
        {
          "output_type": "execute_result",
          "data": {
            "text/plain": [
              "word      26227\n",
              "entity    26227\n",
              "id        26227\n",
              "dtype: int64"
            ]
          },
          "metadata": {
            "tags": []
          },
          "execution_count": 133
        }
      ]
    },
    {
      "cell_type": "code",
      "metadata": {
        "id": "tFH15TSaK-tx",
        "colab_type": "code",
        "colab": {
          "base_uri": "https://localhost:8080/",
          "height": 34
        },
        "outputId": "1e40f46f-3192-4629-8856-ec4c62a9a703"
      },
      "source": [
        "22463 / 26227"
      ],
      "execution_count": 134,
      "outputs": [
        {
          "output_type": "execute_result",
          "data": {
            "text/plain": [
              "0.856483776261105"
            ]
          },
          "metadata": {
            "tags": []
          },
          "execution_count": 134
        }
      ]
    },
    {
      "cell_type": "code",
      "metadata": {
        "id": "lfEc1mpTLEdo",
        "colab_type": "code",
        "colab": {
          "base_uri": "https://localhost:8080/",
          "height": 34
        },
        "outputId": "0f808c41-d9ad-48c4-f3ca-d431d56b66b0"
      },
      "source": [
        "370 / 26227"
      ],
      "execution_count": 136,
      "outputs": [
        {
          "output_type": "execute_result",
          "data": {
            "text/plain": [
              "0.01410759903915812"
            ]
          },
          "metadata": {
            "tags": []
          },
          "execution_count": 136
        }
      ]
    },
    {
      "cell_type": "markdown",
      "metadata": {
        "id": "lTYJyTZLcIoJ",
        "colab_type": "text"
      },
      "source": [
        "## Results\n",
        "\n",
        "Show how our model did throughout the training process."
      ]
    },
    {
      "cell_type": "code",
      "metadata": {
        "id": "ET2FHHVW957n",
        "colab_type": "code",
        "colab": {
          "base_uri": "https://localhost:8080/",
          "height": 312
        },
        "outputId": "45a1f55f-a08c-4c3f-bb72-d56a0a425a3c"
      },
      "source": [
        "plt.title('Loss')\n",
        "plt.xlabel('Epochs')\n",
        "plt.ylabel('Loss')\n",
        "plt.plot(losses[0], label='train')\n",
        "plt.plot(losses[1], label='val')\n",
        "plt.legend()\n",
        "plt.show()\n",
        "print('Final Validation Loss: {:.4f}'.format(losses[1][-1]))"
      ],
      "execution_count": 128,
      "outputs": [
        {
          "output_type": "display_data",
          "data": {
            "image/png": "[encoded data removed]",
            "text/plain": [
              "<Figure size 432x288 with 1 Axes>"
            ]
          },
          "metadata": {
            "tags": [],
            "needs_background": "light"
          }
        },
        {
          "output_type": "stream",
          "text": [
            "Final Validation Loss: 0.9837\n"
          ],
          "name": "stdout"
        }
      ]
    },
    {
      "cell_type": "code",
      "metadata": {
        "id": "8OHunu4792FZ",
        "colab_type": "code",
        "colab": {
          "base_uri": "https://localhost:8080/",
          "height": 312
        },
        "outputId": "19c10fda-404a-40a9-f145-f04216eed876"
      },
      "source": [
        "plt.title('Precision')\n",
        "plt.xlabel('Epochs')\n",
        "plt.ylabel('Precision')\n",
        "plt.plot(precisions[0], label='train')\n",
        "plt.plot(precisions[1], label='val')\n",
        "plt.legend()\n",
        "plt.show()\n",
        "print('Final Validation Precision: {:.2f}%'.format(precisions[1][-1] * 100))"
      ],
      "execution_count": 129,
      "outputs": [
        {
          "output_type": "display_data",
          "data": {
            "image/png": "[encoded data removed]",
            "text/plain": [
              "<Figure size 432x288 with 1 Axes>"
            ]
          },
          "metadata": {
            "tags": [],
            "needs_background": "light"
          }
        },
        {
          "output_type": "stream",
          "text": [
            "Final Validation Precision: 40.44%\n"
          ],
          "name": "stdout"
        }
      ]
    },
    {
      "cell_type": "code",
      "metadata": {
        "id": "WjJ4eGjhraiR",
        "colab_type": "code",
        "colab": {
          "base_uri": "https://localhost:8080/",
          "height": 312
        },
        "outputId": "886c3c70-f73e-4e81-8864-69a11055f4ee"
      },
      "source": [
        "plt.title('Recall')\n",
        "plt.xlabel('Epochs')\n",
        "plt.ylabel('Precision')\n",
        "plt.plot(recalls[0], label='train')\n",
        "plt.plot(recalls[1], label='val')\n",
        "plt.legend()\n",
        "plt.show()\n",
        "print('Final Validation Recall: {:.2f}%'.format(recalls[1][-1] * 100))"
      ],
      "execution_count": 130,
      "outputs": [
        {
          "output_type": "display_data",
          "data": {
            "image/png": "[encoded data removed]",
            "text/plain": [
              "<Figure size 432x288 with 1 Axes>"
            ]
          },
          "metadata": {
            "tags": [],
            "needs_background": "light"
          }
        },
        {
          "output_type": "stream",
          "text": [
            "Final Validation Recall: 40.88%\n"
          ],
          "name": "stdout"
        }
      ]
    },
    {
      "cell_type": "code",
      "metadata": {
        "id": "Rj5q2Hnmram9",
        "colab_type": "code",
        "colab": {
          "base_uri": "https://localhost:8080/",
          "height": 312
        },
        "outputId": "2cc51b7f-3ecc-409d-e1db-1abc757c0ae7"
      },
      "source": [
        "plt.title('F1')\n",
        "plt.xlabel('Epochs')\n",
        "plt.ylabel('F1')\n",
        "plt.plot(f1s[0], label='train')\n",
        "plt.plot(f1s[1], label='val')\n",
        "plt.legend()\n",
        "plt.show()\n",
        "print('Final Validation F1: {:.2f}%'.format(f1s[1][-1] * 100))"
      ],
      "execution_count": 131,
      "outputs": [
        {
          "output_type": "display_data",
          "data": {
            "image/png": "[encoded data removed]",
            "text/plain": [
              "<Figure size 432x288 with 1 Axes>"
            ]
          },
          "metadata": {
            "tags": [],
            "needs_background": "light"
          }
        },
        {
          "output_type": "stream",
          "text": [
            "Final Validation F1: 39.28%\n"
          ],
          "name": "stdout"
        }
      ]
    },
    {
      "cell_type": "markdown",
      "metadata": {
        "id": "j90cuaIRtkhD",
        "colab_type": "text"
      },
      "source": [
        "## Examples and Confusion Matrix\n",
        "\n",
        "* Show the final confusion matrix on the validation set.\n",
        "* Show a couple examples of the model classifying text."
      ]
    },
    {
      "cell_type": "code",
      "metadata": {
        "id": "AFRCgKNotpu5",
        "colab_type": "code",
        "colab": {
          "base_uri": "https://localhost:8080/",
          "height": 1000
        },
        "outputId": "242170d0-f353-469a-c521-24941c05a8e8"
      },
      "source": [
        "# The number of examples to show how the model did\n",
        "num_examples = 3\n",
        "\n",
        "data = dataset_df()\n",
        "entity_list = list(set(data['entity'].values))\n",
        "encoder = Encoder(entity_list)\n",
        "\n",
        "# Determine sizes for training and validation sets\n",
        "dataset_size = dataset_df()['id'].max()\n",
        "train_dataset_size = int(.8 * dataset_size)\n",
        "val_dataset_size = dataset_size - train_dataset_size\n",
        "\n",
        "# Break up dataset into training/validation\n",
        "dataset = tf.data.Dataset.from_generator(\n",
        "    dataset_generator,\n",
        "    (tf.int64, tf.int32),\n",
        "    (tf.TensorShape([None, 20]), tf.TensorShape([None])))\n",
        "val_dataset = dataset.skip(train_dataset_size)\n",
        "\n",
        "y_true, y_pred = np.array([]), np.array([])\n",
        "\n",
        "print('Making Predictions for Validation Set...')\n",
        "for index, (words, labels) in enumerate(val_dataset):   \n",
        "  predictions = model(words)\n",
        "  y_true = np.concatenate((y_true, labels.numpy()))\n",
        "  y_pred = np.concatenate((y_pred, tf.argmax(predictions, axis=1).numpy()))\n",
        "\n",
        "  if index < num_examples:\n",
        "    print('***Entity Prediction Sample***')\n",
        "    for word, actual, pred in zip(words, labels.numpy(), tf.argmax(predictions, axis=1).numpy()):\n",
        "      print('Word: {}, Predicted: {}, Actual: {}, Accuracy: {}'.format(encoder.idxs_to_str(word), encoder.idx_to_entity(pred), encoder.idx_to_entity(actual), '100%' if pred == actual else '0%'))\n",
        "\n",
        "print('Finished.')"
      ],
      "execution_count": 108,
      "outputs": [
        {
          "output_type": "stream",
          "text": [
            "Making Predictions for Validation Set...\n",
            "***Entity Prediction Sample***\n",
            "Word: 4er, Predicted: Start, Actual: Start, Accuracy: 100%\n",
            "Word: Michon, Predicted: none, Actual: Surname, Accuracy: 0%\n",
            "Word: (antoine), Predicted: none, Actual: GivenName, Accuracy: 0%\n",
            "Word: L'an, Predicted: none, Actual: none, Accuracy: 100%\n",
            "Word: mil, Predicted: DeathYear, Actual: DeathYear, Accuracy: 100%\n",
            "Word: huit, Predicted: DeathYear, Actual: DeathYear, Accuracy: 100%\n",
            "Word: cent, Predicted: DeathYear, Actual: DeathYear, Accuracy: 100%\n",
            "Word: vingt-sept,, Predicted: DeathYear, Actual: DeathYear, Accuracy: 100%\n",
            "Word: le, Predicted: none, Actual: none, Accuracy: 100%\n",
            "Word: huit, Predicted: none, Actual: DeathDay, Accuracy: 0%\n",
            "Word: du, Predicted: none, Actual: none, Accuracy: 100%\n",
            "Word: mois, Predicted: none, Actual: none, Accuracy: 100%\n",
            "Word: d'avril,, Predicted: DeathMonth, Actual: DeathMonth, Accuracy: 100%\n",
            "Word: par, Predicted: none, Actual: none, Accuracy: 100%\n",
            "Word: devant, Predicted: none, Actual: none, Accuracy: 100%\n",
            "Word: nous, Predicted: none, Actual: none, Accuracy: 100%\n",
            "Word: maire,, Predicted: none, Actual: none, Accuracy: 100%\n",
            "Word: officier, Predicted: none, Actual: none, Accuracy: 100%\n",
            "Word: de, Predicted: none, Actual: none, Accuracy: 100%\n",
            "Word: l'etat, Predicted: none, Actual: none, Accuracy: 100%\n",
            "Word: civil, Predicted: none, Actual: none, Accuracy: 100%\n",
            "Word: de, Predicted: none, Actual: none, Accuracy: 100%\n",
            "Word: la, Predicted: none, Actual: none, Accuracy: 100%\n",
            "Word: commune, Predicted: none, Actual: none, Accuracy: 100%\n",
            "Word: de, Predicted: none, Actual: none, Accuracy: 100%\n",
            "Word: Lantigni;Dpartem, Predicted: none, Actual: none, Accuracy: 100%\n",
            "Word: du, Predicted: none, Actual: none, Accuracy: 100%\n",
            "Word: Rh´ne,, Predicted: DeathState, Actual: DeathState, Accuracy: 100%\n",
            "Word: canton, Predicted: none, Actual: none, Accuracy: 100%\n",
            "Word: De, Predicted: none, Actual: none, Accuracy: 100%\n",
            "Word: Beaujeu, Predicted: none, Actual: none, Accuracy: 100%\n",
            "Word: ,, Predicted: none, Actual: none, Accuracy: 100%\n",
            "Word: sont, Predicted: none, Actual: none, Accuracy: 100%\n",
            "Word: comparus, Predicted: none, Actual: none, Accuracy: 100%\n",
            "Word: jean-pierre, Predicted: none, Actual: none, Accuracy: 100%\n",
            "Word: Perme, Predicted: none, Actual: none, Accuracy: 100%\n",
            "Word: g, Predicted: none, Actual: none, Accuracy: 100%\n",
            "Word: d'nviron, Predicted: none, Actual: none, Accuracy: 100%\n",
            "Word: vingt-huit, Predicted: none, Actual: none, Accuracy: 100%\n",
            "Word: ans,et, Predicted: none, Actual: none, Accuracy: 100%\n",
            "Word: Antoine, Predicted: none, Actual: none, Accuracy: 100%\n",
            "Word: Labruyere, Predicted: none, Actual: none, Accuracy: 100%\n",
            "Word: g, Predicted: none, Actual: none, Accuracy: 100%\n",
            "Word: d'nviron, Predicted: none, Actual: none, Accuracy: 100%\n",
            "Word: cinquante-deux, Predicted: none, Actual: none, Accuracy: 100%\n",
            "Word: ans,, Predicted: none, Actual: none, Accuracy: 100%\n",
            "Word: tous, Predicted: none, Actual: none, Accuracy: 100%\n",
            "Word: les, Predicted: none, Actual: none, Accuracy: 100%\n",
            "Word: deux, Predicted: none, Actual: none, Accuracy: 100%\n",
            "Word: cultivateur, Predicted: none, Actual: none, Accuracy: 100%\n",
            "Word: demeurant, Predicted: none, Actual: none, Accuracy: 100%\n",
            "Word: , Predicted: none, Actual: none, Accuracy: 100%\n",
            "Word: Lantigni,, Predicted: none, Actual: none, Accuracy: 100%\n",
            "Word: les, Predicted: none, Actual: none, Accuracy: 100%\n",
            "Word: quels, Predicted: none, Actual: none, Accuracy: 100%\n",
            "Word: nous, Predicted: none, Actual: none, Accuracy: 100%\n",
            "Word: ont, Predicted: none, Actual: none, Accuracy: 100%\n",
            "Word: dclar, Predicted: none, Actual: none, Accuracy: 100%\n",
            "Word: aujourd'hui, Predicted: none, Actual: none, Accuracy: 100%\n",
            "Word: , Predicted: none, Actual: none, Accuracy: 100%\n",
            "Word: dix, Predicted: none, Actual: none, Accuracy: 100%\n",
            "Word: heures, Predicted: none, Actual: none, Accuracy: 100%\n",
            "Word: du, Predicted: none, Actual: none, Accuracy: 100%\n",
            "Word: matin., Predicted: none, Actual: none, Accuracy: 100%\n",
            "Word: qui, Predicted: none, Actual: none, Accuracy: 100%\n",
            "Word: Antoine, Predicted: GivenName, Actual: GivenName, Accuracy: 100%\n",
            "Word: Michon, Predicted: Surname, Actual: Surname, Accuracy: 100%\n",
            "Word: g, Predicted: none, Actual: none, Accuracy: 100%\n",
            "Word: d'nviron, Predicted: none, Actual: none, Accuracy: 100%\n",
            "Word: dix-sept, Predicted: DeathAge, Actual: DeathAge, Accuracy: 100%\n",
            "Word: ans, Predicted: DeathAge, Actual: DeathAge, Accuracy: 100%\n",
            "Word: n, Predicted: none, Actual: none, Accuracy: 100%\n",
            "Word: , Predicted: none, Actual: none, Accuracy: 100%\n",
            "Word: Lantigni,, Predicted: none, Actual: none, Accuracy: 100%\n",
            "Word: X, Predicted: none, Actual: none, Accuracy: 100%\n",
            "Word: fils, Predicted: none, Actual: none, Accuracy: 100%\n",
            "Word: de, Predicted: none, Actual: none, Accuracy: 100%\n",
            "Word: claude, Predicted: FatherGivenName, Actual: FatherGivenName, Accuracy: 100%\n",
            "Word: Michon, Predicted: FatherSurname, Actual: FatherSurname, Accuracy: 100%\n",
            "Word: et, Predicted: none, Actual: none, Accuracy: 100%\n",
            "Word: de, Predicted: none, Actual: none, Accuracy: 100%\n",
            "Word: jeanne, Predicted: none, Actual: MotherGivenName, Accuracy: 0%\n",
            "Word: foubert, Predicted: none, Actual: MotherSurname, Accuracy: 0%\n",
            "Word: tous, Predicted: none, Actual: none, Accuracy: 100%\n",
            "Word: les, Predicted: none, Actual: none, Accuracy: 100%\n",
            "Word: deux, Predicted: none, Actual: none, Accuracy: 100%\n",
            "Word: cultivateurs, Predicted: none, Actual: none, Accuracy: 100%\n",
            "Word: demeurant, Predicted: none, Actual: none, Accuracy: 100%\n",
            "Word: , Predicted: none, Actual: none, Accuracy: 100%\n",
            "Word: Lantigni,, Predicted: none, Actual: none, Accuracy: 100%\n",
            "Word: est, Predicted: none, Actual: none, Accuracy: 100%\n",
            "Word: dcd, Predicted: none, Actual: none, Accuracy: 100%\n",
            "Word: hier, Predicted: none, Actual: none, Accuracy: 100%\n",
            "Word: , Predicted: none, Actual: none, Accuracy: 100%\n",
            "Word: sept, Predicted: none, Actual: none, Accuracy: 100%\n",
            "Word: heures, Predicted: none, Actual: none, Accuracy: 100%\n",
            "Word: du, Predicted: none, Actual: none, Accuracy: 100%\n",
            "Word: hier;, Predicted: none, Actual: none, Accuracy: 100%\n",
            "Word: les, Predicted: none, Actual: none, Accuracy: 100%\n",
            "Word: dclarons, Predicted: none, Actual: none, Accuracy: 100%\n",
            "Word: n'ont, Predicted: none, Actual: none, Accuracy: 100%\n",
            "Word: sign, Predicted: none, Actual: none, Accuracy: 100%\n",
            "Word: avec, Predicted: none, Actual: none, Accuracy: 100%\n",
            "Word: le, Predicted: none, Actual: none, Accuracy: 100%\n",
            "Word: prsent, Predicted: none, Actual: none, Accuracy: 100%\n",
            "Word: acte, Predicted: none, Actual: none, Accuracy: 100%\n",
            "Word: aprs, Predicted: none, Actual: none, Accuracy: 100%\n",
            "Word: que, Predicted: none, Actual: none, Accuracy: 100%\n",
            "Word: lecture., Predicted: none, Actual: none, Accuracy: 100%\n",
            "Word: leur, Predicted: none, Actual: none, Accuracy: 100%\n",
            "Word: en, Predicted: none, Actual: none, Accuracy: 100%\n",
            "Word: , Predicted: none, Actual: none, Accuracy: 100%\n",
            "Word: t, Predicted: none, Actual: none, Accuracy: 100%\n",
            "Word: faite,, Predicted: none, Actual: none, Accuracy: 100%\n",
            "Word: pour, Predicted: none, Actual: none, Accuracy: 100%\n",
            "Word: ne, Predicted: none, Actual: none, Accuracy: 100%\n",
            "Word: savoir, Predicted: none, Actual: none, Accuracy: 100%\n",
            "Word: crire., Predicted: none, Actual: none, Accuracy: 100%\n",
            "Word: X, Predicted: none, Actual: none, Accuracy: 100%\n",
            "Word: demeurant, Predicted: none, Actual: none, Accuracy: 100%\n",
            "Word: au, Predicted: none, Actual: none, Accuracy: 100%\n",
            "Word: meme, Predicted: none, Actual: none, Accuracy: 100%\n",
            "Word: leur, Predicted: none, Actual: none, Accuracy: 100%\n",
            "Word: le, Predicted: none, Actual: none, Accuracy: 100%\n",
            "Word: renvoi, Predicted: none, Actual: none, Accuracy: 100%\n",
            "Word: de, Predicted: none, Actual: none, Accuracy: 100%\n",
            "Word: quatre, Predicted: none, Actual: none, Accuracy: 100%\n",
            "Word: mots,, Predicted: none, Actual: none, Accuracy: 100%\n",
            "Word: bon., Predicted: none, Actual: none, Accuracy: 100%\n",
            "Word: Debille, Predicted: none, Actual: none, Accuracy: 100%\n",
            "Word: De, Predicted: none, Actual: none, Accuracy: 100%\n",
            "Word: Miare, Predicted: GivenName, Actual: none, Accuracy: 0%\n",
            "Word: 2, Predicted: none, Actual: none, Accuracy: 100%\n",
            "Word: Fei, Predicted: none, Actual: none, Accuracy: 100%\n",
            "Word: 3, Predicted: DeathAge, Actual: none, Accuracy: 0%\n",
            "***Entity Prediction Sample***\n",
            "Word: 5er, Predicted: Start, Actual: Start, Accuracy: 100%\n",
            "Word: Polosse, Predicted: Surname, Actual: Surname, Accuracy: 100%\n",
            "Word: (claudine), Predicted: GivenName, Actual: GivenName, Accuracy: 100%\n",
            "Word: L'an, Predicted: none, Actual: none, Accuracy: 100%\n",
            "Word: mil, Predicted: DeathYear, Actual: DeathYear, Accuracy: 100%\n",
            "Word: huit, Predicted: DeathYear, Actual: DeathYear, Accuracy: 100%\n",
            "Word: cent, Predicted: DeathYear, Actual: DeathYear, Accuracy: 100%\n",
            "Word: vingt-sept,, Predicted: DeathYear, Actual: DeathYear, Accuracy: 100%\n",
            "Word: le, Predicted: none, Actual: none, Accuracy: 100%\n",
            "Word: onze, Predicted: DeathDay, Actual: DeathDay, Accuracy: 100%\n",
            "Word: du, Predicted: none, Actual: none, Accuracy: 100%\n",
            "Word: mois, Predicted: none, Actual: none, Accuracy: 100%\n",
            "Word: d'avril,, Predicted: DeathMonth, Actual: DeathMonth, Accuracy: 100%\n",
            "Word: par, Predicted: none, Actual: none, Accuracy: 100%\n",
            "Word: devant, Predicted: none, Actual: none, Accuracy: 100%\n",
            "Word: nous, Predicted: none, Actual: none, Accuracy: 100%\n",
            "Word: maire,, Predicted: none, Actual: none, Accuracy: 100%\n",
            "Word: officier, Predicted: none, Actual: none, Accuracy: 100%\n",
            "Word: de, Predicted: none, Actual: none, Accuracy: 100%\n",
            "Word: l'etat, Predicted: none, Actual: none, Accuracy: 100%\n",
            "Word: civil, Predicted: none, Actual: none, Accuracy: 100%\n",
            "Word: de, Predicted: none, Actual: none, Accuracy: 100%\n",
            "Word: la, Predicted: none, Actual: none, Accuracy: 100%\n",
            "Word: commune, Predicted: none, Actual: none, Accuracy: 100%\n",
            "Word: de, Predicted: none, Actual: none, Accuracy: 100%\n",
            "Word: Lantigni;Dpartem, Predicted: none, Actual: none, Accuracy: 100%\n",
            "Word: du, Predicted: none, Actual: none, Accuracy: 100%\n",
            "Word: Rh´ne,, Predicted: DeathState, Actual: DeathState, Accuracy: 100%\n",
            "Word: canton, Predicted: none, Actual: none, Accuracy: 100%\n",
            "Word: de, Predicted: none, Actual: none, Accuracy: 100%\n",
            "Word: Beaujeu,, Predicted: FatherGivenName, Actual: none, Accuracy: 0%\n",
            "Word: sont, Predicted: none, Actual: none, Accuracy: 100%\n",
            "Word: comparus, Predicted: none, Actual: none, Accuracy: 100%\n",
            "Word: jean-pierre, Predicted: none, Actual: none, Accuracy: 100%\n",
            "Word: Perme, Predicted: none, Actual: none, Accuracy: 100%\n",
            "Word: g, Predicted: none, Actual: none, Accuracy: 100%\n",
            "Word: d'nviron, Predicted: none, Actual: none, Accuracy: 100%\n",
            "Word: vingt-huit, Predicted: none, Actual: none, Accuracy: 100%\n",
            "Word: ans,et, Predicted: none, Actual: none, Accuracy: 100%\n",
            "Word: Antoine, Predicted: none, Actual: none, Accuracy: 100%\n",
            "Word: Labruyere, Predicted: none, Actual: none, Accuracy: 100%\n",
            "Word: g, Predicted: none, Actual: none, Accuracy: 100%\n",
            "Word: d'nviron, Predicted: none, Actual: none, Accuracy: 100%\n",
            "Word: cinquante-deux, Predicted: none, Actual: none, Accuracy: 100%\n",
            "Word: ans,, Predicted: none, Actual: none, Accuracy: 100%\n",
            "Word: tous, Predicted: none, Actual: none, Accuracy: 100%\n",
            "Word: les, Predicted: none, Actual: none, Accuracy: 100%\n",
            "Word: deux, Predicted: none, Actual: none, Accuracy: 100%\n",
            "Word: cultivateur, Predicted: none, Actual: none, Accuracy: 100%\n",
            "Word: demeurant, Predicted: none, Actual: none, Accuracy: 100%\n",
            "Word: , Predicted: none, Actual: none, Accuracy: 100%\n",
            "Word: Lantigni,, Predicted: none, Actual: none, Accuracy: 100%\n",
            "Word: les, Predicted: none, Actual: none, Accuracy: 100%\n",
            "Word: quels, Predicted: none, Actual: none, Accuracy: 100%\n",
            "Word: nous, Predicted: none, Actual: none, Accuracy: 100%\n",
            "Word: ont, Predicted: none, Actual: none, Accuracy: 100%\n",
            "Word: dclar, Predicted: none, Actual: none, Accuracy: 100%\n",
            "Word: les, Predicted: none, Actual: none, Accuracy: 100%\n",
            "Word: deux, Predicted: none, Actual: none, Accuracy: 100%\n",
            "Word: jours, Predicted: none, Actual: none, Accuracy: 100%\n",
            "Word: mois, Predicted: none, Actual: none, Accuracy: 100%\n",
            "Word: et, Predicted: none, Actual: none, Accuracy: 100%\n",
            "Word: un, Predicted: none, Actual: none, Accuracy: 100%\n",
            "Word: , Predicted: none, Actual: none, Accuracy: 100%\n",
            "Word: six, Predicted: none, Actual: none, Accuracy: 100%\n",
            "Word: heures, Predicted: none, Actual: none, Accuracy: 100%\n",
            "Word: du, Predicted: none, Actual: none, Accuracy: 100%\n",
            "Word: matin, Predicted: none, Actual: none, Accuracy: 100%\n",
            "Word: que, Predicted: none, Actual: none, Accuracy: 100%\n",
            "Word: Claudine, Predicted: GivenName, Actual: GivenName, Accuracy: 100%\n",
            "Word: Polosse, Predicted: Surname, Actual: Surname, Accuracy: 100%\n",
            "Word: g, Predicted: none, Actual: none, Accuracy: 100%\n",
            "Word: d'nviron, Predicted: none, Actual: none, Accuracy: 100%\n",
            "Word: cinquante, Predicted: DeathAge, Actual: DeathAge, Accuracy: 100%\n",
            "Word: ans,, Predicted: DeathAge, Actual: DeathAge, Accuracy: 100%\n",
            "Word: ne, Predicted: none, Actual: none, Accuracy: 100%\n",
            "Word: , Predicted: none, Actual: none, Accuracy: 100%\n",
            "Word: quimeire,, Predicted: none, Actual: none, Accuracy: 100%\n",
            "Word: epouse, Predicted: none, Actual: none, Accuracy: 100%\n",
            "Word: de, Predicted: none, Actual: none, Accuracy: 100%\n",
            "Word: claude, Predicted: none, Actual: SpouseGivenName, Accuracy: 0%\n",
            "Word: jaudard, Predicted: none, Actual: SpouseSurname, Accuracy: 0%\n",
            "Word: demeurant, Predicted: none, Actual: none, Accuracy: 100%\n",
            "Word: , Predicted: none, Actual: none, Accuracy: 100%\n",
            "Word: Lantigni,, Predicted: none, Actual: none, Accuracy: 100%\n",
            "Word: est, Predicted: none, Actual: none, Accuracy: 100%\n",
            "Word: dcde, Predicted: none, Actual: none, Accuracy: 100%\n",
            "Word: hier, Predicted: none, Actual: none, Accuracy: 100%\n",
            "Word: , Predicted: none, Actual: none, Accuracy: 100%\n",
            "Word: sept, Predicted: none, Actual: none, Accuracy: 100%\n",
            "Word: heures, Predicted: none, Actual: none, Accuracy: 100%\n",
            "Word: du, Predicted: none, Actual: none, Accuracy: 100%\n",
            "Word: matin;et, Predicted: none, Actual: none, Accuracy: 100%\n",
            "Word: les, Predicted: none, Actual: none, Accuracy: 100%\n",
            "Word: d'clarons, Predicted: none, Actual: none, Accuracy: 100%\n",
            "Word: n'ont, Predicted: none, Actual: none, Accuracy: 100%\n",
            "Word: sign, Predicted: none, Actual: none, Accuracy: 100%\n",
            "Word: avec, Predicted: none, Actual: none, Accuracy: 100%\n",
            "Word: le, Predicted: none, Actual: none, Accuracy: 100%\n",
            "Word: prsent, Predicted: none, Actual: none, Accuracy: 100%\n",
            "Word: acte;, Predicted: none, Actual: none, Accuracy: 100%\n",
            "Word: aprs, Predicted: none, Actual: none, Accuracy: 100%\n",
            "Word: que, Predicted: none, Actual: none, Accuracy: 100%\n",
            "Word: lecture., Predicted: none, Actual: none, Accuracy: 100%\n",
            "Word: leur, Predicted: none, Actual: none, Accuracy: 100%\n",
            "Word: en, Predicted: none, Actual: none, Accuracy: 100%\n",
            "Word: , Predicted: none, Actual: none, Accuracy: 100%\n",
            "Word: t, Predicted: none, Actual: none, Accuracy: 100%\n",
            "Word: faite,, Predicted: none, Actual: none, Accuracy: 100%\n",
            "Word: pour, Predicted: none, Actual: none, Accuracy: 100%\n",
            "Word: ne, Predicted: none, Actual: none, Accuracy: 100%\n",
            "Word: savoir, Predicted: none, Actual: none, Accuracy: 100%\n",
            "Word: crire, Predicted: none, Actual: none, Accuracy: 100%\n",
            "Word: de, Predicted: none, Actual: none, Accuracy: 100%\n",
            "Word: ce, Predicted: none, Actual: none, Accuracy: 100%\n",
            "Word: enquis, Predicted: none, Actual: none, Accuracy: 100%\n",
            "Word: .j., Predicted: none, Actual: none, Accuracy: 100%\n",
            "Word: Debilles, Predicted: none, Actual: none, Accuracy: 100%\n",
            "Word: Maire, Predicted: none, Actual: none, Accuracy: 100%\n",
            "***Entity Prediction Sample***\n",
            "Word: 6, Predicted: Start, Actual: Start, Accuracy: 100%\n",
            "Word: Jambon, Predicted: none, Actual: Surname, Accuracy: 0%\n",
            "Word: (philibert), Predicted: GivenName, Actual: GivenName, Accuracy: 100%\n",
            "Word: L'an, Predicted: none, Actual: none, Accuracy: 100%\n",
            "Word: mil, Predicted: DeathYear, Actual: DeathYear, Accuracy: 100%\n",
            "Word: huit, Predicted: DeathYear, Actual: DeathYear, Accuracy: 100%\n",
            "Word: cent, Predicted: DeathYear, Actual: DeathYear, Accuracy: 100%\n",
            "Word: vingt-sept,, Predicted: DeathYear, Actual: DeathYear, Accuracy: 100%\n",
            "Word: le, Predicted: none, Actual: none, Accuracy: 100%\n",
            "Word: quatre, Predicted: DeathDay, Actual: DeathDay, Accuracy: 100%\n",
            "Word: du, Predicted: none, Actual: none, Accuracy: 100%\n",
            "Word: mois, Predicted: none, Actual: none, Accuracy: 100%\n",
            "Word: du, Predicted: none, Actual: none, Accuracy: 100%\n",
            "Word: mai,, Predicted: none, Actual: DeathMonth, Accuracy: 0%\n",
            "Word: par, Predicted: none, Actual: none, Accuracy: 100%\n",
            "Word: devant, Predicted: none, Actual: none, Accuracy: 100%\n",
            "Word: nous, Predicted: none, Actual: none, Accuracy: 100%\n",
            "Word: maire,, Predicted: none, Actual: none, Accuracy: 100%\n",
            "Word: officier, Predicted: none, Actual: none, Accuracy: 100%\n",
            "Word: de, Predicted: none, Actual: none, Accuracy: 100%\n",
            "Word: l'etat, Predicted: none, Actual: none, Accuracy: 100%\n",
            "Word: civil, Predicted: none, Actual: none, Accuracy: 100%\n",
            "Word: de, Predicted: none, Actual: none, Accuracy: 100%\n",
            "Word: la, Predicted: none, Actual: none, Accuracy: 100%\n",
            "Word: commune, Predicted: none, Actual: none, Accuracy: 100%\n",
            "Word: de, Predicted: none, Actual: none, Accuracy: 100%\n",
            "Word: Lantigni;, Predicted: none, Actual: none, Accuracy: 100%\n",
            "Word: Dpartement, Predicted: none, Actual: none, Accuracy: 100%\n",
            "Word: du, Predicted: none, Actual: none, Accuracy: 100%\n",
            "Word: Rh´ne,, Predicted: DeathState, Actual: DeathState, Accuracy: 100%\n",
            "Word: canton, Predicted: none, Actual: none, Accuracy: 100%\n",
            "Word: de, Predicted: none, Actual: none, Accuracy: 100%\n",
            "Word: Beaujeu,, Predicted: FatherGivenName, Actual: none, Accuracy: 0%\n",
            "Word: sont, Predicted: none, Actual: none, Accuracy: 100%\n",
            "Word: comparus, Predicted: none, Actual: none, Accuracy: 100%\n",
            "Word: jean-, Predicted: none, Actual: none, Accuracy: 100%\n",
            "Word: pierre, Predicted: none, Actual: none, Accuracy: 100%\n",
            "Word: Perme, Predicted: none, Actual: none, Accuracy: 100%\n",
            "Word: g, Predicted: none, Actual: none, Accuracy: 100%\n",
            "Word: d'nviron, Predicted: none, Actual: none, Accuracy: 100%\n",
            "Word: vingt-huit, Predicted: none, Actual: none, Accuracy: 100%\n",
            "Word: ans,et, Predicted: none, Actual: none, Accuracy: 100%\n",
            "Word: Antoine, Predicted: none, Actual: none, Accuracy: 100%\n",
            "Word: Labruyer¨, Predicted: none, Actual: none, Accuracy: 100%\n",
            "Word: g, Predicted: none, Actual: none, Accuracy: 100%\n",
            "Word: d'nviron, Predicted: none, Actual: none, Accuracy: 100%\n",
            "Word: cinquante-deux, Predicted: none, Actual: none, Accuracy: 100%\n",
            "Word: ans,, Predicted: none, Actual: none, Accuracy: 100%\n",
            "Word: tous, Predicted: none, Actual: none, Accuracy: 100%\n",
            "Word: les, Predicted: none, Actual: none, Accuracy: 100%\n",
            "Word: deux, Predicted: none, Actual: none, Accuracy: 100%\n",
            "Word: cultivateur, Predicted: none, Actual: none, Accuracy: 100%\n",
            "Word: demeurant, Predicted: none, Actual: none, Accuracy: 100%\n",
            "Word: , Predicted: none, Actual: none, Accuracy: 100%\n",
            "Word: Lantigni,, Predicted: none, Actual: none, Accuracy: 100%\n",
            "Word: les, Predicted: none, Actual: none, Accuracy: 100%\n",
            "Word: quels, Predicted: none, Actual: none, Accuracy: 100%\n",
            "Word: nous, Predicted: none, Actual: none, Accuracy: 100%\n",
            "Word: ont, Predicted: none, Actual: none, Accuracy: 100%\n",
            "Word: dclar, Predicted: none, Actual: none, Accuracy: 100%\n",
            "Word: les, Predicted: none, Actual: none, Accuracy: 100%\n",
            "Word: dites, Predicted: none, Actual: none, Accuracy: 100%\n",
            "Word: jours, Predicted: none, Actual: none, Accuracy: 100%\n",
            "Word: mois, Predicted: DeathAge, Actual: none, Accuracy: 0%\n",
            "Word: en, Predicted: none, Actual: none, Accuracy: 100%\n",
            "Word: , Predicted: none, Actual: none, Accuracy: 100%\n",
            "Word: sept, Predicted: none, Actual: none, Accuracy: 100%\n",
            "Word: heures, Predicted: none, Actual: none, Accuracy: 100%\n",
            "Word: du, Predicted: none, Actual: none, Accuracy: 100%\n",
            "Word: matin, Predicted: none, Actual: none, Accuracy: 100%\n",
            "Word: que, Predicted: none, Actual: none, Accuracy: 100%\n",
            "Word: philibert, Predicted: none, Actual: GivenName, Accuracy: 0%\n",
            "Word: jambon, Predicted: none, Actual: Surname, Accuracy: 0%\n",
            "Word: g, Predicted: none, Actual: none, Accuracy: 100%\n",
            "Word: d'nviron, Predicted: none, Actual: none, Accuracy: 100%\n",
            "Word: quatre-vingt-sept, Predicted: DeathAge, Actual: DeathAge, Accuracy: 100%\n",
            "Word: ans,, Predicted: DeathAge, Actual: DeathAge, Accuracy: 100%\n",
            "Word: n, Predicted: none, Actual: none, Accuracy: 100%\n",
            "Word: , Predicted: none, Actual: none, Accuracy: 100%\n",
            "Word: Ville;, Predicted: none, Actual: none, Accuracy: 100%\n",
            "Word: neuf, Predicted: none, Actual: none, Accuracy: 100%\n",
            "Word: de, Predicted: none, Actual: none, Accuracy: 100%\n",
            "Word: Michellette, Predicted: none, Actual: SpouseGivenName, Accuracy: 0%\n",
            "Word: Pardon,, Predicted: none, Actual: SpouseSurname, Accuracy: 0%\n",
            "Word: cultivateur, Predicted: none, Actual: none, Accuracy: 100%\n",
            "Word: demeurant, Predicted: none, Actual: none, Accuracy: 100%\n",
            "Word: , Predicted: none, Actual: none, Accuracy: 100%\n",
            "Word: Lantigni,, Predicted: none, Actual: none, Accuracy: 100%\n",
            "Word: est, Predicted: none, Actual: none, Accuracy: 100%\n",
            "Word: dcd, Predicted: none, Actual: none, Accuracy: 100%\n",
            "Word: hier, Predicted: none, Actual: none, Accuracy: 100%\n",
            "Word: , Predicted: none, Actual: none, Accuracy: 100%\n",
            "Word: trois, Predicted: none, Actual: none, Accuracy: 100%\n",
            "Word: heures, Predicted: none, Actual: none, Accuracy: 100%\n",
            "Word: de, Predicted: none, Actual: none, Accuracy: 100%\n",
            "Word: l'aprs, Predicted: none, Actual: none, Accuracy: 100%\n",
            "Word: midi;, Predicted: none, Actual: none, Accuracy: 100%\n",
            "Word: et, Predicted: none, Actual: none, Accuracy: 100%\n",
            "Word: les, Predicted: none, Actual: none, Accuracy: 100%\n",
            "Word: d'clarons, Predicted: none, Actual: none, Accuracy: 100%\n",
            "Word: n'ont, Predicted: none, Actual: none, Accuracy: 100%\n",
            "Word: sign, Predicted: none, Actual: none, Accuracy: 100%\n",
            "Word: avec, Predicted: none, Actual: none, Accuracy: 100%\n",
            "Word: le, Predicted: none, Actual: none, Accuracy: 100%\n",
            "Word: prsent, Predicted: none, Actual: none, Accuracy: 100%\n",
            "Word: acte;, Predicted: none, Actual: none, Accuracy: 100%\n",
            "Word: aprs, Predicted: none, Actual: none, Accuracy: 100%\n",
            "Word: que, Predicted: none, Actual: none, Accuracy: 100%\n",
            "Word: lecture., Predicted: none, Actual: none, Accuracy: 100%\n",
            "Word: leur, Predicted: none, Actual: none, Accuracy: 100%\n",
            "Word: en, Predicted: none, Actual: none, Accuracy: 100%\n",
            "Word: , Predicted: none, Actual: none, Accuracy: 100%\n",
            "Word: t, Predicted: none, Actual: none, Accuracy: 100%\n",
            "Word: faite,, Predicted: none, Actual: none, Accuracy: 100%\n",
            "Word: pour, Predicted: none, Actual: none, Accuracy: 100%\n",
            "Word: ne, Predicted: none, Actual: none, Accuracy: 100%\n",
            "Word: savoir, Predicted: none, Actual: none, Accuracy: 100%\n",
            "Word: crire, Predicted: none, Actual: none, Accuracy: 100%\n",
            "Word: de, Predicted: none, Actual: none, Accuracy: 100%\n",
            "Word: ce, Predicted: none, Actual: none, Accuracy: 100%\n",
            "Word: enquis, Predicted: none, Actual: none, Accuracy: 100%\n",
            "Word: .j., Predicted: none, Actual: none, Accuracy: 100%\n",
            "Word: Jambon, Predicted: none, Actual: none, Accuracy: 100%\n",
            "Word: Debille, Predicted: none, Actual: none, Accuracy: 100%\n",
            "Word: Maire, Predicted: none, Actual: none, Accuracy: 100%\n",
            "Finished.\n"
          ],
          "name": "stdout"
        }
      ]
    },
    {
      "cell_type": "markdown",
      "metadata": {
        "id": "EtZWK_3QG5hm",
        "colab_type": "text"
      },
      "source": [
        "Use sklearn to create the confusion matrix from the actual/predicted values"
      ]
    },
    {
      "cell_type": "code",
      "metadata": {
        "id": "QTb_Mb9_vI4X",
        "colab_type": "code",
        "colab": {
          "base_uri": "https://localhost:8080/",
          "height": 697
        },
        "outputId": "5dad7ff3-e5ba-4e81-a645-b89f16767152"
      },
      "source": [
        "matrix = metrics.confusion_matrix(y_true, y_pred)\n",
        "matrix"
      ],
      "execution_count": 110,
      "outputs": [
        {
          "output_type": "execute_result",
          "data": {
            "text/plain": [
              "array([[  17,    0,    0,    0,    0,    0,    0,    0,    0,    0,    0,\n",
              "           0,    2,    0,    0,    0,    0,    0,    0,    0],\n",
              "       [   1,    3,    0,    0,    0,    0,    0,   15,    0,    0,    0,\n",
              "           0,    0,    0,    0,    0,    0,    0,    0,    0],\n",
              "       [   0,    0,   26,    2,    0,    0,    0,   32,    0,    0,    1,\n",
              "           0,    0,    0,    0,    0,    2,    0,    0,    0],\n",
              "       [   0,    0,    0,    0,    0,    0,    0,    4,    0,    0,    0,\n",
              "           0,    0,    0,    0,    0,    0,    0,    0,    0],\n",
              "       [   0,    0,    0,    0,    0,    0,    0,    4,    0,    0,    0,\n",
              "           0,    0,    0,    0,    0,    0,    0,    0,    0],\n",
              "       [   0,    0,    0,    3,    1,   25,    0,   23,    0,    0,    1,\n",
              "           0,    0,    0,    3,    0,   13,    0,    0,    0],\n",
              "       [   0,    0,    0,    0,    0,    0,   13,    8,    0,    0,    0,\n",
              "           0,    0,    0,    0,    0,    0,    0,    0,    0],\n",
              "       [   1,   27,   19,    2,    1,    7,   37, 5047,    7,    0,   25,\n",
              "           0,  108,   36,   25,    0,    2,   52,    0,    0],\n",
              "       [   0,    0,    1,    0,    0,    0,    0,   10,   24,    0,    1,\n",
              "           1,    0,    0,    0,    0,    1,    0,    0,    0],\n",
              "       [   0,    0,    0,    0,    0,    0,    0,    0,    0,   44,    0,\n",
              "           0,    0,    0,    0,    0,    0,    0,    0,    0],\n",
              "       [   0,    0,    2,    0,    2,    0,    0,   33,    1,    0,   22,\n",
              "           0,    0,    1,   11,    0,    1,    0,    0,    0],\n",
              "       [   0,    0,    0,    0,    0,    0,    0,   10,    0,    0,    0,\n",
              "           0,    0,    0,    0,    0,    0,    0,    0,    0],\n",
              "       [   0,    0,    0,    0,    0,    0,    0,    6,    0,    0,    0,\n",
              "           0,   74,    0,    0,    0,    0,    0,    0,    0],\n",
              "       [   0,    0,    0,    0,    0,    0,    0,   13,    0,    0,    0,\n",
              "           0,    0,   25,    0,    0,    0,    0,    0,    0],\n",
              "       [   0,    0,    0,    0,    2,    0,    0,   17,   14,    0,    5,\n",
              "           0,    0,    0,   42,    0,    0,    0,    0,    0],\n",
              "       [   0,    0,    0,    0,    0,    0,    0,    0,    0,    0,    1,\n",
              "           0,    0,    0,    0,    0,    0,    0,    0,    0],\n",
              "       [   0,    0,    2,    4,    0,    1,    0,   19,    5,    0,    1,\n",
              "           0,    0,    0,    2,    0,    4,    0,    0,    0],\n",
              "       [   0,    0,    0,    0,    0,    0,    0,   10,    0,    0,    0,\n",
              "           0,    0,    0,    0,    0,    0,    0,    0,    0],\n",
              "       [   0,    0,    0,    0,    0,    0,    0,    3,    0,    0,    0,\n",
              "           0,    0,    0,    0,    0,    0,    0,    0,    0],\n",
              "       [   0,    0,    0,    0,    0,    0,    0,    1,    0,    0,    0,\n",
              "           0,    0,    0,    0,    0,    0,    0,    0,    0]])"
            ]
          },
          "metadata": {
            "tags": []
          },
          "execution_count": 110
        }
      ]
    },
    {
      "cell_type": "markdown",
      "metadata": {
        "id": "m9sa_nX5G9t-",
        "colab_type": "text"
      },
      "source": [
        "Print the Heatmap and convert the index class labels back to their original\n",
        "text representation."
      ]
    },
    {
      "cell_type": "code",
      "metadata": {
        "id": "jHMCc3VAxvE0",
        "colab_type": "code",
        "colab": {
          "base_uri": "https://localhost:8080/",
          "height": 745
        },
        "outputId": "6bee70c4-9869-42ab-903a-308e0c42a6e2"
      },
      "source": [
        "encoder.idx_to_entity(1)\n",
        "class_labels = [encoder.idx_to_entity(i) for i in range(encoder.num_classes())]\n",
        "\n",
        "plt.figure(figsize = (16, 10))\n",
        "sns.heatmap(matrix, annot=True, fmt='d', xticklabels=class_labels, yticklabels=class_labels)\n",
        "\n",
        "plt.title('Confusion Matrix', fontdict={'fontsize': 30})\n",
        "plt.xlabel('Predicted', fontdict={'fontsize': 20})\n",
        "plt.ylabel('Actual', fontdict={'fontsize': 20})"
      ],
      "execution_count": 111,
      "outputs": [
        {
          "output_type": "execute_result",
          "data": {
            "text/plain": [
              "Text(123.0, 0.5, 'Actual')"
            ]
          },
          "metadata": {
            "tags": []
          },
          "execution_count": 111
        },
        {
          "output_type": "display_data",
          "data": {
            "image/png": "[encoded data removed]",
            "text/plain": [
              "<Figure size 1152x720 with 2 Axes>"
            ]
          },
          "metadata": {
            "tags": [],
            "needs_background": "light"
          }
        }
      ]
    },
    {
      "cell_type": "code",
      "metadata": {
        "id": "whatny6vD0zN",
        "colab_type": "code",
        "colab": {
          "base_uri": "https://localhost:8080/",
          "height": 408
        },
        "outputId": "598cc855-2b20-45ce-e1fb-c9a84b039804"
      },
      "source": [
        "print('Accuracies Based on Category:')\n",
        "\n",
        "sums = np.sum(matrix, axis=0)\n",
        "\n",
        "for i in range(len(matrix[0])):\n",
        "  print('- ', encoder.idx_to_entity(i) + ' ({}): '.format(i), matrix[i][i] / sums[i])"
      ],
      "execution_count": 112,
      "outputs": [
        {
          "output_type": "stream",
          "text": [
            "Accuracies Based on Category:\n",
            "-  DeathState (0):  0.8947368421052632\n",
            "-  DeathMonth (1):  0.1\n",
            "-  Surname (2):  0.52\n",
            "-  SpouseSurname (3):  0.0\n",
            "-  SpouseGivenName (4):  0.0\n",
            "-  FatherSurname (5):  0.7575757575757576\n",
            "-  DeathDay (6):  0.26\n",
            "-  none (7):  0.960418648905804\n",
            "-  MotherGivenName (8):  0.47058823529411764\n",
            "-  Start (9):  1.0\n",
            "-  GivenName (10):  0.38596491228070173\n",
            "-  DeathCounty (11):  0.0\n",
            "-  DeathYear (12):  0.40217391304347827\n",
            "-  DeathAge (13):  0.4032258064516129\n",
            "-  FatherGivenName (14):  0.5060240963855421\n",
            "-  BirthCounty (15):  nan\n",
            "-  MotherSurname (16):  0.17391304347826086\n",
            "-  DeathCity (17):  0.0\n",
            "-  BirthCity (18):  nan\n",
            "-  BirthState (19):  nan\n"
          ],
          "name": "stdout"
        },
        {
          "output_type": "stream",
          "text": [
            "/usr/local/lib/python3.6/dist-packages/ipykernel_launcher.py:6: RuntimeWarning: invalid value encountered in long_scalars\n",
            "  \n"
          ],
          "name": "stderr"
        }
      ]
    }
  ]
}