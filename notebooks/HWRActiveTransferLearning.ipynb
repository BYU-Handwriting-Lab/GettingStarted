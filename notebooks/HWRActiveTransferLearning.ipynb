{
  "nbformat": 4,
  "nbformat_minor": 0,
  "metadata": {
    "colab": {
      "name": "HWRActiveTransferLearning.ipynb",
      "provenance": [],
      "authorship_tag": "ABX9TyPtRkwlVY93ousRDCTigb6I",
      "include_colab_link": true
    },
    "kernelspec": {
      "name": "python3",
      "display_name": "Python 3"
    }
  },
  "cells": [
    {
      "cell_type": "markdown",
      "metadata": {
        "id": "view-in-github",
        "colab_type": "text"
      },
      "source": [
        "<a href=\"https://colab.research.google.com/github/BYU-Handwriting-Lab/GettingStarted/blob/master/notebooks/HWRActiveTransferLearning.ipynb\" target=\"_parent\"><img src=\"https://colab.research.google.com/assets/colab-badge.svg\" alt=\"Open In Colab\"/></a>"
      ]
    },
    {
      "cell_type": "markdown",
      "metadata": {
        "id": "GCYwlAtU1xbC"
      },
      "source": [
        "# Active Transfer Learning for Handwriting Recognition\n",
        "\n",
        "This notebook contains code to combine active and transfer learning into a\n",
        "cohesive framework. The hope is to allow for new handwriting datasets to be\n",
        "fitted quickly.\n",
        "\n",
        "In this notebook, we will start the process of fitting the Washington dataset\n",
        "when our list of pre-trained models were trained on the IAM, Rimes, and Bentham\n",
        "datasets."
      ]
    },
    {
      "cell_type": "markdown",
      "metadata": {
        "id": "KqyKe20vLq4Z"
      },
      "source": [
        "## Dependencies\n",
        "\n",
        "First, let's import our dependencies such as Tensorflow, numpy, etc."
      ]
    },
    {
      "cell_type": "code",
      "metadata": {
        "id": "D5vaA6qQ1xFj"
      },
      "source": [
        "import os\n",
        "\n",
        "import tensorflow as tf\n",
        "import tensorflow.keras.layers as kl\n",
        "import tensorflow.keras.constraints as kc\n",
        "\n",
        "import numpy as np\n",
        "from tqdm import tqdm\n",
        "import matplotlib.pyplot as plt\n",
        "import pandas as pd\n",
        "import editdistance as ed"
      ],
      "execution_count": 225,
      "outputs": []
    },
    {
      "cell_type": "markdown",
      "metadata": {
        "id": "E8yHuublJyfb"
      },
      "source": [
        "## Download Datasets and Pre-trained Models"
      ]
    },
    {
      "cell_type": "code",
      "metadata": {
        "id": "gHqNg1tqJx-5"
      },
      "source": [
        "# IAM HWR LINE LEVEL MODEL\n",
        "# ID: 1LmI0kZLGCwE3uD34AbTsmOilvRaWLoIW\n",
        "!wget --load-cookies /tmp/cookies.txt \"https://docs.google.com/uc?export=download&confirm=$(wget --quiet --save-cookies /tmp/cookies.txt --keep-session-cookies --no-check-certificate 'https://docs.google.com/uc?export=download&id=1LmI0kZLGCwE3uD34AbTsmOilvRaWLoIW' -O- | sed -rn 's/.*confirm=([0-9A-Za-z_]+).*/\\1\\n/p')&id=1LmI0kZLGCwE3uD34AbTsmOilvRaWLoIW\" -O iam_hwr_line_level_model.zip && rm -rf /tmp/cookies.txt\n",
        "!unzip iam_hwr_line_level_model.zip\n",
        "!rm iam_hwr_line_level_model.zip\n",
        "\n",
        "# RIMES HWR LINE LEVEL MODEL\n",
        "# ID: 1PdomNgeuaTgLG2-8TZqs5clc_sGx4vWq\n",
        "!wget --load-cookies /tmp/cookies.txt \"https://docs.google.com/uc?export=download&confirm=$(wget --quiet --save-cookies /tmp/cookies.txt --keep-session-cookies --no-check-certificate 'https://docs.google.com/uc?export=download&id=1PdomNgeuaTgLG2-8TZqs5clc_sGx4vWq' -O- | sed -rn 's/.*confirm=([0-9A-Za-z_]+).*/\\1\\n/p')&id=1PdomNgeuaTgLG2-8TZqs5clc_sGx4vWq\" -O rimes_hwr_line_level_model.zip && rm -rf /tmp/cookies.txt\n",
        "!unzip rimes_hwr_line_level_model.zip\n",
        "!rm rimes_hwr_line_level_model.zip\n",
        "\n",
        "# BENTHAM HWR LINE LEVEL MODEL\n",
        "# ID: 1rBCjaLGX0kXjeF4Gwg6JjE3PC5Z_QDq2\n",
        "!wget --load-cookies /tmp/cookies.txt \"https://docs.google.com/uc?export=download&confirm=$(wget --quiet --save-cookies /tmp/cookies.txt --keep-session-cookies --no-check-certificate 'https://docs.google.com/uc?export=download&id=1rBCjaLGX0kXjeF4Gwg6JjE3PC5Z_QDq2' -O- | sed -rn 's/.*confirm=([0-9A-Za-z_]+).*/\\1\\n/p')&id=1rBCjaLGX0kXjeF4Gwg6JjE3PC5Z_QDq2\" -O bentham_hwr_line_level_model.zip && rm -rf /tmp/cookies.txt\n",
        "!unzip bentham_hwr_line_level_model.zip\n",
        "!rm bentham_hwr_line_level_model.zip\n",
        "\n",
        "# WASHINGTON HWR LINE LEVEL MODEL\n",
        "# ID: 10ia9GA1j0KY48CvQRUds2c-nbi1AeQAm\n",
        "!wget --load-cookies /tmp/cookies.txt \"https://docs.google.com/uc?export=download&confirm=$(wget --quiet --save-cookies /tmp/cookies.txt --keep-session-cookies --no-check-certificate 'https://docs.google.com/uc?export=download&id=10ia9GA1j0KY48CvQRUds2c-nbi1AeQAm' -O- | sed -rn 's/.*confirm=([0-9A-Za-z_]+).*/\\1\\n/p')&id=10ia9GA1j0KY48CvQRUds2c-nbi1AeQAm\" -O washington_hwr_line_level_model.zip && rm -rf /tmp/cookies.txt\n",
        "!unzip washington_hwr_line_level_model.zip\n",
        "!rm washington_hwr_line_level_model.zip\n",
        "\n",
        "\n",
        "# IAM HWR LINE LEVEL DATASET\n",
        "# ID: 1ProJyrkE9NhflpYG0nQTfp-ZSvKLyVS1\n",
        "!wget --load-cookies /tmp/cookies.txt \"https://docs.google.com/uc?export=download&confirm=$(wget --quiet --save-cookies /tmp/cookies.txt --keep-session-cookies --no-check-certificate 'https://docs.google.com/uc?export=download&id=1ProJyrkE9NhflpYG0nQTfp-ZSvKLyVS1' -O- | sed -rn 's/.*confirm=([0-9A-Za-z_]+).*/\\1\\n/p')&id=1ProJyrkE9NhflpYG0nQTfp-ZSvKLyVS1\" -O iam_hwr_line_level.zip && rm -rf /tmp/cookies.txt\n",
        "!unzip iam_hwr_line_level.zip\n",
        "!rm iam_hwr_line_level.zip\n",
        "\n",
        "# RIMES HWR LINE LEVEL DATASET\n",
        "# ID: 1baqdK4RJuxvlPErxkFipYaK1-5-SpEww\n",
        "!wget --load-cookies /tmp/cookies.txt \"https://docs.google.com/uc?export=download&confirm=$(wget --quiet --save-cookies /tmp/cookies.txt --keep-session-cookies --no-check-certificate 'https://docs.google.com/uc?export=download&id=1baqdK4RJuxvlPErxkFipYaK1-5-SpEww' -O- | sed -rn 's/.*confirm=([0-9A-Za-z_]+).*/\\1\\n/p')&id=1baqdK4RJuxvlPErxkFipYaK1-5-SpEww\" -O rimes_hwr_line_level.zip && rm -rf /tmp/cookies.txt\n",
        "!unzip rimes_hwr_line_level.zip\n",
        "!rm rimes_hwr_line_level.zip\n",
        "\n",
        "# BENTHAM HWR LINE LEVEL DATASET\n",
        "# ID: 1rFyNkYCkaMG9Mo3d8AFXaLe1fh6Hm3nF\n",
        "!wget --load-cookies /tmp/cookies.txt \"https://docs.google.com/uc?export=download&confirm=$(wget --quiet --save-cookies /tmp/cookies.txt --keep-session-cookies --no-check-certificate 'https://docs.google.com/uc?export=download&id=1rFyNkYCkaMG9Mo3d8AFXaLe1fh6Hm3nF' -O- | sed -rn 's/.*confirm=([0-9A-Za-z_]+).*/\\1\\n/p')&id=1rFyNkYCkaMG9Mo3d8AFXaLe1fh6Hm3nF\" -O bentham_hwr_line_level.zip && rm -rf /tmp/cookies.txt\n",
        "!unzip bentham_hwr_line_level.zip\n",
        "!rm bentham_hwr_line_level.zip\n",
        "\n",
        "# WASHINGTON HWR LINE LEVEL DATASET\n",
        "# ID: 10WLliclnhq3NnEjrHaNcGvrAnrafg94T\n",
        "!wget --load-cookies /tmp/cookies.txt \"https://docs.google.com/uc?export=download&confirm=$(wget --quiet --save-cookies /tmp/cookies.txt --keep-session-cookies --no-check-certificate 'https://docs.google.com/uc?export=download&id=10WLliclnhq3NnEjrHaNcGvrAnrafg94T' -O- | sed -rn 's/.*confirm=([0-9A-Za-z_]+).*/\\1\\n/p')&id=10WLliclnhq3NnEjrHaNcGvrAnrafg94T\" -O washington_hwr_line_level.zip && rm -rf /tmp/cookies.txt\n",
        "!unzip washington_hwr_line_level.zip\n",
        "!rm washington_hwr_line_level.zip\n",
        "\n",
        "# Cleanup\n",
        "!rm -r __MACOSX\n",
        "\n",
        "print('Done.')"
      ],
      "execution_count": null,
      "outputs": []
    },
    {
      "cell_type": "code",
      "metadata": {
        "colab": {
          "base_uri": "https://localhost:8080/"
        },
        "id": "_qOstdHaXB-l",
        "outputId": "ebb1a30d-322c-4bca-ab24-375de98db00e"
      },
      "source": [
        "!ls"
      ],
      "execution_count": 4,
      "outputs": [
        {
          "output_type": "stream",
          "text": [
            "bentham_hwr_line_level\t      rimes_hwr_line_level_model\n",
            "bentham_hwr_line_level_model  sample_data\n",
            "iam_hwr_line_level\t      washington_hwr_line_level\n",
            "iam_hwr_line_level_model      washington_hwr_line_level_model\n",
            "rimes_hwr_line_level\n"
          ],
          "name": "stdout"
        }
      ]
    },
    {
      "cell_type": "markdown",
      "metadata": {
        "id": "zqeIC-ZOMWYq"
      },
      "source": [
        "## Load the data\n",
        "\n",
        "Here are a few functions to help us load our data into a format compatible with\n",
        "Tensorflow"
      ]
    },
    {
      "cell_type": "code",
      "metadata": {
        "id": "7Xrj9lg9WXs_"
      },
      "source": [
        "# The default list of characters used in the recognition model\n",
        "DEFAULT_CHARS = \" !\\\"#%&'()*+,-./0123456789:;<=>?ABCDEFGHIJKLMNOPQRSTUVWXYZ[]_abcdefghijklmnopqrstuvwxyz{|}£¤§°²ÀÉàâçèéêëîôùûœſ€⊥𐌰𐌳𐌴𐌵𐌸𐌺𐌻𐌼𐌾𐍆𐍈\"\n",
        "# The default list of non-punctuation characters needed for the word beam search decoding algorithm\n",
        "DEFAULT_NON_PUNCTUATION = \"ABCDEFGHIJKLMNOPQRSTUVWXYZabcdefghijklmnopqrstuvwxyz£¤§°²ÀÉàâçèéêëîôùûœſ€⊥𐌰𐌳𐌴𐌵𐌸𐌺𐌻𐌼𐌾𐍆\"\n",
        "# The default list of punctuation characters needed for hte word beam search decoding algorithm\n",
        "DEFAULT_PUNCTUATION = \" !\\\"#%&'()*+,-./0123456789:;<=>?[]_{|}\""
      ],
      "execution_count": 14,
      "outputs": []
    },
    {
      "cell_type": "code",
      "metadata": {
        "id": "hV_Jg5RXWa1w"
      },
      "source": [
        "def str_charset_to_lists(charset):\n",
        "    \"\"\"\n",
        "    Turns string containing all desired characters into list of chars and indices. This is required for mapping\n",
        "    between integer and char representations for use in the recognition model.\n",
        "\n",
        "    :param charset: charset as string of chars to be represented in model.\n",
        "    \"\"\"\n",
        "    chars = list(charset)\n",
        "    indices = list(range(1, len(chars) + 1))\n",
        "    return chars, indices\n",
        "\n",
        "\n",
        "def get_char2idx(charset):\n",
        "    \"\"\"\n",
        "    A tensorflow lookup table is created and returned which allows us to encode word transcriptions on the fly\n",
        "    in the tf.data api. A standard python dictionary won't work when tensorflow is running in graph mode. This\n",
        "    function will return a lookup table to convert between chars and indices.\n",
        "\n",
        "    :param charset: string containing all desired characters to be represented\n",
        "    :return: A tensorflow lookup table to convert characters to integers\n",
        "    \"\"\"\n",
        "    chars, indices = str_charset_to_lists(charset)\n",
        "\n",
        "    char2idx = tf.lookup.StaticHashTable(\n",
        "        tf.lookup.KeyValueTensorInitializer(\n",
        "            keys=tf.constant(chars, dtype=tf.string),\n",
        "            values=tf.constant(indices, dtype=tf.int64),\n",
        "            key_dtype=tf.string,\n",
        "            value_dtype=tf.int64\n",
        "        ),\n",
        "        default_value=0,\n",
        "        name='char2idx_lookup'\n",
        "    )\n",
        "\n",
        "    return char2idx\n",
        "\n",
        "\n",
        "def get_idx2char(charset):\n",
        "    \"\"\"\n",
        "    A tensorflow lookup table is created and returned which allows us to encode word transcriptions on the fly\n",
        "    in the tf.data api. A standard python dictionary won't work when tensorflow is running in graph mode. This\n",
        "    function will return a lookup table to convert between indices and chars.\n",
        "\n",
        "    :param charset: string containing all desired characters to be represented.\n",
        "    :return: A tensorflow lookup table to convert integers to characters\n",
        "    \"\"\"\n",
        "    chars, indices = str_charset_to_lists(charset)\n",
        "\n",
        "    idx2char = tf.lookup.StaticHashTable(\n",
        "        tf.lookup.KeyValueTensorInitializer(\n",
        "            keys=tf.constant(indices, dtype=tf.int64),\n",
        "            values=tf.constant(chars, dtype=tf.string),\n",
        "            key_dtype=tf.int64,\n",
        "            value_dtype=tf.string\n",
        "        ),\n",
        "        default_value='',\n",
        "        name='idx2char_lookup'\n",
        "    )\n",
        "\n",
        "    return idx2char\n",
        "\n",
        "\n",
        "def pad_or_truncate(t, sequence_size=128):\n",
        "    \"\"\"\n",
        "    Pad or truncate a tensor to a fixed sequence length. Works for use in the tf.data api in graph mode.\n",
        "\n",
        "    :param t: The tensor to pad or truncate\n",
        "    :param sequence_size: The final sequence length of the tensor\n",
        "    :return:\n",
        "    \"\"\"\n",
        "    dim = tf.size(t)\n",
        "    return tf.cond(tf.equal(dim, sequence_size), lambda: t,\n",
        "                   lambda: tf.cond(tf.greater(dim, sequence_size), lambda: tf.slice(t, [0], [sequence_size]),\n",
        "                                   lambda: tf.concat([t, tf.zeros(sequence_size - dim, dtype=tf.int64)], 0)))\n",
        "\n",
        "\n",
        "def merge_repeating_values(t):\n",
        "    \"\"\"\n",
        "    Merge repeating indices/characters in a tensor. Utilizes only tf.* functions which makes it\n",
        "    usable in graph mode.\n",
        "\n",
        "    :param t: The tensor to have repeated indices/characters merged\n",
        "    :return: A new tensor with repeating values merged\n",
        "    \"\"\"\n",
        "    t2 = tf.roll(tf.pad(t, [[0, 1]], constant_values=-1), -1, 0)[:tf.size(t)]\n",
        "    not_equal = tf.math.not_equal(t, t2)\n",
        "    indices = tf.where(not_equal)\n",
        "    return tf.reshape(tf.gather(t, indices), [-1])\n",
        "\n",
        "\n",
        "def str_to_idxs(string, char2idx, sequence_size):\n",
        "    \"\"\"\n",
        "    Perform the actual lookup to convert a string to its integer representation. This function also performs\n",
        "    padding according to the given sequence size. Works for use in the tf.data api in graph mode.\n",
        "\n",
        "    :param string: The string to be converted\n",
        "    :param char2idx: The tf lookup table\n",
        "    :param sequence_size: The final sequence length\n",
        "    :return: The converted string now in its integer representation\n",
        "    \"\"\"\n",
        "    idxs = tf.map_fn(lambda char: char2idx.lookup(char), tf.strings.unicode_split(string, 'UTF-8'), dtype=tf.int64)\n",
        "    return pad_or_truncate(idxs, sequence_size=sequence_size)\n",
        "\n",
        "\n",
        "def idxs_to_str(idxs, idx2char, merge_repeated=True):\n",
        "    \"\"\"\n",
        "    Perform the actual lookup to convert an integer to its string representation.\n",
        "    Works for use in the tf.data api in graph mode.\n",
        "\n",
        "    :param idxs: The idxs to be converted\n",
        "    :param idx2char: The tf lookup table\n",
        "    :param merge_repeated: Bool indicating whether or not to merge repeating values in the idx tensor\n",
        "    :return: The converted idxs now in its string representation\n",
        "    \"\"\"\n",
        "    if merge_repeated:\n",
        "        idxs = merge_repeating_values(idxs)\n",
        "\n",
        "    string = tf.map_fn(lambda idx: idx2char.lookup(idx), idxs, dtype=tf.string)\n",
        "    string = tf.strings.reduce_join(string)\n",
        "    return tf.strings.strip(string)\n",
        "\n",
        "\n",
        "def str_to_idxs_batch(batch, char2idx, sequence_size=128):\n",
        "    \"\"\"\n",
        "    Perform the same function as str_to_idxs, except a batch of strings are given as input\n",
        "\n",
        "    :param batch: A batch of strings as tensor, list, or numpy array\n",
        "    :param char2idx: The tf lookup table\n",
        "    :param sequence_size: The final sequence length of each string\n",
        "    :return: The converted strings now in its integer representation\n",
        "    \"\"\"\n",
        "    return tf.map_fn(lambda string: str_to_idxs(string, char2idx, sequence_size=sequence_size), batch,\n",
        "                     dtype=tf.int64)\n",
        "\n",
        "\n",
        "def idxs_to_str_batch(batch, idx2char, merge_repeated=True):\n",
        "    \"\"\"\n",
        "    Perform the same function as idxs_to_str, except a batch of idxs are given as input\n",
        "\n",
        "    :param batch: A batch of idxs as tensor, list, or numpy array\n",
        "    :param idx2char: The tf lookup table\n",
        "    :param merge_repeated: Bool indicating whether or not to merge repeating values in the idx tensor\n",
        "    :return: The converted idxs now in its string representation\n",
        "    \"\"\"\n",
        "    return tf.map_fn(lambda idxs: idxs_to_str(idxs, idx2char, merge_repeated=merge_repeated), batch,\n",
        "                     dtype=tf.string)\n",
        "\n",
        "\n",
        "def img_resize_with_pad(img_tensor, desired_size, pad_value=255):\n",
        "    \"\"\"\n",
        "    The standard tf.image.resize_with_pad function does not allow for specifying the pad value,\n",
        "    so we create a function with that capability here. Aspect ratio will be preserved.\n",
        "\n",
        "    :param img_tensor: The image tensor to be resized and padded\n",
        "    :param desired_size: The desired size (height, width)\n",
        "    :param pad_value: The value to pad the tensor with\n",
        "    \"\"\"\n",
        "    img_size = tf.shape(img_tensor)\n",
        "\n",
        "    img_ratio = img_size[0] / img_size[1]\n",
        "    desired_ratio = desired_size[0] / desired_size[1]\n",
        "\n",
        "    if img_ratio >= desired_ratio:\n",
        "        # Solve by height\n",
        "        new_height = desired_size[0]\n",
        "        new_width = int(desired_size[0] // img_ratio)\n",
        "    else:\n",
        "        new_height = int(desired_size[1] * img_ratio)\n",
        "        new_width = desired_size[1]\n",
        "        # Solve by width\n",
        "\n",
        "    resized_img = tf.image.resize(img_tensor, (new_height, new_width), method=tf.image.ResizeMethod.BICUBIC)\n",
        "\n",
        "    pad_height = desired_size[0] - new_height\n",
        "    pad_width = desired_size[1] - new_width\n",
        "\n",
        "    img_padded = tf.pad(resized_img, [[pad_height, 0], [0, pad_width], [0, 0]], constant_values=pad_value)\n",
        "\n",
        "    return img_padded\n",
        "\n",
        "\n",
        "def read_and_encode_image(img_path, img_size=(64, 1024)):\n",
        "    \"\"\"\n",
        "    Used by both encode_img_and_transcription (training) and encode_img_with_name (inference). This method\n",
        "    simply loads the image given a file path and performs the necessary encoding/resizing/transposing that\n",
        "    is necessary for use on the recognition model.\n",
        "\n",
        "    :param img_path: The path to the desired image\n",
        "    :param img_size: The size of the image after resizing/padding\n",
        "    :return: The encoded image in its tensor/integer representation\n",
        "    \"\"\"\n",
        "    img_bytes = tf.io.read_file(img_path)\n",
        "    img = tf.image.decode_image(img_bytes, channels=1, expand_animations=False)\n",
        "    img = img_resize_with_pad(img, img_size)\n",
        "    img = tf.image.per_image_standardization(img)\n",
        "\n",
        "    return img\n",
        "\n",
        "\n",
        "def encode_img_and_transcription(img_path, transcription, char2idx, sequence_size=128, img_size: tuple = (64, 1024)):\n",
        "    \"\"\"\n",
        "    The actual function to map image paths and string transcriptions to its tensor/integer representation.\n",
        "\n",
        "    :param img_path: The path to the desired image\n",
        "    :param transcription: The transcription of the image in integer form\n",
        "    :param char2idx: The tf lookup table\n",
        "    :param sequence_size: The final sequence length for transcriptions\n",
        "    :param img_size: The size of the image after resizing/padding\n",
        "    :return: The image and transcription in their tensor/integer representations.\n",
        "    \"\"\"\n",
        "    img = read_and_encode_image(img_path, img_size=img_size)\n",
        "    line = str_to_idxs(transcription, char2idx, sequence_size)\n",
        "    return img, line\n",
        "\n",
        "\n",
        "def encode_img_with_name(img_path, img_size=(64, 1024)):\n",
        "    \"\"\"\n",
        "    Used to map img_paths to encoded images for inference. Returned is the encoded image and image name.\n",
        "\n",
        "    :param img_path: The file path to the image\n",
        "    :param img_size: The size of the image after resizing/padding\n",
        "    :return: The encoded image and image path\n",
        "    \"\"\"\n",
        "    img = read_and_encode_image(img_path, img_size)\n",
        "    return img, img_path\n",
        "\n",
        "\n",
        "def get_dataset_size(csv_path):\n",
        "    \"\"\"\n",
        "    The tf.data api has a hard time producing the the dataset size. The cardinality() method often\n",
        "    returns unknown even with the CsvDataset. This function uses pandas to get the length.\n",
        "\n",
        "    :param csv_path: The path to csv containing information about the dataset\n",
        "    :return: The size of the dataset\n",
        "    \"\"\"\n",
        "    return len(pd.read_csv(csv_path, sep='\\t', header=None, names=['img_path', 'transcription']))\n",
        "\n",
        "\n",
        "def get_encoded_dataset_from_csv(csv_path, char2idx, max_seq_size, img_size):\n",
        "    \"\"\"\n",
        "    Using the tf.data api, load the desired csv with img_path and transcription data, encode the images and\n",
        "    transcriptions for use on the recognition model and return the desired tf dataset.\n",
        "\n",
        "    :param csv_path: The path to the tab delimited csv file containing | Image Path | Transcription |\n",
        "    :param char2idx: The tf lookup table to map characters to their respective integer representation\n",
        "    :param max_seq_size: The final sequence length for transcriptions\n",
        "    :param img_size: The size of the image after resizing/padding (height, width).\n",
        "    :return: The tf dataset containing encoded images and their respective transcriptions\n",
        "    \"\"\"\n",
        "    path_sep = os.path.sep\n",
        "    path_prefix = tf.strings.join(csv_path.split('/')[:-1], path_sep)\n",
        "    return tf.data.experimental.CsvDataset(csv_path, ['img', 'trans'], field_delim='\\t', use_quote_delim=False).map(\n",
        "        lambda img_path, transcription: encode_img_and_transcription(\n",
        "            tf.strings.join([path_prefix, tf.strings.reduce_join(tf.strings.split(img_path, '/'), separator=path_sep)],\n",
        "                            separator=path_sep),\n",
        "            transcription, char2idx, max_seq_size, img_size),\n",
        "        num_parallel_calls=tf.data.experimental.AUTOTUNE)\n",
        "\n",
        "\n",
        "def get_encoded_inference_dataset_from_img_path(img_path, img_size):\n",
        "    \"\"\"\n",
        "    Using the tf.data api, load all images from the desired path and return a dataset containing encoded images\n",
        "    and the image name (without path or extension information).\n",
        "\n",
        "    :param img_path: The path to the directory containing images\n",
        "    :param img_size: The size of the image after resizing/padding (height, width)\n",
        "    :return: The tf dataset containing encoded images and their respective string names\n",
        "    \"\"\"\n",
        "    return tf.data.Dataset.list_files(img_path + '/*', shuffle=False).map(\n",
        "        lambda path: encode_img_with_name(path, img_size),\n",
        "        num_parallel_calls=tf.data.experimental.AUTOTUNE)"
      ],
      "execution_count": 15,
      "outputs": []
    },
    {
      "cell_type": "markdown",
      "metadata": {
        "id": "RmnqfENWL5it"
      },
      "source": [
        "## Build the Model\n",
        "\n",
        "Here is the necessary code we need to build the model for training"
      ]
    },
    {
      "cell_type": "code",
      "metadata": {
        "id": "jphfCKKIXYdP"
      },
      "source": [
        "class FullGatedConv2D(kl.Conv2D):\n",
        "    \"\"\"\n",
        "    Gated Convolutional Layer as described in the paper, Gated Convolutional Recurrent Neural Networks for Multilingual\n",
        "    Handwriting Recognition (https://ieeexplore-ieee-org.erl.lib.byu.edu/document/8270042). Code obtained from the Flor\n",
        "    implementation (https://github.com/arthurflor23/handwritten-text-recognition)\n",
        "    \"\"\"\n",
        "\n",
        "    def __init__(self, filters, **kwargs):\n",
        "        \"\"\"\n",
        "        :param filters: The number of filters to be used for the convolution\n",
        "        :param kwargs: Additional kwargs to be passed to Conv2D\n",
        "        \"\"\"\n",
        "        super(FullGatedConv2D, self).__init__(filters=filters * 2, **kwargs)\n",
        "        self.nb_filters = filters\n",
        "\n",
        "    def call(self, inputs):\n",
        "        \"\"\"\n",
        "        Forward pass of gated convolutional layer\n",
        "\n",
        "        :param inputs: The input to the gated convolution as tensor\n",
        "        :return: The output of the gated convolution as tensor\n",
        "        \"\"\"\n",
        "        output = super(FullGatedConv2D, self).call(inputs)\n",
        "        linear = kl.Activation(\"linear\")(output[:, :, :, :self.nb_filters])\n",
        "        sigmoid = kl.Activation(\"sigmoid\")(output[:, :, :, self.nb_filters:])\n",
        "        return kl.Multiply()([linear, sigmoid])\n",
        "\n",
        "    def compute_output_shape(self, input_shape):\n",
        "        output_shape = super(FullGatedConv2D, self).compute_output_shape(input_shape)\n",
        "        return tuple(output_shape[:3]) + (self.nb_filters,)\n",
        "\n",
        "    def get_config(self):\n",
        "        config = super(FullGatedConv2D, self).get_config()\n",
        "        config['nb_filters'] = self.nb_filters\n",
        "        del config['filters']\n",
        "        return config"
      ],
      "execution_count": 12,
      "outputs": []
    },
    {
      "cell_type": "code",
      "metadata": {
        "id": "PmMgHX0nXYiz"
      },
      "source": [
        "class FlorRecognizer(tf.keras.Model):\n",
        "    \"\"\"\n",
        "    Handwriting Recognition Model as described in the Blog Post,\n",
        "    https://medium.com/@arthurflor23/handwritten-text-recognition-using-tensorflow-2-0-f4352b7afe16.\n",
        "    This model combines ideas from the following papers:\n",
        "    - https://ieeexplore-ieee-org.erl.lib.byu.edu/document/8270042\n",
        "    - http://www.jpuigcerver.net/pubs/jpuigcerver_icdar2017.pdf\n",
        "    \"\"\"\n",
        "    def __init__(self, vocabulary_size=197):\n",
        "        \"\"\"\n",
        "        Define the model in terms of Keras layers\n",
        "\n",
        "        :param vocabulary_size: The number of possible classes that a character could belong to\n",
        "        \"\"\"\n",
        "        super(FlorRecognizer, self).__init__(name='flor_recognizer')\n",
        "\n",
        "        self.permute = kl.Permute([2, 1, 3])\n",
        "        self.conv1 = tf.keras.Sequential(name='conv1')\n",
        "        self.conv1.add(\n",
        "            kl.Conv2D(filters=16, kernel_size=(3, 3), strides=(2, 2), padding=\"same\", kernel_initializer=\"he_uniform\"))\n",
        "        self.conv1.add(kl.PReLU(shared_axes=[1, 2]))\n",
        "        self.conv1.add(kl.BatchNormalization(renorm=True))\n",
        "        self.conv1.add(FullGatedConv2D(filters=16, kernel_size=(3, 3), padding=\"same\"))\n",
        "\n",
        "        self.conv2 = tf.keras.Sequential(name='conv2')\n",
        "        self.conv2.add(\n",
        "            kl.Conv2D(filters=32, kernel_size=(3, 3), strides=(1, 1), padding=\"same\", kernel_initializer=\"he_uniform\"))\n",
        "        self.conv2.add(kl.PReLU(shared_axes=[1, 2]))\n",
        "        self.conv2.add(kl.BatchNormalization(renorm=True))\n",
        "        self.conv2.add(FullGatedConv2D(filters=32, kernel_size=(3, 3), padding=\"same\"))\n",
        "\n",
        "        self.conv3 = tf.keras.Sequential(name='conv3')\n",
        "        self.conv3.add(\n",
        "            kl.Conv2D(filters=64, kernel_size=(2, 4), strides=(2, 4), padding=\"same\", kernel_initializer=\"he_uniform\"))\n",
        "        self.conv3.add(kl.PReLU(shared_axes=[1, 2]))\n",
        "        self.conv3.add(kl.BatchNormalization(renorm=True))\n",
        "        self.conv3.add(\n",
        "            FullGatedConv2D(filters=64, kernel_size=(3, 3), padding=\"same\", kernel_constraint=kc.MaxNorm(4, [0, 1, 2])))\n",
        "        self.dropout1 = kl.Dropout(rate=0.2, name='dropout1')\n",
        "\n",
        "        self.conv4 = tf.keras.Sequential(name='conv4')\n",
        "        self.conv4.add(\n",
        "            kl.Conv2D(filters=128, kernel_size=(3, 3), strides=(1, 1), padding=\"same\", kernel_initializer=\"he_uniform\"))\n",
        "        self.conv4.add(kl.PReLU(shared_axes=[1, 2]))\n",
        "        self.conv4.add(kl.BatchNormalization(renorm=True))\n",
        "        self.conv4.add(\n",
        "            FullGatedConv2D(filters=128, kernel_size=(3, 3), padding=\"same\", kernel_constraint=kc.MaxNorm(4, [0, 1, 2])))\n",
        "        self.dropout2 = kl.Dropout(rate=0.2, name='dropout2')\n",
        "\n",
        "        self.conv5 = tf.keras.Sequential(name='conv5')\n",
        "        self.conv5.add(\n",
        "            kl.Conv2D(filters=256, kernel_size=(2, 4), strides=(2, 4), padding=\"same\", kernel_initializer=\"he_uniform\"))\n",
        "        self.conv5.add(kl.PReLU(shared_axes=[1, 2]))\n",
        "        self.conv5.add(kl.BatchNormalization(renorm=True))\n",
        "        self.conv5.add(\n",
        "            FullGatedConv2D(filters=256, kernel_size=(3, 3), padding=\"same\", kernel_constraint=kc.MaxNorm(4, [0, 1, 2])))\n",
        "        self.dropout3 = kl.Dropout(rate=0.2, name='dropout3')\n",
        "\n",
        "        self.conv6 = tf.keras.Sequential(name='conv6')\n",
        "        self.conv6.add(\n",
        "            kl.Conv2D(filters=512, kernel_size=(3, 3), strides=(1, 1), padding=\"same\", kernel_initializer=\"he_uniform\"))\n",
        "        self.conv6.add(kl.PReLU(shared_axes=[1, 2]))\n",
        "        self.conv6.add(kl.BatchNormalization(renorm=True))\n",
        "\n",
        "        self.mp = kl.MaxPooling2D(pool_size=(1, 2), strides=(1, 2), padding=\"valid\", name='mp')\n",
        "\n",
        "        self.gru1 = tf.keras.Sequential(name='gru1')\n",
        "        self.gru1.add(kl.Bidirectional(kl.GRU(units=256, return_sequences=True, dropout=0.5)))\n",
        "        self.gru1.add(kl.Dense(units=512))\n",
        "        self.gru1.add(kl.PReLU())\n",
        "\n",
        "        self.gru2 = tf.keras.Sequential(name='gru2')\n",
        "        self.gru2.add(kl.Bidirectional(kl.GRU(units=256, return_sequences=True, dropout=0.5)))\n",
        "        self.gru2.add(kl.Dense(units=vocabulary_size))\n",
        "\n",
        "    def call(self, x, training=False, **kwargs):\n",
        "        \"\"\"\n",
        "        Forward pass of the Recognizer. The training parameter is passed to certain layers\n",
        "        in the model that act differently during training than they do during inference.\n",
        "\n",
        "        :param x: The input to the recognizer (batch, height, width, channels)\n",
        "        :param training: T/F - Is the model in training or inference mode?\n",
        "        :param kwargs: Additional parameters\n",
        "        :return:\n",
        "        \"\"\"\n",
        "        out = self.permute(x)\n",
        "        # CNN\n",
        "        out = self.conv1(out)\n",
        "        out = self.conv2(out)\n",
        "        out = self.conv3(out)\n",
        "        out = self.dropout1(out, training=training)\n",
        "        out = self.conv4(out)\n",
        "        out = self.dropout2(out, training=training)\n",
        "        out = self.conv5(out)\n",
        "        out = self.dropout3(out, training=training)\n",
        "        out = self.conv6(out)\n",
        "\n",
        "        # MaxPool and Reshape\n",
        "        out = self.mp(out)\n",
        "        # out = tf.squeeze(out)\n",
        "        out = tf.reshape(out, (-1, out.shape[1], out.shape[2] * out.shape[3]))\n",
        "\n",
        "        # RNN\n",
        "        out = self.gru1(out)\n",
        "        out = self.gru2(out)\n",
        "\n",
        "        return out"
      ],
      "execution_count": 13,
      "outputs": []
    },
    {
      "cell_type": "markdown",
      "metadata": {
        "id": "Cvj_arlW8amK"
      },
      "source": [
        "## Additional Helper Functions"
      ]
    },
    {
      "cell_type": "code",
      "metadata": {
        "id": "-YEaU5Io8e2b"
      },
      "source": [
        "def prediction_confidence(output, prediction):\n",
        "    \"\"\"\n",
        "    Given the model output, give a confidence score for the given prediction\n",
        "\n",
        "    :param output: The model's output, shape: (sequence x num_classes)\n",
        "    :param prediction: The model's prediction, shape: (sequence)\n",
        "    :return: The confidence score\n",
        "    \"\"\"\n",
        "    batch_size = output.shape[0]\n",
        "    seq_size = output.shape[1]\n",
        "\n",
        "    values = merge_repeating_values(prediction)\n",
        "    mask = tf.not_equal(values, tf.constant(0, dtype=tf.int64))\n",
        "    unpadded_label = tf.boolean_mask(values, mask)\n",
        "    label = tf.expand_dims(pad_or_truncate(unpadded_label, sequence_size=seq_size), 0)\n",
        "\n",
        "    input_lengths = tf.constant(np.full(batch_size, seq_size))\n",
        "    label_lengths = tf.math.count_nonzero(label, axis=1)\n",
        "\n",
        "    loss = tf.nn.ctc_loss(label, output, label_lengths, input_lengths, logits_time_major=False)\n",
        "\n",
        "    probability = tf.exp(-loss)[0].numpy()\n",
        "\n",
        "    return probability\n",
        "\n",
        "\n",
        "def bytes_to_unicode(byte_string_tensor):\n",
        "    \"\"\"\n",
        "    Takes a tensor of byte strings and converts them to a regular python list of unicode strings.\n",
        "    This is useful when string tensors need to be converted for error rate calculations.\n",
        "\n",
        "    :param: byte_string_tensor: A tensor of byte strings\n",
        "    :return: A python list of strings\n",
        "    \"\"\"\n",
        "    return [s.decode('utf8') if type(s) == np.bytes_ or type(s) == bytes else s\n",
        "            for s in byte_string_tensor.numpy()]\n",
        "\n",
        "\n",
        "class ErrorRates:\n",
        "    def __init__(self):\n",
        "        self.cer_total_error = 0\n",
        "        self.wer_total_error = 0\n",
        "        self.count = 0\n",
        "\n",
        "    def cer(self, y_true, y_pred):\n",
        "        y_true = ' '.join(y_true.split())\n",
        "        y_pred = ' '.join(y_pred.split())\n",
        "\n",
        "        dist = ed.eval(y_true, y_pred)\n",
        "        if len(y_true) == 0:\n",
        "            return len(y_pred)\n",
        "\n",
        "        self.cer_total_error += float(dist) / float(len(y_true))\n",
        "\n",
        "    def wer(self, y_true, y_pred):\n",
        "        y_true = y_true.split()\n",
        "        y_pred = y_pred.split()\n",
        "\n",
        "        dist = ed.eval(y_true, y_pred)\n",
        "        if len(y_true) == 0:\n",
        "            return len(y_pred)\n",
        "\n",
        "        self.wer_total_error += float(dist) / float(len(y_true))\n",
        "\n",
        "    def update(self, y_true, y_pred):\n",
        "        self.cer(y_true, y_pred)\n",
        "        self.wer(y_true, y_pred)\n",
        "        self.count += 1\n",
        "\n",
        "    def get_error_rates(self):\n",
        "        return (self.cer_total_error / self.count, self.wer_total_error / self.count) if self.count > 0 else (1.0, 1.0)\n",
        "\n",
        "    def __call__(self, y_true, y_pred):\n",
        "        self.update(y_true, y_pred)\n",
        "\n",
        "def evaluate_model(model, dataset, size):\n",
        "    idx2char = get_idx2char(DEFAULT_CHARS)\n",
        "\n",
        "    y_pred = []\n",
        "    y_true = []\n",
        "\n",
        "    inference_loop = tqdm(total=int(np.ceil(size/32)), position=0, leave=True)\n",
        "    for img, label in dataset.batch(32):\n",
        "        output = model(img)\n",
        "        predictions = tf.argmax(output, 2)\n",
        "        str_preds = idxs_to_str_batch(predictions, idx2char, merge_repeated=True)\n",
        "        str_labels = idxs_to_str_batch(label, idx2char, merge_repeated=False)\n",
        "        y_pred.extend(bytes_to_unicode(str_preds))\n",
        "        y_true.extend(bytes_to_unicode(str_labels))\n",
        "        inference_loop.update(1)\n",
        "    inference_loop.close()\n",
        "\n",
        "    error_rates = ErrorRates()\n",
        "\n",
        "    rate_loop = tqdm(total=len(y_pred), position=0, leave=True)\n",
        "    for pred, label in zip(y_pred, y_true):\n",
        "        error_rates.update(label, pred)\n",
        "        rate_loop.update(1)\n",
        "    rate_loop.close()\n",
        "    \n",
        "    return error_rates.get_error_rates()"
      ],
      "execution_count": 226,
      "outputs": []
    },
    {
      "cell_type": "code",
      "metadata": {
        "id": "7z39LgiZ43oj"
      },
      "source": [
        "get_dataset_size('rimes/')"
      ],
      "execution_count": null,
      "outputs": []
    },
    {
      "cell_type": "code",
      "metadata": {
        "id": "nfol2hS725KK",
        "outputId": "c25d9803-5db1-4350-c5dd-1ec68e8b59e0",
        "colab": {
          "base_uri": "https://localhost:8080/"
        }
      },
      "source": [
        "evaluate_model(model, dataset, dataset_size)"
      ],
      "execution_count": 227,
      "outputs": [
        {
          "output_type": "stream",
          "text": [
            "100%|██████████| 25/25 [02:41<00:00,  6.47s/it]\n",
            "100%|██████████| 778/778 [00:00<00:00, 54292.04it/s]\n"
          ],
          "name": "stderr"
        },
        {
          "output_type": "execute_result",
          "data": {
            "text/plain": [
              "(0.39006751219989794, 1.1958960027404764)"
            ]
          },
          "metadata": {
            "tags": []
          },
          "execution_count": 227
        }
      ]
    },
    {
      "cell_type": "markdown",
      "metadata": {
        "id": "2wcTBmEQTcKv"
      },
      "source": [
        "## Choose a Pre-trained Model\n",
        "\n",
        "Out of all of our pre-trained models, let's find the best model to start with."
      ]
    },
    {
      "cell_type": "code",
      "metadata": {
        "id": "H1u0HNi-3EGf",
        "outputId": "2ad4fa55-1580-491e-ed3f-bcf6d3d37e60",
        "colab": {
          "base_uri": "https://localhost:8080/"
        }
      },
      "source": [
        "!ls rimes_hwr_line_level/"
      ],
      "execution_count": 203,
      "outputs": [
        {
          "output_type": "stream",
          "text": [
            "images\trimes_test.tsv\trimes_train.tsv\n"
          ],
          "name": "stdout"
        }
      ]
    },
    {
      "cell_type": "code",
      "metadata": {
        "id": "oI9ujygX8yeV",
        "outputId": "0a9dbaa2-c23a-41c9-a294-18c922d0c54f",
        "colab": {
          "base_uri": "https://localhost:8080/",
          "height": 138
        }
      },
      "source": [
        "dataset_path = 'rimes_hwr_line_level/rimes_test.tsv'\n",
        "model_path = 'iam_hwr_line_level_model/run1'\n",
        "\n",
        "char2idx = get_char2idx(DEFAULT_CHARS)\n",
        "idx2char = get_idx2char(DEFAULT_CHARS)\n",
        "\n",
        "dataset_size = get_dataset_size(dataset_path)\n",
        "dataset = get_encoded_dataset_from_csv(dataset_path, char2idx, 128, (64, 1024))\n",
        "\n",
        "model = FlorRecognizer(len(DEFAULT_CHARS) + 1)\n",
        "model.load_weights(model_path)\n",
        "\n",
        "for img, label in dataset.skip(25).take(1):\n",
        "    output = model(tf.expand_dims(img, 0))\n",
        "    probs = tf.nn.softmax(output)\n",
        "    prediction = tf.squeeze(tf.argmax(probs, 2))\n",
        "    plt.figure(figsize=(15, 15))\n",
        "    plt.imshow(tf.squeeze(img), cmap='gray')\n",
        "    plt.pause(0.01)\n",
        "    print('Prediction', idxs_to_str(prediction, idx2char))\n",
        "    print('Label:', idxs_to_str(label, idx2char, merge_repeated=False))\n",
        "\n",
        "    probs"
      ],
      "execution_count": 232,
      "outputs": [
        {
          "output_type": "display_data",
          "data": {
            "image/png": "[encoded data removed]",
            "text/plain": [
              "<Figure size 1080x1080 with 1 Axes>"
            ]
          },
          "metadata": {
            "tags": [],
            "needs_background": "light"
          }
        },
        {
          "output_type": "stream",
          "text": [
            "Prediction tf.Tensor(b'sse row remencie por avence at vous prie , Monsiam ,', shape=(), dtype=string)\n",
            "Label: tf.Tensor(b'Je vous remercie par avance et vous prie, Monsieur,', shape=(), dtype=string)\n"
          ],
          "name": "stdout"
        }
      ]
    },
    {
      "cell_type": "code",
      "metadata": {
        "id": "ua9Wbp2vgNN2"
      },
      "source": [
        "def find_closest_non_blank(prediction, i):\n",
        "    size = len(prediction)\n",
        "    # Look left:\n",
        "    left_index = i\n",
        "    while left_index >= 0 and (prediction[left_index] == 0 or prediction[left_index] == 1):\n",
        "        left_index -= 1\n",
        "    left_distance = i - left_index if left_index >= 0 else 200\n",
        "    \n",
        "    right_index = i\n",
        "    while right_index < size and (prediction[right_index] == 0 or prediction[right_index] == 1):\n",
        "        right_index += 1\n",
        "    right_distance = right_index - i if right_index < size else 200\n",
        "\n",
        "    if right_distance < left_distance:\n",
        "        return right_index\n",
        "    else:\n",
        "        return left_index"
      ],
      "execution_count": 194,
      "outputs": []
    },
    {
      "cell_type": "code",
      "metadata": {
        "id": "e2CRNm3MA9W1",
        "outputId": "06c0d8d5-b6d7-4add-a4e7-63275f098b68",
        "colab": {
          "base_uri": "https://localhost:8080/",
          "height": 242
        }
      },
      "source": [
        "white = 0.2280537\n",
        "img2 = tf.squeeze(img).numpy()\n",
        "\n",
        "timestep_width = 1024 / 128\n",
        "\n",
        "plt.figure(figsize=(15,15))\n",
        "plt.imshow(img2, cmap='gray')\n",
        "plt.pause(0.01)\n",
        "print('Label:', idxs_to_str(label, idx2char, merge_repeated=False))\n",
        "print('Prediction', idxs_to_str(prediction, idx2char))\n",
        "\n",
        "remove_list = tf.squeeze(tf.reduce_max(probs, 2) < 0.8500).numpy()\n",
        "\n",
        "for i in range(128):\n",
        "    if prediction[i] == 0:\n",
        "        closest = find_closest_non_blank(prediction, i)\n",
        "        remove_list[i] = remove_list[closest]\n",
        "    if i > 0 and prediction[i] == prediction[i - 1]:\n",
        "        remove_list[i] = remove_list[i - 1]\n",
        "\n",
        "# prev_should_remove = False\n",
        "# for pred, should_remove in zip(prediction, remove_list):\n",
        "#     if should_remove and pred != 0:\n",
        "#         new_remove_list.append(True)\n",
        "#         prev_should_remove = True\n",
        "#     elif prev_should_remove and pred == 0:\n",
        "#         new_remove_list.append(True)\n",
        "#     else:\n",
        "#         new_remove_list.append(False)\n",
        "#         prev_should_remove = False\n",
        "\n",
        "new_label = prediction.numpy()\n",
        "\n",
        "for i in range(128):\n",
        "    if remove_list[i]:\n",
        "        start = round(i * timestep_width)\n",
        "        if start < 0:\n",
        "            start = 0\n",
        "        end = round((i + 1) * timestep_width)\n",
        "        img2[:, start:end] = white\n",
        "        new_label[i] = 1\n",
        "\n",
        "plt.figure(figsize=(15,15))\n",
        "plt.imshow(img2, cmap='gray')\n",
        "plt.pause(0.01)\n",
        "print('New Label:', idxs_to_str(new_label, idx2char))\n",
        "# print([(pred.numpy(), idx2char.lookup(pred).numpy().decode('utf8'), conf.numpy()) for pred, conf in zip(prediction, tf.squeeze(tf.reduce_max(probs, 2)))])"
      ],
      "execution_count": 234,
      "outputs": [
        {
          "output_type": "display_data",
          "data": {
            "image/png": "[encoded data removed]",
            "text/plain": [
              "<Figure size 1080x1080 with 1 Axes>"
            ]
          },
          "metadata": {
            "tags": [],
            "needs_background": "light"
          }
        },
        {
          "output_type": "stream",
          "text": [
            "Label: tf.Tensor(b'Je vous remercie par avance et vous prie, Monsieur,', shape=(), dtype=string)\n",
            "Prediction tf.Tensor(b'sse row remencie por avence at vous prie , Monsiam ,', shape=(), dtype=string)\n"
          ],
          "name": "stdout"
        },
        {
          "output_type": "display_data",
          "data": {
            "image/png": "[encoded data removed]",
            "text/plain": [
              "<Figure size 1080x1080 with 1 Axes>"
            ]
          },
          "metadata": {
            "tags": [],
            "needs_background": "light"
          }
        },
        {
          "output_type": "stream",
          "text": [
            "New Label: tf.Tensor(b'e ow emenc e p r avence t o s p i , Monsi m ,', shape=(), dtype=string)\n"
          ],
          "name": "stdout"
        }
      ]
    },
    {
      "cell_type": "code",
      "metadata": {
        "id": "RDMNEGc5F9iR",
        "outputId": "8d4c4456-e894-4b49-d254-d90f6dc5c621",
        "colab": {
          "base_uri": "https://localhost:8080/",
          "height": 121
        }
      },
      "source": [
        "img2 = tf.squeeze(img).numpy()\n",
        "img2[:, 8:16] = white\n",
        "plt.figure(figsize=(15,15))\n",
        "plt.imshow(img2, cmap='gray')"
      ],
      "execution_count": 187,
      "outputs": [
        {
          "output_type": "execute_result",
          "data": {
            "text/plain": [
              "<matplotlib.image.AxesImage at 0x7ff958b93400>"
            ]
          },
          "metadata": {
            "tags": []
          },
          "execution_count": 187
        },
        {
          "output_type": "display_data",
          "data": {
            "image/png": "[encoded data removed]",
            "text/plain": [
              "<Figure size 1080x1080 with 1 Axes>"
            ]
          },
          "metadata": {
            "tags": [],
            "needs_background": "light"
          }
        }
      ]
    },
    {
      "cell_type": "code",
      "metadata": {
        "id": "YXGG6cRE_Dst"
      },
      "source": [
        "tf.expand_dims(output[:, 2], 0)\n",
        "# tf.expand_dims(prediction[2], 0)"
      ],
      "execution_count": null,
      "outputs": []
    },
    {
      "cell_type": "code",
      "metadata": {
        "id": "c9DlFbAM8-xq",
        "outputId": "c4c173be-e0db-4f07-deec-920ee94c1f7b",
        "colab": {
          "base_uri": "https://localhost:8080/"
        }
      },
      "source": [
        "prediction_confidence(tf.expand_dims(output[:, 2, :], 0), tf.expand_dims(prediction[2], 0))"
      ],
      "execution_count": 49,
      "outputs": [
        {
          "output_type": "execute_result",
          "data": {
            "text/plain": [
              "0.97907245"
            ]
          },
          "metadata": {
            "tags": []
          },
          "execution_count": 49
        }
      ]
    },
    {
      "cell_type": "code",
      "metadata": {
        "id": "SXtPQ2BzT0Q_"
      },
      "source": [
        "# First, load in all of our pre-trained models\n",
        "iam_model = Recognizer()\n",
        "iam_model.load_weights()\n",
        "\n",
        "rimes_model = Recognizer()\n",
        "rimes_model.load_weights()\n",
        "\n",
        "bentham_model = Recognizer()\n",
        "bentham_model.load_weights()\n",
        "\n",
        "models = [iam_model, rimes_model, bentham_model]\n",
        "\n",
        "# Take a subset of the dataset to use for testing\n",
        "dataset = get_inference_dataset_from_...\n",
        "\n",
        "# Metrics to help us select the best model \n",
        "mean_confidence = tf.keras.metrics.Mean(name=\"confidence\")\n",
        "best_model = None\n",
        "best_score = 1000\n",
        "\n",
        "# Iterate over each of the models\n",
        "for model in models:\n",
        "    mean_confidence.reset_states()\n",
        "\n",
        "    # Iterate over the subset of the dataset\n",
        "    for img, img_name in dataset:\n",
        "        output = model(img)\n",
        "        prediction, confidence = predict_with_confidence(output)\n",
        "    \n",
        "    if mean_confidence.result() < best_score:\n",
        "        best_model = model\n",
        "\n",
        "print('Best Model:', best_model.name)\n",
        "print('Confidence Score:', best_score)"
      ],
      "execution_count": null,
      "outputs": []
    },
    {
      "cell_type": "code",
      "metadata": {
        "id": "McGtcqyMctVx"
      },
      "source": [
        "# Run through the dataset and see if there are any lines where we are highly\n",
        "# confident in our predictions\n",
        "model = best_model\n",
        "confidence_threshold = .4\n",
        "\n",
        "training_set = []\n",
        "labeling_set = []\n",
        "\n",
        "for img, img_name in dataset:\n",
        "    output = model(img)\n",
        "    prediction, confidence = predict_with_confidence(output)\n",
        "\n",
        "    if confidence > confidence_threshold:\n",
        "        training_set.append([img, img_name])"
      ],
      "execution_count": null,
      "outputs": []
    }
  ]
}