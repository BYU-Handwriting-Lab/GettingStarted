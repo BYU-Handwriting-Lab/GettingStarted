{
  "nbformat": 4,
  "nbformat_minor": 0,
  "metadata": {
    "colab": {
      "name": "HWRActiveTransferLearning.ipynb",
      "provenance": [],
      "authorship_tag": "ABX9TyPofvQkN1ufT7xU/kM3P49N",
      "include_colab_link": true
    },
    "kernelspec": {
      "name": "python3",
      "display_name": "Python 3"
    }
  },
  "cells": [
    {
      "cell_type": "markdown",
      "metadata": {
        "id": "view-in-github",
        "colab_type": "text"
      },
      "source": [
        "<a href=\"https://colab.research.google.com/github/BYU-Handwriting-Lab/GettingStarted/blob/master/notebooks/HWRActiveTransferLearning.ipynb\" target=\"_parent\"><img src=\"https://colab.research.google.com/assets/colab-badge.svg\" alt=\"Open In Colab\"/></a>"
      ]
    },
    {
      "cell_type": "markdown",
      "metadata": {
        "id": "GCYwlAtU1xbC"
      },
      "source": [
        "# Active Transfer Learning for Handwriting Recognition\n",
        "\n",
        "This notebook contains code to combine active and transfer learning into a\n",
        "cohesive framework. The hope is to allow for new handwriting datasets to be\n",
        "fitted quickly.\n",
        "\n",
        "In this notebook, we will start the process of fitting the Washington dataset\n",
        "when our list of pre-trained models were trained on the IAM, Rimes, and Bentham\n",
        "datasets."
      ]
    },
    {
      "cell_type": "markdown",
      "metadata": {
        "id": "KqyKe20vLq4Z"
      },
      "source": [
        "## Dependencies\n",
        "\n",
        "First, let's import our dependencies such as Tensorflow, numpy, etc."
      ]
    },
    {
      "cell_type": "code",
      "metadata": {
        "id": "D5vaA6qQ1xFj"
      },
      "source": [
        "import os\n",
        "\n",
        "import tensorflow as tf\n",
        "import tensorflow.keras.layers as kl\n",
        "import tensorflow.keras.constraints as kc\n",
        "import numpy as np\n",
        "from tqdm import tqdm\n",
        "import matplotlib.pyplot as plt"
      ],
      "execution_count": 1,
      "outputs": []
    },
    {
      "cell_type": "markdown",
      "metadata": {
        "id": "E8yHuublJyfb"
      },
      "source": [
        "## Download Datasets and Pre-trained Models"
      ]
    },
    {
      "cell_type": "code",
      "metadata": {
        "id": "gHqNg1tqJx-5"
      },
      "source": [
        "# IAM HWR LINE LEVEL MODEL\n",
        "# ID: 1LmI0kZLGCwE3uD34AbTsmOilvRaWLoIW\n",
        "!wget --load-cookies /tmp/cookies.txt \"https://docs.google.com/uc?export=download&confirm=$(wget --quiet --save-cookies /tmp/cookies.txt --keep-session-cookies --no-check-certificate 'https://docs.google.com/uc?export=download&id=1LmI0kZLGCwE3uD34AbTsmOilvRaWLoIW' -O- | sed -rn 's/.*confirm=([0-9A-Za-z_]+).*/\\1\\n/p')&id=1LmI0kZLGCwE3uD34AbTsmOilvRaWLoIW\" -O iam_hwr_line_level_model.zip && rm -rf /tmp/cookies.txt\n",
        "!unzip iam_hwr_line_level_model.zip\n",
        "!rm iam_hwr_line_level_model.zip\n",
        "\n",
        "# RIMES HWR LINE LEVEL MODEL\n",
        "# ID: 1MJgNMILauGNfw8fQpEj00pJc6iPDG1uE\n",
        "!wget --load-cookies /tmp/cookies.txt \"https://docs.google.com/uc?export=download&confirm=$(wget --quiet --save-cookies /tmp/cookies.txt --keep-session-cookies --no-check-certificate 'https://docs.google.com/uc?export=download&id=1MJgNMILauGNfw8fQpEj00pJc6iPDG1uE' -O- | sed -rn 's/.*confirm=([0-9A-Za-z_]+).*/\\1\\n/p')&id=1MJgNMILauGNfw8fQpEj00pJc6iPDG1uE\" -O rimes_hwr_line_level_model.zip && rm -rf /tmp/cookies.txt\n",
        "!unzip iam_hwr_line_level_model.zip\n",
        "!rm iam_hwr_line_level_model.zip\n",
        "\n",
        "# BENTHAM HWR LINE LEVEL MODEL\n",
        "# ID: 1rBCjaLGX0kXjeF4Gwg6JjE3PC5Z_QDq2\n",
        "!wget --load-cookies /tmp/cookies.txt \"https://docs.google.com/uc?export=download&confirm=$(wget --quiet --save-cookies /tmp/cookies.txt --keep-session-cookies --no-check-certificate 'https://docs.google.com/uc?export=download&id=1rBCjaLGX0kXjeF4Gwg6JjE3PC5Z_QDq2' -O- | sed -rn 's/.*confirm=([0-9A-Za-z_]+).*/\\1\\n/p')&id=1rBCjaLGX0kXjeF4Gwg6JjE3PC5Z_QDq2\" -O bentham_hwr_line_level_model.zip && rm -rf /tmp/cookies.txt\n",
        "!unzip iam_hwr_line_level_model.zip\n",
        "!rm iam_hwr_line_level_model.zip\n",
        "\n",
        "# WASHINGTON HWR LINE LEVEL MODEL\n",
        "# ID: 10ia9GA1j0KY48CvQRUds2c-nbi1AeQAm\n",
        "!wget --load-cookies /tmp/cookies.txt \"https://docs.google.com/uc?export=download&confirm=$(wget --quiet --save-cookies /tmp/cookies.txt --keep-session-cookies --no-check-certificate 'https://docs.google.com/uc?export=download&id=10ia9GA1j0KY48CvQRUds2c-nbi1AeQAm' -O- | sed -rn 's/.*confirm=([0-9A-Za-z_]+).*/\\1\\n/p')&id=10ia9GA1j0KY48CvQRUds2c-nbi1AeQAm\" -O washington_hwr_line_level_model.zip && rm -rf /tmp/cookies.txt\n",
        "!unzip iam_hwr_line_level_model.zip\n",
        "!rm iam_hwr_line_level_model.zip\n",
        "\n",
        "\n",
        "# IAM HWR LINE LEVEL DATASET\n",
        "# ID: 1ProJyrkE9NhflpYG0nQTfp-ZSvKLyVS1\n",
        "!wget --load-cookies /tmp/cookies.txt \"https://docs.google.com/uc?export=download&confirm=$(wget --quiet --save-cookies /tmp/cookies.txt --keep-session-cookies --no-check-certificate 'https://docs.google.com/uc?export=download&id=1ProJyrkE9NhflpYG0nQTfp-ZSvKLyVS1' -O- | sed -rn 's/.*confirm=([0-9A-Za-z_]+).*/\\1\\n/p')&id=1ProJyrkE9NhflpYG0nQTfp-ZSvKLyVS1\" -O iam_hwr_line_level.zip && rm -rf /tmp/cookies.txt\n",
        "!unzip iam_hwr_line_level.zip\n",
        "!rm iam_hwr_line_level.zip\n",
        "\n",
        "# RIMES HWR LINE LEVEL DATASET\n",
        "# ID: 1baqdK4RJuxvlPErxkFipYaK1-5-SpEww\n",
        "!wget --load-cookies /tmp/cookies.txt \"https://docs.google.com/uc?export=download&confirm=$(wget --quiet --save-cookies /tmp/cookies.txt --keep-session-cookies --no-check-certificate 'https://docs.google.com/uc?export=download&id=1baqdK4RJuxvlPErxkFipYaK1-5-SpEww' -O- | sed -rn 's/.*confirm=([0-9A-Za-z_]+).*/\\1\\n/p')&id=1baqdK4RJuxvlPErxkFipYaK1-5-SpEww\" -O rimes_hwr_line_level.zip && rm -rf /tmp/cookies.txt\n",
        "!unzip rimes_hwr_line_level.zip\n",
        "!rm rimes_hwr_line_level.zip\n",
        "\n",
        "# BENTHAM HWR LINE LEVEL DATASET\n",
        "# ID: 1rFyNkYCkaMG9Mo3d8AFXaLe1fh6Hm3nF\n",
        "!wget --load-cookies /tmp/cookies.txt \"https://docs.google.com/uc?export=download&confirm=$(wget --quiet --save-cookies /tmp/cookies.txt --keep-session-cookies --no-check-certificate 'https://docs.google.com/uc?export=download&id=1rFyNkYCkaMG9Mo3d8AFXaLe1fh6Hm3nF' -O- | sed -rn 's/.*confirm=([0-9A-Za-z_]+).*/\\1\\n/p')&id=1rFyNkYCkaMG9Mo3d8AFXaLe1fh6Hm3nF\" -O bentham_hwr_line_level.zip && rm -rf /tmp/cookies.txt\n",
        "!unzip bentham_hwr_line_level.zip\n",
        "!rm bentham_hwr_line_level.zip\n",
        "!rm -r __MACOSX\n",
        "\n",
        "# WASHINGTON HWR LINE LEVEL DATASET\n",
        "# ID: 10WLliclnhq3NnEjrHaNcGvrAnrafg94T\n",
        "!wget --load-cookies /tmp/cookies.txt \"https://docs.google.com/uc?export=download&confirm=$(wget --quiet --save-cookies /tmp/cookies.txt --keep-session-cookies --no-check-certificate 'https://docs.google.com/uc?export=download&id=10WLliclnhq3NnEjrHaNcGvrAnrafg94T' -O- | sed -rn 's/.*confirm=([0-9A-Za-z_]+).*/\\1\\n/p')&id=10WLliclnhq3NnEjrHaNcGvrAnrafg94T\" -O washington_hwr_line_level.zip && rm -rf /tmp/cookies.txt\n",
        "!unzip washington_hwr_line_level.zip\n",
        "!rm washington_hwr_line_level.zip"
      ],
      "execution_count": null,
      "outputs": []
    },
    {
      "cell_type": "code",
      "metadata": {
        "id": "_qOstdHaXB-l",
        "outputId": "71d4d542-ff9d-41bd-d8dc-24bc84d9d154",
        "colab": {
          "base_uri": "https://localhost:8080/"
        }
      },
      "source": [
        "!ls"
      ],
      "execution_count": 11,
      "outputs": [
        {
          "output_type": "stream",
          "text": [
            "bentham_hwr_line_level\t  iam_model\t\twashington_hwr_line_level\n",
            "iam_hwr_line_level\t  rimes_hwr_line_level\n",
            "iam_hwr_line_level_model  sample_data\n"
          ],
          "name": "stdout"
        }
      ]
    },
    {
      "cell_type": "code",
      "metadata": {
        "id": "SSCiJt_YO4Ae"
      },
      "source": [
        "!mv iam_hwr_line_level_model/ iam_model/"
      ],
      "execution_count": 41,
      "outputs": []
    },
    {
      "cell_type": "code",
      "metadata": {
        "id": "nE_wT1BGToWU",
        "outputId": "63e04d5b-a988-499d-e36e-10bf69916a98",
        "colab": {
          "base_uri": "https://localhost:8080/"
        }
      },
      "source": [
        "model.load_weights('iam_model/run1')"
      ],
      "execution_count": 10,
      "outputs": [
        {
          "output_type": "execute_result",
          "data": {
            "text/plain": [
              "<tensorflow.python.training.tracking.util.CheckpointLoadStatus at 0x7f980200f470>"
            ]
          },
          "metadata": {
            "tags": []
          },
          "execution_count": 10
        }
      ]
    },
    {
      "cell_type": "code",
      "metadata": {
        "id": "mnQ5NY45XHKh",
        "outputId": "8c8a1ddf-4eff-4664-d8bf-467179abf5f5",
        "colab": {
          "base_uri": "https://localhost:8080/"
        }
      },
      "source": [
        ""
      ],
      "execution_count": 12,
      "outputs": [
        {
          "output_type": "execute_result",
          "data": {
            "text/plain": [
              "<tensorflow.python.training.tracking.util.CheckpointLoadStatus at 0x7f980193c358>"
            ]
          },
          "metadata": {
            "tags": []
          },
          "execution_count": 12
        }
      ]
    },
    {
      "cell_type": "code",
      "metadata": {
        "id": "KXFbTnW0PB9X",
        "outputId": "466e1e5a-96d1-49cd-b49a-7023e4c9ee13",
        "colab": {
          "base_uri": "https://localhost:8080/",
          "height": 1000
        }
      },
      "source": [
        "char2idx = get_char2idx(DEFAULT_CHARS)\n",
        "idx2char = get_idx2char(DEFAULT_CHARS)\n",
        "\n",
        "dataset = get_encoded_dataset_from_csv('iam_hwr_line_level/iam_validation1.tsv', char2idx, 128, (64, 1024))\n",
        "\n",
        "model = FlorRecognizer(len(DEFAULT_CHARS) + 1)\n",
        "model.load_weights('iam_hwr_line_level_model/run1')\n",
        "\n",
        "for img, label in dataset.take(3):\n",
        "    output = model(tf.expand_dims(img, 0))\n",
        "    output = tf.nn.softmax(output)\n",
        "    prediction = tf.squeeze(tf.argmax(output, 2))\n",
        "    plt.imshow(tf.squeeze(img), cmap='gray')\n",
        "    plt.pause(0.01)\n",
        "    print(tf.reduce_max(output, 2))\n",
        "    print(prediction)\n",
        "    print('Prediction', idxs_to_str(prediction, idx2char))\n",
        "    print('Label:', idxs_to_str(label, idx2char, merge_repeated=False))"
      ],
      "execution_count": 16,
      "outputs": [
        {
          "output_type": "display_data",
          "data": {
            "image/png": "[encoded data removed]",
            "text/plain": [
              "<Figure size 432x288 with 1 Axes>"
            ]
          },
          "metadata": {
            "tags": [],
            "needs_background": "light"
          }
        },
        {
          "output_type": "stream",
          "text": [
            "tf.Tensor(\n",
            "[[0.99219644 0.9987124  0.9790725  0.999913   0.9991856  0.99433386\n",
            "  0.6873795  0.99914014 0.998611   0.99946994 0.95614207 0.99768484\n",
            "  0.9856639  0.99937266 0.97124046 0.9984666  0.99887186 0.69754905\n",
            "  0.9811871  0.9994947  0.99893314 0.9872751  0.9992449  0.9930715\n",
            "  0.8866467  0.5776214  0.7860524  0.9997595  0.9976036  0.9977137\n",
            "  0.9998386  0.8917285  0.76713103 0.8918675  0.99835473 0.59225166\n",
            "  0.9939766  0.94296485 0.8877005  0.99602073 0.99090827 0.99815506\n",
            "  0.9996499  0.999353   0.9996418  0.9980209  0.9998479  0.9989095\n",
            "  0.99695873 0.93216056 0.9403406  0.977958   0.9901833  0.9854785\n",
            "  0.99872464 0.9984674  0.9633972  0.9982942  0.9987697  0.7167892\n",
            "  0.99638534 0.9977895  0.98076564 0.8714543  0.99942446 0.9936819\n",
            "  0.9996197  0.9988005  0.9986577  0.9333749  0.9757857  0.9958405\n",
            "  0.99679106 0.9834552  0.99991953 0.9867736  0.9996972  0.9997031\n",
            "  0.99954814 0.99209094 0.9959254  0.9996271  0.93837804 0.8732678\n",
            "  0.9815105  0.9739353  0.41885766 0.99997866 0.9735025  0.5954321\n",
            "  0.97815955 0.99951375 0.99575484 0.9989157  0.9943838  0.47776547\n",
            "  0.5930113  0.9240736  0.996403   0.998789   0.6417883  0.9869186\n",
            "  0.99820745 0.7138778  0.9969625  0.9822953  0.8353546  0.99983156\n",
            "  0.99627554 0.88746023 0.9976229  0.999848   0.9874493  0.99991393\n",
            "  0.99919194 0.9981804  0.9970387  0.9914772  0.9998729  0.998106\n",
            "  0.9439649  0.996591   0.99865794 0.98128134 0.9986104  0.72724926\n",
            "  0.99670094 0.9994677 ]], shape=(1, 128), dtype=float32)\n",
            "tf.Tensor(\n",
            "[ 0  0 79  0  0 68  0  0  0 65  0  0 85  0  0 61  0 72 72  0 79  0 75  0\n",
            "  1  0 68  0 61  0  0 79  1  1 80 80 75  0  0  1  1 63  0 75  0 76  0  0\n",
            " 65  0  1  1 83  0  0 69 69 80  0 68 68  0  1  1 80  0 68  0 65  0  1  1\n",
            " 81  0  0 79  0 81  0  0 61  0 72  0  1  1 80  0 72 72 75  0 75  0  0 79\n",
            "  1  1 75  0 66  0  0  1  1  1 74  0 81  0  0 73  0  0 75  0 81  0  0 78\n",
            "  0  0 79  1 12  1 79  0], shape=(128,), dtype=int64)\n",
            "Prediction tf.Tensor(b'sheyalso has to cope with the usual tloos of numours , s', shape=(), dtype=string)\n",
            "Label: tf.Tensor(b'They also had to cope with the usual flood of rumours , so-', shape=(), dtype=string)\n"
          ],
          "name": "stdout"
        },
        {
          "output_type": "display_data",
          "data": {
            "image/png": "[encoded data removed]",
            "text/plain": [
              "<Figure size 432x288 with 1 Axes>"
            ]
          },
          "metadata": {
            "tags": [],
            "needs_background": "light"
          }
        },
        {
          "output_type": "stream",
          "text": [
            "tf.Tensor(\n",
            "[[0.99992585 0.9222655  0.9978034  0.9979315  0.939628   0.9754876\n",
            "  0.9849954  0.4792418  0.9956483  0.9997379  0.9995852  0.9944431\n",
            "  0.9995708  0.79195416 0.9996433  0.99777454 0.748743   0.98992515\n",
            "  0.98694766 0.99991596 0.9852527  0.9990061  0.9937483  0.9925073\n",
            "  0.9984738  0.99689025 0.99376017 0.9961261  0.99768996 0.9948862\n",
            "  0.9927012  0.9039982  0.7172193  0.8120581  0.9534945  0.77754784\n",
            "  0.94675285 0.99938524 0.9953023  0.8132974  0.9979488  0.9999893\n",
            "  0.7442533  0.9996723  0.9975311  0.9985286  0.6799718  0.92594707\n",
            "  0.9981433  0.9842679  0.99678504 0.85005397 0.9703822  0.8886754\n",
            "  0.99531615 0.8810318  0.6281013  0.9957801  0.997227   0.52810866\n",
            "  0.55387217 0.99923754 0.957645   0.99061817 0.7528645  0.9993531\n",
            "  0.79013455 0.9993316  0.99799216 0.9982768  0.9998841  0.9984768\n",
            "  0.99876666 0.5308     0.9998964  0.99772435 0.96102375 0.7933008\n",
            "  0.9886868  0.99905044 0.9991636  0.95848674 0.7297539  0.99874926\n",
            "  0.99789387 0.9958495  0.9955604  0.9118412  0.9978078  0.99571925\n",
            "  0.970147   0.996292   0.9969875  0.98062366 0.99965954 0.83097714\n",
            "  0.99987984 0.96344006 0.9976476  0.91630036 0.99882835 0.7864127\n",
            "  0.9971462  0.9959818  0.9990225  0.993022   0.9927047  0.9846005\n",
            "  0.99919444 0.99660033 0.99900657 0.9322863  0.9905274  0.9991171\n",
            "  0.79523706 0.9916135  0.99650925 0.96451    0.97632253 0.9461675\n",
            "  0.9957301  0.99491286 0.99935454 0.6349305  0.9979315  0.926973\n",
            "  0.99804235 0.9992632 ]], shape=(1, 128), dtype=float32)\n",
            "tf.Tensor(\n",
            "[73  0  0  0 65  0  1  0 83  0  0 65  0 72  0 72  0  1  1 73  0  0  0 65\n",
            "  0  0 61  0  0 74  0  0 80  1 69  1 79  0 75 75  0 73  0  0  0 65  0  1\n",
            " 73  0  0 69 69 69 79  0  0  1  1  1 63  0 68  0  0 69 69 65  0 82  0 75\n",
            "  0 81  0 79  1 12 12  1 69 69 74 74  0 63  0 72  0 81  0  0 79  0 69  0\n",
            " 74  0 67 67  0  1  1  1 75  0  0 74  0  0 65  0  1  1  0 80  0 78  0 61\n",
            "  0  0 80  1  1  1 61  0], shape=(128,), dtype=int64)\n",
            "Prediction tf.Tensor(b'me well meant i some mis chievous , inclusing one trat a', shape=(), dtype=string)\n",
            "Label: tf.Tensor(b'me well meant , some mischievous , including one that a', shape=(), dtype=string)\n"
          ],
          "name": "stdout"
        },
        {
          "output_type": "display_data",
          "data": {
            "image/png": "[encoded data removed]",
            "text/plain": [
              "<Figure size 432x288 with 1 Axes>"
            ]
          },
          "metadata": {
            "tags": [],
            "needs_background": "light"
          }
        },
        {
          "output_type": "stream",
          "text": [
            "tf.Tensor(\n",
            "[[0.99974865 0.9518518  0.99787104 0.99984777 0.99855655 0.8863352\n",
            "  0.99934906 0.99860317 0.9979837  0.99889165 0.62110806 0.9797544\n",
            "  0.86464715 0.99548906 0.9789357  0.9997009  0.9997584  0.93148\n",
            "  0.99982077 0.99939895 0.992334   0.98582447 0.9925444  0.9959751\n",
            "  0.9986829  0.9996469  0.9963761  0.9892406  0.99872166 0.8597144\n",
            "  0.99953663 0.9983139  0.9992494  0.99982685 0.72337776 0.98656076\n",
            "  0.64578384 0.9919338  0.9999391  0.9989133  0.997401   0.98647654\n",
            "  0.9819857  0.9993191  0.99394834 0.99954826 0.9999558  0.8161927\n",
            "  0.99269813 0.93486166 0.32685706 0.9999523  0.9980597  0.99323\n",
            "  0.9996854  0.7179607  0.99924445 0.9623346  0.5323955  0.999627\n",
            "  0.94364357 0.9990734  0.9985183  0.99892753 0.92010075 0.9390423\n",
            "  0.92273176 0.9951298  0.99041826 0.9903808  0.9990552  0.9811584\n",
            "  0.9942948  0.995168   0.999871   0.9807978  0.99833435 0.90939426\n",
            "  0.9997601  0.99991846 0.77131647 0.9940848  0.73284405 0.9115328\n",
            "  0.9994697  0.99945647 0.9880256  0.9999386  0.88839185 0.99955815\n",
            "  0.98774034 0.5200126  0.9262964  0.99649197 0.98316675 0.9997919\n",
            "  0.84689146 0.99688196 0.9993237  0.9998863  0.9991823  0.9998889\n",
            "  0.99884796 0.96414363 0.9879261  0.99592316 0.99886143 0.999943\n",
            "  0.6838547  0.9990465  0.9020389  0.92745113 0.99475384 0.89858145\n",
            "  0.9925696  0.9985876  0.5159374  0.9997905  0.9793528  0.99962234\n",
            "  0.99562836 0.9544687  0.9831676  0.99729866 0.98135906 0.9944007\n",
            "  0.99772805 0.9987816 ]], shape=(1, 128), dtype=float32)\n",
            "tf.Tensor(\n",
            "[73  0  0  0 61 61  0  0 74  0  0  1  1 68  0  0 61  0  0  0 79  0  1  1\n",
            " 62  0 65  0  0 65  0 74  0  0  1  1  0 79  0 65  0  0 65  0 74  0  0  0\n",
            "  1  1 37  0  0 65  0 65  0  0 65 69 69 74  0  0 67  0  0  1  1 66  0 69\n",
            " 78  0 75  0 73  0  0  0  0  1  1 82  0  0 61  0 81  0  0  0 80  0  0 68\n",
            "  0  0 61  0 72  0 72  0  1  1 79  0 78 61  0  0 80  0 69 69 69 75  0 74\n",
            "  0  1  1 75  0  0 74  0], shape=(128,), dtype=int64)\n",
            "Prediction tf.Tensor(b'man has been seen Feeeing firom vauthall sration on', shape=(), dtype=string)\n",
            "Label: tf.Tensor(b'man had been seen fleeing from Vauxhall station on', shape=(), dtype=string)\n"
          ],
          "name": "stdout"
        }
      ]
    },
    {
      "cell_type": "markdown",
      "metadata": {
        "id": "zqeIC-ZOMWYq"
      },
      "source": [
        "## Load the data\n",
        "\n",
        "Here are a few functions to help us load our data into a format compatible with\n",
        "Tensorflow"
      ]
    },
    {
      "cell_type": "code",
      "metadata": {
        "id": "7Xrj9lg9WXs_"
      },
      "source": [
        "# The default list of characters used in the recognition model\n",
        "DEFAULT_CHARS = \" !\\\"#%&'()*+,-./0123456789:;<=>?ABCDEFGHIJKLMNOPQRSTUVWXYZ[]_abcdefghijklmnopqrstuvwxyz{|}£¤§°²ÀÉàâçèéêëîôùûœſ€⊥𐌰𐌳𐌴𐌵𐌸𐌺𐌻𐌼𐌾𐍆𐍈\"\n",
        "# The default list of non-punctuation characters needed for the word beam search decoding algorithm\n",
        "DEFAULT_NON_PUNCTUATION = \"ABCDEFGHIJKLMNOPQRSTUVWXYZabcdefghijklmnopqrstuvwxyz£¤§°²ÀÉàâçèéêëîôùûœſ€⊥𐌰𐌳𐌴𐌵𐌸𐌺𐌻𐌼𐌾𐍆\"\n",
        "# The default list of punctuation characters needed for hte word beam search decoding algorithm\n",
        "DEFAULT_PUNCTUATION = \" !\\\"#%&'()*+,-./0123456789:;<=>?[]_{|}\""
      ],
      "execution_count": 2,
      "outputs": []
    },
    {
      "cell_type": "code",
      "metadata": {
        "id": "hV_Jg5RXWa1w"
      },
      "source": [
        "def str_charset_to_lists(charset):\n",
        "    \"\"\"\n",
        "    Turns string containing all desired characters into list of chars and indices. This is required for mapping\n",
        "    between integer and char representations for use in the recognition model.\n",
        "\n",
        "    :param charset: charset as string of chars to be represented in model.\n",
        "    \"\"\"\n",
        "    chars = list(charset)\n",
        "    indices = list(range(1, len(chars) + 1))\n",
        "    return chars, indices\n",
        "\n",
        "\n",
        "def get_char2idx(charset):\n",
        "    \"\"\"\n",
        "    A tensorflow lookup table is created and returned which allows us to encode word transcriptions on the fly\n",
        "    in the tf.data api. A standard python dictionary won't work when tensorflow is running in graph mode. This\n",
        "    function will return a lookup table to convert between chars and indices.\n",
        "\n",
        "    :param charset: string containing all desired characters to be represented\n",
        "    :return: A tensorflow lookup table to convert characters to integers\n",
        "    \"\"\"\n",
        "    chars, indices = str_charset_to_lists(charset)\n",
        "\n",
        "    char2idx = tf.lookup.StaticHashTable(\n",
        "        tf.lookup.KeyValueTensorInitializer(\n",
        "            keys=tf.constant(chars, dtype=tf.string),\n",
        "            values=tf.constant(indices, dtype=tf.int64),\n",
        "            key_dtype=tf.string,\n",
        "            value_dtype=tf.int64\n",
        "        ),\n",
        "        default_value=0,\n",
        "        name='char2idx_lookup'\n",
        "    )\n",
        "\n",
        "    return char2idx\n",
        "\n",
        "\n",
        "def get_idx2char(charset):\n",
        "    \"\"\"\n",
        "    A tensorflow lookup table is created and returned which allows us to encode word transcriptions on the fly\n",
        "    in the tf.data api. A standard python dictionary won't work when tensorflow is running in graph mode. This\n",
        "    function will return a lookup table to convert between indices and chars.\n",
        "\n",
        "    :param charset: string containing all desired characters to be represented.\n",
        "    :return: A tensorflow lookup table to convert integers to characters\n",
        "    \"\"\"\n",
        "    chars, indices = str_charset_to_lists(charset)\n",
        "\n",
        "    idx2char = tf.lookup.StaticHashTable(\n",
        "        tf.lookup.KeyValueTensorInitializer(\n",
        "            keys=tf.constant(indices, dtype=tf.int64),\n",
        "            values=tf.constant(chars, dtype=tf.string),\n",
        "            key_dtype=tf.int64,\n",
        "            value_dtype=tf.string\n",
        "        ),\n",
        "        default_value='',\n",
        "        name='idx2char_lookup'\n",
        "    )\n",
        "\n",
        "    return idx2char\n",
        "\n",
        "\n",
        "def pad_or_truncate(t, sequence_size=128):\n",
        "    \"\"\"\n",
        "    Pad or truncate a tensor to a fixed sequence length. Works for use in the tf.data api in graph mode.\n",
        "\n",
        "    :param t: The tensor to pad or truncate\n",
        "    :param sequence_size: The final sequence length of the tensor\n",
        "    :return:\n",
        "    \"\"\"\n",
        "    dim = tf.size(t)\n",
        "    return tf.cond(tf.equal(dim, sequence_size), lambda: t,\n",
        "                   lambda: tf.cond(tf.greater(dim, sequence_size), lambda: tf.slice(t, [0], [sequence_size]),\n",
        "                                   lambda: tf.concat([t, tf.zeros(sequence_size - dim, dtype=tf.int64)], 0)))\n",
        "\n",
        "\n",
        "def merge_repeating_values(t):\n",
        "    \"\"\"\n",
        "    Merge repeating indices/characters in a tensor. Utilizes only tf.* functions which makes it\n",
        "    usable in graph mode.\n",
        "\n",
        "    :param t: The tensor to have repeated indices/characters merged\n",
        "    :return: A new tensor with repeating values merged\n",
        "    \"\"\"\n",
        "    t2 = tf.roll(tf.pad(t, [[0, 1]], constant_values=-1), -1, 0)[:tf.size(t)]\n",
        "    not_equal = tf.math.not_equal(t, t2)\n",
        "    indices = tf.where(not_equal)\n",
        "    return tf.reshape(tf.gather(t, indices), [-1])\n",
        "\n",
        "\n",
        "def str_to_idxs(string, char2idx, sequence_size):\n",
        "    \"\"\"\n",
        "    Perform the actual lookup to convert a string to its integer representation. This function also performs\n",
        "    padding according to the given sequence size. Works for use in the tf.data api in graph mode.\n",
        "\n",
        "    :param string: The string to be converted\n",
        "    :param char2idx: The tf lookup table\n",
        "    :param sequence_size: The final sequence length\n",
        "    :return: The converted string now in its integer representation\n",
        "    \"\"\"\n",
        "    idxs = tf.map_fn(lambda char: char2idx.lookup(char), tf.strings.unicode_split(string, 'UTF-8'), dtype=tf.int64)\n",
        "    return pad_or_truncate(idxs, sequence_size=sequence_size)\n",
        "\n",
        "\n",
        "def idxs_to_str(idxs, idx2char, merge_repeated=True):\n",
        "    \"\"\"\n",
        "    Perform the actual lookup to convert an integer to its string representation.\n",
        "    Works for use in the tf.data api in graph mode.\n",
        "\n",
        "    :param idxs: The idxs to be converted\n",
        "    :param idx2char: The tf lookup table\n",
        "    :param merge_repeated: Bool indicating whether or not to merge repeating values in the idx tensor\n",
        "    :return: The converted idxs now in its string representation\n",
        "    \"\"\"\n",
        "    if merge_repeated:\n",
        "        idxs = merge_repeating_values(idxs)\n",
        "\n",
        "    string = tf.map_fn(lambda idx: idx2char.lookup(idx), idxs, dtype=tf.string)\n",
        "    string = tf.strings.reduce_join(string)\n",
        "    return tf.strings.strip(string)\n",
        "\n",
        "\n",
        "def str_to_idxs_batch(batch, char2idx, sequence_size=128):\n",
        "    \"\"\"\n",
        "    Perform the same function as str_to_idxs, except a batch of strings are given as input\n",
        "\n",
        "    :param batch: A batch of strings as tensor, list, or numpy array\n",
        "    :param char2idx: The tf lookup table\n",
        "    :param sequence_size: The final sequence length of each string\n",
        "    :return: The converted strings now in its integer representation\n",
        "    \"\"\"\n",
        "    return tf.map_fn(lambda string: str_to_idxs(string, char2idx, sequence_size=sequence_size), batch,\n",
        "                     dtype=tf.int64)\n",
        "\n",
        "\n",
        "def idxs_to_str_batch(batch, idx2char, merge_repeated=True):\n",
        "    \"\"\"\n",
        "    Perform the same function as idxs_to_str, except a batch of idxs are given as input\n",
        "\n",
        "    :param batch: A batch of idxs as tensor, list, or numpy array\n",
        "    :param idx2char: The tf lookup table\n",
        "    :param merge_repeated: Bool indicating whether or not to merge repeating values in the idx tensor\n",
        "    :return: The converted idxs now in its string representation\n",
        "    \"\"\"\n",
        "    return tf.map_fn(lambda idxs: idxs_to_str(idxs, idx2char, merge_repeated=merge_repeated), batch,\n",
        "                     dtype=tf.string)\n",
        "\n",
        "\n",
        "def img_resize_with_pad(img_tensor, desired_size, pad_value=255):\n",
        "    \"\"\"\n",
        "    The standard tf.image.resize_with_pad function does not allow for specifying the pad value,\n",
        "    so we create a function with that capability here. Aspect ratio will be preserved.\n",
        "\n",
        "    :param img_tensor: The image tensor to be resized and padded\n",
        "    :param desired_size: The desired size (height, width)\n",
        "    :param pad_value: The value to pad the tensor with\n",
        "    \"\"\"\n",
        "    img_size = tf.shape(img_tensor)\n",
        "\n",
        "    img_ratio = img_size[0] / img_size[1]\n",
        "    desired_ratio = desired_size[0] / desired_size[1]\n",
        "\n",
        "    if img_ratio >= desired_ratio:\n",
        "        # Solve by height\n",
        "        new_height = desired_size[0]\n",
        "        new_width = int(desired_size[0] // img_ratio)\n",
        "    else:\n",
        "        new_height = int(desired_size[1] * img_ratio)\n",
        "        new_width = desired_size[1]\n",
        "        # Solve by width\n",
        "\n",
        "    resized_img = tf.image.resize(img_tensor, (new_height, new_width), method=tf.image.ResizeMethod.BICUBIC)\n",
        "\n",
        "    pad_height = desired_size[0] - new_height\n",
        "    pad_width = desired_size[1] - new_width\n",
        "\n",
        "    img_padded = tf.pad(resized_img, [[pad_height, 0], [0, pad_width], [0, 0]], constant_values=pad_value)\n",
        "\n",
        "    return img_padded\n",
        "\n",
        "\n",
        "def read_and_encode_image(img_path, img_size=(64, 1024)):\n",
        "    \"\"\"\n",
        "    Used by both encode_img_and_transcription (training) and encode_img_with_name (inference). This method\n",
        "    simply loads the image given a file path and performs the necessary encoding/resizing/transposing that\n",
        "    is necessary for use on the recognition model.\n",
        "\n",
        "    :param img_path: The path to the desired image\n",
        "    :param img_size: The size of the image after resizing/padding\n",
        "    :return: The encoded image in its tensor/integer representation\n",
        "    \"\"\"\n",
        "    img_bytes = tf.io.read_file(img_path)\n",
        "    img = tf.image.decode_image(img_bytes, channels=1, expand_animations=False)\n",
        "    img = img_resize_with_pad(img, img_size)\n",
        "    img = tf.image.per_image_standardization(img)\n",
        "\n",
        "    return img\n",
        "\n",
        "\n",
        "def encode_img_and_transcription(img_path, transcription, char2idx, sequence_size=128, img_size: tuple = (64, 1024)):\n",
        "    \"\"\"\n",
        "    The actual function to map image paths and string transcriptions to its tensor/integer representation.\n",
        "\n",
        "    :param img_path: The path to the desired image\n",
        "    :param transcription: The transcription of the image in integer form\n",
        "    :param char2idx: The tf lookup table\n",
        "    :param sequence_size: The final sequence length for transcriptions\n",
        "    :param img_size: The size of the image after resizing/padding\n",
        "    :return: The image and transcription in their tensor/integer representations.\n",
        "    \"\"\"\n",
        "    img = read_and_encode_image(img_path, img_size=img_size)\n",
        "    line = str_to_idxs(transcription, char2idx, sequence_size)\n",
        "    return img, line\n",
        "\n",
        "\n",
        "def encode_img_with_name(img_path, img_size=(64, 1024)):\n",
        "    \"\"\"\n",
        "    Used to map img_paths to encoded images for inference. Returned is the encoded image and image name.\n",
        "\n",
        "    :param img_path: The file path to the image\n",
        "    :param img_size: The size of the image after resizing/padding\n",
        "    :return: The encoded image and image path\n",
        "    \"\"\"\n",
        "    img = read_and_encode_image(img_path, img_size)\n",
        "    return img, img_path\n",
        "\n",
        "\n",
        "def get_dataset_size(csv_path):\n",
        "    \"\"\"\n",
        "    The tf.data api has a hard time producing the the dataset size. The cardinality() method often\n",
        "    returns unknown even with the CsvDataset. This function uses pandas to get the length.\n",
        "\n",
        "    :param csv_path: The path to csv containing information about the dataset\n",
        "    :return: The size of the dataset\n",
        "    \"\"\"\n",
        "    return len(pd.read_csv(csv_path, sep='\\t', header=None, names=['img_path', 'transcription']))\n",
        "\n",
        "\n",
        "def get_encoded_dataset_from_csv(csv_path, char2idx, max_seq_size, img_size):\n",
        "    \"\"\"\n",
        "    Using the tf.data api, load the desired csv with img_path and transcription data, encode the images and\n",
        "    transcriptions for use on the recognition model and return the desired tf dataset.\n",
        "\n",
        "    :param csv_path: The path to the tab delimited csv file containing | Image Path | Transcription |\n",
        "    :param char2idx: The tf lookup table to map characters to their respective integer representation\n",
        "    :param max_seq_size: The final sequence length for transcriptions\n",
        "    :param img_size: The size of the image after resizing/padding (height, width).\n",
        "    :return: The tf dataset containing encoded images and their respective transcriptions\n",
        "    \"\"\"\n",
        "    path_sep = os.path.sep\n",
        "    path_prefix = tf.strings.join(csv_path.split('/')[:-1], path_sep)\n",
        "    return tf.data.experimental.CsvDataset(csv_path, ['img', 'trans'], field_delim='\\t', use_quote_delim=False).map(\n",
        "        lambda img_path, transcription: encode_img_and_transcription(\n",
        "            tf.strings.join([path_prefix, tf.strings.reduce_join(tf.strings.split(img_path, '/'), separator=path_sep)],\n",
        "                            separator=path_sep),\n",
        "            transcription, char2idx, max_seq_size, img_size),\n",
        "        num_parallel_calls=tf.data.experimental.AUTOTUNE)\n",
        "\n",
        "\n",
        "def get_encoded_inference_dataset_from_img_path(img_path, img_size):\n",
        "    \"\"\"\n",
        "    Using the tf.data api, load all images from the desired path and return a dataset containing encoded images\n",
        "    and the image name (without path or extension information).\n",
        "\n",
        "    :param img_path: The path to the directory containing images\n",
        "    :param img_size: The size of the image after resizing/padding (height, width)\n",
        "    :return: The tf dataset containing encoded images and their respective string names\n",
        "    \"\"\"\n",
        "    return tf.data.Dataset.list_files(img_path + '/*', shuffle=False).map(\n",
        "        lambda path: encode_img_with_name(path, img_size),\n",
        "        num_parallel_calls=tf.data.experimental.AUTOTUNE)"
      ],
      "execution_count": 3,
      "outputs": []
    },
    {
      "cell_type": "markdown",
      "metadata": {
        "id": "RmnqfENWL5it"
      },
      "source": [
        "## Build the Model\n",
        "\n",
        "Here is the necessary code we need to build the model for training"
      ]
    },
    {
      "cell_type": "code",
      "metadata": {
        "id": "jphfCKKIXYdP"
      },
      "source": [
        "class FullGatedConv2D(kl.Conv2D):\n",
        "    \"\"\"\n",
        "    Gated Convolutional Layer as described in the paper, Gated Convolutional Recurrent Neural Networks for Multilingual\n",
        "    Handwriting Recognition (https://ieeexplore-ieee-org.erl.lib.byu.edu/document/8270042). Code obtained from the Flor\n",
        "    implementation (https://github.com/arthurflor23/handwritten-text-recognition)\n",
        "    \"\"\"\n",
        "\n",
        "    def __init__(self, filters, **kwargs):\n",
        "        \"\"\"\n",
        "        :param filters: The number of filters to be used for the convolution\n",
        "        :param kwargs: Additional kwargs to be passed to Conv2D\n",
        "        \"\"\"\n",
        "        super(FullGatedConv2D, self).__init__(filters=filters * 2, **kwargs)\n",
        "        self.nb_filters = filters\n",
        "\n",
        "    def call(self, inputs):\n",
        "        \"\"\"\n",
        "        Forward pass of gated convolutional layer\n",
        "\n",
        "        :param inputs: The input to the gated convolution as tensor\n",
        "        :return: The output of the gated convolution as tensor\n",
        "        \"\"\"\n",
        "        output = super(FullGatedConv2D, self).call(inputs)\n",
        "        linear = kl.Activation(\"linear\")(output[:, :, :, :self.nb_filters])\n",
        "        sigmoid = kl.Activation(\"sigmoid\")(output[:, :, :, self.nb_filters:])\n",
        "        return kl.Multiply()([linear, sigmoid])\n",
        "\n",
        "    def compute_output_shape(self, input_shape):\n",
        "        output_shape = super(FullGatedConv2D, self).compute_output_shape(input_shape)\n",
        "        return tuple(output_shape[:3]) + (self.nb_filters,)\n",
        "\n",
        "    def get_config(self):\n",
        "        config = super(FullGatedConv2D, self).get_config()\n",
        "        config['nb_filters'] = self.nb_filters\n",
        "        del config['filters']\n",
        "        return config"
      ],
      "execution_count": 4,
      "outputs": []
    },
    {
      "cell_type": "code",
      "metadata": {
        "id": "PmMgHX0nXYiz"
      },
      "source": [
        "class FlorRecognizer(tf.keras.Model):\n",
        "    \"\"\"\n",
        "    Handwriting Recognition Model as described in the Blog Post,\n",
        "    https://medium.com/@arthurflor23/handwritten-text-recognition-using-tensorflow-2-0-f4352b7afe16.\n",
        "    This model combines ideas from the following papers:\n",
        "    - https://ieeexplore-ieee-org.erl.lib.byu.edu/document/8270042\n",
        "    - http://www.jpuigcerver.net/pubs/jpuigcerver_icdar2017.pdf\n",
        "    \"\"\"\n",
        "    def __init__(self, vocabulary_size=197):\n",
        "        \"\"\"\n",
        "        Define the model in terms of Keras layers\n",
        "\n",
        "        :param vocabulary_size: The number of possible classes that a character could belong to\n",
        "        \"\"\"\n",
        "        super(FlorRecognizer, self).__init__(name='flor_recognizer')\n",
        "\n",
        "        self.permute = kl.Permute([2, 1, 3])\n",
        "        self.conv1 = tf.keras.Sequential(name='conv1')\n",
        "        self.conv1.add(\n",
        "            kl.Conv2D(filters=16, kernel_size=(3, 3), strides=(2, 2), padding=\"same\", kernel_initializer=\"he_uniform\"))\n",
        "        self.conv1.add(kl.PReLU(shared_axes=[1, 2]))\n",
        "        self.conv1.add(kl.BatchNormalization(renorm=True))\n",
        "        self.conv1.add(FullGatedConv2D(filters=16, kernel_size=(3, 3), padding=\"same\"))\n",
        "\n",
        "        self.conv2 = tf.keras.Sequential(name='conv2')\n",
        "        self.conv2.add(\n",
        "            kl.Conv2D(filters=32, kernel_size=(3, 3), strides=(1, 1), padding=\"same\", kernel_initializer=\"he_uniform\"))\n",
        "        self.conv2.add(kl.PReLU(shared_axes=[1, 2]))\n",
        "        self.conv2.add(kl.BatchNormalization(renorm=True))\n",
        "        self.conv2.add(FullGatedConv2D(filters=32, kernel_size=(3, 3), padding=\"same\"))\n",
        "\n",
        "        self.conv3 = tf.keras.Sequential(name='conv3')\n",
        "        self.conv3.add(\n",
        "            kl.Conv2D(filters=64, kernel_size=(2, 4), strides=(2, 4), padding=\"same\", kernel_initializer=\"he_uniform\"))\n",
        "        self.conv3.add(kl.PReLU(shared_axes=[1, 2]))\n",
        "        self.conv3.add(kl.BatchNormalization(renorm=True))\n",
        "        self.conv3.add(\n",
        "            FullGatedConv2D(filters=64, kernel_size=(3, 3), padding=\"same\", kernel_constraint=kc.MaxNorm(4, [0, 1, 2])))\n",
        "        self.dropout1 = kl.Dropout(rate=0.2, name='dropout1')\n",
        "\n",
        "        self.conv4 = tf.keras.Sequential(name='conv4')\n",
        "        self.conv4.add(\n",
        "            kl.Conv2D(filters=128, kernel_size=(3, 3), strides=(1, 1), padding=\"same\", kernel_initializer=\"he_uniform\"))\n",
        "        self.conv4.add(kl.PReLU(shared_axes=[1, 2]))\n",
        "        self.conv4.add(kl.BatchNormalization(renorm=True))\n",
        "        self.conv4.add(\n",
        "            FullGatedConv2D(filters=128, kernel_size=(3, 3), padding=\"same\", kernel_constraint=kc.MaxNorm(4, [0, 1, 2])))\n",
        "        self.dropout2 = kl.Dropout(rate=0.2, name='dropout2')\n",
        "\n",
        "        self.conv5 = tf.keras.Sequential(name='conv5')\n",
        "        self.conv5.add(\n",
        "            kl.Conv2D(filters=256, kernel_size=(2, 4), strides=(2, 4), padding=\"same\", kernel_initializer=\"he_uniform\"))\n",
        "        self.conv5.add(kl.PReLU(shared_axes=[1, 2]))\n",
        "        self.conv5.add(kl.BatchNormalization(renorm=True))\n",
        "        self.conv5.add(\n",
        "            FullGatedConv2D(filters=256, kernel_size=(3, 3), padding=\"same\", kernel_constraint=kc.MaxNorm(4, [0, 1, 2])))\n",
        "        self.dropout3 = kl.Dropout(rate=0.2, name='dropout3')\n",
        "\n",
        "        self.conv6 = tf.keras.Sequential(name='conv6')\n",
        "        self.conv6.add(\n",
        "            kl.Conv2D(filters=512, kernel_size=(3, 3), strides=(1, 1), padding=\"same\", kernel_initializer=\"he_uniform\"))\n",
        "        self.conv6.add(kl.PReLU(shared_axes=[1, 2]))\n",
        "        self.conv6.add(kl.BatchNormalization(renorm=True))\n",
        "\n",
        "        self.mp = kl.MaxPooling2D(pool_size=(1, 2), strides=(1, 2), padding=\"valid\", name='mp')\n",
        "\n",
        "        self.gru1 = tf.keras.Sequential(name='gru1')\n",
        "        self.gru1.add(kl.Bidirectional(kl.GRU(units=256, return_sequences=True, dropout=0.5)))\n",
        "        self.gru1.add(kl.Dense(units=512))\n",
        "        self.gru1.add(kl.PReLU())\n",
        "\n",
        "        self.gru2 = tf.keras.Sequential(name='gru2')\n",
        "        self.gru2.add(kl.Bidirectional(kl.GRU(units=256, return_sequences=True, dropout=0.5)))\n",
        "        self.gru2.add(kl.Dense(units=vocabulary_size))\n",
        "\n",
        "    def call(self, x, training=False, **kwargs):\n",
        "        \"\"\"\n",
        "        Forward pass of the Recognizer. The training parameter is passed to certain layers\n",
        "        in the model that act differently during training than they do during inference.\n",
        "\n",
        "        :param x: The input to the recognizer (batch, height, width, channels)\n",
        "        :param training: T/F - Is the model in training or inference mode?\n",
        "        :param kwargs: Additional parameters\n",
        "        :return:\n",
        "        \"\"\"\n",
        "        out = self.permute(x)\n",
        "        # CNN\n",
        "        out = self.conv1(out)\n",
        "        out = self.conv2(out)\n",
        "        out = self.conv3(out)\n",
        "        out = self.dropout1(out, training=training)\n",
        "        out = self.conv4(out)\n",
        "        out = self.dropout2(out, training=training)\n",
        "        out = self.conv5(out)\n",
        "        out = self.dropout3(out, training=training)\n",
        "        out = self.conv6(out)\n",
        "\n",
        "        # MaxPool and Reshape\n",
        "        out = self.mp(out)\n",
        "        # out = tf.squeeze(out)\n",
        "        out = tf.reshape(out, (-1, out.shape[1], out.shape[2] * out.shape[3]))\n",
        "\n",
        "        # RNN\n",
        "        out = self.gru1(out)\n",
        "        out = self.gru2(out)\n",
        "\n",
        "        return out"
      ],
      "execution_count": 5,
      "outputs": []
    },
    {
      "cell_type": "markdown",
      "metadata": {
        "id": "2wcTBmEQTcKv"
      },
      "source": [
        "## Choose a Pre-trained Model\n",
        "\n",
        "Out of all of our pre-trained models, let's find the best model to start with."
      ]
    },
    {
      "cell_type": "code",
      "metadata": {
        "id": "SXtPQ2BzT0Q_"
      },
      "source": [
        "# First, load in all of our pre-trained models\n",
        "iam_model = Recognizer()\n",
        "iam_model.load_weights()\n",
        "\n",
        "rimes_model = Recognizer()\n",
        "rimes_model.load_weights()\n",
        "\n",
        "bentham_model = Recognizer()\n",
        "bentham_model.load_weights()\n",
        "\n",
        "models = [iam_model, rimes_model, bentham_model]\n",
        "\n",
        "# Take a subset of the dataset to use for testing\n",
        "dataset = get_inference_dataset_from_...\n",
        "\n",
        "# Metrics to help us select the best model \n",
        "mean_confidence = tf.keras.metrics.Mean(name=\"confidence\")\n",
        "best_model = None\n",
        "best_score = 1000\n",
        "\n",
        "# Iterate over each of the models\n",
        "for model in models:\n",
        "    mean_confidence.reset_states()\n",
        "\n",
        "    # Iterate over the subset of the dataset\n",
        "    for img, img_name in dataset:\n",
        "        output = model(img)\n",
        "        prediction, confidence = predict_with_confidence(output)\n",
        "    \n",
        "    if mean_confidence.result() < best_score:\n",
        "        best_model = model\n",
        "\n",
        "print('Best Model:', best_model.name)\n",
        "print('Confidence Score:', best_score)"
      ],
      "execution_count": null,
      "outputs": []
    },
    {
      "cell_type": "code",
      "metadata": {
        "id": "McGtcqyMctVx"
      },
      "source": [
        "# Run through the dataset and see if there are any lines where we are highly\n",
        "# confident in our predictions\n",
        "model = best_model\n",
        "confidence_threshold = .4\n",
        "\n",
        "training_set = []\n",
        "labeling_set = []\n",
        "\n",
        "for img, img_name in dataset:\n",
        "    output = model(img)\n",
        "    prediction, confidence = predict_with_confidence(output)\n",
        "\n",
        "    if confidence > confidence_threshold:\n",
        "        training_set.append([img, img_name])"
      ],
      "execution_count": null,
      "outputs": []
    }
  ]
}