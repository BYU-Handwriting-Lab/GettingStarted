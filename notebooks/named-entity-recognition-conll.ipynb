{
  "nbformat": 4,
  "nbformat_minor": 0,
  "metadata": {
    "colab": {
      "name": "named-entity-recognition-french.ipynb",
      "provenance": [],
      "authorship_tag": "ABX9TyMhuTTeyeuPurRjBTA/l5um",
      "include_colab_link": true
    },
    "kernelspec": {
      "name": "python3",
      "display_name": "Python 3"
    }
  },
  "cells": [
    {
      "cell_type": "markdown",
      "metadata": {
        "id": "view-in-github",
        "colab_type": "text"
      },
      "source": [
        "<a href=\"https://colab.research.google.com/github/BYU-Handwriting-Lab/GettingStarted/blob/master/notebooks/named-entity-recognition-conll.ipynb\" target=\"_parent\"><img src=\"https://colab.research.google.com/assets/colab-badge.svg\" alt=\"Open In Colab\"/></a>"
      ]
    },
    {
      "cell_type": "markdown",
      "metadata": {
        "id": "T5S5SWl9KawG",
        "colab_type": "text"
      },
      "source": [
        "# Named Entity Recognition\n",
        "\n",
        "This notebook contains code to successfully perform named entity recognition on\n",
        "text from the CONLL 2003 dataset."
      ]
    },
    {
      "cell_type": "markdown",
      "metadata": {
        "id": "PZkFVSw6KyEy",
        "colab_type": "text"
      },
      "source": [
        "### Import Dependencies and Download Dataset"
      ]
    },
    {
      "cell_type": "code",
      "metadata": {
        "id": "UUCM93iUKUyI",
        "colab_type": "code",
        "colab": {}
      },
      "source": [
        "import os\n",
        "\n",
        "import tensorflow as tf\n",
        "\n",
        "import numpy as np\n",
        "import pandas as pd\n",
        "\n",
        "from tqdm import tqdm\n",
        "from sklearn import metrics\n",
        "from matplotlib import pyplot as plt\n",
        "import seaborn as sns"
      ],
      "execution_count": 106,
      "outputs": []
    },
    {
      "cell_type": "code",
      "metadata": {
        "id": "JtBgGKsRKkYW",
        "colab_type": "code",
        "colab": {}
      },
      "source": [
        "!wget -q https://data.deepai.org/conll2003.zip\n",
        "!unzip -q conll2003.zip -d conll\n",
        "!rm conll2003.zip"
      ],
      "execution_count": 1,
      "outputs": []
    },
    {
      "cell_type": "markdown",
      "metadata": {
        "id": "7Yw9_wZxLBr1",
        "colab_type": "text"
      },
      "source": [
        "### Dataset Processing"
      ]
    },
    {
      "cell_type": "markdown",
      "metadata": {
        "id": "L1xMp_q1MX8I",
        "colab_type": "text"
      },
      "source": [
        "First, we split process the train, valid, and test .txt files to be separated by\n",
        "sentences with their corresponding entity classifications.\n"
      ]
    },
    {
      "cell_type": "code",
      "metadata": {
        "id": "ty9zs088KriJ",
        "colab_type": "code",
        "colab": {}
      },
      "source": [
        "def split_text_label(filename):\n",
        "    f = open(filename)\n",
        "\n",
        "    split_labeled_text = []\n",
        "    sentence = []\n",
        "    for line in f:\n",
        "        if len(line) == 0 or line.startswith('-DOCSTART') or line[0] == '\\n':\n",
        "            if len(sentence) > 0:\n",
        "                split_labeled_text.append(sentence)\n",
        "                sentence = []\n",
        "            continue\n",
        "        \n",
        "        splits = line.split(' ')\n",
        "        sentence.append([splits[0], splits[-1].rstrip(\"\\n\")])\n",
        "    \n",
        "    if len(sentence) > 0:\n",
        "        split_labeled_text.append(sentence)\n",
        "        sentence = []\n",
        "    \n",
        "    return split_labeled_text"
      ],
      "execution_count": 7,
      "outputs": []
    },
    {
      "cell_type": "code",
      "metadata": {
        "id": "rlWv2nhJL2Aj",
        "colab_type": "code",
        "colab": {}
      },
      "source": [
        "split_train = split_text_label('conll/train.txt')\n",
        "split_val = split_text_label('conll/valid.txt')\n",
        "split_test = split_text_label('conll/test.txt')"
      ],
      "execution_count": 9,
      "outputs": []
    },
    {
      "cell_type": "markdown",
      "metadata": {
        "id": "TyALnjy1Mrf4",
        "colab_type": "text"
      },
      "source": [
        "Next, we determine what words are needed in our word mapping. We also create\n",
        "a list of the labeled entities."
      ]
    },
    {
      "cell_type": "code",
      "metadata": {
        "id": "NNCrSsssMq-2",
        "colab_type": "code",
        "colab": {}
      },
      "source": [
        "word_set = set()\n",
        "label_set = set()\n",
        "\n",
        "for data in [split_train, split_val, split_test]:\n",
        "    for sentence in data:\n",
        "        for word, label in sentence:\n",
        "            word_set.add(word.lower())\n",
        "            label_set.add(label)"
      ],
      "execution_count": 12,
      "outputs": []
    },
    {
      "cell_type": "markdown",
      "metadata": {
        "id": "I-MigJ89NhQK",
        "colab_type": "text"
      },
      "source": [
        "Create the mappings for words and labels."
      ]
    },
    {
      "cell_type": "code",
      "metadata": {
        "id": "XEqiVDwHNh7d",
        "colab_type": "code",
        "colab": {}
      },
      "source": [
        "# Sort the set to ensure '0' is assigned to O\n",
        "sorted_labels = sorted(list(label_set), key=len)\n",
        "\n",
        "# Create mapping for labels\n",
        "label_to_idx = {}\n",
        "for index, label in enumerate(sorted_labels):\n",
        "    label_to_idx[label] = index\n",
        "\n",
        "idx_to_label = {value: key for key, value in label_to_idx.items()}\n",
        "\n",
        "# Create mapping for words\n",
        "word_to_idx = {}\n",
        "PADDING_TOKEN = 'PADDING_TOKEN'\n",
        "UNKNOWN_TOKEN = 'UNKNOWN_TOKEN'\n",
        "\n",
        "word_to_idx[PADDING_TOKEN] = len(word_to_idx)\n",
        "word_to_idx[UNKNOWN_TOKEN] = len(word_to_idx)\n",
        "\n",
        "for word in word_set:\n",
        "    word_to_idx[word] = len(word_to_idx)\n",
        "\n",
        "idx_to_word = {value: key for key, value in word_to_idx.items()}"
      ],
      "execution_count": 163,
      "outputs": []
    },
    {
      "cell_type": "markdown",
      "metadata": {
        "id": "Y1Jeb-cKPWMS",
        "colab_type": "text"
      },
      "source": [
        "Convert the string data to its integer representation."
      ]
    },
    {
      "cell_type": "code",
      "metadata": {
        "id": "InjPjJOYPfwc",
        "colab_type": "code",
        "colab": {}
      },
      "source": [
        "def perform_mapping(data, word_to_idx, label_to_idx):\n",
        "    sentences = []\n",
        "    labels = []\n",
        "    for sentence in data:\n",
        "        word_indices = []\n",
        "        label_indices = []\n",
        "\n",
        "        for word, label in sentence:\n",
        "            lower_word = word.lower()\n",
        "            if lower_word in word_to_idx:\n",
        "                word_idx = word_to_idx[lower_word]\n",
        "            else:\n",
        "                word_idx = word_to_idx[UNKNOWN_TOKEN]\n",
        "            \n",
        "            word_indices.append(word_idx)\n",
        "            label_indices.append(label_to_idx[label])\n",
        "        \n",
        "        sentences.append(word_indices)\n",
        "        labels.append(label_indices)\n",
        "    \n",
        "    return sentences, labels"
      ],
      "execution_count": 16,
      "outputs": []
    },
    {
      "cell_type": "code",
      "metadata": {
        "id": "FIcoqkT-QYmk",
        "colab_type": "code",
        "colab": {}
      },
      "source": [
        "train_sentences, train_labels = perform_mapping(split_train, word_to_idx, label_to_idx)\n",
        "val_sentences, val_labels = perform_mapping(split_val, word_to_idx, label_to_idx)\n",
        "test_sentences, test_labels = perform_mapping(split_test, word_to_idx, label_to_idx)"
      ],
      "execution_count": 17,
      "outputs": []
    },
    {
      "cell_type": "markdown",
      "metadata": {
        "id": "UtgJEMGjRPXT",
        "colab_type": "text"
      },
      "source": [
        "Add padding to the sequences to make it easier to send through our deep\n",
        "learning model."
      ]
    },
    {
      "cell_type": "code",
      "metadata": {
        "id": "fwXlKqYmRXs_",
        "colab_type": "code",
        "colab": {}
      },
      "source": [
        "def pad_sentences(sentences, labels, max_len, padding='post'):\n",
        "    padded_sentences = tf.keras.preprocessing.sequence.pad_sequences(sentences, max_len, padding=padding)\n",
        "    padded_labels = tf.keras.preprocessing.sequence.pad_sequences(labels, max_len, padding=padding)\n",
        "    \n",
        "    return padded_sentences, padded_labels"
      ],
      "execution_count": 20,
      "outputs": []
    },
    {
      "cell_type": "code",
      "metadata": {
        "id": "qW2w-d6hRokQ",
        "colab_type": "code",
        "colab": {}
      },
      "source": [
        "MAX_SEQ_LEN = 128\n",
        "\n",
        "train_features, train_labels = pad_sentences(train_sentences, train_labels, MAX_SEQ_LEN)\n",
        "val_features, val_labels = pad_sentences(val_sentences, val_labels, MAX_SEQ_LEN)\n",
        "test_features, test_labels = pad_sentences(test_sentences, test_labels, MAX_SEQ_LEN)"
      ],
      "execution_count": 73,
      "outputs": []
    },
    {
      "cell_type": "markdown",
      "metadata": {
        "id": "5IlMpzfMSJJr",
        "colab_type": "text"
      },
      "source": [
        "### Model Creation"
      ]
    },
    {
      "cell_type": "markdown",
      "metadata": {
        "id": "tRCfrNNSS60V",
        "colab_type": "text"
      },
      "source": [
        "We now create our simple Named-Entity-Recognition Model."
      ]
    },
    {
      "cell_type": "code",
      "metadata": {
        "id": "OpxT4F09SOXk",
        "colab_type": "code",
        "colab": {}
      },
      "source": [
        "class NERModel(tf.keras.Model):\n",
        "    def __init__(self, input_dim, num_labels, max_seq_len):\n",
        "        super(NERModel, self).__init__()\n",
        "\n",
        "        embed_output_dim = 128\n",
        "\n",
        "        self.embedding = tf.keras.layers.Embedding(input_dim=input_dim, output_dim=embed_output_dim, input_length=max_seq_len, mask_zero=True)\n",
        "        self.conv1 = tf.keras.layers.Conv1D(128, 3, padding='same', activation='relu')\n",
        "        self.conv2 = tf.keras.layers.Conv1D(128, 3, padding='same', activation='relu')\n",
        "        self.lstm = tf.keras.layers.Bidirectional(tf.keras.layers.LSTM(128, return_sequences=True))\n",
        "        self.dense = tf.keras.layers.Dense(num_labels)\n",
        "\n",
        "    def call(self, x, **kwargs):\n",
        "        x = self.embedding(x)\n",
        "        x = self.conv1(x)\n",
        "        x = self.conv2(x)\n",
        "        x = self.lstm(x)\n",
        "        x = self.dense(x)\n",
        "        x = tf.nn.softmax(x)\n",
        "\n",
        "        return x"
      ],
      "execution_count": 175,
      "outputs": []
    },
    {
      "cell_type": "markdown",
      "metadata": {
        "id": "Z3yRETIha6Q9",
        "colab_type": "text"
      },
      "source": [
        "### Metrics"
      ]
    },
    {
      "cell_type": "markdown",
      "metadata": {
        "id": "6MucMXN_a8bc",
        "colab_type": "text"
      },
      "source": [
        "Using sklearn, we can create a few metrics to help us evaluate the model.\n",
        "\n",
        "Wrapping the sklearn functions allows us to get metric scores by sending\n",
        "y_true and y_pred as batches and also allows us to specify the average\n",
        "setting to *macro*."
      ]
    },
    {
      "cell_type": "code",
      "metadata": {
        "id": "6bjR1zPxbIKn",
        "colab_type": "code",
        "colab": {}
      },
      "source": [
        "def precision_score(y_true, y_pred):\n",
        "    rank = len(y_true.shape)\n",
        "    assert rank == 1 or rank == 2\n",
        "    if len(y_true.shape) == 2:\n",
        "        precision = []\n",
        "        for y_true_single, y_pred_single in zip(y_true, y_pred):\n",
        "            precision.append(metrics.precision_score(y_true_single, y_pred_single, average='macro'))\n",
        "        return tf.math.reduce_mean(precision)\n",
        "    else:\n",
        "        return metrics.precision_score(y_true, y_pred, average='macro')\n",
        "\n",
        "def recall_score(y_true, y_pred):\n",
        "    rank = len(y_true.shape)\n",
        "    assert rank == 1 or rank == 2\n",
        "    if len(y_true.shape) == 2:\n",
        "        recall = []\n",
        "        for y_true_single, y_pred_single in zip(y_true, y_pred):\n",
        "            recall.append(metrics.recall_score(y_true_single, y_pred_single, average='macro'))\n",
        "        return tf.math.reduce_mean(recall)\n",
        "    else:\n",
        "        return metrics.recall_score(y_true, y_pred, average='macro')\n",
        "\n",
        "def f1_score(y_true, y_pred):\n",
        "    rank = len(y_true.shape)\n",
        "    assert rank == 1 or rank == 2\n",
        "    if len(y_true.shape) == 2:\n",
        "        f1 = []\n",
        "        for y_true_single, y_pred_single in zip(y_true, y_pred):\n",
        "            f1.append(metrics.f1_score(y_true_single, y_pred_single, average='macro'))\n",
        "        return tf.math.reduce_mean(f1)\n",
        "    else:\n",
        "        return metrics.f1_score(y_true, y_pred, average='macro')"
      ],
      "execution_count": 48,
      "outputs": []
    },
    {
      "cell_type": "markdown",
      "metadata": {
        "id": "_0KvfbyUa4Dl",
        "colab_type": "text"
      },
      "source": [
        "### Training"
      ]
    },
    {
      "cell_type": "markdown",
      "metadata": {
        "id": "6oa_Yz3WTIyo",
        "colab_type": "text"
      },
      "source": [
        "Create our model training object."
      ]
    },
    {
      "cell_type": "code",
      "metadata": {
        "id": "EaagvvFKUSor",
        "colab_type": "code",
        "colab": {}
      },
      "source": [
        "class Train():\n",
        "    def __init__(self, train_features, train_labels, val_features, val_labels, num_words, num_labels, max_seq_len, model=None):\n",
        "        self.epochs = 3\n",
        "        self.batch_size = 32\n",
        "        self.embedding_dim = 128\n",
        "\n",
        "        self.model = NERModel(input_dim=num_words, num_labels=num_labels, max_seq_len=max_seq_len) if model is None else model\n",
        "        self.optimizer = tf.keras.optimizers.Adam(learning_rate=1e-3)\n",
        "        self.loss_fn = tf.keras.losses.SparseCategoricalCrossentropy(from_logits=False)\n",
        "\n",
        "        self.train_size = train_features.shape[0]\n",
        "        self.train_dataset = tf.data.Dataset.from_tensor_slices((train_features, train_labels))\\\n",
        "                                            .shuffle(train_features.shape[0], reshuffle_each_iteration=True)\\\n",
        "                                            .batch(self.batch_size, drop_remainder=True)\n",
        "\n",
        "        self.val_size = val_features.shape[0]\n",
        "        self.val_dataset = tf.data.Dataset.from_tensor_slices((val_features, val_labels))\\\n",
        "                                          .batch(self.batch_size, drop_remainder=True)\n",
        "\n",
        "        # Metrics\n",
        "        self.train_loss = tf.keras.metrics.Mean('train_loss')\n",
        "        self.train_precision = tf.keras.metrics.Mean('train_precision')\n",
        "        self.train_recall = tf.keras.metrics.Mean('train_recall')\n",
        "        self.train_f1 = tf.keras.metrics.Mean('train_f1')\n",
        "\n",
        "        self.val_loss = tf.keras.metrics.Mean('val_loss')\n",
        "        self.val_precision = tf.keras.metrics.Mean('val_precision')\n",
        "        self.val_recall = tf.keras.metrics.Mean('val_recall')\n",
        "        self.val_f1 = tf.keras.metrics.Mean('val_f1')\n",
        "    \n",
        "    @tf.function\n",
        "    def train_step(self, words, labels):\n",
        "        with tf.GradientTape() as tape:\n",
        "            output = self.model(words, training=True)\n",
        "            loss = self.loss_fn(labels, output)\n",
        "        \n",
        "        gradients = tape.gradient(loss, self.model.trainable_variables)\n",
        "        self.optimizer.apply_gradients(list(zip(gradients, self.model.trainable_variables)))\n",
        "\n",
        "        predictions = tf.argmax(output, 2)\n",
        "        self.train_loss(loss)\n",
        "        self.train_precision(tf.py_function(precision_score, [labels, predictions], Tout=[tf.float64]))\n",
        "        self.train_recall(tf.py_function(recall_score, [labels, predictions], Tout=[tf.float64]))\n",
        "        self.train_f1(tf.py_function(f1_score, [labels, predictions], Tout=[tf.float64]))\n",
        "    \n",
        "    @tf.function\n",
        "    def val_step(self, words, labels):\n",
        "        output = self.model(words, training=False)\n",
        "        loss = self.loss_fn(labels, output)\n",
        "\n",
        "        predictions = tf.argmax(output, 2)\n",
        "        self.val_loss(loss)\n",
        "        self.val_precision(tf.py_function(precision_score, [labels, predictions], Tout=[tf.float64]))\n",
        "        self.val_recall(tf.py_function(recall_score, [labels, predictions], Tout=[tf.float64]))\n",
        "        self.val_f1(tf.py_function(f1_score, [labels, predictions], Tout=[tf.float64]))\n",
        "    \n",
        "    def __call__(self):\n",
        "        for epoch in range(self.epochs):\n",
        "            self.train_loss.reset_states()\n",
        "            self.train_precision.reset_states()\n",
        "            self.train_recall.reset_states()\n",
        "            self.train_f1.reset_states()\n",
        "\n",
        "            self.val_loss.reset_states()\n",
        "            self.val_precision.reset_states()\n",
        "            self.val_recall.reset_states()\n",
        "            self.val_f1.reset_states()\n",
        "\n",
        "            # Training Loop\n",
        "            train_loop = tqdm(total=self.train_size//self.batch_size, position=0, leave=True)\n",
        "            for words, labels in self.train_dataset:\n",
        "                self.train_step(words, labels)\n",
        "                train_loop.set_description('Train - Epoch: {}, Loss: {:.4f}, Precision: {:.4f}, Recall: {:.4f}, F1: {:.4f}'.format(\n",
        "                    epoch, self.train_loss.result(), self.train_precision.result(), self.train_recall.result(), self.train_f1.result()\n",
        "                ))\n",
        "                train_loop.update(1)\n",
        "            train_loop.close()\n",
        "\n",
        "            # Validation Loop\n",
        "            val_loop = tqdm(total=self.val_size//self.batch_size, position=0, leave=True)\n",
        "            for words, labels in self.val_dataset:\n",
        "                self.val_step(words, labels)\n",
        "                val_loop.set_description('Val   - Epoch: {}, Loss: {:.4f}, Precision: {:.4f}, Recall: {:.4f}, F1: {:.4f}'.format(\n",
        "                    epoch, self.val_loss.result(), self.val_precision.result(), self.val_recall.result(), self.val_f1.result()\n",
        "                ))\n",
        "                val_loop.update(1)\n",
        "            val_loop.close()"
      ],
      "execution_count": 179,
      "outputs": []
    },
    {
      "cell_type": "markdown",
      "metadata": {
        "id": "rLsxxG_8xwAB",
        "colab_type": "text"
      },
      "source": [
        "Train the model. The created model will be an attribute of the train object\n",
        "and will be used later on during evaluation."
      ]
    },
    {
      "cell_type": "code",
      "metadata": {
        "id": "B6HSunuwTFw5",
        "colab_type": "code",
        "colab": {
          "base_uri": "https://localhost:8080/",
          "height": 207
        },
        "outputId": "7602f8e1-8303-40d5-d352-aeed03de4d93"
      },
      "source": [
        "EMBEDDING_DIM = 128\n",
        "num_words = len(word_to_idx)\n",
        "num_labels = len(label_to_idx)\n",
        "\n",
        "train = Train(train_features, train_labels, val_features, val_labels, num_words, num_labels, MAX_SEQ_LEN)\n",
        "train()"
      ],
      "execution_count": 180,
      "outputs": [
        {
          "output_type": "stream",
          "text": [
            "\r  0%|          | 0/438 [00:00<?, ?it/s]/usr/local/lib/python3.6/dist-packages/sklearn/metrics/_classification.py:1272: UndefinedMetricWarning: Precision is ill-defined and being set to 0.0 in labels with no predicted samples. Use `zero_division` parameter to control this behavior.\n",
            "  _warn_prf(average, modifier, msg_start, len(result))\n",
            "/usr/local/lib/python3.6/dist-packages/sklearn/metrics/_classification.py:1272: UndefinedMetricWarning: Recall is ill-defined and being set to 0.0 in labels with no true samples. Use `zero_division` parameter to control this behavior.\n",
            "  _warn_prf(average, modifier, msg_start, len(result))\n",
            "Train - Epoch: 0, Loss: 0.0745, Precision: 0.6031, Recall: 0.6022, F1: 0.5998: 100%|██████████| 438/438 [03:15<00:00,  2.24it/s]\n",
            "Val   - Epoch: 0, Loss: 0.0319, Precision: 0.7315, Recall: 0.7233, F1: 0.7228: 100%|██████████| 101/101 [00:19<00:00,  5.24it/s]\n",
            "Train - Epoch: 1, Loss: 0.0142, Precision: 0.8791, Recall: 0.8743, F1: 0.8737: 100%|██████████| 438/438 [03:14<00:00,  2.26it/s]\n",
            "Val   - Epoch: 1, Loss: 0.0230, Precision: 0.8300, Recall: 0.8248, F1: 0.8235: 100%|██████████| 101/101 [00:18<00:00,  5.39it/s]\n",
            "Train - Epoch: 2, Loss: 0.0052, Precision: 0.9604, Recall: 0.9585, F1: 0.9581: 100%|██████████| 438/438 [03:14<00:00,  2.25it/s]\n",
            "Val   - Epoch: 2, Loss: 0.0228, Precision: 0.8568, Recall: 0.8493, F1: 0.8493: 100%|██████████| 101/101 [00:18<00:00,  5.38it/s]\n"
          ],
          "name": "stderr"
        }
      ]
    },
    {
      "cell_type": "markdown",
      "metadata": {
        "id": "zHU0kStUu7dy",
        "colab_type": "text"
      },
      "source": [
        "### Evaluate\n",
        "\n",
        "Evaluate the performance of our model on the test set."
      ]
    },
    {
      "cell_type": "code",
      "metadata": {
        "id": "xoIcmi7ig-aX",
        "colab_type": "code",
        "colab": {}
      },
      "source": [
        "@tf.function\n",
        "def test_step(model, words):\n",
        "    output = model(words, training=False)\n",
        "    return tf.argmax(output, 2)\n",
        "\n",
        "def evaluate(model, test_features, test_labels, idx_to_label, idx_to_word, example_words=100):\n",
        "    batch_size = 32\n",
        "    test_dataset = tf.data.Dataset.from_tensor_slices((test_features, test_labels)).batch(batch_size)\n",
        "\n",
        "    x_true = []\n",
        "    y_true = []\n",
        "    y_pred = []\n",
        "    test_loop = tqdm(total=int(np.ceil(test_features.shape[0] / batch_size)), position=0, leave=True)\n",
        "    for words, labels in test_dataset:\n",
        "        predictions = test_step(model, words)\n",
        "        test_loop.update(1)\n",
        "\n",
        "        x_true.extend(tf.keras.backend.flatten(words).numpy().tolist())\n",
        "        y_true.extend(tf.keras.backend.flatten(labels).numpy().tolist())\n",
        "        y_pred.extend(tf.keras.backend.flatten(predictions).numpy().tolist())\n",
        "\n",
        "    test_loop.close()\n",
        "    \n",
        "    x_true = [idx_to_word[word_idx] for word_idx in x_true]\n",
        "    y_true = [idx_to_label[label_idx] for label_idx in y_true]\n",
        "    y_pred = [idx_to_label[label_idx] for label_idx in y_pred]\n",
        "\n",
        "    print('Classification Report:')\n",
        "    print(metrics.classification_report(y_true, y_pred, digits=4))\n",
        "\n",
        "    confusion_matrix = metrics.confusion_matrix(y_true, y_pred)\n",
        "\n",
        "    entity_labels = list(idx_to_label.values())[::-1]\n",
        "    plt.figure(figsize=(10,10))\n",
        "    sns.heatmap(confusion_matrix, annot=True, fmt='d', xticklabels=entity_labels, yticklabels=entity_labels)\n",
        "\n",
        "    plt.title('Confusion Matrix', fontdict={'fontsize': 20})\n",
        "    plt.xlabel('Predicted', fontdict={'fontsize':15})\n",
        "    plt.ylabel('Actual', fontdict={'fontsize':15})\n",
        "    plt.pause(.01)\n",
        "\n",
        "    print('Examples:')\n",
        "    count = 0\n",
        "    for word, predicted, actual in zip(x_true, y_pred, y_true):\n",
        "        if word != PADDING_TOKEN:\n",
        "            print(word, '-', predicted, '-', actual)\n",
        "            count += 1\n",
        "            if count == example_words:\n",
        "                break"
      ],
      "execution_count": 183,
      "outputs": []
    },
    {
      "cell_type": "code",
      "metadata": {
        "id": "pj3qzuBwjR3F",
        "colab_type": "code",
        "colab": {
          "base_uri": "https://localhost:8080/",
          "height": 1000
        },
        "outputId": "4f8ea5ae-72c3-41b1-a620-8beb69a710bf"
      },
      "source": [
        "evaluate(train.model, test_features, test_labels, idx_to_label, idx_to_word)"
      ],
      "execution_count": 184,
      "outputs": [
        {
          "output_type": "stream",
          "text": [
            "100%|██████████| 108/108 [00:10<00:00, 10.71it/s]\n"
          ],
          "name": "stderr"
        },
        {
          "output_type": "stream",
          "text": [
            "Classification Report:\n",
            "              precision    recall  f1-score   support\n",
            "\n",
            "       B-LOC     0.8308    0.8357    0.8332      1668\n",
            "      B-MISC     0.7307    0.7265    0.7286       702\n",
            "       B-ORG     0.6299    0.6671    0.6480      1661\n",
            "       B-PER     0.9364    0.6283    0.7520      1617\n",
            "       I-LOC     0.6012    0.7626    0.6724       257\n",
            "      I-MISC     0.4533    0.6065    0.5188       216\n",
            "       I-ORG     0.4530    0.6527    0.5348       835\n",
            "       I-PER     0.9514    0.6946    0.8030      1156\n",
            "           O     0.9972    0.9978    0.9975    433872\n",
            "\n",
            "    accuracy                         0.9924    441984\n",
            "   macro avg     0.7315    0.7302    0.7209    441984\n",
            "weighted avg     0.9929    0.9924    0.9924    441984\n",
            "\n"
          ],
          "name": "stdout"
        },
        {
          "output_type": "display_data",
          "data": {
            "image/png": "[encoded data removed]",
            "text/plain": [
              "<Figure size 720x720 with 2 Axes>"
            ]
          },
          "metadata": {
            "tags": [],
            "needs_background": "light"
          }
        },
        {
          "output_type": "stream",
          "text": [
            "Examples:\n",
            "soccer - O - O\n",
            "- - O - O\n",
            "japan - B-LOC - B-LOC\n",
            "get - O - O\n",
            "lucky - O - O\n",
            "win - O - O\n",
            ", - O - O\n",
            "china - B-LOC - B-PER\n",
            "in - O - O\n",
            "surprise - O - O\n",
            "defeat - O - O\n",
            ". - O - O\n",
            "nadim - B-ORG - B-PER\n",
            "ladki - O - I-PER\n",
            "al-ain - B-ORG - B-LOC\n",
            ", - O - O\n",
            "united - B-LOC - B-LOC\n",
            "arab - I-LOC - I-LOC\n",
            "emirates - I-LOC - I-LOC\n",
            "1996-12-06 - O - O\n",
            "japan - B-LOC - B-LOC\n",
            "began - O - O\n",
            "the - O - O\n",
            "defence - O - O\n",
            "of - O - O\n",
            "their - O - O\n",
            "asian - B-MISC - B-MISC\n",
            "cup - I-MISC - I-MISC\n",
            "title - O - O\n",
            "with - O - O\n",
            "a - O - O\n",
            "lucky - O - O\n",
            "2-1 - O - O\n",
            "win - O - O\n",
            "against - O - O\n",
            "syria - B-LOC - B-LOC\n",
            "in - O - O\n",
            "a - O - O\n",
            "group - O - O\n",
            "c - O - O\n",
            "championship - O - O\n",
            "match - O - O\n",
            "on - O - O\n",
            "friday - O - O\n",
            ". - O - O\n",
            "but - O - O\n",
            "china - B-LOC - B-LOC\n",
            "saw - O - O\n",
            "their - O - O\n",
            "luck - O - O\n",
            "desert - O - O\n",
            "them - O - O\n",
            "in - O - O\n",
            "the - O - O\n",
            "second - O - O\n",
            "match - O - O\n",
            "of - O - O\n",
            "the - O - O\n",
            "group - O - O\n",
            ", - O - O\n",
            "crashing - O - O\n",
            "to - O - O\n",
            "a - O - O\n",
            "surprise - O - O\n",
            "2-0 - O - O\n",
            "defeat - O - O\n",
            "to - O - O\n",
            "newcomers - O - O\n",
            "uzbekistan - O - B-LOC\n",
            ". - O - O\n",
            "china - B-LOC - B-LOC\n",
            "controlled - O - O\n",
            "most - O - O\n",
            "of - O - O\n",
            "the - O - O\n",
            "match - O - O\n",
            "and - O - O\n",
            "saw - O - O\n",
            "several - O - O\n",
            "chances - O - O\n",
            "missed - O - O\n",
            "until - O - O\n",
            "the - O - O\n",
            "78th - O - O\n",
            "minute - O - O\n",
            "when - O - O\n",
            "uzbek - B-ORG - B-MISC\n",
            "striker - O - O\n",
            "igor - B-PER - B-PER\n",
            "shkvyrin - I-PER - I-PER\n",
            "took - O - O\n",
            "advantage - O - O\n",
            "of - O - O\n",
            "a - O - O\n",
            "misdirected - O - O\n",
            "defensive - O - O\n",
            "header - O - O\n",
            "to - O - O\n",
            "lob - O - O\n",
            "the - O - O\n"
          ],
          "name": "stdout"
        }
      ]
    }
  ]
}