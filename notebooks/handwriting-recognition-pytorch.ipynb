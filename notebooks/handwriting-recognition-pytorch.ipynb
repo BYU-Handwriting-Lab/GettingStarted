{
  "nbformat": 4,
  "nbformat_minor": 0,
  "metadata": {
    "colab": {
      "name": "notebook.ipynb",
      "provenance": [],
      "include_colab_link": true
    },
    "kernelspec": {
      "name": "python3",
      "display_name": "Python 3"
    },
    "accelerator": "GPU"
  },
  "cells": [
    {
      "cell_type": "markdown",
      "metadata": {
        "id": "view-in-github",
        "colab_type": "text"
      },
      "source": [
        "<a href=\"https://colab.research.google.com/github/BYU-Handwriting-Lab/GettingStarted/blob/master/notebooks/handwriting-recognition-pytorch.ipynb\" target=\"_parent\"><img src=\"https://colab.research.google.com/assets/colab-badge.svg\" alt=\"Open In Colab\"/></a>"
      ]
    },
    {
      "cell_type": "markdown",
      "metadata": {
        "id": "yNcGj5mhxUS3",
        "colab_type": "text"
      },
      "source": [
        "# Handwriting Recognition - Pytorch\n",
        "\n",
        "This notebook contains code to create a deep learning handwriting recognition\n",
        "model in Pytorch. The model is for offline handwritten text using\n",
        "line-level segmentations. It is an implementation of the paper,\n",
        "*Gated Convolutional Recurrent Neural Network for Handwriting Recognition* as\n",
        "recorded in [Bluche](http://ieeexplore.ieee.org/document/8270042/). BYU access\n",
        "can be found [here](https://ieeexplore-ieee-org.erl.lib.byu.edu/document/8270042)."
      ]
    },
    {
      "cell_type": "markdown",
      "metadata": {
        "id": "N9G86zuMzPpX",
        "colab_type": "text"
      },
      "source": [
        "### Imports"
      ]
    },
    {
      "cell_type": "code",
      "metadata": {
        "id": "Qb0qJGHWy5ty",
        "colab_type": "code",
        "colab": {}
      },
      "source": [
        "# Pytorch\n",
        "import torch\n",
        "import torch.nn as nn\n",
        "import torch.nn.functional as F\n",
        "from torch.nn.parameter import Parameter\n",
        "import torch.optim as optim\n",
        "import torchvision\n",
        "from torch.utils.data import Dataset, DataLoader\n",
        "from torchvision import transforms, utils, datasets\n",
        "\n",
        "# Make sure we are using a GPU on Colab\n",
        "assert torch.cuda.is_available(), \"Request a GPU from Runtime > Change Runtime\"\n",
        "\n",
        "# Data Structures\n",
        "import numpy as np\n",
        "import pandas as pd\n",
        "import cv2\n",
        "import csv\n",
        "import json\n",
        "\n",
        "# Python\n",
        "import os\n",
        "import time\n",
        "import tarfile\n",
        "import gzip\n",
        "import gc\n",
        "\n",
        "# Image/Plotting\n",
        "import matplotlib.pyplot as plt\n",
        "from matplotlib.pyplot import imshow\n",
        "from PIL import Image, ImageOps\n",
        "from tqdm import tqdm\n",
        "\n",
        "# Colab (We can use this if we want to import files from Google Drive)\n",
        "# from google.colab import drive\n",
        "# drive.mount('/content/drive')\n",
        "\n",
        "# Debugging\n",
        "import pdb\n",
        "from IPython.core.ultratb import AutoFormattedTB\n",
        "__ITB__ = AutoFormattedTB(mode = 'Verbose',color_scheme='LightBg', tb_offset = 1)"
      ],
      "execution_count": 0,
      "outputs": []
    },
    {
      "cell_type": "markdown",
      "metadata": {
        "id": "AKHbx1XLoN8e",
        "colab_type": "text"
      },
      "source": [
        "### Download the Dataset\n",
        "\n",
        "We will be using a very common handwriting dataset called [IAM](http://www.fki.inf.unibe.ch/databases/iam-handwriting-database).\n",
        "\n",
        "Download and unzip the dataset from the BYU-Handwriting-Lab Google Drive (courtesy of a clever wget command described [here](https://medium.com/@acpanjan/download-google-drive-files-using-wget-3c2c025a8b99)). In many\n",
        "instances, we would probably make use of the google.drive API that allows\n",
        "us to mount our Google drive here in Colab; however, we use this method\n",
        "because it doesn't require us to authenticate.\n",
        "\n",
        "A char_set.json file is also downloaded which contains a mapping between\n",
        "characters and indices."
      ]
    },
    {
      "cell_type": "code",
      "metadata": {
        "id": "WOJp_dicncRZ",
        "colab_type": "code",
        "colab": {}
      },
      "source": [
        "# ID = 1-kVwdAU3ir86PU9ouwblnvcK7pEQ1yyn\n",
        "# FILENAME = iam-line-level.zip\n",
        "!wget -q --load-cookies /tmp/cookies.txt \"https://docs.google.com/uc?export=download&confirm=$(wget --quiet --save-cookies /tmp/cookies.txt --keep-session-cookies --no-check-certificate 'https://docs.google.com/uc?export=download&id=1-kVwdAU3ir86PU9ouwblnvcK7pEQ1yyn' -O- | sed -rn 's/.*confirm=([0-9A-Za-z_]+).*/\\1\\n/p')&id=1-kVwdAU3ir86PU9ouwblnvcK7pEQ1yyn\" -O iam-line-level.zip && rm -rf /tmp/cookies.txt\n",
        "!unzip -q iam-line-level.zip -d iam\n",
        "!rm iam-line-level.zip\n",
        "!wget -q https://raw.githubusercontent.com/BYU-Handwriting-Lab/GettingStarted/master/data/char_set.json"
      ],
      "execution_count": 0,
      "outputs": []
    },
    {
      "cell_type": "markdown",
      "metadata": {
        "id": "yjGuO0pvohyd",
        "colab_type": "text"
      },
      "source": [
        "Make sure we have the *char_set.json* file and *iam/* directory."
      ]
    },
    {
      "cell_type": "code",
      "metadata": {
        "id": "zriCuQ4bogIf",
        "colab_type": "code",
        "colab": {
          "base_uri": "https://localhost:8080/",
          "height": 34
        },
        "outputId": "264083fa-a50b-4eed-c9c8-942bb2b77ee9"
      },
      "source": [
        "!ls"
      ],
      "execution_count": 3,
      "outputs": [
        {
          "output_type": "stream",
          "text": [
            "char_set.json  iam  sample_data\n"
          ],
          "name": "stdout"
        }
      ]
    },
    {
      "cell_type": "markdown",
      "metadata": {
        "id": "YbmL-5P7o0dl",
        "colab_type": "text"
      },
      "source": [
        "### Encoder/Decoder Class\n",
        "\n",
        "This class allows us to map between string labels and actual index tensors that\n",
        "represent a string."
      ]
    },
    {
      "cell_type": "code",
      "metadata": {
        "id": "glekAxVto7eU",
        "colab_type": "code",
        "colab": {}
      },
      "source": [
        "class Encoder():\n",
        "  def __init__(self, sequence_size=128):\n",
        "    with open('char_set.json') as file:\n",
        "      self.json = json.load(file)\n",
        "    \n",
        "    self.sequence_size = sequence_size\n",
        "\n",
        "  def remove_duplicates(self, idxs):\n",
        "    new_idxs = []\n",
        "\n",
        "    for i in range(len(idxs)):\n",
        "      if i + 1 == len(idxs) or idxs[i] != idxs[i + 1]:\n",
        "        new_idxs.append(idxs[i])\n",
        "    \n",
        "    return new_idxs\n",
        "  \n",
        "  def add_blanks(self, idxs):\n",
        "    new_idxs = []\n",
        "\n",
        "    for i in range(len(idxs)):\n",
        "      new_idxs.append(idxs[i])\n",
        "      if i + 1 != len(idxs) and idxs[i] == idxs[i + 1]:\n",
        "        new_idxs.append(0)\n",
        "    \n",
        "    return new_idxs\n",
        "  \n",
        "  def idx_to_char(self, idx):\n",
        "    if idx == 0:\n",
        "      return ''\n",
        "    else:\n",
        "      return self.json['idx_to_char'][str(int(idx))]\n",
        "  \n",
        "  def char_to_idx(self, char):\n",
        "    return int(self.json['char_to_idx'][char])\n",
        "  \n",
        "  def str_to_idxs(self, string):\n",
        "    idxs = []\n",
        "\n",
        "    zeros = np.zeros(self.sequence_size)\n",
        "\n",
        "    for char in string:\n",
        "      idxs.append(self.char_to_idx(char))\n",
        "\n",
        "    # Add blanks if CTC-Loss requires it...\n",
        "    # idxs = self.add_blanks(idxs)\n",
        "\n",
        "    idxs = np.concatenate((idxs, zeros))[:self.sequence_size]\n",
        "    \n",
        "    return idxs\n",
        "\n",
        "  def idxs_to_str(self, idxs, remove_duplicates=True):\n",
        "    string = ''\n",
        "\n",
        "    if remove_duplicates:\n",
        "      idxs = self.remove_duplicates(idxs)\n",
        "\n",
        "    for idx in idxs:\n",
        "      string += self.idx_to_char(idx)\n",
        "    \n",
        "    return string\n",
        "  \n",
        "  def str_to_idxs_batch(self, batch):\n",
        "    idxs = []\n",
        "\n",
        "    for string in batch:\n",
        "      idx = self.str_to_idxs(string)\n",
        "      idxs.append(idx)\n",
        "\n",
        "    return idxs\n",
        "  \n",
        "  def idxs_to_str_batch(self, batch, remove_duplicates=True):\n",
        "    strings = []\n",
        "\n",
        "    for idxs in batch:\n",
        "      strings.append(self.idxs_to_str(idxs, remove_duplicates=remove_duplicates))\n",
        "    \n",
        "    return strings"
      ],
      "execution_count": 0,
      "outputs": []
    },
    {
      "cell_type": "markdown",
      "metadata": {
        "id": "tGW546P3VCUG",
        "colab_type": "text"
      },
      "source": [
        "### Helper Functions\n",
        "\n",
        "A quick helper function that will display a few images for us when we display\n",
        "our results."
      ]
    },
    {
      "cell_type": "code",
      "metadata": {
        "id": "AimReczKVEdi",
        "colab_type": "code",
        "colab": {}
      },
      "source": [
        "def show_imgs(x, new_fig=True, figsize=(16,16)):\n",
        "    grid = utils.make_grid(x.detach().cpu(), nrow=8, normalize=True, pad_value=0.3)\n",
        "    grid = grid.transpose(0,2).transpose(0,1) # channels as last dimension\n",
        "    if new_fig:\n",
        "        plt.figure(figsize=figsize)\n",
        "    plt.imshow(grid.numpy())\n",
        "\n",
        "def word_lengths_tensor(words):\n",
        "  lengths = []\n",
        "\n",
        "  if type(words) == str:\n",
        "    length = len(word)\n",
        "    if length > 16:\n",
        "      length = 16\n",
        "    lengths.append(length)\n",
        "    return torch.tensor(lengths)\n",
        "  else:\n",
        "    for word in words:\n",
        "      length = len(word)\n",
        "      if length > 16:\n",
        "        length = 16\n",
        "      lengths.append(length)\n",
        "    return torch.tensor(lengths)"
      ],
      "execution_count": 0,
      "outputs": []
    },
    {
      "cell_type": "markdown",
      "metadata": {
        "id": "3c2gUImtzX5a",
        "colab_type": "text"
      },
      "source": [
        "### Dataset\n",
        "\n",
        "To create a dataset in Pytorch, we extend the *Dataset* class and implement the\n",
        "*\\_\\_getitem\\_\\_* and *\\_\\_len\\_\\_* methods. We also use a couple other\n",
        "methods to resize the image and transform it to a tensor."
      ]
    },
    {
      "cell_type": "code",
      "metadata": {
        "id": "yax5F_YZyvii",
        "colab_type": "code",
        "colab": {}
      },
      "source": [
        "class IamDataset(Dataset):\n",
        "  def __init__(self, desired_size=(64, 1024), total_imgs=None):\n",
        "    self.img_path = '/content/iam/images/'\n",
        "    labels_path = '/content/iam/labels.csv'\n",
        "\n",
        "    if not os.path.exists(labels_path) or not os.path.exists(self.img_path):\n",
        "      raise Exception('Iam dataset does not exist in ' + labels_path)\n",
        "\n",
        "    self.desired_size = desired_size\n",
        "    self.df = pd.read_csv('/content/iam/labels.csv', header=None, sep='\\t', names=['word', 'transcription'], quoting=csv.QUOTE_NONE)\n",
        "    if total_imgs != None:\n",
        "      self.df = df[:total_imgs]\n",
        "\n",
        "    self.encoder = Encoder(sequence_size=128)\n",
        "\n",
        "  def resize(self, img, desired_size):\n",
        "    img_size = np.array(img).shape\n",
        "\n",
        "    img_ratio = img_size[0] / img_size[1]\n",
        "    desired_ratio = desired_size[0] / desired_size[1]\n",
        "\n",
        "    if img_ratio >= desired_ratio:\n",
        "      # Solve by height\n",
        "      new_height = desired_size[0]\n",
        "      new_width = int(desired_size[0] // img_ratio)\n",
        "    else:\n",
        "      # Solve by width\n",
        "      new_height = int(desired_size[1] * img_ratio)\n",
        "      new_width = desired_size[1]\n",
        "\n",
        "    img = np.array(img.resize((new_width, new_height)))\n",
        "\n",
        "    border_top = desired_size[0] - new_height\n",
        "    border_right = desired_size[1] - new_width\n",
        "\n",
        "    img = np.pad(img, [(border_top, 0), (0, border_right)], mode='constant', constant_values=255)\n",
        "\n",
        "    return img\n",
        "\n",
        "  def tensor_image(self, path):\n",
        "    img = Image.open(path + '.png')\n",
        "    img = self.resize(img, self.desired_size)\n",
        "    x = transforms.functional.to_tensor(img)\n",
        "\n",
        "    return x\n",
        "\n",
        "  def __getitem__(self, index):\n",
        "    img = self.tensor_image(self.img_path + self.df['word'][index])\n",
        "\n",
        "    return img, self.df['transcription'][index]\n",
        "\n",
        "  def __len__(self):\n",
        "    return len(self.df)"
      ],
      "execution_count": 0,
      "outputs": []
    },
    {
      "cell_type": "markdown",
      "metadata": {
        "id": "1XoW84HBrSIk",
        "colab_type": "text"
      },
      "source": [
        "Check to make sure our dataset is giving us what we expect"
      ]
    },
    {
      "cell_type": "code",
      "metadata": {
        "id": "Ve8nhaYwp9RN",
        "colab_type": "code",
        "colab": {
          "base_uri": "https://localhost:8080/",
          "height": 124
        },
        "outputId": "12bb05c2-1d56-4bb3-a70f-1f3b131a3aaf"
      },
      "source": [
        "dataset = IamDataset()\n",
        "img, label = dataset[0]\n",
        "\n",
        "print('Tensor Shape:', img.shape)\n",
        "print('Label:', label)\n",
        "imshow(img.squeeze(), cmap='gray')"
      ],
      "execution_count": 7,
      "outputs": [
        {
          "output_type": "stream",
          "text": [
            "Tensor Shape: torch.Size([1, 64, 1024])\n",
            "Label: A MOVE to stop Mr. Gaitskell from\n"
          ],
          "name": "stdout"
        },
        {
          "output_type": "execute_result",
          "data": {
            "text/plain": [
              "<matplotlib.image.AxesImage at 0x7fa389231438>"
            ]
          },
          "metadata": {
            "tags": []
          },
          "execution_count": 7
        },
        {
          "output_type": "display_data",
          "data": {
            "image/png": "[encoded data removed]",
            "text/plain": [
              "<Figure size 432x288 with 1 Axes>"
            ]
          },
          "metadata": {
            "tags": [],
            "needs_background": "light"
          }
        }
      ]
    },
    {
      "cell_type": "markdown",
      "metadata": {
        "id": "PDWlD4u6zSJM",
        "colab_type": "text"
      },
      "source": [
        "### Handwriting Recognition Model\n",
        "\n",
        "We follow the architecture given by [Bluche](http://ieeexplore.ieee.org/document/8270042/).\n",
        "\n"
      ]
    },
    {
      "cell_type": "code",
      "metadata": {
        "id": "MtSsLqoSDgvi",
        "colab_type": "code",
        "colab": {
          "base_uri": "https://localhost:8080/",
          "height": 102
        },
        "outputId": "c3c02159-78e5-4fb4-9d58-31bea5160aff"
      },
      "source": [
        "torch.tensor([[[1, 1], [1, 1]], [[1, 1], [1, 1]]]) * torch.tensor([[[.5, .3], [.2, .1]], [[.5, .3], [.2, .1]]])"
      ],
      "execution_count": 8,
      "outputs": [
        {
          "output_type": "execute_result",
          "data": {
            "text/plain": [
              "tensor([[[0.5000, 0.3000],\n",
              "         [0.2000, 0.1000]],\n",
              "\n",
              "        [[0.5000, 0.3000],\n",
              "         [0.2000, 0.1000]]])"
            ]
          },
          "metadata": {
            "tags": []
          },
          "execution_count": 8
        }
      ]
    },
    {
      "cell_type": "code",
      "metadata": {
        "id": "88CREAiPBvEk",
        "colab_type": "code",
        "colab": {}
      },
      "source": [
        "class GatedConv2d(nn.Conv2d):\n",
        "  def __init__(self, in_channels, out_channels, kernel_size, stride, padding, **kwargs):\n",
        "    super(GatedConv2d, self).__init__(in_channels, out_channels, kernel_size, stride, padding, **kwargs)\n",
        "    self.in_channels = in_channels\n",
        "    self.out_channels = out_channels\n",
        "\n",
        "    self.gated_conv = nn.Conv2d(out_channels, out_channels, kernel_size, stride, padding)\n",
        "    self.sigmoid = nn.Sigmoid()\n",
        "\n",
        "  def forward(self, x, activation=F.tanh):\n",
        "    out = super(GatedConv2d, self).forward(x)\n",
        "    out = activation(out)\n",
        "    gated_out = self.gated_conv(out)\n",
        "    gated_out = self.sigmoid(out)\n",
        "\n",
        "    return out * gated_out"
      ],
      "execution_count": 0,
      "outputs": []
    },
    {
      "cell_type": "code",
      "metadata": {
        "id": "f2-N6mmjytK2",
        "colab_type": "code",
        "colab": {}
      },
      "source": [
        "class Recognizer(nn.Module):\n",
        "  def __init__(self, vocabulary_size=197, vertical_dim=64):\n",
        "    super(Recognizer, self).__init__()\n",
        "\n",
        "    self.hidden_size = 256\n",
        "    self.num_layers = 10\n",
        "\n",
        "    # Encoder\n",
        "    self.conv1 = nn.Sequential(nn.Conv2d(1, 8, 3, 2, 1), nn.Tanh())\n",
        "    self.conv2 = nn.Sequential(GatedConv2d(8, 16, 3, 1, 1))\n",
        "    self.conv3 = nn.Sequential(GatedConv2d(16, 32, 3, 2, 1))\n",
        "    self.conv4 = nn.Sequential(GatedConv2d(32, 64, 3, 1, 1))\n",
        "    self.conv5 = nn.Sequential(nn.Conv2d(64, 128, 3, 2, 1), nn.Tanh())\n",
        "\n",
        "    # Maxpool\n",
        "    self.mp = nn.MaxPool2d((vertical_dim // 8, 1))\n",
        "\n",
        "    # Decoder\n",
        "    self.gru1 = nn.GRU(128, self.hidden_size, self.num_layers, bidirectional=True, batch_first=True)\n",
        "    self.fc1 = nn.Sequential(nn.Linear(self.hidden_size * 2, 128), nn.Tanh())\n",
        "    self.gru2 = nn.GRU(128, self.hidden_size, self.num_layers, bidirectional=True, batch_first=True)\n",
        "    self.fc2 = nn.Linear(self.hidden_size * 2, 197)\n",
        "    self.softmax = nn.LogSoftmax(dim=1)\n",
        "\n",
        "  def init_hidden(self, batch_size):\n",
        "    return torch.zeros(self.num_layers * 2, batch_size, self.hidden_size)\n",
        "\n",
        "  # Input -> (Batch, 1, 128, 256)\n",
        "  def forward(self, x):\n",
        "    # Encoder\n",
        "    out = self.conv1(x)\n",
        "    out = self.conv2(out)\n",
        "    out = self.conv3(out)\n",
        "    out = self.conv4(out)\n",
        "    out = self.conv5(out)\n",
        "\n",
        "    # Max Pooling across vertical dimension\n",
        "    out = self.mp(out)\n",
        "\n",
        "    # Decoder\n",
        "    out = out.squeeze(2)\n",
        "\n",
        "    # Permute so that our second parameter contains sequential information (width)\n",
        "    out = out.permute(0, 2, 1) \n",
        "\n",
        "    out, _ = self.gru1(out)\n",
        "    out = self.fc1(out)\n",
        "    out, _ = self.gru2(out)\n",
        "    out = self.fc2(out)\n",
        "    out = self.softmax(out)\n",
        "\n",
        "    # Change shape so that we can pass directly to CTC-Loss\n",
        "    out = out.permute(2, 0, 1)\n",
        "\n",
        "    return out"
      ],
      "execution_count": 0,
      "outputs": []
    },
    {
      "cell_type": "markdown",
      "metadata": {
        "id": "DU990O6awnDT",
        "colab_type": "text"
      },
      "source": [
        "Make sure our model works with one image from the dataset.\n",
        "\n",
        "Create our needed dataset, model, and encoder objects, and reshape the image\n",
        "tensor as necessary."
      ]
    },
    {
      "cell_type": "code",
      "metadata": {
        "id": "VT-6b6xAr9Bh",
        "colab_type": "code",
        "colab": {
          "base_uri": "https://localhost:8080/",
          "height": 34
        },
        "outputId": "afc40261-69d9-4e1d-9311-420633d8dc29"
      },
      "source": [
        "dataset = IamDataset()\n",
        "model = Recognizer()\n",
        "encoder = Encoder(sequence_size=128)\n",
        "img, label = dataset[0]\n",
        "img = img.unsqueeze(0) # Expand the dimension at 0 because our model expects data to be given in batches\n",
        "img.shape"
      ],
      "execution_count": 94,
      "outputs": [
        {
          "output_type": "execute_result",
          "data": {
            "text/plain": [
              "torch.Size([1, 1, 64, 1024])"
            ]
          },
          "metadata": {
            "tags": []
          },
          "execution_count": 94
        }
      ]
    },
    {
      "cell_type": "markdown",
      "metadata": {
        "id": "Zk3gebYww14n",
        "colab_type": "text"
      },
      "source": [
        "Send one image from the dataset through the model."
      ]
    },
    {
      "cell_type": "code",
      "metadata": {
        "id": "2o33Axl6X0X0",
        "colab_type": "code",
        "outputId": "ae347e6e-ecfc-4a04-e800-a83f6ed27849",
        "colab": {
          "base_uri": "https://localhost:8080/",
          "height": 34
        }
      },
      "source": [
        "preds = model(img).permute(1, 0, 2)\n",
        "preds.shape"
      ],
      "execution_count": 86,
      "outputs": [
        {
          "output_type": "execute_result",
          "data": {
            "text/plain": [
              "torch.Size([1, 197, 128])"
            ]
          },
          "metadata": {
            "tags": []
          },
          "execution_count": 86
        }
      ]
    },
    {
      "cell_type": "markdown",
      "metadata": {
        "id": "DHNxAk22w6mG",
        "colab_type": "text"
      },
      "source": [
        "Decode the output of the model. The model isn't trained so our prediction\n",
        "will be garbage."
      ]
    },
    {
      "cell_type": "code",
      "metadata": {
        "id": "-4jaPXv_sZ8y",
        "colab_type": "code",
        "colab": {
          "base_uri": "https://localhost:8080/",
          "height": 107
        },
        "outputId": "d802aebd-16b9-421e-d14b-d26c880766f0"
      },
      "source": [
        "label_prediction = encoder.idxs_to_str_batch(preds.argmax(dim=2))\n",
        "\n",
        "imshow(img.squeeze(), cmap='gray')\n",
        "plt.pause(.1)\n",
        "\n",
        "print('Prediction:', label_prediction)\n",
        "print('Target:', label)"
      ],
      "execution_count": 80,
      "outputs": [
        {
          "output_type": "display_data",
          "data": {
            "image/png": "[encoded data removed]",
            "text/plain": [
              "<Figure size 432x288 with 1 Axes>"
            ]
          },
          "metadata": {
            "tags": [],
            "needs_background": "light"
          }
        },
        {
          "output_type": "stream",
          "text": [
            "Prediction: ['ié\"oï¬ ïîïïÉï ï´ïX Këïéï! ïïë´·ïîïïéïæïèïêï\"îï¾´ïéëîïîïìïMï¾élïçïìïï3ïï!%ïènïÉïï$ëéïÀ$êëïº? pïTîïïîïêìïìïZëïïï#ï\"!']\n",
            "Target: A MOVE to stop Mr. Gaitskell from\n"
          ],
          "name": "stdout"
        }
      ]
    },
    {
      "cell_type": "markdown",
      "metadata": {
        "id": "6GbeMhxKzcyC",
        "colab_type": "text"
      },
      "source": [
        "### Training\n",
        "\n",
        "Train the handwriting recognition model. Here we train for 200 epochs, with a\n",
        "batch size of 100. Handwriting recognition models are trained using CTC-Loss\n",
        "which works well with sequential information."
      ]
    },
    {
      "cell_type": "code",
      "metadata": {
        "id": "cgU8u-EtzihY",
        "colab_type": "code",
        "colab": {}
      },
      "source": [
        "def train():\n",
        "  try:\n",
        "    EPOCHS = 100\n",
        "    BATCH_SIZE = 64\n",
        "\n",
        "    dataset = IamDataset(desired_size=(64, 1024))\n",
        "    train_dataset, val_dataset = torch.utils.data.random_split(dataset, [int(.8 * len(dataset)) + 1, int(.2 * len(dataset))])\n",
        "\n",
        "    train_loader = DataLoader(train_dataset, batch_size=BATCH_SIZE, shuffle=True, num_workers=4)\n",
        "    val_loader = DataLoader(val_dataset, batch_size=BATCH_SIZE, shuffle=True, num_workers=4)\n",
        "\n",
        "    recognizer = Recognizer().cuda()\n",
        "    encoder = Encoder(sequence_size=128)\n",
        "    optimizer = optim.Adam(recognizer.parameters(), lr=1e-3)\n",
        "    objective = nn.CTCLoss(blank=0, reduction='none', zero_infinity=True)\n",
        "\n",
        "    train_losses = []\n",
        "    val_losses = []\n",
        "\n",
        "    for epoch in range(EPOCHS):\n",
        "      # Train Loop\n",
        "      loop = tqdm(total=len(train_loader), position=0, leave=True)\n",
        "      train_loss_single = []\n",
        "      for batch_num, (imgs, words) in enumerate(train_loader):\n",
        "        batch_size = imgs.shape[0]\n",
        "        imgs, labels = imgs.cuda(), torch.tensor(encoder.str_to_idxs_batch(words)).cuda()\n",
        "\n",
        "        word_labels = labels.squeeze().long()\n",
        "        input_lengths = torch.full((batch_size,), 128, dtype=torch.long) # (BATCH_SIZE) -> Sequence_Length\n",
        "        target_lengths = word_lengths_tensor(words)\n",
        "\n",
        "        preds = recognizer(imgs)\n",
        "\n",
        "        loss = objective(preds, word_labels, input_lengths, target_lengths)\n",
        "        loss = torch.mean(loss)\n",
        "\n",
        "        optimizer.zero_grad()\n",
        "        loss.backward()\n",
        "        optimizer.step()\n",
        "\n",
        "        train_loss_single.append(loss.item())\n",
        "        loop.set_description('Train      - Epoch: {}, Loss: {:.4f}, AvgEpochLoss: {:.4f}'.format(epoch, loss.item(), np.mean(train_loss_single)))\n",
        "        loop.update(1)\n",
        "\n",
        "      train_losses.append(np.mean(train_loss_single))\n",
        "      loop.close()\n",
        "\n",
        "      gc.collect()\n",
        "\n",
        "      val_loss_single = []\n",
        "      # Validation Loop\n",
        "      val_loop = tqdm(total=len(val_loader), position=0, leave=True)\n",
        "      for val_batch_num, (val_imgs, val_words) in enumerate(val_loader):\n",
        "        val_batch_size = val_imgs.shape[0]\n",
        "        val_imgs, val_labels = val_imgs.cuda(), torch.tensor(encoder.str_to_idxs_batch(val_words)).cuda()\n",
        "\n",
        "        val_word_labels = val_labels.squeeze().long()\n",
        "        val_input_lengths = torch.full((val_batch_size,), 128, dtype=torch.long)\n",
        "        val_target_lengths = word_lengths_tensor(val_words)\n",
        "\n",
        "        val_preds = recognizer(val_imgs)\n",
        "\n",
        "        val_loss = objective(val_preds, val_word_labels, val_input_lengths, val_target_lengths)\n",
        "        val_loss = torch.mean(val_loss)\n",
        "\n",
        "        val_loss_single.append(val_loss.item())\n",
        "        val_loop.set_description('Validation - Epoch: {}, Loss: {:.4f}, AvgEpochLoss: {:.4f}'.format(epoch, val_loss.item(), np.mean(val_loss_single)))\n",
        "        val_loop.update(1)\n",
        "\n",
        "      val_losses.append(np.mean(val_loss_single))\n",
        "      val_loop.close()\n",
        "    \n",
        "  except:\n",
        "    __ITB__()\n",
        "    gc.collect()\n",
        "  finally:\n",
        "    return recognizer, train_losses, val_losses"
      ],
      "execution_count": 0,
      "outputs": []
    },
    {
      "cell_type": "code",
      "metadata": {
        "id": "e2HBEMDHayg6",
        "colab_type": "code",
        "colab": {}
      },
      "source": [
        "recognizer, train_losses, val_losses = train()"
      ],
      "execution_count": 0,
      "outputs": []
    },
    {
      "cell_type": "markdown",
      "metadata": {
        "id": "UWGxxjR74DgQ",
        "colab_type": "text"
      },
      "source": [
        "Save the weights to our model if desired."
      ]
    },
    {
      "cell_type": "code",
      "metadata": {
        "id": "ZFfG4KXkfRfm",
        "colab_type": "code",
        "colab": {}
      },
      "source": [
        "torch.save(recognizer.state_dict(), 'recognizer.model')"
      ],
      "execution_count": 0,
      "outputs": []
    },
    {
      "cell_type": "markdown",
      "metadata": {
        "id": "a0tviNtNzgVu",
        "colab_type": "text"
      },
      "source": [
        "### Results\n",
        "\n",
        "Display the loss curve of the model over time."
      ]
    },
    {
      "cell_type": "code",
      "metadata": {
        "id": "7OLHXS_qZWCK",
        "colab_type": "code",
        "outputId": "e3638e93-07e9-43fb-c56a-f448543f7668",
        "colab": {
          "base_uri": "https://localhost:8080/",
          "height": 295
        }
      },
      "source": [
        "# Plot the Loss\n",
        "tl_len = len(train_losses)\n",
        "vl_len = len(val_losses)\n",
        "y, x = val_losses, range(tl_len // vl_len, tl_len + 1, tl_len // vl_len)\n",
        "plt.title('Loss')\n",
        "plt.xlabel('Batches')\n",
        "plt.ylabel('Loss')\n",
        "plt.plot(train_losses, label='train')\n",
        "plt.plot(x, y, label='val')\n",
        "plt.legend()\n",
        "plt.show()"
      ],
      "execution_count": 70,
      "outputs": [
        {
          "output_type": "display_data",
          "data": {
            "image/png": "[encoded data removed]",
            "text/plain": [
              "<Figure size 432x288 with 1 Axes>"
            ]
          },
          "metadata": {
            "tags": [],
            "needs_background": "light"
          }
        }
      ]
    }
  ]
}