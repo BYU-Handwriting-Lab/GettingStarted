{
  "nbformat": 4,
  "nbformat_minor": 0,
  "metadata": {
    "colab": {
      "name": "notebook.ipynb",
      "provenance": [],
      "include_colab_link": true
    },
    "kernelspec": {
      "name": "python3",
      "display_name": "Python 3"
    },
    "accelerator": "GPU"
  },
  "cells": [
    {
      "cell_type": "markdown",
      "metadata": {
        "id": "view-in-github",
        "colab_type": "text"
      },
      "source": [
        "<a href=\"https://colab.research.google.com/github/BYU-Handwriting-Lab/GettingStarted/blob/master/notebooks/handwriting-recognition-pytorch.ipynb\" target=\"_parent\"><img src=\"https://colab.research.google.com/assets/colab-badge.svg\" alt=\"Open In Colab\"/></a>"
      ]
    },
    {
      "cell_type": "markdown",
      "metadata": {
        "id": "yNcGj5mhxUS3",
        "colab_type": "text"
      },
      "source": [
        "# Handwriting Recognition - Pytorch\n",
        "\n",
        "This notebook contains code to create a deep learning handwriting recognition\n",
        "model in Pytorch. The model is for offline handwritten text using\n",
        "line-level segmentations. It is an implementation of the paper,\n",
        "*Are Multidimensional Recurrent Layers Really Necessary for Handwritten Text Recognition?* as\n",
        "recorded in [Puigcerver](http://www.jpuigcerver.net/pubs/jpuigcerver_icdar2017.pdf)."
      ]
    },
    {
      "cell_type": "markdown",
      "metadata": {
        "id": "N9G86zuMzPpX",
        "colab_type": "text"
      },
      "source": [
        "### Imports"
      ]
    },
    {
      "cell_type": "code",
      "metadata": {
        "id": "Qb0qJGHWy5ty",
        "colab_type": "code",
        "colab": {}
      },
      "source": [
        "# Pytorch\n",
        "import torch\n",
        "import torch.nn as nn\n",
        "import torch.nn.functional as F\n",
        "from torch.nn.parameter import Parameter\n",
        "import torch.optim as optim\n",
        "import torchvision\n",
        "from torch.utils.data import Dataset, DataLoader\n",
        "from torchvision import transforms, utils, datasets\n",
        "\n",
        "# Make sure we are using a GPU on Colab\n",
        "assert torch.cuda.is_available(), \"Request a GPU from Runtime > Change Runtime\"\n",
        "\n",
        "# Data Structures\n",
        "import numpy as np\n",
        "import pandas as pd\n",
        "import cv2\n",
        "import csv\n",
        "import json\n",
        "\n",
        "# Python\n",
        "import os\n",
        "import time\n",
        "import tarfile\n",
        "import gzip\n",
        "import gc\n",
        "\n",
        "# Image/Plotting\n",
        "import matplotlib.pyplot as plt\n",
        "from matplotlib.pyplot import imshow\n",
        "from PIL import Image, ImageOps\n",
        "from tqdm import tqdm\n",
        "\n",
        "# Colab (We can use this if we want to import files from Google Drive)\n",
        "# from google.colab import drive\n",
        "# drive.mount('/content/drive')\n",
        "\n",
        "# Debugging\n",
        "import pdb\n",
        "from IPython.core.ultratb import AutoFormattedTB\n",
        "__ITB__ = AutoFormattedTB(mode = 'Verbose',color_scheme='LightBg', tb_offset = 1)"
      ],
      "execution_count": 0,
      "outputs": []
    },
    {
      "cell_type": "markdown",
      "metadata": {
        "id": "AKHbx1XLoN8e",
        "colab_type": "text"
      },
      "source": [
        "### Download the Dataset\n",
        "\n",
        "We will be using a very common handwriting dataset called [IAM](http://www.fki.inf.unibe.ch/databases/iam-handwriting-database).\n",
        "\n",
        "Download and unzip the dataset from the BYU-Handwriting-Lab Google Drive (courtesy of a clever wget command described [here](https://medium.com/@acpanjan/download-google-drive-files-using-wget-3c2c025a8b99)). In many\n",
        "instances, we would probably make use of the google.drive API that allows\n",
        "us to mount our Google drive here in Colab; however, we use this method\n",
        "because it doesn't require us to authenticate.\n",
        "\n",
        "A char_set.json file is also downloaded which contains a mapping between\n",
        "characters and indices."
      ]
    },
    {
      "cell_type": "code",
      "metadata": {
        "id": "WOJp_dicncRZ",
        "colab_type": "code",
        "colab": {}
      },
      "source": [
        "# ID = 1-kVwdAU3ir86PU9ouwblnvcK7pEQ1yyn\n",
        "# FILENAME = iam-line-level.zip\n",
        "!wget -q --load-cookies /tmp/cookies.txt \"https://docs.google.com/uc?export=download&confirm=$(wget --quiet --save-cookies /tmp/cookies.txt --keep-session-cookies --no-check-certificate 'https://docs.google.com/uc?export=download&id=1-kVwdAU3ir86PU9ouwblnvcK7pEQ1yyn' -O- | sed -rn 's/.*confirm=([0-9A-Za-z_]+).*/\\1\\n/p')&id=1-kVwdAU3ir86PU9ouwblnvcK7pEQ1yyn\" -O iam-line-level.zip && rm -rf /tmp/cookies.txt\n",
        "!unzip -q iam-line-level.zip -d iam\n",
        "!rm iam-line-level.zip\n",
        "!wget -q https://raw.githubusercontent.com/BYU-Handwriting-Lab/GettingStarted/master/data/char_set.json"
      ],
      "execution_count": 0,
      "outputs": []
    },
    {
      "cell_type": "markdown",
      "metadata": {
        "id": "yjGuO0pvohyd",
        "colab_type": "text"
      },
      "source": [
        "Make sure we have the *char_set.json* file and *iam/* directory."
      ]
    },
    {
      "cell_type": "code",
      "metadata": {
        "id": "zriCuQ4bogIf",
        "colab_type": "code",
        "outputId": "404a2eba-8475-40c9-e551-2d12bdd84198",
        "colab": {
          "base_uri": "https://localhost:8080/",
          "height": 34
        }
      },
      "source": [
        "!ls"
      ],
      "execution_count": 4,
      "outputs": [
        {
          "output_type": "stream",
          "text": [
            "char_set.json  iam  sample_data\n"
          ],
          "name": "stdout"
        }
      ]
    },
    {
      "cell_type": "code",
      "metadata": {
        "id": "O_qoxnCyH-Ig",
        "colab_type": "code",
        "colab": {
          "base_uri": "https://localhost:8080/",
          "height": 54
        },
        "outputId": "a6d3873b-972c-4d41-ad37-1c3df7078356"
      },
      "source": [
        "cat char_set.json"
      ],
      "execution_count": 200,
      "outputs": [
        {
          "output_type": "stream",
          "text": [
            "{\"idx_to_char\": {\"1\": \" \", \"2\": \"!\", \"3\": \"\\\"\", \"4\": \"#\", \"5\": \"$\", \"6\": \"%\", \"7\": \"&\", \"8\": \"'\", \"9\": \"(\", \"10\": \")\", \"11\": \"*\", \"12\": \"+\", \"13\": \",\", \"14\": \"-\", \"15\": \".\", \"16\": \"/\", \"17\": \"0\", \"18\": \"1\", \"19\": \"2\", \"20\": \"3\", \"21\": \"4\", \"22\": \"5\", \"23\": \"6\", \"24\": \"7\", \"25\": \"8\", \"26\": \"9\", \"27\": \":\", \"28\": \";\", \"29\": \"=\", \"30\": \"?\", \"31\": \"A\", \"32\": \"B\", \"33\": \"C\", \"34\": \"D\", \"35\": \"E\", \"36\": \"F\", \"37\": \"G\", \"38\": \"H\", \"39\": \"I\", \"40\": \"J\", \"41\": \"K\", \"42\": \"L\", \"43\": \"M\", \"44\": \"N\", \"45\": \"O\", \"46\": \"P\", \"47\": \"Q\", \"48\": \"R\", \"49\": \"S\", \"50\": \"T\", \"51\": \"U\", \"52\": \"V\", \"53\": \"W\", \"54\": \"X\", \"55\": \"Y\", \"56\": \"Z\", \"57\": \"[\", \"58\": \"]\", \"59\": \"_\", \"60\": \"`\", \"61\": \"a\", \"62\": \"b\", \"63\": \"c\", \"64\": \"d\", \"65\": \"e\", \"66\": \"f\", \"67\": \"g\", \"68\": \"h\", \"69\": \"i\", \"70\": \"j\", \"71\": \"k\", \"72\": \"l\", \"73\": \"m\", \"74\": \"n\", \"75\": \"o\", \"76\": \"p\", \"77\": \"q\", \"78\": \"r\", \"79\": \"s\", \"80\": \"t\", \"81\": \"u\", \"82\": \"v\", \"83\": \"w\", \"84\": \"x\", \"85\": \"y\", \"86\": \"z\", \"87\": \"|\", \"88\": \"~\", \"89\": \"\\u00a3\", \"90\": \"\\u00a7\", \"91\": \"\\u00a8\", \"92\": \"\\u00ab\", \"93\": \"\\u00ac\", \"94\": \"\\u00ad\", \"95\": \"\\u00b0\", \"96\": \"\\u00b2\", \"97\": \"\\u00b4\", \"98\": \"\\u00b7\", \"99\": \"\\u00ba\", \"100\": \"\\u00bb\", \"101\": \"\\u00bc\", \"102\": \"\\u00bd\", \"103\": \"\\u00be\", \"104\": \"\\u00c0\", \"105\": \"\\u00c2\", \"106\": \"\\u00c4\", \"107\": \"\\u00c7\", \"108\": \"\\u00c8\", \"109\": \"\\u00c9\", \"110\": \"\\u00ca\", \"111\": \"\\u00d4\", \"112\": \"\\u00d6\", \"113\": \"\\u00dc\", \"114\": \"\\u00df\", \"115\": \"\\u00e0\", \"116\": \"\\u00e1\", \"117\": \"\\u00e2\", \"118\": \"\\u00e4\", \"119\": \"\\u00e6\", \"120\": \"\\u00e7\", \"121\": \"\\u00e8\", \"122\": \"\\u00e9\", \"123\": \"\\u00ea\", \"124\": \"\\u00eb\", \"125\": \"\\u00ec\", \"126\": \"\\u00ee\", \"127\": \"\\u00ef\", \"128\": \"\\u00f1\", \"129\": \"\\u00f2\", \"130\": \"\\u00f3\", \"131\": \"\\u00f4\", \"132\": \"\\u00f6\", \"133\": \"\\u00f8\", \"134\": \"\\u00f9\", \"135\": \"\\u00fa\", \"136\": \"\\u00fb\", \"137\": \"\\u00fc\", \"138\": \"\\u00ff\", \"139\": \"\\u0142\", \"140\": \"\\u0152\", \"141\": \"\\u0153\", \"142\": \"\\u0393\", \"143\": \"\\u0396\", \"144\": \"\\u03a4\", \"145\": \"\\u03ac\", \"146\": \"\\u03ae\", \"147\": \"\\u03b1\", \"148\": \"\\u03b4\", \"149\": \"\\u03b5\", \"150\": \"\\u03b7\", \"151\": \"\\u03b9\", \"152\": \"\\u03ba\", \"153\": \"\\u03bb\", \"154\": \"\\u03bc\", \"155\": \"\\u03bd\", \"156\": \"\\u03be\", \"157\": \"\\u03bf\", \"158\": \"\\u03c0\", \"159\": \"\\u03c1\", \"160\": \"\\u03c4\", \"161\": \"\\u03c5\", \"162\": \"\\u03c7\", \"163\": \"\\u03c8\", \"164\": \"\\u03c9\", \"165\": \"\\u03cc\", \"166\": \"\\u03ce\", \"167\": \"\\u0406\", \"168\": \"\\u2012\", \"169\": \"\\u2013\", \"170\": \"\\u2014\", \"171\": \"\\u2020\", \"172\": \"\\u2021\", \"173\": \"\\u2030\", \"174\": \"\\u2039\", \"175\": \"\\u203a\", \"176\": \"\\u2082\", \"177\": \"\\u20a4\", \"178\": \"\\u2114\", \"179\": \"\\u2153\", \"180\": \"\\u2154\", \"181\": \"\\u2155\", \"182\": \"\\u2156\", \"183\": \"\\u2157\", \"184\": \"\\u2158\", \"185\": \"\\u2159\", \"186\": \"\\u215a\", \"187\": \"\\u215b\", \"188\": \"\\u2206\", \"189\": \"\\u2207\", \"190\": \"\\u222b\", \"191\": \"\\u2260\", \"192\": \"\\u25a1\", \"193\": \"\\u2640\", \"194\": \"\\u2642\", \"195\": \"\\u2713\", \"196\": \"\\uff46\"}, \"char_to_idx\": {\"\\u203a\": 175, \"\\u2014\": 170, \"\\u25a1\": 192, \" \": 1, \"\\u00a3\": 89, \"$\": 5, \"\\u00a7\": 90, \"(\": 9, \"\\u00ab\": 92, \"\\u2206\": 188, \",\": 13, \"\\u03b1\": 147, \"0\": 17, \"\\u03b5\": 149, \"4\": 21, \"\\u00b7\": 98, \"\\u03b9\": 151, \"8\": 25, \"\\u00bb\": 100, \"\\u03bd\": 155, \"\\u03c1\": 159, \"\\u2640\": 193, \"\\u0142\": 139, \"\\u03c5\": 161, \"D\": 34, \"\\u00c7\": 107, \"\\u2260\": 191, \"\\u03c9\": 164, \"H\": 38, \"L\": 42, \"P\": 46, \"\\u0152\": 140, \"T\": 50, \"\\u2156\": 182, \"X\": 54, \"\\u215a\": 186, \"\\u00df\": 114, \"`\": 60, \"d\": 64, \"\\u00e7\": 120, \"h\": 68, \"\\u00eb\": 124, \"l\": 72, \"\\u00ef\": 127, \"p\": 76, \"\\u00f3\": 130, \"t\": 80, \"x\": 84, \"\\u00fb\": 136, \"|\": 87, \"\\u00ff\": 138, \"\\u2207\": 189, \"\\u2153\": 179, \"\\u2013\": 169, \"\\u0396\": 143, \"#\": 4, \"\\u20a4\": 177, \"'\": 8, \"\\u00a8\": 91, \"+\": 12, \"\\u00ac\": 93, \"/\": 16, \"\\u03ae\": 146, \"\\u00b0\": 95, \"3\": 20, \"\\u00b4\": 97, \"7\": 24, \";\": 28, \"\\u03ba\": 152, \"\\u00bc\": 101, \"?\": 30, \"\\u03be\": 156, \"\\u00c0\": 104, \"C\": 33, \"\\u00c4\": 106, \"G\": 37, \"\\u2020\": 171, \"\\u00c8\": 108, \"K\": 41, \"O\": 45, \"\\u03ce\": 166, \"S\": 49, \"\\u2155\": 181, \"\\u00d4\": 111, \"W\": 53, \"\\u2159\": 185, \"[\": 57, \"\\u00dc\": 113, \"_\": 59, \"\\u00e0\": 115, \"c\": 63, \"\\u00e4\": 118, \"g\": 67, \"\\u00e8\": 121, \"k\": 71, \"\\u00ec\": 125, \"o\": 75, \"s\": 79, \"\\u00f4\": 131, \"w\": 83, \"\\u00f8\": 133, \"\\u2021\": 172, \"\\u00fc\": 137, \"\\u2030\": 173, \"\\u0406\": 167, \"\\u0393\": 142, \"\\u2012\": 168, \"\\u2114\": 178, \"\\\"\": 3, \"&\": 7, \"*\": 11, \"\\u00ad\": 94, \".\": 15, \"2\": 19, \"\\u03b7\": 150, \"6\": 23, \"\\u03bb\": 153, \":\": 27, \"\\u00bd\": 102, \"\\u03bf\": 157, \"B\": 32, \"\\u03c7\": 162, \"F\": 36, \"\\u00c9\": 109, \"J\": 40, \"N\": 44, \"R\": 48, \"\\u2154\": 180, \"V\": 52, \"\\u2158\": 184, \"Z\": 56, \"\\u00e1\": 116, \"b\": 62, \"\\u2039\": 174, \"f\": 66, \"\\u00e9\": 122, \"j\": 70, \"n\": 74, \"\\u00f1\": 128, \"r\": 78, \"v\": 82, \"\\u00f9\": 134, \"z\": 86, \"~\": 88, \"\\u2082\": 176, \"\\u2713\": 195, \"\\u2642\": 194, \"!\": 2, \"%\": 6, \"\\u03a4\": 144, \")\": 10, \"\\uff46\": 196, \"-\": 14, \"\\u03ac\": 145, \"1\": 18, \"\\u00b2\": 96, \"5\": 22, \"\\u03b4\": 148, \"9\": 26, \"\\u00ba\": 99, \"=\": 29, \"\\u03bc\": 154, \"\\u00be\": 103, \"A\": 31, \"\\u03c0\": 158, \"\\u00c2\": 105, \"E\": 35, \"\\u03c4\": 160, \"I\": 39, \"\\u03c8\": 163, \"\\u00ca\": 110, \"M\": 43, \"\\u03cc\": 165, \"Q\": 47, \"\\u0153\": 141, \"U\": 51, \"\\u2157\": 183, \"\\u00d6\": 112, \"Y\": 55, \"\\u215b\": 187, \"]\": 58, \"a\": 61, \"\\u00e2\": 117, \"e\": 65, \"\\u00e6\": 119, \"i\": 69, \"\\u00ea\": 123, \"m\": 73, \"\\u00ee\": 126, \"q\": 77, \"\\u00f2\": 129, \"u\": 81, \"\\u00f6\": 132, \"y\": 85, \"\\u00fa\": 135, \"\\u222b\": 190}}\n"
          ],
          "name": "stdout"
        }
      ]
    },
    {
      "cell_type": "markdown",
      "metadata": {
        "id": "YbmL-5P7o0dl",
        "colab_type": "text"
      },
      "source": [
        "### Encoder/Decoder Class\n",
        "\n",
        "This class allows us to map between string labels and actual index tensors that\n",
        "represent a string."
      ]
    },
    {
      "cell_type": "code",
      "metadata": {
        "id": "glekAxVto7eU",
        "colab_type": "code",
        "colab": {}
      },
      "source": [
        "class Encoder():\n",
        "  def __init__(self, sequence_size=128):\n",
        "    with open('char_set.json') as file:\n",
        "      self.json = json.load(file)\n",
        "    \n",
        "    self.sequence_size = sequence_size\n",
        "\n",
        "  def remove_duplicates(self, idxs):\n",
        "    new_idxs = []\n",
        "\n",
        "    for i in range(len(idxs)):\n",
        "      if i + 1 == len(idxs) or idxs[i] != idxs[i + 1]:\n",
        "        new_idxs.append(idxs[i])\n",
        "    \n",
        "    return new_idxs\n",
        "  \n",
        "  def add_blanks(self, idxs):\n",
        "    new_idxs = []\n",
        "\n",
        "    for i in range(len(idxs)):\n",
        "      new_idxs.append(idxs[i])\n",
        "      if i + 1 != len(idxs) and idxs[i] == idxs[i + 1]:\n",
        "        new_idxs.append(0)\n",
        "    \n",
        "    return new_idxs\n",
        "  \n",
        "  def idx_to_char(self, idx):\n",
        "    if idx == 0:\n",
        "      return ''\n",
        "    else:\n",
        "      return self.json['idx_to_char'][str(int(idx))]\n",
        "  \n",
        "  def char_to_idx(self, char):\n",
        "    return int(self.json['char_to_idx'][char])\n",
        "  \n",
        "  def str_to_idxs(self, string):\n",
        "    idxs = []\n",
        "\n",
        "    zeros = np.zeros(self.sequence_size)\n",
        "\n",
        "    for char in string:\n",
        "      idxs.append(self.char_to_idx(char))\n",
        "\n",
        "    # Add blanks if CTC-Loss requires it...\n",
        "    # idxs = self.add_blanks(idxs)\n",
        "\n",
        "    idxs = np.concatenate((idxs, zeros))[:self.sequence_size]\n",
        "    \n",
        "    return idxs\n",
        "\n",
        "  def idxs_to_str(self, idxs, remove_duplicates=True):\n",
        "    string = ''\n",
        "\n",
        "    if remove_duplicates:\n",
        "      idxs = self.remove_duplicates(idxs)\n",
        "\n",
        "    for idx in idxs:\n",
        "      string += self.idx_to_char(idx)\n",
        "    \n",
        "    return string\n",
        "  \n",
        "  def str_to_idxs_batch(self, batch):\n",
        "    idxs = []\n",
        "\n",
        "    for string in batch:\n",
        "      idx = self.str_to_idxs(string)\n",
        "      idxs.append(idx)\n",
        "\n",
        "    return idxs\n",
        "  \n",
        "  def idxs_to_str_batch(self, batch, remove_duplicates=True):\n",
        "    strings = []\n",
        "\n",
        "    for idxs in batch:\n",
        "      strings.append(self.idxs_to_str(idxs, remove_duplicates=remove_duplicates))\n",
        "    \n",
        "    return strings"
      ],
      "execution_count": 0,
      "outputs": []
    },
    {
      "cell_type": "markdown",
      "metadata": {
        "id": "tGW546P3VCUG",
        "colab_type": "text"
      },
      "source": [
        "### Helper Functions\n",
        "\n",
        "A quick helper function that will display a few images for us when we display\n",
        "our results.\n",
        "\n",
        "The second will simply count the number of characters in a label (up to a max\n",
        "sequence size). We will use this when we calculate the loss for CTC in our\n",
        "training loop."
      ]
    },
    {
      "cell_type": "code",
      "metadata": {
        "id": "AimReczKVEdi",
        "colab_type": "code",
        "colab": {}
      },
      "source": [
        "def show_imgs(x, new_fig=True, figsize=(16,16)):\n",
        "    grid = utils.make_grid(x.detach().cpu(), nrow=8, normalize=True, pad_value=0.3)\n",
        "    grid = grid.transpose(0,2).transpose(0,1) # channels as last dimension\n",
        "    if new_fig:\n",
        "        plt.figure(figsize=figsize)\n",
        "    plt.imshow(grid.numpy())\n",
        "\n",
        "def word_lengths_tensor(words, sequence_size=128):\n",
        "  lengths = []\n",
        "\n",
        "  if type(words) == str:\n",
        "    length = len(word)\n",
        "    if length > sequence_size:\n",
        "      length = sequence_size\n",
        "    lengths.append(length)\n",
        "    return torch.tensor(lengths)\n",
        "  else:\n",
        "    for word in words:\n",
        "      length = len(word)\n",
        "      if length > sequence_size:\n",
        "        length = sequence_size\n",
        "      lengths.append(length)\n",
        "    return torch.tensor(lengths)"
      ],
      "execution_count": 0,
      "outputs": []
    },
    {
      "cell_type": "markdown",
      "metadata": {
        "id": "3c2gUImtzX5a",
        "colab_type": "text"
      },
      "source": [
        "### Dataset\n",
        "\n",
        "To create a dataset in Pytorch, we extend the *Dataset* class and implement the\n",
        "*\\_\\_getitem\\_\\_* and *\\_\\_len\\_\\_* methods. We also use a couple other\n",
        "methods to resize the image and transform it to a tensor."
      ]
    },
    {
      "cell_type": "code",
      "metadata": {
        "id": "yax5F_YZyvii",
        "colab_type": "code",
        "colab": {}
      },
      "source": [
        "class IamDataset(Dataset):\n",
        "  def __init__(self, desired_size=(64, 1024), total_imgs=None):\n",
        "    self.img_path = '/content/iam/images/'\n",
        "    labels_path = '/content/iam/labels.csv'\n",
        "\n",
        "    if not os.path.exists(labels_path) or not os.path.exists(self.img_path):\n",
        "      raise Exception('Iam dataset does not exist in ' + labels_path)\n",
        "\n",
        "    self.desired_size = desired_size\n",
        "    self.df = pd.read_csv('/content/iam/labels.csv', header=None, sep='\\t', names=['word', 'transcription'], quoting=csv.QUOTE_NONE)\n",
        "    if total_imgs != None:\n",
        "      self.df = self.df[:total_imgs]\n",
        "\n",
        "    self.encoder = Encoder(sequence_size=128)\n",
        "\n",
        "  def resize(self, img, desired_size):\n",
        "    img_size = np.array(img).shape\n",
        "\n",
        "    img_ratio = img_size[0] / img_size[1]\n",
        "    desired_ratio = desired_size[0] / desired_size[1]\n",
        "\n",
        "    if img_ratio >= desired_ratio:\n",
        "      # Solve by height\n",
        "      new_height = desired_size[0]\n",
        "      new_width = int(desired_size[0] // img_ratio)\n",
        "    else:\n",
        "      # Solve by width\n",
        "      new_height = int(desired_size[1] * img_ratio)\n",
        "      new_width = desired_size[1]\n",
        "\n",
        "    img = np.array(img.resize((new_width, new_height)))\n",
        "\n",
        "    border_top = desired_size[0] - new_height\n",
        "    border_right = desired_size[1] - new_width\n",
        "\n",
        "    img = np.pad(img, [(border_top, 0), (0, border_right)], mode='constant', constant_values=255)\n",
        "\n",
        "    return img\n",
        "\n",
        "  def tensor_image(self, path):\n",
        "    img = Image.open(path + '.png')\n",
        "    img = self.resize(img, self.desired_size)\n",
        "    x = transforms.functional.to_tensor(img)\n",
        "\n",
        "    return x\n",
        "\n",
        "  def __getitem__(self, index):\n",
        "    img = self.tensor_image(self.img_path + self.df['word'][index])\n",
        "\n",
        "    return img, self.df['transcription'][index]\n",
        "\n",
        "  def __len__(self):\n",
        "    return len(self.df)"
      ],
      "execution_count": 0,
      "outputs": []
    },
    {
      "cell_type": "markdown",
      "metadata": {
        "id": "1XoW84HBrSIk",
        "colab_type": "text"
      },
      "source": [
        "Check to make sure our dataset is giving us what we expect"
      ]
    },
    {
      "cell_type": "code",
      "metadata": {
        "id": "Ve8nhaYwp9RN",
        "colab_type": "code",
        "outputId": "19829a29-bfb6-4871-814b-794e666c396e",
        "colab": {
          "base_uri": "https://localhost:8080/",
          "height": 124
        }
      },
      "source": [
        "dataset = IamDataset()\n",
        "img, label = dataset[0]\n",
        "\n",
        "print('Tensor Shape:', img.shape)\n",
        "print('Label:', label)\n",
        "imshow(img.squeeze(), cmap='gray')"
      ],
      "execution_count": 8,
      "outputs": [
        {
          "output_type": "stream",
          "text": [
            "Tensor Shape: torch.Size([1, 64, 1024])\n",
            "Label: A MOVE to stop Mr. Gaitskell from\n"
          ],
          "name": "stdout"
        },
        {
          "output_type": "execute_result",
          "data": {
            "text/plain": [
              "<matplotlib.image.AxesImage at 0x7faf43121780>"
            ]
          },
          "metadata": {
            "tags": []
          },
          "execution_count": 8
        },
        {
          "output_type": "display_data",
          "data": {
            "image/png": "[encoded data removed]",
            "text/plain": [
              "<Figure size 432x288 with 1 Axes>"
            ]
          },
          "metadata": {
            "tags": [],
            "needs_background": "light"
          }
        }
      ]
    },
    {
      "cell_type": "markdown",
      "metadata": {
        "id": "PDWlD4u6zSJM",
        "colab_type": "text"
      },
      "source": [
        "### Handwriting Recognition Model\n",
        "\n",
        "We follow the architecture given by [Puigcerver](http://www.jpuigcerver.net/pubs/jpuigcerver_icdar2017.pdf).\n",
        "\n",
        "Diagram [reference](https://medium.com/@arthurflor23/handwritten-text-recognition-using-tensorflow-2-0-f4352b7afe16)\n",
        "\n",
        "![image.png](data:image/png;base64,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)"
      ]
    },
    {
      "cell_type": "code",
      "metadata": {
        "id": "f2-N6mmjytK2",
        "colab_type": "code",
        "colab": {}
      },
      "source": [
        "class Recognizer(nn.Module):\n",
        "  def __init__(self):\n",
        "    super(Recognizer, self).__init__()\n",
        "\n",
        "    self.conv1 = nn.Sequential(nn.Conv2d(1, 16, 3, 1, 1), nn.BatchNorm2d(16), nn.LeakyReLU())\n",
        "    self.mp1 = nn.MaxPool2d(2)\n",
        "    self.conv2 = nn.Sequential(nn.Conv2d(16, 32, 3, 1, 1), nn.BatchNorm2d(32), nn.LeakyReLU())\n",
        "    self.mp2 = nn.MaxPool2d(2)\n",
        "    self.conv3 = nn.Sequential(nn.Dropout(p=0.2), nn.Conv2d(32, 48, 3, 1, 1), nn.BatchNorm2d(48), nn.LeakyReLU())\n",
        "    self.mp3 = nn.MaxPool2d(2)\n",
        "    self.conv4 = nn.Sequential(nn.Dropout(p=0.2), nn.Conv2d(48, 64, 3, 1, 1), nn.BatchNorm2d(64), nn.LeakyReLU())\n",
        "    self.conv5 = nn.Sequential(nn.Dropout2d(p=0.2), nn.Conv2d(64, 80, 3, 1, 1), nn.BatchNorm2d(80), nn.LeakyReLU())\n",
        "\n",
        "    self.mp4 = nn.MaxPool2d((8, 1))\n",
        "\n",
        "    self.lstm1 = nn.Sequential(nn.Dropout2d(p=0.2), nn.LSTM(80, 128, 1, bidirectional=True, batch_first=True))\n",
        "    self.lstm2 = nn.Sequential(nn.Dropout2d(p=0.2), nn.LSTM(256, 128, 1, bidirectional=True, batch_first=True))\n",
        "    self.lstm3 = nn.Sequential(nn.Dropout2d(p=0.2), nn.LSTM(256, 128, 1, bidirectional=True, batch_first=True))\n",
        "    self.lstm4 = nn.Sequential(nn.Dropout2d(p=0.2), nn.LSTM(256, 128, 1, bidirectional=True, batch_first=True))\n",
        "\n",
        "    self.final = nn.Sequential(nn.Dropout2d(p=0.2), nn.Linear(256, 197))\n",
        "    self.softmax = nn.LogSoftmax(dim=2)\n",
        "\n",
        "  def forward(self, x):\n",
        "    # Encoder\n",
        "    out = self.conv1(x)\n",
        "    out = self.mp1(out)\n",
        "    out = self.conv2(out)\n",
        "    out = self.mp2(out)\n",
        "    out = self.conv3(out)\n",
        "    out = self.mp3(out)\n",
        "    out = self.conv4(out)\n",
        "    out = self.conv5(out)\n",
        "\n",
        "    out = self.mp4(out)\n",
        "    out = out.squeeze(2)\n",
        "    out = out.permute(0, 2, 1)\n",
        "\n",
        "    # Decoder\n",
        "    out, _ = self.lstm1(out)\n",
        "    out, _ = self.lstm2(out)\n",
        "    out, _ = self.lstm3(out)\n",
        "    out, _ = self.lstm4(out)\n",
        "\n",
        "    out = self.final(out)\n",
        "\n",
        "    out = self.softmax(out)\n",
        "\n",
        "    out = out.permute(1, 0, 2)\n",
        "\n",
        "    return out"
      ],
      "execution_count": 0,
      "outputs": []
    },
    {
      "cell_type": "markdown",
      "metadata": {
        "id": "73BWSnlEgjHf",
        "colab_type": "text"
      },
      "source": [
        "Run an image through our model just to make sure it works!"
      ]
    },
    {
      "cell_type": "code",
      "metadata": {
        "id": "wJ5ERKxAStT5",
        "colab_type": "code",
        "colab": {}
      },
      "source": [
        "model = Recognizer()\n",
        "encoder = Encoder(sequence_size=128)\n",
        "image, label = IamDataset()[0]"
      ],
      "execution_count": 0,
      "outputs": []
    },
    {
      "cell_type": "markdown",
      "metadata": {
        "id": "mFndT34ugo4V",
        "colab_type": "text"
      },
      "source": [
        "Notice the output shape of the model (Sequence Size, Batch Size, Num Classes).\n",
        "\n",
        "The model outputs tensors with this shape to easily pass to the CTC Loss\n",
        "function. To get it into a format that we can decode, we just need to reshape\n",
        "the output slightly (Batch Size, Sequence Size, Num Classes)."
      ]
    },
    {
      "cell_type": "code",
      "metadata": {
        "id": "LWP8iVNyP-nn",
        "colab_type": "code",
        "colab": {
          "base_uri": "https://localhost:8080/",
          "height": 34
        },
        "outputId": "d2ea0eff-49ab-430a-8318-5af9a434e15b"
      },
      "source": [
        "model = Recognizer()\n",
        "pred = model(image.unsqueeze(0))\n",
        "print(pred.shape)\n",
        "pred = pred.permute(1, 0, 2)\n",
        "print(pred.shape)"
      ],
      "execution_count": 309,
      "outputs": [
        {
          "output_type": "execute_result",
          "data": {
            "text/plain": [
              "torch.Size([128, 1, 197])"
            ]
          },
          "metadata": {
            "tags": []
          },
          "execution_count": 309
        }
      ]
    },
    {
      "cell_type": "code",
      "metadata": {
        "id": "t5h4A2G9SlK6",
        "colab_type": "code",
        "colab": {
          "base_uri": "https://localhost:8080/",
          "height": 124
        },
        "outputId": "bcd5c170-bc7c-4b55-d6d7-77ab1f3eb3e7"
      },
      "source": [
        "prediction = encoder.idxs_to_str_batch(pred.argmax(dim=2))[0]\n",
        "\n",
        "print('Prediction:', prediction)\n",
        "print('Target:', label)\n",
        "imshow(img.squeeze(), cmap='gray')"
      ],
      "execution_count": 284,
      "outputs": [
        {
          "output_type": "stream",
          "text": [
            "Prediction: fδ|δTδ|TδTδTδTδT|δTδ|T|δTδTδTδTδTδT|δT|δ|TδTδT|Tδ|TδTδT|δ\n",
            "Target: A MOVE to stop Mr. Gaitskell from\n"
          ],
          "name": "stdout"
        },
        {
          "output_type": "execute_result",
          "data": {
            "text/plain": [
              "<matplotlib.image.AxesImage at 0x7faf418fb7b8>"
            ]
          },
          "metadata": {
            "tags": []
          },
          "execution_count": 284
        },
        {
          "output_type": "display_data",
          "data": {
            "image/png": "[encoded data removed]",
            "text/plain": [
              "<Figure size 432x288 with 1 Axes>"
            ]
          },
          "metadata": {
            "tags": [],
            "needs_background": "light"
          }
        }
      ]
    },
    {
      "cell_type": "markdown",
      "metadata": {
        "id": "6GbeMhxKzcyC",
        "colab_type": "text"
      },
      "source": [
        "### Training\n",
        "\n",
        "Train the handwriting recognition model. Here we train for 200 epochs, with a\n",
        "batch size of 100. Handwriting recognition models are trained using CTC-Loss\n",
        "which works well with sequential information."
      ]
    },
    {
      "cell_type": "code",
      "metadata": {
        "id": "qyumWjIXU8u2",
        "colab_type": "code",
        "colab": {}
      },
      "source": [
        "def train():\n",
        "  NUM_EPOCHS = 100\n",
        "  BATCH_SIZE = 64\n",
        "  SEQUENCE_SIZE = 128\n",
        "\n",
        "  dataset = IamDataset()\n",
        "  train_dataset, val_dataset = torch.utils.data.random_split(dataset, [int(len(dataset) * .8), len(dataset) - int((len(dataset) * .8))])\n",
        "\n",
        "  train_loader = DataLoader(train_dataset, BATCH_SIZE, shuffle=True, num_workers=4)\n",
        "  val_loader = DataLoader(val_dataset, BATCH_SIZE, shuffle=True, num_workers=4)\n",
        "\n",
        "  model = Recognizer().cuda()\n",
        "  encoder = Encoder(sequence_size=SEQUENCE_SIZE)\n",
        "  objective = nn.CTCLoss(blank=0, reduction='none', zero_infinity=True)\n",
        "  optimizer = torch.optim.Adam(model.parameters(), lr=4e-4)\n",
        "\n",
        "  train_losses = []\n",
        "  val_losses = []\n",
        "\n",
        "  for epoch in range(NUM_EPOCHS):\n",
        "\n",
        "    train_epoch_loss = []\n",
        "    val_epoch_loss = []\n",
        "\n",
        "    # Train Loop\n",
        "    train_loop = tqdm(total=len(train_loader), position=0, leave=True)\n",
        "    model.train()\n",
        "    for batch_num, (imgs, words) in enumerate(train_loader):\n",
        "      batch_size = imgs.shape[0]\n",
        "\n",
        "      imgs, labels = imgs.cuda(), torch.tensor(encoder.str_to_idxs_batch(words))\n",
        "\n",
        "      preds = model(imgs)\n",
        "      input_lengths = torch.full(size=(batch_size,), fill_value=SEQUENCE_SIZE, dtype=torch.long)\n",
        "      label_lengths = word_lengths_tensor(words, sequence_size=SEQUENCE_SIZE)\n",
        "\n",
        "      loss = objective(preds, labels, input_lengths, label_lengths)\n",
        "      loss = torch.mean(loss)\n",
        "\n",
        "      optimizer.zero_grad()\n",
        "      loss.backward()\n",
        "      optimizer.step()\n",
        "\n",
        "      train_epoch_loss.append(loss.item())\n",
        "\n",
        "      train_loop.set_description('Train - Epoch: {}, Loss: {:.4}, AvgLoss: {:.4}'.format(epoch, loss.item(), np.mean(train_epoch_loss)))\n",
        "      train_loop.update(1)\n",
        "    \n",
        "    train_loop.close()\n",
        "\n",
        "    # Validation Loop\n",
        "    val_loop = tqdm(total=len(val_loader), position=0, leave=True)\n",
        "    model.eval()\n",
        "    for batch_num, (imgs, words) in enumerate(val_loader):\n",
        "      batch_size = imgs.shape[0]\n",
        "\n",
        "      imgs, labels = imgs.cuda(), torch.tensor(encoder.str_to_idxs_batch(words))\n",
        "\n",
        "      preds = model(imgs)\n",
        "      input_lengths = torch.full(size=(batch_size,), fill_value=SEQUENCE_SIZE, dtype=torch.long)\n",
        "      label_lengths = word_lengths_tensor(words, sequence_size=SEQUENCE_SIZE)\n",
        "\n",
        "      loss = objective(preds, labels, input_lengths, label_lengths)\n",
        "      loss = torch.mean(loss)\n",
        "\n",
        "      val_epoch_loss.append(loss.item())\n",
        "\n",
        "      val_loop.set_description('Val  - Epoch: {}, Loss: {:.4f}, AvgLoss: {:.4f}'.format(epoch, loss.item(), np.mean(val_epoch_loss)))\n",
        "      val_loop.update(1)\n",
        "\n",
        "    val_loop.close()\n",
        "\n",
        "    train_losses.append(np.mean(train_epoch_loss))\n",
        "    val_losses.append(np.mean(val_epoch_loss))\n",
        "  \n",
        "  return model, train_losses, val_losses"
      ],
      "execution_count": 0,
      "outputs": []
    },
    {
      "cell_type": "code",
      "metadata": {
        "id": "e2HBEMDHayg6",
        "colab_type": "code",
        "colab": {
          "base_uri": "https://localhost:8080/",
          "height": 1000
        },
        "outputId": "0b75f741-458d-4649-b745-9d1f49d0a60d"
      },
      "source": [
        "recognizer, train_losses, val_losses = train()"
      ],
      "execution_count": 319,
      "outputs": [
        {
          "output_type": "stream",
          "text": [
            "Train - Epoch: 0, Loss: 186.5, AvgLoss: 214.2: 100%|██████████| 142/142 [00:29<00:00,  4.82it/s]\n",
            "Val  - Epoch: 0, Loss: 140.1, AvgLoss: 141.0: 100%|██████████| 36/36 [00:06<00:00,  5.51it/s]\n",
            "Train - Epoch: 1, Loss: 181.5, AvgLoss: 182.6: 100%|██████████| 142/142 [00:29<00:00,  4.81it/s]\n",
            "Val  - Epoch: 1, Loss: 144.6, AvgLoss: 140.7: 100%|██████████| 36/36 [00:06<00:00,  5.45it/s]\n",
            "Train - Epoch: 2, Loss: 178.9, AvgLoss: 180.6: 100%|██████████| 142/142 [00:29<00:00,  4.80it/s]\n",
            "Val  - Epoch: 2, Loss: 140.4, AvgLoss: 139.9: 100%|██████████| 36/36 [00:06<00:00,  5.45it/s]\n",
            "Train - Epoch: 3, Loss: 174.8, AvgLoss: 178.7: 100%|██████████| 142/142 [00:29<00:00,  4.82it/s]\n",
            "Val  - Epoch: 3, Loss: 142.8, AvgLoss: 139.9: 100%|██████████| 36/36 [00:06<00:00,  5.29it/s]\n",
            "Train - Epoch: 4, Loss: 176.3, AvgLoss: 176.8: 100%|██████████| 142/142 [00:29<00:00,  4.82it/s]\n",
            "Val  - Epoch: 4, Loss: 150.2, AvgLoss: 139.9: 100%|██████████| 36/36 [00:06<00:00,  5.37it/s]\n",
            "Train - Epoch: 5, Loss: 176.7, AvgLoss: 175.1: 100%|██████████| 142/142 [00:29<00:00,  4.78it/s]\n",
            "Val  - Epoch: 5, Loss: 144.1, AvgLoss: 140.0: 100%|██████████| 36/36 [00:06<00:00,  5.43it/s]\n",
            "Train - Epoch: 6, Loss: 178.0, AvgLoss: 173.2: 100%|██████████| 142/142 [00:29<00:00,  4.80it/s]\n",
            "Val  - Epoch: 6, Loss: 140.4, AvgLoss: 139.8: 100%|██████████| 36/36 [00:06<00:00,  5.40it/s]\n",
            "Train - Epoch: 7, Loss: 173.0, AvgLoss: 171.4: 100%|██████████| 142/142 [00:29<00:00,  4.75it/s]\n",
            "Val  - Epoch: 7, Loss: 144.5, AvgLoss: 139.3: 100%|██████████| 36/36 [00:06<00:00,  5.42it/s]\n",
            "Train - Epoch: 8, Loss: 167.1, AvgLoss: 169.7: 100%|██████████| 142/142 [00:30<00:00,  4.73it/s]\n",
            "Val  - Epoch: 8, Loss: 137.1, AvgLoss: 139.9: 100%|██████████| 36/36 [00:06<00:00,  5.28it/s]\n",
            "Train - Epoch: 9, Loss: 173.2, AvgLoss: 168.1: 100%|██████████| 142/142 [00:29<00:00,  4.75it/s]\n",
            "Val  - Epoch: 9, Loss: 135.2, AvgLoss: 139.4: 100%|██████████| 36/36 [00:06<00:00,  5.41it/s]\n",
            "Train - Epoch: 10, Loss: 165.1, AvgLoss: 166.4: 100%|██████████| 142/142 [00:30<00:00,  4.72it/s]\n",
            "Val  - Epoch: 10, Loss: 141.2, AvgLoss: 139.5: 100%|██████████| 36/36 [00:06<00:00,  5.38it/s]\n",
            "Train - Epoch: 11, Loss: 173.9, AvgLoss: 164.9: 100%|██████████| 142/142 [00:29<00:00,  4.80it/s]\n",
            "Val  - Epoch: 11, Loss: 141.0, AvgLoss: 139.1: 100%|██████████| 36/36 [00:06<00:00,  5.30it/s]\n",
            "Train - Epoch: 12, Loss: 161.2, AvgLoss: 163.3: 100%|██████████| 142/142 [00:29<00:00,  4.76it/s]\n",
            "Val  - Epoch: 12, Loss: 137.6, AvgLoss: 139.0: 100%|██████████| 36/36 [00:06<00:00,  5.35it/s]\n",
            "Train - Epoch: 13, Loss: 161.3, AvgLoss: 161.7: 100%|██████████| 142/142 [00:29<00:00,  4.77it/s]\n",
            "Val  - Epoch: 13, Loss: 139.6, AvgLoss: 139.2: 100%|██████████| 36/36 [00:06<00:00,  5.30it/s]\n",
            "Train - Epoch: 14, Loss: 161.7, AvgLoss: 159.2: 100%|██████████| 142/142 [00:29<00:00,  4.76it/s]\n",
            "Val  - Epoch: 14, Loss: 140.8, AvgLoss: 137.6: 100%|██████████| 36/36 [00:06<00:00,  5.32it/s]\n",
            "Train - Epoch: 15, Loss: 157.3, AvgLoss: 157.4: 100%|██████████| 142/142 [00:30<00:00,  4.73it/s]\n",
            "Val  - Epoch: 15, Loss: 145.9, AvgLoss: 137.5: 100%|██████████| 36/36 [00:06<00:00,  5.30it/s]\n",
            "Train - Epoch: 16, Loss: 152.5, AvgLoss: 155.7: 100%|██████████| 142/142 [00:30<00:00,  4.72it/s]\n",
            "Val  - Epoch: 16, Loss: 140.8, AvgLoss: 141.4: 100%|██████████| 36/36 [00:06<00:00,  5.27it/s]\n",
            "Train - Epoch: 17, Loss: 154.4, AvgLoss: 154.4: 100%|██████████| 142/142 [00:30<00:00,  4.72it/s]\n",
            "Val  - Epoch: 17, Loss: 145.9, AvgLoss: 140.9: 100%|██████████| 36/36 [00:06<00:00,  5.21it/s]\n",
            "Train - Epoch: 18, Loss: 159.0, AvgLoss: 153.2: 100%|██████████| 142/142 [00:30<00:00,  4.72it/s]\n",
            "Val  - Epoch: 18, Loss: 141.3, AvgLoss: 138.4: 100%|██████████| 36/36 [00:06<00:00,  5.22it/s]\n",
            "Train - Epoch: 19, Loss: 155.5, AvgLoss: 151.7: 100%|██████████| 142/142 [00:29<00:00,  4.74it/s]\n",
            "Val  - Epoch: 19, Loss: 139.5, AvgLoss: 140.5: 100%|██████████| 36/36 [00:06<00:00,  5.40it/s]\n",
            "Train - Epoch: 20, Loss: 149.3, AvgLoss: 150.0: 100%|██████████| 142/142 [00:29<00:00,  4.79it/s]\n",
            "Val  - Epoch: 20, Loss: 153.1, AvgLoss: 150.6: 100%|██████████| 36/36 [00:06<00:00,  5.42it/s]\n",
            "Train - Epoch: 21, Loss: 150.9, AvgLoss: 146.8: 100%|██████████| 142/142 [00:29<00:00,  4.76it/s]\n",
            "Val  - Epoch: 21, Loss: 146.1, AvgLoss: 141.5: 100%|██████████| 36/36 [00:06<00:00,  5.25it/s]\n",
            "Train - Epoch: 22, Loss: 140.1, AvgLoss: 143.7: 100%|██████████| 142/142 [00:29<00:00,  4.76it/s]\n",
            "Val  - Epoch: 22, Loss: 133.8, AvgLoss: 127.2: 100%|██████████| 36/36 [00:06<00:00,  5.43it/s]\n",
            "Train - Epoch: 23, Loss: 132.3, AvgLoss: 141.2: 100%|██████████| 142/142 [00:29<00:00,  4.76it/s]\n",
            "Val  - Epoch: 23, Loss: 132.7, AvgLoss: 124.1: 100%|██████████| 36/36 [00:06<00:00,  5.34it/s]\n",
            "Train - Epoch: 24, Loss: 145.2, AvgLoss: 138.8: 100%|██████████| 142/142 [00:29<00:00,  4.75it/s]\n",
            "Val  - Epoch: 24, Loss: 118.0, AvgLoss: 117.0: 100%|██████████| 36/36 [00:06<00:00,  5.40it/s]\n",
            "Train - Epoch: 25, Loss: 138.3, AvgLoss: 136.0: 100%|██████████| 142/142 [00:30<00:00,  4.68it/s]\n",
            "Val  - Epoch: 25, Loss: 112.5, AvgLoss: 113.8: 100%|██████████| 36/36 [00:06<00:00,  5.20it/s]\n",
            "Train - Epoch: 26, Loss: 127.8, AvgLoss: 132.1: 100%|██████████| 142/142 [00:30<00:00,  4.63it/s]\n",
            "Val  - Epoch: 26, Loss: 109.7, AvgLoss: 108.3: 100%|██████████| 36/36 [00:06<00:00,  5.15it/s]\n",
            "Train - Epoch: 27, Loss: 127.3, AvgLoss: 128.1: 100%|██████████| 142/142 [00:30<00:00,  4.65it/s]\n",
            "Val  - Epoch: 27, Loss: 100.7, AvgLoss: 109.1: 100%|██████████| 36/36 [00:06<00:00,  5.24it/s]\n",
            "Train - Epoch: 28, Loss: 126.5, AvgLoss: 124.4: 100%|██████████| 142/142 [00:30<00:00,  4.62it/s]\n",
            "Val  - Epoch: 28, Loss: 103.1, AvgLoss: 98.54: 100%|██████████| 36/36 [00:06<00:00,  5.29it/s]\n",
            "Train - Epoch: 29, Loss: 114.2, AvgLoss: 121.3: 100%|██████████| 142/142 [00:30<00:00,  4.62it/s]\n",
            "Val  - Epoch: 29, Loss: 90.08, AvgLoss: 93.64: 100%|██████████| 36/36 [00:06<00:00,  5.19it/s]\n",
            "Train - Epoch: 30, Loss: 116.4, AvgLoss: 118.2: 100%|██████████| 142/142 [00:32<00:00,  4.39it/s]\n",
            "Val  - Epoch: 30, Loss: 89.98, AvgLoss: 90.3: 100%|██████████| 36/36 [00:07<00:00,  5.09it/s]\n",
            "Train - Epoch: 31, Loss: 112.8, AvgLoss: 115.4: 100%|██████████| 142/142 [00:32<00:00,  4.39it/s]\n",
            "Val  - Epoch: 31, Loss: 83.08, AvgLoss: 82.24: 100%|██████████| 36/36 [00:07<00:00,  5.09it/s]\n",
            "Train - Epoch: 32, Loss: 110.0, AvgLoss: 112.2: 100%|██████████| 142/142 [00:31<00:00,  4.45it/s]\n",
            "Val  - Epoch: 32, Loss: 88.64, AvgLoss: 83.12: 100%|██████████| 36/36 [00:07<00:00,  4.99it/s]\n",
            "Train - Epoch: 33, Loss: 114.2, AvgLoss: 109.6: 100%|██████████| 142/142 [00:32<00:00,  4.32it/s]\n",
            "Val  - Epoch: 33, Loss: 83.22, AvgLoss: 80.01: 100%|██████████| 36/36 [00:07<00:00,  4.87it/s]\n",
            "Train - Epoch: 34, Loss: 104.9, AvgLoss: 107.1: 100%|██████████| 142/142 [00:32<00:00,  4.34it/s]\n",
            "Val  - Epoch: 34, Loss: 76.59, AvgLoss: 75.88: 100%|██████████| 36/36 [00:07<00:00,  5.05it/s]\n",
            "Train - Epoch: 35, Loss: 105.7, AvgLoss: 104.8: 100%|██████████| 142/142 [00:30<00:00,  4.61it/s]\n",
            "Val  - Epoch: 35, Loss: 65.09, AvgLoss: 63.12: 100%|██████████| 36/36 [00:06<00:00,  5.26it/s]\n",
            "Train - Epoch: 36, Loss: 100.5, AvgLoss: 102.2: 100%|██████████| 142/142 [00:30<00:00,  4.65it/s]\n",
            "Val  - Epoch: 36, Loss: 72.25, AvgLoss: 66.99: 100%|██████████| 36/36 [00:06<00:00,  5.28it/s]\n",
            "Train - Epoch: 37, Loss: 99.46, AvgLoss: 99.84: 100%|██████████| 142/142 [00:30<00:00,  4.62it/s]\n",
            "Val  - Epoch: 37, Loss: 68.15, AvgLoss: 65.03: 100%|██████████| 36/36 [00:06<00:00,  5.20it/s]\n",
            "Train - Epoch: 38, Loss: 99.41, AvgLoss: 97.32: 100%|██████████| 142/142 [00:30<00:00,  4.66it/s]\n",
            "Val  - Epoch: 38, Loss: 58.43, AvgLoss: 58.3: 100%|██████████| 36/36 [00:06<00:00,  5.29it/s]\n",
            "Train - Epoch: 39, Loss: 91.92, AvgLoss: 94.76: 100%|██████████| 142/142 [00:30<00:00,  4.63it/s]\n",
            "Val  - Epoch: 39, Loss: 57.51, AvgLoss: 54.75: 100%|██████████| 36/36 [00:06<00:00,  5.28it/s]\n",
            "Train - Epoch: 40, Loss: 92.14, AvgLoss: 92.9: 100%|██████████| 142/142 [00:30<00:00,  4.67it/s]\n",
            "Val  - Epoch: 40, Loss: 48.13, AvgLoss: 54.12: 100%|██████████| 36/36 [00:06<00:00,  5.19it/s]\n",
            "Train - Epoch: 41, Loss: 88.04, AvgLoss: 90.64: 100%|██████████| 142/142 [00:30<00:00,  4.66it/s]\n",
            "Val  - Epoch: 41, Loss: 46.88, AvgLoss: 50.09: 100%|██████████| 36/36 [00:06<00:00,  5.27it/s]\n",
            "Train - Epoch: 42, Loss: 91.01, AvgLoss: 88.59: 100%|██████████| 142/142 [00:30<00:00,  4.70it/s]\n",
            "Val  - Epoch: 42, Loss: 45.95, AvgLoss: 47.19: 100%|██████████| 36/36 [00:06<00:00,  5.30it/s]\n",
            "Train - Epoch: 43, Loss: 84.28, AvgLoss: 86.43: 100%|██████████| 142/142 [00:29<00:00,  4.76it/s]\n",
            "Val  - Epoch: 43, Loss: 41.32, AvgLoss: 45.2: 100%|██████████| 36/36 [00:06<00:00,  5.33it/s]\n",
            "Train - Epoch: 44, Loss: 86.31, AvgLoss: 84.58: 100%|██████████| 142/142 [00:30<00:00,  4.70it/s]\n",
            "Val  - Epoch: 44, Loss: 39.52, AvgLoss: 41.98: 100%|██████████| 36/36 [00:06<00:00,  5.31it/s]\n",
            "Train - Epoch: 45, Loss: 79.71, AvgLoss: 82.97: 100%|██████████| 142/142 [00:30<00:00,  4.68it/s]\n",
            "Val  - Epoch: 45, Loss: 45.61, AvgLoss: 40.5: 100%|██████████| 36/36 [00:06<00:00,  5.24it/s]\n",
            "Train - Epoch: 46, Loss: 78.68, AvgLoss: 81.1: 100%|██████████| 142/142 [00:30<00:00,  4.70it/s]\n",
            "Val  - Epoch: 46, Loss: 41.4, AvgLoss: 41.81: 100%|██████████| 36/36 [00:06<00:00,  5.27it/s]\n",
            "Train - Epoch: 47, Loss: 80.63, AvgLoss: 79.1: 100%|██████████| 142/142 [00:32<00:00,  4.41it/s]\n",
            "Val  - Epoch: 47, Loss: 42.36, AvgLoss: 38.83: 100%|██████████| 36/36 [00:07<00:00,  5.10it/s]\n",
            "Train - Epoch: 48, Loss: 75.24, AvgLoss: 77.19: 100%|██████████| 142/142 [00:30<00:00,  4.69it/s]\n",
            "Val  - Epoch: 48, Loss: 40.11, AvgLoss: 37.43: 100%|██████████| 36/36 [00:06<00:00,  5.23it/s]\n",
            "Train - Epoch: 49, Loss: 75.0, AvgLoss: 75.36: 100%|██████████| 142/142 [00:30<00:00,  4.67it/s]\n",
            "Val  - Epoch: 49, Loss: 38.96, AvgLoss: 35.57: 100%|██████████| 36/36 [00:06<00:00,  5.30it/s]\n",
            "Train - Epoch: 50, Loss: 69.28, AvgLoss: 73.46: 100%|██████████| 142/142 [00:30<00:00,  4.67it/s]\n",
            "Val  - Epoch: 50, Loss: 26.84, AvgLoss: 32.2: 100%|██████████| 36/36 [00:06<00:00,  5.28it/s]\n",
            "Train - Epoch: 51, Loss: 70.24, AvgLoss: 71.5: 100%|██████████| 142/142 [00:30<00:00,  4.69it/s]\n",
            "Val  - Epoch: 51, Loss: 40.9, AvgLoss: 30.76: 100%|██████████| 36/36 [00:06<00:00,  5.37it/s]\n",
            "Train - Epoch: 52, Loss: 67.37, AvgLoss: 69.77: 100%|██████████| 142/142 [00:30<00:00,  4.67it/s]\n",
            "Val  - Epoch: 52, Loss: 24.8, AvgLoss: 31.85: 100%|██████████| 36/36 [00:06<00:00,  5.27it/s]\n",
            "Train - Epoch: 53, Loss: 67.49, AvgLoss: 67.76: 100%|██████████| 142/142 [00:30<00:00,  4.66it/s]\n",
            "Val  - Epoch: 53, Loss: 26.88, AvgLoss: 28.36: 100%|██████████| 36/36 [00:07<00:00,  5.13it/s]\n",
            "Train - Epoch: 54, Loss: 67.62, AvgLoss: 65.79: 100%|██████████| 142/142 [00:30<00:00,  4.69it/s]\n",
            "Val  - Epoch: 54, Loss: 24.48, AvgLoss: 26.79: 100%|██████████| 36/36 [00:06<00:00,  5.34it/s]\n",
            "Train - Epoch: 55, Loss: 65.96, AvgLoss: 63.8: 100%|██████████| 142/142 [00:30<00:00,  4.71it/s]\n",
            "Val  - Epoch: 55, Loss: 31.57, AvgLoss: 29.39: 100%|██████████| 36/36 [00:06<00:00,  5.21it/s]\n",
            "Train - Epoch: 56, Loss: 60.28, AvgLoss: 61.94: 100%|██████████| 142/142 [00:30<00:00,  4.66it/s]\n",
            "Val  - Epoch: 56, Loss: 25.57, AvgLoss: 26.55: 100%|██████████| 36/36 [00:06<00:00,  5.29it/s]\n",
            "Train - Epoch: 57, Loss: 57.72, AvgLoss: 59.9: 100%|██████████| 142/142 [00:30<00:00,  4.67it/s]\n",
            "Val  - Epoch: 57, Loss: 32.7, AvgLoss: 27.28: 100%|██████████| 36/36 [00:06<00:00,  5.29it/s]\n",
            "Train - Epoch: 58, Loss: 55.72, AvgLoss: 58.06: 100%|██████████| 142/142 [00:30<00:00,  4.64it/s]\n",
            "Val  - Epoch: 58, Loss: 24.25, AvgLoss: 24.68: 100%|██████████| 36/36 [00:06<00:00,  5.35it/s]\n",
            "Train - Epoch: 59, Loss: 50.75, AvgLoss: 56.4: 100%|██████████| 142/142 [00:30<00:00,  4.71it/s]\n",
            "Val  - Epoch: 59, Loss: 27.25, AvgLoss: 25.3: 100%|██████████| 36/36 [00:06<00:00,  5.31it/s]\n",
            "Train - Epoch: 60, Loss: 50.26, AvgLoss: 54.37: 100%|██████████| 142/142 [00:30<00:00,  4.67it/s]\n",
            "Val  - Epoch: 60, Loss: 20.68, AvgLoss: 22.3: 100%|██████████| 36/36 [00:06<00:00,  5.34it/s]\n",
            "Train - Epoch: 61, Loss: 51.74, AvgLoss: 52.9: 100%|██████████| 142/142 [00:30<00:00,  4.72it/s]\n",
            "Val  - Epoch: 61, Loss: 24.83, AvgLoss: 21.73: 100%|██████████| 36/36 [00:06<00:00,  5.29it/s]\n",
            "Train - Epoch: 62, Loss: 51.71, AvgLoss: 50.87: 100%|██████████| 142/142 [00:30<00:00,  4.67it/s]\n",
            "Val  - Epoch: 62, Loss: 25.46, AvgLoss: 21.59: 100%|██████████| 36/36 [00:06<00:00,  5.33it/s]\n",
            "Train - Epoch: 63, Loss: 47.77, AvgLoss: 49.31: 100%|██████████| 142/142 [00:30<00:00,  4.68it/s]\n",
            "Val  - Epoch: 63, Loss: 21.84, AvgLoss: 20.94: 100%|██████████| 36/36 [00:06<00:00,  5.19it/s]\n",
            "Train - Epoch: 64, Loss: 49.81, AvgLoss: 47.59: 100%|██████████| 142/142 [00:30<00:00,  4.69it/s]\n",
            "Val  - Epoch: 64, Loss: 19.21, AvgLoss: 20.06: 100%|██████████| 36/36 [00:06<00:00,  5.36it/s]\n",
            "Train - Epoch: 65, Loss: 43.33, AvgLoss: 46.11: 100%|██████████| 142/142 [00:30<00:00,  4.70it/s]\n",
            "Val  - Epoch: 65, Loss: 21.46, AvgLoss: 19.78: 100%|██████████| 36/36 [00:06<00:00,  5.23it/s]\n",
            "Train - Epoch: 66, Loss: 48.52, AvgLoss: 44.68: 100%|██████████| 142/142 [00:30<00:00,  4.69it/s]\n",
            "Val  - Epoch: 66, Loss: 21.96, AvgLoss: 20.75: 100%|██████████| 36/36 [00:06<00:00,  5.21it/s]\n",
            "Train - Epoch: 67, Loss: 39.92, AvgLoss: 43.4: 100%|██████████| 142/142 [00:30<00:00,  4.72it/s]\n",
            "Val  - Epoch: 67, Loss: 17.64, AvgLoss: 19.68: 100%|██████████| 36/36 [00:06<00:00,  5.35it/s]\n",
            "Train - Epoch: 68, Loss: 43.32, AvgLoss: 41.89: 100%|██████████| 142/142 [00:30<00:00,  4.68it/s]\n",
            "Val  - Epoch: 68, Loss: 20.36, AvgLoss: 18.66: 100%|██████████| 36/36 [00:06<00:00,  5.25it/s]\n",
            "Train - Epoch: 69, Loss: 39.83, AvgLoss: 40.56: 100%|██████████| 142/142 [00:30<00:00,  4.70it/s]\n",
            "Val  - Epoch: 69, Loss: 13.69, AvgLoss: 18.43: 100%|██████████| 36/36 [00:06<00:00,  5.26it/s]\n",
            "Train - Epoch: 70, Loss: 43.36, AvgLoss: 39.66: 100%|██████████| 142/142 [00:30<00:00,  4.68it/s]\n",
            "Val  - Epoch: 70, Loss: 15.35, AvgLoss: 18.96: 100%|██████████| 36/36 [00:06<00:00,  5.32it/s]\n",
            "Train - Epoch: 71, Loss: 37.68, AvgLoss: 38.41: 100%|██████████| 142/142 [00:30<00:00,  4.70it/s]\n",
            "Val  - Epoch: 71, Loss: 14.34, AvgLoss: 17.92: 100%|██████████| 36/36 [00:06<00:00,  5.26it/s]\n",
            "Train - Epoch: 72, Loss: 37.14, AvgLoss: 37.39: 100%|██████████| 142/142 [00:30<00:00,  4.69it/s]\n",
            "Val  - Epoch: 72, Loss: 20.33, AvgLoss: 18.17: 100%|██████████| 36/36 [00:06<00:00,  5.31it/s]\n",
            "Train - Epoch: 73, Loss: 35.72, AvgLoss: 36.74: 100%|██████████| 142/142 [00:30<00:00,  4.69it/s]\n",
            "Val  - Epoch: 73, Loss: 19.43, AvgLoss: 17.08: 100%|██████████| 36/36 [00:06<00:00,  5.35it/s]\n",
            "Train - Epoch: 74, Loss: 38.31, AvgLoss: 35.46: 100%|██████████| 142/142 [00:29<00:00,  4.77it/s]\n",
            "Val  - Epoch: 74, Loss: 16.59, AvgLoss: 17.01: 100%|██████████| 36/36 [00:06<00:00,  5.18it/s]\n",
            "Train - Epoch: 75, Loss: 33.85, AvgLoss: 34.84: 100%|██████████| 142/142 [00:30<00:00,  4.68it/s]\n",
            "Val  - Epoch: 75, Loss: 21.23, AvgLoss: 17.01: 100%|██████████| 36/36 [00:06<00:00,  5.26it/s]\n",
            "Train - Epoch: 76, Loss: 37.36, AvgLoss: 33.91: 100%|██████████| 142/142 [00:30<00:00,  4.62it/s]\n",
            "Val  - Epoch: 76, Loss: 16.92, AvgLoss: 19.03: 100%|██████████| 36/36 [00:06<00:00,  5.28it/s]\n",
            "Train - Epoch: 77, Loss: 30.07, AvgLoss: 33.04: 100%|██████████| 142/142 [00:30<00:00,  4.66it/s]\n",
            "Val  - Epoch: 77, Loss: 21.9, AvgLoss: 17.11: 100%|██████████| 36/36 [00:06<00:00,  5.36it/s]\n",
            "Train - Epoch: 78, Loss: 28.64, AvgLoss: 32.49: 100%|██████████| 142/142 [00:30<00:00,  4.69it/s]\n",
            "Val  - Epoch: 78, Loss: 15.01, AvgLoss: 16.52: 100%|██████████| 36/36 [00:06<00:00,  5.29it/s]\n",
            "Train - Epoch: 79, Loss: 35.06, AvgLoss: 31.78: 100%|██████████| 142/142 [00:30<00:00,  4.68it/s]\n",
            "Val  - Epoch: 79, Loss: 13.32, AvgLoss: 16.58: 100%|██████████| 36/36 [00:06<00:00,  5.32it/s]\n",
            "Train - Epoch: 80, Loss: 27.13, AvgLoss: 31.12: 100%|██████████| 142/142 [00:30<00:00,  4.71it/s]\n",
            "Val  - Epoch: 80, Loss: 13.9, AvgLoss: 16.8: 100%|██████████| 36/36 [00:06<00:00,  5.32it/s]\n",
            "Train - Epoch: 81, Loss: 31.3, AvgLoss: 30.61: 100%|██████████| 142/142 [00:30<00:00,  4.70it/s]\n",
            "Val  - Epoch: 81, Loss: 22.93, AvgLoss: 16.07: 100%|██████████| 36/36 [00:06<00:00,  5.29it/s]\n",
            "Train - Epoch: 82, Loss: 35.24, AvgLoss: 29.93: 100%|██████████| 142/142 [00:30<00:00,  4.72it/s]\n",
            "Val  - Epoch: 82, Loss: 17.97, AvgLoss: 16.06: 100%|██████████| 36/36 [00:06<00:00,  5.22it/s]\n",
            "Train - Epoch: 83, Loss: 29.49, AvgLoss: 29.48: 100%|██████████| 142/142 [00:30<00:00,  4.69it/s]\n",
            "Val  - Epoch: 83, Loss: 13.15, AvgLoss: 16.76: 100%|██████████| 36/36 [00:06<00:00,  5.30it/s]\n",
            "Train - Epoch: 84, Loss: 28.22, AvgLoss: 29.0: 100%|██████████| 142/142 [00:30<00:00,  4.72it/s]\n",
            "Val  - Epoch: 84, Loss: 15.31, AvgLoss: 15.96: 100%|██████████| 36/36 [00:06<00:00,  5.36it/s]\n",
            "Train - Epoch: 85, Loss: 30.2, AvgLoss: 28.47: 100%|██████████| 142/142 [00:30<00:00,  4.73it/s]\n",
            "Val  - Epoch: 85, Loss: 16.64, AvgLoss: 15.71: 100%|██████████| 36/36 [00:06<00:00,  5.33it/s]\n",
            "Train - Epoch: 86, Loss: 26.46, AvgLoss: 28.1: 100%|██████████| 142/142 [00:30<00:00,  4.63it/s]\n",
            "Val  - Epoch: 86, Loss: 18.01, AvgLoss: 16.05: 100%|██████████| 36/36 [00:06<00:00,  5.21it/s]\n",
            "Train - Epoch: 87, Loss: 25.05, AvgLoss: 27.55: 100%|██████████| 142/142 [00:30<00:00,  4.69it/s]\n",
            "Val  - Epoch: 87, Loss: 14.86, AvgLoss: 15.52: 100%|██████████| 36/36 [00:06<00:00,  5.28it/s]\n",
            "Train - Epoch: 88, Loss: 24.83, AvgLoss: 27.09: 100%|██████████| 142/142 [00:30<00:00,  4.66it/s]\n",
            "Val  - Epoch: 88, Loss: 15.68, AvgLoss: 15.21: 100%|██████████| 36/36 [00:06<00:00,  5.25it/s]\n",
            "Train - Epoch: 89, Loss: 27.63, AvgLoss: 26.7: 100%|██████████| 142/142 [00:30<00:00,  4.67it/s]\n",
            "Val  - Epoch: 89, Loss: 13.99, AvgLoss: 15.05: 100%|██████████| 36/36 [00:06<00:00,  5.34it/s]\n",
            "Train - Epoch: 90, Loss: 31.46, AvgLoss: 26.46: 100%|██████████| 142/142 [00:30<00:00,  4.69it/s]\n",
            "Val  - Epoch: 90, Loss: 16.83, AvgLoss: 15.62: 100%|██████████| 36/36 [00:06<00:00,  5.32it/s]\n",
            "Train - Epoch: 91, Loss: 26.39, AvgLoss: 26.1: 100%|██████████| 142/142 [00:30<00:00,  4.70it/s]\n",
            "Val  - Epoch: 91, Loss: 14.53, AvgLoss: 15.09: 100%|██████████| 36/36 [00:06<00:00,  5.21it/s]\n",
            "Train - Epoch: 92, Loss: 27.23, AvgLoss: 25.62: 100%|██████████| 142/142 [00:30<00:00,  4.68it/s]\n",
            "Val  - Epoch: 92, Loss: 15.14, AvgLoss: 15.31: 100%|██████████| 36/36 [00:06<00:00,  5.33it/s]\n",
            "Train - Epoch: 93, Loss: 25.35, AvgLoss: 25.18: 100%|██████████| 142/142 [00:30<00:00,  4.71it/s]\n",
            "Val  - Epoch: 93, Loss: 15.88, AvgLoss: 14.78: 100%|██████████| 36/36 [00:06<00:00,  5.33it/s]\n",
            "Train - Epoch: 94, Loss: 23.9, AvgLoss: 25.26: 100%|██████████| 142/142 [00:30<00:00,  4.73it/s]\n",
            "Val  - Epoch: 94, Loss: 13.54, AvgLoss: 15.44: 100%|██████████| 36/36 [00:06<00:00,  5.22it/s]\n",
            "Train - Epoch: 95, Loss: 22.86, AvgLoss: 24.73: 100%|██████████| 142/142 [00:30<00:00,  4.71it/s]\n",
            "Val  - Epoch: 95, Loss: 13.76, AvgLoss: 14.33: 100%|██████████| 36/36 [00:06<00:00,  5.22it/s]\n",
            "Train - Epoch: 96, Loss: 26.54, AvgLoss: 24.47: 100%|██████████| 142/142 [00:30<00:00,  4.70it/s]\n",
            "Val  - Epoch: 96, Loss: 17.96, AvgLoss: 15.2: 100%|██████████| 36/36 [00:06<00:00,  5.36it/s]\n",
            "Train - Epoch: 97, Loss: 26.16, AvgLoss: 24.07: 100%|██████████| 142/142 [00:30<00:00,  4.70it/s]\n",
            "Val  - Epoch: 97, Loss: 15.57, AvgLoss: 14.38: 100%|██████████| 36/36 [00:06<00:00,  5.37it/s]\n",
            "Train - Epoch: 98, Loss: 20.24, AvgLoss: 24.11: 100%|██████████| 142/142 [00:30<00:00,  4.71it/s]\n",
            "Val  - Epoch: 98, Loss: 14.87, AvgLoss: 15.23: 100%|██████████| 36/36 [00:06<00:00,  5.36it/s]\n",
            "Train - Epoch: 99, Loss: 23.5, AvgLoss: 23.79: 100%|██████████| 142/142 [00:30<00:00,  4.70it/s]\n",
            "Val  - Epoch: 99, Loss: 17.22, AvgLoss: 15.24: 100%|██████████| 36/36 [00:06<00:00,  5.36it/s]\n"
          ],
          "name": "stderr"
        }
      ]
    },
    {
      "cell_type": "markdown",
      "metadata": {
        "id": "UWGxxjR74DgQ",
        "colab_type": "text"
      },
      "source": [
        "Save the weights to our model if desired."
      ]
    },
    {
      "cell_type": "code",
      "metadata": {
        "id": "ZFfG4KXkfRfm",
        "colab_type": "code",
        "colab": {}
      },
      "source": [
        "torch.save(recognizer.state_dict(), 'recognizer.model')"
      ],
      "execution_count": 0,
      "outputs": []
    },
    {
      "cell_type": "code",
      "metadata": {
        "id": "863pRM2_qv7r",
        "colab_type": "code",
        "colab": {
          "base_uri": "https://localhost:8080/",
          "height": 122
        },
        "outputId": "fe4f37c0-5662-49e3-bf19-1920e8ae355e"
      },
      "source": [
        "from google.colab import drive\n",
        "drive.mount('/content/drive')"
      ],
      "execution_count": 335,
      "outputs": [
        {
          "output_type": "stream",
          "text": [
            "Go to this URL in a browser: https://accounts.google.com/o/oauth2/auth?client_id=947318989803-6bn6qk8qdgf4n4g3pfee6491hc0brc4i.apps.googleusercontent.com&redirect_uri=urn%3aietf%3awg%3aoauth%3a2.0%3aoob&response_type=code&scope=email%20https%3a%2f%2fwww.googleapis.com%2fauth%2fdocs.test%20https%3a%2f%2fwww.googleapis.com%2fauth%2fdrive%20https%3a%2f%2fwww.googleapis.com%2fauth%2fdrive.photos.readonly%20https%3a%2f%2fwww.googleapis.com%2fauth%2fpeopleapi.readonly\n",
            "\n",
            "Enter your authorization code:\n",
            "··········\n",
            "Mounted at /content/drive\n"
          ],
          "name": "stdout"
        }
      ]
    },
    {
      "cell_type": "code",
      "metadata": {
        "id": "RuW6B4smq5yV",
        "colab_type": "code",
        "colab": {}
      },
      "source": [
        "cp 'recognizer.model' '/content/drive/My Drive/datasets'"
      ],
      "execution_count": 0,
      "outputs": []
    },
    {
      "cell_type": "code",
      "metadata": {
        "id": "_nFPK2SCrFxZ",
        "colab_type": "code",
        "colab": {
          "base_uri": "https://localhost:8080/",
          "height": 119
        },
        "outputId": "89869040-a450-4066-873c-d5d6f7ba3eea"
      },
      "source": [
        "!ls -l"
      ],
      "execution_count": 339,
      "outputs": [
        {
          "output_type": "stream",
          "text": [
            "total 6068\n",
            "-rw-r--r-- 1 root root    5213 May 15 19:18 char_set.json\n",
            "drwx------ 4 root root    4096 May 15 23:29 drive\n",
            "drwxr-xr-x 3 root root    4096 May 15 19:18 iam\n",
            "-rw-r--r-- 1 root root 6190574 May 15 23:28 recognizer.model\n",
            "drwxr-xr-x 1 root root    4096 May 13 16:29 sample_data\n"
          ],
          "name": "stdout"
        }
      ]
    },
    {
      "cell_type": "code",
      "metadata": {
        "id": "iuot3RdVrNQW",
        "colab_type": "code",
        "colab": {
          "base_uri": "https://localhost:8080/",
          "height": 119
        },
        "outputId": "14b173ca-4ff3-4ec0-a006-1fd6d982bf80"
      },
      "source": [
        "!ls '/content/drive/My Drive/datasets'"
      ],
      "execution_count": 342,
      "outputs": [
        {
          "output_type": "stream",
          "text": [
            "esposalles-test.zip\t\t     hwr_model4\t\t rimes-line-level.zip\n",
            "esposalles.zip\t\t\t     iam-line-level.zip  rimes.zip\n",
            "french_record_detection_dataset.zip  iam.zip\t\t test_annos.json\n",
            "hwr_model1\t\t\t     maskrcnn.h5\t train_annos.json\n",
            "hwr_model2\t\t\t     missionary.tar.gz\n",
            "hwr_model3\t\t\t     recognizer.model\n"
          ],
          "name": "stdout"
        }
      ]
    },
    {
      "cell_type": "markdown",
      "metadata": {
        "id": "a0tviNtNzgVu",
        "colab_type": "text"
      },
      "source": [
        "### Results\n",
        "\n",
        "Display the loss curve of the model over time on both the training and\n",
        "validation sets."
      ]
    },
    {
      "cell_type": "code",
      "metadata": {
        "id": "7OLHXS_qZWCK",
        "colab_type": "code",
        "outputId": "87b0aa91-7ffd-46e2-ab46-6423ad33a6dd",
        "colab": {
          "base_uri": "https://localhost:8080/",
          "height": 295
        }
      },
      "source": [
        "plt.title('Loss on IAM Dataset')\n",
        "plt.xlabel('Epochs')\n",
        "plt.ylabel('Loss')\n",
        "plt.plot(train_losses, label='Train')\n",
        "plt.plot(val_losses, label='Val')\n",
        "plt.legend()\n",
        "plt.show()"
      ],
      "execution_count": 320,
      "outputs": [
        {
          "output_type": "display_data",
          "data": {
            "image/png": "[encoded data removed]",
            "text/plain": [
              "<Figure size 432x288 with 1 Axes>"
            ]
          },
          "metadata": {
            "tags": [],
            "needs_background": "light"
          }
        }
      ]
    },
    {
      "cell_type": "markdown",
      "metadata": {
        "id": "iaEnI8HNj5IG",
        "colab_type": "text"
      },
      "source": [
        "### Samples\n",
        "\n",
        "Let's test a few to get a feel for how our model is performing."
      ]
    },
    {
      "cell_type": "code",
      "metadata": {
        "id": "4HY4BQupj0Do",
        "colab_type": "code",
        "colab": {
          "base_uri": "https://localhost:8080/",
          "height": 1000
        },
        "outputId": "b697e070-3e4c-4c1a-bf91-e8eb353ae5fc"
      },
      "source": [
        "encoder = Encoder()\n",
        "dataset = IamDataset(total_imgs=20)\n",
        "\n",
        "dataloader = DataLoader(dataset, 20)\n",
        "\n",
        "imgs, labels = next(iter(dataloader))\n",
        "preds = model(imgs).permute(1, 0, 2)\n",
        "\n",
        "print(preds.argmax(dim=2).shape)\n",
        "\n",
        "for pred, img, label in zip(preds, imgs, labels):\n",
        "  imshow(img.squeeze(0), cmap='gray')\n",
        "  print(pred.shape)\n",
        "  plt.pause(.1)\n",
        "  print(pred.argmax(dim=1))\n",
        "\n",
        "  prediction = encoder.idxs_to_str_batch(pred.unsqueeze(0).argmax(dim=2))\n",
        "  print('Prediction:', prediction)\n",
        "  print('Target:', label)\n"
      ],
      "execution_count": 332,
      "outputs": [
        {
          "output_type": "stream",
          "text": [
            "torch.Size([20, 128])\n",
            "torch.Size([128, 197])\n"
          ],
          "name": "stdout"
        },
        {
          "output_type": "display_data",
          "data": {
            "image/png": "[encoded data removed]",
            "text/plain": [
              "<Figure size 432x288 with 1 Axes>"
            ]
          },
          "metadata": {
            "tags": [],
            "needs_background": "light"
          }
        },
        {
          "output_type": "stream",
          "text": [
            "tensor([ 18,  18,  18, 115,  18, 115,  18, 115,  18, 115, 159, 159, 159, 159,\n",
            "        159, 159,  18,  18, 115,  18,  18, 159, 130,  18,  18,  18,  18,  18,\n",
            "         18,  18,  18, 115,  18,  18,  18,  18,  18,  18,  18,  18,  18,  18,\n",
            "        159, 130,  18,  18,  18,  18,  18,  18,  18,  18,  18,  18,  18,  18,\n",
            "         18, 159, 159, 115,  18,  18, 115,  18, 115, 115, 115,  30, 115, 130,\n",
            "         18, 115, 130, 115,  18,  18,  18, 159,  18,  18, 115, 115, 115,  18,\n",
            "        115,  18, 115,  18,  18,  18,  18,  18, 115, 115, 130,  18,  18,  18,\n",
            "        115, 115,  18, 115, 115, 159, 159, 159,  18,  18,  18,  18,  18, 159,\n",
            "        159, 159, 115, 115,  18, 115, 118,  18,  18,  18,  18, 115,  18,  18,\n",
            "         18,  18], grad_fn=<NotImplemented>)\n",
            "Prediction: ['1à1à1à1àρ1à1ρó1à1ρó1ρà1à1à?àó1àóà1ρ1à1à1à1àó1à1àρ1ρà1àä1à1']\n",
            "Target: A MOVE to stop Mr. Gaitskell from\n",
            "torch.Size([128, 197])\n"
          ],
          "name": "stdout"
        },
        {
          "output_type": "display_data",
          "data": {
            "image/png": "[encoded data removed]",
            "text/plain": [
              "<Figure size 432x288 with 1 Axes>"
            ]
          },
          "metadata": {
            "tags": [],
            "needs_background": "light"
          }
        },
        {
          "output_type": "stream",
          "text": [
            "tensor([ 18,  18,  18, 115, 130, 130, 130, 130, 115,  18, 118, 118, 118,  18,\n",
            "         18,  18,  18, 115, 118, 118, 118,  18,  18, 143, 143,  18,  18,  18,\n",
            "         18,  18, 115, 115,  18,  18, 130, 115,  18,  18,  18,  18,  18,  18,\n",
            "        159, 115,  18, 115,  18,  18, 159, 159, 159, 159, 159, 115, 159,  18,\n",
            "        159,  18,  18, 115, 115, 115,  18,  18, 143, 115, 115, 118, 118, 115,\n",
            "         18,  18,  18, 143, 143, 115,  18,  18, 130,  18,  18,  18,  18,  18,\n",
            "         18,  18, 115,  18,  18,  18,  18, 118, 118,  18,  18, 115,  18, 159,\n",
            "        159, 130,  18, 159, 130,  18, 115, 130, 118,  18,  18, 115, 118, 118,\n",
            "        118,  18,  18,  18, 130, 130, 130, 130, 130, 115, 159, 159,  18, 115,\n",
            "        115,  18], grad_fn=<NotImplemented>)\n",
            "Prediction: ['1àóà1ä1àä1Ζ1à1óà1ρà1à1ρàρ1ρ1à1Ζàäà1Ζà1ó1à1ä1à1ρó1ρó1àóä1àä1óàρ1à1']\n",
            "Target: nominating any more Labour life Peers\n",
            "torch.Size([128, 197])\n"
          ],
          "name": "stdout"
        },
        {
          "output_type": "display_data",
          "data": {
            "image/png": "[encoded data removed]",
            "text/plain": [
              "<Figure size 432x288 with 1 Axes>"
            ]
          },
          "metadata": {
            "tags": [],
            "needs_background": "light"
          }
        },
        {
          "output_type": "stream",
          "text": [
            "tensor([ 18,  18,  18,  18, 130,  18, 115,  30,  30,  30, 115, 115, 159, 115,\n",
            "        115,  18, 159, 115, 159, 115,  30,  30,  30,  30,  30, 115, 130, 130,\n",
            "        115, 130, 130, 118,  18, 130, 118,  30,  30, 115,  30, 159,  30, 115,\n",
            "         30,  30,  30, 115,  30,  30, 159,  30,  30,  30,  30,  30,  30, 115,\n",
            "         18,  18, 159, 130, 159, 130, 130, 159, 159,  30,  30,  30,  30,  30,\n",
            "         30, 115, 115,  30,  30,  30, 118, 115,  30,  30,  30,  30,  30,  30,\n",
            "         30, 159, 130, 130, 115, 115, 130, 159, 130, 130, 159,  30,  30, 115,\n",
            "         30, 115,  30, 115,  30,  30, 115, 115, 159,  30, 159, 115, 130, 130,\n",
            "        130, 130, 130,  18, 115,  30, 115, 115,  30, 115,  30,  30, 143, 143,\n",
            "        130, 130], grad_fn=<NotImplemented>)\n",
            "Prediction: ['1ó1à?àρà1ρàρà?àóàóä1óä?à?ρ?à?à?ρ?à1ρóρóρ?à?äà?ρóàóρóρ?à?à?à?àρ?ρàó1à?à?à?Ζó']\n",
            "Target: is to be made at a meeting of Labour\n",
            "torch.Size([128, 197])\n"
          ],
          "name": "stdout"
        },
        {
          "output_type": "display_data",
          "data": {
            "image/png": "[encoded data removed]",
            "text/plain": [
              "<Figure size 432x288 with 1 Axes>"
            ]
          },
          "metadata": {
            "tags": [],
            "needs_background": "light"
          }
        },
        {
          "output_type": "stream",
          "text": [
            "tensor([ 18,  18,  18,  18,  18,  18, 115, 115,  18,  18,  18,  30, 115,  18,\n",
            "         18,  18,  18,  18,  18,  18,  18,  18, 159, 159, 115,  18, 115,  18,\n",
            "        115, 115,  18, 115,  18,  18,  18,  18,  18, 115,  18,  18,  18,  18,\n",
            "         18,  18,  18,  18, 115,  18, 115, 115,  18,  18,  18,  18,  18,  18,\n",
            "        115,  18,  18,  18,  18,  18, 115,  18,  18,  18,  18,  18,  18,  18,\n",
            "         18, 115, 130,  18,  18,  18,  18, 115, 115, 115,  18,  18,  18,  18,\n",
            "        115,  18,  18,  18,  18,  18,  18,  18, 115,  18, 115,  18,  18, 115,\n",
            "         18,  18,  18,  18,  18, 118, 115,  18,  18, 115,  18,  18,  18,  18,\n",
            "         18,  18,  18,  18,  18,  18,  18,  18,  18,  18,  18,  18,  18, 115,\n",
            "         18,  18], grad_fn=<NotImplemented>)\n",
            "Prediction: ['1à1?à1ρà1à1à1à1à1à1à1à1à1àó1à1à1à1à1à1äà1à1à1']\n",
            "Target: put down a resolution on the subject\n",
            "torch.Size([128, 197])\n"
          ],
          "name": "stdout"
        },
        {
          "output_type": "display_data",
          "data": {
            "image/png": "[encoded data removed]",
            "text/plain": [
              "<Figure size 432x288 with 1 Axes>"
            ]
          },
          "metadata": {
            "tags": [],
            "needs_background": "light"
          }
        },
        {
          "output_type": "stream",
          "text": [
            "tensor([  0,  18,  18,  18,  18, 115,  18,  18,  18,  18,  18,  18,  18,  18,\n",
            "         18,  18, 115,  18,  18,  18,  18, 159, 159, 115,  18,  18, 159, 115,\n",
            "         18,  18, 118, 118, 118, 118, 159, 159, 115,  18,  18, 159,  18, 115,\n",
            "         18, 159,  18,  18,  18,  18,  18,  18, 159, 159,  18, 115,  18, 143,\n",
            "         18,  18, 115,  18, 159, 159, 159,  18,  30,  30, 159,  30,  18, 159,\n",
            "         18,  18, 115,  18,  18,  18, 115,  18,  18,  18,  18,  18,  18,  18,\n",
            "         18,  18, 115, 143, 115, 159, 159, 115, 118, 115, 118, 118,  18, 115,\n",
            "        115, 115,  18,  18,  18,  18,  18, 159, 159, 159, 143, 143, 143, 115,\n",
            "         18, 115,  18, 115, 130,  18, 159, 159, 115, 130, 115,  18,  18,  18,\n",
            "        159,  18], grad_fn=<NotImplemented>)\n",
            "Prediction: ['1à1à1ρà1ρà1äρà1ρ1à1ρ1ρ1à1Ζ1à1ρ1?ρ?1ρ1à1à1àΖàρàäàä1à1ρΖà1à1àó1ρàóà1ρ1']\n",
            "Target: Griffiths, M P for Manchester Exchange.\n",
            "torch.Size([128, 197])\n"
          ],
          "name": "stdout"
        },
        {
          "output_type": "display_data",
          "data": {
            "image/png": "[encoded data removed]",
            "text/plain": [
              "<Figure size 432x288 with 1 Axes>"
            ]
          },
          "metadata": {
            "tags": [],
            "needs_background": "light"
          }
        },
        {
          "output_type": "stream",
          "text": [
            "tensor([ 18,  18, 115, 115, 115,  30,  18,  18,  18,  18,  18,  30,  30, 115,\n",
            "        115,  30,  30,  18,  30,  30,  30,  30,  30, 115, 115,  18, 115,  18,\n",
            "         30,  30,  30, 115,  30,  76,  76, 159, 159, 159, 159, 159, 115,  18,\n",
            "         18, 115,  18,  30, 115,  30,  30,  30,  18, 115,  18,  18,  30,  30,\n",
            "         18, 115,  18,  18, 115, 159, 159, 115,  18, 159,  18,  18,  18,  18,\n",
            "         18,  18,  18,  18,  18,  18,  18, 115,  18, 115,  18,  18, 115, 115,\n",
            "        115, 115,  18, 115,  18,  18,  18, 159,  18, 159, 159,  18, 159,  18,\n",
            "         18,  18, 115,  18,  18,  18,  76,  76,  76, 159,  18,  18,  18,  18,\n",
            "        115, 159,  18,  18, 115,  18,  18,  18,  18,  18,  18,  18,  18,  76,\n",
            "         76, 159], grad_fn=<NotImplemented>)\n",
            "Prediction: ['1à?1?à?1?à1à1?à?pρà1à1?à?1à1?1à1àρà1ρ1à1à1à1à1ρ1ρ1ρ1à1pρ1àρ1à1pρ']\n",
            "Target: A MOVE to stop Mr. Gaitskell from nominating\n",
            "torch.Size([128, 197])\n"
          ],
          "name": "stdout"
        },
        {
          "output_type": "display_data",
          "data": {
            "image/png": "[encoded data removed]",
            "text/plain": [
              "<Figure size 432x288 with 1 Axes>"
            ]
          },
          "metadata": {
            "tags": [],
            "needs_background": "light"
          }
        },
        {
          "output_type": "stream",
          "text": [
            "tensor([ 18,  18,  18,  18, 115,  18,  18,  18,  18, 115, 115,  18, 115,  18,\n",
            "        159,  18, 115, 115, 115,  18,  18,  18, 115, 115,  18, 115,  18, 159,\n",
            "         18, 159,  18,  18, 115,  18, 115,  18, 115,  18,  18,  18,  18, 115,\n",
            "         18, 115,  30,  30,  30, 115,  18, 159, 118, 115, 118, 115, 115,  18,\n",
            "         18,  18,  18,  18, 159,  18,  18,  18,  18,  18, 159, 159, 159, 115,\n",
            "        115,  18,  18,  18, 115,  18,  18, 115, 115, 115, 159, 159, 130, 115,\n",
            "        115,  18, 115, 159, 159, 159, 159, 159, 159, 159, 115, 115, 159,  18,\n",
            "         18, 159, 159, 115, 159, 159, 115, 159, 159,  18, 115, 159, 159, 159,\n",
            "         18,  18, 115,  18, 159, 159, 159, 159, 115, 159, 115, 159,  18,  18,\n",
            "         18,  76], grad_fn=<NotImplemented>)\n",
            "Prediction: ['1à1à1à1ρ1à1à1à1ρ1ρ1à1à1à1à1à?à1ρäàäà1ρ1ρà1à1àρóà1àρàρ1ρàρàρ1àρ1à1ρàρàρ1p']\n",
            "Target: any more Labour life Peers is to be made at a\n",
            "torch.Size([128, 197])\n"
          ],
          "name": "stdout"
        },
        {
          "output_type": "display_data",
          "data": {
            "image/png": "[encoded data removed]",
            "text/plain": [
              "<Figure size 432x288 with 1 Axes>"
            ]
          },
          "metadata": {
            "tags": [],
            "needs_background": "light"
          }
        },
        {
          "output_type": "stream",
          "text": [
            "tensor([115,  18,  18,  18,  18,  18,  18,  18, 115, 159, 159,  18,  18,  18,\n",
            "         18, 115, 115, 159,  18, 115, 115,  30,  30,  18,  18,  18,  18,  18,\n",
            "         18,  18, 115,  30,  30, 115, 159, 115, 143, 115, 159, 115,  18,  18,\n",
            "        159, 115,  18,  18,  18,  18,  18,  18, 159, 159, 159,  18,  18, 115,\n",
            "         18,  18,  18,  18,  18,  18,  18,  18,  18,  18,  18,  18, 115,  18,\n",
            "        115, 115, 115,  18,  18,  18,  18, 159, 115, 159, 159,  18, 159,  18,\n",
            "        115,  18,  18, 115,  18, 159, 159, 159,  18,  18, 159, 115, 115,  18,\n",
            "        159, 115, 159, 159, 159,  18, 115,  18,  18, 115, 115, 159, 159, 159,\n",
            "        159, 118, 118, 115, 118, 159,  18,  76, 159,  18,  18,  18, 115,  18,\n",
            "        115,  76], grad_fn=<NotImplemented>)\n",
            "Prediction: ['à1àρ1àρ1à?1à?àρàΖàρà1ρà1ρ1à1à1à1ρàρ1ρ1à1à1ρ1ρà1ρàρ1à1àρäàäρ1pρ1à1àp']\n",
            "Target: meeting of Labour 0M Ps tomorrow. Mr. Michael\n",
            "torch.Size([128, 197])\n"
          ],
          "name": "stdout"
        },
        {
          "output_type": "display_data",
          "data": {
            "image/png": "[encoded data removed]",
            "text/plain": [
              "<Figure size 432x288 with 1 Axes>"
            ]
          },
          "metadata": {
            "tags": [],
            "needs_background": "light"
          }
        },
        {
          "output_type": "stream",
          "text": [
            "tensor([ 18,  18,  18,  18, 115,  18, 118, 115, 115,  18,  18,  18, 115, 115,\n",
            "        118, 118, 118, 115, 115,  18,  18,  18,  18, 118, 118, 118, 118, 118,\n",
            "         18, 159, 115,  18,  18, 159, 159, 159,  18,  18, 118, 115,  18,  18,\n",
            "        115, 159, 115,  18, 159,  18, 159,  18, 115, 115, 118, 115, 115, 118,\n",
            "        115,  18,  18, 159, 118, 118, 118, 118,  18,  18,  18, 115, 115, 159,\n",
            "        118, 118, 159, 118, 118, 115, 118, 115, 118, 159,  18, 159,  18,  18,\n",
            "         18, 159, 159,  18,  18,  18,  18, 118, 115, 115, 118, 118, 115, 115,\n",
            "        115, 115, 118, 118, 118, 118, 118, 118, 118, 115, 118, 118, 115, 115,\n",
            "        118, 118, 118, 118, 118, 118, 118, 115, 159, 159, 159, 115, 159, 159,\n",
            "        159, 159], grad_fn=<NotImplemented>)\n",
            "Prediction: ['1à1äà1àäà1ä1ρà1ρ1äà1àρà1ρ1ρ1àäàäà1ρä1àρäρäàäàäρ1ρ1ρ1äàäàäàäàäàρàρ']\n",
            "Target: Foot has put down a resolution on the subject\n",
            "torch.Size([128, 197])\n"
          ],
          "name": "stdout"
        },
        {
          "output_type": "display_data",
          "data": {
            "image/png": "[encoded data removed]",
            "text/plain": [
              "<Figure size 432x288 with 1 Axes>"
            ]
          },
          "metadata": {
            "tags": [],
            "needs_background": "light"
          }
        },
        {
          "output_type": "stream",
          "text": [
            "tensor([115,  18,  18, 115,  18,  30,  30,  30, 115,  30,  30,  30,  30,  30,\n",
            "        115,  30, 159, 159, 159, 159,  18, 115,  18, 115,  18,  18,  18,  30,\n",
            "         30, 115, 159, 159, 159, 159, 159, 115,  18,  18,  18, 115,  18,  18,\n",
            "         18, 159,  18, 115,  18,  18,  18,  18,  18,  18,  18,  18, 115, 115,\n",
            "         30, 115, 159,  30,  30,  76, 159, 159, 159, 115, 159,  18, 115,  18,\n",
            "         18,  18,  18, 115,  18,  18,  18,  18, 115,  30,  30,  30,  30,  30,\n",
            "         18,  18, 159,  18, 115,  18, 159, 159, 159, 115,  18, 115,  18,  18,\n",
            "        159, 159, 118,  30,  30, 173,  76, 159,  18,  18,  76, 159, 159, 159,\n",
            "        159,  18,  18, 115, 159, 159, 115, 130, 130, 130,  76,  76, 159, 115,\n",
            "         18,  76], grad_fn=<NotImplemented>)\n",
            "Prediction: ['à1à1?à?à?ρ1à1à1?àρà1à1ρ1à1à?àρ?pρàρ1à1à1à?1ρ1à1ρà1à1ρä?‰pρ1pρ1àρàópρà1p']\n",
            "Target: and he is to be backed by Mr. Will Griffiths,\n",
            "torch.Size([128, 197])\n"
          ],
          "name": "stdout"
        },
        {
          "output_type": "display_data",
          "data": {
            "image/png": "[encoded data removed]",
            "text/plain": [
              "<Figure size 432x288 with 1 Axes>"
            ]
          },
          "metadata": {
            "tags": [],
            "needs_background": "light"
          }
        },
        {
          "output_type": "stream",
          "text": [
            "tensor([ 18,  18,  18,  18,  18, 159, 159, 159, 159,  18, 159,  30,  30, 115,\n",
            "         18, 115,  30,  30,  30,  18, 159,  18, 159, 159,  18,  18,  18, 115,\n",
            "         18,  18, 159, 159, 115, 115,  30, 115,  30,  30,  18, 130,  18,  18,\n",
            "         18,  18, 159,  18, 159, 115,  18, 159,  18,  18,  18, 159, 159, 115,\n",
            "        115, 115, 130, 159, 159,  18, 159, 115, 115, 115,  18, 159, 159, 115,\n",
            "        115, 159, 159, 115, 115, 159,  18, 159, 130, 130,  18,  18, 159, 159,\n",
            "        159, 115, 159, 159, 130, 130, 159, 159, 159, 159, 130,  18,  18, 115,\n",
            "         18,  18, 115, 159,  18, 115, 115, 159,  18, 159, 159, 159, 159, 159,\n",
            "        115, 115,  18, 115, 115, 115, 159, 159, 159, 159, 115, 159, 115, 115,\n",
            "        115,  18], grad_fn=<NotImplemented>)\n",
            "Prediction: ['1ρ1ρ?à1à?1ρ1ρ1à1ρà?à?1ó1ρ1ρà1ρ1ρàóρ1ρà1ρàρàρ1ρó1ρàρóρó1à1àρ1àρ1ρà1àρàρà1']\n",
            "Target: 0M P for Manchester Exchange.\n",
            "torch.Size([128, 197])\n"
          ],
          "name": "stdout"
        },
        {
          "output_type": "display_data",
          "data": {
            "image/png": "[encoded data removed]",
            "text/plain": [
              "<Figure size 432x288 with 1 Axes>"
            ]
          },
          "metadata": {
            "tags": [],
            "needs_background": "light"
          }
        },
        {
          "output_type": "stream",
          "text": [
            "tensor([ 18,  18,  18,  18,  18, 115,  18, 130, 130, 159, 115, 130, 130, 115,\n",
            "         18, 159, 159,  18, 115,  18, 115, 130,  30, 130, 130, 130, 130, 130,\n",
            "        130, 130,  18,  18,  18,  18,  18,  18,  18, 115,  18, 115, 159, 115,\n",
            "        130, 115,  18,  18, 115,  18,  18,  18,  18,  18,  30,  30, 130, 130,\n",
            "        159, 118, 118, 115, 115, 115,  18,  18,  18, 159, 115,  18,  18, 115,\n",
            "        130, 115,  18,  30,  18,  30,  30, 143, 130,  18,  18,  18,  18,  18,\n",
            "         18,  18, 115,  30, 115, 159, 130,  18, 159, 130, 130, 159, 130, 130,\n",
            "         18, 159,  18, 159, 159, 159, 159, 130, 130, 130, 115, 115, 118, 118,\n",
            "        118, 159, 118, 159, 118, 118, 130, 159, 130, 118, 118, 115,  18, 115,\n",
            "         18,  18], grad_fn=<NotImplemented>)\n",
            "Prediction: ['1à1óρàóà1ρ1à1àó?ó1à1àρàóà1à1?óρäà1ρà1àóà1?1?Ζó1à?àρó1ρóρó1ρ1ρóàäρäρäóρóäà1à1']\n",
            "Target: Though they may gather some Left-wing support, a\n",
            "torch.Size([128, 197])\n"
          ],
          "name": "stdout"
        },
        {
          "output_type": "display_data",
          "data": {
            "image/png": "[encoded data removed]",
            "text/plain": [
              "<Figure size 432x288 with 1 Axes>"
            ]
          },
          "metadata": {
            "tags": [],
            "needs_background": "light"
          }
        },
        {
          "output_type": "stream",
          "text": [
            "tensor([ 18,  18,  18,  18,  18,  18, 115,  18,  18,  18,  18, 159, 159, 159,\n",
            "         18, 115,  18,  18,  18, 159,  18, 159, 115,  18,  18,  18,  18,  18,\n",
            "        115,  18, 115,  18, 115,  18,  18,  18,  18, 115,  18,  18,  18,  18,\n",
            "         18,  18, 159,  18, 159, 115, 115, 115, 159, 159,  18,  18,  18,  18,\n",
            "         18, 115,  18, 115,  18, 159, 159,  18, 115, 115,  18,  18,  18,  18,\n",
            "         18,  18,  18,  18,  18,  18, 115,  30,  30,  18,  18,  18,  18,  18,\n",
            "         30,  18,  18,  18,  18,  18, 159, 159, 115,  18,  18, 115,  18, 115,\n",
            "         18,  18, 115,  18, 130, 130,  18,  18,  18,  18,  18, 115, 115,  30,\n",
            "        115,  30,  30, 159,  18, 115,  18, 159, 159, 159, 159, 159, 159, 159,\n",
            "        115, 159], grad_fn=<NotImplemented>)\n",
            "Prediction: ['1à1ρ1à1ρ1ρà1à1à1à1à1ρ1ρàρ1à1à1ρ1à1à?1?1ρà1à1à1à1ó1à?à?ρ1à1ρàρ']\n",
            "Target: large majority of Labour M Ps are likely to\n",
            "torch.Size([128, 197])\n"
          ],
          "name": "stdout"
        },
        {
          "output_type": "display_data",
          "data": {
            "image/png": "[encoded data removed]",
            "text/plain": [
              "<Figure size 432x288 with 1 Axes>"
            ]
          },
          "metadata": {
            "tags": [],
            "needs_background": "light"
          }
        },
        {
          "output_type": "stream",
          "text": [
            "tensor([115,  18,  18,  18,  18,  18,  18,  30,  30,  30,  30, 115, 115, 115,\n",
            "         18,  18,  18,  18,  18,  18,  18,  18,  18, 115,  18,  18, 159,  18,\n",
            "         18, 115, 115,  18,  30, 159,  30,  18, 159, 159, 115,  18,  18,  18,\n",
            "         30,  30,  30,  18, 115,  18, 159,  18,  18,  18, 115,  18,  18,  18,\n",
            "         18,  18,  18, 115, 159,  18,  18,  18,  18,  18,  18,  18,  18,  30,\n",
            "         18,  18, 115,  18,  18,  18,  18, 115, 115,  18,  18,  18,  18,  18,\n",
            "         18, 115,  18,  18,  18, 115,  18,  18,  30,  30,  30,  18,  18, 115,\n",
            "        130, 115, 159, 115, 159, 159, 115, 115, 159,  18,  18,  18, 159, 115,\n",
            "        115, 115,  18, 159, 159, 159, 115, 130, 115, 130, 115, 130, 159,  18,\n",
            "         18,  18], grad_fn=<NotImplemented>)\n",
            "Prediction: ['à1?à1à1ρ1à1?ρ?1ρà1?1à1ρ1à1àρ1?1à1à1à1à1?1àóàρàρàρ1ρà1ρàóàóàóρ1']\n",
            "Target: turn down the Foot-Griffiths resolution. Mr.\n",
            "torch.Size([128, 197])\n"
          ],
          "name": "stdout"
        },
        {
          "output_type": "display_data",
          "data": {
            "image/png": "[encoded data removed]",
            "text/plain": [
              "<Figure size 432x288 with 1 Axes>"
            ]
          },
          "metadata": {
            "tags": [],
            "needs_background": "light"
          }
        },
        {
          "output_type": "stream",
          "text": [
            "tensor([ 18,  18,  18,  18, 115, 115,  18, 115,  18,  18,  18,  30,  30, 115,\n",
            "         18, 115,  18,  18,  18, 115,  18,  18,  18,  18, 115, 115, 118, 118,\n",
            "        118, 118, 118, 115, 118, 118, 115, 118, 118, 115,  18,  18,  18,  18,\n",
            "         18,  18,  18, 115,  18,  18, 115,  18,  18,  18, 118, 118, 118, 118,\n",
            "        118,  18,  18,  18,  18,  18,  18, 115,  18,  18,  18,  18,  18,  18,\n",
            "         30,  30, 115, 115, 115,  18, 118,  18,  18,  18,  18,  18,  18, 159,\n",
            "        130,  18,  18,  18,  18,  18, 115, 159,  18, 115,  18,  18,  18,  18,\n",
            "         18,  18,  18,  18,  18, 115,  18,  18,  18,  18,  18,  18,  18,  18,\n",
            "         18,  18, 115,  18,  18,  18,  18,  18,  18, 115,  18,  18,  18,  18,\n",
            "        115, 159], grad_fn=<NotImplemented>)\n",
            "Prediction: ['1à1à1?à1à1à1àäàäàäà1à1à1ä1à1?à1ä1ρó1àρ1à1à1à1à1àρ']\n",
            "Target: Foot's line will be that as Labour M Ps\n",
            "torch.Size([128, 197])\n"
          ],
          "name": "stdout"
        },
        {
          "output_type": "display_data",
          "data": {
            "image/png": "[encoded data removed]",
            "text/plain": [
              "<Figure size 432x288 with 1 Axes>"
            ]
          },
          "metadata": {
            "tags": [],
            "needs_background": "light"
          }
        },
        {
          "output_type": "error",
          "ename": "KeyboardInterrupt",
          "evalue": "ignored",
          "traceback": [
            "\u001b[0;31m---------------------------------------------------------------------------\u001b[0m",
            "\u001b[0;31mKeyboardInterrupt\u001b[0m                         Traceback (most recent call last)",
            "\u001b[0;32m<ipython-input-332-9e3118760f97>\u001b[0m in \u001b[0;36m<module>\u001b[0;34m()\u001b[0m\n\u001b[1;32m     12\u001b[0m   \u001b[0mimshow\u001b[0m\u001b[0;34m(\u001b[0m\u001b[0mimg\u001b[0m\u001b[0;34m.\u001b[0m\u001b[0msqueeze\u001b[0m\u001b[0;34m(\u001b[0m\u001b[0;36m0\u001b[0m\u001b[0;34m)\u001b[0m\u001b[0;34m,\u001b[0m \u001b[0mcmap\u001b[0m\u001b[0;34m=\u001b[0m\u001b[0;34m'gray'\u001b[0m\u001b[0;34m)\u001b[0m\u001b[0;34m\u001b[0m\u001b[0;34m\u001b[0m\u001b[0m\n\u001b[1;32m     13\u001b[0m   \u001b[0mprint\u001b[0m\u001b[0;34m(\u001b[0m\u001b[0mpred\u001b[0m\u001b[0;34m.\u001b[0m\u001b[0mshape\u001b[0m\u001b[0;34m)\u001b[0m\u001b[0;34m\u001b[0m\u001b[0;34m\u001b[0m\u001b[0m\n\u001b[0;32m---> 14\u001b[0;31m   \u001b[0mplt\u001b[0m\u001b[0;34m.\u001b[0m\u001b[0mpause\u001b[0m\u001b[0;34m(\u001b[0m\u001b[0;36m.1\u001b[0m\u001b[0;34m)\u001b[0m\u001b[0;34m\u001b[0m\u001b[0;34m\u001b[0m\u001b[0m\n\u001b[0m\u001b[1;32m     15\u001b[0m   \u001b[0mprint\u001b[0m\u001b[0;34m(\u001b[0m\u001b[0mpred\u001b[0m\u001b[0;34m.\u001b[0m\u001b[0margmax\u001b[0m\u001b[0;34m(\u001b[0m\u001b[0mdim\u001b[0m\u001b[0;34m=\u001b[0m\u001b[0;36m1\u001b[0m\u001b[0;34m)\u001b[0m\u001b[0;34m)\u001b[0m\u001b[0;34m\u001b[0m\u001b[0;34m\u001b[0m\u001b[0m\n\u001b[1;32m     16\u001b[0m \u001b[0;34m\u001b[0m\u001b[0m\n",
            "\u001b[0;32m/usr/local/lib/python3.6/dist-packages/matplotlib/pyplot.py\u001b[0m in \u001b[0;36mpause\u001b[0;34m(interval)\u001b[0m\n\u001b[1;32m    311\u001b[0m             \u001b[0mcanvas\u001b[0m\u001b[0;34m.\u001b[0m\u001b[0mdraw_idle\u001b[0m\u001b[0;34m(\u001b[0m\u001b[0;34m)\u001b[0m\u001b[0;34m\u001b[0m\u001b[0;34m\u001b[0m\u001b[0m\n\u001b[1;32m    312\u001b[0m         \u001b[0mshow\u001b[0m\u001b[0;34m(\u001b[0m\u001b[0mblock\u001b[0m\u001b[0;34m=\u001b[0m\u001b[0;32mFalse\u001b[0m\u001b[0;34m)\u001b[0m\u001b[0;34m\u001b[0m\u001b[0;34m\u001b[0m\u001b[0m\n\u001b[0;32m--> 313\u001b[0;31m         \u001b[0mcanvas\u001b[0m\u001b[0;34m.\u001b[0m\u001b[0mstart_event_loop\u001b[0m\u001b[0;34m(\u001b[0m\u001b[0minterval\u001b[0m\u001b[0;34m)\u001b[0m\u001b[0;34m\u001b[0m\u001b[0;34m\u001b[0m\u001b[0m\n\u001b[0m\u001b[1;32m    314\u001b[0m     \u001b[0;32melse\u001b[0m\u001b[0;34m:\u001b[0m\u001b[0;34m\u001b[0m\u001b[0;34m\u001b[0m\u001b[0m\n\u001b[1;32m    315\u001b[0m         \u001b[0mtime\u001b[0m\u001b[0;34m.\u001b[0m\u001b[0msleep\u001b[0m\u001b[0;34m(\u001b[0m\u001b[0minterval\u001b[0m\u001b[0;34m)\u001b[0m\u001b[0;34m\u001b[0m\u001b[0;34m\u001b[0m\u001b[0m\n",
            "\u001b[0;32m/usr/local/lib/python3.6/dist-packages/matplotlib/backend_bases.py\u001b[0m in \u001b[0;36mstart_event_loop\u001b[0;34m(self, timeout)\u001b[0m\n\u001b[1;32m   2287\u001b[0m         \u001b[0;32mwhile\u001b[0m \u001b[0mself\u001b[0m\u001b[0;34m.\u001b[0m\u001b[0m_looping\u001b[0m \u001b[0;32mand\u001b[0m \u001b[0mcounter\u001b[0m \u001b[0;34m*\u001b[0m \u001b[0mtimestep\u001b[0m \u001b[0;34m<\u001b[0m \u001b[0mtimeout\u001b[0m\u001b[0;34m:\u001b[0m\u001b[0;34m\u001b[0m\u001b[0;34m\u001b[0m\u001b[0m\n\u001b[1;32m   2288\u001b[0m             \u001b[0mself\u001b[0m\u001b[0;34m.\u001b[0m\u001b[0mflush_events\u001b[0m\u001b[0;34m(\u001b[0m\u001b[0;34m)\u001b[0m\u001b[0;34m\u001b[0m\u001b[0;34m\u001b[0m\u001b[0m\n\u001b[0;32m-> 2289\u001b[0;31m             \u001b[0mtime\u001b[0m\u001b[0;34m.\u001b[0m\u001b[0msleep\u001b[0m\u001b[0;34m(\u001b[0m\u001b[0mtimestep\u001b[0m\u001b[0;34m)\u001b[0m\u001b[0;34m\u001b[0m\u001b[0;34m\u001b[0m\u001b[0m\n\u001b[0m\u001b[1;32m   2290\u001b[0m             \u001b[0mcounter\u001b[0m \u001b[0;34m+=\u001b[0m \u001b[0;36m1\u001b[0m\u001b[0;34m\u001b[0m\u001b[0;34m\u001b[0m\u001b[0m\n\u001b[1;32m   2291\u001b[0m \u001b[0;34m\u001b[0m\u001b[0m\n",
            "\u001b[0;31mKeyboardInterrupt\u001b[0m: "
          ]
        }
      ]
    }
  ]
}