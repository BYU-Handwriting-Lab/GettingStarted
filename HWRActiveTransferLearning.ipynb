{
  "nbformat": 4,
  "nbformat_minor": 0,
  "metadata": {
    "colab": {
      "name": "HWRActiveTransferLearning.ipynb",
      "provenance": [],
      "authorship_tag": "ABX9TyONEbUAkC7glTWZSZW7Rgyg",
      "include_colab_link": true
    },
    "kernelspec": {
      "name": "python3",
      "display_name": "Python 3"
    }
  },
  "cells": [
    {
      "cell_type": "markdown",
      "metadata": {
        "id": "view-in-github",
        "colab_type": "text"
      },
      "source": [
        "<a href=\"https://colab.research.google.com/github/BYU-Handwriting-Lab/GettingStarted/blob/master/HWRActiveTransferLearning.ipynb\" target=\"_parent\"><img src=\"https://colab.research.google.com/assets/colab-badge.svg\" alt=\"Open In Colab\"/></a>"
      ]
    },
    {
      "cell_type": "markdown",
      "metadata": {
        "id": "GCYwlAtU1xbC"
      },
      "source": [
        "# Combining Active Learning & Transfer Learning for Handwriting Recognition\n",
        "\n",
        "This notebook contains code to combine active and transfer learning into a\n",
        "cohesive framework. The hope is to allow for new handwriting datasets to be\n",
        "fitted quickly."
      ]
    },
    {
      "cell_type": "code",
      "metadata": {
        "id": "D5vaA6qQ1xFj"
      },
      "source": [
        ""
      ],
      "execution_count": null,
      "outputs": []
    }
  ]
}